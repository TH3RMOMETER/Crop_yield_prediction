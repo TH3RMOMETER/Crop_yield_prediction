{
 "cells": [
  {
   "cell_type": "code",
   "execution_count": 19,
   "metadata": {},
   "outputs": [],
   "source": [
    "from sentinelhub import SHConfig\n",
    "\n",
    "config = SHConfig()\n",
    "config.instance_id = '0347fe1d-150a-4ad7-9244-9069a9b25839'\n",
    "#config.instance_id = '84fe96a5-c0dc-4a72-85ad-6831fb2e5c8b'\n",
    "config.sh_client_id = '470b0865-7123-4b24-a062-cec503e427d8'\n",
    "config.sh_client_secret = 'x~!ad,O(CGi?q(Bp~:OM395]_;HeO1/*?))}!+1W'\n",
    "config.download_timeout_seconds = 1200\n",
    "config.save()\n",
    "if not config.sh_client_id or not config.sh_client_secret:\n",
    "    print(\"Warning! To use Process API, please provide the credentials (OAuth client ID and client secret).\")"
   ]
  },
  {
   "cell_type": "code",
   "execution_count": 20,
   "metadata": {},
   "outputs": [],
   "source": [
    "#pip install sentinelhub"
   ]
  },
  {
   "cell_type": "code",
   "execution_count": 21,
   "metadata": {},
   "outputs": [],
   "source": [
    "%reload_ext autoreload\n",
    "%autoreload 2\n",
    "%matplotlib inline"
   ]
  },
  {
   "cell_type": "code",
   "execution_count": 22,
   "metadata": {},
   "outputs": [],
   "source": [
    "%matplotlib inline\n",
    "\n",
    "import geopandas as gpd\n",
    "import matplotlib.pyplot as plt\n",
    "import numpy as np\n",
    "import pandas as pd\n",
    "import seaborn as sns\n",
    "\n",
    "from sentinelhub import (\n",
    "    CRS,\n",
    "    BBox,\n",
    "    DataCollection,\n",
    "    Geometry,\n",
    "    SentinelHubStatistical,\n",
    "    SentinelHubStatisticalDownloadClient,\n",
    "    SHConfig,\n",
    "    parse_time,\n",
    ")"
   ]
  },
  {
   "cell_type": "code",
   "execution_count": 23,
   "metadata": {},
   "outputs": [],
   "source": [
    "def stats_to_df(stats_data):\n",
    "    \"\"\"Transform Statistical API response into a pandas.DataFrame\"\"\"\n",
    "    df_data = []\n",
    "\n",
    "    for single_data in stats_data[\"data\"]:\n",
    "        df_entry = {}\n",
    "        is_valid_entry = True\n",
    "\n",
    "        df_entry[\"interval_from\"] = parse_time(single_data[\"interval\"][\"from\"]).date()\n",
    "        df_entry[\"interval_to\"] = parse_time(single_data[\"interval\"][\"to\"]).date()\n",
    "\n",
    "        for output_name, output_data in single_data[\"outputs\"].items():\n",
    "            for band_name, band_values in output_data[\"bands\"].items():\n",
    "                band_stats = band_values[\"stats\"]\n",
    "                if band_stats[\"sampleCount\"] == band_stats[\"noDataCount\"]:\n",
    "                    is_valid_entry = False\n",
    "                    break\n",
    "\n",
    "                for stat_name, value in band_stats.items():\n",
    "                    col_name = f\"{output_name}_{band_name}_{stat_name}\"\n",
    "                    if stat_name == \"percentiles\":\n",
    "                        for perc, perc_val in value.items():\n",
    "                            perc_col_name = f\"{col_name}_{perc}\"\n",
    "                            df_entry[perc_col_name] = perc_val\n",
    "                    else:\n",
    "                        df_entry[col_name] = value\n",
    "\n",
    "        if is_valid_entry:\n",
    "            df_data.append(df_entry)\n",
    "\n",
    "    return pd.DataFrame(df_data)"
   ]
  },
  {
   "cell_type": "code",
   "execution_count": 24,
   "metadata": {},
   "outputs": [],
   "source": [
    "import geopandas as gpd\n",
    "polygon = gpd.read_file('agri_46.geojson')\n",
    "#polygon.geometry.values[0]\n",
    "#for plot in polygon.geometry.values:"
   ]
  },
  {
   "cell_type": "code",
   "execution_count": 25,
   "metadata": {},
   "outputs": [],
   "source": [
    "with open(\"statapi_evalscript.js\", \"r\") as fp:\n",
    "    features_evalscript = fp.read()"
   ]
  },
  {
   "cell_type": "code",
   "execution_count": 26,
   "metadata": {},
   "outputs": [
    {
     "name": "stderr",
     "output_type": "stream",
     "text": [
      "/home/maxim/.local/lib/python3.10/site-packages/sentinelhub/constants.py:126: SHUserWarning: sentinelhub-py supports only WGS 84 coordinate reference system with coordinate order lng-lat. Given pyproj.CRS(4326) has coordinate order lat-lng. Be careful to use the correct order of coordinates.\n",
      "  warnings.warn(message, category=SHUserWarning)\n"
     ]
    }
   ],
   "source": [
    "yearly_time_interval = \"2015-01-01\", \"2022-12-31\"\n",
    "\n",
    "aggregation = SentinelHubStatistical.aggregation(\n",
    "    evalscript=features_evalscript, time_interval=yearly_time_interval, aggregation_interval=\"P1D\", resolution=(10, 10) \n",
    ")\n",
    "\n",
    "calculations = {\"default\": {\"statistics\": {\"default\": {\"percentiles\": {\"k\": [5, 50, 95]}}}}}\n",
    "\n",
    "'''\n",
    "request = SentinelHubStatistical(\n",
    "        aggregation=aggregation,\n",
    "        input_data=[SentinelHubStatistical.input_data(DataCollection.SENTINEL2_L2A)],\n",
    "        geometry=Geometry(polygon.geometry.values[0], crs=CRS(polygon.crs)),\n",
    "        calculations=calculations,\n",
    "        config=config,\n",
    "    ) \n",
    "'''\n",
    "\n",
    "features_requests = []\n",
    "for geo_shape in polygon.geometry.values:\n",
    "    request = SentinelHubStatistical(\n",
    "        aggregation=aggregation,\n",
    "        input_data=[SentinelHubStatistical.input_data(DataCollection.SENTINEL2_L2A)],\n",
    "        geometry=Geometry(geo_shape, crs=CRS(polygon.crs)),\n",
    "        calculations=calculations,\n",
    "        config=config,\n",
    "    )\n",
    "\n",
    "    features_requests.append(request)"
   ]
  },
  {
   "cell_type": "code",
   "execution_count": 27,
   "metadata": {},
   "outputs": [
    {
     "data": {
      "text/plain": [
       "46"
      ]
     },
     "execution_count": 27,
     "metadata": {},
     "output_type": "execute_result"
    }
   ],
   "source": [
    "'''\n",
    "client = SentinelHubStatisticalDownloadClient(config=config)\n",
    "\n",
    "features_stats = client.download(request.download_list[0])\n",
    "\n",
    "len(features_stats)\n",
    "'''\n",
    "\n",
    "download_requests = [request.download_list[0] for request in features_requests]\n",
    "\n",
    "client = SentinelHubStatisticalDownloadClient(config=config)\n",
    "\n",
    "features_stats = client.download(download_requests)\n",
    "\n",
    "len(features_stats)\n"
   ]
  },
  {
   "cell_type": "code",
   "execution_count": 28,
   "metadata": {},
   "outputs": [],
   "source": [
    "#print(features_stats[0])"
   ]
  },
  {
   "cell_type": "code",
   "execution_count": 29,
   "metadata": {},
   "outputs": [],
   "source": [
    "#ndvi_df = stats_to_df(features_stats)\n",
    "\n",
    "ndvi_df = [stats_to_df(polygon_stats) for polygon_stats in features_stats]\n",
    "\n",
    "for df, land_type in zip(ndvi_df, polygon[\"name\"].values):\n",
    "    df[\"name\"] = land_type\n",
    "\n",
    "ndvi_df = pd.concat(ndvi_df)"
   ]
  },
  {
   "cell_type": "code",
   "execution_count": 30,
   "metadata": {},
   "outputs": [],
   "source": [
    "BANDS = DataCollection.SENTINEL2_L2A.bands\n",
    "INDICES = [\"NDVI\", \"NDVI_RE1\", \"NBSI\", \"CLP\", \"NDMI\"]\n",
    "STATISTICAL_QUANTITIES = [\"mean\", \"min\", \"max\", \"stDev\", \"percentiles_5.0\", \"percentiles_50.0\", \"percentiles_95.0\"]\n",
    "\n",
    "\n",
    "for band in BANDS:\n",
    "    for stat in STATISTICAL_QUANTITIES:\n",
    "        column_name = f\"bands_{band.name}_{stat}\"\n",
    "        column = ndvi_df[column_name]\n",
    "\n",
    "        column = column / 10000.0\n",
    "\n",
    "        ndvi_df[column_name] = column\n",
    "        \n",
    "\n",
    "for index in INDICES:\n",
    "    for stat in STATISTICAL_QUANTITIES:\n",
    "        column_name = f\"indices_{index}_{stat}\"\n",
    "        column = ndvi_df[column_name]\n",
    "\n",
    "        if stat == \"stDev\":\n",
    "            column = column / 5000.0\n",
    "        else:\n",
    "            column = (column - 5000.0) / 5000.0\n",
    "\n",
    "        ndvi_df[column_name] = column\n"
   ]
  },
  {
   "cell_type": "code",
   "execution_count": 31,
   "metadata": {},
   "outputs": [],
   "source": [
    "#fig, ax = plt.subplots(figsize=(15, 8))\n",
    "\n",
    "#ndvi_df.plot(ax=ax, x=\"interval_from\", y=\"indices_NDVI_mean\")"
   ]
  },
  {
   "cell_type": "code",
   "execution_count": 32,
   "metadata": {},
   "outputs": [],
   "source": [
    "\n",
    "\n",
    "filtered_df = ndvi_df[['interval_from', 'indices_NDVI_mean', 'indices_NDMI_mean', 'indices_NBSI_mean', 'name']]\n",
    "\n",
    "filtered_df.to_csv('filtered_df.csv')"
   ]
  },
  {
   "cell_type": "code",
   "execution_count": 37,
   "metadata": {},
   "outputs": [
    {
     "name": "stdout",
     "output_type": "stream",
     "text": [
      "             name                                           geometry\n",
      "0      winschoten  POLYGON ((7.09423 53.12906, 7.09121 53.12538, ...\n",
      "1           sneek  POLYGON ((5.70158 53.04088, 5.69605 53.03779, ...\n",
      "2           assen  POLYGON ((6.46739 52.96280, 6.46321 52.95847, ...\n",
      "3          arnhem  POLYGON ((5.80134 51.94159, 5.80470 51.93637, ...\n",
      "4         tilburg  POLYGON ((4.96834 51.54021, 4.96888 51.53289, ...\n",
      "5      maastricht  POLYGON ((5.74985 50.84715, 5.74950 50.84506, ...\n",
      "6      middelburg  POLYGON ((3.52742 51.50328, 3.52037 51.51019, ...\n",
      "7      zoetermeer  POLYGON ((4.58442 52.00565, 4.56554 52.00048, ...\n",
      "8         utrecht  POLYGON ((5.19966 52.03904, 5.19412 52.04373, ...\n",
      "9       eindhoven  POLYGON ((5.28883 51.40995, 5.29019 51.40736, ...\n",
      "10     roosendaal  POLYGON ((4.42785 51.55336, 4.42515 51.55441, ...\n",
      "11      emmeloord  POLYGON ((5.68218 52.73155, 5.68211 52.72456, ...\n",
      "12   wieringswerf  POLYGON ((5.00167 52.86342, 5.00064 52.85699, ...\n",
      "13      hoogeveen  POLYGON ((6.51446 52.65766, 6.50423 52.65803, ...\n",
      "14   geldermalsen  POLYGON ((5.29887 51.90102, 5.30077 51.90005, ...\n",
      "15       oudekerk  POLYGON ((4.90775 52.30855, 4.90951 52.30592, ...\n",
      "16        alkmaar  POLYGON ((4.78460 52.61878, 4.78332 52.61630, ...\n",
      "17          hoorn  POLYGON ((5.11295 52.68878, 5.10840 52.68743, ...\n",
      "18        dronten  POLYGON ((5.75118 52.52667, 5.74929 52.52102, ...\n",
      "19  biddinghuizen  POLYGON ((5.69814 52.44449, 5.69111 52.44217, ...\n",
      "20        leersum  POLYGON ((5.40969 52.00208, 5.40642 52.00023, ...\n",
      "21            oss  POLYGON ((5.48966 51.78665, 5.48543 51.78479, ...\n",
      "22        woerden  POLYGON ((4.88082 52.12461, 4.87731 52.12458, ...\n",
      "23         almere  POLYGON ((5.33188 52.38119, 5.32379 52.37778, ...\n",
      "24         lochem  POLYGON ((6.40115 52.14390, 6.40322 52.14176, ...\n",
      "25         raalte  POLYGON ((6.23278 52.38214, 6.23308 52.38058, ...\n",
      "26    luttelgeest  POLYGON ((5.84513 52.76221, 5.84299 52.76024, ...\n",
      "27            ens  POLYGON ((5.84706 52.62892, 5.84909 52.62669, ...\n",
      "28         nagele  POLYGON ((5.73535 52.65287, 5.73546 52.64632, ...\n",
      "29            urk  POLYGON ((5.64465 52.67060, 5.64124 52.66912, ...\n",
      "30       franeker  POLYGON ((5.55478 53.20524, 5.55481 53.20334, ...\n",
      "31     leeuwarden  POLYGON ((5.87375 53.19642, 5.86899 53.19553, ...\n",
      "32         almelo  POLYGON ((6.69339 52.40456, 6.69361 52.40295, ...\n",
      "33      oldenzaal  POLYGON ((6.88097 52.32642, 6.87956 52.32397, ...\n",
      "34      nijverdal  POLYGON ((6.47637 52.38658, 6.47547 52.38424, ...\n",
      "35        zuthpen  POLYGON ((6.16563 52.13803, 6.16594 52.13572, ...\n",
      "36        groenlo  POLYGON ((6.57755 52.02907, 6.57505 52.02852, ...\n",
      "37        helmond  POLYGON ((5.68979 51.50919, 5.68916 51.50797, ...\n",
      "38      schijndel  POLYGON ((5.43587 51.63807, 5.43549 51.63702, ...\n",
      "39        almkerk  POLYGON ((4.96125 51.78028, 4.95603 51.77944, ...\n",
      "40    schoonhoven  POLYGON ((4.86276 51.95515, 4.86354 51.95413, ...\n",
      "41      montfoort  POLYGON ((4.95127 52.02906, 4.95243 52.02680, ...\n",
      "42    voorschoten  POLYGON ((4.43104 52.11410, 4.43012 52.11348, ...\n",
      "43          delft  POLYGON ((4.39067 51.96739, 4.39206 51.96562, ...\n",
      "44       zuidland  POLYGON ((4.24405 51.81910, 4.24236 51.81786, ...\n",
      "45   middelharnis  POLYGON ((4.17158 51.74779, 4.16643 51.74667, ...\n"
     ]
    }
   ],
   "source": [
    "polygon = gpd.read_file('agri_46.geojson')\n",
    "print(polygon)"
   ]
  },
  {
   "cell_type": "code",
   "execution_count": null,
   "metadata": {},
   "outputs": [],
   "source": []
  }
 ],
 "metadata": {
  "kernelspec": {
   "display_name": "Python 3",
   "language": "python",
   "name": "python3"
  },
  "language_info": {
   "codemirror_mode": {
    "name": "ipython",
    "version": 3
   },
   "file_extension": ".py",
   "mimetype": "text/x-python",
   "name": "python",
   "nbconvert_exporter": "python",
   "pygments_lexer": "ipython3",
   "version": "3.10.6 (main, Nov 14 2022, 16:10:14) [GCC 11.3.0]"
  },
  "vscode": {
   "interpreter": {
    "hash": "916dbcbb3f70747c44a77c7bcd40155683ae19c65e1c03b4aa3499c5328201f1"
   }
  }
 },
 "nbformat": 4,
 "nbformat_minor": 2
}
