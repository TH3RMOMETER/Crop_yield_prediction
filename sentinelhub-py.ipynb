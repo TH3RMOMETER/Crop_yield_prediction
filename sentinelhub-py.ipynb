{
 "cells": [
  {
   "cell_type": "code",
   "execution_count": 48,
   "metadata": {},
   "outputs": [],
   "source": [
    "from sentinelhub import SHConfig\n",
    "\n",
    "config = SHConfig()\n",
    "config.instance_id = '0347fe1d-150a-4ad7-9244-9069a9b25839'\n",
    "#config.instance_id = '84fe96a5-c0dc-4a72-85ad-6831fb2e5c8b'\n",
    "config.sh_client_id = '470b0865-7123-4b24-a062-cec503e427d8'\n",
    "config.sh_client_secret = 'x~!ad,O(CGi?q(Bp~:OM395]_;HeO1/*?))}!+1W'\n",
    "config.download_timeout_seconds = 1200\n",
    "config.save()\n",
    "if not config.sh_client_id or not config.sh_client_secret:\n",
    "    print(\"Warning! To use Process API, please provide the credentials (OAuth client ID and client secret).\")"
   ]
  },
  {
   "cell_type": "code",
   "execution_count": 49,
   "metadata": {},
   "outputs": [],
   "source": [
    "#pip install sentinelhub"
   ]
  },
  {
   "cell_type": "code",
   "execution_count": 50,
   "metadata": {},
   "outputs": [],
   "source": [
    "%reload_ext autoreload\n",
    "%autoreload 2\n",
    "%matplotlib inline"
   ]
  },
  {
   "cell_type": "code",
   "execution_count": 51,
   "metadata": {},
   "outputs": [],
   "source": [
    "%matplotlib inline\n",
    "\n",
    "import geopandas as gpd\n",
    "import matplotlib.pyplot as plt\n",
    "import numpy as np\n",
    "import pandas as pd\n",
    "import seaborn as sns\n",
    "\n",
    "from sentinelhub import (\n",
    "    CRS,\n",
    "    BBox,\n",
    "    DataCollection,\n",
    "    Geometry,\n",
    "    SentinelHubStatistical,\n",
    "    SentinelHubStatisticalDownloadClient,\n",
    "    SHConfig,\n",
    "    parse_time,\n",
    ")"
   ]
  },
  {
   "cell_type": "code",
   "execution_count": 52,
   "metadata": {},
   "outputs": [],
   "source": [
    "def stats_to_df(stats_data):\n",
    "    \"\"\"Transform Statistical API response into a pandas.DataFrame\"\"\"\n",
    "    df_data = []\n",
    "\n",
    "    for single_data in stats_data[\"data\"]:\n",
    "        df_entry = {}\n",
    "        is_valid_entry = True\n",
    "\n",
    "        df_entry[\"interval_from\"] = parse_time(single_data[\"interval\"][\"from\"]).date()\n",
    "        df_entry[\"interval_to\"] = parse_time(single_data[\"interval\"][\"to\"]).date()\n",
    "\n",
    "        for output_name, output_data in single_data[\"outputs\"].items():\n",
    "            for band_name, band_values in output_data[\"bands\"].items():\n",
    "                band_stats = band_values[\"stats\"]\n",
    "                if band_stats[\"sampleCount\"] == band_stats[\"noDataCount\"]:\n",
    "                    is_valid_entry = False\n",
    "                    break\n",
    "\n",
    "                for stat_name, value in band_stats.items():\n",
    "                    col_name = f\"{output_name}_{band_name}_{stat_name}\"\n",
    "                    if stat_name == \"percentiles\":\n",
    "                        for perc, perc_val in value.items():\n",
    "                            perc_col_name = f\"{col_name}_{perc}\"\n",
    "                            df_entry[perc_col_name] = perc_val\n",
    "                    else:\n",
    "                        df_entry[col_name] = value\n",
    "\n",
    "        if is_valid_entry:\n",
    "            df_data.append(df_entry)\n",
    "\n",
    "    return pd.DataFrame(df_data)"
   ]
  },
  {
   "cell_type": "code",
   "execution_count": 53,
   "metadata": {},
   "outputs": [],
   "source": [
    "import geopandas as gpd\n",
    "polygon = gpd.read_file('agri_46.geojson')\n",
    "#polygon.geometry.values[0]\n",
    "#for plot in polygon.geometry.values:"
   ]
  },
  {
   "cell_type": "code",
   "execution_count": 54,
   "metadata": {},
   "outputs": [],
   "source": [
    "with open(\"statapi_evalscript.js\", \"r\") as fp:\n",
    "    features_evalscript = fp.read()"
   ]
  },
  {
   "cell_type": "code",
   "execution_count": 55,
   "metadata": {},
   "outputs": [
    {
     "name": "stderr",
     "output_type": "stream",
     "text": [
      "/home/maxim/.local/lib/python3.10/site-packages/sentinelhub/constants.py:126: SHUserWarning: sentinelhub-py supports only WGS 84 coordinate reference system with coordinate order lng-lat. Given pyproj.CRS(4326) has coordinate order lat-lng. Be careful to use the correct order of coordinates.\n",
      "  warnings.warn(message, category=SHUserWarning)\n"
     ]
    }
   ],
   "source": [
    "yearly_time_interval = \"2015-01-01\", \"2022-12-31\"\n",
    "\n",
    "aggregation = SentinelHubStatistical.aggregation(\n",
    "    evalscript=features_evalscript, time_interval=yearly_time_interval, aggregation_interval=\"P1D\", resolution=(10, 10) \n",
    ")\n",
    "\n",
    "calculations = {\"default\": {\"statistics\": {\"default\": {\"percentiles\": {\"k\": [5, 50, 95]}}}}}\n",
    "\n",
    "'''\n",
    "request = SentinelHubStatistical(\n",
    "        aggregation=aggregation,\n",
    "        input_data=[SentinelHubStatistical.input_data(DataCollection.SENTINEL2_L2A)],\n",
    "        geometry=Geometry(polygon.geometry.values[0], crs=CRS(polygon.crs)),\n",
    "        calculations=calculations,\n",
    "        config=config,\n",
    "    ) \n",
    "'''\n",
    "\n",
    "features_requests = []\n",
    "for geo_shape in polygon.geometry.values:\n",
    "    request = SentinelHubStatistical(\n",
    "        aggregation=aggregation,\n",
    "        input_data=[SentinelHubStatistical.input_data(DataCollection.SENTINEL2_L2A)],\n",
    "        geometry=Geometry(geo_shape, crs=CRS(polygon.crs)),\n",
    "        calculations=calculations,\n",
    "        config=config,\n",
    "    )\n",
    "\n",
    "    features_requests.append(request)"
   ]
  },
  {
   "cell_type": "code",
   "execution_count": 56,
   "metadata": {},
   "outputs": [
    {
     "data": {
      "text/plain": [
       "46"
      ]
     },
     "execution_count": 56,
     "metadata": {},
     "output_type": "execute_result"
    }
   ],
   "source": [
    "'''\n",
    "client = SentinelHubStatisticalDownloadClient(config=config)\n",
    "\n",
    "features_stats = client.download(request.download_list[0])\n",
    "\n",
    "len(features_stats)\n",
    "'''\n",
    "\n",
    "download_requests = [request.download_list[0] for request in features_requests]\n",
    "\n",
    "client = SentinelHubStatisticalDownloadClient(config=config)\n",
    "\n",
    "features_stats = client.download(download_requests)\n",
    "\n",
    "len(features_stats)\n"
   ]
  },
  {
   "cell_type": "code",
   "execution_count": 57,
   "metadata": {},
   "outputs": [],
   "source": [
    "#print(features_stats[0])"
   ]
  },
  {
   "cell_type": "code",
   "execution_count": 58,
   "metadata": {},
   "outputs": [],
   "source": [
    "#ndvi_df = stats_to_df(features_stats)\n",
    "\n",
    "ndvi_df = [stats_to_df(polygon_stats) for polygon_stats in features_stats]\n",
    "\n",
    "for df, land_type in zip(ndvi_df, polygon[\"name\"].values):\n",
    "    df[\"name\"] = land_type\n",
    "\n",
    "ndvi_df = pd.concat(ndvi_df)"
   ]
  },
  {
   "cell_type": "code",
   "execution_count": 59,
   "metadata": {},
   "outputs": [],
   "source": [
    "BANDS = DataCollection.SENTINEL2_L2A.bands\n",
    "INDICES = [\"NDVI\", \"NDVI_RE1\", \"NBSI\", \"CLP\", \"NDMI\"]\n",
    "STATISTICAL_QUANTITIES = [\"mean\", \"min\", \"max\", \"stDev\", \"percentiles_5.0\", \"percentiles_50.0\", \"percentiles_95.0\"]\n",
    "\n",
    "\n",
    "for band in BANDS:\n",
    "    for stat in STATISTICAL_QUANTITIES:\n",
    "        column_name = f\"bands_{band.name}_{stat}\"\n",
    "        column = ndvi_df[column_name]\n",
    "\n",
    "        column = column / 10000.0\n",
    "\n",
    "        ndvi_df[column_name] = column\n",
    "        \n",
    "\n",
    "for index in INDICES:\n",
    "    for stat in STATISTICAL_QUANTITIES:\n",
    "        column_name = f\"indices_{index}_{stat}\"\n",
    "        column = ndvi_df[column_name]\n",
    "\n",
    "        if stat == \"stDev\":\n",
    "            column = column / 5000.0\n",
    "        else:\n",
    "            column = (column - 5000.0) / 5000.0\n",
    "\n",
    "        ndvi_df[column_name] = column\n"
   ]
  },
  {
   "cell_type": "code",
   "execution_count": 60,
   "metadata": {},
   "outputs": [],
   "source": [
    "#fig, ax = plt.subplots(figsize=(15, 8))\n",
    "\n",
    "#ndvi_df.plot(ax=ax, x=\"interval_from\", y=\"indices_NDVI_mean\")"
   ]
  },
  {
   "cell_type": "code",
   "execution_count": 61,
   "metadata": {},
   "outputs": [],
   "source": [
    "ndvi_df.to_csv('NDMI.csv')"
   ]
  },
  {
   "cell_type": "code",
   "execution_count": null,
   "metadata": {},
   "outputs": [],
   "source": []
  }
 ],
 "metadata": {
  "kernelspec": {
   "display_name": "base",
   "language": "python",
   "name": "python3"
  },
  "language_info": {
   "codemirror_mode": {
    "name": "ipython",
    "version": 3
   },
   "file_extension": ".py",
   "mimetype": "text/x-python",
   "name": "python",
   "nbconvert_exporter": "python",
   "pygments_lexer": "ipython3",
   "version": "3.9.13 (main, Aug 25 2022, 23:51:50) [MSC v.1916 64 bit (AMD64)]"
  },
  "vscode": {
   "interpreter": {
    "hash": "ad2bdc8ecc057115af97d19610ffacc2b4e99fae6737bb82f5d7fb13d2f2c186"
   }
  }
 },
 "nbformat": 4,
 "nbformat_minor": 2
}
