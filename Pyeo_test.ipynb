{
 "cells": [
  {
   "cell_type": "code",
   "execution_count": 12,
   "metadata": {},
   "outputs": [
    {
     "ename": "ImportError",
     "evalue": "cannot import name 'download_safe_format' from 'sentinelhub' (c:\\ProgramData\\Anaconda3\\envs\\pyeo_env\\lib\\site-packages\\sentinelhub\\__init__.py)",
     "output_type": "error",
     "traceback": [
      "\u001b[1;31m---------------------------------------------------------------------------\u001b[0m",
      "\u001b[1;31mImportError\u001b[0m                               Traceback (most recent call last)",
      "Cell \u001b[1;32mIn[12], line 7\u001b[0m\n\u001b[0;32m      5\u001b[0m sen2cor_path \u001b[39m=\u001b[39m \u001b[39mr\u001b[39m\u001b[39m\"\u001b[39m\u001b[39m/opt/Sen2Cor-02.05.05-Linux64/bin/L2A_Process\u001b[39m\u001b[39m\"\u001b[39m\n\u001b[0;32m      6\u001b[0m \u001b[39mimport\u001b[39;00m \u001b[39mpyeo\u001b[39;00m\n\u001b[1;32m----> 7\u001b[0m \u001b[39mfrom\u001b[39;00m \u001b[39mpyeo\u001b[39;00m\u001b[39m.\u001b[39;00m\u001b[39mqueries_and_downloads\u001b[39;00m \u001b[39mimport\u001b[39;00m check_for_s2_data_by_date\n\u001b[0;32m      8\u001b[0m \u001b[39mimport\u001b[39;00m \u001b[39mmatplotlib\u001b[39;00m\u001b[39m.\u001b[39;00m\u001b[39mpyplot\u001b[39;00m \u001b[39mas\u001b[39;00m \u001b[39mplt\u001b[39;00m\n\u001b[0;32m      9\u001b[0m \u001b[39mimport\u001b[39;00m \u001b[39mgdal\u001b[39;00m\n",
      "File \u001b[1;32mc:\\ProgramData\\Anaconda3\\envs\\pyeo_env\\lib\\site-packages\\pyeo\\queries_and_downloads.py:82\u001b[0m\n\u001b[0;32m     79\u001b[0m \u001b[39mfrom\u001b[39;00m \u001b[39mbotocore\u001b[39;00m\u001b[39m.\u001b[39;00m\u001b[39mexceptions\u001b[39;00m \u001b[39mimport\u001b[39;00m ClientError\n\u001b[0;32m     80\u001b[0m \u001b[39mfrom\u001b[39;00m \u001b[39mrequests\u001b[39;00m \u001b[39mimport\u001b[39;00m Request\n\u001b[1;32m---> 82\u001b[0m \u001b[39mfrom\u001b[39;00m \u001b[39msentinelhub\u001b[39;00m \u001b[39mimport\u001b[39;00m download_safe_format\n\u001b[0;32m     83\u001b[0m \u001b[39mfrom\u001b[39;00m \u001b[39msentinelsat\u001b[39;00m \u001b[39mimport\u001b[39;00m SentinelAPI, geojson_to_wkt, read_geojson\n\u001b[0;32m     85\u001b[0m \u001b[39mfrom\u001b[39;00m \u001b[39mpyeo\u001b[39;00m\u001b[39m.\u001b[39;00m\u001b[39mfilesystem_utilities\u001b[39;00m \u001b[39mimport\u001b[39;00m check_for_invalid_l2_data, check_for_invalid_l1_data, get_sen_2_image_tile\n",
      "\u001b[1;31mImportError\u001b[0m: cannot import name 'download_safe_format' from 'sentinelhub' (c:\\ProgramData\\Anaconda3\\envs\\pyeo_env\\lib\\site-packages\\sentinelhub\\__init__.py)"
     ]
    }
   ],
   "source": [
    "import matplotlib as mpl\n",
    "mpl.rcParams['figure.dpi']= 200\n",
    "import sys\n",
    "sys.path.append(r\"/opt/pyeo\")\n",
    "sen2cor_path = r\"/opt/Sen2Cor-02.05.05-Linux64/bin/L2A_Process\"\n",
    "import pyeo\n",
    "from pyeo.queries_and_downloads import check_for_s2_data_by_date\n",
    "import matplotlib.pyplot as plt\n",
    "import gdal\n",
    "import pprint\n",
    "\n",
    "\n",
    "def show_satellite_image(image_path):\n",
    "    img = gdal.Open(image_path)\n",
    "    array = img.GetVirtualMemArray()\n",
    "    if len(array.shape) == 3:\n",
    "        img_view = array.transpose([1,2,0])\n",
    "    else:\n",
    "        img_view = array\n",
    "    plt.imshow(img_view)\n",
    "    array = None\n",
    "    img = None"
   ]
  },
  {
   "cell_type": "code",
   "execution_count": 8,
   "metadata": {},
   "outputs": [],
   "source": [
    "conf = {'sent_2':{'user':'gijs.timmerij@gmail.com', 'pass':'Sjiggie007'}}"
   ]
  },
  {
   "cell_type": "code",
   "execution_count": 9,
   "metadata": {},
   "outputs": [
    {
     "ename": "AttributeError",
     "evalue": "module 'pyeo' has no attribute 'check_for_s2_data_by_date'",
     "output_type": "error",
     "traceback": [
      "\u001b[1;31m---------------------------------------------------------------------------\u001b[0m",
      "\u001b[1;31mAttributeError\u001b[0m                            Traceback (most recent call last)",
      "Cell \u001b[1;32mIn[9], line 1\u001b[0m\n\u001b[1;32m----> 1\u001b[0m query_results \u001b[39m=\u001b[39m pyeo\u001b[39m.\u001b[39;49mcheck_for_s2_data_by_date(\u001b[39m\"\u001b[39m\u001b[39mkinangop_rough.json\u001b[39m\u001b[39m\"\u001b[39m, \u001b[39m\"\u001b[39m\u001b[39m20190101\u001b[39m\u001b[39m\"\u001b[39m, \u001b[39m\"\u001b[39m\u001b[39m20190107\u001b[39m\u001b[39m\"\u001b[39m, conf, \u001b[39m\"\u001b[39m\u001b[39m60\u001b[39m\u001b[39m\"\u001b[39m)\n",
      "\u001b[1;31mAttributeError\u001b[0m: module 'pyeo' has no attribute 'check_for_s2_data_by_date'"
     ]
    }
   ],
   "source": [
    "query_results = pyeo.check_for_s2_data_by_date(\"kinangop_rough.json\", \"20190101\", \"20190107\", conf, \"60\")"
   ]
  },
  {
   "cell_type": "code",
   "execution_count": null,
   "metadata": {},
   "outputs": [],
   "source": [
    "pprint.pprint(query_results)"
   ]
  },
  {
   "cell_type": "code",
   "execution_count": 14,
   "metadata": {},
   "outputs": [
    {
     "name": "stderr",
     "output_type": "stream",
     "text": [
      "Downloading products:   0%|          | 0/2 [00:00<?, ?product/s]\n",
      "\u001b[A\n",
      "\u001b[A\n",
      "\u001b[A\n",
      "\u001b[A\n",
      "\u001b[A\n",
      "\u001b[A\n",
      "\u001b[A\n",
      "\u001b[A\n",
      "\u001b[A\n",
      "\u001b[A\n",
      "\u001b[A\n",
      "\u001b[A\n",
      "\u001b[A\n",
      "\u001b[A\n",
      "\u001b[A\n",
      "\u001b[A\n",
      "\u001b[A\n",
      "\u001b[A\n",
      "\u001b[A\n",
      "\u001b[A\n",
      "\u001b[A\n",
      "\u001b[A\n",
      "\u001b[A\n",
      "\u001b[A\n",
      "\u001b[A\n",
      "\u001b[A\n",
      "\u001b[A\n",
      "\u001b[A\n",
      "\u001b[A\n",
      "\u001b[A\n",
      "\u001b[A\n",
      "\u001b[A\n",
      "\u001b[A\n",
      "\u001b[A\n",
      "\u001b[A\n",
      "\u001b[A\n",
      "\u001b[A\n",
      "\u001b[A\n",
      "\u001b[A\n",
      "\u001b[A\n",
      "\u001b[A\n",
      "\u001b[A\n",
      "\u001b[A\n",
      "\u001b[A\n",
      "\u001b[A\n",
      "\u001b[A\n",
      "\u001b[A\n",
      "\u001b[A\n",
      "\u001b[A\n",
      "\u001b[A\n",
      "\u001b[A\n",
      "\u001b[A\n",
      "\u001b[A\n",
      "\u001b[A\n",
      "\u001b[A\n",
      "\u001b[A\n",
      "\u001b[A\n",
      "\u001b[A\n",
      "\u001b[A\n",
      "\u001b[A\n",
      "\u001b[A\n",
      "Downloading S2A_MSIL1C_20151226T110452_N0201_R094_T31UFU_20151226T110451.zip: 100%|██████████| 63.3M/63.3M [00:17<00:00, 3.62MB/s]\n",
      "\n",
      "\u001b[A\n",
      "\u001b[A\n",
      "Downloading products:  50%|█████     | 1/2 [26:27<26:27, 1587.26s/product]"
     ]
    }
   ],
   "source": [
    "# connect to the API\n",
    "from sentinelsat import SentinelAPI, read_geojson, geojson_to_wkt\n",
    "from datetime import date\n",
    "\n",
    "api = SentinelAPI('gijstimmerij', 'Sjiggie007', 'https://scihub.copernicus.eu/dhus/')\n",
    "\n",
    "\n",
    "# search by polygon, time, and SciHub query keywords\n",
    "footprint = geojson_to_wkt(read_geojson('map.geojson'))\n",
    "products = api.query(footprint,\n",
    "                     date=('20151219', date(2015, 12, 29)),\n",
    "                     platformname='Sentinel-2',\n",
    "                     cloudcoverpercentage=(0, 30))\n",
    "\n",
    "# download all results from the search\n",
    "api.download_all(products)\n",
    "\n",
    "# convert to Pandas DataFrame\n",
    "products_df = api.to_dataframe(products)\n",
    "\n",
    "# GeoJSON FeatureCollection containing footprints and metadata of the scenes\n",
    "api.to_geojson(products)\n",
    "\n",
    "# GeoPandas GeoDataFrame with the metadata of the scenes and the footprints as geometries\n",
    "api.to_geodataframe(products)\n"
   ]
  },
  {
   "cell_type": "code",
   "execution_count": null,
   "metadata": {},
   "outputs": [],
   "source": []
  }
 ],
 "metadata": {
  "kernelspec": {
   "display_name": "pyeo_env",
   "language": "python",
   "name": "python3"
  },
  "language_info": {
   "codemirror_mode": {
    "name": "ipython",
    "version": 3
   },
   "file_extension": ".py",
   "mimetype": "text/x-python",
   "name": "python",
   "nbconvert_exporter": "python",
   "pygments_lexer": "ipython3",
   "version": "3.8.15 | packaged by conda-forge | (default, Nov 22 2022, 08:43:00) [MSC v.1929 64 bit (AMD64)]"
  },
  "orig_nbformat": 4,
  "vscode": {
   "interpreter": {
    "hash": "51041317c073b1f9aaca0db33f0eb94e1f08b38375d39184fd8ac41988516b51"
   }
  }
 },
 "nbformat": 4,
 "nbformat_minor": 2
}
