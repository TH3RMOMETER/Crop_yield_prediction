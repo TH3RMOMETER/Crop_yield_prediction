{
  "cells": [
    {
      "cell_type": "code",
      "source": [
        "!pip install wandb"
      ],
      "metadata": {
        "colab": {
          "base_uri": "https://localhost:8080/"
        },
        "id": "zk-MCk7nFfiH",
        "outputId": "fb1517de-f472-43eb-8052-3ed391f6788b"
      },
      "execution_count": null,
      "outputs": [
        {
          "output_type": "stream",
          "name": "stdout",
          "text": [
            "Looking in indexes: https://pypi.org/simple, https://us-python.pkg.dev/colab-wheels/public/simple/\n",
            "Collecting wandb\n",
            "  Downloading wandb-0.13.9-py2.py3-none-any.whl (2.0 MB)\n",
            "\u001b[2K     \u001b[90m━━━━━━━━━━━━━━━━━━━━━━━━━━━━━━━━━━━━━━━━\u001b[0m \u001b[32m2.0/2.0 MB\u001b[0m \u001b[31m38.1 MB/s\u001b[0m eta \u001b[36m0:00:00\u001b[0m\n",
            "\u001b[?25hCollecting docker-pycreds>=0.4.0\n",
            "  Downloading docker_pycreds-0.4.0-py2.py3-none-any.whl (9.0 kB)\n",
            "Collecting setproctitle\n",
            "  Downloading setproctitle-1.3.2-cp38-cp38-manylinux_2_5_x86_64.manylinux1_x86_64.manylinux_2_17_x86_64.manylinux2014_x86_64.whl (31 kB)\n",
            "Requirement already satisfied: PyYAML in /usr/local/lib/python3.8/dist-packages (from wandb) (6.0)\n",
            "Requirement already satisfied: psutil>=5.0.0 in /usr/local/lib/python3.8/dist-packages (from wandb) (5.4.8)\n",
            "Requirement already satisfied: typing-extensions in /usr/local/lib/python3.8/dist-packages (from wandb) (4.4.0)\n",
            "Requirement already satisfied: requests<3,>=2.0.0 in /usr/local/lib/python3.8/dist-packages (from wandb) (2.25.1)\n",
            "Requirement already satisfied: Click!=8.0.0,>=7.0 in /usr/local/lib/python3.8/dist-packages (from wandb) (7.1.2)\n",
            "Collecting sentry-sdk>=1.0.0\n",
            "  Downloading sentry_sdk-1.14.0-py2.py3-none-any.whl (178 kB)\n",
            "\u001b[2K     \u001b[90m━━━━━━━━━━━━━━━━━━━━━━━━━━━━━━━━━━━━━━\u001b[0m \u001b[32m178.9/178.9 KB\u001b[0m \u001b[31m22.1 MB/s\u001b[0m eta \u001b[36m0:00:00\u001b[0m\n",
            "\u001b[?25hRequirement already satisfied: protobuf!=4.21.0,<5,>=3.12.0 in /usr/local/lib/python3.8/dist-packages (from wandb) (3.19.6)\n",
            "Collecting pathtools\n",
            "  Downloading pathtools-0.1.2.tar.gz (11 kB)\n",
            "  Preparing metadata (setup.py) ... \u001b[?25l\u001b[?25hdone\n",
            "Requirement already satisfied: setuptools in /usr/local/lib/python3.8/dist-packages (from wandb) (57.4.0)\n",
            "Collecting GitPython>=1.0.0\n",
            "  Downloading GitPython-3.1.30-py3-none-any.whl (184 kB)\n",
            "\u001b[2K     \u001b[90m━━━━━━━━━━━━━━━━━━━━━━━━━━━━━━━━━━━━━━\u001b[0m \u001b[32m184.0/184.0 KB\u001b[0m \u001b[31m19.6 MB/s\u001b[0m eta \u001b[36m0:00:00\u001b[0m\n",
            "\u001b[?25hRequirement already satisfied: appdirs>=1.4.3 in /usr/local/lib/python3.8/dist-packages (from wandb) (1.4.4)\n",
            "Requirement already satisfied: six>=1.4.0 in /usr/local/lib/python3.8/dist-packages (from docker-pycreds>=0.4.0->wandb) (1.15.0)\n",
            "Collecting gitdb<5,>=4.0.1\n",
            "  Downloading gitdb-4.0.10-py3-none-any.whl (62 kB)\n",
            "\u001b[2K     \u001b[90m━━━━━━━━━━━━━━━━━━━━━━━━━━━━━━━━━━━━━━━━\u001b[0m \u001b[32m62.7/62.7 KB\u001b[0m \u001b[31m8.4 MB/s\u001b[0m eta \u001b[36m0:00:00\u001b[0m\n",
            "\u001b[?25hRequirement already satisfied: urllib3<1.27,>=1.21.1 in /usr/local/lib/python3.8/dist-packages (from requests<3,>=2.0.0->wandb) (1.24.3)\n",
            "Requirement already satisfied: idna<3,>=2.5 in /usr/local/lib/python3.8/dist-packages (from requests<3,>=2.0.0->wandb) (2.10)\n",
            "Requirement already satisfied: certifi>=2017.4.17 in /usr/local/lib/python3.8/dist-packages (from requests<3,>=2.0.0->wandb) (2022.12.7)\n",
            "Requirement already satisfied: chardet<5,>=3.0.2 in /usr/local/lib/python3.8/dist-packages (from requests<3,>=2.0.0->wandb) (4.0.0)\n",
            "Collecting urllib3<1.27,>=1.21.1\n",
            "  Downloading urllib3-1.26.14-py2.py3-none-any.whl (140 kB)\n",
            "\u001b[2K     \u001b[90m━━━━━━━━━━━━━━━━━━━━━━━━━━━━━━━━━━━━━━\u001b[0m \u001b[32m140.6/140.6 KB\u001b[0m \u001b[31m15.6 MB/s\u001b[0m eta \u001b[36m0:00:00\u001b[0m\n",
            "\u001b[?25hCollecting smmap<6,>=3.0.1\n",
            "  Downloading smmap-5.0.0-py3-none-any.whl (24 kB)\n",
            "Building wheels for collected packages: pathtools\n",
            "  Building wheel for pathtools (setup.py) ... \u001b[?25l\u001b[?25hdone\n",
            "  Created wheel for pathtools: filename=pathtools-0.1.2-py3-none-any.whl size=8806 sha256=2606cc594f9cfc5e126f9d57daa48e78ac987b5d9dbebf4141ac54755cfe6754\n",
            "  Stored in directory: /root/.cache/pip/wheels/4c/8e/7e/72fbc243e1aeecae64a96875432e70d4e92f3d2d18123be004\n",
            "Successfully built pathtools\n",
            "Installing collected packages: pathtools, urllib3, smmap, setproctitle, docker-pycreds, sentry-sdk, gitdb, GitPython, wandb\n",
            "  Attempting uninstall: urllib3\n",
            "    Found existing installation: urllib3 1.24.3\n",
            "    Uninstalling urllib3-1.24.3:\n",
            "      Successfully uninstalled urllib3-1.24.3\n",
            "Successfully installed GitPython-3.1.30 docker-pycreds-0.4.0 gitdb-4.0.10 pathtools-0.1.2 sentry-sdk-1.14.0 setproctitle-1.3.2 smmap-5.0.0 urllib3-1.26.14 wandb-0.13.9\n"
          ]
        }
      ]
    },
    {
      "cell_type": "code",
      "source": [
        "pip install keras-tcn"
      ],
      "metadata": {
        "colab": {
          "base_uri": "https://localhost:8080/"
        },
        "id": "UQUF5s_rkhqv",
        "outputId": "fda724fb-d0b7-4599-d8ef-95f673ac7a95"
      },
      "execution_count": null,
      "outputs": [
        {
          "output_type": "stream",
          "name": "stdout",
          "text": [
            "Looking in indexes: https://pypi.org/simple, https://us-python.pkg.dev/colab-wheels/public/simple/\n",
            "Collecting keras-tcn\n",
            "  Downloading keras_tcn-3.5.0-py3-none-any.whl (13 kB)\n",
            "Collecting tensorflow-addons\n",
            "  Downloading tensorflow_addons-0.19.0-cp38-cp38-manylinux_2_17_x86_64.manylinux2014_x86_64.whl (1.1 MB)\n",
            "\u001b[2K     \u001b[90m━━━━━━━━━━━━━━━━━━━━━━━━━━━━━━━━━━━━━━━━\u001b[0m \u001b[32m1.1/1.1 MB\u001b[0m \u001b[31m38.4 MB/s\u001b[0m eta \u001b[36m0:00:00\u001b[0m\n",
            "\u001b[?25hRequirement already satisfied: tensorflow in /usr/local/lib/python3.8/dist-packages (from keras-tcn) (2.9.2)\n",
            "Requirement already satisfied: numpy in /usr/local/lib/python3.8/dist-packages (from keras-tcn) (1.21.6)\n",
            "Requirement already satisfied: typing-extensions>=3.6.6 in /usr/local/lib/python3.8/dist-packages (from tensorflow->keras-tcn) (4.4.0)\n",
            "Requirement already satisfied: google-pasta>=0.1.1 in /usr/local/lib/python3.8/dist-packages (from tensorflow->keras-tcn) (0.2.0)\n",
            "Requirement already satisfied: grpcio<2.0,>=1.24.3 in /usr/local/lib/python3.8/dist-packages (from tensorflow->keras-tcn) (1.51.1)\n",
            "Requirement already satisfied: astunparse>=1.6.0 in /usr/local/lib/python3.8/dist-packages (from tensorflow->keras-tcn) (1.6.3)\n",
            "Requirement already satisfied: tensorflow-io-gcs-filesystem>=0.23.1 in /usr/local/lib/python3.8/dist-packages (from tensorflow->keras-tcn) (0.29.0)\n",
            "Requirement already satisfied: h5py>=2.9.0 in /usr/local/lib/python3.8/dist-packages (from tensorflow->keras-tcn) (3.1.0)\n",
            "Requirement already satisfied: keras-preprocessing>=1.1.1 in /usr/local/lib/python3.8/dist-packages (from tensorflow->keras-tcn) (1.1.2)\n",
            "Requirement already satisfied: gast<=0.4.0,>=0.2.1 in /usr/local/lib/python3.8/dist-packages (from tensorflow->keras-tcn) (0.4.0)\n",
            "Requirement already satisfied: setuptools in /usr/local/lib/python3.8/dist-packages (from tensorflow->keras-tcn) (57.4.0)\n",
            "Requirement already satisfied: libclang>=13.0.0 in /usr/local/lib/python3.8/dist-packages (from tensorflow->keras-tcn) (15.0.6.1)\n",
            "Requirement already satisfied: keras<2.10.0,>=2.9.0rc0 in /usr/local/lib/python3.8/dist-packages (from tensorflow->keras-tcn) (2.9.0)\n",
            "Requirement already satisfied: wrapt>=1.11.0 in /usr/local/lib/python3.8/dist-packages (from tensorflow->keras-tcn) (1.14.1)\n",
            "Requirement already satisfied: packaging in /usr/local/lib/python3.8/dist-packages (from tensorflow->keras-tcn) (21.3)\n",
            "Requirement already satisfied: opt-einsum>=2.3.2 in /usr/local/lib/python3.8/dist-packages (from tensorflow->keras-tcn) (3.3.0)\n",
            "Requirement already satisfied: six>=1.12.0 in /usr/local/lib/python3.8/dist-packages (from tensorflow->keras-tcn) (1.15.0)\n",
            "Requirement already satisfied: absl-py>=1.0.0 in /usr/local/lib/python3.8/dist-packages (from tensorflow->keras-tcn) (1.3.0)\n",
            "Requirement already satisfied: tensorflow-estimator<2.10.0,>=2.9.0rc0 in /usr/local/lib/python3.8/dist-packages (from tensorflow->keras-tcn) (2.9.0)\n",
            "Requirement already satisfied: tensorboard<2.10,>=2.9 in /usr/local/lib/python3.8/dist-packages (from tensorflow->keras-tcn) (2.9.1)\n",
            "Requirement already satisfied: termcolor>=1.1.0 in /usr/local/lib/python3.8/dist-packages (from tensorflow->keras-tcn) (2.2.0)\n",
            "Requirement already satisfied: protobuf<3.20,>=3.9.2 in /usr/local/lib/python3.8/dist-packages (from tensorflow->keras-tcn) (3.19.6)\n",
            "Requirement already satisfied: flatbuffers<2,>=1.12 in /usr/local/lib/python3.8/dist-packages (from tensorflow->keras-tcn) (1.12)\n",
            "Requirement already satisfied: typeguard>=2.7 in /usr/local/lib/python3.8/dist-packages (from tensorflow-addons->keras-tcn) (2.7.1)\n",
            "Requirement already satisfied: wheel<1.0,>=0.23.0 in /usr/local/lib/python3.8/dist-packages (from astunparse>=1.6.0->tensorflow->keras-tcn) (0.38.4)\n",
            "Requirement already satisfied: google-auth-oauthlib<0.5,>=0.4.1 in /usr/local/lib/python3.8/dist-packages (from tensorboard<2.10,>=2.9->tensorflow->keras-tcn) (0.4.6)\n",
            "Requirement already satisfied: tensorboard-data-server<0.7.0,>=0.6.0 in /usr/local/lib/python3.8/dist-packages (from tensorboard<2.10,>=2.9->tensorflow->keras-tcn) (0.6.1)\n",
            "Requirement already satisfied: werkzeug>=1.0.1 in /usr/local/lib/python3.8/dist-packages (from tensorboard<2.10,>=2.9->tensorflow->keras-tcn) (1.0.1)\n",
            "Requirement already satisfied: google-auth<3,>=1.6.3 in /usr/local/lib/python3.8/dist-packages (from tensorboard<2.10,>=2.9->tensorflow->keras-tcn) (2.16.0)\n",
            "Requirement already satisfied: markdown>=2.6.8 in /usr/local/lib/python3.8/dist-packages (from tensorboard<2.10,>=2.9->tensorflow->keras-tcn) (3.4.1)\n",
            "Requirement already satisfied: tensorboard-plugin-wit>=1.6.0 in /usr/local/lib/python3.8/dist-packages (from tensorboard<2.10,>=2.9->tensorflow->keras-tcn) (1.8.1)\n",
            "Requirement already satisfied: requests<3,>=2.21.0 in /usr/local/lib/python3.8/dist-packages (from tensorboard<2.10,>=2.9->tensorflow->keras-tcn) (2.25.1)\n",
            "Requirement already satisfied: pyparsing!=3.0.5,>=2.0.2 in /usr/local/lib/python3.8/dist-packages (from packaging->tensorflow->keras-tcn) (3.0.9)\n",
            "Requirement already satisfied: cachetools<6.0,>=2.0.0 in /usr/local/lib/python3.8/dist-packages (from google-auth<3,>=1.6.3->tensorboard<2.10,>=2.9->tensorflow->keras-tcn) (5.2.1)\n",
            "Requirement already satisfied: pyasn1-modules>=0.2.1 in /usr/local/lib/python3.8/dist-packages (from google-auth<3,>=1.6.3->tensorboard<2.10,>=2.9->tensorflow->keras-tcn) (0.2.8)\n",
            "Requirement already satisfied: rsa<5,>=3.1.4 in /usr/local/lib/python3.8/dist-packages (from google-auth<3,>=1.6.3->tensorboard<2.10,>=2.9->tensorflow->keras-tcn) (4.9)\n",
            "Requirement already satisfied: requests-oauthlib>=0.7.0 in /usr/local/lib/python3.8/dist-packages (from google-auth-oauthlib<0.5,>=0.4.1->tensorboard<2.10,>=2.9->tensorflow->keras-tcn) (1.3.1)\n",
            "Requirement already satisfied: importlib-metadata>=4.4 in /usr/local/lib/python3.8/dist-packages (from markdown>=2.6.8->tensorboard<2.10,>=2.9->tensorflow->keras-tcn) (6.0.0)\n",
            "Requirement already satisfied: chardet<5,>=3.0.2 in /usr/local/lib/python3.8/dist-packages (from requests<3,>=2.21.0->tensorboard<2.10,>=2.9->tensorflow->keras-tcn) (4.0.0)\n",
            "Requirement already satisfied: idna<3,>=2.5 in /usr/local/lib/python3.8/dist-packages (from requests<3,>=2.21.0->tensorboard<2.10,>=2.9->tensorflow->keras-tcn) (2.10)\n",
            "Requirement already satisfied: certifi>=2017.4.17 in /usr/local/lib/python3.8/dist-packages (from requests<3,>=2.21.0->tensorboard<2.10,>=2.9->tensorflow->keras-tcn) (2022.12.7)\n",
            "Requirement already satisfied: urllib3<1.27,>=1.21.1 in /usr/local/lib/python3.8/dist-packages (from requests<3,>=2.21.0->tensorboard<2.10,>=2.9->tensorflow->keras-tcn) (1.26.14)\n",
            "Requirement already satisfied: zipp>=0.5 in /usr/local/lib/python3.8/dist-packages (from importlib-metadata>=4.4->markdown>=2.6.8->tensorboard<2.10,>=2.9->tensorflow->keras-tcn) (3.11.0)\n",
            "Requirement already satisfied: pyasn1<0.5.0,>=0.4.6 in /usr/local/lib/python3.8/dist-packages (from pyasn1-modules>=0.2.1->google-auth<3,>=1.6.3->tensorboard<2.10,>=2.9->tensorflow->keras-tcn) (0.4.8)\n",
            "Requirement already satisfied: oauthlib>=3.0.0 in /usr/local/lib/python3.8/dist-packages (from requests-oauthlib>=0.7.0->google-auth-oauthlib<0.5,>=0.4.1->tensorboard<2.10,>=2.9->tensorflow->keras-tcn) (3.2.2)\n",
            "Installing collected packages: tensorflow-addons, keras-tcn\n",
            "Successfully installed keras-tcn-3.5.0 tensorflow-addons-0.19.0\n"
          ]
        }
      ]
    },
    {
      "cell_type": "code",
      "source": [
        "import wandb\n",
        "from wandb.keras import WandbCallback\n",
        "wandb.login()"
      ],
      "metadata": {
        "colab": {
          "base_uri": "https://localhost:8080/",
          "height": 106
        },
        "id": "5__L2-JVFrCx",
        "outputId": "ee0ce056-c285-4cde-83fa-2726421b0d59"
      },
      "execution_count": null,
      "outputs": [
        {
          "output_type": "stream",
          "name": "stderr",
          "text": [
            "ERROR:wandb.jupyter:Failed to detect the name of this notebook, you can set it manually with the WANDB_NOTEBOOK_NAME environment variable to enable code saving.\n"
          ]
        },
        {
          "output_type": "display_data",
          "data": {
            "text/plain": [
              "<IPython.core.display.Javascript object>"
            ],
            "application/javascript": [
              "\n",
              "        window._wandbApiKey = new Promise((resolve, reject) => {\n",
              "            function loadScript(url) {\n",
              "            return new Promise(function(resolve, reject) {\n",
              "                let newScript = document.createElement(\"script\");\n",
              "                newScript.onerror = reject;\n",
              "                newScript.onload = resolve;\n",
              "                document.body.appendChild(newScript);\n",
              "                newScript.src = url;\n",
              "            });\n",
              "            }\n",
              "            loadScript(\"https://cdn.jsdelivr.net/npm/postmate/build/postmate.min.js\").then(() => {\n",
              "            const iframe = document.createElement('iframe')\n",
              "            iframe.style.cssText = \"width:0;height:0;border:none\"\n",
              "            document.body.appendChild(iframe)\n",
              "            const handshake = new Postmate({\n",
              "                container: iframe,\n",
              "                url: 'https://wandb.ai/authorize'\n",
              "            });\n",
              "            const timeout = setTimeout(() => reject(\"Couldn't auto authenticate\"), 5000)\n",
              "            handshake.then(function(child) {\n",
              "                child.on('authorize', data => {\n",
              "                    clearTimeout(timeout)\n",
              "                    resolve(data)\n",
              "                });\n",
              "            });\n",
              "            })\n",
              "        });\n",
              "    "
            ]
          },
          "metadata": {}
        },
        {
          "output_type": "stream",
          "name": "stderr",
          "text": [
            "\u001b[34m\u001b[1mwandb\u001b[0m: Appending key for api.wandb.ai to your netrc file: /root/.netrc\n"
          ]
        },
        {
          "output_type": "execute_result",
          "data": {
            "text/plain": [
              "True"
            ]
          },
          "metadata": {},
          "execution_count": 21
        }
      ]
    },
    {
      "cell_type": "code",
      "source": [
        "sweep_configuration = {\n",
        "    'method': 'bayes',\n",
        "    'name': 'tcn_aguro',\n",
        "    'metric': {\n",
        "        'goal': 'minimize', \n",
        "        'name': 'validation_loss'\n",
        "\t\t},\n",
        "    'parameters': {\n",
        "        'batch_size': {'value': 512},\n",
        "        'epochs': {'value': 500},\n",
        "        'lr': {'max': 0.1, 'min': 0.0001},\n",
        "        'dropout_rate': {'values': [0.05, 0.1, 0.2, 0.3, 0.4, 0.5, 0.6, 0.7]},\n",
        "        'optimizer': {'value': 'adam'},\n",
        "        'nb_filters': {'values': [16, 32, 64]},\n",
        "        'kernel_size': {'values': [3, 6, 8, 12]}\n",
        "     }\n",
        "}"
      ],
      "metadata": {
        "id": "aUO2WipAGr7V"
      },
      "execution_count": null,
      "outputs": []
    },
    {
      "cell_type": "code",
      "source": [
        "from google.colab import drive\n",
        "drive.mount('/content/drive')\n",
        "\n",
        "!pip install pandas==1.4.4"
      ],
      "metadata": {
        "colab": {
          "base_uri": "https://localhost:8080/",
          "height": 384
        },
        "id": "VmOUXJxD91D6",
        "outputId": "4149cab2-5684-433d-e45e-3c9b63c85c04"
      },
      "execution_count": null,
      "outputs": [
        {
          "output_type": "stream",
          "name": "stdout",
          "text": [
            "Mounted at /content/drive\n",
            "Looking in indexes: https://pypi.org/simple, https://us-python.pkg.dev/colab-wheels/public/simple/\n",
            "Collecting pandas==1.4.4\n",
            "  Downloading pandas-1.4.4-cp38-cp38-manylinux_2_17_x86_64.manylinux2014_x86_64.whl (11.7 MB)\n",
            "\u001b[2K     \u001b[90m━━━━━━━━━━━━━━━━━━━━━━━━━━━━━━━━━━━━━━━━\u001b[0m \u001b[32m11.7/11.7 MB\u001b[0m \u001b[31m96.8 MB/s\u001b[0m eta \u001b[36m0:00:00\u001b[0m\n",
            "\u001b[?25hRequirement already satisfied: numpy>=1.18.5 in /usr/local/lib/python3.8/dist-packages (from pandas==1.4.4) (1.21.6)\n",
            "Requirement already satisfied: pytz>=2020.1 in /usr/local/lib/python3.8/dist-packages (from pandas==1.4.4) (2022.7)\n",
            "Requirement already satisfied: python-dateutil>=2.8.1 in /usr/local/lib/python3.8/dist-packages (from pandas==1.4.4) (2.8.2)\n",
            "Requirement already satisfied: six>=1.5 in /usr/local/lib/python3.8/dist-packages (from python-dateutil>=2.8.1->pandas==1.4.4) (1.15.0)\n",
            "Installing collected packages: pandas\n",
            "  Attempting uninstall: pandas\n",
            "    Found existing installation: pandas 1.3.5\n",
            "    Uninstalling pandas-1.3.5:\n",
            "      Successfully uninstalled pandas-1.3.5\n",
            "Successfully installed pandas-1.4.4\n"
          ]
        },
        {
          "output_type": "display_data",
          "data": {
            "application/vnd.colab-display-data+json": {
              "pip_warning": {
                "packages": [
                  "pandas"
                ]
              }
            }
          },
          "metadata": {}
        }
      ]
    },
    {
      "cell_type": "code",
      "execution_count": null,
      "metadata": {
        "id": "HSACEcnrKkJx"
      },
      "outputs": [],
      "source": [
        "import pandas as pd\n",
        "# from tsai.all import SlidingWindowPanel\n",
        "import numpy as np\n",
        "\n",
        "from sklearn.model_selection import train_test_split\n",
        "\n",
        "from tensorflow.keras import Input, Model\n",
        "from tensorflow.keras.layers import Dense\n",
        "from tensorflow.keras.models import load_model\n",
        "import tensorflow.keras as keras\n",
        "import tensorflow.keras.backend as K\n",
        "from tensorflow.keras.callbacks import ReduceLROnPlateau, EarlyStopping"
      ]
    },
    {
      "cell_type": "code",
      "execution_count": null,
      "metadata": {
        "id": "8wrJ9Vy9KkJ0"
      },
      "outputs": [],
      "source": [
        "def norm_df(df,cols):\n",
        "  for col in cols:\n",
        "    df[col] = df[col] / df[col].max()\n",
        "  return df"
      ]
    },
    {
      "cell_type": "code",
      "execution_count": null,
      "metadata": {
        "id": "Ypcn2jkYKkJ0"
      },
      "outputs": [],
      "source": [
        "df_shift7 = pd.read_pickle('/content/drive/MyDrive/Master/DSP/merge_df_shift_7.pickle')\n",
        "df_shift7 = df_shift7[['date', 'NDVI_mean', 'NDMI_mean', 'NBSI_mean', 'name', 'tavg',  'prcp',\n",
        "       'NDVI_mean_shift', 'tavg_shift', 'prcp_shift']]\n",
        "df_shift14 = pd.read_pickle('/content/drive/MyDrive/Master/DSP/merge_df_shift_14.pickle')\n",
        "df_shift14 = df_shift14[['date', 'NDVI_mean', 'NDMI_mean', 'NBSI_mean', 'name', 'tavg',\n",
        "        'prcp','NDVI_mean_shift', 'tavg_shift', 'prcp_shift']]"
      ]
    },
    {
      "cell_type": "code",
      "execution_count": null,
      "metadata": {
        "id": "XMgexYNUKkJ1"
      },
      "outputs": [],
      "source": [
        "df_shift7 = norm_df(df_shift7, ['tavg','prcp','tavg_shift','prcp_shift'])\n",
        "df_shift14 = norm_df(df_shift14, ['tavg','prcp','tavg_shift','prcp_shift'])\n",
        "df_shift7.dropna(axis = 0, inplace = True)\n",
        "df_shift14.dropna(axis = 0, inplace = True)"
      ]
    },
    {
      "cell_type": "code",
      "execution_count": null,
      "metadata": {
        "colab": {
          "base_uri": "https://localhost:8080/"
        },
        "id": "1kVeb1B3KkJ1",
        "outputId": "3218b38e-7852-4f70-b400-b72cfa582367"
      },
      "outputs": [
        {
          "output_type": "execute_result",
          "data": {
            "text/plain": [
              "Index(['date', 'NDVI_mean', 'NDMI_mean', 'NBSI_mean', 'name', 'tavg', 'prcp',\n",
              "       'NDVI_mean_shift', 'tavg_shift', 'prcp_shift'],\n",
              "      dtype='object')"
            ]
          },
          "metadata": {},
          "execution_count": 39
        }
      ],
      "source": [
        "df_shift14.columns"
      ]
    },
    {
      "cell_type": "code",
      "execution_count": null,
      "metadata": {
        "id": "0MJ_iYfvKkJ1"
      },
      "outputs": [],
      "source": [
        "x_cols = ['NDVI_mean', 'NDMI_mean', 'NBSI_mean', 'tavg_shift', 'prcp_shift']"
      ]
    },
    {
      "cell_type": "code",
      "execution_count": null,
      "metadata": {
        "colab": {
          "base_uri": "https://localhost:8080/",
          "height": 121
        },
        "id": "FlYzuIrlKkJ2",
        "outputId": "372b81a5-2b6b-42f7-ae50-c04f57bf024f"
      },
      "outputs": [
        {
          "output_type": "stream",
          "name": "stdout",
          "text": [
            "processing data...\n"
          ]
        },
        {
          "output_type": "display_data",
          "data": {
            "text/plain": [
              "<IPython.core.display.HTML object>"
            ],
            "text/html": [
              "\n",
              "<style>\n",
              "    /* Turns off some styling */\n",
              "    progress {\n",
              "        /* gets rid of default border in Firefox and Opera. */\n",
              "        border: none;\n",
              "        /* Needs to be in here for Safari polyfill so background images work as expected. */\n",
              "        background-size: auto;\n",
              "    }\n",
              "    progress:not([value]), progress:not([value])::-webkit-progress-bar {\n",
              "        background: repeating-linear-gradient(45deg, #7e7e7e, #7e7e7e 10px, #5c5c5c 10px, #5c5c5c 20px);\n",
              "    }\n",
              "    .progress-bar-interrupted, .progress-bar-interrupted::-webkit-progress-bar {\n",
              "        background: #F44336;\n",
              "    }\n",
              "</style>\n"
            ]
          },
          "metadata": {}
        },
        {
          "output_type": "display_data",
          "data": {
            "text/plain": [
              "<IPython.core.display.HTML object>"
            ],
            "text/html": []
          },
          "metadata": {}
        },
        {
          "output_type": "stream",
          "name": "stdout",
          "text": [
            "...data processed\n",
            "concatenating X...\n",
            "...X concatenated\n",
            "concatenating y...\n",
            "...y concatenated\n"
          ]
        }
      ],
      "source": [
        "sliding_window_X, sliding_window_y = SlidingWindowPanel(window_len=14, unique_id_cols=[\n",
        "                                                        'name'], get_x=x_cols, get_y=['NDVI_mean_shift'], stride=1, horizon = 14)(df_shift14)\n"
      ]
    },
    {
      "cell_type": "code",
      "execution_count": null,
      "metadata": {
        "colab": {
          "base_uri": "https://localhost:8080/"
        },
        "id": "-DeEkIlNKkJ2",
        "outputId": "d41f30e9-4f45-4174-ff36-918d171798c4"
      },
      "outputs": [
        {
          "output_type": "execute_result",
          "data": {
            "text/plain": [
              "(48607, 14)"
            ]
          },
          "metadata": {},
          "execution_count": 10
        }
      ],
      "source": [
        "sliding_window_y.shape"
      ]
    },
    {
      "cell_type": "code",
      "execution_count": null,
      "metadata": {
        "id": "OazlxhzRKkJ2"
      },
      "outputs": [],
      "source": [
        "X_train, X_test, y_train, y_test = train_test_split(sliding_window_X, sliding_window_y,\n",
        "                                                    random_state=42, shuffle=False, test_size=0.2)"
      ]
    },
    {
      "cell_type": "code",
      "source": [
        "X_train.shape"
      ],
      "metadata": {
        "colab": {
          "base_uri": "https://localhost:8080/"
        },
        "id": "lsOiiMiTMXwq",
        "outputId": "a9ec68ff-9add-4a7f-a38e-52e4532df589"
      },
      "execution_count": null,
      "outputs": [
        {
          "output_type": "execute_result",
          "data": {
            "text/plain": [
              "(38885, 5, 14)"
            ]
          },
          "metadata": {},
          "execution_count": 12
        }
      ]
    },
    {
      "cell_type": "code",
      "execution_count": null,
      "metadata": {
        "colab": {
          "base_uri": "https://localhost:8080/"
        },
        "id": "BM3f7lAnKkJ2",
        "outputId": "978259a2-68c9-44aa-8a99-7b67dc07baba"
      },
      "outputs": [
        {
          "output_type": "execute_result",
          "data": {
            "text/plain": [
              "(38885, 14, 5)"
            ]
          },
          "metadata": {},
          "execution_count": 16
        }
      ],
      "source": [
        "X_train = np.moveaxis(X_train, 1, -1)\n",
        "X_train.shape"
      ]
    },
    {
      "cell_type": "code",
      "execution_count": null,
      "metadata": {
        "colab": {
          "base_uri": "https://localhost:8080/"
        },
        "id": "Ihn2fb0uKkJ3",
        "outputId": "68f3c980-63d7-4f22-ddcf-fca8002616a0"
      },
      "outputs": [
        {
          "output_type": "execute_result",
          "data": {
            "text/plain": [
              "(9722, 14, 5)"
            ]
          },
          "metadata": {},
          "execution_count": 17
        }
      ],
      "source": [
        "X_test = np.moveaxis(X_test, 1, -1)\n",
        "X_test.shape"
      ]
    },
    {
      "cell_type": "code",
      "source": [
        "y_train.shape"
      ],
      "metadata": {
        "colab": {
          "base_uri": "https://localhost:8080/"
        },
        "id": "OAeOc_wf55LI",
        "outputId": "9b6492d4-6996-4c30-d329-6a2fd9f8a5a9"
      },
      "execution_count": null,
      "outputs": [
        {
          "output_type": "execute_result",
          "data": {
            "text/plain": [
              "(38885, 14)"
            ]
          },
          "metadata": {},
          "execution_count": 63
        }
      ]
    },
    {
      "cell_type": "code",
      "source": [
        "np.save('X_train14', X_train)"
      ],
      "metadata": {
        "id": "JhDyaikttwCS"
      },
      "execution_count": null,
      "outputs": []
    },
    {
      "cell_type": "code",
      "source": [
        "np.save('X_test14', X_test)"
      ],
      "metadata": {
        "id": "R6BYVS4LuL04"
      },
      "execution_count": null,
      "outputs": []
    },
    {
      "cell_type": "code",
      "source": [
        "np.save('y_train', y_train)\n",
        "np.save('y_test', y_test)"
      ],
      "metadata": {
        "id": "FGqFvxiJubxY"
      },
      "execution_count": null,
      "outputs": []
    },
    {
      "cell_type": "code",
      "execution_count": null,
      "metadata": {
        "colab": {
          "base_uri": "https://localhost:8080/"
        },
        "id": "EUcD5KMVKkJ3",
        "outputId": "a1bf6674-0fc5-448f-b18d-a124e87c88fd"
      },
      "outputs": [
        {
          "output_type": "execute_result",
          "data": {
            "text/plain": [
              "[PhysicalDevice(name='/physical_device:CPU:0', device_type='CPU'),\n",
              " PhysicalDevice(name='/physical_device:GPU:0', device_type='GPU')]"
            ]
          },
          "metadata": {},
          "execution_count": 5
        }
      ],
      "source": [
        "import tensorflow as tf\n",
        "from tcn import TCN, compiled_tcn\n",
        "tf.config.list_physical_devices()\n"
      ]
    },
    {
      "cell_type": "code",
      "source": [
        "from tensorflow.keras import models\n",
        "from numpy import array_equal\n",
        "import numpy as np\n",
        "from tensorflow.keras.models import Sequential, Model\n",
        "from tensorflow.keras.layers import LSTM\n",
        "from tensorflow.keras.layers import Dense, Flatten\n",
        "from tensorflow.keras import Input"
      ],
      "metadata": {
        "id": "33ur3qI3zseq"
      },
      "execution_count": null,
      "outputs": []
    },
    {
      "cell_type": "code",
      "execution_count": null,
      "metadata": {
        "id": "isROCzalKkJ3"
      },
      "outputs": [],
      "source": [
        "def root_mean_squared_error(y_true, y_pred):\n",
        "    return K.sqrt(K.mean(K.square(y_pred - y_true)))"
      ]
    },
    {
      "cell_type": "code",
      "execution_count": null,
      "metadata": {
        "id": "ohqko46vKkJ4"
      },
      "outputs": [],
      "source": [
        "y_train.shape"
      ]
    },
    {
      "cell_type": "code",
      "execution_count": null,
      "metadata": {
        "id": "x_crR9ooKkJ4"
      },
      "outputs": [],
      "source": [
        "import tensorflow.keras.backend as K\n",
        "def rmse(y_true,y_pred):\n",
        "  return K.sqrt(K.mean(K.square(y_true - y_pred)))"
      ]
    },
    {
      "cell_type": "code",
      "execution_count": null,
      "metadata": {
        "id": "ImA_RuPeKkJ4"
      },
      "outputs": [],
      "source": [
        "def compile_model(swp_X, nb_filters, kernel_size, dilations, dropout_rate, y_train):\n",
        "\n",
        "    # output tcn2\n",
        "    nb_features = swp_X.shape[2]\n",
        "    nb_outputs = y_train.shape[1]\n",
        "\n",
        "    model = Sequential()\n",
        "    model.add(LSTM(nb_filters, return_sequences=True,\n",
        "                  input_shape=(swp_X.shape[1], nb_features), dropout=dropout_rate))  # returns a sequence of vectors of dimension 32\n",
        "    model.add(LSTM(nb_filters, return_sequences=True, dropout=dropout_rate))  # returns a sequence of vectors of dimension 32\n",
        "    model.add(LSTM(nb_filters))  # return a single vector of dimension 32\n",
        "    model.add(Dense(nb_outputs, activation='softmax'))\n",
        "\n",
        "    return model"
      ]
    },
    {
      "cell_type": "code",
      "source": [
        "def get_optimizer(lr=1e-3, optimizer=\"adam\"):\n",
        "    \"Select optmizer between adam and sgd with momentum\"\n",
        "    if optimizer.lower() == \"adam\":\n",
        "        return tf.keras.optimizers.Adam(learning_rate=lr)\n",
        "    if optimizer.lower() == \"sgd\":\n",
        "        return tf.keras.optimizers.SGD(learning_rate=lr, momentum=0.1)\n",
        "    if optimizer.lower() == \"adadelta\":\n",
        "        return tf.keras.optimizers.Adadelta(learning_rate=lr)\n",
        "\n",
        "\n",
        "def train(X_train, y_train, batch_size=512, epochs=500, lr=1e-3, optimizer='adam', dropout_rate=0.1, nb_filters=32, kernel_size=3, dilations=[\n",
        "            1, 2, 4, 8, 16, 32, 64]):  \n",
        "\n",
        "    model = compile_model(X_train, nb_filters, kernel_size, dilations, dropout_rate, y_train)\n",
        "    \n",
        "    # Compile model like you usually do.\n",
        "    tf.keras.backend.clear_session()\n",
        "    model.compile(loss=root_mean_squared_error, \n",
        "                  optimizer=get_optimizer(lr, optimizer), \n",
        "                  metrics=['mae', root_mean_squared_error])\n",
        "\n",
        "    # callback setup\n",
        "    wandb_callbacks = [\n",
        "        WandbCallback(),\n",
        "        EarlyStopping(patience=15),\n",
        "        ReduceLROnPlateau(patience=10)\n",
        "        #WandbModelCheckpoint(filepath=\"my_model_{epoch:02d}\")\n",
        "    ]\n",
        "\n",
        "    model.fit(X_train, \n",
        "              y_train, \n",
        "              batch_size=batch_size, \n",
        "              epochs=epochs, \n",
        "              validation_split=0.2, \n",
        "              callbacks=wandb_callbacks)"
      ],
      "metadata": {
        "id": "kVp9u2GdL_Nz"
      },
      "execution_count": null,
      "outputs": []
    },
    {
      "cell_type": "code",
      "source": [
        "def sweep_train(config_defaults=None):\n",
        "    # Initialize wandb with a sample project name\n",
        "    with wandb.init(config=config_defaults, reinit=True):  # this gets over-written in the Sweep\n",
        "\n",
        "        # Specify the other hyperparameters to the configuration, if any\n",
        "        wandb.config.architecture_name = \"TCN\"\n",
        "        wandb.config.dataset_name = \"Sentinel_2_ndvi\"\n",
        "\n",
        "        train(X_train,\n",
        "              y_train,\n",
        "              wandb.config.batch_size, \n",
        "              wandb.config.epochs,\n",
        "              wandb.config.lr,\n",
        "              wandb.config.optimizer,\n",
        "              wandb.config.dropout_rate,\n",
        "              wandb.config.nb_filters,\n",
        "              wandb.config.kernel_size\n",
        "              )"
      ],
      "metadata": {
        "id": "9qKft0brNyM_"
      },
      "execution_count": null,
      "outputs": []
    },
    {
      "cell_type": "code",
      "source": [
        "X_train = np.load('X_train14.npy')\n",
        "X_test = np.load('X_test14.npy')\n",
        "y_train = np.load('y_train14.npy')\n",
        "y_test = np.load('y_test14.npy')"
      ],
      "metadata": {
        "id": "pZATAmyuUMCo"
      },
      "execution_count": null,
      "outputs": []
    },
    {
      "cell_type": "code",
      "source": [
        "model = compile_model(X_train, 64, 3, [1, 2, 4, 8, 16, 32, 64], 0.1, y_train)"
      ],
      "metadata": {
        "id": "mspcG6Fn9TfV"
      },
      "execution_count": null,
      "outputs": []
    },
    {
      "cell_type": "code",
      "source": [
        "run = wandb.init(project='LSTM_aguro', entity='gijstimmerij', reinit=True)"
      ],
      "metadata": {
        "colab": {
          "base_uri": "https://localhost:8080/",
          "height": 121
        },
        "id": "gjvCsAg-68Vq",
        "outputId": "3b7c6cdb-66eb-46fe-e178-c1a68bd9f1c5"
      },
      "execution_count": null,
      "outputs": [
        {
          "output_type": "stream",
          "name": "stderr",
          "text": [
            "\u001b[34m\u001b[1mwandb\u001b[0m: Currently logged in as: \u001b[33mgijstimmerij\u001b[0m. Use \u001b[1m`wandb login --relogin`\u001b[0m to force relogin\n"
          ]
        },
        {
          "output_type": "display_data",
          "data": {
            "text/plain": [
              "<IPython.core.display.HTML object>"
            ],
            "text/html": [
              "Tracking run with wandb version 0.13.9"
            ]
          },
          "metadata": {}
        },
        {
          "output_type": "display_data",
          "data": {
            "text/plain": [
              "<IPython.core.display.HTML object>"
            ],
            "text/html": [
              "Run data is saved locally in <code>/content/wandb/run-20230124_131711-qodyytxu</code>"
            ]
          },
          "metadata": {}
        },
        {
          "output_type": "display_data",
          "data": {
            "text/plain": [
              "<IPython.core.display.HTML object>"
            ],
            "text/html": [
              "Syncing run <strong><a href=\"https://wandb.ai/gijstimmerij/LSTM_aguro/runs/qodyytxu\" target=\"_blank\">bright-rocket-1</a></strong> to <a href=\"https://wandb.ai/gijstimmerij/LSTM_aguro\" target=\"_blank\">Weights & Biases</a> (<a href=\"https://wandb.me/run\" target=\"_blank\">docs</a>)<br/>"
            ]
          },
          "metadata": {}
        },
        {
          "output_type": "display_data",
          "data": {
            "text/plain": [
              "<IPython.core.display.HTML object>"
            ],
            "text/html": [
              " View project at <a href=\"https://wandb.ai/gijstimmerij/LSTM_aguro\" target=\"_blank\">https://wandb.ai/gijstimmerij/LSTM_aguro</a>"
            ]
          },
          "metadata": {}
        },
        {
          "output_type": "display_data",
          "data": {
            "text/plain": [
              "<IPython.core.display.HTML object>"
            ],
            "text/html": [
              " View run at <a href=\"https://wandb.ai/gijstimmerij/LSTM_aguro/runs/qodyytxu\" target=\"_blank\">https://wandb.ai/gijstimmerij/LSTM_aguro/runs/qodyytxu</a>"
            ]
          },
          "metadata": {}
        }
      ]
    },
    {
      "cell_type": "code",
      "source": [
        "model.compile(loss=root_mean_squared_error,\n",
        "              optimizer='adam', metrics=['mae', root_mean_squared_error]\n",
        "              )"
      ],
      "metadata": {
        "id": "2VRUjZ_WCqRx"
      },
      "execution_count": null,
      "outputs": []
    },
    {
      "cell_type": "code",
      "source": [
        "model.summary()"
      ],
      "metadata": {
        "colab": {
          "base_uri": "https://localhost:8080/"
        },
        "id": "LBq8ZD3zZNiq",
        "outputId": "d3b1b62d-ee5c-485e-f371-d343aa5a1768"
      },
      "execution_count": null,
      "outputs": [
        {
          "output_type": "stream",
          "name": "stdout",
          "text": [
            "Model: \"sequential_3\"\n",
            "_________________________________________________________________\n",
            " Layer (type)                Output Shape              Param #   \n",
            "=================================================================\n",
            " lstm_7 (LSTM)               (None, 14, 64)            17920     \n",
            "                                                                 \n",
            " lstm_8 (LSTM)               (None, 14, 64)            33024     \n",
            "                                                                 \n",
            " lstm_9 (LSTM)               (None, 64)                33024     \n",
            "                                                                 \n",
            " dense_1 (Dense)             (None, 14)                910       \n",
            "                                                                 \n",
            "=================================================================\n",
            "Total params: 84,878\n",
            "Trainable params: 84,878\n",
            "Non-trainable params: 0\n",
            "_________________________________________________________________\n"
          ]
        }
      ]
    },
    {
      "cell_type": "code",
      "source": [
        "X_train = np.load('X_train14.npy')\n",
        "X_test = np.load('X_test14.npy')\n",
        "y_train = np.load('y_train14.npy')\n",
        "y_test = np.load('y_test14.npy')"
      ],
      "metadata": {
        "id": "py9J7jMaQ3is"
      },
      "execution_count": null,
      "outputs": []
    },
    {
      "cell_type": "code",
      "source": [
        "wandb_callbacks = [WandbCallback(),\n",
        "                   EarlyStopping(patience=15),\n",
        "                   ReduceLROnPlateau(patience=10)\n",
        "]\n",
        "\n",
        "model.fit(X_train, \n",
        "          y_train, \n",
        "          batch_size=512, \n",
        "          epochs=200, \n",
        "          validation_split=0.2, \n",
        "          callbacks=wandb_callbacks)"
      ],
      "metadata": {
        "id": "1p27LKBkDCb-",
        "colab": {
          "base_uri": "https://localhost:8080/"
        },
        "outputId": "2e68a61e-0f3e-49dd-a98f-206d51c6b121"
      },
      "execution_count": null,
      "outputs": [
        {
          "output_type": "stream",
          "name": "stdout",
          "text": [
            "Epoch 1/200\n",
            "60/61 [============================>.] - ETA: 0s - loss: 0.6332 - mae: 0.5987 - root_mean_squared_error: 0.6332"
          ]
        },
        {
          "output_type": "stream",
          "name": "stderr",
          "text": [
            "WARNING:absl:Found untraced functions such as lstm_cell_7_layer_call_fn, lstm_cell_7_layer_call_and_return_conditional_losses, lstm_cell_8_layer_call_fn, lstm_cell_8_layer_call_and_return_conditional_losses, lstm_cell_9_layer_call_fn while saving (showing 5 of 6). These functions will not be directly callable after loading.\n",
            "\u001b[34m\u001b[1mwandb\u001b[0m: Adding directory to artifact (/content/wandb/run-20230124_131711-qodyytxu/files/model-best)... Done. 0.0s\n"
          ]
        },
        {
          "output_type": "stream",
          "name": "stdout",
          "text": [
            "\b\b\b\b\b\b\b\b\b\b\b\b\b\b\b\b\b\b\b\b\b\b\b\b\b\b\b\b\b\b\b\b\b\b\b\b\b\b\b\b\b\b\b\b\b\b\b\b\b\b\b\b\b\b\b\b\b\b\b\b\b\b\b\b\b\b\b\b\b\b\b\b\b\b\b\b\b\b\b\b\b\b\b\b\b\b\b\b\b\b\b\b\b\b\b\b\b\b\b\b\b\b\b\b\b\b\b\b\b\b\b\r61/61 [==============================] - 17s 211ms/step - loss: 0.6331 - mae: 0.5985 - root_mean_squared_error: 0.6331 - val_loss: 0.7242 - val_mae: 0.7126 - val_root_mean_squared_error: 0.7280 - lr: 0.0010\n",
            "Epoch 2/200\n",
            "61/61 [==============================] - 1s 11ms/step - loss: 0.6331 - mae: 0.5985 - root_mean_squared_error: 0.6331 - val_loss: 0.7242 - val_mae: 0.7126 - val_root_mean_squared_error: 0.7280 - lr: 0.0010\n",
            "Epoch 3/200\n",
            "61/61 [==============================] - 1s 11ms/step - loss: 0.6331 - mae: 0.5985 - root_mean_squared_error: 0.6331 - val_loss: 0.7242 - val_mae: 0.7126 - val_root_mean_squared_error: 0.7280 - lr: 0.0010\n",
            "Epoch 4/200\n",
            "61/61 [==============================] - 1s 11ms/step - loss: 0.6331 - mae: 0.5985 - root_mean_squared_error: 0.6331 - val_loss: 0.7243 - val_mae: 0.7126 - val_root_mean_squared_error: 0.7280 - lr: 0.0010\n",
            "Epoch 5/200\n",
            "58/61 [===========================>..] - ETA: 0s - loss: 0.6332 - mae: 0.5987 - root_mean_squared_error: 0.6332"
          ]
        },
        {
          "output_type": "stream",
          "name": "stderr",
          "text": [
            "WARNING:absl:Found untraced functions such as lstm_cell_7_layer_call_fn, lstm_cell_7_layer_call_and_return_conditional_losses, lstm_cell_8_layer_call_fn, lstm_cell_8_layer_call_and_return_conditional_losses, lstm_cell_9_layer_call_fn while saving (showing 5 of 6). These functions will not be directly callable after loading.\n",
            "\u001b[34m\u001b[1mwandb\u001b[0m: Adding directory to artifact (/content/wandb/run-20230124_131711-qodyytxu/files/model-best)... Done. 0.0s\n"
          ]
        },
        {
          "output_type": "stream",
          "name": "stdout",
          "text": [
            "\b\b\b\b\b\b\b\b\b\b\b\b\b\b\b\b\b\b\b\b\b\b\b\b\b\b\b\b\b\b\b\b\b\b\b\b\b\b\b\b\b\b\b\b\b\b\b\b\b\b\b\b\b\b\b\b\b\b\b\b\b\b\b\b\b\b\b\b\b\b\b\b\b\b\b\b\b\b\b\b\b\b\b\b\b\b\b\b\b\b\b\b\b\b\b\b\b\b\b\b\b\b\b\b\b\b\b\b\b\b\b\r61/61 [==============================] - 11s 190ms/step - loss: 0.6331 - mae: 0.5985 - root_mean_squared_error: 0.6330 - val_loss: 0.7242 - val_mae: 0.7126 - val_root_mean_squared_error: 0.7280 - lr: 0.0010\n",
            "Epoch 6/200\n",
            "61/61 [==============================] - 1s 11ms/step - loss: 0.6331 - mae: 0.5985 - root_mean_squared_error: 0.6331 - val_loss: 0.7242 - val_mae: 0.7126 - val_root_mean_squared_error: 0.7280 - lr: 0.0010\n",
            "Epoch 7/200\n",
            "61/61 [==============================] - 1s 11ms/step - loss: 0.6331 - mae: 0.5985 - root_mean_squared_error: 0.6331 - val_loss: 0.7242 - val_mae: 0.7126 - val_root_mean_squared_error: 0.7280 - lr: 0.0010\n",
            "Epoch 8/200\n",
            "61/61 [==============================] - 1s 11ms/step - loss: 0.6331 - mae: 0.5985 - root_mean_squared_error: 0.6331 - val_loss: 0.7243 - val_mae: 0.7126 - val_root_mean_squared_error: 0.7280 - lr: 0.0010\n",
            "Epoch 9/200\n",
            "61/61 [==============================] - 1s 10ms/step - loss: 0.6331 - mae: 0.5985 - root_mean_squared_error: 0.6331 - val_loss: 0.7242 - val_mae: 0.7126 - val_root_mean_squared_error: 0.7280 - lr: 0.0010\n",
            "Epoch 10/200\n",
            "61/61 [==============================] - 1s 11ms/step - loss: 0.6330 - mae: 0.5985 - root_mean_squared_error: 0.6330 - val_loss: 0.7242 - val_mae: 0.7126 - val_root_mean_squared_error: 0.7280 - lr: 0.0010\n",
            "Epoch 11/200\n",
            "58/61 [===========================>..] - ETA: 0s - loss: 0.6330 - mae: 0.5984 - root_mean_squared_error: 0.6330"
          ]
        },
        {
          "output_type": "stream",
          "name": "stderr",
          "text": [
            "WARNING:absl:Found untraced functions such as lstm_cell_7_layer_call_fn, lstm_cell_7_layer_call_and_return_conditional_losses, lstm_cell_8_layer_call_fn, lstm_cell_8_layer_call_and_return_conditional_losses, lstm_cell_9_layer_call_fn while saving (showing 5 of 6). These functions will not be directly callable after loading.\n",
            "\u001b[34m\u001b[1mwandb\u001b[0m: Adding directory to artifact (/content/wandb/run-20230124_131711-qodyytxu/files/model-best)... Done. 0.0s\n"
          ]
        },
        {
          "output_type": "stream",
          "name": "stdout",
          "text": [
            "\b\b\b\b\b\b\b\b\b\b\b\b\b\b\b\b\b\b\b\b\b\b\b\b\b\b\b\b\b\b\b\b\b\b\b\b\b\b\b\b\b\b\b\b\b\b\b\b\b\b\b\b\b\b\b\b\b\b\b\b\b\b\b\b\b\b\b\b\b\b\b\b\b\b\b\b\b\b\b\b\b\b\b\b\b\b\b\b\b\b\b\b\b\b\b\b\b\b\b\b\b\b\b\b\b\b\b\b\b\b\b\r61/61 [==============================] - 12s 192ms/step - loss: 0.6331 - mae: 0.5985 - root_mean_squared_error: 0.6331 - val_loss: 0.7242 - val_mae: 0.7126 - val_root_mean_squared_error: 0.7279 - lr: 0.0010\n",
            "Epoch 12/200\n",
            "61/61 [==============================] - 1s 11ms/step - loss: 0.6330 - mae: 0.5985 - root_mean_squared_error: 0.6331 - val_loss: 0.7242 - val_mae: 0.7126 - val_root_mean_squared_error: 0.7280 - lr: 1.0000e-04\n",
            "Epoch 13/200\n",
            "61/61 [==============================] - 1s 11ms/step - loss: 0.6330 - mae: 0.5985 - root_mean_squared_error: 0.6330 - val_loss: 0.7242 - val_mae: 0.7126 - val_root_mean_squared_error: 0.7280 - lr: 1.0000e-04\n",
            "Epoch 14/200\n",
            "61/61 [==============================] - 1s 11ms/step - loss: 0.6331 - mae: 0.5985 - root_mean_squared_error: 0.6330 - val_loss: 0.7242 - val_mae: 0.7126 - val_root_mean_squared_error: 0.7280 - lr: 1.0000e-04\n",
            "Epoch 15/200\n",
            "61/61 [==============================] - 1s 11ms/step - loss: 0.6330 - mae: 0.5985 - root_mean_squared_error: 0.6330 - val_loss: 0.7242 - val_mae: 0.7126 - val_root_mean_squared_error: 0.7280 - lr: 1.0000e-04\n",
            "Epoch 16/200\n",
            "61/61 [==============================] - 1s 11ms/step - loss: 0.6331 - mae: 0.5985 - root_mean_squared_error: 0.6331 - val_loss: 0.7242 - val_mae: 0.7126 - val_root_mean_squared_error: 0.7280 - lr: 1.0000e-04\n",
            "Epoch 17/200\n",
            "61/61 [==============================] - 1s 10ms/step - loss: 0.6330 - mae: 0.5985 - root_mean_squared_error: 0.6330 - val_loss: 0.7242 - val_mae: 0.7126 - val_root_mean_squared_error: 0.7280 - lr: 1.0000e-04\n",
            "Epoch 18/200\n",
            "61/61 [==============================] - 1s 11ms/step - loss: 0.6330 - mae: 0.5985 - root_mean_squared_error: 0.6330 - val_loss: 0.7242 - val_mae: 0.7126 - val_root_mean_squared_error: 0.7280 - lr: 1.0000e-04\n",
            "Epoch 19/200\n",
            "61/61 [==============================] - 1s 10ms/step - loss: 0.6330 - mae: 0.5985 - root_mean_squared_error: 0.6330 - val_loss: 0.7242 - val_mae: 0.7126 - val_root_mean_squared_error: 0.7280 - lr: 1.0000e-04\n",
            "Epoch 20/200\n",
            "61/61 [==============================] - 1s 11ms/step - loss: 0.6330 - mae: 0.5985 - root_mean_squared_error: 0.6330 - val_loss: 0.7242 - val_mae: 0.7126 - val_root_mean_squared_error: 0.7280 - lr: 1.0000e-04\n",
            "Epoch 21/200\n",
            "61/61 [==============================] - 1s 11ms/step - loss: 0.6330 - mae: 0.5985 - root_mean_squared_error: 0.6331 - val_loss: 0.7242 - val_mae: 0.7126 - val_root_mean_squared_error: 0.7280 - lr: 1.0000e-04\n",
            "Epoch 22/200\n",
            "61/61 [==============================] - 1s 11ms/step - loss: 0.6330 - mae: 0.5985 - root_mean_squared_error: 0.6330 - val_loss: 0.7242 - val_mae: 0.7126 - val_root_mean_squared_error: 0.7280 - lr: 1.0000e-05\n",
            "Epoch 23/200\n",
            "61/61 [==============================] - 1s 11ms/step - loss: 0.6330 - mae: 0.5985 - root_mean_squared_error: 0.6331 - val_loss: 0.7242 - val_mae: 0.7126 - val_root_mean_squared_error: 0.7280 - lr: 1.0000e-05\n",
            "Epoch 24/200\n",
            "61/61 [==============================] - 1s 11ms/step - loss: 0.6330 - mae: 0.5985 - root_mean_squared_error: 0.6330 - val_loss: 0.7242 - val_mae: 0.7126 - val_root_mean_squared_error: 0.7280 - lr: 1.0000e-05\n",
            "Epoch 25/200\n",
            "61/61 [==============================] - 1s 11ms/step - loss: 0.6330 - mae: 0.5985 - root_mean_squared_error: 0.6330 - val_loss: 0.7242 - val_mae: 0.7126 - val_root_mean_squared_error: 0.7280 - lr: 1.0000e-05\n",
            "Epoch 26/200\n",
            "61/61 [==============================] - 1s 11ms/step - loss: 0.6330 - mae: 0.5985 - root_mean_squared_error: 0.6331 - val_loss: 0.7242 - val_mae: 0.7126 - val_root_mean_squared_error: 0.7280 - lr: 1.0000e-05\n"
          ]
        },
        {
          "output_type": "execute_result",
          "data": {
            "text/plain": [
              "<keras.callbacks.History at 0x7f1071135e50>"
            ]
          },
          "metadata": {},
          "execution_count": 27
        }
      ]
    },
    {
      "cell_type": "code",
      "source": [
        "run.finish()"
      ],
      "metadata": {
        "colab": {
          "base_uri": "https://localhost:8080/",
          "height": 371
        },
        "id": "qNspOT4I7yyU",
        "outputId": "5a303148-1d64-4894-f1f6-2702f3c94d9a"
      },
      "execution_count": null,
      "outputs": [
        {
          "output_type": "display_data",
          "data": {
            "text/plain": [
              "<IPython.core.display.HTML object>"
            ],
            "text/html": [
              "Waiting for W&B process to finish... <strong style=\"color:green\">(success).</strong>"
            ]
          },
          "metadata": {}
        },
        {
          "output_type": "display_data",
          "data": {
            "text/plain": [
              "<IPython.core.display.HTML object>"
            ],
            "text/html": [
              "<style>\n",
              "    table.wandb td:nth-child(1) { padding: 0 10px; text-align: left ; width: auto;} td:nth-child(2) {text-align: left ; width: 100%}\n",
              "    .wandb-row { display: flex; flex-direction: row; flex-wrap: wrap; justify-content: flex-start; width: 100% }\n",
              "    .wandb-col { display: flex; flex-direction: column; flex-basis: 100%; flex: 1; padding: 10px; }\n",
              "    </style>\n",
              "<div class=\"wandb-row\"><div class=\"wandb-col\"><h3>Run history:</h3><br/><table class=\"wandb\"><tr><td>epoch</td><td>▁▁▂▂▂▂▃▃▃▄▄▄▄▅▅▅▅▆▆▆▇▇▇▇██</td></tr><tr><td>loss</td><td>█▇██▆▇▆▇▆▃▅▃▃▄▄▄▄▃▄▃▃▄▃▁▂▄</td></tr><tr><td>mae</td><td>▆▆▇█▆▆▇█▅▅▆▂▃▂▃▂▃▁▁▁▁▅▃▃▂▄</td></tr><tr><td>root_mean_squared_error</td><td>▅█▄█▄▆▅▆█▂█▇▃▂▂▆▂▄▃▁▅▃▆▃▂▄</td></tr><tr><td>val_loss</td><td>▅▅▆█▅▆▅█▅▆▁▄▂▂▃▄▂▂▂▃▄▄▄▃▃▃</td></tr><tr><td>val_mae</td><td>▆▅▅▆▄▅▄█▄▃▁▄▂▃▃▄▂▂▃▄▅▄▄▄▄▄</td></tr><tr><td>val_root_mean_squared_error</td><td>▄▅▆█▅▅▅▇▅▆▁▄▂▂▃▄▂▂▃▃▄▄▄▃▃▃</td></tr></table><br/></div><div class=\"wandb-col\"><h3>Run summary:</h3><br/><table class=\"wandb\"><tr><td>best_epoch</td><td>10</td></tr><tr><td>best_val_loss</td><td>0.7242</td></tr><tr><td>epoch</td><td>25</td></tr><tr><td>loss</td><td>0.63304</td></tr><tr><td>mae</td><td>0.59852</td></tr><tr><td>root_mean_squared_error</td><td>0.63306</td></tr><tr><td>val_loss</td><td>0.72422</td></tr><tr><td>val_mae</td><td>0.71264</td></tr><tr><td>val_root_mean_squared_error</td><td>0.72796</td></tr></table><br/></div></div>"
            ]
          },
          "metadata": {}
        },
        {
          "output_type": "display_data",
          "data": {
            "text/plain": [
              "<IPython.core.display.HTML object>"
            ],
            "text/html": [
              " View run <strong style=\"color:#cdcd00\">bright-rocket-1</strong> at: <a href=\"https://wandb.ai/gijstimmerij/LSTM_aguro/runs/qodyytxu\" target=\"_blank\">https://wandb.ai/gijstimmerij/LSTM_aguro/runs/qodyytxu</a><br/>Synced 5 W&B file(s), 1 media file(s), 12 artifact file(s) and 1 other file(s)"
            ]
          },
          "metadata": {}
        },
        {
          "output_type": "display_data",
          "data": {
            "text/plain": [
              "<IPython.core.display.HTML object>"
            ],
            "text/html": [
              "Find logs at: <code>./wandb/run-20230124_131711-qodyytxu/logs</code>"
            ]
          },
          "metadata": {}
        }
      ]
    },
    {
      "cell_type": "code",
      "source": [
        "sweep_id = wandb.sweep(sweep_configuration, project=\"aguro_tcn\")"
      ],
      "metadata": {
        "colab": {
          "base_uri": "https://localhost:8080/"
        },
        "id": "KKr6pj6vO1Pe",
        "outputId": "f3a25b83-68c5-4c1a-c370-b9f952a50511"
      },
      "execution_count": null,
      "outputs": [
        {
          "output_type": "stream",
          "name": "stdout",
          "text": [
            "Create sweep with ID: 9vw7gd6y\n",
            "Sweep URL: https://wandb.ai/dsp_aguro/aguro_tcn/sweeps/9vw7gd6y\n"
          ]
        }
      ]
    },
    {
      "cell_type": "code",
      "source": [
        "wandb.agent(sweep_id, function=sweep_train, count=100)"
      ],
      "metadata": {
        "colab": {
          "base_uri": "https://localhost:8080/",
          "height": 1000,
          "referenced_widgets": [
            "a40c82ff25cb461e9d33b515cc6dfb74",
            "66abb142c16a4d8f8f536388bbb6012b",
            "0e8d2bdee7d54ba393f71d6e33bc3179",
            "d19e3e39a2944ad9baaa59aec47e3f14",
            "4c27a61941e1463da4a7ce5d27ffda1a",
            "c3c1f711dba5458b9f45acb8b65a2ffc",
            "96c30c7478b141c08c6f6a8832305c3b",
            "53d8b0d3d0e34ff9afe67e448f350c2c"
          ]
        },
        "id": "Dllzp0mYPnRf",
        "outputId": "f0705fe2-7d6f-49ee-922d-3661c8088878"
      },
      "execution_count": null,
      "outputs": [
        {
          "output_type": "stream",
          "name": "stderr",
          "text": [
            "\u001b[34m\u001b[1mwandb\u001b[0m: Agent Starting Run: oag9879x with config:\n",
            "\u001b[34m\u001b[1mwandb\u001b[0m: \tbatch_size: 512\n",
            "\u001b[34m\u001b[1mwandb\u001b[0m: \tdropout_rate: 0.5\n",
            "\u001b[34m\u001b[1mwandb\u001b[0m: \tepochs: 500\n",
            "\u001b[34m\u001b[1mwandb\u001b[0m: \tkernel_size: 12\n",
            "\u001b[34m\u001b[1mwandb\u001b[0m: \tlr: 0.0717458955462187\n",
            "\u001b[34m\u001b[1mwandb\u001b[0m: \tnb_filters: 16\n",
            "\u001b[34m\u001b[1mwandb\u001b[0m: \toptimizer: adam\n",
            "Failed to detect the name of this notebook, you can set it manually with the WANDB_NOTEBOOK_NAME environment variable to enable code saving.\n"
          ]
        },
        {
          "output_type": "display_data",
          "data": {
            "text/plain": [
              "<IPython.core.display.HTML object>"
            ],
            "text/html": [
              "Tracking run with wandb version 0.13.9"
            ]
          },
          "metadata": {}
        },
        {
          "output_type": "display_data",
          "data": {
            "text/plain": [
              "<IPython.core.display.HTML object>"
            ],
            "text/html": [
              "Run data is saved locally in <code>/content/wandb/run-20230124_115339-oag9879x</code>"
            ]
          },
          "metadata": {}
        },
        {
          "output_type": "display_data",
          "data": {
            "text/plain": [
              "<IPython.core.display.HTML object>"
            ],
            "text/html": [
              "Syncing run <strong><a href=\"https://wandb.ai/dsp_aguro/aguro_tcn/runs/oag9879x\" target=\"_blank\">pretty-sweep-7</a></strong> to <a href=\"https://wandb.ai/dsp_aguro/aguro_tcn\" target=\"_blank\">Weights & Biases</a> (<a href=\"https://wandb.me/run\" target=\"_blank\">docs</a>)<br/>Sweep page: <a href=\"https://wandb.ai/dsp_aguro/aguro_tcn/sweeps/9vw7gd6y\" target=\"_blank\">https://wandb.ai/dsp_aguro/aguro_tcn/sweeps/9vw7gd6y</a>"
            ]
          },
          "metadata": {}
        },
        {
          "output_type": "display_data",
          "data": {
            "text/plain": [
              "<IPython.core.display.HTML object>"
            ],
            "text/html": [
              " View project at <a href=\"https://wandb.ai/dsp_aguro/aguro_tcn\" target=\"_blank\">https://wandb.ai/dsp_aguro/aguro_tcn</a>"
            ]
          },
          "metadata": {}
        },
        {
          "output_type": "display_data",
          "data": {
            "text/plain": [
              "<IPython.core.display.HTML object>"
            ],
            "text/html": [
              " View sweep at <a href=\"https://wandb.ai/dsp_aguro/aguro_tcn/sweeps/9vw7gd6y\" target=\"_blank\">https://wandb.ai/dsp_aguro/aguro_tcn/sweeps/9vw7gd6y</a>"
            ]
          },
          "metadata": {}
        },
        {
          "output_type": "display_data",
          "data": {
            "text/plain": [
              "<IPython.core.display.HTML object>"
            ],
            "text/html": [
              " View run at <a href=\"https://wandb.ai/dsp_aguro/aguro_tcn/runs/oag9879x\" target=\"_blank\">https://wandb.ai/dsp_aguro/aguro_tcn/runs/oag9879x</a>"
            ]
          },
          "metadata": {}
        },
        {
          "output_type": "stream",
          "name": "stderr",
          "text": [
            "\u001b[34m\u001b[1mwandb\u001b[0m: \u001b[33mWARNING\u001b[0m The save_model argument by default saves the model in the HDF5 format that cannot save custom objects like subclassed models and custom layers. This behavior will be deprecated in a future release in favor of the SavedModel format. Meanwhile, the HDF5 model is saved as W&B files and the SavedModel as W&B Artifacts.\n"
          ]
        },
        {
          "output_type": "stream",
          "name": "stdout",
          "text": [
            "Epoch 1/500\n",
            " 6/61 [=>............................] - ETA: 4s - loss: 0.9195 - mae: 0.7334 - root_mean_squared_error: 0.9195"
          ]
        },
        {
          "output_type": "stream",
          "name": "stderr",
          "text": [
            "WARNING:tensorflow:Callback method `on_train_batch_end` is slow compared to the batch time (batch time: 0.0242s vs `on_train_batch_end` time: 0.0445s). Check your callbacks.\n"
          ]
        },
        {
          "output_type": "stream",
          "name": "stdout",
          "text": [
            "61/61 [==============================] - ETA: 0s - loss: 0.3031 - mae: 0.2348 - root_mean_squared_error: 0.3028"
          ]
        },
        {
          "output_type": "stream",
          "name": "stderr",
          "text": [
            "WARNING:absl:Found untraced functions such as residual_block_0_layer_call_fn, residual_block_0_layer_call_and_return_conditional_losses, residual_block_1_layer_call_fn, residual_block_1_layer_call_and_return_conditional_losses, residual_block_2_layer_call_fn while saving (showing 5 of 257). These functions will not be directly callable after loading.\n",
            "\u001b[34m\u001b[1mwandb\u001b[0m: Adding directory to artifact (/content/wandb/run-20230124_115339-oag9879x/files/model-best)... Done. 0.0s\n"
          ]
        },
        {
          "output_type": "stream",
          "name": "stdout",
          "text": [
            "\b\b\b\b\b\b\b\b\b\b\b\b\b\b\b\b\b\b\b\b\b\b\b\b\b\b\b\b\b\b\b\b\b\b\b\b\b\b\b\b\b\b\b\b\b\b\b\b\b\b\b\b\b\b\b\b\b\b\b\b\b\b\b\b\b\b\b\b\b\b\b\b\b\b\b\b\b\b\b\b\b\b\b\b\b\b\b\b\b\b\b\b\b\b\b\b\b\b\b\b\b\b\b\b\b\b\b\b\b\b\b\r61/61 [==============================] - 30s 282ms/step - loss: 0.3031 - mae: 0.2348 - root_mean_squared_error: 0.3028 - val_loss: 0.1770 - val_mae: 0.1548 - val_root_mean_squared_error: 0.1792 - lr: 0.0717\n",
            "Epoch 2/500\n",
            "61/61 [==============================] - 6s 95ms/step - loss: 0.2173 - mae: 0.1650 - root_mean_squared_error: 0.2173 - val_loss: 0.1847 - val_mae: 0.1633 - val_root_mean_squared_error: 0.1870 - lr: 0.0717\n",
            "Epoch 3/500\n",
            "61/61 [==============================] - ETA: 0s - loss: 0.2171 - mae: 0.1651 - root_mean_squared_error: 0.2171"
          ]
        },
        {
          "output_type": "stream",
          "name": "stderr",
          "text": [
            "WARNING:absl:Found untraced functions such as residual_block_0_layer_call_fn, residual_block_0_layer_call_and_return_conditional_losses, residual_block_1_layer_call_fn, residual_block_1_layer_call_and_return_conditional_losses, residual_block_2_layer_call_fn while saving (showing 5 of 257). These functions will not be directly callable after loading.\n",
            "\u001b[34m\u001b[1mwandb\u001b[0m: Adding directory to artifact (/content/wandb/run-20230124_115339-oag9879x/files/model-best)... Done. 0.0s\n"
          ]
        },
        {
          "output_type": "stream",
          "name": "stdout",
          "text": [
            "\b\b\b\b\b\b\b\b\b\b\b\b\b\b\b\b\b\b\b\b\b\b\b\b\b\b\b\b\b\b\b\b\b\b\b\b\b\b\b\b\b\b\b\b\b\b\b\b\b\b\b\b\b\b\b\b\b\b\b\b\b\b\b\b\b\b\b\b\b\b\b\b\b\b\b\b\b\b\b\b\b\b\b\b\b\b\b\b\b\b\b\b\b\b\b\b\b\b\b\b\b\b\b\b\b\b\b\b\b\b\b\r61/61 [==============================] - 16s 261ms/step - loss: 0.2171 - mae: 0.1651 - root_mean_squared_error: 0.2171 - val_loss: 0.1736 - val_mae: 0.1515 - val_root_mean_squared_error: 0.1758 - lr: 0.0717\n",
            "Epoch 4/500\n",
            "61/61 [==============================] - 5s 84ms/step - loss: 0.2170 - mae: 0.1649 - root_mean_squared_error: 0.2170 - val_loss: 0.1747 - val_mae: 0.1526 - val_root_mean_squared_error: 0.1769 - lr: 0.0717\n",
            "Epoch 5/500\n",
            "61/61 [==============================] - 5s 79ms/step - loss: 0.2169 - mae: 0.1649 - root_mean_squared_error: 0.2170 - val_loss: 0.1763 - val_mae: 0.1543 - val_root_mean_squared_error: 0.1784 - lr: 0.0717\n",
            "Epoch 6/500\n",
            "61/61 [==============================] - 5s 82ms/step - loss: 0.2170 - mae: 0.1649 - root_mean_squared_error: 0.2171 - val_loss: 0.1790 - val_mae: 0.1571 - val_root_mean_squared_error: 0.1812 - lr: 0.0717\n",
            "Epoch 7/500\n",
            "61/61 [==============================] - 5s 83ms/step - loss: 0.2170 - mae: 0.1649 - root_mean_squared_error: 0.2170 - val_loss: 0.1820 - val_mae: 0.1604 - val_root_mean_squared_error: 0.1843 - lr: 0.0717\n",
            "Epoch 8/500\n",
            "61/61 [==============================] - 5s 82ms/step - loss: 0.2171 - mae: 0.1651 - root_mean_squared_error: 0.2172 - val_loss: 0.1843 - val_mae: 0.1628 - val_root_mean_squared_error: 0.1866 - lr: 0.0717\n",
            "Epoch 9/500\n",
            "61/61 [==============================] - 5s 81ms/step - loss: 0.2171 - mae: 0.1650 - root_mean_squared_error: 0.2172 - val_loss: 0.1738 - val_mae: 0.1517 - val_root_mean_squared_error: 0.1760 - lr: 0.0717\n",
            "Epoch 10/500\n",
            "61/61 [==============================] - ETA: 0s - loss: 0.2169 - mae: 0.1650 - root_mean_squared_error: 0.2169"
          ]
        },
        {
          "output_type": "stream",
          "name": "stderr",
          "text": [
            "WARNING:absl:Found untraced functions such as residual_block_0_layer_call_fn, residual_block_0_layer_call_and_return_conditional_losses, residual_block_1_layer_call_fn, residual_block_1_layer_call_and_return_conditional_losses, residual_block_2_layer_call_fn while saving (showing 5 of 257). These functions will not be directly callable after loading.\n",
            "\u001b[34m\u001b[1mwandb\u001b[0m: Adding directory to artifact (/content/wandb/run-20230124_115339-oag9879x/files/model-best)... Done. 0.0s\n"
          ]
        },
        {
          "output_type": "stream",
          "name": "stdout",
          "text": [
            "\b\b\b\b\b\b\b\b\b\b\b\b\b\b\b\b\b\b\b\b\b\b\b\b\b\b\b\b\b\b\b\b\b\b\b\b\b\b\b\b\b\b\b\b\b\b\b\b\b\b\b\b\b\b\b\b\b\b\b\b\b\b\b\b\b\b\b\b\b\b\b\b\b\b\b\b\b\b\b\b\b\b\b\b\b\b\b\b\b\b\b\b\b\b\b\b\b\b\b\b\b\b\b\b\b\b\b\b\b\b\b\r61/61 [==============================] - 15s 250ms/step - loss: 0.2169 - mae: 0.1650 - root_mean_squared_error: 0.2169 - val_loss: 0.1691 - val_mae: 0.1465 - val_root_mean_squared_error: 0.1711 - lr: 0.0717\n",
            "Epoch 11/500\n",
            "61/61 [==============================] - 6s 95ms/step - loss: 0.2171 - mae: 0.1650 - root_mean_squared_error: 0.2172 - val_loss: 0.1823 - val_mae: 0.1607 - val_root_mean_squared_error: 0.1846 - lr: 0.0717\n",
            "Epoch 12/500\n",
            "61/61 [==============================] - ETA: 0s - loss: 0.2181 - mae: 0.1654 - root_mean_squared_error: 0.2180"
          ]
        },
        {
          "output_type": "stream",
          "name": "stderr",
          "text": [
            "WARNING:absl:Found untraced functions such as residual_block_0_layer_call_fn, residual_block_0_layer_call_and_return_conditional_losses, residual_block_1_layer_call_fn, residual_block_1_layer_call_and_return_conditional_losses, residual_block_2_layer_call_fn while saving (showing 5 of 257). These functions will not be directly callable after loading.\n",
            "\u001b[34m\u001b[1mwandb\u001b[0m: Adding directory to artifact (/content/wandb/run-20230124_115339-oag9879x/files/model-best)... Done. 0.0s\n"
          ]
        },
        {
          "output_type": "stream",
          "name": "stdout",
          "text": [
            "\b\b\b\b\b\b\b\b\b\b\b\b\b\b\b\b\b\b\b\b\b\b\b\b\b\b\b\b\b\b\b\b\b\b\b\b\b\b\b\b\b\b\b\b\b\b\b\b\b\b\b\b\b\b\b\b\b\b\b\b\b\b\b\b\b\b\b\b\b\b\b\b\b\b\b\b\b\b\b\b\b\b\b\b\b\b\b\b\b\b\b\b\b\b\b\b\b\b\b\b\b\b\b\b\b\b\b\b\b\b\b\r61/61 [==============================] - 16s 261ms/step - loss: 0.2181 - mae: 0.1654 - root_mean_squared_error: 0.2180 - val_loss: 0.1651 - val_mae: 0.1420 - val_root_mean_squared_error: 0.1670 - lr: 0.0717\n",
            "Epoch 13/500\n",
            "61/61 [==============================] - 6s 99ms/step - loss: 0.2183 - mae: 0.1652 - root_mean_squared_error: 0.2183 - val_loss: 0.1757 - val_mae: 0.1537 - val_root_mean_squared_error: 0.1779 - lr: 0.0717\n",
            "Epoch 14/500\n",
            "61/61 [==============================] - 6s 97ms/step - loss: 0.2171 - mae: 0.1650 - root_mean_squared_error: 0.2170 - val_loss: 0.1697 - val_mae: 0.1472 - val_root_mean_squared_error: 0.1717 - lr: 0.0717\n",
            "Epoch 15/500\n",
            "61/61 [==============================] - 6s 99ms/step - loss: 0.2170 - mae: 0.1649 - root_mean_squared_error: 0.2169 - val_loss: 0.1760 - val_mae: 0.1540 - val_root_mean_squared_error: 0.1782 - lr: 0.0717\n",
            "Epoch 16/500\n",
            "61/61 [==============================] - 6s 101ms/step - loss: 0.2173 - mae: 0.1651 - root_mean_squared_error: 0.2173 - val_loss: 0.1753 - val_mae: 0.1531 - val_root_mean_squared_error: 0.1774 - lr: 0.0717\n",
            "Epoch 17/500\n",
            "61/61 [==============================] - 5s 86ms/step - loss: 0.2175 - mae: 0.1653 - root_mean_squared_error: 0.2175 - val_loss: 0.1884 - val_mae: 0.1672 - val_root_mean_squared_error: 0.1908 - lr: 0.0717\n",
            "Epoch 18/500\n",
            "61/61 [==============================] - 5s 84ms/step - loss: 0.2171 - mae: 0.1649 - root_mean_squared_error: 0.2171 - val_loss: 0.1935 - val_mae: 0.1726 - val_root_mean_squared_error: 0.1959 - lr: 0.0717\n",
            "Epoch 19/500\n",
            "61/61 [==============================] - 5s 86ms/step - loss: 0.2174 - mae: 0.1652 - root_mean_squared_error: 0.2175 - val_loss: 0.1708 - val_mae: 0.1484 - val_root_mean_squared_error: 0.1729 - lr: 0.0717\n",
            "Epoch 20/500\n",
            "61/61 [==============================] - 5s 85ms/step - loss: 0.2171 - mae: 0.1652 - root_mean_squared_error: 0.2171 - val_loss: 0.1848 - val_mae: 0.1633 - val_root_mean_squared_error: 0.1871 - lr: 0.0717\n",
            "Epoch 21/500\n",
            "61/61 [==============================] - 5s 84ms/step - loss: 0.2175 - mae: 0.1653 - root_mean_squared_error: 0.2175 - val_loss: 0.1659 - val_mae: 0.1432 - val_root_mean_squared_error: 0.1679 - lr: 0.0717\n",
            "Epoch 22/500\n",
            "61/61 [==============================] - 5s 84ms/step - loss: 0.2172 - mae: 0.1652 - root_mean_squared_error: 0.2173 - val_loss: 0.1677 - val_mae: 0.1449 - val_root_mean_squared_error: 0.1697 - lr: 0.0717\n",
            "Epoch 23/500\n",
            "61/61 [==============================] - 5s 85ms/step - loss: 0.2169 - mae: 0.1646 - root_mean_squared_error: 0.2169 - val_loss: 0.1741 - val_mae: 0.1520 - val_root_mean_squared_error: 0.1762 - lr: 0.0072\n",
            "Epoch 24/500\n",
            "61/61 [==============================] - 5s 85ms/step - loss: 0.2168 - mae: 0.1647 - root_mean_squared_error: 0.2168 - val_loss: 0.1785 - val_mae: 0.1567 - val_root_mean_squared_error: 0.1807 - lr: 0.0072\n",
            "Epoch 25/500\n",
            "61/61 [==============================] - 5s 86ms/step - loss: 0.2169 - mae: 0.1649 - root_mean_squared_error: 0.2168 - val_loss: 0.1743 - val_mae: 0.1522 - val_root_mean_squared_error: 0.1765 - lr: 0.0072\n",
            "Epoch 26/500\n",
            "61/61 [==============================] - 5s 87ms/step - loss: 0.2169 - mae: 0.1649 - root_mean_squared_error: 0.2168 - val_loss: 0.1736 - val_mae: 0.1515 - val_root_mean_squared_error: 0.1758 - lr: 0.0072\n",
            "Epoch 27/500\n",
            "61/61 [==============================] - 5s 86ms/step - loss: 0.2168 - mae: 0.1647 - root_mean_squared_error: 0.2169 - val_loss: 0.1766 - val_mae: 0.1547 - val_root_mean_squared_error: 0.1788 - lr: 0.0072\n"
          ]
        },
        {
          "output_type": "display_data",
          "data": {
            "text/plain": [
              "<IPython.core.display.HTML object>"
            ],
            "text/html": [
              "Waiting for W&B process to finish... <strong style=\"color:green\">(success).</strong>"
            ]
          },
          "metadata": {}
        },
        {
          "output_type": "display_data",
          "data": {
            "text/plain": [
              "<IPython.core.display.HTML object>"
            ],
            "text/html": [
              "<style>\n",
              "    table.wandb td:nth-child(1) { padding: 0 10px; text-align: left ; width: auto;} td:nth-child(2) {text-align: left ; width: 100%}\n",
              "    .wandb-row { display: flex; flex-direction: row; flex-wrap: wrap; justify-content: flex-start; width: 100% }\n",
              "    .wandb-col { display: flex; flex-direction: column; flex-basis: 100%; flex: 1; padding: 10px; }\n",
              "    </style>\n",
              "<div class=\"wandb-row\"><div class=\"wandb-col\"><h3>Run history:</h3><br/><table class=\"wandb\"><tr><td>epoch</td><td>▁▁▂▂▂▂▃▃▃▃▄▄▄▅▅▅▅▆▆▆▆▇▇▇▇██</td></tr><tr><td>loss</td><td>█▁▁▁▁▁▁▁▁▁▁▁▁▁▁▁▁▁▁▁▁▁▁▁▁▁▁</td></tr><tr><td>mae</td><td>█▁▁▁▁▁▁▁▁▁▁▁▁▁▁▁▁▁▁▁▁▁▁▁▁▁▁</td></tr><tr><td>root_mean_squared_error</td><td>█▁▁▁▁▁▁▁▁▁▁▁▁▁▁▁▁▁▁▁▁▁▁▁▁▁▁</td></tr><tr><td>val_loss</td><td>▄▆▃▃▄▄▅▆▃▂▅▁▄▂▄▄▇█▂▆▁▂▃▄▃▃▄</td></tr><tr><td>val_mae</td><td>▄▆▃▃▄▄▅▆▃▂▅▁▄▂▄▄▇█▂▆▁▂▃▄▃▃▄</td></tr><tr><td>val_root_mean_squared_error</td><td>▄▆▃▃▄▄▅▆▃▂▅▁▄▂▄▄▇█▂▆▁▂▃▄▃▃▄</td></tr></table><br/></div><div class=\"wandb-col\"><h3>Run summary:</h3><br/><table class=\"wandb\"><tr><td>best_epoch</td><td>11</td></tr><tr><td>best_val_loss</td><td>0.16508</td></tr><tr><td>epoch</td><td>26</td></tr><tr><td>loss</td><td>0.21684</td></tr><tr><td>mae</td><td>0.16468</td></tr><tr><td>root_mean_squared_error</td><td>0.21687</td></tr><tr><td>val_loss</td><td>0.17664</td></tr><tr><td>val_mae</td><td>0.15472</td></tr><tr><td>val_root_mean_squared_error</td><td>0.17883</td></tr></table><br/></div></div>"
            ]
          },
          "metadata": {}
        },
        {
          "output_type": "display_data",
          "data": {
            "text/plain": [
              "<IPython.core.display.HTML object>"
            ],
            "text/html": [
              " View run <strong style=\"color:#cdcd00\">pretty-sweep-7</strong> at: <a href=\"https://wandb.ai/dsp_aguro/aguro_tcn/runs/oag9879x\" target=\"_blank\">https://wandb.ai/dsp_aguro/aguro_tcn/runs/oag9879x</a><br/>Synced 5 W&B file(s), 1 media file(s), 16 artifact file(s) and 1 other file(s)"
            ]
          },
          "metadata": {}
        },
        {
          "output_type": "display_data",
          "data": {
            "text/plain": [
              "<IPython.core.display.HTML object>"
            ],
            "text/html": [
              "Find logs at: <code>./wandb/run-20230124_115339-oag9879x/logs</code>"
            ]
          },
          "metadata": {}
        },
        {
          "output_type": "stream",
          "name": "stderr",
          "text": [
            "\u001b[34m\u001b[1mwandb\u001b[0m: Agent Starting Run: csw33c84 with config:\n",
            "\u001b[34m\u001b[1mwandb\u001b[0m: \tbatch_size: 512\n",
            "\u001b[34m\u001b[1mwandb\u001b[0m: \tdropout_rate: 0.7\n",
            "\u001b[34m\u001b[1mwandb\u001b[0m: \tepochs: 500\n",
            "\u001b[34m\u001b[1mwandb\u001b[0m: \tkernel_size: 12\n",
            "\u001b[34m\u001b[1mwandb\u001b[0m: \tlr: 0.06848764486990958\n",
            "\u001b[34m\u001b[1mwandb\u001b[0m: \tnb_filters: 16\n",
            "\u001b[34m\u001b[1mwandb\u001b[0m: \toptimizer: adam\n",
            "Failed to detect the name of this notebook, you can set it manually with the WANDB_NOTEBOOK_NAME environment variable to enable code saving.\n"
          ]
        },
        {
          "output_type": "display_data",
          "data": {
            "text/plain": [
              "<IPython.core.display.HTML object>"
            ],
            "text/html": [
              "Tracking run with wandb version 0.13.9"
            ]
          },
          "metadata": {}
        },
        {
          "output_type": "display_data",
          "data": {
            "text/plain": [
              "<IPython.core.display.HTML object>"
            ],
            "text/html": [
              "Run data is saved locally in <code>/content/wandb/run-20230124_115711-csw33c84</code>"
            ]
          },
          "metadata": {}
        },
        {
          "output_type": "display_data",
          "data": {
            "text/plain": [
              "<IPython.core.display.HTML object>"
            ],
            "text/html": [
              "Syncing run <strong><a href=\"https://wandb.ai/dsp_aguro/aguro_tcn/runs/csw33c84\" target=\"_blank\">still-sweep-8</a></strong> to <a href=\"https://wandb.ai/dsp_aguro/aguro_tcn\" target=\"_blank\">Weights & Biases</a> (<a href=\"https://wandb.me/run\" target=\"_blank\">docs</a>)<br/>Sweep page: <a href=\"https://wandb.ai/dsp_aguro/aguro_tcn/sweeps/9vw7gd6y\" target=\"_blank\">https://wandb.ai/dsp_aguro/aguro_tcn/sweeps/9vw7gd6y</a>"
            ]
          },
          "metadata": {}
        },
        {
          "output_type": "display_data",
          "data": {
            "text/plain": [
              "<IPython.core.display.HTML object>"
            ],
            "text/html": [
              " View project at <a href=\"https://wandb.ai/dsp_aguro/aguro_tcn\" target=\"_blank\">https://wandb.ai/dsp_aguro/aguro_tcn</a>"
            ]
          },
          "metadata": {}
        },
        {
          "output_type": "display_data",
          "data": {
            "text/plain": [
              "<IPython.core.display.HTML object>"
            ],
            "text/html": [
              " View sweep at <a href=\"https://wandb.ai/dsp_aguro/aguro_tcn/sweeps/9vw7gd6y\" target=\"_blank\">https://wandb.ai/dsp_aguro/aguro_tcn/sweeps/9vw7gd6y</a>"
            ]
          },
          "metadata": {}
        },
        {
          "output_type": "display_data",
          "data": {
            "text/plain": [
              "<IPython.core.display.HTML object>"
            ],
            "text/html": [
              " View run at <a href=\"https://wandb.ai/dsp_aguro/aguro_tcn/runs/csw33c84\" target=\"_blank\">https://wandb.ai/dsp_aguro/aguro_tcn/runs/csw33c84</a>"
            ]
          },
          "metadata": {}
        },
        {
          "output_type": "stream",
          "name": "stdout",
          "text": [
            "Epoch 1/500\n",
            " 6/61 [=>............................] - ETA: 4s - loss: 1.7761 - mae: 1.1366 - root_mean_squared_error: 1.7761"
          ]
        },
        {
          "output_type": "stream",
          "name": "stderr",
          "text": [
            "WARNING:tensorflow:Callback method `on_train_batch_end` is slow compared to the batch time (batch time: 0.0260s vs `on_train_batch_end` time: 0.0702s). Check your callbacks.\n"
          ]
        },
        {
          "output_type": "stream",
          "name": "stdout",
          "text": [
            "61/61 [==============================] - ETA: 0s - loss: 0.4246 - mae: 0.2836 - root_mean_squared_error: 0.4238"
          ]
        },
        {
          "output_type": "stream",
          "name": "stderr",
          "text": [
            "WARNING:absl:Found untraced functions such as residual_block_0_layer_call_fn, residual_block_0_layer_call_and_return_conditional_losses, residual_block_1_layer_call_fn, residual_block_1_layer_call_and_return_conditional_losses, residual_block_2_layer_call_fn while saving (showing 5 of 257). These functions will not be directly callable after loading.\n",
            "\u001b[34m\u001b[1mwandb\u001b[0m: Adding directory to artifact (/content/wandb/run-20230124_115711-csw33c84/files/model-best)... Done. 0.0s\n"
          ]
        },
        {
          "output_type": "stream",
          "name": "stdout",
          "text": [
            "\b\b\b\b\b\b\b\b\b\b\b\b\b\b\b\b\b\b\b\b\b\b\b\b\b\b\b\b\b\b\b\b\b\b\b\b\b\b\b\b\b\b\b\b\b\b\b\b\b\b\b\b\b\b\b\b\b\b\b\b\b\b\b\b\b\b\b\b\b\b\b\b\b\b\b\b\b\b\b\b\b\b\b\b\b\b\b\b\b\b\b\b\b\b\b\b\b\b\b\b\b\b\b\b\b\b\b\b\b\b\b\r61/61 [==============================] - 20s 269ms/step - loss: 0.4246 - mae: 0.2836 - root_mean_squared_error: 0.4238 - val_loss: 0.1798 - val_mae: 0.1575 - val_root_mean_squared_error: 0.1820 - lr: 0.0685\n",
            "Epoch 2/500\n",
            "61/61 [==============================] - 5s 85ms/step - loss: 0.2170 - mae: 0.1650 - root_mean_squared_error: 0.2171 - val_loss: 0.1829 - val_mae: 0.1613 - val_root_mean_squared_error: 0.1852 - lr: 0.0685\n",
            "Epoch 3/500\n",
            "61/61 [==============================] - ETA: 0s - loss: 0.2169 - mae: 0.1649 - root_mean_squared_error: 0.2169"
          ]
        },
        {
          "output_type": "stream",
          "name": "stderr",
          "text": [
            "WARNING:absl:Found untraced functions such as residual_block_0_layer_call_fn, residual_block_0_layer_call_and_return_conditional_losses, residual_block_1_layer_call_fn, residual_block_1_layer_call_and_return_conditional_losses, residual_block_2_layer_call_fn while saving (showing 5 of 257). These functions will not be directly callable after loading.\n",
            "\u001b[34m\u001b[1mwandb\u001b[0m: Adding directory to artifact (/content/wandb/run-20230124_115711-csw33c84/files/model-best)... Done. 0.0s\n"
          ]
        },
        {
          "output_type": "stream",
          "name": "stdout",
          "text": [
            "\b\b\b\b\b\b\b\b\b\b\b\b\b\b\b\b\b\b\b\b\b\b\b\b\b\b\b\b\b\b\b\b\b\b\b\b\b\b\b\b\b\b\b\b\b\b\b\b\b\b\b\b\b\b\b\b\b\b\b\b\b\b\b\b\b\b\b\b\b\b\b\b\b\b\b\b\b\b\b\b\b\b\b\b\b\b\b\b\b\b\b\b\b\b\b\b\b\b\b\b\b\b\b\b\b\b\b\b\b\b\b\r61/61 [==============================] - 15s 249ms/step - loss: 0.2169 - mae: 0.1649 - root_mean_squared_error: 0.2169 - val_loss: 0.1773 - val_mae: 0.1554 - val_root_mean_squared_error: 0.1795 - lr: 0.0685\n",
            "Epoch 4/500\n",
            "61/61 [==============================] - ETA: 0s - loss: 0.2169 - mae: 0.1649 - root_mean_squared_error: 0.2169"
          ]
        },
        {
          "output_type": "stream",
          "name": "stderr",
          "text": [
            "WARNING:absl:Found untraced functions such as residual_block_0_layer_call_fn, residual_block_0_layer_call_and_return_conditional_losses, residual_block_1_layer_call_fn, residual_block_1_layer_call_and_return_conditional_losses, residual_block_2_layer_call_fn while saving (showing 5 of 257). These functions will not be directly callable after loading.\n",
            "\u001b[34m\u001b[1mwandb\u001b[0m: Adding directory to artifact (/content/wandb/run-20230124_115711-csw33c84/files/model-best)... Done. 0.0s\n"
          ]
        },
        {
          "output_type": "stream",
          "name": "stdout",
          "text": [
            "\b\b\b\b\b\b\b\b\b\b\b\b\b\b\b\b\b\b\b\b\b\b\b\b\b\b\b\b\b\b\b\b\b\b\b\b\b\b\b\b\b\b\b\b\b\b\b\b\b\b\b\b\b\b\b\b\b\b\b\b\b\b\b\b\b\b\b\b\b\b\b\b\b\b\b\b\b\b\b\b\b\b\b\b\b\b\b\b\b\b\b\b\b\b\b\b\b\b\b\b\b\b\b\b\b\b\b\b\b\b\b\r61/61 [==============================] - 15s 251ms/step - loss: 0.2169 - mae: 0.1649 - root_mean_squared_error: 0.2169 - val_loss: 0.1695 - val_mae: 0.1471 - val_root_mean_squared_error: 0.1716 - lr: 0.0685\n",
            "Epoch 5/500\n",
            "61/61 [==============================] - 5s 86ms/step - loss: 0.2180 - mae: 0.1650 - root_mean_squared_error: 0.2180 - val_loss: 0.1864 - val_mae: 0.1650 - val_root_mean_squared_error: 0.1888 - lr: 0.0685\n",
            "Epoch 6/500\n",
            "61/61 [==============================] - 5s 86ms/step - loss: 0.2171 - mae: 0.1650 - root_mean_squared_error: 0.2171 - val_loss: 0.1739 - val_mae: 0.1518 - val_root_mean_squared_error: 0.1761 - lr: 0.0685\n",
            "Epoch 7/500\n",
            "61/61 [==============================] - 5s 86ms/step - loss: 0.2338 - mae: 0.1655 - root_mean_squared_error: 0.2338 - val_loss: 0.1819 - val_mae: 0.1603 - val_root_mean_squared_error: 0.1842 - lr: 0.0685\n",
            "Epoch 8/500\n",
            "61/61 [==============================] - ETA: 0s - loss: 6.8679 - mae: 0.4500 - root_mean_squared_error: 6.8416"
          ]
        },
        {
          "output_type": "stream",
          "name": "stderr",
          "text": [
            "WARNING:absl:Found untraced functions such as residual_block_0_layer_call_fn, residual_block_0_layer_call_and_return_conditional_losses, residual_block_1_layer_call_fn, residual_block_1_layer_call_and_return_conditional_losses, residual_block_2_layer_call_fn while saving (showing 5 of 257). These functions will not be directly callable after loading.\n",
            "\u001b[34m\u001b[1mwandb\u001b[0m: Adding directory to artifact (/content/wandb/run-20230124_115711-csw33c84/files/model-best)... Done. 0.0s\n"
          ]
        },
        {
          "output_type": "stream",
          "name": "stdout",
          "text": [
            "\b\b\b\b\b\b\b\b\b\b\b\b\b\b\b\b\b\b\b\b\b\b\b\b\b\b\b\b\b\b\b\b\b\b\b\b\b\b\b\b\b\b\b\b\b\b\b\b\b\b\b\b\b\b\b\b\b\b\b\b\b\b\b\b\b\b\b\b\b\b\b\b\b\b\b\b\b\b\b\b\b\b\b\b\b\b\b\b\b\b\b\b\b\b\b\b\b\b\b\b\b\b\b\b\b\b\b\b\b\b\b\r61/61 [==============================] - 15s 247ms/step - loss: 6.8679 - mae: 0.4500 - root_mean_squared_error: 6.8416 - val_loss: 0.1684 - val_mae: 0.1457 - val_root_mean_squared_error: 0.1704 - lr: 0.0685\n",
            "Epoch 9/500\n",
            "61/61 [==============================] - 5s 86ms/step - loss: 31.9233 - mae: 1.5844 - root_mean_squared_error: 31.7974 - val_loss: 0.1781 - val_mae: 0.1562 - val_root_mean_squared_error: 0.1803 - lr: 0.0685\n",
            "Epoch 10/500\n",
            "61/61 [==============================] - 5s 85ms/step - loss: 1.7464 - mae: 0.2253 - root_mean_squared_error: 1.7403 - val_loss: 0.1695 - val_mae: 0.1469 - val_root_mean_squared_error: 0.1715 - lr: 0.0685\n",
            "Epoch 11/500\n",
            "61/61 [==============================] - ETA: 0s - loss: 53.7275 - mae: 2.4082 - root_mean_squared_error: 53.5151"
          ]
        },
        {
          "output_type": "stream",
          "name": "stderr",
          "text": [
            "WARNING:absl:Found untraced functions such as residual_block_0_layer_call_fn, residual_block_0_layer_call_and_return_conditional_losses, residual_block_1_layer_call_fn, residual_block_1_layer_call_and_return_conditional_losses, residual_block_2_layer_call_fn while saving (showing 5 of 257). These functions will not be directly callable after loading.\n",
            "\u001b[34m\u001b[1mwandb\u001b[0m: Adding directory to artifact (/content/wandb/run-20230124_115711-csw33c84/files/model-best)... Done. 0.0s\n"
          ]
        },
        {
          "output_type": "stream",
          "name": "stdout",
          "text": [
            "\b\b\b\b\b\b\b\b\b\b\b\b\b\b\b\b\b\b\b\b\b\b\b\b\b\b\b\b\b\b\b\b\b\b\b\b\b\b\b\b\b\b\b\b\b\b\b\b\b\b\b\b\b\b\b\b\b\b\b\b\b\b\b\b\b\b\b\b\b\b\b\b\b\b\b\b\b\b\b\b\b\b\b\b\b\b\b\b\b\b\b\b\b\b\b\b\b\b\b\b\b\b\b\b\b\b\b\b\b\b\b\b\b\r61/61 [==============================] - 15s 248ms/step - loss: 53.7275 - mae: 2.4082 - root_mean_squared_error: 53.5151 - val_loss: 0.1642 - val_mae: 0.1412 - val_root_mean_squared_error: 0.1661 - lr: 0.0685\n",
            "Epoch 12/500\n",
            "61/61 [==============================] - 5s 85ms/step - loss: 0.4305 - mae: 0.1733 - root_mean_squared_error: 0.4297 - val_loss: 0.1828 - val_mae: 0.1613 - val_root_mean_squared_error: 0.1851 - lr: 0.0685\n",
            "Epoch 13/500\n",
            "61/61 [==============================] - 5s 85ms/step - loss: 1.5843 - mae: 0.2272 - root_mean_squared_error: 1.5788 - val_loss: 0.1735 - val_mae: 0.1513 - val_root_mean_squared_error: 0.1756 - lr: 0.0685\n",
            "Epoch 14/500\n",
            "61/61 [==============================] - 5s 85ms/step - loss: 0.5469 - mae: 0.1786 - root_mean_squared_error: 0.5456 - val_loss: 0.1929 - val_mae: 0.1719 - val_root_mean_squared_error: 0.1953 - lr: 0.0685\n",
            "Epoch 15/500\n",
            "61/61 [==============================] - 5s 85ms/step - loss: 0.2355 - mae: 0.1658 - root_mean_squared_error: 0.2355 - val_loss: 0.1849 - val_mae: 0.1635 - val_root_mean_squared_error: 0.1872 - lr: 0.0685\n",
            "Epoch 16/500\n",
            "61/61 [==============================] - 5s 85ms/step - loss: 0.6742 - mae: 0.1842 - root_mean_squared_error: 0.6724 - val_loss: 0.1747 - val_mae: 0.1525 - val_root_mean_squared_error: 0.1768 - lr: 0.0685\n",
            "Epoch 17/500\n",
            "61/61 [==============================] - 5s 88ms/step - loss: 0.2172 - mae: 0.1652 - root_mean_squared_error: 0.2172 - val_loss: 0.1671 - val_mae: 0.1443 - val_root_mean_squared_error: 0.1691 - lr: 0.0685\n",
            "Epoch 18/500\n",
            "61/61 [==============================] - 5s 86ms/step - loss: 0.2171 - mae: 0.1649 - root_mean_squared_error: 0.2170 - val_loss: 0.1711 - val_mae: 0.1487 - val_root_mean_squared_error: 0.1732 - lr: 0.0685\n",
            "Epoch 19/500\n",
            "61/61 [==============================] - 5s 85ms/step - loss: 0.2171 - mae: 0.1649 - root_mean_squared_error: 0.2172 - val_loss: 0.1749 - val_mae: 0.1528 - val_root_mean_squared_error: 0.1770 - lr: 0.0685\n",
            "Epoch 20/500\n",
            "61/61 [==============================] - 5s 85ms/step - loss: 0.2171 - mae: 0.1650 - root_mean_squared_error: 0.2170 - val_loss: 0.1697 - val_mae: 0.1471 - val_root_mean_squared_error: 0.1717 - lr: 0.0685\n",
            "Epoch 21/500\n",
            "61/61 [==============================] - 5s 85ms/step - loss: 0.2169 - mae: 0.1649 - root_mean_squared_error: 0.2170 - val_loss: 0.1728 - val_mae: 0.1506 - val_root_mean_squared_error: 0.1749 - lr: 0.0685\n",
            "Epoch 22/500\n",
            "61/61 [==============================] - 5s 85ms/step - loss: 0.2168 - mae: 0.1648 - root_mean_squared_error: 0.2169 - val_loss: 0.1752 - val_mae: 0.1532 - val_root_mean_squared_error: 0.1774 - lr: 0.0068\n",
            "Epoch 23/500\n",
            "61/61 [==============================] - 5s 85ms/step - loss: 0.2168 - mae: 0.1646 - root_mean_squared_error: 0.2168 - val_loss: 0.1790 - val_mae: 0.1572 - val_root_mean_squared_error: 0.1812 - lr: 0.0068\n",
            "Epoch 24/500\n",
            "61/61 [==============================] - 5s 85ms/step - loss: 0.2167 - mae: 0.1648 - root_mean_squared_error: 0.2168 - val_loss: 0.1830 - val_mae: 0.1614 - val_root_mean_squared_error: 0.1853 - lr: 0.0068\n",
            "Epoch 25/500\n",
            "61/61 [==============================] - 5s 85ms/step - loss: 0.2168 - mae: 0.1648 - root_mean_squared_error: 0.2168 - val_loss: 0.1796 - val_mae: 0.1579 - val_root_mean_squared_error: 0.1819 - lr: 0.0068\n",
            "Epoch 26/500\n",
            "61/61 [==============================] - 5s 85ms/step - loss: 0.2168 - mae: 0.1646 - root_mean_squared_error: 0.2168 - val_loss: 0.1802 - val_mae: 0.1585 - val_root_mean_squared_error: 0.1824 - lr: 0.0068\n"
          ]
        },
        {
          "output_type": "display_data",
          "data": {
            "text/plain": [
              "<IPython.core.display.HTML object>"
            ],
            "text/html": [
              "Waiting for W&B process to finish... <strong style=\"color:green\">(success).</strong>"
            ]
          },
          "metadata": {}
        },
        {
          "output_type": "display_data",
          "data": {
            "text/plain": [
              "<IPython.core.display.HTML object>"
            ],
            "text/html": [
              "<style>\n",
              "    table.wandb td:nth-child(1) { padding: 0 10px; text-align: left ; width: auto;} td:nth-child(2) {text-align: left ; width: 100%}\n",
              "    .wandb-row { display: flex; flex-direction: row; flex-wrap: wrap; justify-content: flex-start; width: 100% }\n",
              "    .wandb-col { display: flex; flex-direction: column; flex-basis: 100%; flex: 1; padding: 10px; }\n",
              "    </style>\n",
              "<div class=\"wandb-row\"><div class=\"wandb-col\"><h3>Run history:</h3><br/><table class=\"wandb\"><tr><td>epoch</td><td>▁▁▂▂▂▂▃▃▃▄▄▄▄▅▅▅▅▆▆▆▇▇▇▇██</td></tr><tr><td>loss</td><td>▁▁▁▁▁▁▁▂▅▁█▁▁▁▁▁▁▁▁▁▁▁▁▁▁▁</td></tr><tr><td>mae</td><td>▁▁▁▁▁▁▁▂▅▁█▁▁▁▁▁▁▁▁▁▁▁▁▁▁▁</td></tr><tr><td>root_mean_squared_error</td><td>▁▁▁▁▁▁▁▂▅▁█▁▁▁▁▁▁▁▁▁▁▁▁▁▁▁</td></tr><tr><td>val_loss</td><td>▅▆▄▂▆▃▅▂▄▂▁▆▃█▆▄▂▃▄▂▃▄▅▆▅▅</td></tr><tr><td>val_mae</td><td>▅▆▄▂▆▃▅▂▄▂▁▆▃█▆▄▂▃▄▂▃▄▅▆▅▅</td></tr><tr><td>val_root_mean_squared_error</td><td>▅▆▄▂▆▃▅▂▄▂▁▆▃█▆▄▂▃▄▂▃▄▅▆▅▅</td></tr></table><br/></div><div class=\"wandb-col\"><h3>Run summary:</h3><br/><table class=\"wandb\"><tr><td>best_epoch</td><td>10</td></tr><tr><td>best_val_loss</td><td>0.16419</td></tr><tr><td>epoch</td><td>25</td></tr><tr><td>loss</td><td>0.21683</td></tr><tr><td>mae</td><td>0.16465</td></tr><tr><td>root_mean_squared_error</td><td>0.21682</td></tr><tr><td>val_loss</td><td>0.18017</td></tr><tr><td>val_mae</td><td>0.15847</td></tr><tr><td>val_root_mean_squared_error</td><td>0.18241</td></tr></table><br/></div></div>"
            ]
          },
          "metadata": {}
        },
        {
          "output_type": "display_data",
          "data": {
            "text/plain": [
              "<IPython.core.display.HTML object>"
            ],
            "text/html": [
              " View run <strong style=\"color:#cdcd00\">still-sweep-8</strong> at: <a href=\"https://wandb.ai/dsp_aguro/aguro_tcn/runs/csw33c84\" target=\"_blank\">https://wandb.ai/dsp_aguro/aguro_tcn/runs/csw33c84</a><br/>Synced 5 W&B file(s), 1 media file(s), 20 artifact file(s) and 1 other file(s)"
            ]
          },
          "metadata": {}
        },
        {
          "output_type": "display_data",
          "data": {
            "text/plain": [
              "<IPython.core.display.HTML object>"
            ],
            "text/html": [
              "Find logs at: <code>./wandb/run-20230124_115711-csw33c84/logs</code>"
            ]
          },
          "metadata": {}
        },
        {
          "output_type": "stream",
          "name": "stderr",
          "text": [
            "\u001b[34m\u001b[1mwandb\u001b[0m: Sweep Agent: Waiting for job.\n",
            "\u001b[34m\u001b[1mwandb\u001b[0m: Job received.\n",
            "\u001b[34m\u001b[1mwandb\u001b[0m: Agent Starting Run: um19myha with config:\n",
            "\u001b[34m\u001b[1mwandb\u001b[0m: \tbatch_size: 512\n",
            "\u001b[34m\u001b[1mwandb\u001b[0m: \tdropout_rate: 0.6\n",
            "\u001b[34m\u001b[1mwandb\u001b[0m: \tepochs: 500\n",
            "\u001b[34m\u001b[1mwandb\u001b[0m: \tkernel_size: 8\n",
            "\u001b[34m\u001b[1mwandb\u001b[0m: \tlr: 0.04554833689598798\n",
            "\u001b[34m\u001b[1mwandb\u001b[0m: \tnb_filters: 16\n",
            "\u001b[34m\u001b[1mwandb\u001b[0m: \toptimizer: adam\n",
            "Failed to detect the name of this notebook, you can set it manually with the WANDB_NOTEBOOK_NAME environment variable to enable code saving.\n"
          ]
        },
        {
          "output_type": "display_data",
          "data": {
            "text/plain": [
              "<IPython.core.display.HTML object>"
            ],
            "text/html": [
              "Tracking run with wandb version 0.13.9"
            ]
          },
          "metadata": {}
        },
        {
          "output_type": "display_data",
          "data": {
            "text/plain": [
              "<IPython.core.display.HTML object>"
            ],
            "text/html": [
              "Run data is saved locally in <code>/content/wandb/run-20230124_120141-um19myha</code>"
            ]
          },
          "metadata": {}
        },
        {
          "output_type": "display_data",
          "data": {
            "text/plain": [
              "<IPython.core.display.HTML object>"
            ],
            "text/html": [
              "Syncing run <strong><a href=\"https://wandb.ai/dsp_aguro/aguro_tcn/runs/um19myha\" target=\"_blank\">gentle-sweep-9</a></strong> to <a href=\"https://wandb.ai/dsp_aguro/aguro_tcn\" target=\"_blank\">Weights & Biases</a> (<a href=\"https://wandb.me/run\" target=\"_blank\">docs</a>)<br/>Sweep page: <a href=\"https://wandb.ai/dsp_aguro/aguro_tcn/sweeps/9vw7gd6y\" target=\"_blank\">https://wandb.ai/dsp_aguro/aguro_tcn/sweeps/9vw7gd6y</a>"
            ]
          },
          "metadata": {}
        },
        {
          "output_type": "display_data",
          "data": {
            "text/plain": [
              "<IPython.core.display.HTML object>"
            ],
            "text/html": [
              " View project at <a href=\"https://wandb.ai/dsp_aguro/aguro_tcn\" target=\"_blank\">https://wandb.ai/dsp_aguro/aguro_tcn</a>"
            ]
          },
          "metadata": {}
        },
        {
          "output_type": "display_data",
          "data": {
            "text/plain": [
              "<IPython.core.display.HTML object>"
            ],
            "text/html": [
              " View sweep at <a href=\"https://wandb.ai/dsp_aguro/aguro_tcn/sweeps/9vw7gd6y\" target=\"_blank\">https://wandb.ai/dsp_aguro/aguro_tcn/sweeps/9vw7gd6y</a>"
            ]
          },
          "metadata": {}
        },
        {
          "output_type": "display_data",
          "data": {
            "text/plain": [
              "<IPython.core.display.HTML object>"
            ],
            "text/html": [
              " View run at <a href=\"https://wandb.ai/dsp_aguro/aguro_tcn/runs/um19myha\" target=\"_blank\">https://wandb.ai/dsp_aguro/aguro_tcn/runs/um19myha</a>"
            ]
          },
          "metadata": {}
        },
        {
          "output_type": "stream",
          "name": "stdout",
          "text": [
            "Epoch 1/500\n",
            " 6/61 [=>............................] - ETA: 3s - loss: 4.4601 - mae: 2.8327 - root_mean_squared_error: 4.4601"
          ]
        },
        {
          "output_type": "stream",
          "name": "stderr",
          "text": [
            "WARNING:tensorflow:Callback method `on_train_batch_end` is slow compared to the batch time (batch time: 0.0216s vs `on_train_batch_end` time: 0.0308s). Check your callbacks.\n"
          ]
        },
        {
          "output_type": "stream",
          "name": "stdout",
          "text": [
            "61/61 [==============================] - ETA: 0s - loss: 0.6736 - mae: 0.4634 - root_mean_squared_error: 0.6718"
          ]
        },
        {
          "output_type": "stream",
          "name": "stderr",
          "text": [
            "WARNING:absl:Found untraced functions such as residual_block_0_layer_call_fn, residual_block_0_layer_call_and_return_conditional_losses, residual_block_1_layer_call_fn, residual_block_1_layer_call_and_return_conditional_losses, residual_block_2_layer_call_fn while saving (showing 5 of 257). These functions will not be directly callable after loading.\n",
            "\u001b[34m\u001b[1mwandb\u001b[0m: Adding directory to artifact (/content/wandb/run-20230124_120141-um19myha/files/model-best)... Done. 0.0s\n"
          ]
        },
        {
          "output_type": "stream",
          "name": "stdout",
          "text": [
            "\b\b\b\b\b\b\b\b\b\b\b\b\b\b\b\b\b\b\b\b\b\b\b\b\b\b\b\b\b\b\b\b\b\b\b\b\b\b\b\b\b\b\b\b\b\b\b\b\b\b\b\b\b\b\b\b\b\b\b\b\b\b\b\b\b\b\b\b\b\b\b\b\b\b\b\b\b\b\b\b\b\b\b\b\b\b\b\b\b\b\b\b\b\b\b\b\b\b\b\b\b\b\b\b\b\b\b\b\b\b\b\r61/61 [==============================] - 19s 245ms/step - loss: 0.6736 - mae: 0.4634 - root_mean_squared_error: 0.6718 - val_loss: 0.1706 - val_mae: 0.1480 - val_root_mean_squared_error: 0.1727 - lr: 0.0455\n",
            "Epoch 2/500\n",
            "61/61 [==============================] - 4s 67ms/step - loss: 0.2170 - mae: 0.1646 - root_mean_squared_error: 0.2170 - val_loss: 0.1815 - val_mae: 0.1599 - val_root_mean_squared_error: 0.1837 - lr: 0.0455\n",
            "Epoch 3/500\n",
            "61/61 [==============================] - 4s 64ms/step - loss: 0.2169 - mae: 0.1649 - root_mean_squared_error: 0.2169 - val_loss: 0.1828 - val_mae: 0.1613 - val_root_mean_squared_error: 0.1851 - lr: 0.0455\n",
            "Epoch 4/500\n",
            "61/61 [==============================] - 4s 63ms/step - loss: 0.2169 - mae: 0.1648 - root_mean_squared_error: 0.2170 - val_loss: 0.1785 - val_mae: 0.1566 - val_root_mean_squared_error: 0.1807 - lr: 0.0455\n",
            "Epoch 5/500\n",
            "61/61 [==============================] - 4s 64ms/step - loss: 0.2169 - mae: 0.1648 - root_mean_squared_error: 0.2169 - val_loss: 0.1730 - val_mae: 0.1508 - val_root_mean_squared_error: 0.1751 - lr: 0.0455\n",
            "Epoch 6/500\n",
            "61/61 [==============================] - 4s 66ms/step - loss: 0.2169 - mae: 0.1648 - root_mean_squared_error: 0.2170 - val_loss: 0.1804 - val_mae: 0.1587 - val_root_mean_squared_error: 0.1827 - lr: 0.0455\n",
            "Epoch 7/500\n",
            "61/61 [==============================] - 4s 65ms/step - loss: 0.2169 - mae: 0.1649 - root_mean_squared_error: 0.2169 - val_loss: 0.1826 - val_mae: 0.1611 - val_root_mean_squared_error: 0.1849 - lr: 0.0455\n",
            "Epoch 8/500\n",
            "61/61 [==============================] - 4s 66ms/step - loss: 0.2169 - mae: 0.1649 - root_mean_squared_error: 0.2169 - val_loss: 0.1743 - val_mae: 0.1522 - val_root_mean_squared_error: 0.1765 - lr: 0.0455\n",
            "Epoch 9/500\n",
            "61/61 [==============================] - 4s 67ms/step - loss: 0.2185 - mae: 0.1649 - root_mean_squared_error: 0.2186 - val_loss: 0.1738 - val_mae: 0.1517 - val_root_mean_squared_error: 0.1760 - lr: 0.0455\n",
            "Epoch 10/500\n",
            "61/61 [==============================] - 4s 67ms/step - loss: 0.2169 - mae: 0.1649 - root_mean_squared_error: 0.2169 - val_loss: 0.1774 - val_mae: 0.1556 - val_root_mean_squared_error: 0.1796 - lr: 0.0455\n",
            "Epoch 11/500\n",
            "61/61 [==============================] - 4s 67ms/step - loss: 0.2171 - mae: 0.1650 - root_mean_squared_error: 0.2171 - val_loss: 0.1799 - val_mae: 0.1582 - val_root_mean_squared_error: 0.1821 - lr: 0.0455\n",
            "Epoch 12/500\n",
            "61/61 [==============================] - 4s 66ms/step - loss: 0.2168 - mae: 0.1647 - root_mean_squared_error: 0.2168 - val_loss: 0.1782 - val_mae: 0.1564 - val_root_mean_squared_error: 0.1804 - lr: 0.0046\n",
            "Epoch 13/500\n",
            "61/61 [==============================] - 4s 68ms/step - loss: 0.2169 - mae: 0.1649 - root_mean_squared_error: 0.2169 - val_loss: 0.1755 - val_mae: 0.1535 - val_root_mean_squared_error: 0.1776 - lr: 0.0046\n",
            "Epoch 14/500\n",
            "61/61 [==============================] - 4s 71ms/step - loss: 0.2168 - mae: 0.1648 - root_mean_squared_error: 0.2168 - val_loss: 0.1748 - val_mae: 0.1528 - val_root_mean_squared_error: 0.1770 - lr: 0.0046\n",
            "Epoch 15/500\n",
            "61/61 [==============================] - 4s 66ms/step - loss: 0.2168 - mae: 0.1647 - root_mean_squared_error: 0.2168 - val_loss: 0.1774 - val_mae: 0.1555 - val_root_mean_squared_error: 0.1796 - lr: 0.0046\n",
            "Epoch 16/500\n",
            "61/61 [==============================] - 4s 63ms/step - loss: 0.2168 - mae: 0.1647 - root_mean_squared_error: 0.2168 - val_loss: 0.1771 - val_mae: 0.1552 - val_root_mean_squared_error: 0.1793 - lr: 0.0046\n"
          ]
        },
        {
          "output_type": "display_data",
          "data": {
            "text/plain": [
              "<IPython.core.display.HTML object>"
            ],
            "text/html": [
              "Waiting for W&B process to finish... <strong style=\"color:green\">(success).</strong>"
            ]
          },
          "metadata": {}
        },
        {
          "output_type": "display_data",
          "data": {
            "text/plain": [
              "<IPython.core.display.HTML object>"
            ],
            "text/html": [
              "<style>\n",
              "    table.wandb td:nth-child(1) { padding: 0 10px; text-align: left ; width: auto;} td:nth-child(2) {text-align: left ; width: 100%}\n",
              "    .wandb-row { display: flex; flex-direction: row; flex-wrap: wrap; justify-content: flex-start; width: 100% }\n",
              "    .wandb-col { display: flex; flex-direction: column; flex-basis: 100%; flex: 1; padding: 10px; }\n",
              "    </style>\n",
              "<div class=\"wandb-row\"><div class=\"wandb-col\"><h3>Run history:</h3><br/><table class=\"wandb\"><tr><td>epoch</td><td>▁▁▂▂▃▃▄▄▅▅▆▆▇▇██</td></tr><tr><td>loss</td><td>█▁▁▁▁▁▁▁▁▁▁▁▁▁▁▁</td></tr><tr><td>mae</td><td>█▁▁▁▁▁▁▁▁▁▁▁▁▁▁▁</td></tr><tr><td>root_mean_squared_error</td><td>█▁▁▁▁▁▁▁▁▁▁▁▁▁▁▁</td></tr><tr><td>val_loss</td><td>▁▇█▆▂▇█▃▃▅▆▅▄▃▅▅</td></tr><tr><td>val_mae</td><td>▁▇█▆▃▇█▃▃▅▆▅▄▄▅▅</td></tr><tr><td>val_root_mean_squared_error</td><td>▁▇█▆▂▇█▃▃▅▆▅▄▃▅▅</td></tr></table><br/></div><div class=\"wandb-col\"><h3>Run summary:</h3><br/><table class=\"wandb\"><tr><td>best_epoch</td><td>0</td></tr><tr><td>best_val_loss</td><td>0.17065</td></tr><tr><td>epoch</td><td>15</td></tr><tr><td>loss</td><td>0.21678</td></tr><tr><td>mae</td><td>0.16471</td></tr><tr><td>root_mean_squared_error</td><td>0.21683</td></tr><tr><td>val_loss</td><td>0.17709</td></tr><tr><td>val_mae</td><td>0.15521</td></tr><tr><td>val_root_mean_squared_error</td><td>0.17929</td></tr></table><br/></div></div>"
            ]
          },
          "metadata": {}
        },
        {
          "output_type": "display_data",
          "data": {
            "text/plain": [
              "<IPython.core.display.HTML object>"
            ],
            "text/html": [
              " View run <strong style=\"color:#cdcd00\">gentle-sweep-9</strong> at: <a href=\"https://wandb.ai/dsp_aguro/aguro_tcn/runs/um19myha\" target=\"_blank\">https://wandb.ai/dsp_aguro/aguro_tcn/runs/um19myha</a><br/>Synced 5 W&B file(s), 1 media file(s), 4 artifact file(s) and 1 other file(s)"
            ]
          },
          "metadata": {}
        },
        {
          "output_type": "display_data",
          "data": {
            "text/plain": [
              "<IPython.core.display.HTML object>"
            ],
            "text/html": [
              "Find logs at: <code>./wandb/run-20230124_120141-um19myha/logs</code>"
            ]
          },
          "metadata": {}
        },
        {
          "output_type": "stream",
          "name": "stderr",
          "text": [
            "\u001b[34m\u001b[1mwandb\u001b[0m: Sweep Agent: Waiting for job.\n",
            "\u001b[34m\u001b[1mwandb\u001b[0m: Job received.\n",
            "\u001b[34m\u001b[1mwandb\u001b[0m: Agent Starting Run: ldxxab6s with config:\n",
            "\u001b[34m\u001b[1mwandb\u001b[0m: \tbatch_size: 512\n",
            "\u001b[34m\u001b[1mwandb\u001b[0m: \tdropout_rate: 0.3\n",
            "\u001b[34m\u001b[1mwandb\u001b[0m: \tepochs: 500\n",
            "\u001b[34m\u001b[1mwandb\u001b[0m: \tkernel_size: 12\n",
            "\u001b[34m\u001b[1mwandb\u001b[0m: \tlr: 0.0779964275989193\n",
            "\u001b[34m\u001b[1mwandb\u001b[0m: \tnb_filters: 32\n",
            "\u001b[34m\u001b[1mwandb\u001b[0m: \toptimizer: adam\n",
            "Failed to detect the name of this notebook, you can set it manually with the WANDB_NOTEBOOK_NAME environment variable to enable code saving.\n"
          ]
        },
        {
          "output_type": "display_data",
          "data": {
            "text/plain": [
              "<IPython.core.display.HTML object>"
            ],
            "text/html": [
              "Tracking run with wandb version 0.13.9"
            ]
          },
          "metadata": {}
        },
        {
          "output_type": "display_data",
          "data": {
            "text/plain": [
              "<IPython.core.display.HTML object>"
            ],
            "text/html": [
              "Run data is saved locally in <code>/content/wandb/run-20230124_120411-ldxxab6s</code>"
            ]
          },
          "metadata": {}
        },
        {
          "output_type": "display_data",
          "data": {
            "text/plain": [
              "<IPython.core.display.HTML object>"
            ],
            "text/html": [
              "Syncing run <strong><a href=\"https://wandb.ai/dsp_aguro/aguro_tcn/runs/ldxxab6s\" target=\"_blank\">misunderstood-sweep-10</a></strong> to <a href=\"https://wandb.ai/dsp_aguro/aguro_tcn\" target=\"_blank\">Weights & Biases</a> (<a href=\"https://wandb.me/run\" target=\"_blank\">docs</a>)<br/>Sweep page: <a href=\"https://wandb.ai/dsp_aguro/aguro_tcn/sweeps/9vw7gd6y\" target=\"_blank\">https://wandb.ai/dsp_aguro/aguro_tcn/sweeps/9vw7gd6y</a>"
            ]
          },
          "metadata": {}
        },
        {
          "output_type": "display_data",
          "data": {
            "text/plain": [
              "<IPython.core.display.HTML object>"
            ],
            "text/html": [
              " View project at <a href=\"https://wandb.ai/dsp_aguro/aguro_tcn\" target=\"_blank\">https://wandb.ai/dsp_aguro/aguro_tcn</a>"
            ]
          },
          "metadata": {}
        },
        {
          "output_type": "display_data",
          "data": {
            "text/plain": [
              "<IPython.core.display.HTML object>"
            ],
            "text/html": [
              " View sweep at <a href=\"https://wandb.ai/dsp_aguro/aguro_tcn/sweeps/9vw7gd6y\" target=\"_blank\">https://wandb.ai/dsp_aguro/aguro_tcn/sweeps/9vw7gd6y</a>"
            ]
          },
          "metadata": {}
        },
        {
          "output_type": "display_data",
          "data": {
            "text/plain": [
              "<IPython.core.display.HTML object>"
            ],
            "text/html": [
              " View run at <a href=\"https://wandb.ai/dsp_aguro/aguro_tcn/runs/ldxxab6s\" target=\"_blank\">https://wandb.ai/dsp_aguro/aguro_tcn/runs/ldxxab6s</a>"
            ]
          },
          "metadata": {}
        },
        {
          "output_type": "stream",
          "name": "stdout",
          "text": [
            "Epoch 1/500\n",
            " 6/61 [=>............................] - ETA: 5s - loss: 753.4505 - mae: 553.3741 - root_mean_squared_error: 753.4505"
          ]
        },
        {
          "output_type": "stream",
          "name": "stderr",
          "text": [
            "WARNING:tensorflow:Callback method `on_train_batch_end` is slow compared to the batch time (batch time: 0.0373s vs `on_train_batch_end` time: 0.0573s). Check your callbacks.\n"
          ]
        },
        {
          "output_type": "stream",
          "name": "stdout",
          "text": [
            "61/61 [==============================] - ETA: 0s - loss: 74.6349 - mae: 54.8247 - root_mean_squared_error: 74.3394"
          ]
        },
        {
          "output_type": "stream",
          "name": "stderr",
          "text": [
            "WARNING:absl:Found untraced functions such as residual_block_0_layer_call_fn, residual_block_0_layer_call_and_return_conditional_losses, residual_block_1_layer_call_fn, residual_block_1_layer_call_and_return_conditional_losses, residual_block_2_layer_call_fn while saving (showing 5 of 257). These functions will not be directly callable after loading.\n",
            "\u001b[34m\u001b[1mwandb\u001b[0m: Adding directory to artifact (/content/wandb/run-20230124_120411-ldxxab6s/files/model-best)... Done. 0.0s\n"
          ]
        },
        {
          "output_type": "stream",
          "name": "stdout",
          "text": [
            "\b\b\b\b\b\b\b\b\b\b\b\b\b\b\b\b\b\b\b\b\b\b\b\b\b\b\b\b\b\b\b\b\b\b\b\b\b\b\b\b\b\b\b\b\b\b\b\b\b\b\b\b\b\b\b\b\b\b\b\b\b\b\b\b\b\b\b\b\b\b\b\b\b\b\b\b\b\b\b\b\b\b\b\b\b\b\b\b\b\b\b\b\b\b\b\b\b\b\b\b\b\b\b\b\b\b\b\b\b\b\b\b\b\b\r61/61 [==============================] - 24s 309ms/step - loss: 74.6349 - mae: 54.8247 - root_mean_squared_error: 74.3394 - val_loss: 0.1892 - val_mae: 0.1678 - val_root_mean_squared_error: 0.1916 - lr: 0.0780\n",
            "Epoch 2/500\n",
            "61/61 [==============================] - ETA: 0s - loss: 0.2170 - mae: 0.1649 - root_mean_squared_error: 0.2171"
          ]
        },
        {
          "output_type": "stream",
          "name": "stderr",
          "text": [
            "WARNING:absl:Found untraced functions such as residual_block_0_layer_call_fn, residual_block_0_layer_call_and_return_conditional_losses, residual_block_1_layer_call_fn, residual_block_1_layer_call_and_return_conditional_losses, residual_block_2_layer_call_fn while saving (showing 5 of 257). These functions will not be directly callable after loading.\n",
            "\u001b[34m\u001b[1mwandb\u001b[0m: Adding directory to artifact (/content/wandb/run-20230124_120411-ldxxab6s/files/model-best)... Done. 0.0s\n"
          ]
        },
        {
          "output_type": "stream",
          "name": "stdout",
          "text": [
            "\b\b\b\b\b\b\b\b\b\b\b\b\b\b\b\b\b\b\b\b\b\b\b\b\b\b\b\b\b\b\b\b\b\b\b\b\b\b\b\b\b\b\b\b\b\b\b\b\b\b\b\b\b\b\b\b\b\b\b\b\b\b\b\b\b\b\b\b\b\b\b\b\b\b\b\b\b\b\b\b\b\b\b\b\b\b\b\b\b\b\b\b\b\b\b\b\b\b\b\b\b\b\b\b\b\b\b\b\b\b\b\r61/61 [==============================] - 17s 279ms/step - loss: 0.2170 - mae: 0.1649 - root_mean_squared_error: 0.2171 - val_loss: 0.1696 - val_mae: 0.1472 - val_root_mean_squared_error: 0.1717 - lr: 0.0780\n",
            "Epoch 3/500\n",
            "61/61 [==============================] - 7s 114ms/step - loss: 0.2179 - mae: 0.1649 - root_mean_squared_error: 0.2179 - val_loss: 0.1774 - val_mae: 0.1556 - val_root_mean_squared_error: 0.1796 - lr: 0.0780\n",
            "Epoch 4/500\n",
            "61/61 [==============================] - 7s 115ms/step - loss: 0.2170 - mae: 0.1648 - root_mean_squared_error: 0.2170 - val_loss: 0.1764 - val_mae: 0.1544 - val_root_mean_squared_error: 0.1785 - lr: 0.0780\n",
            "Epoch 5/500\n",
            "61/61 [==============================] - 7s 116ms/step - loss: 0.2169 - mae: 0.1650 - root_mean_squared_error: 0.2169 - val_loss: 0.1755 - val_mae: 0.1535 - val_root_mean_squared_error: 0.1777 - lr: 0.0780\n",
            "Epoch 6/500\n",
            "61/61 [==============================] - ETA: 0s - loss: 0.2170 - mae: 0.1650 - root_mean_squared_error: 0.2170"
          ]
        },
        {
          "output_type": "stream",
          "name": "stderr",
          "text": [
            "WARNING:absl:Found untraced functions such as residual_block_0_layer_call_fn, residual_block_0_layer_call_and_return_conditional_losses, residual_block_1_layer_call_fn, residual_block_1_layer_call_and_return_conditional_losses, residual_block_2_layer_call_fn while saving (showing 5 of 257). These functions will not be directly callable after loading.\n",
            "\u001b[34m\u001b[1mwandb\u001b[0m: Adding directory to artifact (/content/wandb/run-20230124_120411-ldxxab6s/files/model-best)... Done. 0.0s\n"
          ]
        },
        {
          "output_type": "stream",
          "name": "stdout",
          "text": [
            "\b\b\b\b\b\b\b\b\b\b\b\b\b\b\b\b\b\b\b\b\b\b\b\b\b\b\b\b\b\b\b\b\b\b\b\b\b\b\b\b\b\b\b\b\b\b\b\b\b\b\b\b\b\b\b\b\b\b\b\b\b\b\b\b\b\b\b\b\b\b\b\b\b\b\b\b\b\b\b\b\b\b\b\b\b\b\b\b\b\b\b\b\b\b\b\b\b\b\b\b\b\b\b\b\b\b\b\b\b\b\b\r61/61 [==============================] - 17s 284ms/step - loss: 0.2170 - mae: 0.1650 - root_mean_squared_error: 0.2170 - val_loss: 0.1668 - val_mae: 0.1441 - val_root_mean_squared_error: 0.1688 - lr: 0.0780\n",
            "Epoch 7/500\n",
            "61/61 [==============================] - 7s 114ms/step - loss: 0.2170 - mae: 0.1648 - root_mean_squared_error: 0.2171 - val_loss: 0.1764 - val_mae: 0.1544 - val_root_mean_squared_error: 0.1785 - lr: 0.0780\n",
            "Epoch 8/500\n",
            "61/61 [==============================] - 7s 113ms/step - loss: 0.2169 - mae: 0.1650 - root_mean_squared_error: 0.2169 - val_loss: 0.1738 - val_mae: 0.1516 - val_root_mean_squared_error: 0.1759 - lr: 0.0780\n",
            "Epoch 9/500\n",
            "61/61 [==============================] - 7s 114ms/step - loss: 0.2171 - mae: 0.1649 - root_mean_squared_error: 0.2171 - val_loss: 0.1818 - val_mae: 0.1602 - val_root_mean_squared_error: 0.1841 - lr: 0.0780\n",
            "Epoch 10/500\n",
            "61/61 [==============================] - ETA: 0s - loss: 0.2173 - mae: 0.1654 - root_mean_squared_error: 0.2173"
          ]
        },
        {
          "output_type": "stream",
          "name": "stderr",
          "text": [
            "WARNING:absl:Found untraced functions such as residual_block_0_layer_call_fn, residual_block_0_layer_call_and_return_conditional_losses, residual_block_1_layer_call_fn, residual_block_1_layer_call_and_return_conditional_losses, residual_block_2_layer_call_fn while saving (showing 5 of 257). These functions will not be directly callable after loading.\n",
            "\u001b[34m\u001b[1mwandb\u001b[0m: Adding directory to artifact (/content/wandb/run-20230124_120411-ldxxab6s/files/model-best)... Done. 0.0s\n"
          ]
        },
        {
          "output_type": "stream",
          "name": "stdout",
          "text": [
            "\b\b\b\b\b\b\b\b\b\b\b\b\b\b\b\b\b\b\b\b\b\b\b\b\b\b\b\b\b\b\b\b\b\b\b\b\b\b\b\b\b\b\b\b\b\b\b\b\b\b\b\b\b\b\b\b\b\b\b\b\b\b\b\b\b\b\b\b\b\b\b\b\b\b\b\b\b\b\b\b\b\b\b\b\b\b\b\b\b\b\b\b\b\b\b\b\b\b\b\b\b\b\b\b\b\b\b\b\b\b\b\r61/61 [==============================] - 18s 305ms/step - loss: 0.2173 - mae: 0.1654 - root_mean_squared_error: 0.2173 - val_loss: 0.1650 - val_mae: 0.1422 - val_root_mean_squared_error: 0.1670 - lr: 0.0780\n",
            "Epoch 11/500\n",
            "61/61 [==============================] - 7s 118ms/step - loss: 0.2170 - mae: 0.1650 - root_mean_squared_error: 0.2170 - val_loss: 0.1823 - val_mae: 0.1607 - val_root_mean_squared_error: 0.1846 - lr: 0.0780\n",
            "Epoch 12/500\n",
            "61/61 [==============================] - 7s 114ms/step - loss: 0.2170 - mae: 0.1648 - root_mean_squared_error: 0.2170 - val_loss: 0.1737 - val_mae: 0.1515 - val_root_mean_squared_error: 0.1758 - lr: 0.0780\n",
            "Epoch 13/500\n",
            "61/61 [==============================] - 7s 115ms/step - loss: 0.2169 - mae: 0.1649 - root_mean_squared_error: 0.2169 - val_loss: 0.1799 - val_mae: 0.1581 - val_root_mean_squared_error: 0.1821 - lr: 0.0780\n",
            "Epoch 14/500\n",
            "61/61 [==============================] - 7s 115ms/step - loss: 0.2174 - mae: 0.1653 - root_mean_squared_error: 0.2174 - val_loss: 0.1701 - val_mae: 0.1475 - val_root_mean_squared_error: 0.1722 - lr: 0.0780\n",
            "Epoch 15/500\n",
            "61/61 [==============================] - ETA: 0s - loss: 0.2172 - mae: 0.1653 - root_mean_squared_error: 0.2171"
          ]
        },
        {
          "output_type": "stream",
          "name": "stderr",
          "text": [
            "WARNING:absl:Found untraced functions such as residual_block_0_layer_call_fn, residual_block_0_layer_call_and_return_conditional_losses, residual_block_1_layer_call_fn, residual_block_1_layer_call_and_return_conditional_losses, residual_block_2_layer_call_fn while saving (showing 5 of 257). These functions will not be directly callable after loading.\n",
            "\u001b[34m\u001b[1mwandb\u001b[0m: Adding directory to artifact (/content/wandb/run-20230124_120411-ldxxab6s/files/model-best)... Done. 0.0s\n"
          ]
        },
        {
          "output_type": "stream",
          "name": "stdout",
          "text": [
            "\b\b\b\b\b\b\b\b\b\b\b\b\b\b\b\b\b\b\b\b\b\b\b\b\b\b\b\b\b\b\b\b\b\b\b\b\b\b\b\b\b\b\b\b\b\b\b\b\b\b\b\b\b\b\b\b\b\b\b\b\b\b\b\b\b\b\b\b\b\b\b\b\b\b\b\b\b\b\b\b\b\b\b\b\b\b\b\b\b\b\b\b\b\b\b\b\b\b\b\b\b\b\b\b\b\b\b\b\b\b\b\r61/61 [==============================] - 17s 280ms/step - loss: 0.2172 - mae: 0.1653 - root_mean_squared_error: 0.2171 - val_loss: 0.1606 - val_mae: 0.1373 - val_root_mean_squared_error: 0.1625 - lr: 0.0780\n",
            "Epoch 16/500\n",
            "61/61 [==============================] - 7s 114ms/step - loss: 0.2173 - mae: 0.1652 - root_mean_squared_error: 0.2172 - val_loss: 0.1751 - val_mae: 0.1530 - val_root_mean_squared_error: 0.1772 - lr: 0.0780\n",
            "Epoch 17/500\n",
            "61/61 [==============================] - 7s 114ms/step - loss: 0.2172 - mae: 0.1650 - root_mean_squared_error: 0.2172 - val_loss: 0.1714 - val_mae: 0.1491 - val_root_mean_squared_error: 0.1735 - lr: 0.0780\n",
            "Epoch 18/500\n",
            "61/61 [==============================] - 7s 115ms/step - loss: 0.2171 - mae: 0.1650 - root_mean_squared_error: 0.2171 - val_loss: 0.1658 - val_mae: 0.1430 - val_root_mean_squared_error: 0.1678 - lr: 0.0780\n",
            "Epoch 19/500\n",
            "61/61 [==============================] - 7s 115ms/step - loss: 0.2176 - mae: 0.1655 - root_mean_squared_error: 0.2177 - val_loss: 0.1758 - val_mae: 0.1537 - val_root_mean_squared_error: 0.1780 - lr: 0.0780\n",
            "Epoch 20/500\n",
            "61/61 [==============================] - 7s 115ms/step - loss: 0.2172 - mae: 0.1650 - root_mean_squared_error: 0.2173 - val_loss: 0.1753 - val_mae: 0.1532 - val_root_mean_squared_error: 0.1775 - lr: 0.0780\n",
            "Epoch 21/500\n",
            "61/61 [==============================] - 7s 114ms/step - loss: 0.2171 - mae: 0.1649 - root_mean_squared_error: 0.2171 - val_loss: 0.1837 - val_mae: 0.1622 - val_root_mean_squared_error: 0.1860 - lr: 0.0780\n",
            "Epoch 22/500\n",
            "61/61 [==============================] - 7s 114ms/step - loss: 0.2171 - mae: 0.1654 - root_mean_squared_error: 0.2171 - val_loss: 0.1791 - val_mae: 0.1573 - val_root_mean_squared_error: 0.1813 - lr: 0.0780\n",
            "Epoch 23/500\n",
            "61/61 [==============================] - 7s 114ms/step - loss: 0.2174 - mae: 0.1651 - root_mean_squared_error: 0.2173 - val_loss: 0.1816 - val_mae: 0.1599 - val_root_mean_squared_error: 0.1839 - lr: 0.0780\n",
            "Epoch 24/500\n",
            "61/61 [==============================] - 7s 114ms/step - loss: 0.2173 - mae: 0.1652 - root_mean_squared_error: 0.2173 - val_loss: 0.1790 - val_mae: 0.1571 - val_root_mean_squared_error: 0.1812 - lr: 0.0780\n",
            "Epoch 25/500\n",
            "61/61 [==============================] - 7s 118ms/step - loss: 0.2174 - mae: 0.1652 - root_mean_squared_error: 0.2174 - val_loss: 0.1715 - val_mae: 0.1491 - val_root_mean_squared_error: 0.1736 - lr: 0.0780\n",
            "Epoch 26/500\n",
            "61/61 [==============================] - 7s 114ms/step - loss: 0.2169 - mae: 0.1646 - root_mean_squared_error: 0.2169 - val_loss: 0.1802 - val_mae: 0.1586 - val_root_mean_squared_error: 0.1825 - lr: 0.0078\n",
            "Epoch 27/500\n",
            "61/61 [==============================] - 7s 114ms/step - loss: 0.2168 - mae: 0.1648 - root_mean_squared_error: 0.2167 - val_loss: 0.1727 - val_mae: 0.1505 - val_root_mean_squared_error: 0.1748 - lr: 0.0078\n",
            "Epoch 28/500\n",
            "61/61 [==============================] - 7s 114ms/step - loss: 0.2168 - mae: 0.1648 - root_mean_squared_error: 0.2168 - val_loss: 0.1762 - val_mae: 0.1543 - val_root_mean_squared_error: 0.1784 - lr: 0.0078\n",
            "Epoch 29/500\n",
            "61/61 [==============================] - 7s 114ms/step - loss: 0.2169 - mae: 0.1648 - root_mean_squared_error: 0.2170 - val_loss: 0.1767 - val_mae: 0.1548 - val_root_mean_squared_error: 0.1789 - lr: 0.0078\n",
            "Epoch 30/500\n",
            "61/61 [==============================] - 7s 114ms/step - loss: 0.2168 - mae: 0.1647 - root_mean_squared_error: 0.2168 - val_loss: 0.1743 - val_mae: 0.1522 - val_root_mean_squared_error: 0.1765 - lr: 0.0078\n"
          ]
        },
        {
          "output_type": "display_data",
          "data": {
            "text/plain": [
              "<IPython.core.display.HTML object>"
            ],
            "text/html": [
              "Waiting for W&B process to finish... <strong style=\"color:green\">(success).</strong>"
            ]
          },
          "metadata": {}
        },
        {
          "output_type": "display_data",
          "data": {
            "text/plain": [
              "VBox(children=(Label(value='34.876 MB of 34.876 MB uploaded (0.399 MB deduped)\\r'), FloatProgress(value=1.0, m…"
            ],
            "application/vnd.jupyter.widget-view+json": {
              "version_major": 2,
              "version_minor": 0,
              "model_id": "a40c82ff25cb461e9d33b515cc6dfb74"
            }
          },
          "metadata": {}
        },
        {
          "output_type": "display_data",
          "data": {
            "text/plain": [
              "<IPython.core.display.HTML object>"
            ],
            "text/html": [
              "<style>\n",
              "    table.wandb td:nth-child(1) { padding: 0 10px; text-align: left ; width: auto;} td:nth-child(2) {text-align: left ; width: 100%}\n",
              "    .wandb-row { display: flex; flex-direction: row; flex-wrap: wrap; justify-content: flex-start; width: 100% }\n",
              "    .wandb-col { display: flex; flex-direction: column; flex-basis: 100%; flex: 1; padding: 10px; }\n",
              "    </style>\n",
              "<div class=\"wandb-row\"><div class=\"wandb-col\"><h3>Run history:</h3><br/><table class=\"wandb\"><tr><td>epoch</td><td>▁▁▁▂▂▂▂▃▃▃▃▄▄▄▄▅▅▅▅▆▆▆▆▇▇▇▇███</td></tr><tr><td>loss</td><td>█▁▁▁▁▁▁▁▁▁▁▁▁▁▁▁▁▁▁▁▁▁▁▁▁▁▁▁▁▁</td></tr><tr><td>mae</td><td>█▁▁▁▁▁▁▁▁▁▁▁▁▁▁▁▁▁▁▁▁▁▁▁▁▁▁▁▁▁</td></tr><tr><td>root_mean_squared_error</td><td>█▁▁▁▁▁▁▁▁▁▁▁▁▁▁▁▁▁▁▁▁▁▁▁▁▁▁▁▁▁</td></tr><tr><td>val_loss</td><td>█▃▅▅▅▃▅▄▆▂▆▄▆▃▁▅▄▂▅▅▇▆▆▅▄▆▄▅▅▄</td></tr><tr><td>val_mae</td><td>█▃▅▅▅▃▅▄▆▂▆▄▆▃▁▅▄▂▅▅▇▆▆▆▄▆▄▅▅▄</td></tr><tr><td>val_root_mean_squared_error</td><td>█▃▅▅▅▃▅▄▆▂▆▄▆▃▁▅▄▂▅▅▇▆▆▆▄▆▄▅▅▄</td></tr></table><br/></div><div class=\"wandb-col\"><h3>Run summary:</h3><br/><table class=\"wandb\"><tr><td>best_epoch</td><td>14</td></tr><tr><td>best_val_loss</td><td>0.16063</td></tr><tr><td>epoch</td><td>29</td></tr><tr><td>loss</td><td>0.21677</td></tr><tr><td>mae</td><td>0.16473</td></tr><tr><td>root_mean_squared_error</td><td>0.21676</td></tr><tr><td>val_loss</td><td>0.17432</td></tr><tr><td>val_mae</td><td>0.15225</td></tr><tr><td>val_root_mean_squared_error</td><td>0.17646</td></tr></table><br/></div></div>"
            ]
          },
          "metadata": {}
        },
        {
          "output_type": "display_data",
          "data": {
            "text/plain": [
              "<IPython.core.display.HTML object>"
            ],
            "text/html": [
              " View run <strong style=\"color:#cdcd00\">misunderstood-sweep-10</strong> at: <a href=\"https://wandb.ai/dsp_aguro/aguro_tcn/runs/ldxxab6s\" target=\"_blank\">https://wandb.ai/dsp_aguro/aguro_tcn/runs/ldxxab6s</a><br/>Synced 5 W&B file(s), 1 media file(s), 20 artifact file(s) and 1 other file(s)"
            ]
          },
          "metadata": {}
        },
        {
          "output_type": "display_data",
          "data": {
            "text/plain": [
              "<IPython.core.display.HTML object>"
            ],
            "text/html": [
              "Find logs at: <code>./wandb/run-20230124_120411-ldxxab6s/logs</code>"
            ]
          },
          "metadata": {}
        },
        {
          "output_type": "stream",
          "name": "stderr",
          "text": [
            "\u001b[34m\u001b[1mwandb\u001b[0m: Agent Starting Run: w9wsx402 with config:\n",
            "\u001b[34m\u001b[1mwandb\u001b[0m: \tbatch_size: 512\n",
            "\u001b[34m\u001b[1mwandb\u001b[0m: \tdropout_rate: 0.7\n",
            "\u001b[34m\u001b[1mwandb\u001b[0m: \tepochs: 500\n",
            "\u001b[34m\u001b[1mwandb\u001b[0m: \tkernel_size: 6\n",
            "\u001b[34m\u001b[1mwandb\u001b[0m: \tlr: 0.06097932802114634\n",
            "\u001b[34m\u001b[1mwandb\u001b[0m: \tnb_filters: 32\n",
            "\u001b[34m\u001b[1mwandb\u001b[0m: \toptimizer: adam\n"
          ]
        }
      ]
    },
    {
      "cell_type": "code",
      "execution_count": null,
      "metadata": {
        "id": "ehlgZwsKKkJ5",
        "colab": {
          "base_uri": "https://localhost:8080/"
        },
        "outputId": "5af3cb71-386d-44b3-c19c-abd5417f382a"
      },
      "outputs": [
        {
          "output_type": "stream",
          "name": "stdout",
          "text": [
            "304/304 [==============================] - 2s 6ms/step - loss: 0.1350 - mae: 0.1168 - root_mean_squared_error: 0.1350\n"
          ]
        },
        {
          "output_type": "execute_result",
          "data": {
            "text/plain": [
              "[0.13501565158367157, 0.11678452789783478, 0.1349869966506958]"
            ]
          },
          "metadata": {},
          "execution_count": 29
        }
      ],
      "source": [
        "model.evaluate(X_test, y_test)"
      ]
    },
    {
      "cell_type": "code",
      "source": [
        "preds = model.predict(X_test)"
      ],
      "metadata": {
        "colab": {
          "base_uri": "https://localhost:8080/"
        },
        "id": "AMf2O_nlbUyv",
        "outputId": "d880ecb4-3a86-430e-bf99-98aec4c15637"
      },
      "execution_count": null,
      "outputs": [
        {
          "output_type": "stream",
          "name": "stdout",
          "text": [
            "304/304 [==============================] - 2s 5ms/step\n"
          ]
        }
      ]
    },
    {
      "cell_type": "code",
      "source": [
        "import matplotlib.pyplot as plt"
      ],
      "metadata": {
        "id": "LNEsdChNbWzh"
      },
      "execution_count": null,
      "outputs": []
    },
    {
      "cell_type": "code",
      "source": [
        "preds[-1]"
      ],
      "metadata": {
        "colab": {
          "base_uri": "https://localhost:8080/",
          "height": 165
        },
        "id": "hbW5l3UgbvYN",
        "outputId": "8293e655-32d0-48ce-9722-0b8278ea7d43"
      },
      "execution_count": null,
      "outputs": [
        {
          "output_type": "error",
          "ename": "NameError",
          "evalue": "ignored",
          "traceback": [
            "\u001b[0;31m---------------------------------------------------------------------------\u001b[0m",
            "\u001b[0;31mNameError\u001b[0m                                 Traceback (most recent call last)",
            "\u001b[0;32m<ipython-input-2-558dd9194f8c>\u001b[0m in \u001b[0;36m<module>\u001b[0;34m\u001b[0m\n\u001b[0;32m----> 1\u001b[0;31m \u001b[0mpreds\u001b[0m\u001b[0;34m[\u001b[0m\u001b[0;34m-\u001b[0m\u001b[0;36m1\u001b[0m\u001b[0;34m]\u001b[0m\u001b[0;34m\u001b[0m\u001b[0;34m\u001b[0m\u001b[0m\n\u001b[0m",
            "\u001b[0;31mNameError\u001b[0m: name 'preds' is not defined"
          ]
        }
      ]
    },
    {
      "cell_type": "code",
      "source": [],
      "metadata": {
        "id": "cKVD_nmckD28"
      },
      "execution_count": null,
      "outputs": []
    }
  ],
  "metadata": {
    "kernelspec": {
      "display_name": "base",
      "language": "python",
      "name": "python3"
    },
    "language_info": {
      "codemirror_mode": {
        "name": "ipython",
        "version": 3
      },
      "file_extension": ".py",
      "mimetype": "text/x-python",
      "name": "python",
      "nbconvert_exporter": "python",
      "pygments_lexer": "ipython3",
      "version": "3.9.13"
    },
    "orig_nbformat": 4,
    "vscode": {
      "interpreter": {
        "hash": "ad2bdc8ecc057115af97d19610ffacc2b4e99fae6737bb82f5d7fb13d2f2c186"
      }
    },
    "colab": {
      "provenance": []
    },
    "accelerator": "GPU",
    "gpuClass": "standard",
    "widgets": {
      "application/vnd.jupyter.widget-state+json": {
        "a40c82ff25cb461e9d33b515cc6dfb74": {
          "model_module": "@jupyter-widgets/controls",
          "model_name": "VBoxModel",
          "model_module_version": "1.5.0",
          "state": {
            "_dom_classes": [],
            "_model_module": "@jupyter-widgets/controls",
            "_model_module_version": "1.5.0",
            "_model_name": "VBoxModel",
            "_view_count": null,
            "_view_module": "@jupyter-widgets/controls",
            "_view_module_version": "1.5.0",
            "_view_name": "VBoxView",
            "box_style": "",
            "children": [
              "IPY_MODEL_66abb142c16a4d8f8f536388bbb6012b",
              "IPY_MODEL_0e8d2bdee7d54ba393f71d6e33bc3179"
            ],
            "layout": "IPY_MODEL_d19e3e39a2944ad9baaa59aec47e3f14"
          }
        },
        "66abb142c16a4d8f8f536388bbb6012b": {
          "model_module": "@jupyter-widgets/controls",
          "model_name": "LabelModel",
          "model_module_version": "1.5.0",
          "state": {
            "_dom_classes": [],
            "_model_module": "@jupyter-widgets/controls",
            "_model_module_version": "1.5.0",
            "_model_name": "LabelModel",
            "_view_count": null,
            "_view_module": "@jupyter-widgets/controls",
            "_view_module_version": "1.5.0",
            "_view_name": "LabelView",
            "description": "",
            "description_tooltip": null,
            "layout": "IPY_MODEL_4c27a61941e1463da4a7ce5d27ffda1a",
            "placeholder": "​",
            "style": "IPY_MODEL_c3c1f711dba5458b9f45acb8b65a2ffc",
            "value": "34.876 MB of 34.892 MB uploaded (0.399 MB deduped)\r"
          }
        },
        "0e8d2bdee7d54ba393f71d6e33bc3179": {
          "model_module": "@jupyter-widgets/controls",
          "model_name": "FloatProgressModel",
          "model_module_version": "1.5.0",
          "state": {
            "_dom_classes": [],
            "_model_module": "@jupyter-widgets/controls",
            "_model_module_version": "1.5.0",
            "_model_name": "FloatProgressModel",
            "_view_count": null,
            "_view_module": "@jupyter-widgets/controls",
            "_view_module_version": "1.5.0",
            "_view_name": "ProgressView",
            "bar_style": "",
            "description": "",
            "description_tooltip": null,
            "layout": "IPY_MODEL_96c30c7478b141c08c6f6a8832305c3b",
            "max": 1,
            "min": 0,
            "orientation": "horizontal",
            "style": "IPY_MODEL_53d8b0d3d0e34ff9afe67e448f350c2c",
            "value": 0.9995193409378739
          }
        },
        "d19e3e39a2944ad9baaa59aec47e3f14": {
          "model_module": "@jupyter-widgets/base",
          "model_name": "LayoutModel",
          "model_module_version": "1.2.0",
          "state": {
            "_model_module": "@jupyter-widgets/base",
            "_model_module_version": "1.2.0",
            "_model_name": "LayoutModel",
            "_view_count": null,
            "_view_module": "@jupyter-widgets/base",
            "_view_module_version": "1.2.0",
            "_view_name": "LayoutView",
            "align_content": null,
            "align_items": null,
            "align_self": null,
            "border": null,
            "bottom": null,
            "display": null,
            "flex": null,
            "flex_flow": null,
            "grid_area": null,
            "grid_auto_columns": null,
            "grid_auto_flow": null,
            "grid_auto_rows": null,
            "grid_column": null,
            "grid_gap": null,
            "grid_row": null,
            "grid_template_areas": null,
            "grid_template_columns": null,
            "grid_template_rows": null,
            "height": null,
            "justify_content": null,
            "justify_items": null,
            "left": null,
            "margin": null,
            "max_height": null,
            "max_width": null,
            "min_height": null,
            "min_width": null,
            "object_fit": null,
            "object_position": null,
            "order": null,
            "overflow": null,
            "overflow_x": null,
            "overflow_y": null,
            "padding": null,
            "right": null,
            "top": null,
            "visibility": null,
            "width": null
          }
        },
        "4c27a61941e1463da4a7ce5d27ffda1a": {
          "model_module": "@jupyter-widgets/base",
          "model_name": "LayoutModel",
          "model_module_version": "1.2.0",
          "state": {
            "_model_module": "@jupyter-widgets/base",
            "_model_module_version": "1.2.0",
            "_model_name": "LayoutModel",
            "_view_count": null,
            "_view_module": "@jupyter-widgets/base",
            "_view_module_version": "1.2.0",
            "_view_name": "LayoutView",
            "align_content": null,
            "align_items": null,
            "align_self": null,
            "border": null,
            "bottom": null,
            "display": null,
            "flex": null,
            "flex_flow": null,
            "grid_area": null,
            "grid_auto_columns": null,
            "grid_auto_flow": null,
            "grid_auto_rows": null,
            "grid_column": null,
            "grid_gap": null,
            "grid_row": null,
            "grid_template_areas": null,
            "grid_template_columns": null,
            "grid_template_rows": null,
            "height": null,
            "justify_content": null,
            "justify_items": null,
            "left": null,
            "margin": null,
            "max_height": null,
            "max_width": null,
            "min_height": null,
            "min_width": null,
            "object_fit": null,
            "object_position": null,
            "order": null,
            "overflow": null,
            "overflow_x": null,
            "overflow_y": null,
            "padding": null,
            "right": null,
            "top": null,
            "visibility": null,
            "width": null
          }
        },
        "c3c1f711dba5458b9f45acb8b65a2ffc": {
          "model_module": "@jupyter-widgets/controls",
          "model_name": "DescriptionStyleModel",
          "model_module_version": "1.5.0",
          "state": {
            "_model_module": "@jupyter-widgets/controls",
            "_model_module_version": "1.5.0",
            "_model_name": "DescriptionStyleModel",
            "_view_count": null,
            "_view_module": "@jupyter-widgets/base",
            "_view_module_version": "1.2.0",
            "_view_name": "StyleView",
            "description_width": ""
          }
        },
        "96c30c7478b141c08c6f6a8832305c3b": {
          "model_module": "@jupyter-widgets/base",
          "model_name": "LayoutModel",
          "model_module_version": "1.2.0",
          "state": {
            "_model_module": "@jupyter-widgets/base",
            "_model_module_version": "1.2.0",
            "_model_name": "LayoutModel",
            "_view_count": null,
            "_view_module": "@jupyter-widgets/base",
            "_view_module_version": "1.2.0",
            "_view_name": "LayoutView",
            "align_content": null,
            "align_items": null,
            "align_self": null,
            "border": null,
            "bottom": null,
            "display": null,
            "flex": null,
            "flex_flow": null,
            "grid_area": null,
            "grid_auto_columns": null,
            "grid_auto_flow": null,
            "grid_auto_rows": null,
            "grid_column": null,
            "grid_gap": null,
            "grid_row": null,
            "grid_template_areas": null,
            "grid_template_columns": null,
            "grid_template_rows": null,
            "height": null,
            "justify_content": null,
            "justify_items": null,
            "left": null,
            "margin": null,
            "max_height": null,
            "max_width": null,
            "min_height": null,
            "min_width": null,
            "object_fit": null,
            "object_position": null,
            "order": null,
            "overflow": null,
            "overflow_x": null,
            "overflow_y": null,
            "padding": null,
            "right": null,
            "top": null,
            "visibility": null,
            "width": null
          }
        },
        "53d8b0d3d0e34ff9afe67e448f350c2c": {
          "model_module": "@jupyter-widgets/controls",
          "model_name": "ProgressStyleModel",
          "model_module_version": "1.5.0",
          "state": {
            "_model_module": "@jupyter-widgets/controls",
            "_model_module_version": "1.5.0",
            "_model_name": "ProgressStyleModel",
            "_view_count": null,
            "_view_module": "@jupyter-widgets/base",
            "_view_module_version": "1.2.0",
            "_view_name": "StyleView",
            "bar_color": null,
            "description_width": ""
          }
        }
      }
    }
  },
  "nbformat": 4,
  "nbformat_minor": 0
}