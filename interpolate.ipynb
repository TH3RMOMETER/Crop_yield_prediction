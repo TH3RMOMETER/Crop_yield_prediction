{
  "cells": [
    {
      "cell_type": "code",
      "execution_count": null,
      "metadata": {
        "collapsed": false
      },
      "outputs": [],
      "source": [
        "%matplotlib inline"
      ]
    },
    {
      "cell_type": "markdown",
      "metadata": {},
      "source": [
        "\n",
        "# Fit with Data in a pandas DataFrame\n",
        "\n",
        "Simple example demonstrating how to read in the data using ``pandas`` and\n",
        "supply the elements of the ``DataFrame`` to lmfit.\n"
      ]
    },
    {
      "cell_type": "code",
      "execution_count": 2,
      "metadata": {
        "collapsed": false
      },
      "outputs": [],
      "source": [
        "import pandas as pd\n",
        "\n",
        "from lmfit.models import LorentzianModel"
      ]
    },
    {
      "cell_type": "markdown",
      "metadata": {},
      "source": [
        "read the data into a pandas DataFrame, and use the ``x`` and ``y`` columns:\n",
        "\n"
      ]
    },
    {
      "cell_type": "code",
      "execution_count": 3,
      "metadata": {
        "collapsed": false
      },
      "outputs": [],
      "source": [
        "dframe = pd.read_csv('nvdi_2019.csv')"
      ]
    },
    {
      "cell_type": "code",
      "execution_count": 13,
      "metadata": {},
      "outputs": [],
      "source": [
        "dframe[\"interval_to\"] = pd.to_datetime(dframe[\"interval_to\"])"
      ]
    },
    {
      "cell_type": "code",
      "execution_count": 23,
      "metadata": {},
      "outputs": [
        {
          "data": {
            "text/plain": [
              "<bound method NDFrame.last of 0    2019-01-18\n",
              "1    2019-01-21\n",
              "2    2019-02-12\n",
              "3    2019-02-15\n",
              "4    2019-02-20\n",
              "5    2019-02-25\n",
              "6    2019-02-27\n",
              "7    2019-03-07\n",
              "8    2019-03-19\n",
              "9    2019-03-22\n",
              "10   2019-03-29\n",
              "11   2019-04-01\n",
              "12   2019-04-08\n",
              "13   2019-04-16\n",
              "14   2019-04-18\n",
              "15   2019-04-21\n",
              "16   2019-05-11\n",
              "17   2019-05-13\n",
              "18   2019-06-15\n",
              "19   2019-06-22\n",
              "20   2019-06-30\n",
              "21   2019-07-05\n",
              "22   2019-07-17\n",
              "23   2019-07-25\n",
              "24   2019-07-30\n",
              "25   2019-08-24\n",
              "26   2019-08-26\n",
              "27   2019-08-31\n",
              "28   2019-09-13\n",
              "29   2019-09-20\n",
              "30   2019-10-28\n",
              "31   2019-10-30\n",
              "32   2019-11-14\n",
              "33   2019-11-17\n",
              "34   2019-11-19\n",
              "35   2019-11-29\n",
              "36   2019-12-02\n",
              "37   2019-12-04\n",
              "38   2019-12-09\n",
              "39   2019-12-12\n",
              "40   2019-12-14\n",
              "41   2019-12-27\n",
              "Name: interval_from, dtype: datetime64[ns]>"
            ]
          },
          "execution_count": 23,
          "metadata": {},
          "output_type": "execute_result"
        }
      ],
      "source": [
        "dframe[\"interval_from\"].last"
      ]
    },
    {
      "cell_type": "code",
      "execution_count": 10,
      "metadata": {},
      "outputs": [],
      "source": [
        "\n",
        "model = LorentzianModel()\n",
        "params = model.guess(dframe['indices_NDVI_mean'], x=dframe.index)\n",
        "\n",
        "result = model.fit(dframe['indices_NDVI_mean'], params, x=dframe.index)"
      ]
    },
    {
      "cell_type": "markdown",
      "metadata": {},
      "source": [
        "and gives the fitting results:\n",
        "\n"
      ]
    },
    {
      "cell_type": "markdown",
      "metadata": {},
      "source": [
        "and plot below:\n",
        "\n"
      ]
    },
    {
      "cell_type": "code",
      "execution_count": 4,
      "metadata": {},
      "outputs": [],
      "source": [
        "import matplotlib.pyplot as plt\n",
        "from scipy.interpolate import UnivariateSpline\n",
        "import numpy as np"
      ]
    },
    {
      "cell_type": "code",
      "execution_count": 34,
      "metadata": {},
      "outputs": [
        {
          "data": {
            "image/png": "[encoded data removed]",
            "text/plain": [
              "<Figure size 640x480 with 1 Axes>"
            ]
          },
          "metadata": {},
          "output_type": "display_data"
        }
      ],
      "source": [
        "x = dframe.index\n",
        "y = dframe[\"indices_NDVI_mean\"]\n",
        "\n",
        "s = UnivariateSpline(x, y, s=0.1)\n",
        "xs = np.linspace(-2, len(x), 100)\n",
        "ys = s(xs)\n",
        "\n",
        "plt.plot(x, y, 'o')\n",
        "plt.plot(xs, ys)\n",
        "plt.show()"
      ]
    },
    {
      "cell_type": "code",
      "execution_count": 24,
      "metadata": {},
      "outputs": [
        {
          "data": {
            "text/plain": [
              "array(-0.22458722)"
            ]
          },
          "execution_count": 24,
          "metadata": {},
          "output_type": "execute_result"
        }
      ],
      "source": [
        "s(-1)"
      ]
    },
    {
      "cell_type": "code",
      "execution_count": null,
      "metadata": {},
      "outputs": [],
      "source": []
    }
  ],
  "metadata": {
    "kernelspec": {
      "display_name": "base",
      "language": "python",
      "name": "python3"
    },
    "language_info": {
      "codemirror_mode": {
        "name": "ipython",
        "version": 3
      },
      "file_extension": ".py",
      "mimetype": "text/x-python",
      "name": "python",
      "nbconvert_exporter": "python",
      "pygments_lexer": "ipython3",
      "version": "3.9.13 (main, Aug 25 2022, 23:51:50) [MSC v.1916 64 bit (AMD64)]"
    },
    "vscode": {
      "interpreter": {
        "hash": "ad2bdc8ecc057115af97d19610ffacc2b4e99fae6737bb82f5d7fb13d2f2c186"
      }
    }
  },
  "nbformat": 4,
  "nbformat_minor": 0
}
