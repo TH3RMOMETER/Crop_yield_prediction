{
  "cells": [
    {
      "cell_type": "code",
      "execution_count": 1,
      "metadata": {
        "colab": {
          "base_uri": "https://localhost:8080/"
        },
        "id": "zk-MCk7nFfiH",
        "outputId": "ea393b9c-b602-4c4f-b541-c7824b57c73f"
      },
      "outputs": [
        {
          "name": "stdout",
          "output_type": "stream",
          "text": [
            "Looking in indexes: https://pypi.org/simple, https://us-python.pkg.dev/colab-wheels/public/simple/\n",
            "Collecting wandb\n",
            "  Downloading wandb-0.13.9-py2.py3-none-any.whl (2.0 MB)\n",
            "\u001b[2K     \u001b[90m━━━━━━━━━━━━━━━━━━━━━━━━━━━━━━━━━━━━━━━━\u001b[0m \u001b[32m2.0/2.0 MB\u001b[0m \u001b[31m26.9 MB/s\u001b[0m eta \u001b[36m0:00:00\u001b[0m\n",
            "\u001b[?25hRequirement already satisfied: PyYAML in /usr/local/lib/python3.8/dist-packages (from wandb) (6.0)\n",
            "Requirement already satisfied: requests<3,>=2.0.0 in /usr/local/lib/python3.8/dist-packages (from wandb) (2.25.1)\n",
            "Requirement already satisfied: setuptools in /usr/local/lib/python3.8/dist-packages (from wandb) (57.4.0)\n",
            "Requirement already satisfied: appdirs>=1.4.3 in /usr/local/lib/python3.8/dist-packages (from wandb) (1.4.4)\n",
            "Requirement already satisfied: protobuf!=4.21.0,<5,>=3.12.0 in /usr/local/lib/python3.8/dist-packages (from wandb) (3.19.6)\n",
            "Collecting pathtools\n",
            "  Downloading pathtools-0.1.2.tar.gz (11 kB)\n",
            "  Preparing metadata (setup.py) ... \u001b[?25l\u001b[?25hdone\n",
            "Requirement already satisfied: typing-extensions in /usr/local/lib/python3.8/dist-packages (from wandb) (4.4.0)\n",
            "Collecting sentry-sdk>=1.0.0\n",
            "  Downloading sentry_sdk-1.14.0-py2.py3-none-any.whl (178 kB)\n",
            "\u001b[2K     \u001b[90m━━━━━━━━━━━━━━━━━━━━━━━━━━━━━━━━━━━━━━━\u001b[0m \u001b[32m178.9/178.9 KB\u001b[0m \u001b[31m7.9 MB/s\u001b[0m eta \u001b[36m0:00:00\u001b[0m\n",
            "\u001b[?25hCollecting setproctitle\n",
            "  Downloading setproctitle-1.3.2-cp38-cp38-manylinux_2_5_x86_64.manylinux1_x86_64.manylinux_2_17_x86_64.manylinux2014_x86_64.whl (31 kB)\n",
            "Collecting GitPython>=1.0.0\n",
            "  Downloading GitPython-3.1.30-py3-none-any.whl (184 kB)\n",
            "\u001b[2K     \u001b[90m━━━━━━━━━━━━━━━━━━━━━━━━━━━━━━━━━━━━━━━\u001b[0m \u001b[32m184.0/184.0 KB\u001b[0m \u001b[31m6.8 MB/s\u001b[0m eta \u001b[36m0:00:00\u001b[0m\n",
            "\u001b[?25hRequirement already satisfied: Click!=8.0.0,>=7.0 in /usr/local/lib/python3.8/dist-packages (from wandb) (7.1.2)\n",
            "Requirement already satisfied: psutil>=5.0.0 in /usr/local/lib/python3.8/dist-packages (from wandb) (5.4.8)\n",
            "Collecting docker-pycreds>=0.4.0\n",
            "  Downloading docker_pycreds-0.4.0-py2.py3-none-any.whl (9.0 kB)\n",
            "Requirement already satisfied: six>=1.4.0 in /usr/local/lib/python3.8/dist-packages (from docker-pycreds>=0.4.0->wandb) (1.15.0)\n",
            "Collecting gitdb<5,>=4.0.1\n",
            "  Downloading gitdb-4.0.10-py3-none-any.whl (62 kB)\n",
            "\u001b[2K     \u001b[90m━━━━━━━━━━━━━━━━━━━━━━━━━━━━━━━━━━━━━━━━\u001b[0m \u001b[32m62.7/62.7 KB\u001b[0m \u001b[31m3.2 MB/s\u001b[0m eta \u001b[36m0:00:00\u001b[0m\n",
            "\u001b[?25hRequirement already satisfied: urllib3<1.27,>=1.21.1 in /usr/local/lib/python3.8/dist-packages (from requests<3,>=2.0.0->wandb) (1.24.3)\n",
            "Requirement already satisfied: chardet<5,>=3.0.2 in /usr/local/lib/python3.8/dist-packages (from requests<3,>=2.0.0->wandb) (4.0.0)\n",
            "Requirement already satisfied: certifi>=2017.4.17 in /usr/local/lib/python3.8/dist-packages (from requests<3,>=2.0.0->wandb) (2022.12.7)\n",
            "Requirement already satisfied: idna<3,>=2.5 in /usr/local/lib/python3.8/dist-packages (from requests<3,>=2.0.0->wandb) (2.10)\n",
            "Collecting urllib3<1.27,>=1.21.1\n",
            "  Downloading urllib3-1.26.14-py2.py3-none-any.whl (140 kB)\n",
            "\u001b[2K     \u001b[90m━━━━━━━━━━━━━━━━━━━━━━━━━━━━━━━━━━━━━━━\u001b[0m \u001b[32m140.6/140.6 KB\u001b[0m \u001b[31m5.9 MB/s\u001b[0m eta \u001b[36m0:00:00\u001b[0m\n",
            "\u001b[?25hCollecting smmap<6,>=3.0.1\n",
            "  Downloading smmap-5.0.0-py3-none-any.whl (24 kB)\n",
            "Building wheels for collected packages: pathtools\n",
            "  Building wheel for pathtools (setup.py) ... \u001b[?25l\u001b[?25hdone\n",
            "  Created wheel for pathtools: filename=pathtools-0.1.2-py3-none-any.whl size=8806 sha256=111801ecb65787ab497d02127bc9f261a6ad83dd9f1cca30813ee3a5b32ace1c\n",
            "  Stored in directory: /root/.cache/pip/wheels/4c/8e/7e/72fbc243e1aeecae64a96875432e70d4e92f3d2d18123be004\n",
            "Successfully built pathtools\n",
            "Installing collected packages: pathtools, urllib3, smmap, setproctitle, docker-pycreds, sentry-sdk, gitdb, GitPython, wandb\n",
            "  Attempting uninstall: urllib3\n",
            "    Found existing installation: urllib3 1.24.3\n",
            "    Uninstalling urllib3-1.24.3:\n",
            "      Successfully uninstalled urllib3-1.24.3\n",
            "Successfully installed GitPython-3.1.30 docker-pycreds-0.4.0 gitdb-4.0.10 pathtools-0.1.2 sentry-sdk-1.14.0 setproctitle-1.3.2 smmap-5.0.0 urllib3-1.26.14 wandb-0.13.9\n"
          ]
        }
      ],
      "source": [
        "!pip install wandb"
      ]
    },
    {
      "cell_type": "code",
      "execution_count": 2,
      "metadata": {
        "colab": {
          "base_uri": "https://localhost:8080/"
        },
        "id": "UQUF5s_rkhqv",
        "outputId": "10574fca-d4a9-4e7c-8d95-7c8c1d8bc821"
      },
      "outputs": [
        {
          "name": "stdout",
          "output_type": "stream",
          "text": [
            "Collecting shap\n",
            "  Downloading shap-0.41.0-cp39-cp39-win_amd64.whl (435 kB)\n",
            "     -------------------------------------- 435.6/435.6 kB 9.0 MB/s eta 0:00:00\n",
            "Requirement already satisfied: tqdm>4.25.0 in c:\\programdata\\anaconda3\\lib\\site-packages (from shap) (4.64.1)\n",
            "Requirement already satisfied: numpy in c:\\programdata\\anaconda3\\lib\\site-packages (from shap) (1.21.5)\n",
            "Collecting slicer==0.0.7\n",
            "  Downloading slicer-0.0.7-py3-none-any.whl (14 kB)\n",
            "Requirement already satisfied: scikit-learn in c:\\programdata\\anaconda3\\lib\\site-packages (from shap) (1.0.2)\n",
            "Requirement already satisfied: cloudpickle in c:\\programdata\\anaconda3\\lib\\site-packages (from shap) (2.0.0)\n",
            "Requirement already satisfied: scipy in c:\\programdata\\anaconda3\\lib\\site-packages (from shap) (1.9.1)\n",
            "Requirement already satisfied: packaging>20.9 in c:\\programdata\\anaconda3\\lib\\site-packages (from shap) (21.3)\n",
            "Requirement already satisfied: pandas in c:\\programdata\\anaconda3\\lib\\site-packages (from shap) (1.4.4)\n",
            "Requirement already satisfied: numba in c:\\programdata\\anaconda3\\lib\\site-packages (from shap) (0.55.1)\n",
            "Requirement already satisfied: pyparsing!=3.0.5,>=2.0.2 in c:\\programdata\\anaconda3\\lib\\site-packages (from packaging>20.9->shap) (3.0.9)\n",
            "Requirement already satisfied: colorama in c:\\programdata\\anaconda3\\lib\\site-packages (from tqdm>4.25.0->shap) (0.4.6)\n",
            "Requirement already satisfied: llvmlite<0.39,>=0.38.0rc1 in c:\\programdata\\anaconda3\\lib\\site-packages (from numba->shap) (0.38.0)\n",
            "Requirement already satisfied: setuptools in c:\\programdata\\anaconda3\\lib\\site-packages (from numba->shap) (63.4.1)\n",
            "Requirement already satisfied: python-dateutil>=2.8.1 in c:\\programdata\\anaconda3\\lib\\site-packages (from pandas->shap) (2.8.2)\n",
            "Requirement already satisfied: pytz>=2020.1 in c:\\programdata\\anaconda3\\lib\\site-packages (from pandas->shap) (2022.1)\n",
            "Requirement already satisfied: joblib>=0.11 in c:\\programdata\\anaconda3\\lib\\site-packages (from scikit-learn->shap) (1.2.0)\n",
            "Requirement already satisfied: threadpoolctl>=2.0.0 in c:\\programdata\\anaconda3\\lib\\site-packages (from scikit-learn->shap) (2.2.0)\n",
            "Requirement already satisfied: six>=1.5 in c:\\programdata\\anaconda3\\lib\\site-packages (from python-dateutil>=2.8.1->pandas->shap) (1.16.0)\n",
            "Installing collected packages: slicer, shap\n",
            "Successfully installed shap-0.41.0 slicer-0.0.7\n",
            "Note: you may need to restart the kernel to use updated packages.\n"
          ]
        }
      ],
      "source": [
        "pip install shap"
      ]
    },
    {
      "cell_type": "code",
      "execution_count": 3,
      "metadata": {
        "colab": {
          "base_uri": "https://localhost:8080/",
          "height": 106
        },
        "id": "5__L2-JVFrCx",
        "outputId": "bb1dbcbf-207d-474c-9cc5-6b7c64accd8f"
      },
      "outputs": [
        {
          "name": "stderr",
          "output_type": "stream",
          "text": [
            "ERROR:wandb.jupyter:Failed to detect the name of this notebook, you can set it manually with the WANDB_NOTEBOOK_NAME environment variable to enable code saving.\n"
          ]
        },
        {
          "data": {
            "application/javascript": "\n        window._wandbApiKey = new Promise((resolve, reject) => {\n            function loadScript(url) {\n            return new Promise(function(resolve, reject) {\n                let newScript = document.createElement(\"script\");\n                newScript.onerror = reject;\n                newScript.onload = resolve;\n                document.body.appendChild(newScript);\n                newScript.src = url;\n            });\n            }\n            loadScript(\"https://cdn.jsdelivr.net/npm/postmate/build/postmate.min.js\").then(() => {\n            const iframe = document.createElement('iframe')\n            iframe.style.cssText = \"width:0;height:0;border:none\"\n            document.body.appendChild(iframe)\n            const handshake = new Postmate({\n                container: iframe,\n                url: 'https://wandb.ai/authorize'\n            });\n            const timeout = setTimeout(() => reject(\"Couldn't auto authenticate\"), 5000)\n            handshake.then(function(child) {\n                child.on('authorize', data => {\n                    clearTimeout(timeout)\n                    resolve(data)\n                });\n            });\n            })\n        });\n    ",
            "text/plain": [
              "<IPython.core.display.Javascript object>"
            ]
          },
          "metadata": {},
          "output_type": "display_data"
        },
        {
          "name": "stderr",
          "output_type": "stream",
          "text": [
            "\u001b[34m\u001b[1mwandb\u001b[0m: Appending key for api.wandb.ai to your netrc file: /root/.netrc\n"
          ]
        },
        {
          "data": {
            "text/plain": [
              "True"
            ]
          },
          "execution_count": 3,
          "metadata": {},
          "output_type": "execute_result"
        }
      ],
      "source": [
        "import wandb\n",
        "from wandb.keras import WandbCallback\n",
        "wandb.login()"
      ]
    },
    {
      "cell_type": "code",
      "execution_count": 4,
      "metadata": {
        "id": "aUO2WipAGr7V"
      },
      "outputs": [],
      "source": [
        "sweep_configuration = {\n",
        "    'method': 'bayes',\n",
        "    'name': 'tcn_aguro',\n",
        "    'metric': {\n",
        "        'goal': 'minimize', \n",
        "        'name': 'validation_loss'\n",
        "\t\t},\n",
        "    'parameters': {\n",
        "        'batch_size': {'value': 512},\n",
        "        'epochs': {'value': 500},\n",
        "        'lr': {'max': 0.1, 'min': 0.0001},\n",
        "        'dropout_rate': {'values': [0.05, 0.1, 0.2, 0.3, 0.4, 0.5, 0.6, 0.7]},\n",
        "        'optimizer': {'value': 'adam'},\n",
        "        'nb_filters': {'values': [16, 32, 64]},\n",
        "        'kernel_size': {'values': [3, 6, 8, 12]}\n",
        "     }\n",
        "}"
      ]
    },
    {
      "cell_type": "code",
      "execution_count": 6,
      "metadata": {
        "colab": {
          "base_uri": "https://localhost:8080/",
          "height": 384
        },
        "id": "VmOUXJxD91D6",
        "outputId": "4149cab2-5684-433d-e45e-3c9b63c85c04"
      },
      "outputs": [
        {
          "name": "stdout",
          "output_type": "stream",
          "text": [
            "Mounted at /content/drive\n",
            "Looking in indexes: https://pypi.org/simple, https://us-python.pkg.dev/colab-wheels/public/simple/\n",
            "Collecting pandas==1.4.4\n",
            "  Downloading pandas-1.4.4-cp38-cp38-manylinux_2_17_x86_64.manylinux2014_x86_64.whl (11.7 MB)\n",
            "\u001b[2K     \u001b[90m━━━━━━━━━━━━━━━━━━━━━━━━━━━━━━━━━━━━━━━━\u001b[0m \u001b[32m11.7/11.7 MB\u001b[0m \u001b[31m96.8 MB/s\u001b[0m eta \u001b[36m0:00:00\u001b[0m\n",
            "\u001b[?25hRequirement already satisfied: numpy>=1.18.5 in /usr/local/lib/python3.8/dist-packages (from pandas==1.4.4) (1.21.6)\n",
            "Requirement already satisfied: pytz>=2020.1 in /usr/local/lib/python3.8/dist-packages (from pandas==1.4.4) (2022.7)\n",
            "Requirement already satisfied: python-dateutil>=2.8.1 in /usr/local/lib/python3.8/dist-packages (from pandas==1.4.4) (2.8.2)\n",
            "Requirement already satisfied: six>=1.5 in /usr/local/lib/python3.8/dist-packages (from python-dateutil>=2.8.1->pandas==1.4.4) (1.15.0)\n",
            "Installing collected packages: pandas\n",
            "  Attempting uninstall: pandas\n",
            "    Found existing installation: pandas 1.3.5\n",
            "    Uninstalling pandas-1.3.5:\n",
            "      Successfully uninstalled pandas-1.3.5\n",
            "Successfully installed pandas-1.4.4\n"
          ]
        },
        {
          "data": {
            "application/vnd.colab-display-data+json": {
              "pip_warning": {
                "packages": [
                  "pandas"
                ]
              }
            }
          },
          "metadata": {},
          "output_type": "display_data"
        }
      ],
      "source": [
        "from google.colab import drive\n",
        "drive.mount('/content/drive')\n",
        "\n",
        "!pip install pandas==1.4.4"
      ]
    },
    {
      "cell_type": "code",
      "execution_count": 2,
      "metadata": {
        "id": "HSACEcnrKkJx"
      },
      "outputs": [],
      "source": [
        "import pandas as pd\n",
        "# from tsai.all import SlidingWindowPanel\n",
        "import numpy as np\n",
        "\n",
        "from sklearn.model_selection import train_test_split\n",
        "\n",
        "from tensorflow.keras import Input, Model\n",
        "from tensorflow.keras.layers import Dense\n",
        "from tensorflow.keras.models import load_model\n",
        "import tensorflow.keras as keras\n",
        "import tensorflow.keras.backend as K\n",
        "from tensorflow.keras.callbacks import ReduceLROnPlateau, EarlyStopping"
      ]
    },
    {
      "cell_type": "code",
      "execution_count": 5,
      "metadata": {
        "id": "8wrJ9Vy9KkJ0"
      },
      "outputs": [],
      "source": [
        "def norm_df(df,cols):\n",
        "  for col in cols:\n",
        "    df[col] = df[col] / df[col].max()\n",
        "  return df"
      ]
    },
    {
      "cell_type": "code",
      "execution_count": 6,
      "metadata": {
        "id": "Ypcn2jkYKkJ0"
      },
      "outputs": [],
      "source": [
        "df_shift7 = pd.read_pickle('/content/drive/MyDrive/Master/DSP/merge_df_shift_7.pickle')\n",
        "df_shift7 = df_shift7[['date', 'NDVI_mean', 'NDMI_mean', 'NBSI_mean', 'name', 'tavg',  'prcp',\n",
        "       'NDVI_mean_shift', 'tavg_shift', 'prcp_shift']]\n",
        "df_shift14 = pd.read_pickle('/content/drive/MyDrive/Master/DSP/merge_df_shift_14.pickle')\n",
        "df_shift14 = df_shift14[['date', 'NDVI_mean', 'NDMI_mean', 'NBSI_mean', 'name', 'tavg',\n",
        "        'prcp','NDVI_mean_shift', 'tavg_shift', 'prcp_shift']]"
      ]
    },
    {
      "cell_type": "code",
      "execution_count": 7,
      "metadata": {
        "id": "XMgexYNUKkJ1"
      },
      "outputs": [],
      "source": [
        "df_shift7 = norm_df(df_shift7, ['tavg','prcp','tavg_shift','prcp_shift'])\n",
        "df_shift14 = norm_df(df_shift14, ['tavg','prcp','tavg_shift','prcp_shift'])\n",
        "df_shift7.dropna(axis = 0, inplace = True)\n",
        "df_shift14.dropna(axis = 0, inplace = True)"
      ]
    },
    {
      "cell_type": "code",
      "execution_count": null,
      "metadata": {
        "colab": {
          "base_uri": "https://localhost:8080/"
        },
        "id": "1kVeb1B3KkJ1",
        "outputId": "3218b38e-7852-4f70-b400-b72cfa582367"
      },
      "outputs": [
        {
          "data": {
            "text/plain": [
              "Index(['date', 'NDVI_mean', 'NDMI_mean', 'NBSI_mean', 'name', 'tavg', 'prcp',\n",
              "       'NDVI_mean_shift', 'tavg_shift', 'prcp_shift'],\n",
              "      dtype='object')"
            ]
          },
          "execution_count": 39,
          "metadata": {},
          "output_type": "execute_result"
        }
      ],
      "source": [
        "df_shift14.columns"
      ]
    },
    {
      "cell_type": "code",
      "execution_count": 8,
      "metadata": {
        "id": "0MJ_iYfvKkJ1"
      },
      "outputs": [],
      "source": [
        "x_cols = ['NDVI_mean', 'NDMI_mean', 'NBSI_mean', 'tavg_shift', 'prcp_shift']"
      ]
    },
    {
      "cell_type": "code",
      "execution_count": 9,
      "metadata": {
        "colab": {
          "base_uri": "https://localhost:8080/",
          "height": 121
        },
        "id": "FlYzuIrlKkJ2",
        "outputId": "372b81a5-2b6b-42f7-ae50-c04f57bf024f"
      },
      "outputs": [
        {
          "name": "stdout",
          "output_type": "stream",
          "text": [
            "processing data...\n"
          ]
        },
        {
          "data": {
            "text/html": [
              "\n",
              "<style>\n",
              "    /* Turns off some styling */\n",
              "    progress {\n",
              "        /* gets rid of default border in Firefox and Opera. */\n",
              "        border: none;\n",
              "        /* Needs to be in here for Safari polyfill so background images work as expected. */\n",
              "        background-size: auto;\n",
              "    }\n",
              "    progress:not([value]), progress:not([value])::-webkit-progress-bar {\n",
              "        background: repeating-linear-gradient(45deg, #7e7e7e, #7e7e7e 10px, #5c5c5c 10px, #5c5c5c 20px);\n",
              "    }\n",
              "    .progress-bar-interrupted, .progress-bar-interrupted::-webkit-progress-bar {\n",
              "        background: #F44336;\n",
              "    }\n",
              "</style>\n"
            ],
            "text/plain": [
              "<IPython.core.display.HTML object>"
            ]
          },
          "metadata": {},
          "output_type": "display_data"
        },
        {
          "data": {
            "text/html": [],
            "text/plain": [
              "<IPython.core.display.HTML object>"
            ]
          },
          "metadata": {},
          "output_type": "display_data"
        },
        {
          "name": "stdout",
          "output_type": "stream",
          "text": [
            "...data processed\n",
            "concatenating X...\n",
            "...X concatenated\n",
            "concatenating y...\n",
            "...y concatenated\n"
          ]
        }
      ],
      "source": [
        "sliding_window_X, sliding_window_y = SlidingWindowPanel(window_len=14, unique_id_cols=[\n",
        "                                                        'name'], get_x=x_cols, get_y=['NDVI_mean_shift'], stride=1, horizon = 14)(df_shift14)\n"
      ]
    },
    {
      "cell_type": "code",
      "execution_count": 10,
      "metadata": {
        "colab": {
          "base_uri": "https://localhost:8080/"
        },
        "id": "-DeEkIlNKkJ2",
        "outputId": "d41f30e9-4f45-4174-ff36-918d171798c4"
      },
      "outputs": [
        {
          "data": {
            "text/plain": [
              "(48607, 14)"
            ]
          },
          "execution_count": 10,
          "metadata": {},
          "output_type": "execute_result"
        }
      ],
      "source": [
        "sliding_window_y.shape"
      ]
    },
    {
      "cell_type": "code",
      "execution_count": 15,
      "metadata": {
        "id": "OazlxhzRKkJ2"
      },
      "outputs": [],
      "source": [
        "X_train, X_test, y_train, y_test = train_test_split(sliding_window_X, sliding_window_y,\n",
        "                                                    random_state=42, shuffle=False, test_size=0.2)"
      ]
    },
    {
      "cell_type": "code",
      "execution_count": 12,
      "metadata": {
        "colab": {
          "base_uri": "https://localhost:8080/"
        },
        "id": "lsOiiMiTMXwq",
        "outputId": "a9ec68ff-9add-4a7f-a38e-52e4532df589"
      },
      "outputs": [
        {
          "data": {
            "text/plain": [
              "(38885, 5, 14)"
            ]
          },
          "execution_count": 12,
          "metadata": {},
          "output_type": "execute_result"
        }
      ],
      "source": [
        "X_train.shape"
      ]
    },
    {
      "cell_type": "code",
      "execution_count": 16,
      "metadata": {
        "colab": {
          "base_uri": "https://localhost:8080/"
        },
        "id": "BM3f7lAnKkJ2",
        "outputId": "978259a2-68c9-44aa-8a99-7b67dc07baba"
      },
      "outputs": [
        {
          "data": {
            "text/plain": [
              "(38885, 14, 5)"
            ]
          },
          "execution_count": 16,
          "metadata": {},
          "output_type": "execute_result"
        }
      ],
      "source": [
        "X_train = np.moveaxis(X_train, 1, -1)\n",
        "X_train.shape"
      ]
    },
    {
      "cell_type": "code",
      "execution_count": 17,
      "metadata": {
        "colab": {
          "base_uri": "https://localhost:8080/"
        },
        "id": "Ihn2fb0uKkJ3",
        "outputId": "68f3c980-63d7-4f22-ddcf-fca8002616a0"
      },
      "outputs": [
        {
          "data": {
            "text/plain": [
              "(9722, 14, 5)"
            ]
          },
          "execution_count": 17,
          "metadata": {},
          "output_type": "execute_result"
        }
      ],
      "source": [
        "X_test = np.moveaxis(X_test, 1, -1)\n",
        "X_test.shape"
      ]
    },
    {
      "cell_type": "code",
      "execution_count": null,
      "metadata": {
        "colab": {
          "base_uri": "https://localhost:8080/"
        },
        "id": "OAeOc_wf55LI",
        "outputId": "9b6492d4-6996-4c30-d329-6a2fd9f8a5a9"
      },
      "outputs": [
        {
          "data": {
            "text/plain": [
              "(38885, 14)"
            ]
          },
          "execution_count": 63,
          "metadata": {},
          "output_type": "execute_result"
        }
      ],
      "source": [
        "y_train.shape"
      ]
    },
    {
      "cell_type": "code",
      "execution_count": 18,
      "metadata": {
        "id": "JhDyaikttwCS"
      },
      "outputs": [],
      "source": [
        "np.save('X_train14', X_train)"
      ]
    },
    {
      "cell_type": "code",
      "execution_count": 19,
      "metadata": {
        "id": "R6BYVS4LuL04"
      },
      "outputs": [],
      "source": [
        "np.save('X_test14', X_test)"
      ]
    },
    {
      "cell_type": "code",
      "execution_count": 20,
      "metadata": {
        "id": "FGqFvxiJubxY"
      },
      "outputs": [],
      "source": [
        "np.save('y_train', y_train)\n",
        "np.save('y_test', y_test)"
      ]
    },
    {
      "cell_type": "code",
      "execution_count": 3,
      "metadata": {
        "colab": {
          "base_uri": "https://localhost:8080/"
        },
        "id": "EUcD5KMVKkJ3",
        "outputId": "7e86652b-32ea-4843-c4aa-834b4f89113f"
      },
      "outputs": [
        {
          "data": {
            "text/plain": [
              "[PhysicalDevice(name='/physical_device:CPU:0', device_type='CPU'),\n",
              " PhysicalDevice(name='/physical_device:GPU:0', device_type='GPU')]"
            ]
          },
          "execution_count": 3,
          "metadata": {},
          "output_type": "execute_result"
        }
      ],
      "source": [
        "import tensorflow as tf\n",
        "from tcn import TCN, compiled_tcn\n",
        "tf.config.list_physical_devices()\n"
      ]
    },
    {
      "cell_type": "code",
      "execution_count": 4,
      "metadata": {
        "id": "isROCzalKkJ3"
      },
      "outputs": [],
      "source": [
        "def root_mean_squared_error(y_true, y_pred):\n",
        "    return K.sqrt(K.mean(K.square(y_pred - y_true)))"
      ]
    },
    {
      "cell_type": "code",
      "execution_count": 5,
      "metadata": {
        "id": "ohqko46vKkJ4"
      },
      "outputs": [
        {
          "ename": "NameError",
          "evalue": "name 'y_train' is not defined",
          "output_type": "error",
          "traceback": [
            "\u001b[1;31m---------------------------------------------------------------------------\u001b[0m",
            "\u001b[1;31mNameError\u001b[0m                                 Traceback (most recent call last)",
            "\u001b[1;32m~\\AppData\\Local\\Temp\\ipykernel_22876\\3798806461.py\u001b[0m in \u001b[0;36m<module>\u001b[1;34m\u001b[0m\n\u001b[1;32m----> 1\u001b[1;33m \u001b[0my_train\u001b[0m\u001b[1;33m.\u001b[0m\u001b[0mshape\u001b[0m\u001b[1;33m\u001b[0m\u001b[1;33m\u001b[0m\u001b[0m\n\u001b[0m",
            "\u001b[1;31mNameError\u001b[0m: name 'y_train' is not defined"
          ]
        }
      ],
      "source": [
        "y_train.shape"
      ]
    },
    {
      "cell_type": "code",
      "execution_count": null,
      "metadata": {
        "id": "x_crR9ooKkJ4"
      },
      "outputs": [],
      "source": [
        "import tensorflow.keras.backend as K\n",
        "def rmse(y_true,y_pred):\n",
        "  return K.sqrt(K.mean(K.square(y_true - y_pred)))"
      ]
    },
    {
      "cell_type": "code",
      "execution_count": 6,
      "metadata": {
        "id": "ImA_RuPeKkJ4"
      },
      "outputs": [],
      "source": [
        "def compile_model(swp_X, nb_filters, kernel_size, dilations, dropout_rate, y_train):\n",
        "\n",
        "    # output tcn2\n",
        "    nb_features = swp_X.shape[2]\n",
        "    nb_outputs = y_train.shape[1]\n",
        "\n",
        "    i = Input(shape=(swp_X.shape[1], nb_features))\n",
        "\n",
        "    m = TCN(nb_filters=nb_filters, kernel_size=kernel_size, dropout_rate=dropout_rate, dilations=dilations, return_sequences=True, activation='relu')(i)\n",
        "    m = TCN(nb_filters=nb_filters, dropout_rate=dropout_rate, kernel_size=kernel_size, dilations=dilations, return_sequences=False, activation='relu')(m)\n",
        "    m = Dense(nb_outputs, activation='linear')(m)\n",
        "    model = Model(inputs=[i], outputs=[m])\n",
        "\n",
        "    return model"
      ]
    },
    {
      "cell_type": "code",
      "execution_count": 27,
      "metadata": {
        "id": "kVp9u2GdL_Nz"
      },
      "outputs": [],
      "source": [
        "def get_optimizer(lr=1e-3, optimizer=\"adam\"):\n",
        "    \"Select optmizer between adam and sgd with momentum\"\n",
        "    if optimizer.lower() == \"adam\":\n",
        "        return tf.keras.optimizers.Adam(learning_rate=lr)\n",
        "    if optimizer.lower() == \"sgd\":\n",
        "        return tf.keras.optimizers.SGD(learning_rate=lr, momentum=0.1)\n",
        "    if optimizer.lower() == \"adadelta\":\n",
        "        return tf.keras.optimizers.Adadelta(learning_rate=lr)\n",
        "\n",
        "\n",
        "def train(X_train, y_train, batch_size=512, epochs=500, lr=1e-3, optimizer='adam', dropout_rate=0.1, nb_filters=32, kernel_size=3, dilations=[\n",
        "            1, 2, 4, 8, 16, 32, 64]):  \n",
        "\n",
        "    model = compile_model(X_train, nb_filters, kernel_size, dilations, dropout_rate, y_train)\n",
        "    \n",
        "    # Compile model like you usually do.\n",
        "    tf.keras.backend.clear_session()\n",
        "    model.compile(loss=root_mean_squared_error, \n",
        "                  optimizer=get_optimizer(lr, optimizer), \n",
        "                  metrics=['mae', root_mean_squared_error])\n",
        "\n",
        "    # callback setup\n",
        "    wandb_callbacks = [\n",
        "        WandbCallback(),\n",
        "        EarlyStopping(patience=15),\n",
        "        ReduceLROnPlateau(patience=10)\n",
        "        #WandbModelCheckpoint(filepath=\"my_model_{epoch:02d}\")\n",
        "    ]\n",
        "\n",
        "    model.fit(X_train, \n",
        "              y_train, \n",
        "              batch_size=batch_size, \n",
        "              epochs=epochs, \n",
        "              validation_split=0.2, \n",
        "              callbacks=wandb_callbacks)"
      ]
    },
    {
      "cell_type": "code",
      "execution_count": 28,
      "metadata": {
        "id": "9qKft0brNyM_"
      },
      "outputs": [],
      "source": [
        "def sweep_train(config_defaults=None):\n",
        "    # Initialize wandb with a sample project name\n",
        "    with wandb.init(config=config_defaults, reinit=True):  # this gets over-written in the Sweep\n",
        "\n",
        "        # Specify the other hyperparameters to the configuration, if any\n",
        "        wandb.config.architecture_name = \"TCN\"\n",
        "        wandb.config.dataset_name = \"Sentinel_2_ndvi\"\n",
        "\n",
        "        train(X_train,\n",
        "              y_train,\n",
        "              wandb.config.batch_size, \n",
        "              wandb.config.epochs,\n",
        "              wandb.config.lr,\n",
        "              wandb.config.optimizer,\n",
        "              wandb.config.dropout_rate,\n",
        "              wandb.config.nb_filters,\n",
        "              wandb.config.kernel_size\n",
        "              )"
      ]
    },
    {
      "cell_type": "code",
      "execution_count": 7,
      "metadata": {
        "id": "pZATAmyuUMCo"
      },
      "outputs": [],
      "source": [
        "X_train = np.load('X_train14.npy')\n",
        "X_test = np.load('X_test14.npy')\n",
        "y_train = np.load('y_train14.npy')\n",
        "y_test = np.load('y_test14.npy')"
      ]
    },
    {
      "cell_type": "code",
      "execution_count": 9,
      "metadata": {
        "id": "mspcG6Fn9TfV"
      },
      "outputs": [],
      "source": [
        "model = compile_model(X_train, 16, 12, [1, 2, 4, 8, 16, 32, 64], 0.6, y_train)"
      ]
    },
    {
      "cell_type": "code",
      "execution_count": 10,
      "metadata": {
        "colab": {
          "base_uri": "https://localhost:8080/",
          "height": 183
        },
        "id": "2VRUjZ_WCqRx",
        "outputId": "67948022-57c7-4d47-c998-4dd611513ee5"
      },
      "outputs": [],
      "source": [
        "model.compile(loss=root_mean_squared_error,\n",
        "              optimizer='adam', metrics=['mae', root_mean_squared_error])"
      ]
    },
    {
      "cell_type": "code",
      "execution_count": 26,
      "metadata": {
        "colab": {
          "base_uri": "https://localhost:8080/"
        },
        "id": "LBq8ZD3zZNiq",
        "outputId": "20586851-a2d4-4f44-f040-7a4df136479f"
      },
      "outputs": [
        {
          "name": "stdout",
          "output_type": "stream",
          "text": [
            "Model: \"model\"\n",
            "_________________________________________________________________\n",
            " Layer (type)                Output Shape              Param #   \n",
            "=================================================================\n",
            " input_1 (InputLayer)        [(None, 14, 5)]           0         \n",
            "                                                                 \n",
            " tcn (TCN)                   (None, 14, 64)            161984    \n",
            "                                                                 \n",
            " tcn_1 (TCN)                 (None, 64)                172928    \n",
            "                                                                 \n",
            " dense (Dense)               (None, 14)                910       \n",
            "                                                                 \n",
            "=================================================================\n",
            "Total params: 335,822\n",
            "Trainable params: 335,822\n",
            "Non-trainable params: 0\n",
            "_________________________________________________________________\n"
          ]
        }
      ],
      "source": [
        "model.summary()"
      ]
    },
    {
      "cell_type": "code",
      "execution_count": 24,
      "metadata": {
        "id": "py9J7jMaQ3is"
      },
      "outputs": [],
      "source": [
        "X_train = np.load('X_train14.npy')\n",
        "X_test = np.load('X_test14.npy')\n",
        "y_train = np.load('y_train14.npy')\n",
        "y_test = np.load('y_test14.npy')"
      ]
    },
    {
      "cell_type": "code",
      "execution_count": 11,
      "metadata": {
        "id": "1p27LKBkDCb-"
      },
      "outputs": [
        {
          "name": "stdout",
          "output_type": "stream",
          "text": [
            "Epoch 1/200\n"
          ]
        },
        {
          "ename": "",
          "evalue": "",
          "output_type": "error",
          "traceback": [
            "\u001b[1;31mCanceled future for execute_request message before replies were done"
          ]
        },
        {
          "ename": "",
          "evalue": "",
          "output_type": "error",
          "traceback": [
            "\u001b[1;31mThe Kernel crashed while executing code in the the current cell or a previous cell. Please review the code in the cell(s) to identify a possible cause of the failure. Click <a href='https://aka.ms/vscodeJupyterKernelCrash'>here</a> for more info. View Jupyter <a href='command:jupyter.viewOutput'>log</a> for further details."
          ]
        }
      ],
      "source": [
        "wandb_callbacks = [\n",
        "    EarlyStopping(patience=15),\n",
        "    ReduceLROnPlateau(patience=10)\n",
        "]\n",
        "\n",
        "model.fit(X_train, \n",
        "          y_train, \n",
        "          batch_size=200, \n",
        "          epochs=200, \n",
        "          validation_split=0.2, \n",
        "          callbacks=wandb_callbacks)"
      ]
    },
    {
      "cell_type": "code",
      "execution_count": 16,
      "metadata": {
        "colab": {
          "base_uri": "https://localhost:8080/"
        },
        "id": "KKr6pj6vO1Pe",
        "outputId": "f3a25b83-68c5-4c1a-c370-b9f952a50511"
      },
      "outputs": [
        {
          "name": "stdout",
          "output_type": "stream",
          "text": [
            "Create sweep with ID: 9vw7gd6y\n",
            "Sweep URL: https://wandb.ai/dsp_aguro/aguro_tcn/sweeps/9vw7gd6y\n"
          ]
        }
      ],
      "source": [
        "sweep_id = wandb.sweep(sweep_configuration, project=\"aguro_tcn\")"
      ]
    },
    {
      "cell_type": "code",
      "execution_count": null,
      "metadata": {
        "colab": {
          "base_uri": "https://localhost:8080/",
          "height": 1000,
          "referenced_widgets": [
            "a40c82ff25cb461e9d33b515cc6dfb74",
            "66abb142c16a4d8f8f536388bbb6012b",
            "0e8d2bdee7d54ba393f71d6e33bc3179",
            "d19e3e39a2944ad9baaa59aec47e3f14",
            "4c27a61941e1463da4a7ce5d27ffda1a",
            "c3c1f711dba5458b9f45acb8b65a2ffc",
            "96c30c7478b141c08c6f6a8832305c3b",
            "53d8b0d3d0e34ff9afe67e448f350c2c",
            "0f20b8e3f6f74f9889e302220f2555b5",
            "fd1209dcae384ec88d99894c604029a0",
            "c53ceb4f4a3e4b3180d502c7fa6b0778",
            "7d8460ffa77f4a5f92d10ebbe4d2274f",
            "b2ac70c571244f2bbf15044f74f08da8",
            "ef479ad668c4405199f7db613c657c0a",
            "c23e5cf3b70642fc90de210efaf8e1f8",
            "909a66d4afda4ce988a3b6295d5bf546",
            "f8b5d52263d347f4ac52af869afbe16b",
            "d0a9c0526b1e4f0b957132127560c955",
            "1c69ccc52be540a4b03a9b246e33d212",
            "77a42384e28a4668927f862cdbf3f2a2",
            "322be163a0904cada174150757371a08",
            "78675a6ad5e9417dbf039c6fced65211",
            "6a869351b8fb43acb4f1d9cb6491ce53",
            "7483a209c7874c3b89dbe8843717d05e",
            "2b9d15b36bab4fd681e19d813c1c47c5",
            "61eb31d4c6be44cbb5d3b9d8b0e7bd03",
            "3f1c988f0c4244c3bc9cb77a6248f2c5",
            "272c2abd513540dbb63d21f4c786d9ae",
            "6941caa1676b488d835617904f9b81df",
            "7c33d7dbbfba4a4b8e4f97ac1499caf3",
            "84200d50c5734a0a959f2f3517b4f66f",
            "4970b2af544c401897425e98dbd7892a",
            "6a49c7846b5844d89c28576985e926d0",
            "78a825db42824a69a9664f18feeaac40",
            "6bb0abdba8f146669b92afd5371bdd06",
            "a2b46e0ad4dd4651b0ed722552ca99bb",
            "4311c18f15934f1c8661287b728256c3",
            "c41c614d8e0d430692e229b073975841",
            "6364c203b0444d5eb48d561f9aecaff4",
            "6f3918eeb24241888053bffabc190ba0",
            "b7f20c9842234745898390c1993b16e4",
            "df9cb4fa5b2b40ec8be0068d0bb98408",
            "0d7d04e70b544ef196735a75e531f5ce",
            "7bf0db651bbd4f5587d8a967af535e21",
            "6d2a7db4f0d64fb4bb993ee53364eab6",
            "889b14dafba6447f861402f5364a9ba1",
            "3a19bca1bce647d79ee6583e5ded3e65",
            "c00bf90560a445148767cc81c4592ff4",
            "393c5a28264f4b5db348cf12a359f68b",
            "5bf8bebff2e447c6bbcf2d3ab47989af",
            "4328b03d476246a3b3147525a4e3ed43",
            "2e6fe981900a4ca2a5b23b089bbc6b27",
            "ee4c94c0b4db40b2bf60a5dfeb9173d3",
            "804e06e4073941fd88a723fb71d91fd9",
            "aca6a9ad449f44f88124297800840df2",
            "e7745ed586904aeb9720bf2e4afdadb6",
            "99fb71c1f4d142e2bd9395f7e711ff0d",
            "cfdeabe50919481dbbe7d10d8a026d19",
            "371934e17204491cbb2c6cad360c334f",
            "3ccbf7ed38cb4ad280370b02262f1995",
            "5478641319674a6cbd2ad16bb0202520",
            "fe736bd86cb648b585a401649cec605a",
            "11fc17813c56436aae66e14e60328ad6",
            "7c5eb7191ca14850a33e1de79de569bd",
            "b689256f639e420783a1eb8eb9c0f740",
            "9241522cca144fc7b1f2c2d5ca70d620",
            "0d5ddb60afa244ff850281d5cda0435a",
            "edbe47bdbfda4659b99ed447c0692f5c",
            "5333138e2391479bb56c954b5ea63863",
            "5432d3023f274697a49497ac7135b1a1",
            "00c487d40b7948238b13b324dd2ab846",
            "aba29c926129488faf525af471ff131d",
            "43b24cee615a413a9b3a5aa410db8a54",
            "8ec17e2417f44360ba6384a1433326f1",
            "9e34e2894bb248a79048cd38931b0507",
            "979e8f6b3e204d9690f1418f3707fc06",
            "418253b9d0f7445c8b651ea9ebe3cc86",
            "d3bb202b53e04724a5259b8a38472c2c",
            "b402c8f45f424f50a23e92da6a489589",
            "9c5fa4fa365541319f09144aaa2cc736",
            "6e783f5fa20b4d8d82e12c55269c5db6",
            "b79c42d5f740461e9e29c48734d56ac5",
            "57281965320d4fde81901809c5d0bff5",
            "419c4a529a514307978f63fdb1bf86b6",
            "f5e73f35cad24674a4dd5a4281a778ad",
            "55c92447d2e44dcea4c57ed1c33eabc8",
            "5e04f4d280784c7da1b020891b599e84",
            "356f29d20c9c4baead955cee1338ccf9",
            "b5575f7cd42849409a8cd2af1a631a8a",
            "ff58597a590949c69bbd58d5a711de85",
            "b1c9301813f24de38bbcee69df50c3e9",
            "cfb22e2c3eb74053acd21545fac41953",
            "bf56a6fb917c452e9ae142cf4662a764",
            "c783459898764b03978cef552a3db10b",
            "acb6ecceb97047bdb13be4f2fcd42fd5",
            "05d07c27f8524d01bf08d3068f45d203",
            "dd1bebaee9b645be987af5a86864c764",
            "1ae533011d594880a37abf147e22ccab",
            "bf15f5dd59d64199984ec9922741bce5",
            "96f7b8302513419da100b2246d096dcb",
            "9199fd41d63641a2a752f57e08416fda",
            "a9202c6eba2d4147ac38aa9ea021db3e",
            "904a3e38845d494abc520ac617ab7776",
            "a1d2df04ba4547d6b85fa533d7ea7b8f",
            "71f278b7ae3441008eea34cf6febeca5",
            "f720015c1d10495cb9d5c365ff71d863",
            "d55cfab32b374eccaa88a92a11aa4f5e",
            "0b9f3c3942604ae18320f36039ae95bb",
            "3e53f8aa6f0f4ba5a56ffeaefb3da2eb",
            "17092e41a62747478326514a5309646f",
            "212d63237ecc42f4b5e39d8a8c411e4c",
            "0dc8f3314acd4f6ba5fd18734619dfc4",
            "ba133895bf054b32bf4ef091e0e4bb47",
            "feaa9268d25649d0b3d43b51420c5e6e",
            "932acc7eda6146eea890cc67f1b9ad48",
            "d53ff605d9fd4086928d530e3604566e",
            "1a76d55e377d4b50ba7036259bec4916",
            "c8d32bb0baa24cbab55fabebb3519805",
            "4ddbe0fd9e014817a48511216c7960f7",
            "e7a3ae8991104c8bab5b99a71a3e0f88"
          ]
        },
        "id": "Dllzp0mYPnRf",
        "outputId": "f0705fe2-7d6f-49ee-922d-3661c8088878"
      },
      "outputs": [
        {
          "name": "stderr",
          "output_type": "stream",
          "text": [
            "\u001b[34m\u001b[1mwandb\u001b[0m: Agent Starting Run: oag9879x with config:\n",
            "\u001b[34m\u001b[1mwandb\u001b[0m: \tbatch_size: 512\n",
            "\u001b[34m\u001b[1mwandb\u001b[0m: \tdropout_rate: 0.5\n",
            "\u001b[34m\u001b[1mwandb\u001b[0m: \tepochs: 500\n",
            "\u001b[34m\u001b[1mwandb\u001b[0m: \tkernel_size: 12\n",
            "\u001b[34m\u001b[1mwandb\u001b[0m: \tlr: 0.0717458955462187\n",
            "\u001b[34m\u001b[1mwandb\u001b[0m: \tnb_filters: 16\n",
            "\u001b[34m\u001b[1mwandb\u001b[0m: \toptimizer: adam\n",
            "Failed to detect the name of this notebook, you can set it manually with the WANDB_NOTEBOOK_NAME environment variable to enable code saving.\n"
          ]
        },
        {
          "data": {
            "text/html": [
              "Tracking run with wandb version 0.13.9"
            ],
            "text/plain": [
              "<IPython.core.display.HTML object>"
            ]
          },
          "metadata": {},
          "output_type": "display_data"
        },
        {
          "data": {
            "text/html": [
              "Run data is saved locally in <code>/content/wandb/run-20230124_115339-oag9879x</code>"
            ],
            "text/plain": [
              "<IPython.core.display.HTML object>"
            ]
          },
          "metadata": {},
          "output_type": "display_data"
        },
        {
          "data": {
            "text/html": [
              "Syncing run <strong><a href=\"https://wandb.ai/dsp_aguro/aguro_tcn/runs/oag9879x\" target=\"_blank\">pretty-sweep-7</a></strong> to <a href=\"https://wandb.ai/dsp_aguro/aguro_tcn\" target=\"_blank\">Weights & Biases</a> (<a href=\"https://wandb.me/run\" target=\"_blank\">docs</a>)<br/>Sweep page: <a href=\"https://wandb.ai/dsp_aguro/aguro_tcn/sweeps/9vw7gd6y\" target=\"_blank\">https://wandb.ai/dsp_aguro/aguro_tcn/sweeps/9vw7gd6y</a>"
            ],
            "text/plain": [
              "<IPython.core.display.HTML object>"
            ]
          },
          "metadata": {},
          "output_type": "display_data"
        },
        {
          "data": {
            "text/html": [
              " View project at <a href=\"https://wandb.ai/dsp_aguro/aguro_tcn\" target=\"_blank\">https://wandb.ai/dsp_aguro/aguro_tcn</a>"
            ],
            "text/plain": [
              "<IPython.core.display.HTML object>"
            ]
          },
          "metadata": {},
          "output_type": "display_data"
        },
        {
          "data": {
            "text/html": [
              " View sweep at <a href=\"https://wandb.ai/dsp_aguro/aguro_tcn/sweeps/9vw7gd6y\" target=\"_blank\">https://wandb.ai/dsp_aguro/aguro_tcn/sweeps/9vw7gd6y</a>"
            ],
            "text/plain": [
              "<IPython.core.display.HTML object>"
            ]
          },
          "metadata": {},
          "output_type": "display_data"
        },
        {
          "data": {
            "text/html": [
              " View run at <a href=\"https://wandb.ai/dsp_aguro/aguro_tcn/runs/oag9879x\" target=\"_blank\">https://wandb.ai/dsp_aguro/aguro_tcn/runs/oag9879x</a>"
            ],
            "text/plain": [
              "<IPython.core.display.HTML object>"
            ]
          },
          "metadata": {},
          "output_type": "display_data"
        },
        {
          "name": "stderr",
          "output_type": "stream",
          "text": [
            "\u001b[34m\u001b[1mwandb\u001b[0m: \u001b[33mWARNING\u001b[0m The save_model argument by default saves the model in the HDF5 format that cannot save custom objects like subclassed models and custom layers. This behavior will be deprecated in a future release in favor of the SavedModel format. Meanwhile, the HDF5 model is saved as W&B files and the SavedModel as W&B Artifacts.\n"
          ]
        },
        {
          "name": "stdout",
          "output_type": "stream",
          "text": [
            "Epoch 1/500\n",
            " 6/61 [=>............................] - ETA: 4s - loss: 0.9195 - mae: 0.7334 - root_mean_squared_error: 0.9195"
          ]
        },
        {
          "name": "stderr",
          "output_type": "stream",
          "text": [
            "WARNING:tensorflow:Callback method `on_train_batch_end` is slow compared to the batch time (batch time: 0.0242s vs `on_train_batch_end` time: 0.0445s). Check your callbacks.\n"
          ]
        },
        {
          "name": "stdout",
          "output_type": "stream",
          "text": [
            "61/61 [==============================] - ETA: 0s - loss: 0.3031 - mae: 0.2348 - root_mean_squared_error: 0.3028"
          ]
        },
        {
          "name": "stderr",
          "output_type": "stream",
          "text": [
            "WARNING:absl:Found untraced functions such as residual_block_0_layer_call_fn, residual_block_0_layer_call_and_return_conditional_losses, residual_block_1_layer_call_fn, residual_block_1_layer_call_and_return_conditional_losses, residual_block_2_layer_call_fn while saving (showing 5 of 257). These functions will not be directly callable after loading.\n",
            "\u001b[34m\u001b[1mwandb\u001b[0m: Adding directory to artifact (/content/wandb/run-20230124_115339-oag9879x/files/model-best)... Done. 0.0s\n"
          ]
        },
        {
          "name": "stdout",
          "output_type": "stream",
          "text": [
            "\b\b\b\b\b\b\b\b\b\b\b\b\b\b\b\b\b\b\b\b\b\b\b\b\b\b\b\b\b\b\b\b\b\b\b\b\b\b\b\b\b\b\b\b\b\b\b\b\b\b\b\b\b\b\b\b\b\b\b\b\b\b\b\b\b\b\b\b\b\b\b\b\b\b\b\b\b\b\b\b\b\b\b\b\b\b\b\b\b\b\b\b\b\b\b\b\b\b\b\b\b\b\b\b\b\b\b\b\b\b\b\r61/61 [==============================] - 30s 282ms/step - loss: 0.3031 - mae: 0.2348 - root_mean_squared_error: 0.3028 - val_loss: 0.1770 - val_mae: 0.1548 - val_root_mean_squared_error: 0.1792 - lr: 0.0717\n",
            "Epoch 2/500\n",
            "61/61 [==============================] - 6s 95ms/step - loss: 0.2173 - mae: 0.1650 - root_mean_squared_error: 0.2173 - val_loss: 0.1847 - val_mae: 0.1633 - val_root_mean_squared_error: 0.1870 - lr: 0.0717\n",
            "Epoch 3/500\n",
            "61/61 [==============================] - ETA: 0s - loss: 0.2171 - mae: 0.1651 - root_mean_squared_error: 0.2171"
          ]
        },
        {
          "name": "stderr",
          "output_type": "stream",
          "text": [
            "WARNING:absl:Found untraced functions such as residual_block_0_layer_call_fn, residual_block_0_layer_call_and_return_conditional_losses, residual_block_1_layer_call_fn, residual_block_1_layer_call_and_return_conditional_losses, residual_block_2_layer_call_fn while saving (showing 5 of 257). These functions will not be directly callable after loading.\n",
            "\u001b[34m\u001b[1mwandb\u001b[0m: Adding directory to artifact (/content/wandb/run-20230124_115339-oag9879x/files/model-best)... Done. 0.0s\n"
          ]
        },
        {
          "name": "stdout",
          "output_type": "stream",
          "text": [
            "\b\b\b\b\b\b\b\b\b\b\b\b\b\b\b\b\b\b\b\b\b\b\b\b\b\b\b\b\b\b\b\b\b\b\b\b\b\b\b\b\b\b\b\b\b\b\b\b\b\b\b\b\b\b\b\b\b\b\b\b\b\b\b\b\b\b\b\b\b\b\b\b\b\b\b\b\b\b\b\b\b\b\b\b\b\b\b\b\b\b\b\b\b\b\b\b\b\b\b\b\b\b\b\b\b\b\b\b\b\b\b\r61/61 [==============================] - 16s 261ms/step - loss: 0.2171 - mae: 0.1651 - root_mean_squared_error: 0.2171 - val_loss: 0.1736 - val_mae: 0.1515 - val_root_mean_squared_error: 0.1758 - lr: 0.0717\n",
            "Epoch 4/500\n",
            "61/61 [==============================] - 5s 84ms/step - loss: 0.2170 - mae: 0.1649 - root_mean_squared_error: 0.2170 - val_loss: 0.1747 - val_mae: 0.1526 - val_root_mean_squared_error: 0.1769 - lr: 0.0717\n",
            "Epoch 5/500\n",
            "61/61 [==============================] - 5s 79ms/step - loss: 0.2169 - mae: 0.1649 - root_mean_squared_error: 0.2170 - val_loss: 0.1763 - val_mae: 0.1543 - val_root_mean_squared_error: 0.1784 - lr: 0.0717\n",
            "Epoch 6/500\n",
            "61/61 [==============================] - 5s 82ms/step - loss: 0.2170 - mae: 0.1649 - root_mean_squared_error: 0.2171 - val_loss: 0.1790 - val_mae: 0.1571 - val_root_mean_squared_error: 0.1812 - lr: 0.0717\n",
            "Epoch 7/500\n",
            "61/61 [==============================] - 5s 83ms/step - loss: 0.2170 - mae: 0.1649 - root_mean_squared_error: 0.2170 - val_loss: 0.1820 - val_mae: 0.1604 - val_root_mean_squared_error: 0.1843 - lr: 0.0717\n",
            "Epoch 8/500\n",
            "61/61 [==============================] - 5s 82ms/step - loss: 0.2171 - mae: 0.1651 - root_mean_squared_error: 0.2172 - val_loss: 0.1843 - val_mae: 0.1628 - val_root_mean_squared_error: 0.1866 - lr: 0.0717\n",
            "Epoch 9/500\n",
            "61/61 [==============================] - 5s 81ms/step - loss: 0.2171 - mae: 0.1650 - root_mean_squared_error: 0.2172 - val_loss: 0.1738 - val_mae: 0.1517 - val_root_mean_squared_error: 0.1760 - lr: 0.0717\n",
            "Epoch 10/500\n",
            "61/61 [==============================] - ETA: 0s - loss: 0.2169 - mae: 0.1650 - root_mean_squared_error: 0.2169"
          ]
        },
        {
          "name": "stderr",
          "output_type": "stream",
          "text": [
            "WARNING:absl:Found untraced functions such as residual_block_0_layer_call_fn, residual_block_0_layer_call_and_return_conditional_losses, residual_block_1_layer_call_fn, residual_block_1_layer_call_and_return_conditional_losses, residual_block_2_layer_call_fn while saving (showing 5 of 257). These functions will not be directly callable after loading.\n",
            "\u001b[34m\u001b[1mwandb\u001b[0m: Adding directory to artifact (/content/wandb/run-20230124_115339-oag9879x/files/model-best)... Done. 0.0s\n"
          ]
        },
        {
          "name": "stdout",
          "output_type": "stream",
          "text": [
            "\b\b\b\b\b\b\b\b\b\b\b\b\b\b\b\b\b\b\b\b\b\b\b\b\b\b\b\b\b\b\b\b\b\b\b\b\b\b\b\b\b\b\b\b\b\b\b\b\b\b\b\b\b\b\b\b\b\b\b\b\b\b\b\b\b\b\b\b\b\b\b\b\b\b\b\b\b\b\b\b\b\b\b\b\b\b\b\b\b\b\b\b\b\b\b\b\b\b\b\b\b\b\b\b\b\b\b\b\b\b\b\r61/61 [==============================] - 15s 250ms/step - loss: 0.2169 - mae: 0.1650 - root_mean_squared_error: 0.2169 - val_loss: 0.1691 - val_mae: 0.1465 - val_root_mean_squared_error: 0.1711 - lr: 0.0717\n",
            "Epoch 11/500\n",
            "61/61 [==============================] - 6s 95ms/step - loss: 0.2171 - mae: 0.1650 - root_mean_squared_error: 0.2172 - val_loss: 0.1823 - val_mae: 0.1607 - val_root_mean_squared_error: 0.1846 - lr: 0.0717\n",
            "Epoch 12/500\n",
            "61/61 [==============================] - ETA: 0s - loss: 0.2181 - mae: 0.1654 - root_mean_squared_error: 0.2180"
          ]
        },
        {
          "name": "stderr",
          "output_type": "stream",
          "text": [
            "WARNING:absl:Found untraced functions such as residual_block_0_layer_call_fn, residual_block_0_layer_call_and_return_conditional_losses, residual_block_1_layer_call_fn, residual_block_1_layer_call_and_return_conditional_losses, residual_block_2_layer_call_fn while saving (showing 5 of 257). These functions will not be directly callable after loading.\n",
            "\u001b[34m\u001b[1mwandb\u001b[0m: Adding directory to artifact (/content/wandb/run-20230124_115339-oag9879x/files/model-best)... Done. 0.0s\n"
          ]
        },
        {
          "name": "stdout",
          "output_type": "stream",
          "text": [
            "\b\b\b\b\b\b\b\b\b\b\b\b\b\b\b\b\b\b\b\b\b\b\b\b\b\b\b\b\b\b\b\b\b\b\b\b\b\b\b\b\b\b\b\b\b\b\b\b\b\b\b\b\b\b\b\b\b\b\b\b\b\b\b\b\b\b\b\b\b\b\b\b\b\b\b\b\b\b\b\b\b\b\b\b\b\b\b\b\b\b\b\b\b\b\b\b\b\b\b\b\b\b\b\b\b\b\b\b\b\b\b\r61/61 [==============================] - 16s 261ms/step - loss: 0.2181 - mae: 0.1654 - root_mean_squared_error: 0.2180 - val_loss: 0.1651 - val_mae: 0.1420 - val_root_mean_squared_error: 0.1670 - lr: 0.0717\n",
            "Epoch 13/500\n",
            "61/61 [==============================] - 6s 99ms/step - loss: 0.2183 - mae: 0.1652 - root_mean_squared_error: 0.2183 - val_loss: 0.1757 - val_mae: 0.1537 - val_root_mean_squared_error: 0.1779 - lr: 0.0717\n",
            "Epoch 14/500\n",
            "61/61 [==============================] - 6s 97ms/step - loss: 0.2171 - mae: 0.1650 - root_mean_squared_error: 0.2170 - val_loss: 0.1697 - val_mae: 0.1472 - val_root_mean_squared_error: 0.1717 - lr: 0.0717\n",
            "Epoch 15/500\n",
            "61/61 [==============================] - 6s 99ms/step - loss: 0.2170 - mae: 0.1649 - root_mean_squared_error: 0.2169 - val_loss: 0.1760 - val_mae: 0.1540 - val_root_mean_squared_error: 0.1782 - lr: 0.0717\n",
            "Epoch 16/500\n",
            "61/61 [==============================] - 6s 101ms/step - loss: 0.2173 - mae: 0.1651 - root_mean_squared_error: 0.2173 - val_loss: 0.1753 - val_mae: 0.1531 - val_root_mean_squared_error: 0.1774 - lr: 0.0717\n",
            "Epoch 17/500\n",
            "61/61 [==============================] - 5s 86ms/step - loss: 0.2175 - mae: 0.1653 - root_mean_squared_error: 0.2175 - val_loss: 0.1884 - val_mae: 0.1672 - val_root_mean_squared_error: 0.1908 - lr: 0.0717\n",
            "Epoch 18/500\n",
            "61/61 [==============================] - 5s 84ms/step - loss: 0.2171 - mae: 0.1649 - root_mean_squared_error: 0.2171 - val_loss: 0.1935 - val_mae: 0.1726 - val_root_mean_squared_error: 0.1959 - lr: 0.0717\n",
            "Epoch 19/500\n",
            "61/61 [==============================] - 5s 86ms/step - loss: 0.2174 - mae: 0.1652 - root_mean_squared_error: 0.2175 - val_loss: 0.1708 - val_mae: 0.1484 - val_root_mean_squared_error: 0.1729 - lr: 0.0717\n",
            "Epoch 20/500\n",
            "61/61 [==============================] - 5s 85ms/step - loss: 0.2171 - mae: 0.1652 - root_mean_squared_error: 0.2171 - val_loss: 0.1848 - val_mae: 0.1633 - val_root_mean_squared_error: 0.1871 - lr: 0.0717\n",
            "Epoch 21/500\n",
            "61/61 [==============================] - 5s 84ms/step - loss: 0.2175 - mae: 0.1653 - root_mean_squared_error: 0.2175 - val_loss: 0.1659 - val_mae: 0.1432 - val_root_mean_squared_error: 0.1679 - lr: 0.0717\n",
            "Epoch 22/500\n",
            "61/61 [==============================] - 5s 84ms/step - loss: 0.2172 - mae: 0.1652 - root_mean_squared_error: 0.2173 - val_loss: 0.1677 - val_mae: 0.1449 - val_root_mean_squared_error: 0.1697 - lr: 0.0717\n",
            "Epoch 23/500\n",
            "61/61 [==============================] - 5s 85ms/step - loss: 0.2169 - mae: 0.1646 - root_mean_squared_error: 0.2169 - val_loss: 0.1741 - val_mae: 0.1520 - val_root_mean_squared_error: 0.1762 - lr: 0.0072\n",
            "Epoch 24/500\n",
            "61/61 [==============================] - 5s 85ms/step - loss: 0.2168 - mae: 0.1647 - root_mean_squared_error: 0.2168 - val_loss: 0.1785 - val_mae: 0.1567 - val_root_mean_squared_error: 0.1807 - lr: 0.0072\n",
            "Epoch 25/500\n",
            "61/61 [==============================] - 5s 86ms/step - loss: 0.2169 - mae: 0.1649 - root_mean_squared_error: 0.2168 - val_loss: 0.1743 - val_mae: 0.1522 - val_root_mean_squared_error: 0.1765 - lr: 0.0072\n",
            "Epoch 26/500\n",
            "61/61 [==============================] - 5s 87ms/step - loss: 0.2169 - mae: 0.1649 - root_mean_squared_error: 0.2168 - val_loss: 0.1736 - val_mae: 0.1515 - val_root_mean_squared_error: 0.1758 - lr: 0.0072\n",
            "Epoch 27/500\n",
            "61/61 [==============================] - 5s 86ms/step - loss: 0.2168 - mae: 0.1647 - root_mean_squared_error: 0.2169 - val_loss: 0.1766 - val_mae: 0.1547 - val_root_mean_squared_error: 0.1788 - lr: 0.0072\n"
          ]
        },
        {
          "data": {
            "text/html": [
              "Waiting for W&B process to finish... <strong style=\"color:green\">(success).</strong>"
            ],
            "text/plain": [
              "<IPython.core.display.HTML object>"
            ]
          },
          "metadata": {},
          "output_type": "display_data"
        },
        {
          "data": {
            "text/html": [
              "<style>\n",
              "    table.wandb td:nth-child(1) { padding: 0 10px; text-align: left ; width: auto;} td:nth-child(2) {text-align: left ; width: 100%}\n",
              "    .wandb-row { display: flex; flex-direction: row; flex-wrap: wrap; justify-content: flex-start; width: 100% }\n",
              "    .wandb-col { display: flex; flex-direction: column; flex-basis: 100%; flex: 1; padding: 10px; }\n",
              "    </style>\n",
              "<div class=\"wandb-row\"><div class=\"wandb-col\"><h3>Run history:</h3><br/><table class=\"wandb\"><tr><td>epoch</td><td>▁▁▂▂▂▂▃▃▃▃▄▄▄▅▅▅▅▆▆▆▆▇▇▇▇██</td></tr><tr><td>loss</td><td>█▁▁▁▁▁▁▁▁▁▁▁▁▁▁▁▁▁▁▁▁▁▁▁▁▁▁</td></tr><tr><td>mae</td><td>█▁▁▁▁▁▁▁▁▁▁▁▁▁▁▁▁▁▁▁▁▁▁▁▁▁▁</td></tr><tr><td>root_mean_squared_error</td><td>█▁▁▁▁▁▁▁▁▁▁▁▁▁▁▁▁▁▁▁▁▁▁▁▁▁▁</td></tr><tr><td>val_loss</td><td>▄▆▃▃▄▄▅▆▃▂▅▁▄▂▄▄▇█▂▆▁▂▃▄▃▃▄</td></tr><tr><td>val_mae</td><td>▄▆▃▃▄▄▅▆▃▂▅▁▄▂▄▄▇█▂▆▁▂▃▄▃▃▄</td></tr><tr><td>val_root_mean_squared_error</td><td>▄▆▃▃▄▄▅▆▃▂▅▁▄▂▄▄▇█▂▆▁▂▃▄▃▃▄</td></tr></table><br/></div><div class=\"wandb-col\"><h3>Run summary:</h3><br/><table class=\"wandb\"><tr><td>best_epoch</td><td>11</td></tr><tr><td>best_val_loss</td><td>0.16508</td></tr><tr><td>epoch</td><td>26</td></tr><tr><td>loss</td><td>0.21684</td></tr><tr><td>mae</td><td>0.16468</td></tr><tr><td>root_mean_squared_error</td><td>0.21687</td></tr><tr><td>val_loss</td><td>0.17664</td></tr><tr><td>val_mae</td><td>0.15472</td></tr><tr><td>val_root_mean_squared_error</td><td>0.17883</td></tr></table><br/></div></div>"
            ],
            "text/plain": [
              "<IPython.core.display.HTML object>"
            ]
          },
          "metadata": {},
          "output_type": "display_data"
        },
        {
          "data": {
            "text/html": [
              " View run <strong style=\"color:#cdcd00\">pretty-sweep-7</strong> at: <a href=\"https://wandb.ai/dsp_aguro/aguro_tcn/runs/oag9879x\" target=\"_blank\">https://wandb.ai/dsp_aguro/aguro_tcn/runs/oag9879x</a><br/>Synced 5 W&B file(s), 1 media file(s), 16 artifact file(s) and 1 other file(s)"
            ],
            "text/plain": [
              "<IPython.core.display.HTML object>"
            ]
          },
          "metadata": {},
          "output_type": "display_data"
        },
        {
          "data": {
            "text/html": [
              "Find logs at: <code>./wandb/run-20230124_115339-oag9879x/logs</code>"
            ],
            "text/plain": [
              "<IPython.core.display.HTML object>"
            ]
          },
          "metadata": {},
          "output_type": "display_data"
        },
        {
          "name": "stderr",
          "output_type": "stream",
          "text": [
            "\u001b[34m\u001b[1mwandb\u001b[0m: Agent Starting Run: csw33c84 with config:\n",
            "\u001b[34m\u001b[1mwandb\u001b[0m: \tbatch_size: 512\n",
            "\u001b[34m\u001b[1mwandb\u001b[0m: \tdropout_rate: 0.7\n",
            "\u001b[34m\u001b[1mwandb\u001b[0m: \tepochs: 500\n",
            "\u001b[34m\u001b[1mwandb\u001b[0m: \tkernel_size: 12\n",
            "\u001b[34m\u001b[1mwandb\u001b[0m: \tlr: 0.06848764486990958\n",
            "\u001b[34m\u001b[1mwandb\u001b[0m: \tnb_filters: 16\n",
            "\u001b[34m\u001b[1mwandb\u001b[0m: \toptimizer: adam\n",
            "Failed to detect the name of this notebook, you can set it manually with the WANDB_NOTEBOOK_NAME environment variable to enable code saving.\n"
          ]
        },
        {
          "data": {
            "text/html": [
              "Tracking run with wandb version 0.13.9"
            ],
            "text/plain": [
              "<IPython.core.display.HTML object>"
            ]
          },
          "metadata": {},
          "output_type": "display_data"
        },
        {
          "data": {
            "text/html": [
              "Run data is saved locally in <code>/content/wandb/run-20230124_115711-csw33c84</code>"
            ],
            "text/plain": [
              "<IPython.core.display.HTML object>"
            ]
          },
          "metadata": {},
          "output_type": "display_data"
        },
        {
          "data": {
            "text/html": [
              "Syncing run <strong><a href=\"https://wandb.ai/dsp_aguro/aguro_tcn/runs/csw33c84\" target=\"_blank\">still-sweep-8</a></strong> to <a href=\"https://wandb.ai/dsp_aguro/aguro_tcn\" target=\"_blank\">Weights & Biases</a> (<a href=\"https://wandb.me/run\" target=\"_blank\">docs</a>)<br/>Sweep page: <a href=\"https://wandb.ai/dsp_aguro/aguro_tcn/sweeps/9vw7gd6y\" target=\"_blank\">https://wandb.ai/dsp_aguro/aguro_tcn/sweeps/9vw7gd6y</a>"
            ],
            "text/plain": [
              "<IPython.core.display.HTML object>"
            ]
          },
          "metadata": {},
          "output_type": "display_data"
        },
        {
          "data": {
            "text/html": [
              " View project at <a href=\"https://wandb.ai/dsp_aguro/aguro_tcn\" target=\"_blank\">https://wandb.ai/dsp_aguro/aguro_tcn</a>"
            ],
            "text/plain": [
              "<IPython.core.display.HTML object>"
            ]
          },
          "metadata": {},
          "output_type": "display_data"
        },
        {
          "data": {
            "text/html": [
              " View sweep at <a href=\"https://wandb.ai/dsp_aguro/aguro_tcn/sweeps/9vw7gd6y\" target=\"_blank\">https://wandb.ai/dsp_aguro/aguro_tcn/sweeps/9vw7gd6y</a>"
            ],
            "text/plain": [
              "<IPython.core.display.HTML object>"
            ]
          },
          "metadata": {},
          "output_type": "display_data"
        },
        {
          "data": {
            "text/html": [
              " View run at <a href=\"https://wandb.ai/dsp_aguro/aguro_tcn/runs/csw33c84\" target=\"_blank\">https://wandb.ai/dsp_aguro/aguro_tcn/runs/csw33c84</a>"
            ],
            "text/plain": [
              "<IPython.core.display.HTML object>"
            ]
          },
          "metadata": {},
          "output_type": "display_data"
        },
        {
          "name": "stdout",
          "output_type": "stream",
          "text": [
            "Epoch 1/500\n",
            " 6/61 [=>............................] - ETA: 4s - loss: 1.7761 - mae: 1.1366 - root_mean_squared_error: 1.7761"
          ]
        },
        {
          "name": "stderr",
          "output_type": "stream",
          "text": [
            "WARNING:tensorflow:Callback method `on_train_batch_end` is slow compared to the batch time (batch time: 0.0260s vs `on_train_batch_end` time: 0.0702s). Check your callbacks.\n"
          ]
        },
        {
          "name": "stdout",
          "output_type": "stream",
          "text": [
            "61/61 [==============================] - ETA: 0s - loss: 0.4246 - mae: 0.2836 - root_mean_squared_error: 0.4238"
          ]
        },
        {
          "name": "stderr",
          "output_type": "stream",
          "text": [
            "WARNING:absl:Found untraced functions such as residual_block_0_layer_call_fn, residual_block_0_layer_call_and_return_conditional_losses, residual_block_1_layer_call_fn, residual_block_1_layer_call_and_return_conditional_losses, residual_block_2_layer_call_fn while saving (showing 5 of 257). These functions will not be directly callable after loading.\n",
            "\u001b[34m\u001b[1mwandb\u001b[0m: Adding directory to artifact (/content/wandb/run-20230124_115711-csw33c84/files/model-best)... Done. 0.0s\n"
          ]
        },
        {
          "name": "stdout",
          "output_type": "stream",
          "text": [
            "\b\b\b\b\b\b\b\b\b\b\b\b\b\b\b\b\b\b\b\b\b\b\b\b\b\b\b\b\b\b\b\b\b\b\b\b\b\b\b\b\b\b\b\b\b\b\b\b\b\b\b\b\b\b\b\b\b\b\b\b\b\b\b\b\b\b\b\b\b\b\b\b\b\b\b\b\b\b\b\b\b\b\b\b\b\b\b\b\b\b\b\b\b\b\b\b\b\b\b\b\b\b\b\b\b\b\b\b\b\b\b\r61/61 [==============================] - 20s 269ms/step - loss: 0.4246 - mae: 0.2836 - root_mean_squared_error: 0.4238 - val_loss: 0.1798 - val_mae: 0.1575 - val_root_mean_squared_error: 0.1820 - lr: 0.0685\n",
            "Epoch 2/500\n",
            "61/61 [==============================] - 5s 85ms/step - loss: 0.2170 - mae: 0.1650 - root_mean_squared_error: 0.2171 - val_loss: 0.1829 - val_mae: 0.1613 - val_root_mean_squared_error: 0.1852 - lr: 0.0685\n",
            "Epoch 3/500\n",
            "61/61 [==============================] - ETA: 0s - loss: 0.2169 - mae: 0.1649 - root_mean_squared_error: 0.2169"
          ]
        },
        {
          "name": "stderr",
          "output_type": "stream",
          "text": [
            "WARNING:absl:Found untraced functions such as residual_block_0_layer_call_fn, residual_block_0_layer_call_and_return_conditional_losses, residual_block_1_layer_call_fn, residual_block_1_layer_call_and_return_conditional_losses, residual_block_2_layer_call_fn while saving (showing 5 of 257). These functions will not be directly callable after loading.\n",
            "\u001b[34m\u001b[1mwandb\u001b[0m: Adding directory to artifact (/content/wandb/run-20230124_115711-csw33c84/files/model-best)... Done. 0.0s\n"
          ]
        },
        {
          "name": "stdout",
          "output_type": "stream",
          "text": [
            "\b\b\b\b\b\b\b\b\b\b\b\b\b\b\b\b\b\b\b\b\b\b\b\b\b\b\b\b\b\b\b\b\b\b\b\b\b\b\b\b\b\b\b\b\b\b\b\b\b\b\b\b\b\b\b\b\b\b\b\b\b\b\b\b\b\b\b\b\b\b\b\b\b\b\b\b\b\b\b\b\b\b\b\b\b\b\b\b\b\b\b\b\b\b\b\b\b\b\b\b\b\b\b\b\b\b\b\b\b\b\b\r61/61 [==============================] - 15s 249ms/step - loss: 0.2169 - mae: 0.1649 - root_mean_squared_error: 0.2169 - val_loss: 0.1773 - val_mae: 0.1554 - val_root_mean_squared_error: 0.1795 - lr: 0.0685\n",
            "Epoch 4/500\n",
            "61/61 [==============================] - ETA: 0s - loss: 0.2169 - mae: 0.1649 - root_mean_squared_error: 0.2169"
          ]
        },
        {
          "name": "stderr",
          "output_type": "stream",
          "text": [
            "WARNING:absl:Found untraced functions such as residual_block_0_layer_call_fn, residual_block_0_layer_call_and_return_conditional_losses, residual_block_1_layer_call_fn, residual_block_1_layer_call_and_return_conditional_losses, residual_block_2_layer_call_fn while saving (showing 5 of 257). These functions will not be directly callable after loading.\n",
            "\u001b[34m\u001b[1mwandb\u001b[0m: Adding directory to artifact (/content/wandb/run-20230124_115711-csw33c84/files/model-best)... Done. 0.0s\n"
          ]
        },
        {
          "name": "stdout",
          "output_type": "stream",
          "text": [
            "\b\b\b\b\b\b\b\b\b\b\b\b\b\b\b\b\b\b\b\b\b\b\b\b\b\b\b\b\b\b\b\b\b\b\b\b\b\b\b\b\b\b\b\b\b\b\b\b\b\b\b\b\b\b\b\b\b\b\b\b\b\b\b\b\b\b\b\b\b\b\b\b\b\b\b\b\b\b\b\b\b\b\b\b\b\b\b\b\b\b\b\b\b\b\b\b\b\b\b\b\b\b\b\b\b\b\b\b\b\b\b\r61/61 [==============================] - 15s 251ms/step - loss: 0.2169 - mae: 0.1649 - root_mean_squared_error: 0.2169 - val_loss: 0.1695 - val_mae: 0.1471 - val_root_mean_squared_error: 0.1716 - lr: 0.0685\n",
            "Epoch 5/500\n",
            "61/61 [==============================] - 5s 86ms/step - loss: 0.2180 - mae: 0.1650 - root_mean_squared_error: 0.2180 - val_loss: 0.1864 - val_mae: 0.1650 - val_root_mean_squared_error: 0.1888 - lr: 0.0685\n",
            "Epoch 6/500\n",
            "61/61 [==============================] - 5s 86ms/step - loss: 0.2171 - mae: 0.1650 - root_mean_squared_error: 0.2171 - val_loss: 0.1739 - val_mae: 0.1518 - val_root_mean_squared_error: 0.1761 - lr: 0.0685\n",
            "Epoch 7/500\n",
            "61/61 [==============================] - 5s 86ms/step - loss: 0.2338 - mae: 0.1655 - root_mean_squared_error: 0.2338 - val_loss: 0.1819 - val_mae: 0.1603 - val_root_mean_squared_error: 0.1842 - lr: 0.0685\n",
            "Epoch 8/500\n",
            "61/61 [==============================] - ETA: 0s - loss: 6.8679 - mae: 0.4500 - root_mean_squared_error: 6.8416"
          ]
        },
        {
          "name": "stderr",
          "output_type": "stream",
          "text": [
            "WARNING:absl:Found untraced functions such as residual_block_0_layer_call_fn, residual_block_0_layer_call_and_return_conditional_losses, residual_block_1_layer_call_fn, residual_block_1_layer_call_and_return_conditional_losses, residual_block_2_layer_call_fn while saving (showing 5 of 257). These functions will not be directly callable after loading.\n",
            "\u001b[34m\u001b[1mwandb\u001b[0m: Adding directory to artifact (/content/wandb/run-20230124_115711-csw33c84/files/model-best)... Done. 0.0s\n"
          ]
        },
        {
          "name": "stdout",
          "output_type": "stream",
          "text": [
            "\b\b\b\b\b\b\b\b\b\b\b\b\b\b\b\b\b\b\b\b\b\b\b\b\b\b\b\b\b\b\b\b\b\b\b\b\b\b\b\b\b\b\b\b\b\b\b\b\b\b\b\b\b\b\b\b\b\b\b\b\b\b\b\b\b\b\b\b\b\b\b\b\b\b\b\b\b\b\b\b\b\b\b\b\b\b\b\b\b\b\b\b\b\b\b\b\b\b\b\b\b\b\b\b\b\b\b\b\b\b\b\r61/61 [==============================] - 15s 247ms/step - loss: 6.8679 - mae: 0.4500 - root_mean_squared_error: 6.8416 - val_loss: 0.1684 - val_mae: 0.1457 - val_root_mean_squared_error: 0.1704 - lr: 0.0685\n",
            "Epoch 9/500\n",
            "61/61 [==============================] - 5s 86ms/step - loss: 31.9233 - mae: 1.5844 - root_mean_squared_error: 31.7974 - val_loss: 0.1781 - val_mae: 0.1562 - val_root_mean_squared_error: 0.1803 - lr: 0.0685\n",
            "Epoch 10/500\n",
            "61/61 [==============================] - 5s 85ms/step - loss: 1.7464 - mae: 0.2253 - root_mean_squared_error: 1.7403 - val_loss: 0.1695 - val_mae: 0.1469 - val_root_mean_squared_error: 0.1715 - lr: 0.0685\n",
            "Epoch 11/500\n",
            "61/61 [==============================] - ETA: 0s - loss: 53.7275 - mae: 2.4082 - root_mean_squared_error: 53.5151"
          ]
        },
        {
          "name": "stderr",
          "output_type": "stream",
          "text": [
            "WARNING:absl:Found untraced functions such as residual_block_0_layer_call_fn, residual_block_0_layer_call_and_return_conditional_losses, residual_block_1_layer_call_fn, residual_block_1_layer_call_and_return_conditional_losses, residual_block_2_layer_call_fn while saving (showing 5 of 257). These functions will not be directly callable after loading.\n",
            "\u001b[34m\u001b[1mwandb\u001b[0m: Adding directory to artifact (/content/wandb/run-20230124_115711-csw33c84/files/model-best)... Done. 0.0s\n"
          ]
        },
        {
          "name": "stdout",
          "output_type": "stream",
          "text": [
            "\b\b\b\b\b\b\b\b\b\b\b\b\b\b\b\b\b\b\b\b\b\b\b\b\b\b\b\b\b\b\b\b\b\b\b\b\b\b\b\b\b\b\b\b\b\b\b\b\b\b\b\b\b\b\b\b\b\b\b\b\b\b\b\b\b\b\b\b\b\b\b\b\b\b\b\b\b\b\b\b\b\b\b\b\b\b\b\b\b\b\b\b\b\b\b\b\b\b\b\b\b\b\b\b\b\b\b\b\b\b\b\b\b\r61/61 [==============================] - 15s 248ms/step - loss: 53.7275 - mae: 2.4082 - root_mean_squared_error: 53.5151 - val_loss: 0.1642 - val_mae: 0.1412 - val_root_mean_squared_error: 0.1661 - lr: 0.0685\n",
            "Epoch 12/500\n",
            "61/61 [==============================] - 5s 85ms/step - loss: 0.4305 - mae: 0.1733 - root_mean_squared_error: 0.4297 - val_loss: 0.1828 - val_mae: 0.1613 - val_root_mean_squared_error: 0.1851 - lr: 0.0685\n",
            "Epoch 13/500\n",
            "61/61 [==============================] - 5s 85ms/step - loss: 1.5843 - mae: 0.2272 - root_mean_squared_error: 1.5788 - val_loss: 0.1735 - val_mae: 0.1513 - val_root_mean_squared_error: 0.1756 - lr: 0.0685\n",
            "Epoch 14/500\n",
            "61/61 [==============================] - 5s 85ms/step - loss: 0.5469 - mae: 0.1786 - root_mean_squared_error: 0.5456 - val_loss: 0.1929 - val_mae: 0.1719 - val_root_mean_squared_error: 0.1953 - lr: 0.0685\n",
            "Epoch 15/500\n",
            "61/61 [==============================] - 5s 85ms/step - loss: 0.2355 - mae: 0.1658 - root_mean_squared_error: 0.2355 - val_loss: 0.1849 - val_mae: 0.1635 - val_root_mean_squared_error: 0.1872 - lr: 0.0685\n",
            "Epoch 16/500\n",
            "61/61 [==============================] - 5s 85ms/step - loss: 0.6742 - mae: 0.1842 - root_mean_squared_error: 0.6724 - val_loss: 0.1747 - val_mae: 0.1525 - val_root_mean_squared_error: 0.1768 - lr: 0.0685\n",
            "Epoch 17/500\n",
            "61/61 [==============================] - 5s 88ms/step - loss: 0.2172 - mae: 0.1652 - root_mean_squared_error: 0.2172 - val_loss: 0.1671 - val_mae: 0.1443 - val_root_mean_squared_error: 0.1691 - lr: 0.0685\n",
            "Epoch 18/500\n",
            "61/61 [==============================] - 5s 86ms/step - loss: 0.2171 - mae: 0.1649 - root_mean_squared_error: 0.2170 - val_loss: 0.1711 - val_mae: 0.1487 - val_root_mean_squared_error: 0.1732 - lr: 0.0685\n",
            "Epoch 19/500\n",
            "61/61 [==============================] - 5s 85ms/step - loss: 0.2171 - mae: 0.1649 - root_mean_squared_error: 0.2172 - val_loss: 0.1749 - val_mae: 0.1528 - val_root_mean_squared_error: 0.1770 - lr: 0.0685\n",
            "Epoch 20/500\n",
            "61/61 [==============================] - 5s 85ms/step - loss: 0.2171 - mae: 0.1650 - root_mean_squared_error: 0.2170 - val_loss: 0.1697 - val_mae: 0.1471 - val_root_mean_squared_error: 0.1717 - lr: 0.0685\n",
            "Epoch 21/500\n",
            "61/61 [==============================] - 5s 85ms/step - loss: 0.2169 - mae: 0.1649 - root_mean_squared_error: 0.2170 - val_loss: 0.1728 - val_mae: 0.1506 - val_root_mean_squared_error: 0.1749 - lr: 0.0685\n",
            "Epoch 22/500\n",
            "61/61 [==============================] - 5s 85ms/step - loss: 0.2168 - mae: 0.1648 - root_mean_squared_error: 0.2169 - val_loss: 0.1752 - val_mae: 0.1532 - val_root_mean_squared_error: 0.1774 - lr: 0.0068\n",
            "Epoch 23/500\n",
            "61/61 [==============================] - 5s 85ms/step - loss: 0.2168 - mae: 0.1646 - root_mean_squared_error: 0.2168 - val_loss: 0.1790 - val_mae: 0.1572 - val_root_mean_squared_error: 0.1812 - lr: 0.0068\n",
            "Epoch 24/500\n",
            "61/61 [==============================] - 5s 85ms/step - loss: 0.2167 - mae: 0.1648 - root_mean_squared_error: 0.2168 - val_loss: 0.1830 - val_mae: 0.1614 - val_root_mean_squared_error: 0.1853 - lr: 0.0068\n",
            "Epoch 25/500\n",
            "61/61 [==============================] - 5s 85ms/step - loss: 0.2168 - mae: 0.1648 - root_mean_squared_error: 0.2168 - val_loss: 0.1796 - val_mae: 0.1579 - val_root_mean_squared_error: 0.1819 - lr: 0.0068\n",
            "Epoch 26/500\n",
            "61/61 [==============================] - 5s 85ms/step - loss: 0.2168 - mae: 0.1646 - root_mean_squared_error: 0.2168 - val_loss: 0.1802 - val_mae: 0.1585 - val_root_mean_squared_error: 0.1824 - lr: 0.0068\n"
          ]
        },
        {
          "data": {
            "text/html": [
              "Waiting for W&B process to finish... <strong style=\"color:green\">(success).</strong>"
            ],
            "text/plain": [
              "<IPython.core.display.HTML object>"
            ]
          },
          "metadata": {},
          "output_type": "display_data"
        },
        {
          "data": {
            "text/html": [
              "<style>\n",
              "    table.wandb td:nth-child(1) { padding: 0 10px; text-align: left ; width: auto;} td:nth-child(2) {text-align: left ; width: 100%}\n",
              "    .wandb-row { display: flex; flex-direction: row; flex-wrap: wrap; justify-content: flex-start; width: 100% }\n",
              "    .wandb-col { display: flex; flex-direction: column; flex-basis: 100%; flex: 1; padding: 10px; }\n",
              "    </style>\n",
              "<div class=\"wandb-row\"><div class=\"wandb-col\"><h3>Run history:</h3><br/><table class=\"wandb\"><tr><td>epoch</td><td>▁▁▂▂▂▂▃▃▃▄▄▄▄▅▅▅▅▆▆▆▇▇▇▇██</td></tr><tr><td>loss</td><td>▁▁▁▁▁▁▁▂▅▁█▁▁▁▁▁▁▁▁▁▁▁▁▁▁▁</td></tr><tr><td>mae</td><td>▁▁▁▁▁▁▁▂▅▁█▁▁▁▁▁▁▁▁▁▁▁▁▁▁▁</td></tr><tr><td>root_mean_squared_error</td><td>▁▁▁▁▁▁▁▂▅▁█▁▁▁▁▁▁▁▁▁▁▁▁▁▁▁</td></tr><tr><td>val_loss</td><td>▅▆▄▂▆▃▅▂▄▂▁▆▃█▆▄▂▃▄▂▃▄▅▆▅▅</td></tr><tr><td>val_mae</td><td>▅▆▄▂▆▃▅▂▄▂▁▆▃█▆▄▂▃▄▂▃▄▅▆▅▅</td></tr><tr><td>val_root_mean_squared_error</td><td>▅▆▄▂▆▃▅▂▄▂▁▆▃█▆▄▂▃▄▂▃▄▅▆▅▅</td></tr></table><br/></div><div class=\"wandb-col\"><h3>Run summary:</h3><br/><table class=\"wandb\"><tr><td>best_epoch</td><td>10</td></tr><tr><td>best_val_loss</td><td>0.16419</td></tr><tr><td>epoch</td><td>25</td></tr><tr><td>loss</td><td>0.21683</td></tr><tr><td>mae</td><td>0.16465</td></tr><tr><td>root_mean_squared_error</td><td>0.21682</td></tr><tr><td>val_loss</td><td>0.18017</td></tr><tr><td>val_mae</td><td>0.15847</td></tr><tr><td>val_root_mean_squared_error</td><td>0.18241</td></tr></table><br/></div></div>"
            ],
            "text/plain": [
              "<IPython.core.display.HTML object>"
            ]
          },
          "metadata": {},
          "output_type": "display_data"
        },
        {
          "data": {
            "text/html": [
              " View run <strong style=\"color:#cdcd00\">still-sweep-8</strong> at: <a href=\"https://wandb.ai/dsp_aguro/aguro_tcn/runs/csw33c84\" target=\"_blank\">https://wandb.ai/dsp_aguro/aguro_tcn/runs/csw33c84</a><br/>Synced 5 W&B file(s), 1 media file(s), 20 artifact file(s) and 1 other file(s)"
            ],
            "text/plain": [
              "<IPython.core.display.HTML object>"
            ]
          },
          "metadata": {},
          "output_type": "display_data"
        },
        {
          "data": {
            "text/html": [
              "Find logs at: <code>./wandb/run-20230124_115711-csw33c84/logs</code>"
            ],
            "text/plain": [
              "<IPython.core.display.HTML object>"
            ]
          },
          "metadata": {},
          "output_type": "display_data"
        },
        {
          "name": "stderr",
          "output_type": "stream",
          "text": [
            "\u001b[34m\u001b[1mwandb\u001b[0m: Sweep Agent: Waiting for job.\n",
            "\u001b[34m\u001b[1mwandb\u001b[0m: Job received.\n",
            "\u001b[34m\u001b[1mwandb\u001b[0m: Agent Starting Run: um19myha with config:\n",
            "\u001b[34m\u001b[1mwandb\u001b[0m: \tbatch_size: 512\n",
            "\u001b[34m\u001b[1mwandb\u001b[0m: \tdropout_rate: 0.6\n",
            "\u001b[34m\u001b[1mwandb\u001b[0m: \tepochs: 500\n",
            "\u001b[34m\u001b[1mwandb\u001b[0m: \tkernel_size: 8\n",
            "\u001b[34m\u001b[1mwandb\u001b[0m: \tlr: 0.04554833689598798\n",
            "\u001b[34m\u001b[1mwandb\u001b[0m: \tnb_filters: 16\n",
            "\u001b[34m\u001b[1mwandb\u001b[0m: \toptimizer: adam\n",
            "Failed to detect the name of this notebook, you can set it manually with the WANDB_NOTEBOOK_NAME environment variable to enable code saving.\n"
          ]
        },
        {
          "data": {
            "text/html": [
              "Tracking run with wandb version 0.13.9"
            ],
            "text/plain": [
              "<IPython.core.display.HTML object>"
            ]
          },
          "metadata": {},
          "output_type": "display_data"
        },
        {
          "data": {
            "text/html": [
              "Run data is saved locally in <code>/content/wandb/run-20230124_120141-um19myha</code>"
            ],
            "text/plain": [
              "<IPython.core.display.HTML object>"
            ]
          },
          "metadata": {},
          "output_type": "display_data"
        },
        {
          "data": {
            "text/html": [
              "Syncing run <strong><a href=\"https://wandb.ai/dsp_aguro/aguro_tcn/runs/um19myha\" target=\"_blank\">gentle-sweep-9</a></strong> to <a href=\"https://wandb.ai/dsp_aguro/aguro_tcn\" target=\"_blank\">Weights & Biases</a> (<a href=\"https://wandb.me/run\" target=\"_blank\">docs</a>)<br/>Sweep page: <a href=\"https://wandb.ai/dsp_aguro/aguro_tcn/sweeps/9vw7gd6y\" target=\"_blank\">https://wandb.ai/dsp_aguro/aguro_tcn/sweeps/9vw7gd6y</a>"
            ],
            "text/plain": [
              "<IPython.core.display.HTML object>"
            ]
          },
          "metadata": {},
          "output_type": "display_data"
        },
        {
          "data": {
            "text/html": [
              " View project at <a href=\"https://wandb.ai/dsp_aguro/aguro_tcn\" target=\"_blank\">https://wandb.ai/dsp_aguro/aguro_tcn</a>"
            ],
            "text/plain": [
              "<IPython.core.display.HTML object>"
            ]
          },
          "metadata": {},
          "output_type": "display_data"
        },
        {
          "data": {
            "text/html": [
              " View sweep at <a href=\"https://wandb.ai/dsp_aguro/aguro_tcn/sweeps/9vw7gd6y\" target=\"_blank\">https://wandb.ai/dsp_aguro/aguro_tcn/sweeps/9vw7gd6y</a>"
            ],
            "text/plain": [
              "<IPython.core.display.HTML object>"
            ]
          },
          "metadata": {},
          "output_type": "display_data"
        },
        {
          "data": {
            "text/html": [
              " View run at <a href=\"https://wandb.ai/dsp_aguro/aguro_tcn/runs/um19myha\" target=\"_blank\">https://wandb.ai/dsp_aguro/aguro_tcn/runs/um19myha</a>"
            ],
            "text/plain": [
              "<IPython.core.display.HTML object>"
            ]
          },
          "metadata": {},
          "output_type": "display_data"
        },
        {
          "name": "stdout",
          "output_type": "stream",
          "text": [
            "Epoch 1/500\n",
            " 6/61 [=>............................] - ETA: 3s - loss: 4.4601 - mae: 2.8327 - root_mean_squared_error: 4.4601"
          ]
        },
        {
          "name": "stderr",
          "output_type": "stream",
          "text": [
            "WARNING:tensorflow:Callback method `on_train_batch_end` is slow compared to the batch time (batch time: 0.0216s vs `on_train_batch_end` time: 0.0308s). Check your callbacks.\n"
          ]
        },
        {
          "name": "stdout",
          "output_type": "stream",
          "text": [
            "61/61 [==============================] - ETA: 0s - loss: 0.6736 - mae: 0.4634 - root_mean_squared_error: 0.6718"
          ]
        },
        {
          "name": "stderr",
          "output_type": "stream",
          "text": [
            "WARNING:absl:Found untraced functions such as residual_block_0_layer_call_fn, residual_block_0_layer_call_and_return_conditional_losses, residual_block_1_layer_call_fn, residual_block_1_layer_call_and_return_conditional_losses, residual_block_2_layer_call_fn while saving (showing 5 of 257). These functions will not be directly callable after loading.\n",
            "\u001b[34m\u001b[1mwandb\u001b[0m: Adding directory to artifact (/content/wandb/run-20230124_120141-um19myha/files/model-best)... Done. 0.0s\n"
          ]
        },
        {
          "name": "stdout",
          "output_type": "stream",
          "text": [
            "\b\b\b\b\b\b\b\b\b\b\b\b\b\b\b\b\b\b\b\b\b\b\b\b\b\b\b\b\b\b\b\b\b\b\b\b\b\b\b\b\b\b\b\b\b\b\b\b\b\b\b\b\b\b\b\b\b\b\b\b\b\b\b\b\b\b\b\b\b\b\b\b\b\b\b\b\b\b\b\b\b\b\b\b\b\b\b\b\b\b\b\b\b\b\b\b\b\b\b\b\b\b\b\b\b\b\b\b\b\b\b\r61/61 [==============================] - 19s 245ms/step - loss: 0.6736 - mae: 0.4634 - root_mean_squared_error: 0.6718 - val_loss: 0.1706 - val_mae: 0.1480 - val_root_mean_squared_error: 0.1727 - lr: 0.0455\n",
            "Epoch 2/500\n",
            "61/61 [==============================] - 4s 67ms/step - loss: 0.2170 - mae: 0.1646 - root_mean_squared_error: 0.2170 - val_loss: 0.1815 - val_mae: 0.1599 - val_root_mean_squared_error: 0.1837 - lr: 0.0455\n",
            "Epoch 3/500\n",
            "61/61 [==============================] - 4s 64ms/step - loss: 0.2169 - mae: 0.1649 - root_mean_squared_error: 0.2169 - val_loss: 0.1828 - val_mae: 0.1613 - val_root_mean_squared_error: 0.1851 - lr: 0.0455\n",
            "Epoch 4/500\n",
            "61/61 [==============================] - 4s 63ms/step - loss: 0.2169 - mae: 0.1648 - root_mean_squared_error: 0.2170 - val_loss: 0.1785 - val_mae: 0.1566 - val_root_mean_squared_error: 0.1807 - lr: 0.0455\n",
            "Epoch 5/500\n",
            "61/61 [==============================] - 4s 64ms/step - loss: 0.2169 - mae: 0.1648 - root_mean_squared_error: 0.2169 - val_loss: 0.1730 - val_mae: 0.1508 - val_root_mean_squared_error: 0.1751 - lr: 0.0455\n",
            "Epoch 6/500\n",
            "61/61 [==============================] - 4s 66ms/step - loss: 0.2169 - mae: 0.1648 - root_mean_squared_error: 0.2170 - val_loss: 0.1804 - val_mae: 0.1587 - val_root_mean_squared_error: 0.1827 - lr: 0.0455\n",
            "Epoch 7/500\n",
            "61/61 [==============================] - 4s 65ms/step - loss: 0.2169 - mae: 0.1649 - root_mean_squared_error: 0.2169 - val_loss: 0.1826 - val_mae: 0.1611 - val_root_mean_squared_error: 0.1849 - lr: 0.0455\n",
            "Epoch 8/500\n",
            "61/61 [==============================] - 4s 66ms/step - loss: 0.2169 - mae: 0.1649 - root_mean_squared_error: 0.2169 - val_loss: 0.1743 - val_mae: 0.1522 - val_root_mean_squared_error: 0.1765 - lr: 0.0455\n",
            "Epoch 9/500\n",
            "61/61 [==============================] - 4s 67ms/step - loss: 0.2185 - mae: 0.1649 - root_mean_squared_error: 0.2186 - val_loss: 0.1738 - val_mae: 0.1517 - val_root_mean_squared_error: 0.1760 - lr: 0.0455\n",
            "Epoch 10/500\n",
            "61/61 [==============================] - 4s 67ms/step - loss: 0.2169 - mae: 0.1649 - root_mean_squared_error: 0.2169 - val_loss: 0.1774 - val_mae: 0.1556 - val_root_mean_squared_error: 0.1796 - lr: 0.0455\n",
            "Epoch 11/500\n",
            "61/61 [==============================] - 4s 67ms/step - loss: 0.2171 - mae: 0.1650 - root_mean_squared_error: 0.2171 - val_loss: 0.1799 - val_mae: 0.1582 - val_root_mean_squared_error: 0.1821 - lr: 0.0455\n",
            "Epoch 12/500\n",
            "61/61 [==============================] - 4s 66ms/step - loss: 0.2168 - mae: 0.1647 - root_mean_squared_error: 0.2168 - val_loss: 0.1782 - val_mae: 0.1564 - val_root_mean_squared_error: 0.1804 - lr: 0.0046\n",
            "Epoch 13/500\n",
            "61/61 [==============================] - 4s 68ms/step - loss: 0.2169 - mae: 0.1649 - root_mean_squared_error: 0.2169 - val_loss: 0.1755 - val_mae: 0.1535 - val_root_mean_squared_error: 0.1776 - lr: 0.0046\n",
            "Epoch 14/500\n",
            "61/61 [==============================] - 4s 71ms/step - loss: 0.2168 - mae: 0.1648 - root_mean_squared_error: 0.2168 - val_loss: 0.1748 - val_mae: 0.1528 - val_root_mean_squared_error: 0.1770 - lr: 0.0046\n",
            "Epoch 15/500\n",
            "61/61 [==============================] - 4s 66ms/step - loss: 0.2168 - mae: 0.1647 - root_mean_squared_error: 0.2168 - val_loss: 0.1774 - val_mae: 0.1555 - val_root_mean_squared_error: 0.1796 - lr: 0.0046\n",
            "Epoch 16/500\n",
            "61/61 [==============================] - 4s 63ms/step - loss: 0.2168 - mae: 0.1647 - root_mean_squared_error: 0.2168 - val_loss: 0.1771 - val_mae: 0.1552 - val_root_mean_squared_error: 0.1793 - lr: 0.0046\n"
          ]
        },
        {
          "data": {
            "text/html": [
              "Waiting for W&B process to finish... <strong style=\"color:green\">(success).</strong>"
            ],
            "text/plain": [
              "<IPython.core.display.HTML object>"
            ]
          },
          "metadata": {},
          "output_type": "display_data"
        },
        {
          "data": {
            "text/html": [
              "<style>\n",
              "    table.wandb td:nth-child(1) { padding: 0 10px; text-align: left ; width: auto;} td:nth-child(2) {text-align: left ; width: 100%}\n",
              "    .wandb-row { display: flex; flex-direction: row; flex-wrap: wrap; justify-content: flex-start; width: 100% }\n",
              "    .wandb-col { display: flex; flex-direction: column; flex-basis: 100%; flex: 1; padding: 10px; }\n",
              "    </style>\n",
              "<div class=\"wandb-row\"><div class=\"wandb-col\"><h3>Run history:</h3><br/><table class=\"wandb\"><tr><td>epoch</td><td>▁▁▂▂▃▃▄▄▅▅▆▆▇▇██</td></tr><tr><td>loss</td><td>█▁▁▁▁▁▁▁▁▁▁▁▁▁▁▁</td></tr><tr><td>mae</td><td>█▁▁▁▁▁▁▁▁▁▁▁▁▁▁▁</td></tr><tr><td>root_mean_squared_error</td><td>█▁▁▁▁▁▁▁▁▁▁▁▁▁▁▁</td></tr><tr><td>val_loss</td><td>▁▇█▆▂▇█▃▃▅▆▅▄▃▅▅</td></tr><tr><td>val_mae</td><td>▁▇█▆▃▇█▃▃▅▆▅▄▄▅▅</td></tr><tr><td>val_root_mean_squared_error</td><td>▁▇█▆▂▇█▃▃▅▆▅▄▃▅▅</td></tr></table><br/></div><div class=\"wandb-col\"><h3>Run summary:</h3><br/><table class=\"wandb\"><tr><td>best_epoch</td><td>0</td></tr><tr><td>best_val_loss</td><td>0.17065</td></tr><tr><td>epoch</td><td>15</td></tr><tr><td>loss</td><td>0.21678</td></tr><tr><td>mae</td><td>0.16471</td></tr><tr><td>root_mean_squared_error</td><td>0.21683</td></tr><tr><td>val_loss</td><td>0.17709</td></tr><tr><td>val_mae</td><td>0.15521</td></tr><tr><td>val_root_mean_squared_error</td><td>0.17929</td></tr></table><br/></div></div>"
            ],
            "text/plain": [
              "<IPython.core.display.HTML object>"
            ]
          },
          "metadata": {},
          "output_type": "display_data"
        },
        {
          "data": {
            "text/html": [
              " View run <strong style=\"color:#cdcd00\">gentle-sweep-9</strong> at: <a href=\"https://wandb.ai/dsp_aguro/aguro_tcn/runs/um19myha\" target=\"_blank\">https://wandb.ai/dsp_aguro/aguro_tcn/runs/um19myha</a><br/>Synced 5 W&B file(s), 1 media file(s), 4 artifact file(s) and 1 other file(s)"
            ],
            "text/plain": [
              "<IPython.core.display.HTML object>"
            ]
          },
          "metadata": {},
          "output_type": "display_data"
        },
        {
          "data": {
            "text/html": [
              "Find logs at: <code>./wandb/run-20230124_120141-um19myha/logs</code>"
            ],
            "text/plain": [
              "<IPython.core.display.HTML object>"
            ]
          },
          "metadata": {},
          "output_type": "display_data"
        },
        {
          "name": "stderr",
          "output_type": "stream",
          "text": [
            "\u001b[34m\u001b[1mwandb\u001b[0m: Sweep Agent: Waiting for job.\n",
            "\u001b[34m\u001b[1mwandb\u001b[0m: Job received.\n",
            "\u001b[34m\u001b[1mwandb\u001b[0m: Agent Starting Run: ldxxab6s with config:\n",
            "\u001b[34m\u001b[1mwandb\u001b[0m: \tbatch_size: 512\n",
            "\u001b[34m\u001b[1mwandb\u001b[0m: \tdropout_rate: 0.3\n",
            "\u001b[34m\u001b[1mwandb\u001b[0m: \tepochs: 500\n",
            "\u001b[34m\u001b[1mwandb\u001b[0m: \tkernel_size: 12\n",
            "\u001b[34m\u001b[1mwandb\u001b[0m: \tlr: 0.0779964275989193\n",
            "\u001b[34m\u001b[1mwandb\u001b[0m: \tnb_filters: 32\n",
            "\u001b[34m\u001b[1mwandb\u001b[0m: \toptimizer: adam\n",
            "Failed to detect the name of this notebook, you can set it manually with the WANDB_NOTEBOOK_NAME environment variable to enable code saving.\n"
          ]
        },
        {
          "data": {
            "text/html": [
              "Tracking run with wandb version 0.13.9"
            ],
            "text/plain": [
              "<IPython.core.display.HTML object>"
            ]
          },
          "metadata": {},
          "output_type": "display_data"
        },
        {
          "data": {
            "text/html": [
              "Run data is saved locally in <code>/content/wandb/run-20230124_120411-ldxxab6s</code>"
            ],
            "text/plain": [
              "<IPython.core.display.HTML object>"
            ]
          },
          "metadata": {},
          "output_type": "display_data"
        },
        {
          "data": {
            "text/html": [
              "Syncing run <strong><a href=\"https://wandb.ai/dsp_aguro/aguro_tcn/runs/ldxxab6s\" target=\"_blank\">misunderstood-sweep-10</a></strong> to <a href=\"https://wandb.ai/dsp_aguro/aguro_tcn\" target=\"_blank\">Weights & Biases</a> (<a href=\"https://wandb.me/run\" target=\"_blank\">docs</a>)<br/>Sweep page: <a href=\"https://wandb.ai/dsp_aguro/aguro_tcn/sweeps/9vw7gd6y\" target=\"_blank\">https://wandb.ai/dsp_aguro/aguro_tcn/sweeps/9vw7gd6y</a>"
            ],
            "text/plain": [
              "<IPython.core.display.HTML object>"
            ]
          },
          "metadata": {},
          "output_type": "display_data"
        },
        {
          "data": {
            "text/html": [
              " View project at <a href=\"https://wandb.ai/dsp_aguro/aguro_tcn\" target=\"_blank\">https://wandb.ai/dsp_aguro/aguro_tcn</a>"
            ],
            "text/plain": [
              "<IPython.core.display.HTML object>"
            ]
          },
          "metadata": {},
          "output_type": "display_data"
        },
        {
          "data": {
            "text/html": [
              " View sweep at <a href=\"https://wandb.ai/dsp_aguro/aguro_tcn/sweeps/9vw7gd6y\" target=\"_blank\">https://wandb.ai/dsp_aguro/aguro_tcn/sweeps/9vw7gd6y</a>"
            ],
            "text/plain": [
              "<IPython.core.display.HTML object>"
            ]
          },
          "metadata": {},
          "output_type": "display_data"
        },
        {
          "data": {
            "text/html": [
              " View run at <a href=\"https://wandb.ai/dsp_aguro/aguro_tcn/runs/ldxxab6s\" target=\"_blank\">https://wandb.ai/dsp_aguro/aguro_tcn/runs/ldxxab6s</a>"
            ],
            "text/plain": [
              "<IPython.core.display.HTML object>"
            ]
          },
          "metadata": {},
          "output_type": "display_data"
        },
        {
          "name": "stdout",
          "output_type": "stream",
          "text": [
            "Epoch 1/500\n",
            " 6/61 [=>............................] - ETA: 5s - loss: 753.4505 - mae: 553.3741 - root_mean_squared_error: 753.4505"
          ]
        },
        {
          "name": "stderr",
          "output_type": "stream",
          "text": [
            "WARNING:tensorflow:Callback method `on_train_batch_end` is slow compared to the batch time (batch time: 0.0373s vs `on_train_batch_end` time: 0.0573s). Check your callbacks.\n"
          ]
        },
        {
          "name": "stdout",
          "output_type": "stream",
          "text": [
            "61/61 [==============================] - ETA: 0s - loss: 74.6349 - mae: 54.8247 - root_mean_squared_error: 74.3394"
          ]
        },
        {
          "name": "stderr",
          "output_type": "stream",
          "text": [
            "WARNING:absl:Found untraced functions such as residual_block_0_layer_call_fn, residual_block_0_layer_call_and_return_conditional_losses, residual_block_1_layer_call_fn, residual_block_1_layer_call_and_return_conditional_losses, residual_block_2_layer_call_fn while saving (showing 5 of 257). These functions will not be directly callable after loading.\n",
            "\u001b[34m\u001b[1mwandb\u001b[0m: Adding directory to artifact (/content/wandb/run-20230124_120411-ldxxab6s/files/model-best)... Done. 0.0s\n"
          ]
        },
        {
          "name": "stdout",
          "output_type": "stream",
          "text": [
            "\b\b\b\b\b\b\b\b\b\b\b\b\b\b\b\b\b\b\b\b\b\b\b\b\b\b\b\b\b\b\b\b\b\b\b\b\b\b\b\b\b\b\b\b\b\b\b\b\b\b\b\b\b\b\b\b\b\b\b\b\b\b\b\b\b\b\b\b\b\b\b\b\b\b\b\b\b\b\b\b\b\b\b\b\b\b\b\b\b\b\b\b\b\b\b\b\b\b\b\b\b\b\b\b\b\b\b\b\b\b\b\b\b\b\r61/61 [==============================] - 24s 309ms/step - loss: 74.6349 - mae: 54.8247 - root_mean_squared_error: 74.3394 - val_loss: 0.1892 - val_mae: 0.1678 - val_root_mean_squared_error: 0.1916 - lr: 0.0780\n",
            "Epoch 2/500\n",
            "61/61 [==============================] - ETA: 0s - loss: 0.2170 - mae: 0.1649 - root_mean_squared_error: 0.2171"
          ]
        },
        {
          "name": "stderr",
          "output_type": "stream",
          "text": [
            "WARNING:absl:Found untraced functions such as residual_block_0_layer_call_fn, residual_block_0_layer_call_and_return_conditional_losses, residual_block_1_layer_call_fn, residual_block_1_layer_call_and_return_conditional_losses, residual_block_2_layer_call_fn while saving (showing 5 of 257). These functions will not be directly callable after loading.\n",
            "\u001b[34m\u001b[1mwandb\u001b[0m: Adding directory to artifact (/content/wandb/run-20230124_120411-ldxxab6s/files/model-best)... Done. 0.0s\n"
          ]
        },
        {
          "name": "stdout",
          "output_type": "stream",
          "text": [
            "\b\b\b\b\b\b\b\b\b\b\b\b\b\b\b\b\b\b\b\b\b\b\b\b\b\b\b\b\b\b\b\b\b\b\b\b\b\b\b\b\b\b\b\b\b\b\b\b\b\b\b\b\b\b\b\b\b\b\b\b\b\b\b\b\b\b\b\b\b\b\b\b\b\b\b\b\b\b\b\b\b\b\b\b\b\b\b\b\b\b\b\b\b\b\b\b\b\b\b\b\b\b\b\b\b\b\b\b\b\b\b\r61/61 [==============================] - 17s 279ms/step - loss: 0.2170 - mae: 0.1649 - root_mean_squared_error: 0.2171 - val_loss: 0.1696 - val_mae: 0.1472 - val_root_mean_squared_error: 0.1717 - lr: 0.0780\n",
            "Epoch 3/500\n",
            "61/61 [==============================] - 7s 114ms/step - loss: 0.2179 - mae: 0.1649 - root_mean_squared_error: 0.2179 - val_loss: 0.1774 - val_mae: 0.1556 - val_root_mean_squared_error: 0.1796 - lr: 0.0780\n",
            "Epoch 4/500\n",
            "61/61 [==============================] - 7s 115ms/step - loss: 0.2170 - mae: 0.1648 - root_mean_squared_error: 0.2170 - val_loss: 0.1764 - val_mae: 0.1544 - val_root_mean_squared_error: 0.1785 - lr: 0.0780\n",
            "Epoch 5/500\n",
            "61/61 [==============================] - 7s 116ms/step - loss: 0.2169 - mae: 0.1650 - root_mean_squared_error: 0.2169 - val_loss: 0.1755 - val_mae: 0.1535 - val_root_mean_squared_error: 0.1777 - lr: 0.0780\n",
            "Epoch 6/500\n",
            "61/61 [==============================] - ETA: 0s - loss: 0.2170 - mae: 0.1650 - root_mean_squared_error: 0.2170"
          ]
        },
        {
          "name": "stderr",
          "output_type": "stream",
          "text": [
            "WARNING:absl:Found untraced functions such as residual_block_0_layer_call_fn, residual_block_0_layer_call_and_return_conditional_losses, residual_block_1_layer_call_fn, residual_block_1_layer_call_and_return_conditional_losses, residual_block_2_layer_call_fn while saving (showing 5 of 257). These functions will not be directly callable after loading.\n",
            "\u001b[34m\u001b[1mwandb\u001b[0m: Adding directory to artifact (/content/wandb/run-20230124_120411-ldxxab6s/files/model-best)... Done. 0.0s\n"
          ]
        },
        {
          "name": "stdout",
          "output_type": "stream",
          "text": [
            "\b\b\b\b\b\b\b\b\b\b\b\b\b\b\b\b\b\b\b\b\b\b\b\b\b\b\b\b\b\b\b\b\b\b\b\b\b\b\b\b\b\b\b\b\b\b\b\b\b\b\b\b\b\b\b\b\b\b\b\b\b\b\b\b\b\b\b\b\b\b\b\b\b\b\b\b\b\b\b\b\b\b\b\b\b\b\b\b\b\b\b\b\b\b\b\b\b\b\b\b\b\b\b\b\b\b\b\b\b\b\b\r61/61 [==============================] - 17s 284ms/step - loss: 0.2170 - mae: 0.1650 - root_mean_squared_error: 0.2170 - val_loss: 0.1668 - val_mae: 0.1441 - val_root_mean_squared_error: 0.1688 - lr: 0.0780\n",
            "Epoch 7/500\n",
            "61/61 [==============================] - 7s 114ms/step - loss: 0.2170 - mae: 0.1648 - root_mean_squared_error: 0.2171 - val_loss: 0.1764 - val_mae: 0.1544 - val_root_mean_squared_error: 0.1785 - lr: 0.0780\n",
            "Epoch 8/500\n",
            "61/61 [==============================] - 7s 113ms/step - loss: 0.2169 - mae: 0.1650 - root_mean_squared_error: 0.2169 - val_loss: 0.1738 - val_mae: 0.1516 - val_root_mean_squared_error: 0.1759 - lr: 0.0780\n",
            "Epoch 9/500\n",
            "61/61 [==============================] - 7s 114ms/step - loss: 0.2171 - mae: 0.1649 - root_mean_squared_error: 0.2171 - val_loss: 0.1818 - val_mae: 0.1602 - val_root_mean_squared_error: 0.1841 - lr: 0.0780\n",
            "Epoch 10/500\n",
            "61/61 [==============================] - ETA: 0s - loss: 0.2173 - mae: 0.1654 - root_mean_squared_error: 0.2173"
          ]
        },
        {
          "name": "stderr",
          "output_type": "stream",
          "text": [
            "WARNING:absl:Found untraced functions such as residual_block_0_layer_call_fn, residual_block_0_layer_call_and_return_conditional_losses, residual_block_1_layer_call_fn, residual_block_1_layer_call_and_return_conditional_losses, residual_block_2_layer_call_fn while saving (showing 5 of 257). These functions will not be directly callable after loading.\n",
            "\u001b[34m\u001b[1mwandb\u001b[0m: Adding directory to artifact (/content/wandb/run-20230124_120411-ldxxab6s/files/model-best)... Done. 0.0s\n"
          ]
        },
        {
          "name": "stdout",
          "output_type": "stream",
          "text": [
            "\b\b\b\b\b\b\b\b\b\b\b\b\b\b\b\b\b\b\b\b\b\b\b\b\b\b\b\b\b\b\b\b\b\b\b\b\b\b\b\b\b\b\b\b\b\b\b\b\b\b\b\b\b\b\b\b\b\b\b\b\b\b\b\b\b\b\b\b\b\b\b\b\b\b\b\b\b\b\b\b\b\b\b\b\b\b\b\b\b\b\b\b\b\b\b\b\b\b\b\b\b\b\b\b\b\b\b\b\b\b\b\r61/61 [==============================] - 18s 305ms/step - loss: 0.2173 - mae: 0.1654 - root_mean_squared_error: 0.2173 - val_loss: 0.1650 - val_mae: 0.1422 - val_root_mean_squared_error: 0.1670 - lr: 0.0780\n",
            "Epoch 11/500\n",
            "61/61 [==============================] - 7s 118ms/step - loss: 0.2170 - mae: 0.1650 - root_mean_squared_error: 0.2170 - val_loss: 0.1823 - val_mae: 0.1607 - val_root_mean_squared_error: 0.1846 - lr: 0.0780\n",
            "Epoch 12/500\n",
            "61/61 [==============================] - 7s 114ms/step - loss: 0.2170 - mae: 0.1648 - root_mean_squared_error: 0.2170 - val_loss: 0.1737 - val_mae: 0.1515 - val_root_mean_squared_error: 0.1758 - lr: 0.0780\n",
            "Epoch 13/500\n",
            "61/61 [==============================] - 7s 115ms/step - loss: 0.2169 - mae: 0.1649 - root_mean_squared_error: 0.2169 - val_loss: 0.1799 - val_mae: 0.1581 - val_root_mean_squared_error: 0.1821 - lr: 0.0780\n",
            "Epoch 14/500\n",
            "61/61 [==============================] - 7s 115ms/step - loss: 0.2174 - mae: 0.1653 - root_mean_squared_error: 0.2174 - val_loss: 0.1701 - val_mae: 0.1475 - val_root_mean_squared_error: 0.1722 - lr: 0.0780\n",
            "Epoch 15/500\n",
            "61/61 [==============================] - ETA: 0s - loss: 0.2172 - mae: 0.1653 - root_mean_squared_error: 0.2171"
          ]
        },
        {
          "name": "stderr",
          "output_type": "stream",
          "text": [
            "WARNING:absl:Found untraced functions such as residual_block_0_layer_call_fn, residual_block_0_layer_call_and_return_conditional_losses, residual_block_1_layer_call_fn, residual_block_1_layer_call_and_return_conditional_losses, residual_block_2_layer_call_fn while saving (showing 5 of 257). These functions will not be directly callable after loading.\n",
            "\u001b[34m\u001b[1mwandb\u001b[0m: Adding directory to artifact (/content/wandb/run-20230124_120411-ldxxab6s/files/model-best)... Done. 0.0s\n"
          ]
        },
        {
          "name": "stdout",
          "output_type": "stream",
          "text": [
            "\b\b\b\b\b\b\b\b\b\b\b\b\b\b\b\b\b\b\b\b\b\b\b\b\b\b\b\b\b\b\b\b\b\b\b\b\b\b\b\b\b\b\b\b\b\b\b\b\b\b\b\b\b\b\b\b\b\b\b\b\b\b\b\b\b\b\b\b\b\b\b\b\b\b\b\b\b\b\b\b\b\b\b\b\b\b\b\b\b\b\b\b\b\b\b\b\b\b\b\b\b\b\b\b\b\b\b\b\b\b\b\r61/61 [==============================] - 17s 280ms/step - loss: 0.2172 - mae: 0.1653 - root_mean_squared_error: 0.2171 - val_loss: 0.1606 - val_mae: 0.1373 - val_root_mean_squared_error: 0.1625 - lr: 0.0780\n",
            "Epoch 16/500\n",
            "61/61 [==============================] - 7s 114ms/step - loss: 0.2173 - mae: 0.1652 - root_mean_squared_error: 0.2172 - val_loss: 0.1751 - val_mae: 0.1530 - val_root_mean_squared_error: 0.1772 - lr: 0.0780\n",
            "Epoch 17/500\n",
            "61/61 [==============================] - 7s 114ms/step - loss: 0.2172 - mae: 0.1650 - root_mean_squared_error: 0.2172 - val_loss: 0.1714 - val_mae: 0.1491 - val_root_mean_squared_error: 0.1735 - lr: 0.0780\n",
            "Epoch 18/500\n",
            "61/61 [==============================] - 7s 115ms/step - loss: 0.2171 - mae: 0.1650 - root_mean_squared_error: 0.2171 - val_loss: 0.1658 - val_mae: 0.1430 - val_root_mean_squared_error: 0.1678 - lr: 0.0780\n",
            "Epoch 19/500\n",
            "61/61 [==============================] - 7s 115ms/step - loss: 0.2176 - mae: 0.1655 - root_mean_squared_error: 0.2177 - val_loss: 0.1758 - val_mae: 0.1537 - val_root_mean_squared_error: 0.1780 - lr: 0.0780\n",
            "Epoch 20/500\n",
            "61/61 [==============================] - 7s 115ms/step - loss: 0.2172 - mae: 0.1650 - root_mean_squared_error: 0.2173 - val_loss: 0.1753 - val_mae: 0.1532 - val_root_mean_squared_error: 0.1775 - lr: 0.0780\n",
            "Epoch 21/500\n",
            "61/61 [==============================] - 7s 114ms/step - loss: 0.2171 - mae: 0.1649 - root_mean_squared_error: 0.2171 - val_loss: 0.1837 - val_mae: 0.1622 - val_root_mean_squared_error: 0.1860 - lr: 0.0780\n",
            "Epoch 22/500\n",
            "61/61 [==============================] - 7s 114ms/step - loss: 0.2171 - mae: 0.1654 - root_mean_squared_error: 0.2171 - val_loss: 0.1791 - val_mae: 0.1573 - val_root_mean_squared_error: 0.1813 - lr: 0.0780\n",
            "Epoch 23/500\n",
            "61/61 [==============================] - 7s 114ms/step - loss: 0.2174 - mae: 0.1651 - root_mean_squared_error: 0.2173 - val_loss: 0.1816 - val_mae: 0.1599 - val_root_mean_squared_error: 0.1839 - lr: 0.0780\n",
            "Epoch 24/500\n",
            "61/61 [==============================] - 7s 114ms/step - loss: 0.2173 - mae: 0.1652 - root_mean_squared_error: 0.2173 - val_loss: 0.1790 - val_mae: 0.1571 - val_root_mean_squared_error: 0.1812 - lr: 0.0780\n",
            "Epoch 25/500\n",
            "61/61 [==============================] - 7s 118ms/step - loss: 0.2174 - mae: 0.1652 - root_mean_squared_error: 0.2174 - val_loss: 0.1715 - val_mae: 0.1491 - val_root_mean_squared_error: 0.1736 - lr: 0.0780\n",
            "Epoch 26/500\n",
            "61/61 [==============================] - 7s 114ms/step - loss: 0.2169 - mae: 0.1646 - root_mean_squared_error: 0.2169 - val_loss: 0.1802 - val_mae: 0.1586 - val_root_mean_squared_error: 0.1825 - lr: 0.0078\n",
            "Epoch 27/500\n",
            "61/61 [==============================] - 7s 114ms/step - loss: 0.2168 - mae: 0.1648 - root_mean_squared_error: 0.2167 - val_loss: 0.1727 - val_mae: 0.1505 - val_root_mean_squared_error: 0.1748 - lr: 0.0078\n",
            "Epoch 28/500\n",
            "61/61 [==============================] - 7s 114ms/step - loss: 0.2168 - mae: 0.1648 - root_mean_squared_error: 0.2168 - val_loss: 0.1762 - val_mae: 0.1543 - val_root_mean_squared_error: 0.1784 - lr: 0.0078\n",
            "Epoch 29/500\n",
            "61/61 [==============================] - 7s 114ms/step - loss: 0.2169 - mae: 0.1648 - root_mean_squared_error: 0.2170 - val_loss: 0.1767 - val_mae: 0.1548 - val_root_mean_squared_error: 0.1789 - lr: 0.0078\n",
            "Epoch 30/500\n",
            "61/61 [==============================] - 7s 114ms/step - loss: 0.2168 - mae: 0.1647 - root_mean_squared_error: 0.2168 - val_loss: 0.1743 - val_mae: 0.1522 - val_root_mean_squared_error: 0.1765 - lr: 0.0078\n"
          ]
        },
        {
          "data": {
            "text/html": [
              "Waiting for W&B process to finish... <strong style=\"color:green\">(success).</strong>"
            ],
            "text/plain": [
              "<IPython.core.display.HTML object>"
            ]
          },
          "metadata": {},
          "output_type": "display_data"
        },
        {
          "data": {
            "application/vnd.jupyter.widget-view+json": {
              "model_id": "a40c82ff25cb461e9d33b515cc6dfb74",
              "version_major": 2,
              "version_minor": 0
            },
            "text/plain": [
              "VBox(children=(Label(value='34.876 MB of 34.876 MB uploaded (0.399 MB deduped)\\r'), FloatProgress(value=1.0, m…"
            ]
          },
          "metadata": {},
          "output_type": "display_data"
        },
        {
          "data": {
            "text/html": [
              "<style>\n",
              "    table.wandb td:nth-child(1) { padding: 0 10px; text-align: left ; width: auto;} td:nth-child(2) {text-align: left ; width: 100%}\n",
              "    .wandb-row { display: flex; flex-direction: row; flex-wrap: wrap; justify-content: flex-start; width: 100% }\n",
              "    .wandb-col { display: flex; flex-direction: column; flex-basis: 100%; flex: 1; padding: 10px; }\n",
              "    </style>\n",
              "<div class=\"wandb-row\"><div class=\"wandb-col\"><h3>Run history:</h3><br/><table class=\"wandb\"><tr><td>epoch</td><td>▁▁▁▂▂▂▂▃▃▃▃▄▄▄▄▅▅▅▅▆▆▆▆▇▇▇▇███</td></tr><tr><td>loss</td><td>█▁▁▁▁▁▁▁▁▁▁▁▁▁▁▁▁▁▁▁▁▁▁▁▁▁▁▁▁▁</td></tr><tr><td>mae</td><td>█▁▁▁▁▁▁▁▁▁▁▁▁▁▁▁▁▁▁▁▁▁▁▁▁▁▁▁▁▁</td></tr><tr><td>root_mean_squared_error</td><td>█▁▁▁▁▁▁▁▁▁▁▁▁▁▁▁▁▁▁▁▁▁▁▁▁▁▁▁▁▁</td></tr><tr><td>val_loss</td><td>█▃▅▅▅▃▅▄▆▂▆▄▆▃▁▅▄▂▅▅▇▆▆▅▄▆▄▅▅▄</td></tr><tr><td>val_mae</td><td>█▃▅▅▅▃▅▄▆▂▆▄▆▃▁▅▄▂▅▅▇▆▆▆▄▆▄▅▅▄</td></tr><tr><td>val_root_mean_squared_error</td><td>█▃▅▅▅▃▅▄▆▂▆▄▆▃▁▅▄▂▅▅▇▆▆▆▄▆▄▅▅▄</td></tr></table><br/></div><div class=\"wandb-col\"><h3>Run summary:</h3><br/><table class=\"wandb\"><tr><td>best_epoch</td><td>14</td></tr><tr><td>best_val_loss</td><td>0.16063</td></tr><tr><td>epoch</td><td>29</td></tr><tr><td>loss</td><td>0.21677</td></tr><tr><td>mae</td><td>0.16473</td></tr><tr><td>root_mean_squared_error</td><td>0.21676</td></tr><tr><td>val_loss</td><td>0.17432</td></tr><tr><td>val_mae</td><td>0.15225</td></tr><tr><td>val_root_mean_squared_error</td><td>0.17646</td></tr></table><br/></div></div>"
            ],
            "text/plain": [
              "<IPython.core.display.HTML object>"
            ]
          },
          "metadata": {},
          "output_type": "display_data"
        },
        {
          "data": {
            "text/html": [
              " View run <strong style=\"color:#cdcd00\">misunderstood-sweep-10</strong> at: <a href=\"https://wandb.ai/dsp_aguro/aguro_tcn/runs/ldxxab6s\" target=\"_blank\">https://wandb.ai/dsp_aguro/aguro_tcn/runs/ldxxab6s</a><br/>Synced 5 W&B file(s), 1 media file(s), 20 artifact file(s) and 1 other file(s)"
            ],
            "text/plain": [
              "<IPython.core.display.HTML object>"
            ]
          },
          "metadata": {},
          "output_type": "display_data"
        },
        {
          "data": {
            "text/html": [
              "Find logs at: <code>./wandb/run-20230124_120411-ldxxab6s/logs</code>"
            ],
            "text/plain": [
              "<IPython.core.display.HTML object>"
            ]
          },
          "metadata": {},
          "output_type": "display_data"
        },
        {
          "name": "stderr",
          "output_type": "stream",
          "text": [
            "\u001b[34m\u001b[1mwandb\u001b[0m: Agent Starting Run: w9wsx402 with config:\n",
            "\u001b[34m\u001b[1mwandb\u001b[0m: \tbatch_size: 512\n",
            "\u001b[34m\u001b[1mwandb\u001b[0m: \tdropout_rate: 0.7\n",
            "\u001b[34m\u001b[1mwandb\u001b[0m: \tepochs: 500\n",
            "\u001b[34m\u001b[1mwandb\u001b[0m: \tkernel_size: 6\n",
            "\u001b[34m\u001b[1mwandb\u001b[0m: \tlr: 0.06097932802114634\n",
            "\u001b[34m\u001b[1mwandb\u001b[0m: \tnb_filters: 32\n",
            "\u001b[34m\u001b[1mwandb\u001b[0m: \toptimizer: adam\n",
            "Failed to detect the name of this notebook, you can set it manually with the WANDB_NOTEBOOK_NAME environment variable to enable code saving.\n"
          ]
        },
        {
          "data": {
            "text/html": [
              "Tracking run with wandb version 0.13.9"
            ],
            "text/plain": [
              "<IPython.core.display.HTML object>"
            ]
          },
          "metadata": {},
          "output_type": "display_data"
        },
        {
          "data": {
            "text/html": [
              "Run data is saved locally in <code>/content/wandb/run-20230124_120940-w9wsx402</code>"
            ],
            "text/plain": [
              "<IPython.core.display.HTML object>"
            ]
          },
          "metadata": {},
          "output_type": "display_data"
        },
        {
          "data": {
            "text/html": [
              "Syncing run <strong><a href=\"https://wandb.ai/dsp_aguro/aguro_tcn/runs/w9wsx402\" target=\"_blank\">icy-sweep-11</a></strong> to <a href=\"https://wandb.ai/dsp_aguro/aguro_tcn\" target=\"_blank\">Weights & Biases</a> (<a href=\"https://wandb.me/run\" target=\"_blank\">docs</a>)<br/>Sweep page: <a href=\"https://wandb.ai/dsp_aguro/aguro_tcn/sweeps/9vw7gd6y\" target=\"_blank\">https://wandb.ai/dsp_aguro/aguro_tcn/sweeps/9vw7gd6y</a>"
            ],
            "text/plain": [
              "<IPython.core.display.HTML object>"
            ]
          },
          "metadata": {},
          "output_type": "display_data"
        },
        {
          "data": {
            "text/html": [
              " View project at <a href=\"https://wandb.ai/dsp_aguro/aguro_tcn\" target=\"_blank\">https://wandb.ai/dsp_aguro/aguro_tcn</a>"
            ],
            "text/plain": [
              "<IPython.core.display.HTML object>"
            ]
          },
          "metadata": {},
          "output_type": "display_data"
        },
        {
          "data": {
            "text/html": [
              " View sweep at <a href=\"https://wandb.ai/dsp_aguro/aguro_tcn/sweeps/9vw7gd6y\" target=\"_blank\">https://wandb.ai/dsp_aguro/aguro_tcn/sweeps/9vw7gd6y</a>"
            ],
            "text/plain": [
              "<IPython.core.display.HTML object>"
            ]
          },
          "metadata": {},
          "output_type": "display_data"
        },
        {
          "data": {
            "text/html": [
              " View run at <a href=\"https://wandb.ai/dsp_aguro/aguro_tcn/runs/w9wsx402\" target=\"_blank\">https://wandb.ai/dsp_aguro/aguro_tcn/runs/w9wsx402</a>"
            ],
            "text/plain": [
              "<IPython.core.display.HTML object>"
            ]
          },
          "metadata": {},
          "output_type": "display_data"
        },
        {
          "name": "stdout",
          "output_type": "stream",
          "text": [
            "Epoch 1/500\n",
            "61/61 [==============================] - ETA: 0s - loss: 5.4036 - mae: 2.2670 - root_mean_squared_error: 5.4202"
          ]
        },
        {
          "name": "stderr",
          "output_type": "stream",
          "text": [
            "WARNING:absl:Found untraced functions such as residual_block_0_layer_call_fn, residual_block_0_layer_call_and_return_conditional_losses, residual_block_1_layer_call_fn, residual_block_1_layer_call_and_return_conditional_losses, residual_block_2_layer_call_fn while saving (showing 5 of 257). These functions will not be directly callable after loading.\n",
            "\u001b[34m\u001b[1mwandb\u001b[0m: Adding directory to artifact (/content/wandb/run-20230124_120940-w9wsx402/files/model-best)... Done. 0.0s\n"
          ]
        },
        {
          "name": "stdout",
          "output_type": "stream",
          "text": [
            "\b\b\b\b\b\b\b\b\b\b\b\b\b\b\b\b\b\b\b\b\b\b\b\b\b\b\b\b\b\b\b\b\b\b\b\b\b\b\b\b\b\b\b\b\b\b\b\b\b\b\b\b\b\b\b\b\b\b\b\b\b\b\b\b\b\b\b\b\b\b\b\b\b\b\b\b\b\b\b\b\b\b\b\b\b\b\b\b\b\b\b\b\b\b\b\b\b\b\b\b\b\b\b\b\b\b\b\b\b\b\b\r61/61 [==============================] - 20s 247ms/step - loss: 5.4036 - mae: 2.2670 - root_mean_squared_error: 5.4202 - val_loss: 0.1485 - val_mae: 0.1208 - val_root_mean_squared_error: 0.1498 - lr: 0.0610\n",
            "Epoch 2/500\n",
            "61/61 [==============================] - 3s 56ms/step - loss: 29.5065 - mae: 1.4789 - root_mean_squared_error: 29.4062 - val_loss: 0.1924 - val_mae: 0.1660 - val_root_mean_squared_error: 0.1946 - lr: 0.0610\n",
            "Epoch 3/500\n",
            "61/61 [==============================] - 3s 55ms/step - loss: 6.9462 - mae: 0.4696 - root_mean_squared_error: 6.9198 - val_loss: 0.1862 - val_mae: 0.1646 - val_root_mean_squared_error: 0.1885 - lr: 0.0610\n",
            "Epoch 4/500\n",
            "61/61 [==============================] - 3s 56ms/step - loss: 5.4712 - mae: 0.3835 - root_mean_squared_error: 5.4748 - val_loss: 0.1693 - val_mae: 0.1464 - val_root_mean_squared_error: 0.1714 - lr: 0.0610\n",
            "Epoch 5/500\n",
            "61/61 [==============================] - 3s 57ms/step - loss: 154.6543 - mae: 6.5903 - root_mean_squared_error: 154.0482 - val_loss: 0.1718 - val_mae: 0.1494 - val_root_mean_squared_error: 0.1739 - lr: 0.0610\n",
            "Epoch 6/500\n",
            "61/61 [==============================] - 3s 56ms/step - loss: 29.2584 - mae: 1.1381 - root_mean_squared_error: 29.1430 - val_loss: 0.1687 - val_mae: 0.1461 - val_root_mean_squared_error: 0.1708 - lr: 0.0610\n",
            "Epoch 7/500\n",
            "61/61 [==============================] - 3s 57ms/step - loss: 952.2831 - mae: 40.9277 - root_mean_squared_error: 948.5031 - val_loss: 0.1800 - val_mae: 0.1580 - val_root_mean_squared_error: 0.1822 - lr: 0.0610\n",
            "Epoch 8/500\n",
            "61/61 [==============================] - 3s 56ms/step - loss: 576.9718 - mae: 23.3511 - root_mean_squared_error: 574.6818 - val_loss: 0.1711 - val_mae: 0.1487 - val_root_mean_squared_error: 0.1732 - lr: 0.0610\n",
            "Epoch 9/500\n",
            "61/61 [==============================] - 3s 57ms/step - loss: 11.9263 - mae: 0.5833 - root_mean_squared_error: 12.7847 - val_loss: 0.1857 - val_mae: 0.1642 - val_root_mean_squared_error: 0.1880 - lr: 0.0610\n",
            "Epoch 10/500\n",
            "61/61 [==============================] - 3s 56ms/step - loss: 5.7839 - mae: 0.4013 - root_mean_squared_error: 5.7618 - val_loss: 0.1725 - val_mae: 0.1503 - val_root_mean_squared_error: 0.1746 - lr: 0.0610\n",
            "Epoch 11/500\n",
            "61/61 [==============================] - 3s 56ms/step - loss: 216.0528 - mae: 9.3632 - root_mean_squared_error: 215.1960 - val_loss: 0.1771 - val_mae: 0.1551 - val_root_mean_squared_error: 0.1792 - lr: 0.0610\n",
            "Epoch 12/500\n",
            "61/61 [==============================] - 3s 56ms/step - loss: 6.6442 - mae: 0.4449 - root_mean_squared_error: 6.6186 - val_loss: 0.1768 - val_mae: 0.1549 - val_root_mean_squared_error: 0.1790 - lr: 0.0061\n",
            "Epoch 13/500\n",
            "61/61 [==============================] - 3s 56ms/step - loss: 0.2909 - mae: 0.1680 - root_mean_squared_error: 0.2906 - val_loss: 0.1757 - val_mae: 0.1537 - val_root_mean_squared_error: 0.1779 - lr: 0.0061\n",
            "Epoch 14/500\n",
            "61/61 [==============================] - 3s 56ms/step - loss: 0.2493 - mae: 0.1664 - root_mean_squared_error: 0.2492 - val_loss: 0.1767 - val_mae: 0.1548 - val_root_mean_squared_error: 0.1789 - lr: 0.0061\n",
            "Epoch 15/500\n",
            "61/61 [==============================] - 3s 56ms/step - loss: 0.4628 - mae: 0.1743 - root_mean_squared_error: 0.4618 - val_loss: 0.1751 - val_mae: 0.1531 - val_root_mean_squared_error: 0.1773 - lr: 0.0061\n",
            "Epoch 16/500\n",
            "61/61 [==============================] - 3s 55ms/step - loss: 0.7151 - mae: 0.1829 - root_mean_squared_error: 0.7131 - val_loss: 0.1773 - val_mae: 0.1554 - val_root_mean_squared_error: 0.1795 - lr: 0.0061\n"
          ]
        },
        {
          "data": {
            "text/html": [
              "Waiting for W&B process to finish... <strong style=\"color:green\">(success).</strong>"
            ],
            "text/plain": [
              "<IPython.core.display.HTML object>"
            ]
          },
          "metadata": {},
          "output_type": "display_data"
        },
        {
          "data": {
            "text/html": [
              "<style>\n",
              "    table.wandb td:nth-child(1) { padding: 0 10px; text-align: left ; width: auto;} td:nth-child(2) {text-align: left ; width: 100%}\n",
              "    .wandb-row { display: flex; flex-direction: row; flex-wrap: wrap; justify-content: flex-start; width: 100% }\n",
              "    .wandb-col { display: flex; flex-direction: column; flex-basis: 100%; flex: 1; padding: 10px; }\n",
              "    </style>\n",
              "<div class=\"wandb-row\"><div class=\"wandb-col\"><h3>Run history:</h3><br/><table class=\"wandb\"><tr><td>epoch</td><td>▁▁▂▂▃▃▄▄▅▅▆▆▇▇██</td></tr><tr><td>loss</td><td>▁▁▁▁▂▁█▅▁▁▃▁▁▁▁▁</td></tr><tr><td>mae</td><td>▁▁▁▁▂▁█▅▁▁▃▁▁▁▁▁</td></tr><tr><td>root_mean_squared_error</td><td>▁▁▁▁▂▁█▅▁▁▃▁▁▁▁▁</td></tr><tr><td>val_loss</td><td>▁█▇▄▅▄▆▅▇▅▆▆▅▅▅▆</td></tr><tr><td>val_mae</td><td>▁██▅▅▅▇▅█▆▆▆▆▆▆▆</td></tr><tr><td>val_root_mean_squared_error</td><td>▁█▇▄▅▄▆▅▇▅▆▆▅▆▅▆</td></tr></table><br/></div><div class=\"wandb-col\"><h3>Run summary:</h3><br/><table class=\"wandb\"><tr><td>best_epoch</td><td>0</td></tr><tr><td>best_val_loss</td><td>0.14846</td></tr><tr><td>epoch</td><td>15</td></tr><tr><td>loss</td><td>0.71512</td></tr><tr><td>mae</td><td>0.18289</td></tr><tr><td>root_mean_squared_error</td><td>0.71309</td></tr><tr><td>val_loss</td><td>0.17731</td></tr><tr><td>val_mae</td><td>0.15544</td></tr><tr><td>val_root_mean_squared_error</td><td>0.17951</td></tr></table><br/></div></div>"
            ],
            "text/plain": [
              "<IPython.core.display.HTML object>"
            ]
          },
          "metadata": {},
          "output_type": "display_data"
        },
        {
          "data": {
            "text/html": [
              " View run <strong style=\"color:#cdcd00\">icy-sweep-11</strong> at: <a href=\"https://wandb.ai/dsp_aguro/aguro_tcn/runs/w9wsx402\" target=\"_blank\">https://wandb.ai/dsp_aguro/aguro_tcn/runs/w9wsx402</a><br/>Synced 5 W&B file(s), 1 media file(s), 4 artifact file(s) and 1 other file(s)"
            ],
            "text/plain": [
              "<IPython.core.display.HTML object>"
            ]
          },
          "metadata": {},
          "output_type": "display_data"
        },
        {
          "data": {
            "text/html": [
              "Find logs at: <code>./wandb/run-20230124_120940-w9wsx402/logs</code>"
            ],
            "text/plain": [
              "<IPython.core.display.HTML object>"
            ]
          },
          "metadata": {},
          "output_type": "display_data"
        },
        {
          "name": "stderr",
          "output_type": "stream",
          "text": [
            "\u001b[34m\u001b[1mwandb\u001b[0m: Sweep Agent: Waiting for job.\n",
            "\u001b[34m\u001b[1mwandb\u001b[0m: Job received.\n",
            "\u001b[34m\u001b[1mwandb\u001b[0m: Agent Starting Run: n3yhof2y with config:\n",
            "\u001b[34m\u001b[1mwandb\u001b[0m: \tbatch_size: 512\n",
            "\u001b[34m\u001b[1mwandb\u001b[0m: \tdropout_rate: 0.5\n",
            "\u001b[34m\u001b[1mwandb\u001b[0m: \tepochs: 500\n",
            "\u001b[34m\u001b[1mwandb\u001b[0m: \tkernel_size: 8\n",
            "\u001b[34m\u001b[1mwandb\u001b[0m: \tlr: 0.02911013580542378\n",
            "\u001b[34m\u001b[1mwandb\u001b[0m: \tnb_filters: 64\n",
            "\u001b[34m\u001b[1mwandb\u001b[0m: \toptimizer: adam\n",
            "Failed to detect the name of this notebook, you can set it manually with the WANDB_NOTEBOOK_NAME environment variable to enable code saving.\n"
          ]
        },
        {
          "data": {
            "text/html": [
              "Tracking run with wandb version 0.13.9"
            ],
            "text/plain": [
              "<IPython.core.display.HTML object>"
            ]
          },
          "metadata": {},
          "output_type": "display_data"
        },
        {
          "data": {
            "text/html": [
              "Run data is saved locally in <code>/content/wandb/run-20230124_121210-n3yhof2y</code>"
            ],
            "text/plain": [
              "<IPython.core.display.HTML object>"
            ]
          },
          "metadata": {},
          "output_type": "display_data"
        },
        {
          "data": {
            "text/html": [
              "Syncing run <strong><a href=\"https://wandb.ai/dsp_aguro/aguro_tcn/runs/n3yhof2y\" target=\"_blank\">gallant-sweep-12</a></strong> to <a href=\"https://wandb.ai/dsp_aguro/aguro_tcn\" target=\"_blank\">Weights & Biases</a> (<a href=\"https://wandb.me/run\" target=\"_blank\">docs</a>)<br/>Sweep page: <a href=\"https://wandb.ai/dsp_aguro/aguro_tcn/sweeps/9vw7gd6y\" target=\"_blank\">https://wandb.ai/dsp_aguro/aguro_tcn/sweeps/9vw7gd6y</a>"
            ],
            "text/plain": [
              "<IPython.core.display.HTML object>"
            ]
          },
          "metadata": {},
          "output_type": "display_data"
        },
        {
          "data": {
            "text/html": [
              " View project at <a href=\"https://wandb.ai/dsp_aguro/aguro_tcn\" target=\"_blank\">https://wandb.ai/dsp_aguro/aguro_tcn</a>"
            ],
            "text/plain": [
              "<IPython.core.display.HTML object>"
            ]
          },
          "metadata": {},
          "output_type": "display_data"
        },
        {
          "data": {
            "text/html": [
              " View sweep at <a href=\"https://wandb.ai/dsp_aguro/aguro_tcn/sweeps/9vw7gd6y\" target=\"_blank\">https://wandb.ai/dsp_aguro/aguro_tcn/sweeps/9vw7gd6y</a>"
            ],
            "text/plain": [
              "<IPython.core.display.HTML object>"
            ]
          },
          "metadata": {},
          "output_type": "display_data"
        },
        {
          "data": {
            "text/html": [
              " View run at <a href=\"https://wandb.ai/dsp_aguro/aguro_tcn/runs/n3yhof2y\" target=\"_blank\">https://wandb.ai/dsp_aguro/aguro_tcn/runs/n3yhof2y</a>"
            ],
            "text/plain": [
              "<IPython.core.display.HTML object>"
            ]
          },
          "metadata": {},
          "output_type": "display_data"
        },
        {
          "name": "stdout",
          "output_type": "stream",
          "text": [
            "Epoch 1/500\n",
            " 6/61 [=>............................] - ETA: 9s - loss: 2.7151 - mae: 2.1428 - root_mean_squared_error: 2.7151"
          ]
        },
        {
          "name": "stderr",
          "output_type": "stream",
          "text": [
            "WARNING:tensorflow:Callback method `on_train_batch_end` is slow compared to the batch time (batch time: 0.0463s vs `on_train_batch_end` time: 0.0982s). Check your callbacks.\n"
          ]
        },
        {
          "name": "stdout",
          "output_type": "stream",
          "text": [
            "61/61 [==============================] - ETA: 0s - loss: 0.5285 - mae: 0.4239 - root_mean_squared_error: 0.5273"
          ]
        },
        {
          "name": "stderr",
          "output_type": "stream",
          "text": [
            "WARNING:absl:Found untraced functions such as residual_block_0_layer_call_fn, residual_block_0_layer_call_and_return_conditional_losses, residual_block_1_layer_call_fn, residual_block_1_layer_call_and_return_conditional_losses, residual_block_2_layer_call_fn while saving (showing 5 of 257). These functions will not be directly callable after loading.\n",
            "\u001b[34m\u001b[1mwandb\u001b[0m: Adding directory to artifact (/content/wandb/run-20230124_121210-n3yhof2y/files/model-best)... Done. 0.0s\n"
          ]
        },
        {
          "name": "stdout",
          "output_type": "stream",
          "text": [
            "\b\b\b\b\b\b\b\b\b\b\b\b\b\b\b\b\b\b\b\b\b\b\b\b\b\b\b\b\b\b\b\b\b\b\b\b\b\b\b\b\b\b\b\b\b\b\b\b\b\b\b\b\b\b\b\b\b\b\b\b\b\b\b\b\b\b\b\b\b\b\b\b\b\b\b\b\b\b\b\b\b\b\b\b\b\b\b\b\b\b\b\b\b\b\b\b\b\b\b\b\b\b\b\b\b\b\b\b\b\b\b\r61/61 [==============================] - 30s 405ms/step - loss: 0.5285 - mae: 0.4239 - root_mean_squared_error: 0.5273 - val_loss: 0.1900 - val_mae: 0.1689 - val_root_mean_squared_error: 0.1924 - lr: 0.0291\n",
            "Epoch 2/500\n",
            "61/61 [==============================] - ETA: 0s - loss: 0.2170 - mae: 0.1653 - root_mean_squared_error: 0.2170"
          ]
        },
        {
          "name": "stderr",
          "output_type": "stream",
          "text": [
            "WARNING:absl:Found untraced functions such as residual_block_0_layer_call_fn, residual_block_0_layer_call_and_return_conditional_losses, residual_block_1_layer_call_fn, residual_block_1_layer_call_and_return_conditional_losses, residual_block_2_layer_call_fn while saving (showing 5 of 257). These functions will not be directly callable after loading.\n",
            "\u001b[34m\u001b[1mwandb\u001b[0m: Adding directory to artifact (/content/wandb/run-20230124_121210-n3yhof2y/files/model-best)... Done. 0.1s\n"
          ]
        },
        {
          "name": "stdout",
          "output_type": "stream",
          "text": [
            "\b\b\b\b\b\b\b\b\b\b\b\b\b\b\b\b\b\b\b\b\b\b\b\b\b\b\b\b\b\b\b\b\b\b\b\b\b\b\b\b\b\b\b\b\b\b\b\b\b\b\b\b\b\b\b\b\b\b\b\b\b\b\b\b\b\b\b\b\b\b\b\b\b\b\b\b\b\b\b\b\b\b\b\b\b\b\b\b\b\b\b\b\b\b\b\b\b\b\b\b\b\b\b\b\b\b\b\b\b\b\b\r61/61 [==============================] - 21s 341ms/step - loss: 0.2170 - mae: 0.1653 - root_mean_squared_error: 0.2170 - val_loss: 0.1753 - val_mae: 0.1533 - val_root_mean_squared_error: 0.1775 - lr: 0.0291\n",
            "Epoch 3/500\n",
            "61/61 [==============================] - ETA: 0s - loss: 0.2168 - mae: 0.1648 - root_mean_squared_error: 0.2168"
          ]
        },
        {
          "name": "stderr",
          "output_type": "stream",
          "text": [
            "WARNING:absl:Found untraced functions such as residual_block_0_layer_call_fn, residual_block_0_layer_call_and_return_conditional_losses, residual_block_1_layer_call_fn, residual_block_1_layer_call_and_return_conditional_losses, residual_block_2_layer_call_fn while saving (showing 5 of 257). These functions will not be directly callable after loading.\n",
            "\u001b[34m\u001b[1mwandb\u001b[0m: Adding directory to artifact (/content/wandb/run-20230124_121210-n3yhof2y/files/model-best)... Done. 0.0s\n"
          ]
        },
        {
          "name": "stdout",
          "output_type": "stream",
          "text": [
            "\b\b\b\b\b\b\b\b\b\b\b\b\b\b\b\b\b\b\b\b\b\b\b\b\b\b\b\b\b\b\b\b\b\b\b\b\b\b\b\b\b\b\b\b\b\b\b\b\b\b\b\b\b\b\b\b\b\b\b\b\b\b\b\b\b\b\b\b\b\b\b\b\b\b\b\b\b\b\b\b\b\b\b\b\b\b\b\b\b\b\b\b\b\b\b\b\b\b\b\b\b\b\b\b\b\b\b\b\b\b\b\r61/61 [==============================] - 21s 343ms/step - loss: 0.2168 - mae: 0.1648 - root_mean_squared_error: 0.2168 - val_loss: 0.1722 - val_mae: 0.1500 - val_root_mean_squared_error: 0.1743 - lr: 0.0291\n",
            "Epoch 4/500\n",
            "61/61 [==============================] - 11s 175ms/step - loss: 0.2169 - mae: 0.1648 - root_mean_squared_error: 0.2168 - val_loss: 0.1760 - val_mae: 0.1540 - val_root_mean_squared_error: 0.1782 - lr: 0.0291\n",
            "Epoch 5/500\n",
            "61/61 [==============================] - 11s 175ms/step - loss: 0.2169 - mae: 0.1648 - root_mean_squared_error: 0.2169 - val_loss: 0.1757 - val_mae: 0.1537 - val_root_mean_squared_error: 0.1779 - lr: 0.0291\n",
            "Epoch 6/500\n",
            "61/61 [==============================] - 11s 175ms/step - loss: 0.2169 - mae: 0.1648 - root_mean_squared_error: 0.2168 - val_loss: 0.1770 - val_mae: 0.1551 - val_root_mean_squared_error: 0.1792 - lr: 0.0291\n",
            "Epoch 7/500\n",
            "61/61 [==============================] - 11s 175ms/step - loss: 0.2169 - mae: 0.1647 - root_mean_squared_error: 0.2169 - val_loss: 0.1796 - val_mae: 0.1579 - val_root_mean_squared_error: 0.1819 - lr: 0.0291\n",
            "Epoch 8/500\n",
            "61/61 [==============================] - 11s 174ms/step - loss: 0.2168 - mae: 0.1648 - root_mean_squared_error: 0.2169 - val_loss: 0.1781 - val_mae: 0.1563 - val_root_mean_squared_error: 0.1803 - lr: 0.0291\n",
            "Epoch 9/500\n",
            "61/61 [==============================] - 11s 174ms/step - loss: 0.2169 - mae: 0.1649 - root_mean_squared_error: 0.2169 - val_loss: 0.1785 - val_mae: 0.1567 - val_root_mean_squared_error: 0.1807 - lr: 0.0291\n",
            "Epoch 10/500\n",
            "61/61 [==============================] - 11s 174ms/step - loss: 0.2169 - mae: 0.1648 - root_mean_squared_error: 0.2168 - val_loss: 0.1746 - val_mae: 0.1526 - val_root_mean_squared_error: 0.1768 - lr: 0.0291\n",
            "Epoch 11/500\n",
            "61/61 [==============================] - 11s 175ms/step - loss: 0.2169 - mae: 0.1648 - root_mean_squared_error: 0.2169 - val_loss: 0.1727 - val_mae: 0.1505 - val_root_mean_squared_error: 0.1748 - lr: 0.0291\n",
            "Epoch 12/500\n",
            "61/61 [==============================] - 11s 174ms/step - loss: 0.2168 - mae: 0.1648 - root_mean_squared_error: 0.2168 - val_loss: 0.1760 - val_mae: 0.1540 - val_root_mean_squared_error: 0.1782 - lr: 0.0291\n",
            "Epoch 13/500\n",
            "61/61 [==============================] - 11s 176ms/step - loss: 0.2169 - mae: 0.1649 - root_mean_squared_error: 0.2168 - val_loss: 0.1727 - val_mae: 0.1505 - val_root_mean_squared_error: 0.1748 - lr: 0.0291\n",
            "Epoch 14/500\n",
            "61/61 [==============================] - 11s 175ms/step - loss: 0.2168 - mae: 0.1646 - root_mean_squared_error: 0.2167 - val_loss: 0.1765 - val_mae: 0.1546 - val_root_mean_squared_error: 0.1787 - lr: 0.0029\n",
            "Epoch 15/500\n",
            "61/61 [==============================] - 11s 174ms/step - loss: 0.2168 - mae: 0.1647 - root_mean_squared_error: 0.2169 - val_loss: 0.1760 - val_mae: 0.1540 - val_root_mean_squared_error: 0.1781 - lr: 0.0029\n",
            "Epoch 16/500\n",
            "61/61 [==============================] - 11s 176ms/step - loss: 0.2168 - mae: 0.1649 - root_mean_squared_error: 0.2166 - val_loss: 0.1760 - val_mae: 0.1540 - val_root_mean_squared_error: 0.1781 - lr: 0.0029\n",
            "Epoch 17/500\n",
            "61/61 [==============================] - 11s 175ms/step - loss: 0.2168 - mae: 0.1645 - root_mean_squared_error: 0.2168 - val_loss: 0.1782 - val_mae: 0.1564 - val_root_mean_squared_error: 0.1804 - lr: 0.0029\n",
            "Epoch 18/500\n",
            "61/61 [==============================] - 11s 175ms/step - loss: 0.2168 - mae: 0.1649 - root_mean_squared_error: 0.2168 - val_loss: 0.1759 - val_mae: 0.1539 - val_root_mean_squared_error: 0.1781 - lr: 0.0029\n"
          ]
        },
        {
          "data": {
            "text/html": [
              "Waiting for W&B process to finish... <strong style=\"color:green\">(success).</strong>"
            ],
            "text/plain": [
              "<IPython.core.display.HTML object>"
            ]
          },
          "metadata": {},
          "output_type": "display_data"
        },
        {
          "data": {
            "application/vnd.jupyter.widget-view+json": {
              "model_id": "0f20b8e3f6f74f9889e302220f2555b5",
              "version_major": 2,
              "version_minor": 0
            },
            "text/plain": [
              "VBox(children=(Label(value='37.707 MB of 37.707 MB uploaded (0.200 MB deduped)\\r'), FloatProgress(value=1.0, m…"
            ]
          },
          "metadata": {},
          "output_type": "display_data"
        },
        {
          "data": {
            "text/html": [
              "<style>\n",
              "    table.wandb td:nth-child(1) { padding: 0 10px; text-align: left ; width: auto;} td:nth-child(2) {text-align: left ; width: 100%}\n",
              "    .wandb-row { display: flex; flex-direction: row; flex-wrap: wrap; justify-content: flex-start; width: 100% }\n",
              "    .wandb-col { display: flex; flex-direction: column; flex-basis: 100%; flex: 1; padding: 10px; }\n",
              "    </style>\n",
              "<div class=\"wandb-row\"><div class=\"wandb-col\"><h3>Run history:</h3><br/><table class=\"wandb\"><tr><td>epoch</td><td>▁▁▂▂▃▃▃▄▄▅▅▆▆▆▇▇██</td></tr><tr><td>loss</td><td>█▁▁▁▁▁▁▁▁▁▁▁▁▁▁▁▁▁</td></tr><tr><td>mae</td><td>█▁▁▁▁▁▁▁▁▁▁▁▁▁▁▁▁▁</td></tr><tr><td>root_mean_squared_error</td><td>█▁▁▁▁▁▁▁▁▁▁▁▁▁▁▁▁▁</td></tr><tr><td>val_loss</td><td>█▂▁▂▂▃▄▃▃▂▁▂▁▃▂▂▃▂</td></tr><tr><td>val_mae</td><td>█▂▁▂▂▃▄▃▃▂▁▂▁▃▂▂▃▂</td></tr><tr><td>val_root_mean_squared_error</td><td>█▂▁▂▂▃▄▃▃▂▁▂▁▃▂▂▃▂</td></tr></table><br/></div><div class=\"wandb-col\"><h3>Run summary:</h3><br/><table class=\"wandb\"><tr><td>best_epoch</td><td>2</td></tr><tr><td>best_val_loss</td><td>0.17223</td></tr><tr><td>epoch</td><td>17</td></tr><tr><td>loss</td><td>0.21682</td></tr><tr><td>mae</td><td>0.16493</td></tr><tr><td>root_mean_squared_error</td><td>0.21676</td></tr><tr><td>val_loss</td><td>0.17591</td></tr><tr><td>val_mae</td><td>0.15395</td></tr><tr><td>val_root_mean_squared_error</td><td>0.17808</td></tr></table><br/></div></div>"
            ],
            "text/plain": [
              "<IPython.core.display.HTML object>"
            ]
          },
          "metadata": {},
          "output_type": "display_data"
        },
        {
          "data": {
            "text/html": [
              " View run <strong style=\"color:#cdcd00\">gallant-sweep-12</strong> at: <a href=\"https://wandb.ai/dsp_aguro/aguro_tcn/runs/n3yhof2y\" target=\"_blank\">https://wandb.ai/dsp_aguro/aguro_tcn/runs/n3yhof2y</a><br/>Synced 5 W&B file(s), 1 media file(s), 12 artifact file(s) and 1 other file(s)"
            ],
            "text/plain": [
              "<IPython.core.display.HTML object>"
            ]
          },
          "metadata": {},
          "output_type": "display_data"
        },
        {
          "data": {
            "text/html": [
              "Find logs at: <code>./wandb/run-20230124_121210-n3yhof2y/logs</code>"
            ],
            "text/plain": [
              "<IPython.core.display.HTML object>"
            ]
          },
          "metadata": {},
          "output_type": "display_data"
        },
        {
          "name": "stderr",
          "output_type": "stream",
          "text": [
            "\u001b[34m\u001b[1mwandb\u001b[0m: Agent Starting Run: hl5kfnxz with config:\n",
            "\u001b[34m\u001b[1mwandb\u001b[0m: \tbatch_size: 512\n",
            "\u001b[34m\u001b[1mwandb\u001b[0m: \tdropout_rate: 0.6\n",
            "\u001b[34m\u001b[1mwandb\u001b[0m: \tepochs: 500\n",
            "\u001b[34m\u001b[1mwandb\u001b[0m: \tkernel_size: 8\n",
            "\u001b[34m\u001b[1mwandb\u001b[0m: \tlr: 0.04276977665836378\n",
            "\u001b[34m\u001b[1mwandb\u001b[0m: \tnb_filters: 16\n",
            "\u001b[34m\u001b[1mwandb\u001b[0m: \toptimizer: adam\n",
            "Failed to detect the name of this notebook, you can set it manually with the WANDB_NOTEBOOK_NAME environment variable to enable code saving.\n"
          ]
        },
        {
          "data": {
            "text/html": [
              "Tracking run with wandb version 0.13.9"
            ],
            "text/plain": [
              "<IPython.core.display.HTML object>"
            ]
          },
          "metadata": {},
          "output_type": "display_data"
        },
        {
          "data": {
            "text/html": [
              "Run data is saved locally in <code>/content/wandb/run-20230124_121640-hl5kfnxz</code>"
            ],
            "text/plain": [
              "<IPython.core.display.HTML object>"
            ]
          },
          "metadata": {},
          "output_type": "display_data"
        },
        {
          "data": {
            "text/html": [
              "Syncing run <strong><a href=\"https://wandb.ai/dsp_aguro/aguro_tcn/runs/hl5kfnxz\" target=\"_blank\">sweepy-sweep-13</a></strong> to <a href=\"https://wandb.ai/dsp_aguro/aguro_tcn\" target=\"_blank\">Weights & Biases</a> (<a href=\"https://wandb.me/run\" target=\"_blank\">docs</a>)<br/>Sweep page: <a href=\"https://wandb.ai/dsp_aguro/aguro_tcn/sweeps/9vw7gd6y\" target=\"_blank\">https://wandb.ai/dsp_aguro/aguro_tcn/sweeps/9vw7gd6y</a>"
            ],
            "text/plain": [
              "<IPython.core.display.HTML object>"
            ]
          },
          "metadata": {},
          "output_type": "display_data"
        },
        {
          "data": {
            "text/html": [
              " View project at <a href=\"https://wandb.ai/dsp_aguro/aguro_tcn\" target=\"_blank\">https://wandb.ai/dsp_aguro/aguro_tcn</a>"
            ],
            "text/plain": [
              "<IPython.core.display.HTML object>"
            ]
          },
          "metadata": {},
          "output_type": "display_data"
        },
        {
          "data": {
            "text/html": [
              " View sweep at <a href=\"https://wandb.ai/dsp_aguro/aguro_tcn/sweeps/9vw7gd6y\" target=\"_blank\">https://wandb.ai/dsp_aguro/aguro_tcn/sweeps/9vw7gd6y</a>"
            ],
            "text/plain": [
              "<IPython.core.display.HTML object>"
            ]
          },
          "metadata": {},
          "output_type": "display_data"
        },
        {
          "data": {
            "text/html": [
              " View run at <a href=\"https://wandb.ai/dsp_aguro/aguro_tcn/runs/hl5kfnxz\" target=\"_blank\">https://wandb.ai/dsp_aguro/aguro_tcn/runs/hl5kfnxz</a>"
            ],
            "text/plain": [
              "<IPython.core.display.HTML object>"
            ]
          },
          "metadata": {},
          "output_type": "display_data"
        },
        {
          "name": "stdout",
          "output_type": "stream",
          "text": [
            "Epoch 1/500\n",
            " 6/61 [=>............................] - ETA: 4s - loss: 2.4770 - mae: 1.7197 - root_mean_squared_error: 2.4770"
          ]
        },
        {
          "name": "stderr",
          "output_type": "stream",
          "text": [
            "WARNING:tensorflow:Callback method `on_train_batch_end` is slow compared to the batch time (batch time: 0.0256s vs `on_train_batch_end` time: 0.0553s). Check your callbacks.\n"
          ]
        },
        {
          "name": "stdout",
          "output_type": "stream",
          "text": [
            "60/61 [============================>.] - ETA: 0s - loss: 0.4726 - mae: 0.3471 - root_mean_squared_error: 0.4726"
          ]
        },
        {
          "name": "stderr",
          "output_type": "stream",
          "text": [
            "WARNING:absl:Found untraced functions such as residual_block_0_layer_call_fn, residual_block_0_layer_call_and_return_conditional_losses, residual_block_1_layer_call_fn, residual_block_1_layer_call_and_return_conditional_losses, residual_block_2_layer_call_fn while saving (showing 5 of 257). These functions will not be directly callable after loading.\n",
            "\u001b[34m\u001b[1mwandb\u001b[0m: Adding directory to artifact (/content/wandb/run-20230124_121640-hl5kfnxz/files/model-best)... Done. 0.0s\n"
          ]
        },
        {
          "name": "stdout",
          "output_type": "stream",
          "text": [
            "\b\b\b\b\b\b\b\b\b\b\b\b\b\b\b\b\b\b\b\b\b\b\b\b\b\b\b\b\b\b\b\b\b\b\b\b\b\b\b\b\b\b\b\b\b\b\b\b\b\b\b\b\b\b\b\b\b\b\b\b\b\b\b\b\b\b\b\b\b\b\b\b\b\b\b\b\b\b\b\b\b\b\b\b\b\b\b\b\b\b\b\b\b\b\b\b\b\b\b\b\b\b\b\b\b\b\b\b\b\b\b\r61/61 [==============================] - 19s 245ms/step - loss: 0.4694 - mae: 0.3448 - root_mean_squared_error: 0.4683 - val_loss: 0.1796 - val_mae: 0.1578 - val_root_mean_squared_error: 0.1819 - lr: 0.0428\n",
            "Epoch 2/500\n",
            "61/61 [==============================] - ETA: 0s - loss: 0.2170 - mae: 0.1649 - root_mean_squared_error: 0.2170"
          ]
        },
        {
          "name": "stderr",
          "output_type": "stream",
          "text": [
            "WARNING:absl:Found untraced functions such as residual_block_0_layer_call_fn, residual_block_0_layer_call_and_return_conditional_losses, residual_block_1_layer_call_fn, residual_block_1_layer_call_and_return_conditional_losses, residual_block_2_layer_call_fn while saving (showing 5 of 257). These functions will not be directly callable after loading.\n",
            "\u001b[34m\u001b[1mwandb\u001b[0m: Adding directory to artifact (/content/wandb/run-20230124_121640-hl5kfnxz/files/model-best)... Done. 0.0s\n"
          ]
        },
        {
          "name": "stdout",
          "output_type": "stream",
          "text": [
            "\b\b\b\b\b\b\b\b\b\b\b\b\b\b\b\b\b\b\b\b\b\b\b\b\b\b\b\b\b\b\b\b\b\b\b\b\b\b\b\b\b\b\b\b\b\b\b\b\b\b\b\b\b\b\b\b\b\b\b\b\b\b\b\b\b\b\b\b\b\b\b\b\b\b\b\b\b\b\b\b\b\b\b\b\b\b\b\b\b\b\b\b\b\b\b\b\b\b\b\b\b\b\b\b\b\b\b\b\b\b\b\r61/61 [==============================] - 15s 254ms/step - loss: 0.2170 - mae: 0.1649 - root_mean_squared_error: 0.2170 - val_loss: 0.1774 - val_mae: 0.1555 - val_root_mean_squared_error: 0.1796 - lr: 0.0428\n",
            "Epoch 3/500\n",
            "61/61 [==============================] - 4s 66ms/step - loss: 0.2170 - mae: 0.1647 - root_mean_squared_error: 0.2169 - val_loss: 0.1815 - val_mae: 0.1598 - val_root_mean_squared_error: 0.1837 - lr: 0.0428\n",
            "Epoch 4/500\n",
            "61/61 [==============================] - ETA: 0s - loss: 0.2169 - mae: 0.1649 - root_mean_squared_error: 0.2168"
          ]
        },
        {
          "name": "stderr",
          "output_type": "stream",
          "text": [
            "WARNING:absl:Found untraced functions such as residual_block_0_layer_call_fn, residual_block_0_layer_call_and_return_conditional_losses, residual_block_1_layer_call_fn, residual_block_1_layer_call_and_return_conditional_losses, residual_block_2_layer_call_fn while saving (showing 5 of 257). These functions will not be directly callable after loading.\n",
            "\u001b[34m\u001b[1mwandb\u001b[0m: Adding directory to artifact (/content/wandb/run-20230124_121640-hl5kfnxz/files/model-best)... Done. 0.0s\n"
          ]
        },
        {
          "name": "stdout",
          "output_type": "stream",
          "text": [
            "\b\b\b\b\b\b\b\b\b\b\b\b\b\b\b\b\b\b\b\b\b\b\b\b\b\b\b\b\b\b\b\b\b\b\b\b\b\b\b\b\b\b\b\b\b\b\b\b\b\b\b\b\b\b\b\b\b\b\b\b\b\b\b\b\b\b\b\b\b\b\b\b\b\b\b\b\b\b\b\b\b\b\b\b\b\b\b\b\b\b\b\b\b\b\b\b\b\b\b\b\b\b\b\b\b\b\b\b\b\b\b\r61/61 [==============================] - 14s 231ms/step - loss: 0.2169 - mae: 0.1649 - root_mean_squared_error: 0.2168 - val_loss: 0.1722 - val_mae: 0.1499 - val_root_mean_squared_error: 0.1743 - lr: 0.0428\n",
            "Epoch 5/500\n",
            "61/61 [==============================] - ETA: 0s - loss: 0.2168 - mae: 0.1648 - root_mean_squared_error: 0.2168"
          ]
        },
        {
          "name": "stderr",
          "output_type": "stream",
          "text": [
            "WARNING:absl:Found untraced functions such as residual_block_0_layer_call_fn, residual_block_0_layer_call_and_return_conditional_losses, residual_block_1_layer_call_fn, residual_block_1_layer_call_and_return_conditional_losses, residual_block_2_layer_call_fn while saving (showing 5 of 257). These functions will not be directly callable after loading.\n",
            "\u001b[34m\u001b[1mwandb\u001b[0m: Adding directory to artifact (/content/wandb/run-20230124_121640-hl5kfnxz/files/model-best)... Done. 0.0s\n"
          ]
        },
        {
          "name": "stdout",
          "output_type": "stream",
          "text": [
            "\b\b\b\b\b\b\b\b\b\b\b\b\b\b\b\b\b\b\b\b\b\b\b\b\b\b\b\b\b\b\b\b\b\b\b\b\b\b\b\b\b\b\b\b\b\b\b\b\b\b\b\b\b\b\b\b\b\b\b\b\b\b\b\b\b\b\b\b\b\b\b\b\b\b\b\b\b\b\b\b\b\b\b\b\b\b\b\b\b\b\b\b\b\b\b\b\b\b\b\b\b\b\b\b\b\b\b\b\b\b\b\r61/61 [==============================] - 14s 231ms/step - loss: 0.2168 - mae: 0.1648 - root_mean_squared_error: 0.2168 - val_loss: 0.1703 - val_mae: 0.1479 - val_root_mean_squared_error: 0.1724 - lr: 0.0428\n",
            "Epoch 6/500\n",
            "61/61 [==============================] - 4s 66ms/step - loss: 0.2169 - mae: 0.1647 - root_mean_squared_error: 0.2170 - val_loss: 0.1780 - val_mae: 0.1561 - val_root_mean_squared_error: 0.1802 - lr: 0.0428\n",
            "Epoch 7/500\n",
            "61/61 [==============================] - 4s 64ms/step - loss: 0.2169 - mae: 0.1649 - root_mean_squared_error: 0.2170 - val_loss: 0.1776 - val_mae: 0.1557 - val_root_mean_squared_error: 0.1798 - lr: 0.0428\n",
            "Epoch 8/500\n",
            "61/61 [==============================] - 4s 65ms/step - loss: 0.2170 - mae: 0.1650 - root_mean_squared_error: 0.2169 - val_loss: 0.1815 - val_mae: 0.1598 - val_root_mean_squared_error: 0.1837 - lr: 0.0428\n",
            "Epoch 9/500\n",
            "61/61 [==============================] - 4s 65ms/step - loss: 0.2169 - mae: 0.1647 - root_mean_squared_error: 0.2169 - val_loss: 0.1796 - val_mae: 0.1578 - val_root_mean_squared_error: 0.1818 - lr: 0.0428\n",
            "Epoch 10/500\n",
            "61/61 [==============================] - 4s 65ms/step - loss: 0.2169 - mae: 0.1651 - root_mean_squared_error: 0.2169 - val_loss: 0.1738 - val_mae: 0.1516 - val_root_mean_squared_error: 0.1760 - lr: 0.0428\n",
            "Epoch 11/500\n",
            "61/61 [==============================] - 4s 65ms/step - loss: 0.2172 - mae: 0.1651 - root_mean_squared_error: 0.2172 - val_loss: 0.1775 - val_mae: 0.1554 - val_root_mean_squared_error: 0.1797 - lr: 0.0428\n",
            "Epoch 12/500\n",
            "61/61 [==============================] - 4s 64ms/step - loss: 0.2170 - mae: 0.1648 - root_mean_squared_error: 0.2171 - val_loss: 0.1747 - val_mae: 0.1526 - val_root_mean_squared_error: 0.1768 - lr: 0.0428\n",
            "Epoch 13/500\n",
            "61/61 [==============================] - 4s 66ms/step - loss: 0.2170 - mae: 0.1649 - root_mean_squared_error: 0.2170 - val_loss: 0.1760 - val_mae: 0.1540 - val_root_mean_squared_error: 0.1782 - lr: 0.0428\n",
            "Epoch 14/500\n",
            "61/61 [==============================] - 4s 65ms/step - loss: 0.2170 - mae: 0.1647 - root_mean_squared_error: 0.2170 - val_loss: 0.1859 - val_mae: 0.1645 - val_root_mean_squared_error: 0.1882 - lr: 0.0428\n",
            "Epoch 15/500\n",
            "61/61 [==============================] - 4s 64ms/step - loss: 0.2170 - mae: 0.1649 - root_mean_squared_error: 0.2170 - val_loss: 0.1834 - val_mae: 0.1619 - val_root_mean_squared_error: 0.1857 - lr: 0.0428\n",
            "Epoch 16/500\n",
            "61/61 [==============================] - 4s 67ms/step - loss: 0.2168 - mae: 0.1650 - root_mean_squared_error: 0.2168 - val_loss: 0.1751 - val_mae: 0.1531 - val_root_mean_squared_error: 0.1773 - lr: 0.0043\n",
            "Epoch 17/500\n",
            "61/61 [==============================] - 4s 64ms/step - loss: 0.2168 - mae: 0.1645 - root_mean_squared_error: 0.2168 - val_loss: 0.1762 - val_mae: 0.1542 - val_root_mean_squared_error: 0.1784 - lr: 0.0043\n",
            "Epoch 18/500\n",
            "61/61 [==============================] - 4s 64ms/step - loss: 0.2168 - mae: 0.1648 - root_mean_squared_error: 0.2167 - val_loss: 0.1778 - val_mae: 0.1560 - val_root_mean_squared_error: 0.1800 - lr: 0.0043\n",
            "Epoch 19/500\n",
            "61/61 [==============================] - 4s 64ms/step - loss: 0.2168 - mae: 0.1648 - root_mean_squared_error: 0.2167 - val_loss: 0.1772 - val_mae: 0.1554 - val_root_mean_squared_error: 0.1794 - lr: 0.0043\n",
            "Epoch 20/500\n",
            "61/61 [==============================] - 4s 64ms/step - loss: 0.2168 - mae: 0.1647 - root_mean_squared_error: 0.2169 - val_loss: 0.1783 - val_mae: 0.1565 - val_root_mean_squared_error: 0.1805 - lr: 0.0043\n"
          ]
        },
        {
          "data": {
            "text/html": [
              "Waiting for W&B process to finish... <strong style=\"color:green\">(success).</strong>"
            ],
            "text/plain": [
              "<IPython.core.display.HTML object>"
            ]
          },
          "metadata": {},
          "output_type": "display_data"
        },
        {
          "data": {
            "application/vnd.jupyter.widget-view+json": {
              "model_id": "f8b5d52263d347f4ac52af869afbe16b",
              "version_major": 2,
              "version_minor": 0
            },
            "text/plain": [
              "VBox(children=(Label(value='12.775 MB of 12.775 MB uploaded (0.299 MB deduped)\\r'), FloatProgress(value=1.0, m…"
            ]
          },
          "metadata": {},
          "output_type": "display_data"
        },
        {
          "data": {
            "text/html": [
              "<style>\n",
              "    table.wandb td:nth-child(1) { padding: 0 10px; text-align: left ; width: auto;} td:nth-child(2) {text-align: left ; width: 100%}\n",
              "    .wandb-row { display: flex; flex-direction: row; flex-wrap: wrap; justify-content: flex-start; width: 100% }\n",
              "    .wandb-col { display: flex; flex-direction: column; flex-basis: 100%; flex: 1; padding: 10px; }\n",
              "    </style>\n",
              "<div class=\"wandb-row\"><div class=\"wandb-col\"><h3>Run history:</h3><br/><table class=\"wandb\"><tr><td>epoch</td><td>▁▁▂▂▂▃▃▄▄▄▅▅▅▆▆▇▇▇██</td></tr><tr><td>loss</td><td>█▁▁▁▁▁▁▁▁▁▁▁▁▁▁▁▁▁▁▁</td></tr><tr><td>mae</td><td>█▁▁▁▁▁▁▁▁▁▁▁▁▁▁▁▁▁▁▁</td></tr><tr><td>root_mean_squared_error</td><td>█▁▁▁▁▁▁▁▁▁▁▁▁▁▁▁▁▁▁▁</td></tr><tr><td>val_loss</td><td>▅▄▆▂▁▄▄▆▅▃▄▃▄█▇▃▄▄▄▅</td></tr><tr><td>val_mae</td><td>▅▄▆▂▁▄▄▆▅▃▄▃▄█▇▃▄▄▄▅</td></tr><tr><td>val_root_mean_squared_error</td><td>▅▄▆▂▁▄▄▆▅▃▄▃▄█▇▃▄▄▄▅</td></tr></table><br/></div><div class=\"wandb-col\"><h3>Run summary:</h3><br/><table class=\"wandb\"><tr><td>best_epoch</td><td>4</td></tr><tr><td>best_val_loss</td><td>0.17029</td></tr><tr><td>epoch</td><td>19</td></tr><tr><td>loss</td><td>0.21684</td></tr><tr><td>mae</td><td>0.16466</td></tr><tr><td>root_mean_squared_error</td><td>0.21685</td></tr><tr><td>val_loss</td><td>0.17828</td></tr><tr><td>val_mae</td><td>0.15647</td></tr><tr><td>val_root_mean_squared_error</td><td>0.18049</td></tr></table><br/></div></div>"
            ],
            "text/plain": [
              "<IPython.core.display.HTML object>"
            ]
          },
          "metadata": {},
          "output_type": "display_data"
        },
        {
          "data": {
            "text/html": [
              " View run <strong style=\"color:#cdcd00\">sweepy-sweep-13</strong> at: <a href=\"https://wandb.ai/dsp_aguro/aguro_tcn/runs/hl5kfnxz\" target=\"_blank\">https://wandb.ai/dsp_aguro/aguro_tcn/runs/hl5kfnxz</a><br/>Synced 5 W&B file(s), 1 media file(s), 16 artifact file(s) and 1 other file(s)"
            ],
            "text/plain": [
              "<IPython.core.display.HTML object>"
            ]
          },
          "metadata": {},
          "output_type": "display_data"
        },
        {
          "data": {
            "text/html": [
              "Find logs at: <code>./wandb/run-20230124_121640-hl5kfnxz/logs</code>"
            ],
            "text/plain": [
              "<IPython.core.display.HTML object>"
            ]
          },
          "metadata": {},
          "output_type": "display_data"
        },
        {
          "name": "stderr",
          "output_type": "stream",
          "text": [
            "\u001b[34m\u001b[1mwandb\u001b[0m: Agent Starting Run: rfserwc1 with config:\n",
            "\u001b[34m\u001b[1mwandb\u001b[0m: \tbatch_size: 512\n",
            "\u001b[34m\u001b[1mwandb\u001b[0m: \tdropout_rate: 0.2\n",
            "\u001b[34m\u001b[1mwandb\u001b[0m: \tepochs: 500\n",
            "\u001b[34m\u001b[1mwandb\u001b[0m: \tkernel_size: 3\n",
            "\u001b[34m\u001b[1mwandb\u001b[0m: \tlr: 0.008584975284203678\n",
            "\u001b[34m\u001b[1mwandb\u001b[0m: \tnb_filters: 16\n",
            "\u001b[34m\u001b[1mwandb\u001b[0m: \toptimizer: adam\n",
            "Failed to detect the name of this notebook, you can set it manually with the WANDB_NOTEBOOK_NAME environment variable to enable code saving.\n"
          ]
        },
        {
          "data": {
            "application/vnd.jupyter.widget-view+json": {
              "model_id": "2b9d15b36bab4fd681e19d813c1c47c5",
              "version_major": 2,
              "version_minor": 0
            },
            "text/plain": [
              "VBox(children=(Label(value='Waiting for wandb.init()...\\r'), FloatProgress(value=0.016669141749995713, max=1.0…"
            ]
          },
          "metadata": {},
          "output_type": "display_data"
        },
        {
          "data": {
            "text/html": [
              "Tracking run with wandb version 0.13.9"
            ],
            "text/plain": [
              "<IPython.core.display.HTML object>"
            ]
          },
          "metadata": {},
          "output_type": "display_data"
        },
        {
          "data": {
            "text/html": [
              "Run data is saved locally in <code>/content/wandb/run-20230124_121910-rfserwc1</code>"
            ],
            "text/plain": [
              "<IPython.core.display.HTML object>"
            ]
          },
          "metadata": {},
          "output_type": "display_data"
        },
        {
          "data": {
            "text/html": [
              "Syncing run <strong><a href=\"https://wandb.ai/dsp_aguro/aguro_tcn/runs/rfserwc1\" target=\"_blank\">restful-sweep-14</a></strong> to <a href=\"https://wandb.ai/dsp_aguro/aguro_tcn\" target=\"_blank\">Weights & Biases</a> (<a href=\"https://wandb.me/run\" target=\"_blank\">docs</a>)<br/>Sweep page: <a href=\"https://wandb.ai/dsp_aguro/aguro_tcn/sweeps/9vw7gd6y\" target=\"_blank\">https://wandb.ai/dsp_aguro/aguro_tcn/sweeps/9vw7gd6y</a>"
            ],
            "text/plain": [
              "<IPython.core.display.HTML object>"
            ]
          },
          "metadata": {},
          "output_type": "display_data"
        },
        {
          "data": {
            "text/html": [
              " View project at <a href=\"https://wandb.ai/dsp_aguro/aguro_tcn\" target=\"_blank\">https://wandb.ai/dsp_aguro/aguro_tcn</a>"
            ],
            "text/plain": [
              "<IPython.core.display.HTML object>"
            ]
          },
          "metadata": {},
          "output_type": "display_data"
        },
        {
          "data": {
            "text/html": [
              " View sweep at <a href=\"https://wandb.ai/dsp_aguro/aguro_tcn/sweeps/9vw7gd6y\" target=\"_blank\">https://wandb.ai/dsp_aguro/aguro_tcn/sweeps/9vw7gd6y</a>"
            ],
            "text/plain": [
              "<IPython.core.display.HTML object>"
            ]
          },
          "metadata": {},
          "output_type": "display_data"
        },
        {
          "data": {
            "text/html": [
              " View run at <a href=\"https://wandb.ai/dsp_aguro/aguro_tcn/runs/rfserwc1\" target=\"_blank\">https://wandb.ai/dsp_aguro/aguro_tcn/runs/rfserwc1</a>"
            ],
            "text/plain": [
              "<IPython.core.display.HTML object>"
            ]
          },
          "metadata": {},
          "output_type": "display_data"
        },
        {
          "name": "stdout",
          "output_type": "stream",
          "text": [
            "Epoch 1/500\n",
            "61/61 [==============================] - ETA: 0s - loss: 1.5432 - mae: 1.1562 - root_mean_squared_error: 1.5379"
          ]
        },
        {
          "name": "stderr",
          "output_type": "stream",
          "text": [
            "WARNING:absl:Found untraced functions such as residual_block_0_layer_call_fn, residual_block_0_layer_call_and_return_conditional_losses, residual_block_1_layer_call_fn, residual_block_1_layer_call_and_return_conditional_losses, residual_block_2_layer_call_fn while saving (showing 5 of 257). These functions will not be directly callable after loading.\n",
            "\u001b[34m\u001b[1mwandb\u001b[0m: Adding directory to artifact (/content/wandb/run-20230124_121910-rfserwc1/files/model-best)... Done. 0.0s\n"
          ]
        },
        {
          "name": "stdout",
          "output_type": "stream",
          "text": [
            "\b\b\b\b\b\b\b\b\b\b\b\b\b\b\b\b\b\b\b\b\b\b\b\b\b\b\b\b\b\b\b\b\b\b\b\b\b\b\b\b\b\b\b\b\b\b\b\b\b\b\b\b\b\b\b\b\b\b\b\b\b\b\b\b\b\b\b\b\b\b\b\b\b\b\b\b\b\b\b\b\b\b\b\b\b\b\b\b\b\b\b\b\b\b\b\b\b\b\b\b\b\b\b\b\b\b\b\b\b\b\b\r61/61 [==============================] - 18s 215ms/step - loss: 1.5432 - mae: 1.1562 - root_mean_squared_error: 1.5379 - val_loss: 0.2114 - val_mae: 0.1900 - val_root_mean_squared_error: 0.2120 - lr: 0.0086\n",
            "Epoch 2/500\n",
            "61/61 [==============================] - ETA: 0s - loss: 0.2079 - mae: 0.1582 - root_mean_squared_error: 0.2078"
          ]
        },
        {
          "name": "stderr",
          "output_type": "stream",
          "text": [
            "WARNING:absl:Found untraced functions such as residual_block_0_layer_call_fn, residual_block_0_layer_call_and_return_conditional_losses, residual_block_1_layer_call_fn, residual_block_1_layer_call_and_return_conditional_losses, residual_block_2_layer_call_fn while saving (showing 5 of 257). These functions will not be directly callable after loading.\n",
            "\u001b[34m\u001b[1mwandb\u001b[0m: Adding directory to artifact (/content/wandb/run-20230124_121910-rfserwc1/files/model-best)... Done. 0.0s\n"
          ]
        },
        {
          "name": "stdout",
          "output_type": "stream",
          "text": [
            "\b\b\b\b\b\b\b\b\b\b\b\b\b\b\b\b\b\b\b\b\b\b\b\b\b\b\b\b\b\b\b\b\b\b\b\b\b\b\b\b\b\b\b\b\b\b\b\b\b\b\b\b\b\b\b\b\b\b\b\b\b\b\b\b\b\b\b\b\b\b\b\b\b\b\b\b\b\b\b\b\b\b\b\b\b\b\b\b\b\b\b\b\b\b\b\b\b\b\b\b\b\b\b\b\b\b\b\b\b\b\b\r61/61 [==============================] - 12s 198ms/step - loss: 0.2079 - mae: 0.1582 - root_mean_squared_error: 0.2078 - val_loss: 0.1804 - val_mae: 0.1565 - val_root_mean_squared_error: 0.1800 - lr: 0.0086\n",
            "Epoch 3/500\n",
            "60/61 [============================>.] - ETA: 0s - loss: 0.1887 - mae: 0.1405 - root_mean_squared_error: 0.1887"
          ]
        },
        {
          "name": "stderr",
          "output_type": "stream",
          "text": [
            "WARNING:absl:Found untraced functions such as residual_block_0_layer_call_fn, residual_block_0_layer_call_and_return_conditional_losses, residual_block_1_layer_call_fn, residual_block_1_layer_call_and_return_conditional_losses, residual_block_2_layer_call_fn while saving (showing 5 of 257). These functions will not be directly callable after loading.\n",
            "\u001b[34m\u001b[1mwandb\u001b[0m: Adding directory to artifact (/content/wandb/run-20230124_121910-rfserwc1/files/model-best)... Done. 0.0s\n"
          ]
        },
        {
          "name": "stdout",
          "output_type": "stream",
          "text": [
            "\b\b\b\b\b\b\b\b\b\b\b\b\b\b\b\b\b\b\b\b\b\b\b\b\b\b\b\b\b\b\b\b\b\b\b\b\b\b\b\b\b\b\b\b\b\b\b\b\b\b\b\b\b\b\b\b\b\b\b\b\b\b\b\b\b\b\b\b\b\b\b\b\b\b\b\b\b\b\b\b\b\b\b\b\b\b\b\b\b\b\b\b\b\b\b\b\b\b\b\b\b\b\b\b\b\b\b\b\b\b\b\r61/61 [==============================] - 12s 201ms/step - loss: 0.1886 - mae: 0.1404 - root_mean_squared_error: 0.1885 - val_loss: 0.1623 - val_mae: 0.1356 - val_root_mean_squared_error: 0.1619 - lr: 0.0086\n",
            "Epoch 4/500\n",
            "61/61 [==============================] - ETA: 0s - loss: 0.1807 - mae: 0.1327 - root_mean_squared_error: 0.1806"
          ]
        },
        {
          "name": "stderr",
          "output_type": "stream",
          "text": [
            "WARNING:absl:Found untraced functions such as residual_block_0_layer_call_fn, residual_block_0_layer_call_and_return_conditional_losses, residual_block_1_layer_call_fn, residual_block_1_layer_call_and_return_conditional_losses, residual_block_2_layer_call_fn while saving (showing 5 of 257). These functions will not be directly callable after loading.\n",
            "\u001b[34m\u001b[1mwandb\u001b[0m: Adding directory to artifact (/content/wandb/run-20230124_121910-rfserwc1/files/model-best)... Done. 0.0s\n"
          ]
        },
        {
          "name": "stdout",
          "output_type": "stream",
          "text": [
            "\b\b\b\b\b\b\b\b\b\b\b\b\b\b\b\b\b\b\b\b\b\b\b\b\b\b\b\b\b\b\b\b\b\b\b\b\b\b\b\b\b\b\b\b\b\b\b\b\b\b\b\b\b\b\b\b\b\b\b\b\b\b\b\b\b\b\b\b\b\b\b\b\b\b\b\b\b\b\b\b\b\b\b\b\b\b\b\b\b\b\b\b\b\b\b\b\b\b\b\b\b\b\b\b\b\b\b\b\b\b\b\r61/61 [==============================] - 12s 201ms/step - loss: 0.1807 - mae: 0.1327 - root_mean_squared_error: 0.1806 - val_loss: 0.1528 - val_mae: 0.1228 - val_root_mean_squared_error: 0.1520 - lr: 0.0086\n",
            "Epoch 5/500\n",
            "61/61 [==============================] - 2s 35ms/step - loss: 0.1754 - mae: 0.1280 - root_mean_squared_error: 0.1755 - val_loss: 0.1590 - val_mae: 0.1309 - val_root_mean_squared_error: 0.1584 - lr: 0.0086\n",
            "Epoch 6/500\n",
            "61/61 [==============================] - 2s 32ms/step - loss: 0.1723 - mae: 0.1254 - root_mean_squared_error: 0.1722 - val_loss: 0.1630 - val_mae: 0.1358 - val_root_mean_squared_error: 0.1625 - lr: 0.0086\n",
            "Epoch 7/500\n",
            "61/61 [==============================] - 2s 33ms/step - loss: 0.1697 - mae: 0.1232 - root_mean_squared_error: 0.1697 - val_loss: 0.1545 - val_mae: 0.1263 - val_root_mean_squared_error: 0.1539 - lr: 0.0086\n",
            "Epoch 8/500\n",
            "61/61 [==============================] - ETA: 0s - loss: 0.1671 - mae: 0.1210 - root_mean_squared_error: 0.1672"
          ]
        },
        {
          "name": "stderr",
          "output_type": "stream",
          "text": [
            "WARNING:absl:Found untraced functions such as residual_block_0_layer_call_fn, residual_block_0_layer_call_and_return_conditional_losses, residual_block_1_layer_call_fn, residual_block_1_layer_call_and_return_conditional_losses, residual_block_2_layer_call_fn while saving (showing 5 of 257). These functions will not be directly callable after loading.\n",
            "\u001b[34m\u001b[1mwandb\u001b[0m: Adding directory to artifact (/content/wandb/run-20230124_121910-rfserwc1/files/model-best)... Done. 0.0s\n"
          ]
        },
        {
          "name": "stdout",
          "output_type": "stream",
          "text": [
            "\b\b\b\b\b\b\b\b\b\b\b\b\b\b\b\b\b\b\b\b\b\b\b\b\b\b\b\b\b\b\b\b\b\b\b\b\b\b\b\b\b\b\b\b\b\b\b\b\b\b\b\b\b\b\b\b\b\b\b\b\b\b\b\b\b\b\b\b\b\b\b\b\b\b\b\b\b\b\b\b\b\b\b\b\b\b\b\b\b\b\b\b\b\b\b\b\b\b\b\b\b\b\b\b\b\b\b\b\b\b\b\r61/61 [==============================] - 12s 202ms/step - loss: 0.1671 - mae: 0.1210 - root_mean_squared_error: 0.1672 - val_loss: 0.1503 - val_mae: 0.1214 - val_root_mean_squared_error: 0.1497 - lr: 0.0086\n",
            "Epoch 9/500\n",
            "61/61 [==============================] - 2s 35ms/step - loss: 0.1652 - mae: 0.1193 - root_mean_squared_error: 0.1653 - val_loss: 0.1517 - val_mae: 0.1227 - val_root_mean_squared_error: 0.1510 - lr: 0.0086\n",
            "Epoch 10/500\n",
            "61/61 [==============================] - 2s 32ms/step - loss: 0.1636 - mae: 0.1180 - root_mean_squared_error: 0.1636 - val_loss: 0.1540 - val_mae: 0.1262 - val_root_mean_squared_error: 0.1535 - lr: 0.0086\n",
            "Epoch 11/500\n",
            "61/61 [==============================] - 2s 32ms/step - loss: 0.1623 - mae: 0.1166 - root_mean_squared_error: 0.1623 - val_loss: 0.1554 - val_mae: 0.1270 - val_root_mean_squared_error: 0.1547 - lr: 0.0086\n",
            "Epoch 12/500\n",
            "61/61 [==============================] - 2s 32ms/step - loss: 0.1615 - mae: 0.1162 - root_mean_squared_error: 0.1615 - val_loss: 0.1547 - val_mae: 0.1268 - val_root_mean_squared_error: 0.1538 - lr: 0.0086\n",
            "Epoch 13/500\n",
            "61/61 [==============================] - ETA: 0s - loss: 0.1610 - mae: 0.1155 - root_mean_squared_error: 0.1609"
          ]
        },
        {
          "name": "stderr",
          "output_type": "stream",
          "text": [
            "WARNING:absl:Found untraced functions such as residual_block_0_layer_call_fn, residual_block_0_layer_call_and_return_conditional_losses, residual_block_1_layer_call_fn, residual_block_1_layer_call_and_return_conditional_losses, residual_block_2_layer_call_fn while saving (showing 5 of 257). These functions will not be directly callable after loading.\n",
            "\u001b[34m\u001b[1mwandb\u001b[0m: Adding directory to artifact (/content/wandb/run-20230124_121910-rfserwc1/files/model-best)... Done. 0.0s\n"
          ]
        },
        {
          "name": "stdout",
          "output_type": "stream",
          "text": [
            "\b\b\b\b\b\b\b\b\b\b\b\b\b\b\b\b\b\b\b\b\b\b\b\b\b\b\b\b\b\b\b\b\b\b\b\b\b\b\b\b\b\b\b\b\b\b\b\b\b\b\b\b\b\b\b\b\b\b\b\b\b\b\b\b\b\b\b\b\b\b\b\b\b\b\b\b\b\b\b\b\b\b\b\b\b\b\b\b\b\b\b\b\b\b\b\b\b\b\b\b\b\b\b\b\b\b\b\b\b\b\b\r61/61 [==============================] - 12s 197ms/step - loss: 0.1610 - mae: 0.1155 - root_mean_squared_error: 0.1609 - val_loss: 0.1503 - val_mae: 0.1215 - val_root_mean_squared_error: 0.1495 - lr: 0.0086\n",
            "Epoch 14/500\n",
            "61/61 [==============================] - 2s 34ms/step - loss: 0.1595 - mae: 0.1142 - root_mean_squared_error: 0.1595 - val_loss: 0.1510 - val_mae: 0.1231 - val_root_mean_squared_error: 0.1504 - lr: 0.0086\n",
            "Epoch 15/500\n",
            "61/61 [==============================] - 2s 32ms/step - loss: 0.1587 - mae: 0.1135 - root_mean_squared_error: 0.1587 - val_loss: 0.1517 - val_mae: 0.1222 - val_root_mean_squared_error: 0.1508 - lr: 0.0086\n",
            "Epoch 16/500\n",
            "61/61 [==============================] - 2s 32ms/step - loss: 0.1582 - mae: 0.1131 - root_mean_squared_error: 0.1582 - val_loss: 0.1504 - val_mae: 0.1210 - val_root_mean_squared_error: 0.1492 - lr: 0.0086\n",
            "Epoch 17/500\n",
            "61/61 [==============================] - ETA: 0s - loss: 0.1575 - mae: 0.1125 - root_mean_squared_error: 0.1575"
          ]
        },
        {
          "name": "stderr",
          "output_type": "stream",
          "text": [
            "WARNING:absl:Found untraced functions such as residual_block_0_layer_call_fn, residual_block_0_layer_call_and_return_conditional_losses, residual_block_1_layer_call_fn, residual_block_1_layer_call_and_return_conditional_losses, residual_block_2_layer_call_fn while saving (showing 5 of 257). These functions will not be directly callable after loading.\n",
            "\u001b[34m\u001b[1mwandb\u001b[0m: Adding directory to artifact (/content/wandb/run-20230124_121910-rfserwc1/files/model-best)... Done. 0.0s\n"
          ]
        },
        {
          "name": "stdout",
          "output_type": "stream",
          "text": [
            "\b\b\b\b\b\b\b\b\b\b\b\b\b\b\b\b\b\b\b\b\b\b\b\b\b\b\b\b\b\b\b\b\b\b\b\b\b\b\b\b\b\b\b\b\b\b\b\b\b\b\b\b\b\b\b\b\b\b\b\b\b\b\b\b\b\b\b\b\b\b\b\b\b\b\b\b\b\b\b\b\b\b\b\b\b\b\b\b\b\b\b\b\b\b\b\b\b\b\b\b\b\b\b\b\b\b\b\b\b\b\b\r61/61 [==============================] - 12s 196ms/step - loss: 0.1575 - mae: 0.1125 - root_mean_squared_error: 0.1575 - val_loss: 0.1470 - val_mae: 0.1172 - val_root_mean_squared_error: 0.1458 - lr: 0.0086\n",
            "Epoch 18/500\n",
            "61/61 [==============================] - 2s 35ms/step - loss: 0.1570 - mae: 0.1119 - root_mean_squared_error: 0.1569 - val_loss: 0.1537 - val_mae: 0.1264 - val_root_mean_squared_error: 0.1529 - lr: 0.0086\n",
            "Epoch 19/500\n",
            "61/61 [==============================] - ETA: 0s - loss: 0.1562 - mae: 0.1114 - root_mean_squared_error: 0.1562"
          ]
        },
        {
          "name": "stderr",
          "output_type": "stream",
          "text": [
            "WARNING:absl:Found untraced functions such as residual_block_0_layer_call_fn, residual_block_0_layer_call_and_return_conditional_losses, residual_block_1_layer_call_fn, residual_block_1_layer_call_and_return_conditional_losses, residual_block_2_layer_call_fn while saving (showing 5 of 257). These functions will not be directly callable after loading.\n",
            "\u001b[34m\u001b[1mwandb\u001b[0m: Adding directory to artifact (/content/wandb/run-20230124_121910-rfserwc1/files/model-best)... Done. 0.0s\n"
          ]
        },
        {
          "name": "stdout",
          "output_type": "stream",
          "text": [
            "\b\b\b\b\b\b\b\b\b\b\b\b\b\b\b\b\b\b\b\b\b\b\b\b\b\b\b\b\b\b\b\b\b\b\b\b\b\b\b\b\b\b\b\b\b\b\b\b\b\b\b\b\b\b\b\b\b\b\b\b\b\b\b\b\b\b\b\b\b\b\b\b\b\b\b\b\b\b\b\b\b\b\b\b\b\b\b\b\b\b\b\b\b\b\b\b\b\b\b\b\b\b\b\b\b\b\b\b\b\b\b\r61/61 [==============================] - 12s 200ms/step - loss: 0.1562 - mae: 0.1114 - root_mean_squared_error: 0.1562 - val_loss: 0.1454 - val_mae: 0.1157 - val_root_mean_squared_error: 0.1444 - lr: 0.0086\n",
            "Epoch 20/500\n",
            "61/61 [==============================] - 2s 34ms/step - loss: 0.1558 - mae: 0.1110 - root_mean_squared_error: 0.1557 - val_loss: 0.1475 - val_mae: 0.1190 - val_root_mean_squared_error: 0.1466 - lr: 0.0086\n",
            "Epoch 21/500\n",
            "61/61 [==============================] - 2s 32ms/step - loss: 0.1554 - mae: 0.1106 - root_mean_squared_error: 0.1554 - val_loss: 0.1553 - val_mae: 0.1284 - val_root_mean_squared_error: 0.1544 - lr: 0.0086\n",
            "Epoch 22/500\n",
            "61/61 [==============================] - 2s 32ms/step - loss: 0.1545 - mae: 0.1099 - root_mean_squared_error: 0.1546 - val_loss: 0.1477 - val_mae: 0.1182 - val_root_mean_squared_error: 0.1468 - lr: 0.0086\n",
            "Epoch 23/500\n",
            "61/61 [==============================] - 2s 32ms/step - loss: 0.1551 - mae: 0.1104 - root_mean_squared_error: 0.1552 - val_loss: 0.1543 - val_mae: 0.1282 - val_root_mean_squared_error: 0.1535 - lr: 0.0086\n",
            "Epoch 24/500\n",
            "61/61 [==============================] - 2s 32ms/step - loss: 0.1542 - mae: 0.1098 - root_mean_squared_error: 0.1542 - val_loss: 0.1506 - val_mae: 0.1222 - val_root_mean_squared_error: 0.1497 - lr: 0.0086\n",
            "Epoch 25/500\n",
            "61/61 [==============================] - 2s 32ms/step - loss: 0.1536 - mae: 0.1089 - root_mean_squared_error: 0.1536 - val_loss: 0.1548 - val_mae: 0.1273 - val_root_mean_squared_error: 0.1539 - lr: 0.0086\n",
            "Epoch 26/500\n",
            "61/61 [==============================] - 2s 32ms/step - loss: 0.1536 - mae: 0.1092 - root_mean_squared_error: 0.1536 - val_loss: 0.1463 - val_mae: 0.1166 - val_root_mean_squared_error: 0.1451 - lr: 0.0086\n",
            "Epoch 27/500\n",
            "61/61 [==============================] - 2s 32ms/step - loss: 0.1536 - mae: 0.1090 - root_mean_squared_error: 0.1536 - val_loss: 0.1507 - val_mae: 0.1233 - val_root_mean_squared_error: 0.1498 - lr: 0.0086\n",
            "Epoch 28/500\n",
            "61/61 [==============================] - 2s 32ms/step - loss: 0.1532 - mae: 0.1087 - root_mean_squared_error: 0.1532 - val_loss: 0.1555 - val_mae: 0.1293 - val_root_mean_squared_error: 0.1548 - lr: 0.0086\n",
            "Epoch 29/500\n",
            "61/61 [==============================] - 2s 33ms/step - loss: 0.1526 - mae: 0.1080 - root_mean_squared_error: 0.1526 - val_loss: 0.1460 - val_mae: 0.1171 - val_root_mean_squared_error: 0.1450 - lr: 0.0086\n",
            "Epoch 30/500\n",
            "61/61 [==============================] - 2s 33ms/step - loss: 0.1514 - mae: 0.1070 - root_mean_squared_error: 0.1515 - val_loss: 0.1490 - val_mae: 0.1210 - val_root_mean_squared_error: 0.1480 - lr: 8.5850e-04\n",
            "Epoch 31/500\n",
            "61/61 [==============================] - 2s 33ms/step - loss: 0.1507 - mae: 0.1067 - root_mean_squared_error: 0.1507 - val_loss: 0.1485 - val_mae: 0.1205 - val_root_mean_squared_error: 0.1475 - lr: 8.5850e-04\n",
            "Epoch 32/500\n",
            "61/61 [==============================] - 2s 32ms/step - loss: 0.1504 - mae: 0.1063 - root_mean_squared_error: 0.1504 - val_loss: 0.1472 - val_mae: 0.1190 - val_root_mean_squared_error: 0.1462 - lr: 8.5850e-04\n",
            "Epoch 33/500\n",
            "61/61 [==============================] - 2s 33ms/step - loss: 0.1508 - mae: 0.1064 - root_mean_squared_error: 0.1508 - val_loss: 0.1471 - val_mae: 0.1191 - val_root_mean_squared_error: 0.1461 - lr: 8.5850e-04\n",
            "Epoch 34/500\n",
            "61/61 [==============================] - 2s 33ms/step - loss: 0.1503 - mae: 0.1060 - root_mean_squared_error: 0.1503 - val_loss: 0.1477 - val_mae: 0.1193 - val_root_mean_squared_error: 0.1467 - lr: 8.5850e-04\n"
          ]
        },
        {
          "data": {
            "text/html": [
              "Waiting for W&B process to finish... <strong style=\"color:green\">(success).</strong>"
            ],
            "text/plain": [
              "<IPython.core.display.HTML object>"
            ]
          },
          "metadata": {},
          "output_type": "display_data"
        },
        {
          "data": {
            "text/html": [
              "<style>\n",
              "    table.wandb td:nth-child(1) { padding: 0 10px; text-align: left ; width: auto;} td:nth-child(2) {text-align: left ; width: 100%}\n",
              "    .wandb-row { display: flex; flex-direction: row; flex-wrap: wrap; justify-content: flex-start; width: 100% }\n",
              "    .wandb-col { display: flex; flex-direction: column; flex-basis: 100%; flex: 1; padding: 10px; }\n",
              "    </style>\n",
              "<div class=\"wandb-row\"><div class=\"wandb-col\"><h3>Run history:</h3><br/><table class=\"wandb\"><tr><td>epoch</td><td>▁▁▁▂▂▂▂▂▃▃▃▃▄▄▄▄▄▅▅▅▅▅▆▆▆▆▇▇▇▇▇███</td></tr><tr><td>loss</td><td>█▁▁▁▁▁▁▁▁▁▁▁▁▁▁▁▁▁▁▁▁▁▁▁▁▁▁▁▁▁▁▁▁▁</td></tr><tr><td>mae</td><td>█▁▁▁▁▁▁▁▁▁▁▁▁▁▁▁▁▁▁▁▁▁▁▁▁▁▁▁▁▁▁▁▁▁</td></tr><tr><td>root_mean_squared_error</td><td>█▁▁▁▁▁▁▁▁▁▁▁▁▁▁▁▁▁▁▁▁▁▁▁▁▁▁▁▁▁▁▁▁▁</td></tr><tr><td>val_loss</td><td>█▅▃▂▂▃▂▂▂▂▂▂▂▂▂▂▁▂▁▁▂▁▂▂▂▁▂▂▁▁▁▁▁▁</td></tr><tr><td>val_mae</td><td>█▅▃▂▂▃▂▂▂▂▂▂▂▂▂▂▁▂▁▁▂▁▂▂▂▁▂▂▁▁▁▁▁▁</td></tr><tr><td>val_root_mean_squared_error</td><td>█▅▃▂▂▃▂▂▂▂▂▂▂▂▂▂▁▂▁▁▂▁▂▂▂▁▂▂▁▁▁▁▁▁</td></tr></table><br/></div><div class=\"wandb-col\"><h3>Run summary:</h3><br/><table class=\"wandb\"><tr><td>best_epoch</td><td>18</td></tr><tr><td>best_val_loss</td><td>0.14542</td></tr><tr><td>epoch</td><td>33</td></tr><tr><td>loss</td><td>0.15034</td></tr><tr><td>mae</td><td>0.10604</td></tr><tr><td>root_mean_squared_error</td><td>0.15032</td></tr><tr><td>val_loss</td><td>0.14767</td></tr><tr><td>val_mae</td><td>0.11935</td></tr><tr><td>val_root_mean_squared_error</td><td>0.14667</td></tr></table><br/></div></div>"
            ],
            "text/plain": [
              "<IPython.core.display.HTML object>"
            ]
          },
          "metadata": {},
          "output_type": "display_data"
        },
        {
          "data": {
            "text/html": [
              " View run <strong style=\"color:#cdcd00\">restful-sweep-14</strong> at: <a href=\"https://wandb.ai/dsp_aguro/aguro_tcn/runs/rfserwc1\" target=\"_blank\">https://wandb.ai/dsp_aguro/aguro_tcn/runs/rfserwc1</a><br/>Synced 5 W&B file(s), 1 media file(s), 32 artifact file(s) and 1 other file(s)"
            ],
            "text/plain": [
              "<IPython.core.display.HTML object>"
            ]
          },
          "metadata": {},
          "output_type": "display_data"
        },
        {
          "data": {
            "text/html": [
              "Find logs at: <code>./wandb/run-20230124_121910-rfserwc1/logs</code>"
            ],
            "text/plain": [
              "<IPython.core.display.HTML object>"
            ]
          },
          "metadata": {},
          "output_type": "display_data"
        },
        {
          "name": "stderr",
          "output_type": "stream",
          "text": [
            "\u001b[34m\u001b[1mwandb\u001b[0m: Agent Starting Run: ezdsvbzg with config:\n",
            "\u001b[34m\u001b[1mwandb\u001b[0m: \tbatch_size: 512\n",
            "\u001b[34m\u001b[1mwandb\u001b[0m: \tdropout_rate: 0.1\n",
            "\u001b[34m\u001b[1mwandb\u001b[0m: \tepochs: 500\n",
            "\u001b[34m\u001b[1mwandb\u001b[0m: \tkernel_size: 12\n",
            "\u001b[34m\u001b[1mwandb\u001b[0m: \tlr: 0.03869986712501144\n",
            "\u001b[34m\u001b[1mwandb\u001b[0m: \tnb_filters: 16\n",
            "\u001b[34m\u001b[1mwandb\u001b[0m: \toptimizer: adam\n",
            "Failed to detect the name of this notebook, you can set it manually with the WANDB_NOTEBOOK_NAME environment variable to enable code saving.\n"
          ]
        },
        {
          "data": {
            "text/html": [
              "Tracking run with wandb version 0.13.9"
            ],
            "text/plain": [
              "<IPython.core.display.HTML object>"
            ]
          },
          "metadata": {},
          "output_type": "display_data"
        },
        {
          "data": {
            "text/html": [
              "Run data is saved locally in <code>/content/wandb/run-20230124_122245-ezdsvbzg</code>"
            ],
            "text/plain": [
              "<IPython.core.display.HTML object>"
            ]
          },
          "metadata": {},
          "output_type": "display_data"
        },
        {
          "data": {
            "text/html": [
              "Syncing run <strong><a href=\"https://wandb.ai/dsp_aguro/aguro_tcn/runs/ezdsvbzg\" target=\"_blank\">faithful-sweep-15</a></strong> to <a href=\"https://wandb.ai/dsp_aguro/aguro_tcn\" target=\"_blank\">Weights & Biases</a> (<a href=\"https://wandb.me/run\" target=\"_blank\">docs</a>)<br/>Sweep page: <a href=\"https://wandb.ai/dsp_aguro/aguro_tcn/sweeps/9vw7gd6y\" target=\"_blank\">https://wandb.ai/dsp_aguro/aguro_tcn/sweeps/9vw7gd6y</a>"
            ],
            "text/plain": [
              "<IPython.core.display.HTML object>"
            ]
          },
          "metadata": {},
          "output_type": "display_data"
        },
        {
          "data": {
            "text/html": [
              " View project at <a href=\"https://wandb.ai/dsp_aguro/aguro_tcn\" target=\"_blank\">https://wandb.ai/dsp_aguro/aguro_tcn</a>"
            ],
            "text/plain": [
              "<IPython.core.display.HTML object>"
            ]
          },
          "metadata": {},
          "output_type": "display_data"
        },
        {
          "data": {
            "text/html": [
              " View sweep at <a href=\"https://wandb.ai/dsp_aguro/aguro_tcn/sweeps/9vw7gd6y\" target=\"_blank\">https://wandb.ai/dsp_aguro/aguro_tcn/sweeps/9vw7gd6y</a>"
            ],
            "text/plain": [
              "<IPython.core.display.HTML object>"
            ]
          },
          "metadata": {},
          "output_type": "display_data"
        },
        {
          "data": {
            "text/html": [
              " View run at <a href=\"https://wandb.ai/dsp_aguro/aguro_tcn/runs/ezdsvbzg\" target=\"_blank\">https://wandb.ai/dsp_aguro/aguro_tcn/runs/ezdsvbzg</a>"
            ],
            "text/plain": [
              "<IPython.core.display.HTML object>"
            ]
          },
          "metadata": {},
          "output_type": "display_data"
        },
        {
          "name": "stdout",
          "output_type": "stream",
          "text": [
            "Epoch 1/500\n",
            " 6/61 [=>............................] - ETA: 4s - loss: 0.6669 - mae: 0.5562 - root_mean_squared_error: 0.6669"
          ]
        },
        {
          "name": "stderr",
          "output_type": "stream",
          "text": [
            "WARNING:tensorflow:Callback method `on_train_batch_end` is slow compared to the batch time (batch time: 0.0285s vs `on_train_batch_end` time: 0.0680s). Check your callbacks.\n"
          ]
        },
        {
          "name": "stdout",
          "output_type": "stream",
          "text": [
            "61/61 [==============================] - ETA: 0s - loss: 0.2739 - mae: 0.2151 - root_mean_squared_error: 0.2736"
          ]
        },
        {
          "name": "stderr",
          "output_type": "stream",
          "text": [
            "WARNING:absl:Found untraced functions such as residual_block_0_layer_call_fn, residual_block_0_layer_call_and_return_conditional_losses, residual_block_1_layer_call_fn, residual_block_1_layer_call_and_return_conditional_losses, residual_block_2_layer_call_fn while saving (showing 5 of 257). These functions will not be directly callable after loading.\n",
            "\u001b[34m\u001b[1mwandb\u001b[0m: Adding directory to artifact (/content/wandb/run-20230124_122245-ezdsvbzg/files/model-best)... Done. 0.0s\n"
          ]
        },
        {
          "name": "stdout",
          "output_type": "stream",
          "text": [
            "\b\b\b\b\b\b\b\b\b\b\b\b\b\b\b\b\b\b\b\b\b\b\b\b\b\b\b\b\b\b\b\b\b\b\b\b\b\b\b\b\b\b\b\b\b\b\b\b\b\b\b\b\b\b\b\b\b\b\b\b\b\b\b\b\b\b\b\b\b\b\b\b\b\b\b\b\b\b\b\b\b\b\b\b\b\b\b\b\b\b\b\b\b\b\b\b\b\b\b\b\b\b\b\b\b\b\b\b\b\b\b\r61/61 [==============================] - 20s 271ms/step - loss: 0.2739 - mae: 0.2151 - root_mean_squared_error: 0.2736 - val_loss: 0.1628 - val_mae: 0.1396 - val_root_mean_squared_error: 0.1647 - lr: 0.0387\n",
            "Epoch 2/500\n",
            "61/61 [==============================] - 7s 106ms/step - loss: 0.2193 - mae: 0.1670 - root_mean_squared_error: 0.2193 - val_loss: 0.1718 - val_mae: 0.1496 - val_root_mean_squared_error: 0.1739 - lr: 0.0387\n",
            "Epoch 3/500\n",
            "61/61 [==============================] - ETA: 0s - loss: 0.2178 - mae: 0.1657 - root_mean_squared_error: 0.2178"
          ]
        },
        {
          "name": "stderr",
          "output_type": "stream",
          "text": [
            "WARNING:absl:Found untraced functions such as residual_block_0_layer_call_fn, residual_block_0_layer_call_and_return_conditional_losses, residual_block_1_layer_call_fn, residual_block_1_layer_call_and_return_conditional_losses, residual_block_2_layer_call_fn while saving (showing 5 of 257). These functions will not be directly callable after loading.\n",
            "\u001b[34m\u001b[1mwandb\u001b[0m: Adding directory to artifact (/content/wandb/run-20230124_122245-ezdsvbzg/files/model-best)... Done. 0.0s\n"
          ]
        },
        {
          "name": "stdout",
          "output_type": "stream",
          "text": [
            "\b\b\b\b\b\b\b\b\b\b\b\b\b\b\b\b\b\b\b\b\b\b\b\b\b\b\b\b\b\b\b\b\b\b\b\b\b\b\b\b\b\b\b\b\b\b\b\b\b\b\b\b\b\b\b\b\b\b\b\b\b\b\b\b\b\b\b\b\b\b\b\b\b\b\b\b\b\b\b\b\b\b\b\b\b\b\b\b\b\b\b\b\b\b\b\b\b\b\b\b\b\b\b\b\b\b\b\b\b\b\b\r61/61 [==============================] - 16s 270ms/step - loss: 0.2178 - mae: 0.1657 - root_mean_squared_error: 0.2178 - val_loss: 0.1567 - val_mae: 0.1328 - val_root_mean_squared_error: 0.1584 - lr: 0.0387\n",
            "Epoch 4/500\n",
            "61/61 [==============================] - 7s 107ms/step - loss: 0.1988 - mae: 0.1489 - root_mean_squared_error: 0.1987 - val_loss: 0.1577 - val_mae: 0.1309 - val_root_mean_squared_error: 0.1588 - lr: 0.0387\n",
            "Epoch 5/500\n",
            "61/61 [==============================] - 7s 108ms/step - loss: 0.1853 - mae: 0.1383 - root_mean_squared_error: 0.1853 - val_loss: 0.1637 - val_mae: 0.1350 - val_root_mean_squared_error: 0.1641 - lr: 0.0387\n",
            "Epoch 6/500\n",
            "61/61 [==============================] - ETA: 0s - loss: 0.1786 - mae: 0.1323 - root_mean_squared_error: 0.1786"
          ]
        },
        {
          "name": "stderr",
          "output_type": "stream",
          "text": [
            "WARNING:absl:Found untraced functions such as residual_block_0_layer_call_fn, residual_block_0_layer_call_and_return_conditional_losses, residual_block_1_layer_call_fn, residual_block_1_layer_call_and_return_conditional_losses, residual_block_2_layer_call_fn while saving (showing 5 of 257). These functions will not be directly callable after loading.\n",
            "\u001b[34m\u001b[1mwandb\u001b[0m: Adding directory to artifact (/content/wandb/run-20230124_122245-ezdsvbzg/files/model-best)... Done. 0.0s\n"
          ]
        },
        {
          "name": "stdout",
          "output_type": "stream",
          "text": [
            "\b\b\b\b\b\b\b\b\b\b\b\b\b\b\b\b\b\b\b\b\b\b\b\b\b\b\b\b\b\b\b\b\b\b\b\b\b\b\b\b\b\b\b\b\b\b\b\b\b\b\b\b\b\b\b\b\b\b\b\b\b\b\b\b\b\b\b\b\b\b\b\b\b\b\b\b\b\b\b\b\b\b\b\b\b\b\b\b\b\b\b\b\b\b\b\b\b\b\b\b\b\b\b\b\b\b\b\b\b\b\b\r61/61 [==============================] - 16s 271ms/step - loss: 0.1786 - mae: 0.1323 - root_mean_squared_error: 0.1786 - val_loss: 0.1401 - val_mae: 0.1042 - val_root_mean_squared_error: 0.1401 - lr: 0.0387\n",
            "Epoch 7/500\n",
            "61/61 [==============================] - 7s 108ms/step - loss: 0.1757 - mae: 0.1305 - root_mean_squared_error: 0.1756 - val_loss: 0.1472 - val_mae: 0.1123 - val_root_mean_squared_error: 0.1463 - lr: 0.0387\n",
            "Epoch 8/500\n",
            "61/61 [==============================] - 7s 107ms/step - loss: 0.1705 - mae: 0.1260 - root_mean_squared_error: 0.1705 - val_loss: 0.1403 - val_mae: 0.1090 - val_root_mean_squared_error: 0.1404 - lr: 0.0387\n",
            "Epoch 9/500\n",
            "61/61 [==============================] - 6s 106ms/step - loss: 0.1686 - mae: 0.1237 - root_mean_squared_error: 0.1686 - val_loss: 0.1415 - val_mae: 0.1053 - val_root_mean_squared_error: 0.1409 - lr: 0.0387\n",
            "Epoch 10/500\n",
            "61/61 [==============================] - 7s 107ms/step - loss: 0.1669 - mae: 0.1220 - root_mean_squared_error: 0.1670 - val_loss: 0.1521 - val_mae: 0.1235 - val_root_mean_squared_error: 0.1520 - lr: 0.0387\n",
            "Epoch 11/500\n",
            "61/61 [==============================] - 6s 106ms/step - loss: 0.1662 - mae: 0.1210 - root_mean_squared_error: 0.1662 - val_loss: 0.1464 - val_mae: 0.1157 - val_root_mean_squared_error: 0.1460 - lr: 0.0387\n",
            "Epoch 12/500\n",
            "61/61 [==============================] - 6s 106ms/step - loss: 0.1652 - mae: 0.1207 - root_mean_squared_error: 0.1652 - val_loss: 0.1499 - val_mae: 0.1200 - val_root_mean_squared_error: 0.1497 - lr: 0.0387\n",
            "Epoch 13/500\n",
            "61/61 [==============================] - 6s 106ms/step - loss: 0.1661 - mae: 0.1215 - root_mean_squared_error: 0.1661 - val_loss: 0.1639 - val_mae: 0.1396 - val_root_mean_squared_error: 0.1642 - lr: 0.0387\n",
            "Epoch 14/500\n",
            "61/61 [==============================] - 6s 106ms/step - loss: 0.1650 - mae: 0.1205 - root_mean_squared_error: 0.1651 - val_loss: 0.1619 - val_mae: 0.1366 - val_root_mean_squared_error: 0.1627 - lr: 0.0387\n",
            "Epoch 15/500\n",
            "61/61 [==============================] - 6s 106ms/step - loss: 0.1655 - mae: 0.1210 - root_mean_squared_error: 0.1655 - val_loss: 0.1497 - val_mae: 0.1220 - val_root_mean_squared_error: 0.1500 - lr: 0.0387\n",
            "Epoch 16/500\n",
            "61/61 [==============================] - 7s 107ms/step - loss: 0.1637 - mae: 0.1193 - root_mean_squared_error: 0.1637 - val_loss: 0.1402 - val_mae: 0.1100 - val_root_mean_squared_error: 0.1405 - lr: 0.0387\n",
            "Epoch 17/500\n",
            "61/61 [==============================] - ETA: 0s - loss: 0.1608 - mae: 0.1164 - root_mean_squared_error: 0.1609"
          ]
        },
        {
          "name": "stderr",
          "output_type": "stream",
          "text": [
            "WARNING:absl:Found untraced functions such as residual_block_0_layer_call_fn, residual_block_0_layer_call_and_return_conditional_losses, residual_block_1_layer_call_fn, residual_block_1_layer_call_and_return_conditional_losses, residual_block_2_layer_call_fn while saving (showing 5 of 257). These functions will not be directly callable after loading.\n",
            "\u001b[34m\u001b[1mwandb\u001b[0m: Adding directory to artifact (/content/wandb/run-20230124_122245-ezdsvbzg/files/model-best)... Done. 0.0s\n"
          ]
        },
        {
          "name": "stdout",
          "output_type": "stream",
          "text": [
            "\b\b\b\b\b\b\b\b\b\b\b\b\b\b\b\b\b\b\b\b\b\b\b\b\b\b\b\b\b\b\b\b\b\b\b\b\b\b\b\b\b\b\b\b\b\b\b\b\b\b\b\b\b\b\b\b\b\b\b\b\b\b\b\b\b\b\b\b\b\b\b\b\b\b\b\b\b\b\b\b\b\b\b\b\b\b\b\b\b\b\b\b\b\b\b\b\b\b\b\b\b\b\b\b\b\b\b\b\b\b\b\r61/61 [==============================] - 17s 276ms/step - loss: 0.1608 - mae: 0.1164 - root_mean_squared_error: 0.1609 - val_loss: 0.1387 - val_mae: 0.1034 - val_root_mean_squared_error: 0.1379 - lr: 0.0039\n",
            "Epoch 18/500\n",
            "61/61 [==============================] - 7s 106ms/step - loss: 0.1601 - mae: 0.1157 - root_mean_squared_error: 0.1601 - val_loss: 0.1408 - val_mae: 0.1060 - val_root_mean_squared_error: 0.1400 - lr: 0.0039\n",
            "Epoch 19/500\n",
            "61/61 [==============================] - 6s 106ms/step - loss: 0.1592 - mae: 0.1147 - root_mean_squared_error: 0.1592 - val_loss: 0.1440 - val_mae: 0.1116 - val_root_mean_squared_error: 0.1438 - lr: 0.0039\n",
            "Epoch 20/500\n",
            "61/61 [==============================] - 6s 106ms/step - loss: 0.1590 - mae: 0.1151 - root_mean_squared_error: 0.1590 - val_loss: 0.1431 - val_mae: 0.1094 - val_root_mean_squared_error: 0.1425 - lr: 0.0039\n",
            "Epoch 21/500\n",
            "61/61 [==============================] - 7s 109ms/step - loss: 0.1585 - mae: 0.1145 - root_mean_squared_error: 0.1585 - val_loss: 0.1470 - val_mae: 0.1160 - val_root_mean_squared_error: 0.1467 - lr: 0.0039\n",
            "Epoch 22/500\n",
            "61/61 [==============================] - ETA: 0s - loss: 0.1578 - mae: 0.1140 - root_mean_squared_error: 0.1579"
          ]
        },
        {
          "name": "stderr",
          "output_type": "stream",
          "text": [
            "WARNING:absl:Found untraced functions such as residual_block_0_layer_call_fn, residual_block_0_layer_call_and_return_conditional_losses, residual_block_1_layer_call_fn, residual_block_1_layer_call_and_return_conditional_losses, residual_block_2_layer_call_fn while saving (showing 5 of 257). These functions will not be directly callable after loading.\n",
            "\u001b[34m\u001b[1mwandb\u001b[0m: Adding directory to artifact (/content/wandb/run-20230124_122245-ezdsvbzg/files/model-best)... Done. 0.0s\n"
          ]
        },
        {
          "name": "stdout",
          "output_type": "stream",
          "text": [
            "\b\b\b\b\b\b\b\b\b\b\b\b\b\b\b\b\b\b\b\b\b\b\b\b\b\b\b\b\b\b\b\b\b\b\b\b\b\b\b\b\b\b\b\b\b\b\b\b\b\b\b\b\b\b\b\b\b\b\b\b\b\b\b\b\b\b\b\b\b\b\b\b\b\b\b\b\b\b\b\b\b\b\b\b\b\b\b\b\b\b\b\b\b\b\b\b\b\b\b\b\b\b\b\b\b\b\b\b\b\b\b\r61/61 [==============================] - 17s 278ms/step - loss: 0.1578 - mae: 0.1140 - root_mean_squared_error: 0.1579 - val_loss: 0.1385 - val_mae: 0.1052 - val_root_mean_squared_error: 0.1382 - lr: 0.0039\n",
            "Epoch 23/500\n",
            "61/61 [==============================] - 7s 107ms/step - loss: 0.1574 - mae: 0.1137 - root_mean_squared_error: 0.1574 - val_loss: 0.1424 - val_mae: 0.1114 - val_root_mean_squared_error: 0.1421 - lr: 0.0039\n",
            "Epoch 24/500\n",
            "61/61 [==============================] - ETA: 0s - loss: 0.1568 - mae: 0.1134 - root_mean_squared_error: 0.1567"
          ]
        },
        {
          "name": "stderr",
          "output_type": "stream",
          "text": [
            "WARNING:absl:Found untraced functions such as residual_block_0_layer_call_fn, residual_block_0_layer_call_and_return_conditional_losses, residual_block_1_layer_call_fn, residual_block_1_layer_call_and_return_conditional_losses, residual_block_2_layer_call_fn while saving (showing 5 of 257). These functions will not be directly callable after loading.\n",
            "\u001b[34m\u001b[1mwandb\u001b[0m: Adding directory to artifact (/content/wandb/run-20230124_122245-ezdsvbzg/files/model-best)... Done. 0.0s\n"
          ]
        },
        {
          "name": "stdout",
          "output_type": "stream",
          "text": [
            "\b\b\b\b\b\b\b\b\b\b\b\b\b\b\b\b\b\b\b\b\b\b\b\b\b\b\b\b\b\b\b\b\b\b\b\b\b\b\b\b\b\b\b\b\b\b\b\b\b\b\b\b\b\b\b\b\b\b\b\b\b\b\b\b\b\b\b\b\b\b\b\b\b\b\b\b\b\b\b\b\b\b\b\b\b\b\b\b\b\b\b\b\b\b\b\b\b\b\b\b\b\b\b\b\b\b\b\b\b\b\b\r61/61 [==============================] - 16s 271ms/step - loss: 0.1568 - mae: 0.1134 - root_mean_squared_error: 0.1567 - val_loss: 0.1357 - val_mae: 0.1010 - val_root_mean_squared_error: 0.1351 - lr: 0.0039\n",
            "Epoch 25/500\n",
            "61/61 [==============================] - 7s 107ms/step - loss: 0.1565 - mae: 0.1128 - root_mean_squared_error: 0.1564 - val_loss: 0.1373 - val_mae: 0.1018 - val_root_mean_squared_error: 0.1366 - lr: 0.0039\n",
            "Epoch 26/500\n",
            "61/61 [==============================] - 6s 106ms/step - loss: 0.1563 - mae: 0.1126 - root_mean_squared_error: 0.1563 - val_loss: 0.1384 - val_mae: 0.1045 - val_root_mean_squared_error: 0.1378 - lr: 0.0039\n",
            "Epoch 27/500\n",
            "61/61 [==============================] - 7s 107ms/step - loss: 0.1562 - mae: 0.1126 - root_mean_squared_error: 0.1561 - val_loss: 0.1375 - val_mae: 0.1039 - val_root_mean_squared_error: 0.1370 - lr: 0.0039\n",
            "Epoch 28/500\n",
            "61/61 [==============================] - 7s 108ms/step - loss: 0.1555 - mae: 0.1120 - root_mean_squared_error: 0.1555 - val_loss: 0.1393 - val_mae: 0.1031 - val_root_mean_squared_error: 0.1384 - lr: 0.0039\n",
            "Epoch 29/500\n",
            "61/61 [==============================] - 7s 108ms/step - loss: 0.1554 - mae: 0.1116 - root_mean_squared_error: 0.1554 - val_loss: 0.1405 - val_mae: 0.1072 - val_root_mean_squared_error: 0.1400 - lr: 0.0039\n",
            "Epoch 30/500\n",
            "61/61 [==============================] - ETA: 0s - loss: 0.1557 - mae: 0.1119 - root_mean_squared_error: 0.1557"
          ]
        },
        {
          "name": "stderr",
          "output_type": "stream",
          "text": [
            "WARNING:absl:Found untraced functions such as residual_block_0_layer_call_fn, residual_block_0_layer_call_and_return_conditional_losses, residual_block_1_layer_call_fn, residual_block_1_layer_call_and_return_conditional_losses, residual_block_2_layer_call_fn while saving (showing 5 of 257). These functions will not be directly callable after loading.\n",
            "\u001b[34m\u001b[1mwandb\u001b[0m: Adding directory to artifact (/content/wandb/run-20230124_122245-ezdsvbzg/files/model-best)... Done. 0.0s\n"
          ]
        },
        {
          "name": "stdout",
          "output_type": "stream",
          "text": [
            "\b\b\b\b\b\b\b\b\b\b\b\b\b\b\b\b\b\b\b\b\b\b\b\b\b\b\b\b\b\b\b\b\b\b\b\b\b\b\b\b\b\b\b\b\b\b\b\b\b\b\b\b\b\b\b\b\b\b\b\b\b\b\b\b\b\b\b\b\b\b\b\b\b\b\b\b\b\b\b\b\b\b\b\b\b\b\b\b\b\b\b\b\b\b\b\b\b\b\b\b\b\b\b\b\b\b\b\b\b\b\b\r61/61 [==============================] - 16s 272ms/step - loss: 0.1557 - mae: 0.1119 - root_mean_squared_error: 0.1557 - val_loss: 0.1344 - val_mae: 0.0996 - val_root_mean_squared_error: 0.1339 - lr: 0.0039\n",
            "Epoch 31/500\n",
            "61/61 [==============================] - 7s 106ms/step - loss: 0.1555 - mae: 0.1117 - root_mean_squared_error: 0.1556 - val_loss: 0.1376 - val_mae: 0.1039 - val_root_mean_squared_error: 0.1370 - lr: 0.0039\n",
            "Epoch 32/500\n",
            "61/61 [==============================] - 6s 105ms/step - loss: 0.1552 - mae: 0.1116 - root_mean_squared_error: 0.1552 - val_loss: 0.1364 - val_mae: 0.0998 - val_root_mean_squared_error: 0.1356 - lr: 0.0039\n",
            "Epoch 33/500\n",
            "61/61 [==============================] - 6s 106ms/step - loss: 0.1549 - mae: 0.1113 - root_mean_squared_error: 0.1549 - val_loss: 0.1409 - val_mae: 0.1066 - val_root_mean_squared_error: 0.1403 - lr: 0.0039\n",
            "Epoch 34/500\n",
            "61/61 [==============================] - 7s 107ms/step - loss: 0.1543 - mae: 0.1108 - root_mean_squared_error: 0.1544 - val_loss: 0.1407 - val_mae: 0.1077 - val_root_mean_squared_error: 0.1401 - lr: 0.0039\n",
            "Epoch 35/500\n",
            "61/61 [==============================] - 7s 108ms/step - loss: 0.1548 - mae: 0.1108 - root_mean_squared_error: 0.1548 - val_loss: 0.1409 - val_mae: 0.1073 - val_root_mean_squared_error: 0.1403 - lr: 0.0039\n",
            "Epoch 36/500\n",
            "61/61 [==============================] - ETA: 0s - loss: 0.1543 - mae: 0.1109 - root_mean_squared_error: 0.1543"
          ]
        },
        {
          "name": "stderr",
          "output_type": "stream",
          "text": [
            "WARNING:absl:Found untraced functions such as residual_block_0_layer_call_fn, residual_block_0_layer_call_and_return_conditional_losses, residual_block_1_layer_call_fn, residual_block_1_layer_call_and_return_conditional_losses, residual_block_2_layer_call_fn while saving (showing 5 of 257). These functions will not be directly callable after loading.\n",
            "\u001b[34m\u001b[1mwandb\u001b[0m: Adding directory to artifact (/content/wandb/run-20230124_122245-ezdsvbzg/files/model-best)... Done. 0.0s\n"
          ]
        },
        {
          "name": "stdout",
          "output_type": "stream",
          "text": [
            "\b\b\b\b\b\b\b\b\b\b\b\b\b\b\b\b\b\b\b\b\b\b\b\b\b\b\b\b\b\b\b\b\b\b\b\b\b\b\b\b\b\b\b\b\b\b\b\b\b\b\b\b\b\b\b\b\b\b\b\b\b\b\b\b\b\b\b\b\b\b\b\b\b\b\b\b\b\b\b\b\b\b\b\b\b\b\b\b\b\b\b\b\b\b\b\b\b\b\b\b\b\b\b\b\b\b\b\b\b\b\b\r61/61 [==============================] - 17s 277ms/step - loss: 0.1543 - mae: 0.1109 - root_mean_squared_error: 0.1543 - val_loss: 0.1330 - val_mae: 0.0977 - val_root_mean_squared_error: 0.1323 - lr: 0.0039\n",
            "Epoch 37/500\n",
            "61/61 [==============================] - 7s 106ms/step - loss: 0.1542 - mae: 0.1107 - root_mean_squared_error: 0.1543 - val_loss: 0.1395 - val_mae: 0.1049 - val_root_mean_squared_error: 0.1387 - lr: 0.0039\n",
            "Epoch 38/500\n",
            "61/61 [==============================] - 6s 106ms/step - loss: 0.1540 - mae: 0.1105 - root_mean_squared_error: 0.1540 - val_loss: 0.1387 - val_mae: 0.1046 - val_root_mean_squared_error: 0.1379 - lr: 0.0039\n",
            "Epoch 39/500\n",
            "61/61 [==============================] - 7s 107ms/step - loss: 0.1539 - mae: 0.1103 - root_mean_squared_error: 0.1539 - val_loss: 0.1372 - val_mae: 0.1028 - val_root_mean_squared_error: 0.1365 - lr: 0.0039\n",
            "Epoch 40/500\n",
            "61/61 [==============================] - 7s 108ms/step - loss: 0.1540 - mae: 0.1103 - root_mean_squared_error: 0.1540 - val_loss: 0.1395 - val_mae: 0.1061 - val_root_mean_squared_error: 0.1390 - lr: 0.0039\n",
            "Epoch 41/500\n",
            "61/61 [==============================] - 7s 107ms/step - loss: 0.1538 - mae: 0.1104 - root_mean_squared_error: 0.1538 - val_loss: 0.1394 - val_mae: 0.1057 - val_root_mean_squared_error: 0.1388 - lr: 0.0039\n",
            "Epoch 42/500\n",
            "61/61 [==============================] - 6s 106ms/step - loss: 0.1536 - mae: 0.1098 - root_mean_squared_error: 0.1536 - val_loss: 0.1368 - val_mae: 0.1018 - val_root_mean_squared_error: 0.1360 - lr: 0.0039\n",
            "Epoch 43/500\n",
            "61/61 [==============================] - 6s 106ms/step - loss: 0.1542 - mae: 0.1106 - root_mean_squared_error: 0.1542 - val_loss: 0.1402 - val_mae: 0.1063 - val_root_mean_squared_error: 0.1394 - lr: 0.0039\n",
            "Epoch 44/500\n",
            "61/61 [==============================] - 6s 106ms/step - loss: 0.1536 - mae: 0.1100 - root_mean_squared_error: 0.1535 - val_loss: 0.1383 - val_mae: 0.1058 - val_root_mean_squared_error: 0.1378 - lr: 0.0039\n",
            "Epoch 45/500\n",
            "61/61 [==============================] - 7s 107ms/step - loss: 0.1536 - mae: 0.1096 - root_mean_squared_error: 0.1536 - val_loss: 0.1411 - val_mae: 0.1087 - val_root_mean_squared_error: 0.1406 - lr: 0.0039\n",
            "Epoch 46/500\n",
            "61/61 [==============================] - 7s 109ms/step - loss: 0.1537 - mae: 0.1102 - root_mean_squared_error: 0.1537 - val_loss: 0.1392 - val_mae: 0.1051 - val_root_mean_squared_error: 0.1385 - lr: 0.0039\n",
            "Epoch 47/500\n",
            "61/61 [==============================] - 6s 106ms/step - loss: 0.1527 - mae: 0.1093 - root_mean_squared_error: 0.1527 - val_loss: 0.1377 - val_mae: 0.1027 - val_root_mean_squared_error: 0.1369 - lr: 3.8700e-04\n",
            "Epoch 48/500\n",
            "61/61 [==============================] - 6s 106ms/step - loss: 0.1527 - mae: 0.1092 - root_mean_squared_error: 0.1527 - val_loss: 0.1382 - val_mae: 0.1032 - val_root_mean_squared_error: 0.1374 - lr: 3.8700e-04\n",
            "Epoch 49/500\n",
            "61/61 [==============================] - 6s 107ms/step - loss: 0.1527 - mae: 0.1090 - root_mean_squared_error: 0.1526 - val_loss: 0.1392 - val_mae: 0.1048 - val_root_mean_squared_error: 0.1384 - lr: 3.8700e-04\n",
            "Epoch 50/500\n",
            "61/61 [==============================] - 6s 106ms/step - loss: 0.1525 - mae: 0.1090 - root_mean_squared_error: 0.1525 - val_loss: 0.1377 - val_mae: 0.1027 - val_root_mean_squared_error: 0.1369 - lr: 3.8700e-04\n",
            "Epoch 51/500\n",
            "61/61 [==============================] - 6s 107ms/step - loss: 0.1523 - mae: 0.1089 - root_mean_squared_error: 0.1523 - val_loss: 0.1388 - val_mae: 0.1040 - val_root_mean_squared_error: 0.1380 - lr: 3.8700e-04\n"
          ]
        },
        {
          "data": {
            "text/html": [
              "Waiting for W&B process to finish... <strong style=\"color:green\">(success).</strong>"
            ],
            "text/plain": [
              "<IPython.core.display.HTML object>"
            ]
          },
          "metadata": {},
          "output_type": "display_data"
        },
        {
          "data": {
            "text/html": [
              "<style>\n",
              "    table.wandb td:nth-child(1) { padding: 0 10px; text-align: left ; width: auto;} td:nth-child(2) {text-align: left ; width: 100%}\n",
              "    .wandb-row { display: flex; flex-direction: row; flex-wrap: wrap; justify-content: flex-start; width: 100% }\n",
              "    .wandb-col { display: flex; flex-direction: column; flex-basis: 100%; flex: 1; padding: 10px; }\n",
              "    </style>\n",
              "<div class=\"wandb-row\"><div class=\"wandb-col\"><h3>Run history:</h3><br/><table class=\"wandb\"><tr><td>epoch</td><td>▁▁▁▁▂▂▂▂▂▃▃▃▃▃▃▄▄▄▄▄▅▅▅▅▅▅▆▆▆▆▆▆▇▇▇▇▇███</td></tr><tr><td>loss</td><td>█▅▅▄▃▂▂▂▂▂▂▂▂▁▁▁▁▁▁▁▁▁▁▁▁▁▁▁▁▁▁▁▁▁▁▁▁▁▁▁</td></tr><tr><td>mae</td><td>█▅▅▄▃▂▂▂▂▂▂▂▂▁▁▁▁▁▁▁▁▁▁▁▁▁▁▁▁▁▁▁▁▁▁▁▁▁▁▁</td></tr><tr><td>root_mean_squared_error</td><td>█▅▅▄▃▂▂▂▂▂▂▂▂▁▁▁▁▁▁▁▁▁▁▁▁▁▁▁▁▁▁▁▁▁▁▁▁▁▁▁</td></tr><tr><td>val_loss</td><td>▆█▅▅▂▄▂▃▃▄▇▄▂▂▂▃▄▂▁▂▂▂▂▁▂▂▂▂▁▂▂▂▂▂▂▂▂▂▂▂</td></tr><tr><td>val_mae</td><td>▇█▆▅▂▃▃▂▃▄▇▄▃▂▂▃▃▂▁▂▂▂▂▁▂▂▂▂▁▂▂▂▂▂▂▂▂▂▂▂</td></tr><tr><td>val_root_mean_squared_error</td><td>▆█▅▅▂▃▂▂▃▄▆▄▂▂▂▃▃▂▁▂▂▂▂▁▂▂▂▂▁▂▂▂▂▂▂▂▂▂▂▂</td></tr></table><br/></div><div class=\"wandb-col\"><h3>Run summary:</h3><br/><table class=\"wandb\"><tr><td>best_epoch</td><td>35</td></tr><tr><td>best_val_loss</td><td>0.13297</td></tr><tr><td>epoch</td><td>50</td></tr><tr><td>loss</td><td>0.1523</td></tr><tr><td>mae</td><td>0.10891</td></tr><tr><td>root_mean_squared_error</td><td>0.15228</td></tr><tr><td>val_loss</td><td>0.13878</td></tr><tr><td>val_mae</td><td>0.10405</td></tr><tr><td>val_root_mean_squared_error</td><td>0.138</td></tr></table><br/></div></div>"
            ],
            "text/plain": [
              "<IPython.core.display.HTML object>"
            ]
          },
          "metadata": {},
          "output_type": "display_data"
        },
        {
          "data": {
            "text/html": [
              " View run <strong style=\"color:#cdcd00\">faithful-sweep-15</strong> at: <a href=\"https://wandb.ai/dsp_aguro/aguro_tcn/runs/ezdsvbzg\" target=\"_blank\">https://wandb.ai/dsp_aguro/aguro_tcn/runs/ezdsvbzg</a><br/>Synced 5 W&B file(s), 1 media file(s), 32 artifact file(s) and 1 other file(s)"
            ],
            "text/plain": [
              "<IPython.core.display.HTML object>"
            ]
          },
          "metadata": {},
          "output_type": "display_data"
        },
        {
          "data": {
            "text/html": [
              "Find logs at: <code>./wandb/run-20230124_122245-ezdsvbzg/logs</code>"
            ],
            "text/plain": [
              "<IPython.core.display.HTML object>"
            ]
          },
          "metadata": {},
          "output_type": "display_data"
        },
        {
          "name": "stderr",
          "output_type": "stream",
          "text": [
            "\u001b[34m\u001b[1mwandb\u001b[0m: Agent Starting Run: lfuz0gw5 with config:\n",
            "\u001b[34m\u001b[1mwandb\u001b[0m: \tbatch_size: 512\n",
            "\u001b[34m\u001b[1mwandb\u001b[0m: \tdropout_rate: 0.4\n",
            "\u001b[34m\u001b[1mwandb\u001b[0m: \tepochs: 500\n",
            "\u001b[34m\u001b[1mwandb\u001b[0m: \tkernel_size: 3\n",
            "\u001b[34m\u001b[1mwandb\u001b[0m: \tlr: 0.055871143885404456\n",
            "\u001b[34m\u001b[1mwandb\u001b[0m: \tnb_filters: 32\n",
            "\u001b[34m\u001b[1mwandb\u001b[0m: \toptimizer: adam\n",
            "Failed to detect the name of this notebook, you can set it manually with the WANDB_NOTEBOOK_NAME environment variable to enable code saving.\n"
          ]
        },
        {
          "data": {
            "text/html": [
              "Tracking run with wandb version 0.13.9"
            ],
            "text/plain": [
              "<IPython.core.display.HTML object>"
            ]
          },
          "metadata": {},
          "output_type": "display_data"
        },
        {
          "data": {
            "text/html": [
              "Run data is saved locally in <code>/content/wandb/run-20230124_123016-lfuz0gw5</code>"
            ],
            "text/plain": [
              "<IPython.core.display.HTML object>"
            ]
          },
          "metadata": {},
          "output_type": "display_data"
        },
        {
          "data": {
            "text/html": [
              "Syncing run <strong><a href=\"https://wandb.ai/dsp_aguro/aguro_tcn/runs/lfuz0gw5\" target=\"_blank\">valiant-sweep-16</a></strong> to <a href=\"https://wandb.ai/dsp_aguro/aguro_tcn\" target=\"_blank\">Weights & Biases</a> (<a href=\"https://wandb.me/run\" target=\"_blank\">docs</a>)<br/>Sweep page: <a href=\"https://wandb.ai/dsp_aguro/aguro_tcn/sweeps/9vw7gd6y\" target=\"_blank\">https://wandb.ai/dsp_aguro/aguro_tcn/sweeps/9vw7gd6y</a>"
            ],
            "text/plain": [
              "<IPython.core.display.HTML object>"
            ]
          },
          "metadata": {},
          "output_type": "display_data"
        },
        {
          "data": {
            "text/html": [
              " View project at <a href=\"https://wandb.ai/dsp_aguro/aguro_tcn\" target=\"_blank\">https://wandb.ai/dsp_aguro/aguro_tcn</a>"
            ],
            "text/plain": [
              "<IPython.core.display.HTML object>"
            ]
          },
          "metadata": {},
          "output_type": "display_data"
        },
        {
          "data": {
            "text/html": [
              " View sweep at <a href=\"https://wandb.ai/dsp_aguro/aguro_tcn/sweeps/9vw7gd6y\" target=\"_blank\">https://wandb.ai/dsp_aguro/aguro_tcn/sweeps/9vw7gd6y</a>"
            ],
            "text/plain": [
              "<IPython.core.display.HTML object>"
            ]
          },
          "metadata": {},
          "output_type": "display_data"
        },
        {
          "data": {
            "text/html": [
              " View run at <a href=\"https://wandb.ai/dsp_aguro/aguro_tcn/runs/lfuz0gw5\" target=\"_blank\">https://wandb.ai/dsp_aguro/aguro_tcn/runs/lfuz0gw5</a>"
            ],
            "text/plain": [
              "<IPython.core.display.HTML object>"
            ]
          },
          "metadata": {},
          "output_type": "display_data"
        },
        {
          "name": "stdout",
          "output_type": "stream",
          "text": [
            "Epoch 1/500\n",
            "61/61 [==============================] - ETA: 0s - loss: 4.1193 - mae: 2.7106 - root_mean_squared_error: 4.1038"
          ]
        },
        {
          "name": "stderr",
          "output_type": "stream",
          "text": [
            "WARNING:absl:Found untraced functions such as residual_block_0_layer_call_fn, residual_block_0_layer_call_and_return_conditional_losses, residual_block_1_layer_call_fn, residual_block_1_layer_call_and_return_conditional_losses, residual_block_2_layer_call_fn while saving (showing 5 of 257). These functions will not be directly callable after loading.\n",
            "\u001b[34m\u001b[1mwandb\u001b[0m: Adding directory to artifact (/content/wandb/run-20230124_123016-lfuz0gw5/files/model-best)... Done. 0.0s\n"
          ]
        },
        {
          "name": "stdout",
          "output_type": "stream",
          "text": [
            "\b\b\b\b\b\b\b\b\b\b\b\b\b\b\b\b\b\b\b\b\b\b\b\b\b\b\b\b\b\b\b\b\b\b\b\b\b\b\b\b\b\b\b\b\b\b\b\b\b\b\b\b\b\b\b\b\b\b\b\b\b\b\b\b\b\b\b\b\b\b\b\b\b\b\b\b\b\b\b\b\b\b\b\b\b\b\b\b\b\b\b\b\b\b\b\b\b\b\b\b\b\b\b\b\b\b\b\b\b\b\b\r61/61 [==============================] - 19s 226ms/step - loss: 4.1193 - mae: 2.7106 - root_mean_squared_error: 4.1038 - val_loss: 0.1683 - val_mae: 0.1453 - val_root_mean_squared_error: 0.1703 - lr: 0.0559\n",
            "Epoch 2/500\n",
            "61/61 [==============================] - 2s 37ms/step - loss: 0.2172 - mae: 0.1650 - root_mean_squared_error: 0.2172 - val_loss: 0.1793 - val_mae: 0.1576 - val_root_mean_squared_error: 0.1815 - lr: 0.0559\n",
            "Epoch 3/500\n",
            "61/61 [==============================] - 2s 35ms/step - loss: 0.2169 - mae: 0.1648 - root_mean_squared_error: 0.2169 - val_loss: 0.1816 - val_mae: 0.1600 - val_root_mean_squared_error: 0.1839 - lr: 0.0559\n",
            "Epoch 4/500\n",
            "61/61 [==============================] - 2s 35ms/step - loss: 0.2170 - mae: 0.1650 - root_mean_squared_error: 0.2171 - val_loss: 0.1688 - val_mae: 0.1463 - val_root_mean_squared_error: 0.1708 - lr: 0.0559\n",
            "Epoch 5/500\n",
            "61/61 [==============================] - 2s 35ms/step - loss: 0.2170 - mae: 0.1649 - root_mean_squared_error: 0.2171 - val_loss: 0.1696 - val_mae: 0.1472 - val_root_mean_squared_error: 0.1717 - lr: 0.0559\n",
            "Epoch 6/500\n",
            "61/61 [==============================] - 2s 35ms/step - loss: 0.2169 - mae: 0.1647 - root_mean_squared_error: 0.2169 - val_loss: 0.1772 - val_mae: 0.1553 - val_root_mean_squared_error: 0.1794 - lr: 0.0559\n",
            "Epoch 7/500\n",
            "61/61 [==============================] - 2s 35ms/step - loss: 0.2169 - mae: 0.1648 - root_mean_squared_error: 0.2169 - val_loss: 0.1806 - val_mae: 0.1589 - val_root_mean_squared_error: 0.1829 - lr: 0.0559\n",
            "Epoch 8/500\n",
            "61/61 [==============================] - 2s 36ms/step - loss: 0.2169 - mae: 0.1650 - root_mean_squared_error: 0.2169 - val_loss: 0.1761 - val_mae: 0.1541 - val_root_mean_squared_error: 0.1783 - lr: 0.0559\n",
            "Epoch 9/500\n",
            "61/61 [==============================] - 2s 35ms/step - loss: 0.2170 - mae: 0.1648 - root_mean_squared_error: 0.2170 - val_loss: 0.1833 - val_mae: 0.1618 - val_root_mean_squared_error: 0.1856 - lr: 0.0559\n",
            "Epoch 10/500\n",
            "61/61 [==============================] - 2s 35ms/step - loss: 0.2169 - mae: 0.1648 - root_mean_squared_error: 0.2170 - val_loss: 0.1711 - val_mae: 0.1487 - val_root_mean_squared_error: 0.1732 - lr: 0.0559\n",
            "Epoch 11/500\n",
            "61/61 [==============================] - 2s 35ms/step - loss: 0.2172 - mae: 0.1651 - root_mean_squared_error: 0.2172 - val_loss: 0.1879 - val_mae: 0.1666 - val_root_mean_squared_error: 0.1903 - lr: 0.0559\n",
            "Epoch 12/500\n",
            "61/61 [==============================] - 2s 35ms/step - loss: 0.2172 - mae: 0.1652 - root_mean_squared_error: 0.2172 - val_loss: 0.1781 - val_mae: 0.1562 - val_root_mean_squared_error: 0.1803 - lr: 0.0056\n",
            "Epoch 13/500\n",
            "61/61 [==============================] - 2s 35ms/step - loss: 0.2168 - mae: 0.1650 - root_mean_squared_error: 0.2168 - val_loss: 0.1741 - val_mae: 0.1520 - val_root_mean_squared_error: 0.1763 - lr: 0.0056\n",
            "Epoch 14/500\n",
            "61/61 [==============================] - 2s 36ms/step - loss: 0.2168 - mae: 0.1645 - root_mean_squared_error: 0.2167 - val_loss: 0.1794 - val_mae: 0.1576 - val_root_mean_squared_error: 0.1816 - lr: 0.0056\n",
            "Epoch 15/500\n",
            "61/61 [==============================] - 2s 36ms/step - loss: 0.2168 - mae: 0.1648 - root_mean_squared_error: 0.2168 - val_loss: 0.1765 - val_mae: 0.1546 - val_root_mean_squared_error: 0.1787 - lr: 0.0056\n",
            "Epoch 16/500\n",
            "61/61 [==============================] - 2s 36ms/step - loss: 0.2168 - mae: 0.1647 - root_mean_squared_error: 0.2167 - val_loss: 0.1773 - val_mae: 0.1555 - val_root_mean_squared_error: 0.1795 - lr: 0.0056\n"
          ]
        },
        {
          "data": {
            "text/html": [
              "Waiting for W&B process to finish... <strong style=\"color:green\">(success).</strong>"
            ],
            "text/plain": [
              "<IPython.core.display.HTML object>"
            ]
          },
          "metadata": {},
          "output_type": "display_data"
        },
        {
          "data": {
            "text/html": [
              "<style>\n",
              "    table.wandb td:nth-child(1) { padding: 0 10px; text-align: left ; width: auto;} td:nth-child(2) {text-align: left ; width: 100%}\n",
              "    .wandb-row { display: flex; flex-direction: row; flex-wrap: wrap; justify-content: flex-start; width: 100% }\n",
              "    .wandb-col { display: flex; flex-direction: column; flex-basis: 100%; flex: 1; padding: 10px; }\n",
              "    </style>\n",
              "<div class=\"wandb-row\"><div class=\"wandb-col\"><h3>Run history:</h3><br/><table class=\"wandb\"><tr><td>epoch</td><td>▁▁▂▂▃▃▄▄▅▅▆▆▇▇██</td></tr><tr><td>loss</td><td>█▁▁▁▁▁▁▁▁▁▁▁▁▁▁▁</td></tr><tr><td>mae</td><td>█▁▁▁▁▁▁▁▁▁▁▁▁▁▁▁</td></tr><tr><td>root_mean_squared_error</td><td>█▁▁▁▁▁▁▁▁▁▁▁▁▁▁▁</td></tr><tr><td>val_loss</td><td>▁▅▆▁▁▄▅▄▆▂█▄▃▅▄▄</td></tr><tr><td>val_mae</td><td>▁▅▆▁▂▄▅▄▆▂█▅▃▅▄▄</td></tr><tr><td>val_root_mean_squared_error</td><td>▁▅▆▁▁▄▅▄▆▂█▄▃▅▄▄</td></tr></table><br/></div><div class=\"wandb-col\"><h3>Run summary:</h3><br/><table class=\"wandb\"><tr><td>best_epoch</td><td>0</td></tr><tr><td>best_val_loss</td><td>0.16828</td></tr><tr><td>epoch</td><td>15</td></tr><tr><td>loss</td><td>0.21676</td></tr><tr><td>mae</td><td>0.16475</td></tr><tr><td>root_mean_squared_error</td><td>0.21672</td></tr><tr><td>val_loss</td><td>0.17734</td></tr><tr><td>val_mae</td><td>0.15547</td></tr><tr><td>val_root_mean_squared_error</td><td>0.17954</td></tr></table><br/></div></div>"
            ],
            "text/plain": [
              "<IPython.core.display.HTML object>"
            ]
          },
          "metadata": {},
          "output_type": "display_data"
        },
        {
          "data": {
            "text/html": [
              " View run <strong style=\"color:#cdcd00\">valiant-sweep-16</strong> at: <a href=\"https://wandb.ai/dsp_aguro/aguro_tcn/runs/lfuz0gw5\" target=\"_blank\">https://wandb.ai/dsp_aguro/aguro_tcn/runs/lfuz0gw5</a><br/>Synced 5 W&B file(s), 1 media file(s), 4 artifact file(s) and 1 other file(s)"
            ],
            "text/plain": [
              "<IPython.core.display.HTML object>"
            ]
          },
          "metadata": {},
          "output_type": "display_data"
        },
        {
          "data": {
            "text/html": [
              "Find logs at: <code>./wandb/run-20230124_123016-lfuz0gw5/logs</code>"
            ],
            "text/plain": [
              "<IPython.core.display.HTML object>"
            ]
          },
          "metadata": {},
          "output_type": "display_data"
        },
        {
          "name": "stderr",
          "output_type": "stream",
          "text": [
            "\u001b[34m\u001b[1mwandb\u001b[0m: Sweep Agent: Waiting for job.\n",
            "\u001b[34m\u001b[1mwandb\u001b[0m: Job received.\n",
            "\u001b[34m\u001b[1mwandb\u001b[0m: Agent Starting Run: sqtahur0 with config:\n",
            "\u001b[34m\u001b[1mwandb\u001b[0m: \tbatch_size: 512\n",
            "\u001b[34m\u001b[1mwandb\u001b[0m: \tdropout_rate: 0.4\n",
            "\u001b[34m\u001b[1mwandb\u001b[0m: \tepochs: 500\n",
            "\u001b[34m\u001b[1mwandb\u001b[0m: \tkernel_size: 6\n",
            "\u001b[34m\u001b[1mwandb\u001b[0m: \tlr: 0.025027879505737018\n",
            "\u001b[34m\u001b[1mwandb\u001b[0m: \tnb_filters: 64\n",
            "\u001b[34m\u001b[1mwandb\u001b[0m: \toptimizer: adam\n",
            "Failed to detect the name of this notebook, you can set it manually with the WANDB_NOTEBOOK_NAME environment variable to enable code saving.\n"
          ]
        },
        {
          "data": {
            "text/html": [
              "Tracking run with wandb version 0.13.9"
            ],
            "text/plain": [
              "<IPython.core.display.HTML object>"
            ]
          },
          "metadata": {},
          "output_type": "display_data"
        },
        {
          "data": {
            "text/html": [
              "Run data is saved locally in <code>/content/wandb/run-20230124_123147-sqtahur0</code>"
            ],
            "text/plain": [
              "<IPython.core.display.HTML object>"
            ]
          },
          "metadata": {},
          "output_type": "display_data"
        },
        {
          "data": {
            "text/html": [
              "Syncing run <strong><a href=\"https://wandb.ai/dsp_aguro/aguro_tcn/runs/sqtahur0\" target=\"_blank\">rare-sweep-17</a></strong> to <a href=\"https://wandb.ai/dsp_aguro/aguro_tcn\" target=\"_blank\">Weights & Biases</a> (<a href=\"https://wandb.me/run\" target=\"_blank\">docs</a>)<br/>Sweep page: <a href=\"https://wandb.ai/dsp_aguro/aguro_tcn/sweeps/9vw7gd6y\" target=\"_blank\">https://wandb.ai/dsp_aguro/aguro_tcn/sweeps/9vw7gd6y</a>"
            ],
            "text/plain": [
              "<IPython.core.display.HTML object>"
            ]
          },
          "metadata": {},
          "output_type": "display_data"
        },
        {
          "data": {
            "text/html": [
              " View project at <a href=\"https://wandb.ai/dsp_aguro/aguro_tcn\" target=\"_blank\">https://wandb.ai/dsp_aguro/aguro_tcn</a>"
            ],
            "text/plain": [
              "<IPython.core.display.HTML object>"
            ]
          },
          "metadata": {},
          "output_type": "display_data"
        },
        {
          "data": {
            "text/html": [
              " View sweep at <a href=\"https://wandb.ai/dsp_aguro/aguro_tcn/sweeps/9vw7gd6y\" target=\"_blank\">https://wandb.ai/dsp_aguro/aguro_tcn/sweeps/9vw7gd6y</a>"
            ],
            "text/plain": [
              "<IPython.core.display.HTML object>"
            ]
          },
          "metadata": {},
          "output_type": "display_data"
        },
        {
          "data": {
            "text/html": [
              " View run at <a href=\"https://wandb.ai/dsp_aguro/aguro_tcn/runs/sqtahur0\" target=\"_blank\">https://wandb.ai/dsp_aguro/aguro_tcn/runs/sqtahur0</a>"
            ],
            "text/plain": [
              "<IPython.core.display.HTML object>"
            ]
          },
          "metadata": {},
          "output_type": "display_data"
        },
        {
          "name": "stdout",
          "output_type": "stream",
          "text": [
            "Epoch 1/500\n",
            " 6/61 [=>............................] - ETA: 5s - loss: 8.7071 - mae: 6.9056 - root_mean_squared_error: 8.7071  "
          ]
        },
        {
          "name": "stderr",
          "output_type": "stream",
          "text": [
            "WARNING:tensorflow:Callback method `on_train_batch_end` is slow compared to the batch time (batch time: 0.0366s vs `on_train_batch_end` time: 0.0516s). Check your callbacks.\n"
          ]
        },
        {
          "name": "stdout",
          "output_type": "stream",
          "text": [
            "61/61 [==============================] - ETA: 0s - loss: 1.1243 - mae: 0.8981 - root_mean_squared_error: 1.1207"
          ]
        },
        {
          "name": "stderr",
          "output_type": "stream",
          "text": [
            "WARNING:absl:Found untraced functions such as residual_block_0_layer_call_fn, residual_block_0_layer_call_and_return_conditional_losses, residual_block_1_layer_call_fn, residual_block_1_layer_call_and_return_conditional_losses, residual_block_2_layer_call_fn while saving (showing 5 of 257). These functions will not be directly callable after loading.\n",
            "\u001b[34m\u001b[1mwandb\u001b[0m: Adding directory to artifact (/content/wandb/run-20230124_123147-sqtahur0/files/model-best)... Done. 0.0s\n"
          ]
        },
        {
          "name": "stdout",
          "output_type": "stream",
          "text": [
            "\b\b\b\b\b\b\b\b\b\b\b\b\b\b\b\b\b\b\b\b\b\b\b\b\b\b\b\b\b\b\b\b\b\b\b\b\b\b\b\b\b\b\b\b\b\b\b\b\b\b\b\b\b\b\b\b\b\b\b\b\b\b\b\b\b\b\b\b\b\b\b\b\b\b\b\b\b\b\b\b\b\b\b\b\b\b\b\b\b\b\b\b\b\b\b\b\b\b\b\b\b\b\b\b\b\b\b\b\b\b\b\r61/61 [==============================] - 24s 311ms/step - loss: 1.1243 - mae: 0.8981 - root_mean_squared_error: 1.1207 - val_loss: 0.1810 - val_mae: 0.1592 - val_root_mean_squared_error: 0.1833 - lr: 0.0250\n",
            "Epoch 2/500\n",
            "61/61 [==============================] - ETA: 0s - loss: 0.2169 - mae: 0.1649 - root_mean_squared_error: 0.2169"
          ]
        },
        {
          "name": "stderr",
          "output_type": "stream",
          "text": [
            "WARNING:absl:Found untraced functions such as residual_block_0_layer_call_fn, residual_block_0_layer_call_and_return_conditional_losses, residual_block_1_layer_call_fn, residual_block_1_layer_call_and_return_conditional_losses, residual_block_2_layer_call_fn while saving (showing 5 of 257). These functions will not be directly callable after loading.\n",
            "\u001b[34m\u001b[1mwandb\u001b[0m: Adding directory to artifact (/content/wandb/run-20230124_123147-sqtahur0/files/model-best)... Done. 0.0s\n"
          ]
        },
        {
          "name": "stdout",
          "output_type": "stream",
          "text": [
            "\b\b\b\b\b\b\b\b\b\b\b\b\b\b\b\b\b\b\b\b\b\b\b\b\b\b\b\b\b\b\b\b\b\b\b\b\b\b\b\b\b\b\b\b\b\b\b\b\b\b\b\b\b\b\b\b\b\b\b\b\b\b\b\b\b\b\b\b\b\b\b\b\b\b\b\b\b\b\b\b\b\b\b\b\b\b\b\b\b\b\b\b\b\b\b\b\b\b\b\b\b\b\b\b\b\b\b\b\b\b\b\r61/61 [==============================] - 17s 275ms/step - loss: 0.2169 - mae: 0.1649 - root_mean_squared_error: 0.2169 - val_loss: 0.1790 - val_mae: 0.1573 - val_root_mean_squared_error: 0.1813 - lr: 0.0250\n",
            "Epoch 3/500\n",
            "61/61 [==============================] - 7s 108ms/step - loss: 0.2169 - mae: 0.1647 - root_mean_squared_error: 0.2169 - val_loss: 0.1824 - val_mae: 0.1609 - val_root_mean_squared_error: 0.1847 - lr: 0.0250\n",
            "Epoch 4/500\n",
            "61/61 [==============================] - ETA: 0s - loss: 0.2169 - mae: 0.1649 - root_mean_squared_error: 0.2169"
          ]
        },
        {
          "name": "stderr",
          "output_type": "stream",
          "text": [
            "WARNING:absl:Found untraced functions such as residual_block_0_layer_call_fn, residual_block_0_layer_call_and_return_conditional_losses, residual_block_1_layer_call_fn, residual_block_1_layer_call_and_return_conditional_losses, residual_block_2_layer_call_fn while saving (showing 5 of 257). These functions will not be directly callable after loading.\n",
            "\u001b[34m\u001b[1mwandb\u001b[0m: Adding directory to artifact (/content/wandb/run-20230124_123147-sqtahur0/files/model-best)... Done. 0.0s\n"
          ]
        },
        {
          "name": "stdout",
          "output_type": "stream",
          "text": [
            "\b\b\b\b\b\b\b\b\b\b\b\b\b\b\b\b\b\b\b\b\b\b\b\b\b\b\b\b\b\b\b\b\b\b\b\b\b\b\b\b\b\b\b\b\b\b\b\b\b\b\b\b\b\b\b\b\b\b\b\b\b\b\b\b\b\b\b\b\b\b\b\b\b\b\b\b\b\b\b\b\b\b\b\b\b\b\b\b\b\b\b\b\b\b\b\b\b\b\b\b\b\b\b\b\b\b\b\b\b\b\b\r61/61 [==============================] - 17s 275ms/step - loss: 0.2169 - mae: 0.1649 - root_mean_squared_error: 0.2169 - val_loss: 0.1753 - val_mae: 0.1533 - val_root_mean_squared_error: 0.1774 - lr: 0.0250\n",
            "Epoch 5/500\n",
            "61/61 [==============================] - 7s 109ms/step - loss: 0.2169 - mae: 0.1648 - root_mean_squared_error: 0.2169 - val_loss: 0.1809 - val_mae: 0.1593 - val_root_mean_squared_error: 0.1832 - lr: 0.0250\n",
            "Epoch 6/500\n",
            "61/61 [==============================] - 7s 112ms/step - loss: 0.2169 - mae: 0.1648 - root_mean_squared_error: 0.2169 - val_loss: 0.1778 - val_mae: 0.1559 - val_root_mean_squared_error: 0.1800 - lr: 0.0250\n",
            "Epoch 7/500\n",
            "61/61 [==============================] - 7s 110ms/step - loss: 0.2169 - mae: 0.1648 - root_mean_squared_error: 0.2169 - val_loss: 0.1818 - val_mae: 0.1602 - val_root_mean_squared_error: 0.1840 - lr: 0.0250\n",
            "Epoch 8/500\n",
            "61/61 [==============================] - 7s 109ms/step - loss: 0.2169 - mae: 0.1648 - root_mean_squared_error: 0.2169 - val_loss: 0.1804 - val_mae: 0.1587 - val_root_mean_squared_error: 0.1826 - lr: 0.0250\n",
            "Epoch 9/500\n",
            "61/61 [==============================] - ETA: 0s - loss: 0.2169 - mae: 0.1649 - root_mean_squared_error: 0.2170"
          ]
        },
        {
          "name": "stderr",
          "output_type": "stream",
          "text": [
            "WARNING:absl:Found untraced functions such as residual_block_0_layer_call_fn, residual_block_0_layer_call_and_return_conditional_losses, residual_block_1_layer_call_fn, residual_block_1_layer_call_and_return_conditional_losses, residual_block_2_layer_call_fn while saving (showing 5 of 257). These functions will not be directly callable after loading.\n",
            "\u001b[34m\u001b[1mwandb\u001b[0m: Adding directory to artifact (/content/wandb/run-20230124_123147-sqtahur0/files/model-best)... Done. 0.0s\n"
          ]
        },
        {
          "name": "stdout",
          "output_type": "stream",
          "text": [
            "\b\b\b\b\b\b\b\b\b\b\b\b\b\b\b\b\b\b\b\b\b\b\b\b\b\b\b\b\b\b\b\b\b\b\b\b\b\b\b\b\b\b\b\b\b\b\b\b\b\b\b\b\b\b\b\b\b\b\b\b\b\b\b\b\b\b\b\b\b\b\b\b\b\b\b\b\b\b\b\b\b\b\b\b\b\b\b\b\b\b\b\b\b\b\b\b\b\b\b\b\b\b\b\b\b\b\b\b\b\b\b\r61/61 [==============================] - 17s 276ms/step - loss: 0.2169 - mae: 0.1649 - root_mean_squared_error: 0.2170 - val_loss: 0.1724 - val_mae: 0.1502 - val_root_mean_squared_error: 0.1745 - lr: 0.0250\n",
            "Epoch 10/500\n",
            "61/61 [==============================] - 7s 107ms/step - loss: 0.2169 - mae: 0.1647 - root_mean_squared_error: 0.2169 - val_loss: 0.1759 - val_mae: 0.1540 - val_root_mean_squared_error: 0.1781 - lr: 0.0250\n",
            "Epoch 11/500\n",
            "61/61 [==============================] - ETA: 0s - loss: 0.2170 - mae: 0.1650 - root_mean_squared_error: 0.2169"
          ]
        },
        {
          "name": "stderr",
          "output_type": "stream",
          "text": [
            "WARNING:absl:Found untraced functions such as residual_block_0_layer_call_fn, residual_block_0_layer_call_and_return_conditional_losses, residual_block_1_layer_call_fn, residual_block_1_layer_call_and_return_conditional_losses, residual_block_2_layer_call_fn while saving (showing 5 of 257). These functions will not be directly callable after loading.\n",
            "\u001b[34m\u001b[1mwandb\u001b[0m: Adding directory to artifact (/content/wandb/run-20230124_123147-sqtahur0/files/model-best)... Done. 0.0s\n"
          ]
        },
        {
          "name": "stdout",
          "output_type": "stream",
          "text": [
            "\b\b\b\b\b\b\b\b\b\b\b\b\b\b\b\b\b\b\b\b\b\b\b\b\b\b\b\b\b\b\b\b\b\b\b\b\b\b\b\b\b\b\b\b\b\b\b\b\b\b\b\b\b\b\b\b\b\b\b\b\b\b\b\b\b\b\b\b\b\b\b\b\b\b\b\b\b\b\b\b\b\b\b\b\b\b\b\b\b\b\b\b\b\b\b\b\b\b\b\b\b\b\b\b\b\b\b\b\b\b\b\r61/61 [==============================] - 17s 274ms/step - loss: 0.2170 - mae: 0.1650 - root_mean_squared_error: 0.2169 - val_loss: 0.1714 - val_mae: 0.1491 - val_root_mean_squared_error: 0.1735 - lr: 0.0250\n",
            "Epoch 12/500\n",
            "61/61 [==============================] - 7s 108ms/step - loss: 0.2170 - mae: 0.1647 - root_mean_squared_error: 0.2169 - val_loss: 0.1805 - val_mae: 0.1587 - val_root_mean_squared_error: 0.1827 - lr: 0.0250\n",
            "Epoch 13/500\n",
            "61/61 [==============================] - 7s 108ms/step - loss: 0.2169 - mae: 0.1649 - root_mean_squared_error: 0.2169 - val_loss: 0.1818 - val_mae: 0.1602 - val_root_mean_squared_error: 0.1841 - lr: 0.0250\n",
            "Epoch 14/500\n",
            "61/61 [==============================] - 7s 109ms/step - loss: 0.2170 - mae: 0.1650 - root_mean_squared_error: 0.2171 - val_loss: 0.1782 - val_mae: 0.1563 - val_root_mean_squared_error: 0.1804 - lr: 0.0250\n",
            "Epoch 15/500\n",
            "61/61 [==============================] - 7s 111ms/step - loss: 0.2169 - mae: 0.1649 - root_mean_squared_error: 0.2169 - val_loss: 0.1734 - val_mae: 0.1513 - val_root_mean_squared_error: 0.1755 - lr: 0.0250\n",
            "Epoch 16/500\n",
            "61/61 [==============================] - 7s 110ms/step - loss: 0.2169 - mae: 0.1648 - root_mean_squared_error: 0.2170 - val_loss: 0.1765 - val_mae: 0.1546 - val_root_mean_squared_error: 0.1787 - lr: 0.0250\n",
            "Epoch 17/500\n",
            "61/61 [==============================] - 7s 109ms/step - loss: 0.2169 - mae: 0.1648 - root_mean_squared_error: 0.2169 - val_loss: 0.1799 - val_mae: 0.1582 - val_root_mean_squared_error: 0.1822 - lr: 0.0250\n",
            "Epoch 18/500\n",
            "61/61 [==============================] - 7s 108ms/step - loss: 0.2169 - mae: 0.1648 - root_mean_squared_error: 0.2169 - val_loss: 0.1808 - val_mae: 0.1591 - val_root_mean_squared_error: 0.1831 - lr: 0.0250\n",
            "Epoch 19/500\n",
            "61/61 [==============================] - 7s 109ms/step - loss: 0.2170 - mae: 0.1649 - root_mean_squared_error: 0.2170 - val_loss: 0.1761 - val_mae: 0.1542 - val_root_mean_squared_error: 0.1783 - lr: 0.0250\n",
            "Epoch 20/500\n",
            "61/61 [==============================] - 7s 112ms/step - loss: 0.2169 - mae: 0.1648 - root_mean_squared_error: 0.2169 - val_loss: 0.1835 - val_mae: 0.1620 - val_root_mean_squared_error: 0.1858 - lr: 0.0250\n",
            "Epoch 21/500\n",
            "61/61 [==============================] - 7s 111ms/step - loss: 0.2170 - mae: 0.1648 - root_mean_squared_error: 0.2169 - val_loss: 0.1793 - val_mae: 0.1575 - val_root_mean_squared_error: 0.1815 - lr: 0.0250\n",
            "Epoch 22/500\n",
            "61/61 [==============================] - 7s 108ms/step - loss: 0.2168 - mae: 0.1650 - root_mean_squared_error: 0.2168 - val_loss: 0.1750 - val_mae: 0.1530 - val_root_mean_squared_error: 0.1771 - lr: 0.0025\n",
            "Epoch 23/500\n",
            "61/61 [==============================] - 7s 107ms/step - loss: 0.2168 - mae: 0.1646 - root_mean_squared_error: 0.2168 - val_loss: 0.1769 - val_mae: 0.1550 - val_root_mean_squared_error: 0.1791 - lr: 0.0025\n",
            "Epoch 24/500\n",
            "61/61 [==============================] - 7s 108ms/step - loss: 0.2168 - mae: 0.1648 - root_mean_squared_error: 0.2167 - val_loss: 0.1758 - val_mae: 0.1538 - val_root_mean_squared_error: 0.1780 - lr: 0.0025\n",
            "Epoch 25/500\n",
            "61/61 [==============================] - 7s 108ms/step - loss: 0.2168 - mae: 0.1647 - root_mean_squared_error: 0.2168 - val_loss: 0.1782 - val_mae: 0.1564 - val_root_mean_squared_error: 0.1804 - lr: 0.0025\n",
            "Epoch 26/500\n",
            "61/61 [==============================] - 7s 108ms/step - loss: 0.2169 - mae: 0.1648 - root_mean_squared_error: 0.2168 - val_loss: 0.1779 - val_mae: 0.1561 - val_root_mean_squared_error: 0.1801 - lr: 0.0025\n"
          ]
        },
        {
          "data": {
            "text/html": [
              "Waiting for W&B process to finish... <strong style=\"color:green\">(success).</strong>"
            ],
            "text/plain": [
              "<IPython.core.display.HTML object>"
            ]
          },
          "metadata": {},
          "output_type": "display_data"
        },
        {
          "data": {
            "application/vnd.jupyter.widget-view+json": {
              "model_id": "6a49c7846b5844d89c28576985e926d0",
              "version_major": 2,
              "version_minor": 0
            },
            "text/plain": [
              "VBox(children=(Label(value='57.762 MB of 57.762 MB uploaded (0.399 MB deduped)\\r'), FloatProgress(value=1.0, m…"
            ]
          },
          "metadata": {},
          "output_type": "display_data"
        },
        {
          "data": {
            "text/html": [
              "<style>\n",
              "    table.wandb td:nth-child(1) { padding: 0 10px; text-align: left ; width: auto;} td:nth-child(2) {text-align: left ; width: 100%}\n",
              "    .wandb-row { display: flex; flex-direction: row; flex-wrap: wrap; justify-content: flex-start; width: 100% }\n",
              "    .wandb-col { display: flex; flex-direction: column; flex-basis: 100%; flex: 1; padding: 10px; }\n",
              "    </style>\n",
              "<div class=\"wandb-row\"><div class=\"wandb-col\"><h3>Run history:</h3><br/><table class=\"wandb\"><tr><td>epoch</td><td>▁▁▂▂▂▂▃▃▃▄▄▄▄▅▅▅▅▆▆▆▇▇▇▇██</td></tr><tr><td>loss</td><td>█▁▁▁▁▁▁▁▁▁▁▁▁▁▁▁▁▁▁▁▁▁▁▁▁▁</td></tr><tr><td>mae</td><td>█▁▁▁▁▁▁▁▁▁▁▁▁▁▁▁▁▁▁▁▁▁▁▁▁▁</td></tr><tr><td>root_mean_squared_error</td><td>█▁▁▁▁▁▁▁▁▁▁▁▁▁▁▁▁▁▁▁▁▁▁▁▁▁</td></tr><tr><td>val_loss</td><td>▇▅▇▃▆▅▇▆▂▄▁▆▇▅▂▄▆▆▄█▆▃▄▄▅▅</td></tr><tr><td>val_mae</td><td>▆▅▇▃▇▅▇▆▂▄▁▆▇▅▂▄▆▆▄█▆▃▄▄▅▅</td></tr><tr><td>val_root_mean_squared_error</td><td>▇▅▇▃▆▅▇▆▂▄▁▆▇▅▂▄▆▆▄█▆▃▄▄▅▅</td></tr></table><br/></div><div class=\"wandb-col\"><h3>Run summary:</h3><br/><table class=\"wandb\"><tr><td>best_epoch</td><td>10</td></tr><tr><td>best_val_loss</td><td>0.1714</td></tr><tr><td>epoch</td><td>25</td></tr><tr><td>loss</td><td>0.21686</td></tr><tr><td>mae</td><td>0.16479</td></tr><tr><td>root_mean_squared_error</td><td>0.21682</td></tr><tr><td>val_loss</td><td>0.17793</td></tr><tr><td>val_mae</td><td>0.1561</td></tr><tr><td>val_root_mean_squared_error</td><td>0.18014</td></tr></table><br/></div></div>"
            ],
            "text/plain": [
              "<IPython.core.display.HTML object>"
            ]
          },
          "metadata": {},
          "output_type": "display_data"
        },
        {
          "data": {
            "text/html": [
              " View run <strong style=\"color:#cdcd00\">rare-sweep-17</strong> at: <a href=\"https://wandb.ai/dsp_aguro/aguro_tcn/runs/sqtahur0\" target=\"_blank\">https://wandb.ai/dsp_aguro/aguro_tcn/runs/sqtahur0</a><br/>Synced 5 W&B file(s), 1 media file(s), 20 artifact file(s) and 1 other file(s)"
            ],
            "text/plain": [
              "<IPython.core.display.HTML object>"
            ]
          },
          "metadata": {},
          "output_type": "display_data"
        },
        {
          "data": {
            "text/html": [
              "Find logs at: <code>./wandb/run-20230124_123147-sqtahur0/logs</code>"
            ],
            "text/plain": [
              "<IPython.core.display.HTML object>"
            ]
          },
          "metadata": {},
          "output_type": "display_data"
        },
        {
          "name": "stderr",
          "output_type": "stream",
          "text": [
            "\u001b[34m\u001b[1mwandb\u001b[0m: Agent Starting Run: t8fgscj0 with config:\n",
            "\u001b[34m\u001b[1mwandb\u001b[0m: \tbatch_size: 512\n",
            "\u001b[34m\u001b[1mwandb\u001b[0m: \tdropout_rate: 0.6\n",
            "\u001b[34m\u001b[1mwandb\u001b[0m: \tepochs: 500\n",
            "\u001b[34m\u001b[1mwandb\u001b[0m: \tkernel_size: 12\n",
            "\u001b[34m\u001b[1mwandb\u001b[0m: \tlr: 0.007418385136535422\n",
            "\u001b[34m\u001b[1mwandb\u001b[0m: \tnb_filters: 16\n",
            "\u001b[34m\u001b[1mwandb\u001b[0m: \toptimizer: adam\n",
            "Failed to detect the name of this notebook, you can set it manually with the WANDB_NOTEBOOK_NAME environment variable to enable code saving.\n"
          ]
        },
        {
          "data": {
            "text/html": [
              "Tracking run with wandb version 0.13.9"
            ],
            "text/plain": [
              "<IPython.core.display.HTML object>"
            ]
          },
          "metadata": {},
          "output_type": "display_data"
        },
        {
          "data": {
            "text/html": [
              "Run data is saved locally in <code>/content/wandb/run-20230124_123618-t8fgscj0</code>"
            ],
            "text/plain": [
              "<IPython.core.display.HTML object>"
            ]
          },
          "metadata": {},
          "output_type": "display_data"
        },
        {
          "data": {
            "text/html": [
              "Syncing run <strong><a href=\"https://wandb.ai/dsp_aguro/aguro_tcn/runs/t8fgscj0\" target=\"_blank\">zany-sweep-18</a></strong> to <a href=\"https://wandb.ai/dsp_aguro/aguro_tcn\" target=\"_blank\">Weights & Biases</a> (<a href=\"https://wandb.me/run\" target=\"_blank\">docs</a>)<br/>Sweep page: <a href=\"https://wandb.ai/dsp_aguro/aguro_tcn/sweeps/9vw7gd6y\" target=\"_blank\">https://wandb.ai/dsp_aguro/aguro_tcn/sweeps/9vw7gd6y</a>"
            ],
            "text/plain": [
              "<IPython.core.display.HTML object>"
            ]
          },
          "metadata": {},
          "output_type": "display_data"
        },
        {
          "data": {
            "text/html": [
              " View project at <a href=\"https://wandb.ai/dsp_aguro/aguro_tcn\" target=\"_blank\">https://wandb.ai/dsp_aguro/aguro_tcn</a>"
            ],
            "text/plain": [
              "<IPython.core.display.HTML object>"
            ]
          },
          "metadata": {},
          "output_type": "display_data"
        },
        {
          "data": {
            "text/html": [
              " View sweep at <a href=\"https://wandb.ai/dsp_aguro/aguro_tcn/sweeps/9vw7gd6y\" target=\"_blank\">https://wandb.ai/dsp_aguro/aguro_tcn/sweeps/9vw7gd6y</a>"
            ],
            "text/plain": [
              "<IPython.core.display.HTML object>"
            ]
          },
          "metadata": {},
          "output_type": "display_data"
        },
        {
          "data": {
            "text/html": [
              " View run at <a href=\"https://wandb.ai/dsp_aguro/aguro_tcn/runs/t8fgscj0\" target=\"_blank\">https://wandb.ai/dsp_aguro/aguro_tcn/runs/t8fgscj0</a>"
            ],
            "text/plain": [
              "<IPython.core.display.HTML object>"
            ]
          },
          "metadata": {},
          "output_type": "display_data"
        },
        {
          "name": "stdout",
          "output_type": "stream",
          "text": [
            "Epoch 1/500\n",
            " 6/61 [=>............................] - ETA: 6s - loss: 1.1139 - mae: 0.9140 - root_mean_squared_error: 1.1139"
          ]
        },
        {
          "name": "stderr",
          "output_type": "stream",
          "text": [
            "WARNING:tensorflow:Callback method `on_train_batch_end` is slow compared to the batch time (batch time: 0.0287s vs `on_train_batch_end` time: 0.0884s). Check your callbacks.\n"
          ]
        },
        {
          "name": "stdout",
          "output_type": "stream",
          "text": [
            "61/61 [==============================] - ETA: 0s - loss: 0.4098 - mae: 0.3380 - root_mean_squared_error: 0.4091"
          ]
        },
        {
          "name": "stderr",
          "output_type": "stream",
          "text": [
            "WARNING:absl:Found untraced functions such as residual_block_0_layer_call_fn, residual_block_0_layer_call_and_return_conditional_losses, residual_block_1_layer_call_fn, residual_block_1_layer_call_and_return_conditional_losses, residual_block_2_layer_call_fn while saving (showing 5 of 257). These functions will not be directly callable after loading.\n",
            "\u001b[34m\u001b[1mwandb\u001b[0m: Adding directory to artifact (/content/wandb/run-20230124_123618-t8fgscj0/files/model-best)... Done. 0.0s\n"
          ]
        },
        {
          "name": "stdout",
          "output_type": "stream",
          "text": [
            "\b\b\b\b\b\b\b\b\b\b\b\b\b\b\b\b\b\b\b\b\b\b\b\b\b\b\b\b\b\b\b\b\b\b\b\b\b\b\b\b\b\b\b\b\b\b\b\b\b\b\b\b\b\b\b\b\b\b\b\b\b\b\b\b\b\b\b\b\b\b\b\b\b\b\b\b\b\b\b\b\b\b\b\b\b\b\b\b\b\b\b\b\b\b\b\b\b\b\b\b\b\b\b\b\b\b\b\b\b\b\b\r61/61 [==============================] - 22s 278ms/step - loss: 0.4098 - mae: 0.3380 - root_mean_squared_error: 0.4091 - val_loss: 0.2087 - val_mae: 0.1886 - val_root_mean_squared_error: 0.2111 - lr: 0.0074\n",
            "Epoch 2/500\n",
            "61/61 [==============================] - ETA: 0s - loss: 0.2281 - mae: 0.1764 - root_mean_squared_error: 0.2282"
          ]
        },
        {
          "name": "stderr",
          "output_type": "stream",
          "text": [
            "WARNING:absl:Found untraced functions such as residual_block_0_layer_call_fn, residual_block_0_layer_call_and_return_conditional_losses, residual_block_1_layer_call_fn, residual_block_1_layer_call_and_return_conditional_losses, residual_block_2_layer_call_fn while saving (showing 5 of 257). These functions will not be directly callable after loading.\n",
            "\u001b[34m\u001b[1mwandb\u001b[0m: Adding directory to artifact (/content/wandb/run-20230124_123618-t8fgscj0/files/model-best)... Done. 0.0s\n"
          ]
        },
        {
          "name": "stdout",
          "output_type": "stream",
          "text": [
            "\b\b\b\b\b\b\b\b\b\b\b\b\b\b\b\b\b\b\b\b\b\b\b\b\b\b\b\b\b\b\b\b\b\b\b\b\b\b\b\b\b\b\b\b\b\b\b\b\b\b\b\b\b\b\b\b\b\b\b\b\b\b\b\b\b\b\b\b\b\b\b\b\b\b\b\b\b\b\b\b\b\b\b\b\b\b\b\b\b\b\b\b\b\b\b\b\b\b\b\b\b\b\b\b\b\b\b\b\b\b\b\r61/61 [==============================] - 16s 270ms/step - loss: 0.2281 - mae: 0.1764 - root_mean_squared_error: 0.2282 - val_loss: 0.1855 - val_mae: 0.1643 - val_root_mean_squared_error: 0.1872 - lr: 0.0074\n",
            "Epoch 3/500\n",
            "61/61 [==============================] - ETA: 0s - loss: 0.2096 - mae: 0.1588 - root_mean_squared_error: 0.2095"
          ]
        },
        {
          "name": "stderr",
          "output_type": "stream",
          "text": [
            "WARNING:absl:Found untraced functions such as residual_block_0_layer_call_fn, residual_block_0_layer_call_and_return_conditional_losses, residual_block_1_layer_call_fn, residual_block_1_layer_call_and_return_conditional_losses, residual_block_2_layer_call_fn while saving (showing 5 of 257). These functions will not be directly callable after loading.\n",
            "\u001b[34m\u001b[1mwandb\u001b[0m: Adding directory to artifact (/content/wandb/run-20230124_123618-t8fgscj0/files/model-best)... Done. 0.0s\n"
          ]
        },
        {
          "name": "stdout",
          "output_type": "stream",
          "text": [
            "\b\b\b\b\b\b\b\b\b\b\b\b\b\b\b\b\b\b\b\b\b\b\b\b\b\b\b\b\b\b\b\b\b\b\b\b\b\b\b\b\b\b\b\b\b\b\b\b\b\b\b\b\b\b\b\b\b\b\b\b\b\b\b\b\b\b\b\b\b\b\b\b\b\b\b\b\b\b\b\b\b\b\b\b\b\b\b\b\b\b\b\b\b\b\b\b\b\b\b\b\b\b\b\b\b\b\b\b\b\b\b\r61/61 [==============================] - 16s 269ms/step - loss: 0.2096 - mae: 0.1588 - root_mean_squared_error: 0.2095 - val_loss: 0.1687 - val_mae: 0.1458 - val_root_mean_squared_error: 0.1700 - lr: 0.0074\n",
            "Epoch 4/500\n",
            "61/61 [==============================] - ETA: 0s - loss: 0.1974 - mae: 0.1480 - root_mean_squared_error: 0.1974"
          ]
        },
        {
          "name": "stderr",
          "output_type": "stream",
          "text": [
            "WARNING:absl:Found untraced functions such as residual_block_0_layer_call_fn, residual_block_0_layer_call_and_return_conditional_losses, residual_block_1_layer_call_fn, residual_block_1_layer_call_and_return_conditional_losses, residual_block_2_layer_call_fn while saving (showing 5 of 257). These functions will not be directly callable after loading.\n",
            "\u001b[34m\u001b[1mwandb\u001b[0m: Adding directory to artifact (/content/wandb/run-20230124_123618-t8fgscj0/files/model-best)... Done. 0.0s\n"
          ]
        },
        {
          "name": "stdout",
          "output_type": "stream",
          "text": [
            "\b\b\b\b\b\b\b\b\b\b\b\b\b\b\b\b\b\b\b\b\b\b\b\b\b\b\b\b\b\b\b\b\b\b\b\b\b\b\b\b\b\b\b\b\b\b\b\b\b\b\b\b\b\b\b\b\b\b\b\b\b\b\b\b\b\b\b\b\b\b\b\b\b\b\b\b\b\b\b\b\b\b\b\b\b\b\b\b\b\b\b\b\b\b\b\b\b\b\b\b\b\b\b\b\b\b\b\b\b\b\b\r61/61 [==============================] - 17s 277ms/step - loss: 0.1974 - mae: 0.1480 - root_mean_squared_error: 0.1974 - val_loss: 0.1677 - val_mae: 0.1431 - val_root_mean_squared_error: 0.1684 - lr: 0.0074\n",
            "Epoch 5/500\n",
            "61/61 [==============================] - ETA: 0s - loss: 0.1901 - mae: 0.1415 - root_mean_squared_error: 0.1900"
          ]
        },
        {
          "name": "stderr",
          "output_type": "stream",
          "text": [
            "WARNING:absl:Found untraced functions such as residual_block_0_layer_call_fn, residual_block_0_layer_call_and_return_conditional_losses, residual_block_1_layer_call_fn, residual_block_1_layer_call_and_return_conditional_losses, residual_block_2_layer_call_fn while saving (showing 5 of 257). These functions will not be directly callable after loading.\n",
            "\u001b[34m\u001b[1mwandb\u001b[0m: Adding directory to artifact (/content/wandb/run-20230124_123618-t8fgscj0/files/model-best)... Done. 0.0s\n"
          ]
        },
        {
          "name": "stdout",
          "output_type": "stream",
          "text": [
            "\b\b\b\b\b\b\b\b\b\b\b\b\b\b\b\b\b\b\b\b\b\b\b\b\b\b\b\b\b\b\b\b\b\b\b\b\b\b\b\b\b\b\b\b\b\b\b\b\b\b\b\b\b\b\b\b\b\b\b\b\b\b\b\b\b\b\b\b\b\b\b\b\b\b\b\b\b\b\b\b\b\b\b\b\b\b\b\b\b\b\b\b\b\b\b\b\b\b\b\b\b\b\b\b\b\b\b\b\b\b\b\r61/61 [==============================] - 17s 273ms/step - loss: 0.1901 - mae: 0.1415 - root_mean_squared_error: 0.1900 - val_loss: 0.1531 - val_mae: 0.1275 - val_root_mean_squared_error: 0.1539 - lr: 0.0074\n",
            "Epoch 6/500\n",
            "61/61 [==============================] - ETA: 0s - loss: 0.1860 - mae: 0.1382 - root_mean_squared_error: 0.1859"
          ]
        },
        {
          "name": "stderr",
          "output_type": "stream",
          "text": [
            "WARNING:absl:Found untraced functions such as residual_block_0_layer_call_fn, residual_block_0_layer_call_and_return_conditional_losses, residual_block_1_layer_call_fn, residual_block_1_layer_call_and_return_conditional_losses, residual_block_2_layer_call_fn while saving (showing 5 of 257). These functions will not be directly callable after loading.\n",
            "\u001b[34m\u001b[1mwandb\u001b[0m: Adding directory to artifact (/content/wandb/run-20230124_123618-t8fgscj0/files/model-best)... Done. 0.0s\n"
          ]
        },
        {
          "name": "stdout",
          "output_type": "stream",
          "text": [
            "\b\b\b\b\b\b\b\b\b\b\b\b\b\b\b\b\b\b\b\b\b\b\b\b\b\b\b\b\b\b\b\b\b\b\b\b\b\b\b\b\b\b\b\b\b\b\b\b\b\b\b\b\b\b\b\b\b\b\b\b\b\b\b\b\b\b\b\b\b\b\b\b\b\b\b\b\b\b\b\b\b\b\b\b\b\b\b\b\b\b\b\b\b\b\b\b\b\b\b\b\b\b\b\b\b\b\b\b\b\b\b\r61/61 [==============================] - 17s 273ms/step - loss: 0.1860 - mae: 0.1382 - root_mean_squared_error: 0.1859 - val_loss: 0.1483 - val_mae: 0.1198 - val_root_mean_squared_error: 0.1487 - lr: 0.0074\n",
            "Epoch 7/500\n",
            "61/61 [==============================] - 7s 108ms/step - loss: 0.1832 - mae: 0.1361 - root_mean_squared_error: 0.1831 - val_loss: 0.1484 - val_mae: 0.1194 - val_root_mean_squared_error: 0.1485 - lr: 0.0074\n",
            "Epoch 8/500\n",
            "61/61 [==============================] - 7s 108ms/step - loss: 0.1816 - mae: 0.1347 - root_mean_squared_error: 0.1816 - val_loss: 0.1575 - val_mae: 0.1310 - val_root_mean_squared_error: 0.1580 - lr: 0.0074\n",
            "Epoch 9/500\n",
            "61/61 [==============================] - 7s 107ms/step - loss: 0.1802 - mae: 0.1334 - root_mean_squared_error: 0.1802 - val_loss: 0.1582 - val_mae: 0.1312 - val_root_mean_squared_error: 0.1583 - lr: 0.0074\n",
            "Epoch 10/500\n",
            "61/61 [==============================] - 6s 106ms/step - loss: 0.1781 - mae: 0.1316 - root_mean_squared_error: 0.1782 - val_loss: 0.1484 - val_mae: 0.1183 - val_root_mean_squared_error: 0.1482 - lr: 0.0074\n",
            "Epoch 11/500\n",
            "61/61 [==============================] - 6s 106ms/step - loss: 0.1775 - mae: 0.1310 - root_mean_squared_error: 0.1775 - val_loss: 0.1554 - val_mae: 0.1270 - val_root_mean_squared_error: 0.1552 - lr: 0.0074\n",
            "Epoch 12/500\n",
            "61/61 [==============================] - 6s 105ms/step - loss: 0.1764 - mae: 0.1305 - root_mean_squared_error: 0.1764 - val_loss: 0.1516 - val_mae: 0.1225 - val_root_mean_squared_error: 0.1515 - lr: 0.0074\n",
            "Epoch 13/500\n",
            "61/61 [==============================] - ETA: 0s - loss: 0.1752 - mae: 0.1291 - root_mean_squared_error: 0.1752"
          ]
        },
        {
          "name": "stderr",
          "output_type": "stream",
          "text": [
            "WARNING:absl:Found untraced functions such as residual_block_0_layer_call_fn, residual_block_0_layer_call_and_return_conditional_losses, residual_block_1_layer_call_fn, residual_block_1_layer_call_and_return_conditional_losses, residual_block_2_layer_call_fn while saving (showing 5 of 257). These functions will not be directly callable after loading.\n",
            "\u001b[34m\u001b[1mwandb\u001b[0m: Adding directory to artifact (/content/wandb/run-20230124_123618-t8fgscj0/files/model-best)... Done. 0.0s\n"
          ]
        },
        {
          "name": "stdout",
          "output_type": "stream",
          "text": [
            "\b\b\b\b\b\b\b\b\b\b\b\b\b\b\b\b\b\b\b\b\b\b\b\b\b\b\b\b\b\b\b\b\b\b\b\b\b\b\b\b\b\b\b\b\b\b\b\b\b\b\b\b\b\b\b\b\b\b\b\b\b\b\b\b\b\b\b\b\b\b\b\b\b\b\b\b\b\b\b\b\b\b\b\b\b\b\b\b\b\b\b\b\b\b\b\b\b\b\b\b\b\b\b\b\b\b\b\b\b\b\b\r61/61 [==============================] - 16s 271ms/step - loss: 0.1752 - mae: 0.1291 - root_mean_squared_error: 0.1752 - val_loss: 0.1433 - val_mae: 0.1126 - val_root_mean_squared_error: 0.1431 - lr: 0.0074\n",
            "Epoch 14/500\n",
            "61/61 [==============================] - ETA: 0s - loss: 0.1763 - mae: 0.1303 - root_mean_squared_error: 0.1763"
          ]
        },
        {
          "name": "stderr",
          "output_type": "stream",
          "text": [
            "WARNING:absl:Found untraced functions such as residual_block_0_layer_call_fn, residual_block_0_layer_call_and_return_conditional_losses, residual_block_1_layer_call_fn, residual_block_1_layer_call_and_return_conditional_losses, residual_block_2_layer_call_fn while saving (showing 5 of 257). These functions will not be directly callable after loading.\n",
            "\u001b[34m\u001b[1mwandb\u001b[0m: Adding directory to artifact (/content/wandb/run-20230124_123618-t8fgscj0/files/model-best)... Done. 0.0s\n"
          ]
        },
        {
          "name": "stdout",
          "output_type": "stream",
          "text": [
            "\b\b\b\b\b\b\b\b\b\b\b\b\b\b\b\b\b\b\b\b\b\b\b\b\b\b\b\b\b\b\b\b\b\b\b\b\b\b\b\b\b\b\b\b\b\b\b\b\b\b\b\b\b\b\b\b\b\b\b\b\b\b\b\b\b\b\b\b\b\b\b\b\b\b\b\b\b\b\b\b\b\b\b\b\b\b\b\b\b\b\b\b\b\b\b\b\b\b\b\b\b\b\b\b\b\b\b\b\b\b\b\r61/61 [==============================] - 16s 270ms/step - loss: 0.1763 - mae: 0.1303 - root_mean_squared_error: 0.1763 - val_loss: 0.1432 - val_mae: 0.1131 - val_root_mean_squared_error: 0.1434 - lr: 0.0074\n",
            "Epoch 15/500\n",
            "61/61 [==============================] - ETA: 0s - loss: 0.1747 - mae: 0.1287 - root_mean_squared_error: 0.1747"
          ]
        },
        {
          "name": "stderr",
          "output_type": "stream",
          "text": [
            "WARNING:absl:Found untraced functions such as residual_block_0_layer_call_fn, residual_block_0_layer_call_and_return_conditional_losses, residual_block_1_layer_call_fn, residual_block_1_layer_call_and_return_conditional_losses, residual_block_2_layer_call_fn while saving (showing 5 of 257). These functions will not be directly callable after loading.\n",
            "\u001b[34m\u001b[1mwandb\u001b[0m: Adding directory to artifact (/content/wandb/run-20230124_123618-t8fgscj0/files/model-best)... Done. 0.0s\n"
          ]
        },
        {
          "name": "stdout",
          "output_type": "stream",
          "text": [
            "\b\b\b\b\b\b\b\b\b\b\b\b\b\b\b\b\b\b\b\b\b\b\b\b\b\b\b\b\b\b\b\b\b\b\b\b\b\b\b\b\b\b\b\b\b\b\b\b\b\b\b\b\b\b\b\b\b\b\b\b\b\b\b\b\b\b\b\b\b\b\b\b\b\b\b\b\b\b\b\b\b\b\b\b\b\b\b\b\b\b\b\b\b\b\b\b\b\b\b\b\b\b\b\b\b\b\b\b\b\b\b\r61/61 [==============================] - 16s 271ms/step - loss: 0.1747 - mae: 0.1287 - root_mean_squared_error: 0.1747 - val_loss: 0.1405 - val_mae: 0.1094 - val_root_mean_squared_error: 0.1402 - lr: 0.0074\n",
            "Epoch 16/500\n",
            "61/61 [==============================] - 7s 106ms/step - loss: 0.1738 - mae: 0.1280 - root_mean_squared_error: 0.1739 - val_loss: 0.1421 - val_mae: 0.1112 - val_root_mean_squared_error: 0.1417 - lr: 0.0074\n",
            "Epoch 17/500\n",
            "61/61 [==============================] - ETA: 0s - loss: 0.1740 - mae: 0.1279 - root_mean_squared_error: 0.1740"
          ]
        },
        {
          "name": "stderr",
          "output_type": "stream",
          "text": [
            "WARNING:absl:Found untraced functions such as residual_block_0_layer_call_fn, residual_block_0_layer_call_and_return_conditional_losses, residual_block_1_layer_call_fn, residual_block_1_layer_call_and_return_conditional_losses, residual_block_2_layer_call_fn while saving (showing 5 of 257). These functions will not be directly callable after loading.\n",
            "\u001b[34m\u001b[1mwandb\u001b[0m: Adding directory to artifact (/content/wandb/run-20230124_123618-t8fgscj0/files/model-best)... Done. 0.0s\n"
          ]
        },
        {
          "name": "stdout",
          "output_type": "stream",
          "text": [
            "\b\b\b\b\b\b\b\b\b\b\b\b\b\b\b\b\b\b\b\b\b\b\b\b\b\b\b\b\b\b\b\b\b\b\b\b\b\b\b\b\b\b\b\b\b\b\b\b\b\b\b\b\b\b\b\b\b\b\b\b\b\b\b\b\b\b\b\b\b\b\b\b\b\b\b\b\b\b\b\b\b\b\b\b\b\b\b\b\b\b\b\b\b\b\b\b\b\b\b\b\b\b\b\b\b\b\b\b\b\b\b\r61/61 [==============================] - 16s 267ms/step - loss: 0.1740 - mae: 0.1279 - root_mean_squared_error: 0.1740 - val_loss: 0.1402 - val_mae: 0.1091 - val_root_mean_squared_error: 0.1398 - lr: 0.0074\n",
            "Epoch 18/500\n",
            "61/61 [==============================] - ETA: 0s - loss: 0.1733 - mae: 0.1274 - root_mean_squared_error: 0.1733"
          ]
        },
        {
          "name": "stderr",
          "output_type": "stream",
          "text": [
            "WARNING:absl:Found untraced functions such as residual_block_0_layer_call_fn, residual_block_0_layer_call_and_return_conditional_losses, residual_block_1_layer_call_fn, residual_block_1_layer_call_and_return_conditional_losses, residual_block_2_layer_call_fn while saving (showing 5 of 257). These functions will not be directly callable after loading.\n",
            "\u001b[34m\u001b[1mwandb\u001b[0m: Adding directory to artifact (/content/wandb/run-20230124_123618-t8fgscj0/files/model-best)... Done. 0.0s\n"
          ]
        },
        {
          "name": "stdout",
          "output_type": "stream",
          "text": [
            "\b\b\b\b\b\b\b\b\b\b\b\b\b\b\b\b\b\b\b\b\b\b\b\b\b\b\b\b\b\b\b\b\b\b\b\b\b\b\b\b\b\b\b\b\b\b\b\b\b\b\b\b\b\b\b\b\b\b\b\b\b\b\b\b\b\b\b\b\b\b\b\b\b\b\b\b\b\b\b\b\b\b\b\b\b\b\b\b\b\b\b\b\b\b\b\b\b\b\b\b\b\b\b\b\b\b\b\b\b\b\b\r61/61 [==============================] - 16s 270ms/step - loss: 0.1733 - mae: 0.1274 - root_mean_squared_error: 0.1733 - val_loss: 0.1381 - val_mae: 0.1060 - val_root_mean_squared_error: 0.1375 - lr: 0.0074\n",
            "Epoch 19/500\n",
            "61/61 [==============================] - 7s 107ms/step - loss: 0.1730 - mae: 0.1275 - root_mean_squared_error: 0.1730 - val_loss: 0.1473 - val_mae: 0.1180 - val_root_mean_squared_error: 0.1467 - lr: 0.0074\n",
            "Epoch 20/500\n",
            "61/61 [==============================] - ETA: 0s - loss: 0.1713 - mae: 0.1253 - root_mean_squared_error: 0.1713"
          ]
        },
        {
          "name": "stderr",
          "output_type": "stream",
          "text": [
            "WARNING:absl:Found untraced functions such as residual_block_0_layer_call_fn, residual_block_0_layer_call_and_return_conditional_losses, residual_block_1_layer_call_fn, residual_block_1_layer_call_and_return_conditional_losses, residual_block_2_layer_call_fn while saving (showing 5 of 257). These functions will not be directly callable after loading.\n",
            "\u001b[34m\u001b[1mwandb\u001b[0m: Adding directory to artifact (/content/wandb/run-20230124_123618-t8fgscj0/files/model-best)... Done. 0.0s\n"
          ]
        },
        {
          "name": "stdout",
          "output_type": "stream",
          "text": [
            "\b\b\b\b\b\b\b\b\b\b\b\b\b\b\b\b\b\b\b\b\b\b\b\b\b\b\b\b\b\b\b\b\b\b\b\b\b\b\b\b\b\b\b\b\b\b\b\b\b\b\b\b\b\b\b\b\b\b\b\b\b\b\b\b\b\b\b\b\b\b\b\b\b\b\b\b\b\b\b\b\b\b\b\b\b\b\b\b\b\b\b\b\b\b\b\b\b\b\b\b\b\b\b\b\b\b\b\b\b\b\b\r61/61 [==============================] - 16s 272ms/step - loss: 0.1713 - mae: 0.1253 - root_mean_squared_error: 0.1713 - val_loss: 0.1372 - val_mae: 0.1050 - val_root_mean_squared_error: 0.1365 - lr: 0.0074\n",
            "Epoch 21/500\n",
            "61/61 [==============================] - 7s 106ms/step - loss: 0.1711 - mae: 0.1253 - root_mean_squared_error: 0.1711 - val_loss: 0.1445 - val_mae: 0.1150 - val_root_mean_squared_error: 0.1442 - lr: 0.0074\n",
            "Epoch 22/500\n",
            "61/61 [==============================] - 6s 106ms/step - loss: 0.1699 - mae: 0.1245 - root_mean_squared_error: 0.1699 - val_loss: 0.1410 - val_mae: 0.1111 - val_root_mean_squared_error: 0.1406 - lr: 0.0074\n",
            "Epoch 23/500\n",
            "61/61 [==============================] - ETA: 0s - loss: 0.1693 - mae: 0.1239 - root_mean_squared_error: 0.1694"
          ]
        },
        {
          "name": "stderr",
          "output_type": "stream",
          "text": [
            "WARNING:absl:Found untraced functions such as residual_block_0_layer_call_fn, residual_block_0_layer_call_and_return_conditional_losses, residual_block_1_layer_call_fn, residual_block_1_layer_call_and_return_conditional_losses, residual_block_2_layer_call_fn while saving (showing 5 of 257). These functions will not be directly callable after loading.\n",
            "\u001b[34m\u001b[1mwandb\u001b[0m: Adding directory to artifact (/content/wandb/run-20230124_123618-t8fgscj0/files/model-best)... Done. 0.0s\n"
          ]
        },
        {
          "name": "stdout",
          "output_type": "stream",
          "text": [
            "\b\b\b\b\b\b\b\b\b\b\b\b\b\b\b\b\b\b\b\b\b\b\b\b\b\b\b\b\b\b\b\b\b\b\b\b\b\b\b\b\b\b\b\b\b\b\b\b\b\b\b\b\b\b\b\b\b\b\b\b\b\b\b\b\b\b\b\b\b\b\b\b\b\b\b\b\b\b\b\b\b\b\b\b\b\b\b\b\b\b\b\b\b\b\b\b\b\b\b\b\b\b\b\b\b\b\b\b\b\b\b\r61/61 [==============================] - 16s 270ms/step - loss: 0.1693 - mae: 0.1239 - root_mean_squared_error: 0.1694 - val_loss: 0.1326 - val_mae: 0.0972 - val_root_mean_squared_error: 0.1316 - lr: 0.0074\n",
            "Epoch 24/500\n",
            "61/61 [==============================] - 6s 105ms/step - loss: 0.1689 - mae: 0.1233 - root_mean_squared_error: 0.1688 - val_loss: 0.1369 - val_mae: 0.1050 - val_root_mean_squared_error: 0.1360 - lr: 0.0074\n",
            "Epoch 25/500\n",
            "61/61 [==============================] - 6s 107ms/step - loss: 0.1690 - mae: 0.1236 - root_mean_squared_error: 0.1690 - val_loss: 0.1439 - val_mae: 0.1147 - val_root_mean_squared_error: 0.1434 - lr: 0.0074\n",
            "Epoch 26/500\n",
            "61/61 [==============================] - 6s 106ms/step - loss: 0.1684 - mae: 0.1228 - root_mean_squared_error: 0.1684 - val_loss: 0.1467 - val_mae: 0.1185 - val_root_mean_squared_error: 0.1465 - lr: 0.0074\n",
            "Epoch 27/500\n",
            "61/61 [==============================] - 6s 107ms/step - loss: 0.1681 - mae: 0.1229 - root_mean_squared_error: 0.1681 - val_loss: 0.1420 - val_mae: 0.1125 - val_root_mean_squared_error: 0.1415 - lr: 0.0074\n",
            "Epoch 28/500\n",
            "61/61 [==============================] - 7s 108ms/step - loss: 0.1675 - mae: 0.1222 - root_mean_squared_error: 0.1676 - val_loss: 0.1444 - val_mae: 0.1166 - val_root_mean_squared_error: 0.1443 - lr: 0.0074\n",
            "Epoch 29/500\n",
            "61/61 [==============================] - 6s 106ms/step - loss: 0.1675 - mae: 0.1224 - root_mean_squared_error: 0.1674 - val_loss: 0.1357 - val_mae: 0.1063 - val_root_mean_squared_error: 0.1353 - lr: 0.0074\n",
            "Epoch 30/500\n",
            "61/61 [==============================] - 6s 106ms/step - loss: 0.1669 - mae: 0.1215 - root_mean_squared_error: 0.1669 - val_loss: 0.1391 - val_mae: 0.1108 - val_root_mean_squared_error: 0.1387 - lr: 0.0074\n",
            "Epoch 31/500\n",
            "61/61 [==============================] - ETA: 0s - loss: 0.1660 - mae: 0.1210 - root_mean_squared_error: 0.1660"
          ]
        },
        {
          "name": "stderr",
          "output_type": "stream",
          "text": [
            "WARNING:absl:Found untraced functions such as residual_block_0_layer_call_fn, residual_block_0_layer_call_and_return_conditional_losses, residual_block_1_layer_call_fn, residual_block_1_layer_call_and_return_conditional_losses, residual_block_2_layer_call_fn while saving (showing 5 of 257). These functions will not be directly callable after loading.\n",
            "\u001b[34m\u001b[1mwandb\u001b[0m: Adding directory to artifact (/content/wandb/run-20230124_123618-t8fgscj0/files/model-best)... Done. 0.0s\n"
          ]
        },
        {
          "name": "stdout",
          "output_type": "stream",
          "text": [
            "\b\b\b\b\b\b\b\b\b\b\b\b\b\b\b\b\b\b\b\b\b\b\b\b\b\b\b\b\b\b\b\b\b\b\b\b\b\b\b\b\b\b\b\b\b\b\b\b\b\b\b\b\b\b\b\b\b\b\b\b\b\b\b\b\b\b\b\b\b\b\b\b\b\b\b\b\b\b\b\b\b\b\b\b\b\b\b\b\b\b\b\b\b\b\b\b\b\b\b\b\b\b\b\b\b\b\b\b\b\b\b\r61/61 [==============================] - 17s 274ms/step - loss: 0.1660 - mae: 0.1210 - root_mean_squared_error: 0.1660 - val_loss: 0.1319 - val_mae: 0.1008 - val_root_mean_squared_error: 0.1314 - lr: 0.0074\n",
            "Epoch 32/500\n",
            "61/61 [==============================] - 7s 106ms/step - loss: 0.1666 - mae: 0.1214 - root_mean_squared_error: 0.1666 - val_loss: 0.1380 - val_mae: 0.1091 - val_root_mean_squared_error: 0.1376 - lr: 0.0074\n",
            "Epoch 33/500\n",
            "61/61 [==============================] - ETA: 0s - loss: 0.1665 - mae: 0.1212 - root_mean_squared_error: 0.1664"
          ]
        },
        {
          "name": "stderr",
          "output_type": "stream",
          "text": [
            "WARNING:absl:Found untraced functions such as residual_block_0_layer_call_fn, residual_block_0_layer_call_and_return_conditional_losses, residual_block_1_layer_call_fn, residual_block_1_layer_call_and_return_conditional_losses, residual_block_2_layer_call_fn while saving (showing 5 of 257). These functions will not be directly callable after loading.\n",
            "\u001b[34m\u001b[1mwandb\u001b[0m: Adding directory to artifact (/content/wandb/run-20230124_123618-t8fgscj0/files/model-best)... Done. 0.0s\n"
          ]
        },
        {
          "name": "stdout",
          "output_type": "stream",
          "text": [
            "\b\b\b\b\b\b\b\b\b\b\b\b\b\b\b\b\b\b\b\b\b\b\b\b\b\b\b\b\b\b\b\b\b\b\b\b\b\b\b\b\b\b\b\b\b\b\b\b\b\b\b\b\b\b\b\b\b\b\b\b\b\b\b\b\b\b\b\b\b\b\b\b\b\b\b\b\b\b\b\b\b\b\b\b\b\b\b\b\b\b\b\b\b\b\b\b\b\b\b\b\b\b\b\b\b\b\b\b\b\b\b\r61/61 [==============================] - 16s 269ms/step - loss: 0.1665 - mae: 0.1212 - root_mean_squared_error: 0.1664 - val_loss: 0.1299 - val_mae: 0.0979 - val_root_mean_squared_error: 0.1292 - lr: 0.0074\n",
            "Epoch 34/500\n",
            "61/61 [==============================] - 7s 107ms/step - loss: 0.1657 - mae: 0.1202 - root_mean_squared_error: 0.1656 - val_loss: 0.1358 - val_mae: 0.1071 - val_root_mean_squared_error: 0.1354 - lr: 0.0074\n",
            "Epoch 35/500\n",
            "61/61 [==============================] - 6s 106ms/step - loss: 0.1651 - mae: 0.1197 - root_mean_squared_error: 0.1651 - val_loss: 0.1389 - val_mae: 0.1105 - val_root_mean_squared_error: 0.1384 - lr: 0.0074\n",
            "Epoch 36/500\n",
            "61/61 [==============================] - ETA: 0s - loss: 0.1647 - mae: 0.1196 - root_mean_squared_error: 0.1646"
          ]
        },
        {
          "name": "stderr",
          "output_type": "stream",
          "text": [
            "WARNING:absl:Found untraced functions such as residual_block_0_layer_call_fn, residual_block_0_layer_call_and_return_conditional_losses, residual_block_1_layer_call_fn, residual_block_1_layer_call_and_return_conditional_losses, residual_block_2_layer_call_fn while saving (showing 5 of 257). These functions will not be directly callable after loading.\n",
            "\u001b[34m\u001b[1mwandb\u001b[0m: Adding directory to artifact (/content/wandb/run-20230124_123618-t8fgscj0/files/model-best)... Done. 0.0s\n"
          ]
        },
        {
          "name": "stdout",
          "output_type": "stream",
          "text": [
            "\b\b\b\b\b\b\b\b\b\b\b\b\b\b\b\b\b\b\b\b\b\b\b\b\b\b\b\b\b\b\b\b\b\b\b\b\b\b\b\b\b\b\b\b\b\b\b\b\b\b\b\b\b\b\b\b\b\b\b\b\b\b\b\b\b\b\b\b\b\b\b\b\b\b\b\b\b\b\b\b\b\b\b\b\b\b\b\b\b\b\b\b\b\b\b\b\b\b\b\b\b\b\b\b\b\b\b\b\b\b\b\r61/61 [==============================] - 16s 271ms/step - loss: 0.1647 - mae: 0.1196 - root_mean_squared_error: 0.1646 - val_loss: 0.1283 - val_mae: 0.0947 - val_root_mean_squared_error: 0.1273 - lr: 0.0074\n",
            "Epoch 37/500\n",
            "61/61 [==============================] - 7s 107ms/step - loss: 0.1645 - mae: 0.1190 - root_mean_squared_error: 0.1645 - val_loss: 0.1349 - val_mae: 0.1044 - val_root_mean_squared_error: 0.1342 - lr: 0.0074\n",
            "Epoch 38/500\n",
            "61/61 [==============================] - 6s 106ms/step - loss: 0.1649 - mae: 0.1194 - root_mean_squared_error: 0.1649 - val_loss: 0.1350 - val_mae: 0.1053 - val_root_mean_squared_error: 0.1346 - lr: 0.0074\n",
            "Epoch 39/500\n",
            "61/61 [==============================] - 6s 106ms/step - loss: 0.1641 - mae: 0.1188 - root_mean_squared_error: 0.1641 - val_loss: 0.1316 - val_mae: 0.0999 - val_root_mean_squared_error: 0.1310 - lr: 0.0074\n",
            "Epoch 40/500\n",
            "61/61 [==============================] - 7s 107ms/step - loss: 0.1642 - mae: 0.1186 - root_mean_squared_error: 0.1642 - val_loss: 0.1316 - val_mae: 0.1012 - val_root_mean_squared_error: 0.1312 - lr: 0.0074\n",
            "Epoch 41/500\n",
            "61/61 [==============================] - 6s 105ms/step - loss: 0.1636 - mae: 0.1189 - root_mean_squared_error: 0.1636 - val_loss: 0.1298 - val_mae: 0.0965 - val_root_mean_squared_error: 0.1290 - lr: 0.0074\n",
            "Epoch 42/500\n",
            "61/61 [==============================] - 6s 106ms/step - loss: 0.1636 - mae: 0.1179 - root_mean_squared_error: 0.1635 - val_loss: 0.1382 - val_mae: 0.1092 - val_root_mean_squared_error: 0.1377 - lr: 0.0074\n",
            "Epoch 43/500\n",
            "61/61 [==============================] - 6s 105ms/step - loss: 0.1633 - mae: 0.1183 - root_mean_squared_error: 0.1633 - val_loss: 0.1319 - val_mae: 0.1002 - val_root_mean_squared_error: 0.1313 - lr: 0.0074\n",
            "Epoch 44/500\n",
            "61/61 [==============================] - ETA: 0s - loss: 0.1639 - mae: 0.1186 - root_mean_squared_error: 0.1639"
          ]
        },
        {
          "name": "stderr",
          "output_type": "stream",
          "text": [
            "WARNING:absl:Found untraced functions such as residual_block_0_layer_call_fn, residual_block_0_layer_call_and_return_conditional_losses, residual_block_1_layer_call_fn, residual_block_1_layer_call_and_return_conditional_losses, residual_block_2_layer_call_fn while saving (showing 5 of 257). These functions will not be directly callable after loading.\n",
            "\u001b[34m\u001b[1mwandb\u001b[0m: Adding directory to artifact (/content/wandb/run-20230124_123618-t8fgscj0/files/model-best)... Done. 0.0s\n"
          ]
        },
        {
          "name": "stdout",
          "output_type": "stream",
          "text": [
            "\b\b\b\b\b\b\b\b\b\b\b\b\b\b\b\b\b\b\b\b\b\b\b\b\b\b\b\b\b\b\b\b\b\b\b\b\b\b\b\b\b\b\b\b\b\b\b\b\b\b\b\b\b\b\b\b\b\b\b\b\b\b\b\b\b\b\b\b\b\b\b\b\b\b\b\b\b\b\b\b\b\b\b\b\b\b\b\b\b\b\b\b\b\b\b\b\b\b\b\b\b\b\b\b\b\b\b\b\b\b\b\r61/61 [==============================] - 16s 267ms/step - loss: 0.1639 - mae: 0.1186 - root_mean_squared_error: 0.1639 - val_loss: 0.1265 - val_mae: 0.0918 - val_root_mean_squared_error: 0.1257 - lr: 0.0074\n",
            "Epoch 45/500\n",
            "61/61 [==============================] - 7s 105ms/step - loss: 0.1638 - mae: 0.1186 - root_mean_squared_error: 0.1638 - val_loss: 0.1371 - val_mae: 0.1080 - val_root_mean_squared_error: 0.1366 - lr: 0.0074\n",
            "Epoch 46/500\n",
            "61/61 [==============================] - 6s 106ms/step - loss: 0.1633 - mae: 0.1181 - root_mean_squared_error: 0.1633 - val_loss: 0.1297 - val_mae: 0.0978 - val_root_mean_squared_error: 0.1289 - lr: 0.0074\n",
            "Epoch 47/500\n",
            "61/61 [==============================] - 6s 104ms/step - loss: 0.1633 - mae: 0.1178 - root_mean_squared_error: 0.1633 - val_loss: 0.1320 - val_mae: 0.1013 - val_root_mean_squared_error: 0.1313 - lr: 0.0074\n",
            "Epoch 48/500\n",
            "61/61 [==============================] - 6s 106ms/step - loss: 0.1628 - mae: 0.1179 - root_mean_squared_error: 0.1628 - val_loss: 0.1326 - val_mae: 0.1024 - val_root_mean_squared_error: 0.1321 - lr: 0.0074\n",
            "Epoch 49/500\n",
            "61/61 [==============================] - 6s 106ms/step - loss: 0.1631 - mae: 0.1181 - root_mean_squared_error: 0.1631 - val_loss: 0.1313 - val_mae: 0.0997 - val_root_mean_squared_error: 0.1308 - lr: 0.0074\n",
            "Epoch 50/500\n",
            "61/61 [==============================] - 7s 107ms/step - loss: 0.1637 - mae: 0.1184 - root_mean_squared_error: 0.1637 - val_loss: 0.1350 - val_mae: 0.1050 - val_root_mean_squared_error: 0.1345 - lr: 0.0074\n",
            "Epoch 51/500\n",
            "61/61 [==============================] - 6s 106ms/step - loss: 0.1631 - mae: 0.1179 - root_mean_squared_error: 0.1632 - val_loss: 0.1343 - val_mae: 0.1044 - val_root_mean_squared_error: 0.1337 - lr: 0.0074\n",
            "Epoch 52/500\n",
            "61/61 [==============================] - 6s 106ms/step - loss: 0.1625 - mae: 0.1173 - root_mean_squared_error: 0.1625 - val_loss: 0.1395 - val_mae: 0.1112 - val_root_mean_squared_error: 0.1391 - lr: 0.0074\n",
            "Epoch 53/500\n",
            "61/61 [==============================] - 6s 106ms/step - loss: 0.1626 - mae: 0.1178 - root_mean_squared_error: 0.1625 - val_loss: 0.1333 - val_mae: 0.1038 - val_root_mean_squared_error: 0.1330 - lr: 0.0074\n",
            "Epoch 54/500\n",
            "61/61 [==============================] - 6s 106ms/step - loss: 0.1621 - mae: 0.1172 - root_mean_squared_error: 0.1620 - val_loss: 0.1281 - val_mae: 0.0934 - val_root_mean_squared_error: 0.1269 - lr: 0.0074\n",
            "Epoch 55/500\n",
            "61/61 [==============================] - 6s 106ms/step - loss: 0.1609 - mae: 0.1159 - root_mean_squared_error: 0.1609 - val_loss: 0.1332 - val_mae: 0.1023 - val_root_mean_squared_error: 0.1324 - lr: 7.4184e-04\n",
            "Epoch 56/500\n",
            "61/61 [==============================] - 6s 106ms/step - loss: 0.1601 - mae: 0.1151 - root_mean_squared_error: 0.1601 - val_loss: 0.1307 - val_mae: 0.0987 - val_root_mean_squared_error: 0.1299 - lr: 7.4184e-04\n",
            "Epoch 57/500\n",
            "61/61 [==============================] - 6s 105ms/step - loss: 0.1595 - mae: 0.1145 - root_mean_squared_error: 0.1595 - val_loss: 0.1303 - val_mae: 0.0986 - val_root_mean_squared_error: 0.1296 - lr: 7.4184e-04\n",
            "Epoch 58/500\n",
            "61/61 [==============================] - 6s 105ms/step - loss: 0.1604 - mae: 0.1151 - root_mean_squared_error: 0.1604 - val_loss: 0.1313 - val_mae: 0.0996 - val_root_mean_squared_error: 0.1305 - lr: 7.4184e-04\n",
            "Epoch 59/500\n",
            "61/61 [==============================] - 6s 105ms/step - loss: 0.1592 - mae: 0.1143 - root_mean_squared_error: 0.1593 - val_loss: 0.1312 - val_mae: 0.0995 - val_root_mean_squared_error: 0.1304 - lr: 7.4184e-04\n"
          ]
        },
        {
          "data": {
            "text/html": [
              "Waiting for W&B process to finish... <strong style=\"color:green\">(success).</strong>"
            ],
            "text/plain": [
              "<IPython.core.display.HTML object>"
            ]
          },
          "metadata": {},
          "output_type": "display_data"
        },
        {
          "data": {
            "application/vnd.jupyter.widget-view+json": {
              "model_id": "b7f20c9842234745898390c1993b16e4",
              "version_major": 2,
              "version_minor": 0
            },
            "text/plain": [
              "VBox(children=(Label(value='57.205 MB of 57.205 MB uploaded (1.597 MB deduped)\\r'), FloatProgress(value=1.0, m…"
            ]
          },
          "metadata": {},
          "output_type": "display_data"
        },
        {
          "data": {
            "text/html": [
              "<style>\n",
              "    table.wandb td:nth-child(1) { padding: 0 10px; text-align: left ; width: auto;} td:nth-child(2) {text-align: left ; width: 100%}\n",
              "    .wandb-row { display: flex; flex-direction: row; flex-wrap: wrap; justify-content: flex-start; width: 100% }\n",
              "    .wandb-col { display: flex; flex-direction: column; flex-basis: 100%; flex: 1; padding: 10px; }\n",
              "    </style>\n",
              "<div class=\"wandb-row\"><div class=\"wandb-col\"><h3>Run history:</h3><br/><table class=\"wandb\"><tr><td>epoch</td><td>▁▁▁▁▂▂▂▂▂▃▃▃▃▃▃▄▄▄▄▄▅▅▅▅▅▅▆▆▆▆▆▇▇▇▇▇▇███</td></tr><tr><td>loss</td><td>█▃▂▂▂▂▂▂▁▁▁▁▁▁▁▁▁▁▁▁▁▁▁▁▁▁▁▁▁▁▁▁▁▁▁▁▁▁▁▁</td></tr><tr><td>mae</td><td>█▃▂▂▂▂▂▂▂▁▁▁▁▁▁▁▁▁▁▁▁▁▁▁▁▁▁▁▁▁▁▁▁▁▁▁▁▁▁▁</td></tr><tr><td>root_mean_squared_error</td><td>█▃▂▂▂▂▂▂▁▁▁▁▁▁▁▁▁▁▁▁▁▁▁▁▁▁▁▁▁▁▁▁▁▁▁▁▁▁▁▁</td></tr><tr><td>val_loss</td><td>█▆▅▃▃▄▄▃▃▂▂▂▂▂▃▂▂▃▂▂▂▂▁▂▁▂▁▁▂▁▂▁▂▂▂▂▁▁▁▁</td></tr><tr><td>val_mae</td><td>█▆▅▄▃▄▄▄▃▃▂▂▂▂▃▁▂▃▂▂▂▂▁▂▁▂▂▁▂▁▂▂▂▂▂▂▁▁▁▂</td></tr><tr><td>val_root_mean_squared_error</td><td>█▆▅▃▃▄▄▃▃▂▂▂▂▂▃▁▂▃▂▂▂▂▁▂▁▂▁▁▂▁▂▁▂▂▂▂▁▁▁▁</td></tr></table><br/></div><div class=\"wandb-col\"><h3>Run summary:</h3><br/><table class=\"wandb\"><tr><td>best_epoch</td><td>43</td></tr><tr><td>best_val_loss</td><td>0.12648</td></tr><tr><td>epoch</td><td>58</td></tr><tr><td>loss</td><td>0.1592</td></tr><tr><td>mae</td><td>0.1143</td></tr><tr><td>root_mean_squared_error</td><td>0.15927</td></tr><tr><td>val_loss</td><td>0.13123</td></tr><tr><td>val_mae</td><td>0.09947</td></tr><tr><td>val_root_mean_squared_error</td><td>0.13043</td></tr></table><br/></div></div>"
            ],
            "text/plain": [
              "<IPython.core.display.HTML object>"
            ]
          },
          "metadata": {},
          "output_type": "display_data"
        },
        {
          "data": {
            "text/html": [
              " View run <strong style=\"color:#cdcd00\">zany-sweep-18</strong> at: <a href=\"https://wandb.ai/dsp_aguro/aguro_tcn/runs/t8fgscj0\" target=\"_blank\">https://wandb.ai/dsp_aguro/aguro_tcn/runs/t8fgscj0</a><br/>Synced 5 W&B file(s), 1 media file(s), 68 artifact file(s) and 1 other file(s)"
            ],
            "text/plain": [
              "<IPython.core.display.HTML object>"
            ]
          },
          "metadata": {},
          "output_type": "display_data"
        },
        {
          "data": {
            "text/html": [
              "Find logs at: <code>./wandb/run-20230124_123618-t8fgscj0/logs</code>"
            ],
            "text/plain": [
              "<IPython.core.display.HTML object>"
            ]
          },
          "metadata": {},
          "output_type": "display_data"
        },
        {
          "name": "stderr",
          "output_type": "stream",
          "text": [
            "\u001b[34m\u001b[1mwandb\u001b[0m: Agent Starting Run: lx96t91o with config:\n",
            "\u001b[34m\u001b[1mwandb\u001b[0m: \tbatch_size: 512\n",
            "\u001b[34m\u001b[1mwandb\u001b[0m: \tdropout_rate: 0.4\n",
            "\u001b[34m\u001b[1mwandb\u001b[0m: \tepochs: 500\n",
            "\u001b[34m\u001b[1mwandb\u001b[0m: \tkernel_size: 3\n",
            "\u001b[34m\u001b[1mwandb\u001b[0m: \tlr: 0.06556860451732338\n",
            "\u001b[34m\u001b[1mwandb\u001b[0m: \tnb_filters: 64\n",
            "\u001b[34m\u001b[1mwandb\u001b[0m: \toptimizer: adam\n",
            "Failed to detect the name of this notebook, you can set it manually with the WANDB_NOTEBOOK_NAME environment variable to enable code saving.\n"
          ]
        },
        {
          "data": {
            "text/html": [
              "Tracking run with wandb version 0.13.9"
            ],
            "text/plain": [
              "<IPython.core.display.HTML object>"
            ]
          },
          "metadata": {},
          "output_type": "display_data"
        },
        {
          "data": {
            "text/html": [
              "Run data is saved locally in <code>/content/wandb/run-20230124_124548-lx96t91o</code>"
            ],
            "text/plain": [
              "<IPython.core.display.HTML object>"
            ]
          },
          "metadata": {},
          "output_type": "display_data"
        },
        {
          "data": {
            "text/html": [
              "Syncing run <strong><a href=\"https://wandb.ai/dsp_aguro/aguro_tcn/runs/lx96t91o\" target=\"_blank\">bright-sweep-13</a></strong> to <a href=\"https://wandb.ai/dsp_aguro/aguro_tcn\" target=\"_blank\">Weights & Biases</a> (<a href=\"https://wandb.me/run\" target=\"_blank\">docs</a>)<br/>Sweep page: <a href=\"https://wandb.ai/dsp_aguro/aguro_tcn/sweeps/9vw7gd6y\" target=\"_blank\">https://wandb.ai/dsp_aguro/aguro_tcn/sweeps/9vw7gd6y</a>"
            ],
            "text/plain": [
              "<IPython.core.display.HTML object>"
            ]
          },
          "metadata": {},
          "output_type": "display_data"
        },
        {
          "data": {
            "text/html": [
              " View project at <a href=\"https://wandb.ai/dsp_aguro/aguro_tcn\" target=\"_blank\">https://wandb.ai/dsp_aguro/aguro_tcn</a>"
            ],
            "text/plain": [
              "<IPython.core.display.HTML object>"
            ]
          },
          "metadata": {},
          "output_type": "display_data"
        },
        {
          "data": {
            "text/html": [
              " View sweep at <a href=\"https://wandb.ai/dsp_aguro/aguro_tcn/sweeps/9vw7gd6y\" target=\"_blank\">https://wandb.ai/dsp_aguro/aguro_tcn/sweeps/9vw7gd6y</a>"
            ],
            "text/plain": [
              "<IPython.core.display.HTML object>"
            ]
          },
          "metadata": {},
          "output_type": "display_data"
        },
        {
          "data": {
            "text/html": [
              " View run at <a href=\"https://wandb.ai/dsp_aguro/aguro_tcn/runs/lx96t91o\" target=\"_blank\">https://wandb.ai/dsp_aguro/aguro_tcn/runs/lx96t91o</a>"
            ],
            "text/plain": [
              "<IPython.core.display.HTML object>"
            ]
          },
          "metadata": {},
          "output_type": "display_data"
        },
        {
          "name": "stdout",
          "output_type": "stream",
          "text": [
            "Epoch 1/500\n",
            " 6/61 [=>............................] - ETA: 3s - loss: 333.9870 - mae: 234.4387 - root_mean_squared_error: 333.9870"
          ]
        },
        {
          "name": "stderr",
          "output_type": "stream",
          "text": [
            "WARNING:tensorflow:Callback method `on_train_batch_end` is slow compared to the batch time (batch time: 0.0269s vs `on_train_batch_end` time: 0.0278s). Check your callbacks.\n"
          ]
        },
        {
          "name": "stdout",
          "output_type": "stream",
          "text": [
            "61/61 [==============================] - ETA: 0s - loss: 33.2088 - mae: 23.3276 - root_mean_squared_error: 33.0779"
          ]
        },
        {
          "name": "stderr",
          "output_type": "stream",
          "text": [
            "WARNING:absl:Found untraced functions such as residual_block_0_layer_call_fn, residual_block_0_layer_call_and_return_conditional_losses, residual_block_1_layer_call_fn, residual_block_1_layer_call_and_return_conditional_losses, residual_block_2_layer_call_fn while saving (showing 5 of 257). These functions will not be directly callable after loading.\n",
            "\u001b[34m\u001b[1mwandb\u001b[0m: Adding directory to artifact (/content/wandb/run-20230124_124548-lx96t91o/files/model-best)... Done. 0.0s\n"
          ]
        },
        {
          "name": "stdout",
          "output_type": "stream",
          "text": [
            "\b\b\b\b\b\b\b\b\b\b\b\b\b\b\b\b\b\b\b\b\b\b\b\b\b\b\b\b\b\b\b\b\b\b\b\b\b\b\b\b\b\b\b\b\b\b\b\b\b\b\b\b\b\b\b\b\b\b\b\b\b\b\b\b\b\b\b\b\b\b\b\b\b\b\b\b\b\b\b\b\b\b\b\b\b\b\b\b\b\b\b\b\b\b\b\b\b\b\b\b\b\b\b\b\b\b\b\b\b\b\b\b\b\b\r61/61 [==============================] - 21s 258ms/step - loss: 33.2088 - mae: 23.3276 - root_mean_squared_error: 33.0779 - val_loss: 0.1775 - val_mae: 0.1554 - val_root_mean_squared_error: 0.1797 - lr: 0.0656\n",
            "Epoch 2/500\n",
            "61/61 [==============================] - ETA: 0s - loss: 0.2184 - mae: 0.1651 - root_mean_squared_error: 0.2184"
          ]
        },
        {
          "name": "stderr",
          "output_type": "stream",
          "text": [
            "WARNING:absl:Found untraced functions such as residual_block_0_layer_call_fn, residual_block_0_layer_call_and_return_conditional_losses, residual_block_1_layer_call_fn, residual_block_1_layer_call_and_return_conditional_losses, residual_block_2_layer_call_fn while saving (showing 5 of 257). These functions will not be directly callable after loading.\n",
            "\u001b[34m\u001b[1mwandb\u001b[0m: Adding directory to artifact (/content/wandb/run-20230124_124548-lx96t91o/files/model-best)... Done. 0.0s\n"
          ]
        },
        {
          "name": "stdout",
          "output_type": "stream",
          "text": [
            "\b\b\b\b\b\b\b\b\b\b\b\b\b\b\b\b\b\b\b\b\b\b\b\b\b\b\b\b\b\b\b\b\b\b\b\b\b\b\b\b\b\b\b\b\b\b\b\b\b\b\b\b\b\b\b\b\b\b\b\b\b\b\b\b\b\b\b\b\b\b\b\b\b\b\b\b\b\b\b\b\b\b\b\b\b\b\b\b\b\b\b\b\b\b\b\b\b\b\b\b\b\b\b\b\b\b\b\b\b\b\b\r61/61 [==============================] - 14s 230ms/step - loss: 0.2184 - mae: 0.1651 - root_mean_squared_error: 0.2184 - val_loss: 0.1737 - val_mae: 0.1515 - val_root_mean_squared_error: 0.1758 - lr: 0.0656\n",
            "Epoch 3/500\n",
            "61/61 [==============================] - ETA: 0s - loss: 0.2172 - mae: 0.1651 - root_mean_squared_error: 0.2172"
          ]
        },
        {
          "name": "stderr",
          "output_type": "stream",
          "text": [
            "WARNING:absl:Found untraced functions such as residual_block_0_layer_call_fn, residual_block_0_layer_call_and_return_conditional_losses, residual_block_1_layer_call_fn, residual_block_1_layer_call_and_return_conditional_losses, residual_block_2_layer_call_fn while saving (showing 5 of 257). These functions will not be directly callable after loading.\n",
            "\u001b[34m\u001b[1mwandb\u001b[0m: Adding directory to artifact (/content/wandb/run-20230124_124548-lx96t91o/files/model-best)... Done. 0.0s\n"
          ]
        },
        {
          "name": "stdout",
          "output_type": "stream",
          "text": [
            "\b\b\b\b\b\b\b\b\b\b\b\b\b\b\b\b\b\b\b\b\b\b\b\b\b\b\b\b\b\b\b\b\b\b\b\b\b\b\b\b\b\b\b\b\b\b\b\b\b\b\b\b\b\b\b\b\b\b\b\b\b\b\b\b\b\b\b\b\b\b\b\b\b\b\b\b\b\b\b\b\b\b\b\b\b\b\b\b\b\b\b\b\b\b\b\b\b\b\b\b\b\b\b\b\b\b\b\b\b\b\b\r61/61 [==============================] - 14s 233ms/step - loss: 0.2172 - mae: 0.1651 - root_mean_squared_error: 0.2172 - val_loss: 0.1730 - val_mae: 0.1507 - val_root_mean_squared_error: 0.1751 - lr: 0.0656\n",
            "Epoch 4/500\n",
            "61/61 [==============================] - 4s 68ms/step - loss: 0.2172 - mae: 0.1649 - root_mean_squared_error: 0.2173 - val_loss: 0.1808 - val_mae: 0.1591 - val_root_mean_squared_error: 0.1830 - lr: 0.0656\n",
            "Epoch 5/500\n",
            "61/61 [==============================] - 4s 66ms/step - loss: 0.2170 - mae: 0.1649 - root_mean_squared_error: 0.2171 - val_loss: 0.1774 - val_mae: 0.1555 - val_root_mean_squared_error: 0.1796 - lr: 0.0656\n",
            "Epoch 6/500\n",
            "61/61 [==============================] - 4s 67ms/step - loss: 0.2173 - mae: 0.1650 - root_mean_squared_error: 0.2173 - val_loss: 0.1803 - val_mae: 0.1586 - val_root_mean_squared_error: 0.1825 - lr: 0.0656\n",
            "Epoch 7/500\n",
            "61/61 [==============================] - 4s 68ms/step - loss: 0.2169 - mae: 0.1647 - root_mean_squared_error: 0.2168 - val_loss: 0.1822 - val_mae: 0.1606 - val_root_mean_squared_error: 0.1844 - lr: 0.0656\n",
            "Epoch 8/500\n",
            "61/61 [==============================] - 4s 67ms/step - loss: 0.2170 - mae: 0.1650 - root_mean_squared_error: 0.2170 - val_loss: 0.1864 - val_mae: 0.1651 - val_root_mean_squared_error: 0.1888 - lr: 0.0656\n",
            "Epoch 9/500\n",
            "61/61 [==============================] - ETA: 0s - loss: 0.2170 - mae: 0.1649 - root_mean_squared_error: 0.2170"
          ]
        },
        {
          "name": "stderr",
          "output_type": "stream",
          "text": [
            "WARNING:absl:Found untraced functions such as residual_block_0_layer_call_fn, residual_block_0_layer_call_and_return_conditional_losses, residual_block_1_layer_call_fn, residual_block_1_layer_call_and_return_conditional_losses, residual_block_2_layer_call_fn while saving (showing 5 of 257). These functions will not be directly callable after loading.\n",
            "\u001b[34m\u001b[1mwandb\u001b[0m: Adding directory to artifact (/content/wandb/run-20230124_124548-lx96t91o/files/model-best)... Done. 0.0s\n"
          ]
        },
        {
          "name": "stdout",
          "output_type": "stream",
          "text": [
            "\b\b\b\b\b\b\b\b\b\b\b\b\b\b\b\b\b\b\b\b\b\b\b\b\b\b\b\b\b\b\b\b\b\b\b\b\b\b\b\b\b\b\b\b\b\b\b\b\b\b\b\b\b\b\b\b\b\b\b\b\b\b\b\b\b\b\b\b\b\b\b\b\b\b\b\b\b\b\b\b\b\b\b\b\b\b\b\b\b\b\b\b\b\b\b\b\b\b\b\b\b\b\b\b\b\b\b\b\b\b\b\r61/61 [==============================] - 14s 232ms/step - loss: 0.2170 - mae: 0.1649 - root_mean_squared_error: 0.2170 - val_loss: 0.1706 - val_mae: 0.1482 - val_root_mean_squared_error: 0.1727 - lr: 0.0656\n",
            "Epoch 10/500\n",
            "61/61 [==============================] - 4s 68ms/step - loss: 0.2172 - mae: 0.1650 - root_mean_squared_error: 0.2172 - val_loss: 0.1835 - val_mae: 0.1620 - val_root_mean_squared_error: 0.1858 - lr: 0.0656\n",
            "Epoch 11/500\n",
            "61/61 [==============================] - 4s 66ms/step - loss: 0.2171 - mae: 0.1649 - root_mean_squared_error: 0.2171 - val_loss: 0.1780 - val_mae: 0.1562 - val_root_mean_squared_error: 0.1802 - lr: 0.0656\n",
            "Epoch 12/500\n",
            "61/61 [==============================] - 4s 67ms/step - loss: 0.2170 - mae: 0.1650 - root_mean_squared_error: 0.2172 - val_loss: 0.1834 - val_mae: 0.1619 - val_root_mean_squared_error: 0.1857 - lr: 0.0656\n",
            "Epoch 13/500\n",
            "61/61 [==============================] - 4s 67ms/step - loss: 0.2172 - mae: 0.1652 - root_mean_squared_error: 0.2172 - val_loss: 0.1789 - val_mae: 0.1570 - val_root_mean_squared_error: 0.1811 - lr: 0.0656\n",
            "Epoch 14/500\n",
            "61/61 [==============================] - 4s 67ms/step - loss: 0.2173 - mae: 0.1649 - root_mean_squared_error: 0.2173 - val_loss: 0.1858 - val_mae: 0.1644 - val_root_mean_squared_error: 0.1881 - lr: 0.0656\n",
            "Epoch 15/500\n",
            "61/61 [==============================] - ETA: 0s - loss: 0.2171 - mae: 0.1652 - root_mean_squared_error: 0.2171"
          ]
        },
        {
          "name": "stderr",
          "output_type": "stream",
          "text": [
            "WARNING:absl:Found untraced functions such as residual_block_0_layer_call_fn, residual_block_0_layer_call_and_return_conditional_losses, residual_block_1_layer_call_fn, residual_block_1_layer_call_and_return_conditional_losses, residual_block_2_layer_call_fn while saving (showing 5 of 257). These functions will not be directly callable after loading.\n",
            "\u001b[34m\u001b[1mwandb\u001b[0m: Adding directory to artifact (/content/wandb/run-20230124_124548-lx96t91o/files/model-best)... Done. 0.0s\n"
          ]
        },
        {
          "name": "stdout",
          "output_type": "stream",
          "text": [
            "\b\b\b\b\b\b\b\b\b\b\b\b\b\b\b\b\b\b\b\b\b\b\b\b\b\b\b\b\b\b\b\b\b\b\b\b\b\b\b\b\b\b\b\b\b\b\b\b\b\b\b\b\b\b\b\b\b\b\b\b\b\b\b\b\b\b\b\b\b\b\b\b\b\b\b\b\b\b\b\b\b\b\b\b\b\b\b\b\b\b\b\b\b\b\b\b\b\b\b\b\b\b\b\b\b\b\b\b\b\b\b\r61/61 [==============================] - 14s 235ms/step - loss: 0.2171 - mae: 0.1652 - root_mean_squared_error: 0.2171 - val_loss: 0.1683 - val_mae: 0.1457 - val_root_mean_squared_error: 0.1703 - lr: 0.0656\n",
            "Epoch 16/500\n",
            "61/61 [==============================] - 4s 67ms/step - loss: 0.2171 - mae: 0.1650 - root_mean_squared_error: 0.2171 - val_loss: 0.1691 - val_mae: 0.1465 - val_root_mean_squared_error: 0.1712 - lr: 0.0656\n",
            "Epoch 17/500\n",
            "61/61 [==============================] - 4s 66ms/step - loss: 0.2169 - mae: 0.1648 - root_mean_squared_error: 0.2169 - val_loss: 0.1822 - val_mae: 0.1606 - val_root_mean_squared_error: 0.1845 - lr: 0.0656\n",
            "Epoch 18/500\n",
            "61/61 [==============================] - 4s 66ms/step - loss: 0.2175 - mae: 0.1651 - root_mean_squared_error: 0.2176 - val_loss: 0.1727 - val_mae: 0.1504 - val_root_mean_squared_error: 0.1749 - lr: 0.0656\n",
            "Epoch 19/500\n",
            "61/61 [==============================] - ETA: 0s - loss: 0.2172 - mae: 0.1650 - root_mean_squared_error: 0.2173"
          ]
        },
        {
          "name": "stderr",
          "output_type": "stream",
          "text": [
            "WARNING:absl:Found untraced functions such as residual_block_0_layer_call_fn, residual_block_0_layer_call_and_return_conditional_losses, residual_block_1_layer_call_fn, residual_block_1_layer_call_and_return_conditional_losses, residual_block_2_layer_call_fn while saving (showing 5 of 257). These functions will not be directly callable after loading.\n",
            "\u001b[34m\u001b[1mwandb\u001b[0m: Adding directory to artifact (/content/wandb/run-20230124_124548-lx96t91o/files/model-best)... Done. 0.0s\n"
          ]
        },
        {
          "name": "stdout",
          "output_type": "stream",
          "text": [
            "\b\b\b\b\b\b\b\b\b\b\b\b\b\b\b\b\b\b\b\b\b\b\b\b\b\b\b\b\b\b\b\b\b\b\b\b\b\b\b\b\b\b\b\b\b\b\b\b\b\b\b\b\b\b\b\b\b\b\b\b\b\b\b\b\b\b\b\b\b\b\b\b\b\b\b\b\b\b\b\b\b\b\b\b\b\b\b\b\b\b\b\b\b\b\b\b\b\b\b\b\b\b\b\b\b\b\b\b\b\b\b\r61/61 [==============================] - 14s 232ms/step - loss: 0.2172 - mae: 0.1650 - root_mean_squared_error: 0.2173 - val_loss: 0.1677 - val_mae: 0.1451 - val_root_mean_squared_error: 0.1697 - lr: 0.0656\n",
            "Epoch 20/500\n",
            "61/61 [==============================] - 4s 68ms/step - loss: 0.2173 - mae: 0.1652 - root_mean_squared_error: 0.2172 - val_loss: 0.1782 - val_mae: 0.1563 - val_root_mean_squared_error: 0.1804 - lr: 0.0656\n",
            "Epoch 21/500\n",
            "61/61 [==============================] - 4s 67ms/step - loss: 0.2170 - mae: 0.1650 - root_mean_squared_error: 0.2170 - val_loss: 0.1731 - val_mae: 0.1509 - val_root_mean_squared_error: 0.1752 - lr: 0.0656\n",
            "Epoch 22/500\n",
            "61/61 [==============================] - 4s 66ms/step - loss: 0.2175 - mae: 0.1651 - root_mean_squared_error: 0.2175 - val_loss: 0.1896 - val_mae: 0.1682 - val_root_mean_squared_error: 0.1920 - lr: 0.0656\n",
            "Epoch 23/500\n",
            "61/61 [==============================] - 4s 67ms/step - loss: 0.2176 - mae: 0.1657 - root_mean_squared_error: 0.2176 - val_loss: 0.1695 - val_mae: 0.1470 - val_root_mean_squared_error: 0.1715 - lr: 0.0656\n",
            "Epoch 24/500\n",
            "61/61 [==============================] - ETA: 0s - loss: 0.2171 - mae: 0.1653 - root_mean_squared_error: 0.2171"
          ]
        },
        {
          "name": "stderr",
          "output_type": "stream",
          "text": [
            "WARNING:absl:Found untraced functions such as residual_block_0_layer_call_fn, residual_block_0_layer_call_and_return_conditional_losses, residual_block_1_layer_call_fn, residual_block_1_layer_call_and_return_conditional_losses, residual_block_2_layer_call_fn while saving (showing 5 of 257). These functions will not be directly callable after loading.\n",
            "\u001b[34m\u001b[1mwandb\u001b[0m: Adding directory to artifact (/content/wandb/run-20230124_124548-lx96t91o/files/model-best)... Done. 0.0s\n"
          ]
        },
        {
          "name": "stdout",
          "output_type": "stream",
          "text": [
            "\b\b\b\b\b\b\b\b\b\b\b\b\b\b\b\b\b\b\b\b\b\b\b\b\b\b\b\b\b\b\b\b\b\b\b\b\b\b\b\b\b\b\b\b\b\b\b\b\b\b\b\b\b\b\b\b\b\b\b\b\b\b\b\b\b\b\b\b\b\b\b\b\b\b\b\b\b\b\b\b\b\b\b\b\b\b\b\b\b\b\b\b\b\b\b\b\b\b\b\b\b\b\b\b\b\b\b\b\b\b\b\r61/61 [==============================] - 14s 233ms/step - loss: 0.2171 - mae: 0.1653 - root_mean_squared_error: 0.2171 - val_loss: 0.1647 - val_mae: 0.1418 - val_root_mean_squared_error: 0.1667 - lr: 0.0656\n",
            "Epoch 25/500\n",
            "61/61 [==============================] - 4s 68ms/step - loss: 0.2173 - mae: 0.1650 - root_mean_squared_error: 0.2173 - val_loss: 0.1837 - val_mae: 0.1621 - val_root_mean_squared_error: 0.1860 - lr: 0.0656\n",
            "Epoch 26/500\n",
            "61/61 [==============================] - 4s 67ms/step - loss: 0.2170 - mae: 0.1648 - root_mean_squared_error: 0.2170 - val_loss: 0.1801 - val_mae: 0.1584 - val_root_mean_squared_error: 0.1824 - lr: 0.0656\n",
            "Epoch 27/500\n",
            "61/61 [==============================] - 4s 68ms/step - loss: 0.2173 - mae: 0.1652 - root_mean_squared_error: 0.2172 - val_loss: 0.1824 - val_mae: 0.1609 - val_root_mean_squared_error: 0.1847 - lr: 0.0656\n",
            "Epoch 28/500\n",
            "61/61 [==============================] - 4s 67ms/step - loss: 0.2171 - mae: 0.1650 - root_mean_squared_error: 0.2171 - val_loss: 0.1715 - val_mae: 0.1492 - val_root_mean_squared_error: 0.1736 - lr: 0.0656\n",
            "Epoch 29/500\n",
            "61/61 [==============================] - 4s 67ms/step - loss: 0.2172 - mae: 0.1651 - root_mean_squared_error: 0.2172 - val_loss: 0.1845 - val_mae: 0.1630 - val_root_mean_squared_error: 0.1868 - lr: 0.0656\n",
            "Epoch 30/500\n",
            "61/61 [==============================] - 4s 67ms/step - loss: 0.2171 - mae: 0.1649 - root_mean_squared_error: 0.2170 - val_loss: 0.1710 - val_mae: 0.1486 - val_root_mean_squared_error: 0.1730 - lr: 0.0656\n",
            "Epoch 31/500\n",
            "61/61 [==============================] - 4s 68ms/step - loss: 0.2174 - mae: 0.1653 - root_mean_squared_error: 0.2174 - val_loss: 0.1771 - val_mae: 0.1551 - val_root_mean_squared_error: 0.1793 - lr: 0.0656\n",
            "Epoch 32/500\n",
            "61/61 [==============================] - 4s 69ms/step - loss: 0.2174 - mae: 0.1652 - root_mean_squared_error: 0.2174 - val_loss: 0.1778 - val_mae: 0.1559 - val_root_mean_squared_error: 0.1800 - lr: 0.0656\n",
            "Epoch 33/500\n",
            "61/61 [==============================] - 4s 67ms/step - loss: 0.2172 - mae: 0.1650 - root_mean_squared_error: 0.2172 - val_loss: 0.1738 - val_mae: 0.1517 - val_root_mean_squared_error: 0.1759 - lr: 0.0656\n",
            "Epoch 34/500\n",
            "61/61 [==============================] - 4s 67ms/step - loss: 0.2171 - mae: 0.1648 - root_mean_squared_error: 0.2171 - val_loss: 0.1794 - val_mae: 0.1576 - val_root_mean_squared_error: 0.1816 - lr: 0.0656\n",
            "Epoch 35/500\n",
            "61/61 [==============================] - 4s 67ms/step - loss: 0.2169 - mae: 0.1649 - root_mean_squared_error: 0.2169 - val_loss: 0.1770 - val_mae: 0.1551 - val_root_mean_squared_error: 0.1792 - lr: 0.0066\n",
            "Epoch 36/500\n",
            "61/61 [==============================] - 4s 67ms/step - loss: 0.2168 - mae: 0.1649 - root_mean_squared_error: 0.2168 - val_loss: 0.1707 - val_mae: 0.1483 - val_root_mean_squared_error: 0.1728 - lr: 0.0066\n",
            "Epoch 37/500\n",
            "61/61 [==============================] - 4s 66ms/step - loss: 0.2168 - mae: 0.1647 - root_mean_squared_error: 0.2168 - val_loss: 0.1763 - val_mae: 0.1544 - val_root_mean_squared_error: 0.1785 - lr: 0.0066\n",
            "Epoch 38/500\n",
            "61/61 [==============================] - 4s 66ms/step - loss: 0.2169 - mae: 0.1648 - root_mean_squared_error: 0.2169 - val_loss: 0.1785 - val_mae: 0.1567 - val_root_mean_squared_error: 0.1808 - lr: 0.0066\n",
            "Epoch 39/500\n",
            "61/61 [==============================] - 4s 67ms/step - loss: 0.2168 - mae: 0.1648 - root_mean_squared_error: 0.2169 - val_loss: 0.1763 - val_mae: 0.1544 - val_root_mean_squared_error: 0.1785 - lr: 0.0066\n"
          ]
        },
        {
          "data": {
            "text/html": [
              "Waiting for W&B process to finish... <strong style=\"color:green\">(success).</strong>"
            ],
            "text/plain": [
              "<IPython.core.display.HTML object>"
            ]
          },
          "metadata": {},
          "output_type": "display_data"
        },
        {
          "data": {
            "text/html": [
              "<style>\n",
              "    table.wandb td:nth-child(1) { padding: 0 10px; text-align: left ; width: auto;} td:nth-child(2) {text-align: left ; width: 100%}\n",
              "    .wandb-row { display: flex; flex-direction: row; flex-wrap: wrap; justify-content: flex-start; width: 100% }\n",
              "    .wandb-col { display: flex; flex-direction: column; flex-basis: 100%; flex: 1; padding: 10px; }\n",
              "    </style>\n",
              "<div class=\"wandb-row\"><div class=\"wandb-col\"><h3>Run history:</h3><br/><table class=\"wandb\"><tr><td>epoch</td><td>▁▁▁▂▂▂▂▂▂▃▃▃▃▃▄▄▄▄▄▅▅▅▅▅▅▆▆▆▆▆▇▇▇▇▇▇███</td></tr><tr><td>loss</td><td>█▁▁▁▁▁▁▁▁▁▁▁▁▁▁▁▁▁▁▁▁▁▁▁▁▁▁▁▁▁▁▁▁▁▁▁▁▁▁</td></tr><tr><td>mae</td><td>█▁▁▁▁▁▁▁▁▁▁▁▁▁▁▁▁▁▁▁▁▁▁▁▁▁▁▁▁▁▁▁▁▁▁▁▁▁▁</td></tr><tr><td>root_mean_squared_error</td><td>█▁▁▁▁▁▁▁▁▁▁▁▁▁▁▁▁▁▁▁▁▁▁▁▁▁▁▁▁▁▁▁▁▁▁▁▁▁▁</td></tr><tr><td>val_loss</td><td>▅▄▃▆▅▅▆▇▃▆▅▆▅▇▂▂▆▃▂▅▃█▂▁▆▅▆▃▇▃▄▅▄▅▄▃▄▅▄</td></tr><tr><td>val_mae</td><td>▅▄▃▆▅▅▆▇▃▆▅▆▅▇▂▂▆▃▂▅▃█▂▁▆▅▆▃▇▃▅▅▄▅▅▃▄▅▄</td></tr><tr><td>val_root_mean_squared_error</td><td>▅▄▃▆▅▅▆▇▃▆▅▆▅▇▂▂▆▃▂▅▃█▂▁▆▅▆▃▇▃▄▅▄▅▄▃▄▅▄</td></tr></table><br/></div><div class=\"wandb-col\"><h3>Run summary:</h3><br/><table class=\"wandb\"><tr><td>best_epoch</td><td>23</td></tr><tr><td>best_val_loss</td><td>0.16475</td></tr><tr><td>epoch</td><td>38</td></tr><tr><td>loss</td><td>0.21684</td></tr><tr><td>mae</td><td>0.16476</td></tr><tr><td>root_mean_squared_error</td><td>0.21688</td></tr><tr><td>val_loss</td><td>0.17633</td></tr><tr><td>val_mae</td><td>0.1544</td></tr><tr><td>val_root_mean_squared_error</td><td>0.17851</td></tr></table><br/></div></div>"
            ],
            "text/plain": [
              "<IPython.core.display.HTML object>"
            ]
          },
          "metadata": {},
          "output_type": "display_data"
        },
        {
          "data": {
            "text/html": [
              " View run <strong style=\"color:#cdcd00\">bright-sweep-13</strong> at: <a href=\"https://wandb.ai/dsp_aguro/aguro_tcn/runs/lx96t91o\" target=\"_blank\">https://wandb.ai/dsp_aguro/aguro_tcn/runs/lx96t91o</a><br/>Synced 5 W&B file(s), 1 media file(s), 28 artifact file(s) and 1 other file(s)"
            ],
            "text/plain": [
              "<IPython.core.display.HTML object>"
            ]
          },
          "metadata": {},
          "output_type": "display_data"
        },
        {
          "data": {
            "text/html": [
              "Find logs at: <code>./wandb/run-20230124_124548-lx96t91o/logs</code>"
            ],
            "text/plain": [
              "<IPython.core.display.HTML object>"
            ]
          },
          "metadata": {},
          "output_type": "display_data"
        },
        {
          "name": "stderr",
          "output_type": "stream",
          "text": [
            "\u001b[34m\u001b[1mwandb\u001b[0m: Agent Starting Run: hhbtfn8q with config:\n",
            "\u001b[34m\u001b[1mwandb\u001b[0m: \tbatch_size: 512\n",
            "\u001b[34m\u001b[1mwandb\u001b[0m: \tdropout_rate: 0.7\n",
            "\u001b[34m\u001b[1mwandb\u001b[0m: \tepochs: 500\n",
            "\u001b[34m\u001b[1mwandb\u001b[0m: \tkernel_size: 3\n",
            "\u001b[34m\u001b[1mwandb\u001b[0m: \tlr: 0.07428516878172431\n",
            "\u001b[34m\u001b[1mwandb\u001b[0m: \tnb_filters: 64\n",
            "\u001b[34m\u001b[1mwandb\u001b[0m: \toptimizer: adam\n",
            "Failed to detect the name of this notebook, you can set it manually with the WANDB_NOTEBOOK_NAME environment variable to enable code saving.\n"
          ]
        },
        {
          "data": {
            "text/html": [
              "Tracking run with wandb version 0.13.9"
            ],
            "text/plain": [
              "<IPython.core.display.HTML object>"
            ]
          },
          "metadata": {},
          "output_type": "display_data"
        },
        {
          "data": {
            "text/html": [
              "Run data is saved locally in <code>/content/wandb/run-20230124_125001-hhbtfn8q</code>"
            ],
            "text/plain": [
              "<IPython.core.display.HTML object>"
            ]
          },
          "metadata": {},
          "output_type": "display_data"
        },
        {
          "data": {
            "text/html": [
              "Syncing run <strong><a href=\"https://wandb.ai/dsp_aguro/aguro_tcn/runs/hhbtfn8q\" target=\"_blank\">jolly-sweep-14</a></strong> to <a href=\"https://wandb.ai/dsp_aguro/aguro_tcn\" target=\"_blank\">Weights & Biases</a> (<a href=\"https://wandb.me/run\" target=\"_blank\">docs</a>)<br/>Sweep page: <a href=\"https://wandb.ai/dsp_aguro/aguro_tcn/sweeps/9vw7gd6y\" target=\"_blank\">https://wandb.ai/dsp_aguro/aguro_tcn/sweeps/9vw7gd6y</a>"
            ],
            "text/plain": [
              "<IPython.core.display.HTML object>"
            ]
          },
          "metadata": {},
          "output_type": "display_data"
        },
        {
          "data": {
            "text/html": [
              " View project at <a href=\"https://wandb.ai/dsp_aguro/aguro_tcn\" target=\"_blank\">https://wandb.ai/dsp_aguro/aguro_tcn</a>"
            ],
            "text/plain": [
              "<IPython.core.display.HTML object>"
            ]
          },
          "metadata": {},
          "output_type": "display_data"
        },
        {
          "data": {
            "text/html": [
              " View sweep at <a href=\"https://wandb.ai/dsp_aguro/aguro_tcn/sweeps/9vw7gd6y\" target=\"_blank\">https://wandb.ai/dsp_aguro/aguro_tcn/sweeps/9vw7gd6y</a>"
            ],
            "text/plain": [
              "<IPython.core.display.HTML object>"
            ]
          },
          "metadata": {},
          "output_type": "display_data"
        },
        {
          "data": {
            "text/html": [
              " View run at <a href=\"https://wandb.ai/dsp_aguro/aguro_tcn/runs/hhbtfn8q\" target=\"_blank\">https://wandb.ai/dsp_aguro/aguro_tcn/runs/hhbtfn8q</a>"
            ],
            "text/plain": [
              "<IPython.core.display.HTML object>"
            ]
          },
          "metadata": {},
          "output_type": "display_data"
        },
        {
          "name": "stdout",
          "output_type": "stream",
          "text": [
            "Epoch 1/500\n",
            " 6/61 [=>............................] - ETA: 4s - loss: 2379.6216 - mae: 1288.2457 - root_mean_squared_error: 2379.6216"
          ]
        },
        {
          "name": "stderr",
          "output_type": "stream",
          "text": [
            "WARNING:tensorflow:Callback method `on_train_batch_end` is slow compared to the batch time (batch time: 0.0313s vs `on_train_batch_end` time: 0.0466s). Check your callbacks.\n"
          ]
        },
        {
          "name": "stdout",
          "output_type": "stream",
          "text": [
            "61/61 [==============================] - ETA: 0s - loss: 15301.7246 - mae: 1435.3929 - root_mean_squared_error: 15344.0117"
          ]
        },
        {
          "name": "stderr",
          "output_type": "stream",
          "text": [
            "WARNING:absl:Found untraced functions such as residual_block_0_layer_call_fn, residual_block_0_layer_call_and_return_conditional_losses, residual_block_1_layer_call_fn, residual_block_1_layer_call_and_return_conditional_losses, residual_block_2_layer_call_fn while saving (showing 5 of 257). These functions will not be directly callable after loading.\n",
            "\u001b[34m\u001b[1mwandb\u001b[0m: Adding directory to artifact (/content/wandb/run-20230124_125001-hhbtfn8q/files/model-best)... Done. 0.0s\n"
          ]
        },
        {
          "name": "stdout",
          "output_type": "stream",
          "text": [
            "\b\b\b\b\b\b\b\b\b\b\b\b\b\b\b\b\b\b\b\b\b\b\b\b\b\b\b\b\b\b\b\b\b\b\b\b\b\b\b\b\b\b\b\b\b\b\b\b\b\b\b\b\b\b\b\b\b\b\b\b\b\b\b\b\b\b\b\b\b\b\b\b\b\b\b\b\b\b\b\b\b\b\b\b\b\b\b\b\b\b\b\b\b\b\b\b\b\b\b\b\b\b\b\b\b\b\b\b\b\b\b\b\b\b\b\b\b\b\b\b\b\b\r61/61 [==============================] - 19s 243ms/step - loss: 15301.7246 - mae: 1435.3929 - root_mean_squared_error: 15344.0117 - val_loss: 1.3832 - val_mae: 1.1485 - val_root_mean_squared_error: 1.3843 - lr: 0.0743\n",
            "Epoch 2/500\n",
            "61/61 [==============================] - 4s 70ms/step - loss: 1252765.0000 - mae: 55480.4961 - root_mean_squared_error: 1248122.7500 - val_loss: 1.4457 - val_mae: 1.2345 - val_root_mean_squared_error: 1.4467 - lr: 0.0743\n",
            "Epoch 3/500\n",
            "61/61 [==============================] - 4s 67ms/step - loss: 32710030.0000 - mae: 1408307.3750 - root_mean_squared_error: 32698964.0000 - val_loss: 1.4398 - val_mae: 1.2011 - val_root_mean_squared_error: 1.4408 - lr: 0.0743\n",
            "Epoch 4/500\n",
            "61/61 [==============================] - ETA: 0s - loss: 395546208.0000 - mae: 16680638.0000 - root_mean_squared_error: 397793536.0000"
          ]
        },
        {
          "name": "stderr",
          "output_type": "stream",
          "text": [
            "WARNING:absl:Found untraced functions such as residual_block_0_layer_call_fn, residual_block_0_layer_call_and_return_conditional_losses, residual_block_1_layer_call_fn, residual_block_1_layer_call_and_return_conditional_losses, residual_block_2_layer_call_fn while saving (showing 5 of 257). These functions will not be directly callable after loading.\n",
            "\u001b[34m\u001b[1mwandb\u001b[0m: Adding directory to artifact (/content/wandb/run-20230124_125001-hhbtfn8q/files/model-best)... Done. 0.0s\n"
          ]
        },
        {
          "name": "stdout",
          "output_type": "stream",
          "text": [
            "\b\b\b\b\b\b\b\b\b\b\b\b\b\b\b\b\b\b\b\b\b\b\b\b\b\b\b\b\b\b\b\b\b\b\b\b\b\b\b\b\b\b\b\b\b\b\b\b\b\b\b\b\b\b\b\b\b\b\b\b\b\b\b\b\b\b\b\b\b\b\b\b\b\b\b\b\b\b\b\b\b\b\b\b\b\b\b\b\b\b\b\b\b\b\b\b\b\b\b\b\b\b\b\b\b\b\b\b\b\b\b\b\b\b\b\b\b\b\b\b\b\b\b\b\b\b\b\b\b\b\b\b\b\b\r61/61 [==============================] - 14s 235ms/step - loss: 395546208.0000 - mae: 16680638.0000 - root_mean_squared_error: 397793536.0000 - val_loss: 0.2145 - val_mae: 0.1789 - val_root_mean_squared_error: 0.2166 - lr: 0.0743\n",
            "Epoch 5/500\n",
            "61/61 [==============================] - ETA: 0s - loss: 372424288.0000 - mae: 15568206.0000 - root_mean_squared_error: 371287200.0000"
          ]
        },
        {
          "name": "stderr",
          "output_type": "stream",
          "text": [
            "WARNING:absl:Found untraced functions such as residual_block_0_layer_call_fn, residual_block_0_layer_call_and_return_conditional_losses, residual_block_1_layer_call_fn, residual_block_1_layer_call_and_return_conditional_losses, residual_block_2_layer_call_fn while saving (showing 5 of 257). These functions will not be directly callable after loading.\n",
            "\u001b[34m\u001b[1mwandb\u001b[0m: Adding directory to artifact (/content/wandb/run-20230124_125001-hhbtfn8q/files/model-best)... Done. 0.0s\n"
          ]
        },
        {
          "name": "stdout",
          "output_type": "stream",
          "text": [
            "\b\b\b\b\b\b\b\b\b\b\b\b\b\b\b\b\b\b\b\b\b\b\b\b\b\b\b\b\b\b\b\b\b\b\b\b\b\b\b\b\b\b\b\b\b\b\b\b\b\b\b\b\b\b\b\b\b\b\b\b\b\b\b\b\b\b\b\b\b\b\b\b\b\b\b\b\b\b\b\b\b\b\b\b\b\b\b\b\b\b\b\b\b\b\b\b\b\b\b\b\b\b\b\b\b\b\b\b\b\b\b\b\b\b\b\b\b\b\b\b\b\b\b\b\b\b\b\b\b\b\b\b\b\b\r61/61 [==============================] - 14s 229ms/step - loss: 372424288.0000 - mae: 15568206.0000 - root_mean_squared_error: 371287200.0000 - val_loss: 0.1792 - val_mae: 0.1548 - val_root_mean_squared_error: 0.1814 - lr: 0.0743\n",
            "Epoch 6/500\n",
            "61/61 [==============================] - ETA: 0s - loss: 7599686656.0000 - mae: 340981632.0000 - root_mean_squared_error: 7569513984.0000"
          ]
        },
        {
          "name": "stderr",
          "output_type": "stream",
          "text": [
            "WARNING:absl:Found untraced functions such as residual_block_0_layer_call_fn, residual_block_0_layer_call_and_return_conditional_losses, residual_block_1_layer_call_fn, residual_block_1_layer_call_and_return_conditional_losses, residual_block_2_layer_call_fn while saving (showing 5 of 257). These functions will not be directly callable after loading.\n",
            "\u001b[34m\u001b[1mwandb\u001b[0m: Adding directory to artifact (/content/wandb/run-20230124_125001-hhbtfn8q/files/model-best)... Done. 0.0s\n"
          ]
        },
        {
          "name": "stdout",
          "output_type": "stream",
          "text": [
            "\b\b\b\b\b\b\b\b\b\b\b\b\b\b\b\b\b\b\b\b\b\b\b\b\b\b\b\b\b\b\b\b\b\b\b\b\b\b\b\b\b\b\b\b\b\b\b\b\b\b\b\b\b\b\b\b\b\b\b\b\b\b\b\b\b\b\b\b\b\b\b\b\b\b\b\b\b\b\b\b\b\b\b\b\b\b\b\b\b\b\b\b\b\b\b\b\b\b\b\b\b\b\b\b\b\b\b\b\b\b\b\b\b\b\b\b\b\b\b\b\b\b\b\b\b\b\b\b\b\b\b\b\b\b\b\b\b\r61/61 [==============================] - 14s 238ms/step - loss: 7599686656.0000 - mae: 340981632.0000 - root_mean_squared_error: 7569513984.0000 - val_loss: 0.1768 - val_mae: 0.1538 - val_root_mean_squared_error: 0.1790 - lr: 0.0743\n",
            "Epoch 7/500\n",
            "61/61 [==============================] - 4s 69ms/step - loss: 119499227136.0000 - mae: 4653583872.0000 - root_mean_squared_error: 119036526592.0000 - val_loss: 0.1828 - val_mae: 0.1611 - val_root_mean_squared_error: 0.1851 - lr: 0.0743\n",
            "Epoch 8/500\n",
            "61/61 [==============================] - 4s 68ms/step - loss: 30838294528.0000 - mae: 1364882816.0000 - root_mean_squared_error: 30715856896.0000 - val_loss: 0.1855 - val_mae: 0.1640 - val_root_mean_squared_error: 0.1878 - lr: 0.0743\n",
            "Epoch 9/500\n",
            "61/61 [==============================] - 4s 69ms/step - loss: 4252473229312.0000 - mae: 174854635520.0000 - root_mean_squared_error: 4239172567040.0000 - val_loss: 0.1905 - val_mae: 0.1691 - val_root_mean_squared_error: 0.1929 - lr: 0.0743\n",
            "Epoch 10/500\n",
            "61/61 [==============================] - 4s 68ms/step - loss: 6401545728.0000 - mae: 227394064.0000 - root_mean_squared_error: 6376129536.0000 - val_loss: 0.1770 - val_mae: 0.1551 - val_root_mean_squared_error: 0.1792 - lr: 0.0743\n",
            "Epoch 11/500\n",
            "61/61 [==============================] - ETA: 0s - loss: 525514211328.0000 - mae: 16817613824.0000 - root_mean_squared_error: 523427741696.0000"
          ]
        },
        {
          "name": "stderr",
          "output_type": "stream",
          "text": [
            "WARNING:absl:Found untraced functions such as residual_block_0_layer_call_fn, residual_block_0_layer_call_and_return_conditional_losses, residual_block_1_layer_call_fn, residual_block_1_layer_call_and_return_conditional_losses, residual_block_2_layer_call_fn while saving (showing 5 of 257). These functions will not be directly callable after loading.\n",
            "\u001b[34m\u001b[1mwandb\u001b[0m: Adding directory to artifact (/content/wandb/run-20230124_125001-hhbtfn8q/files/model-best)... Done. 0.0s\n"
          ]
        },
        {
          "name": "stdout",
          "output_type": "stream",
          "text": [
            "\b\b\b\b\b\b\b\b\b\b\b\b\b\b\b\b\b\b\b\b\b\b\b\b\b\b\b\b\b\b\b\b\b\b\b\b\b\b\b\b\b\b\b\b\b\b\b\b\b\b\b\b\b\b\b\b\b\b\b\b\b\b\b\b\b\b\b\b\b\b\b\b\b\b\b\b\b\b\b\b\b\b\b\b\b\b\b\b\b\b\b\b\b\b\b\b\b\b\b\b\b\b\b\b\b\b\b\b\b\b\b\b\b\b\b\b\b\b\b\b\b\b\b\b\b\b\b\b\b\b\b\b\b\b\b\b\b\b\b\b\b\b\b\r61/61 [==============================] - 14s 233ms/step - loss: 525514211328.0000 - mae: 16817613824.0000 - root_mean_squared_error: 523427741696.0000 - val_loss: 0.1699 - val_mae: 0.1475 - val_root_mean_squared_error: 0.1720 - lr: 0.0743\n",
            "Epoch 12/500\n",
            "61/61 [==============================] - 4s 69ms/step - loss: 4358330368.0000 - mae: 165043264.0000 - root_mean_squared_error: 4341026816.0000 - val_loss: 0.1762 - val_mae: 0.1541 - val_root_mean_squared_error: 0.1783 - lr: 0.0743\n",
            "Epoch 13/500\n",
            "61/61 [==============================] - 4s 68ms/step - loss: 3112510208.0000 - mae: 116623632.0000 - root_mean_squared_error: 3100152576.0000 - val_loss: 0.1796 - val_mae: 0.1578 - val_root_mean_squared_error: 0.1819 - lr: 0.0743\n",
            "Epoch 14/500\n",
            "61/61 [==============================] - 4s 68ms/step - loss: 12630823936.0000 - mae: 447654400.0000 - root_mean_squared_error: 12580676608.0000 - val_loss: 0.1858 - val_mae: 0.1644 - val_root_mean_squared_error: 0.1881 - lr: 0.0743\n",
            "Epoch 15/500\n",
            "61/61 [==============================] - 4s 69ms/step - loss: 19793352704.0000 - mae: 771893056.0000 - root_mean_squared_error: 19714766848.0000 - val_loss: 0.1703 - val_mae: 0.1477 - val_root_mean_squared_error: 0.1723 - lr: 0.0743\n",
            "Epoch 16/500\n",
            "61/61 [==============================] - 4s 69ms/step - loss: 4468069888.0000 - mae: 170850592.0000 - root_mean_squared_error: 4450330624.0000 - val_loss: 0.1725 - val_mae: 0.1502 - val_root_mean_squared_error: 0.1746 - lr: 0.0743\n",
            "Epoch 17/500\n",
            "61/61 [==============================] - 4s 69ms/step - loss: 37073006592.0000 - mae: 1377720960.0000 - root_mean_squared_error: 36925812736.0000 - val_loss: 0.1860 - val_mae: 0.1646 - val_root_mean_squared_error: 0.1883 - lr: 0.0743\n",
            "Epoch 18/500\n",
            "61/61 [==============================] - 4s 68ms/step - loss: 447835734016.0000 - mae: 16469168128.0000 - root_mean_squared_error: 446057709568.0000 - val_loss: 0.1974 - val_mae: 0.1767 - val_root_mean_squared_error: 0.1999 - lr: 0.0743\n",
            "Epoch 19/500\n",
            "61/61 [==============================] - ETA: 0s - loss: 69950429462528.0000 - mae: 3049884483584.0000 - root_mean_squared_error: 69672703623168.0000"
          ]
        },
        {
          "name": "stderr",
          "output_type": "stream",
          "text": [
            "WARNING:absl:Found untraced functions such as residual_block_0_layer_call_fn, residual_block_0_layer_call_and_return_conditional_losses, residual_block_1_layer_call_fn, residual_block_1_layer_call_and_return_conditional_losses, residual_block_2_layer_call_fn while saving (showing 5 of 257). These functions will not be directly callable after loading.\n",
            "\u001b[34m\u001b[1mwandb\u001b[0m: Adding directory to artifact (/content/wandb/run-20230124_125001-hhbtfn8q/files/model-best)... Done. 0.0s\n"
          ]
        },
        {
          "name": "stdout",
          "output_type": "stream",
          "text": [
            "\b\b\b\b\b\b\b\b\b\b\b\b\b\b\b\b\b\b\b\b\b\b\b\b\b\b\b\b\b\b\b\b\b\b\b\b\b\b\b\b\b\b\b\b\b\b\b\b\b\b\b\b\b\b\b\b\b\b\b\b\b\b\b\b\b\b\b\b\b\b\b\b\b\b\b\b\b\b\b\b\b\b\b\b\b\b\b\b\b\b\b\b\b\b\b\b\b\b\b\b\b\b\b\b\b\b\b\b\b\b\b\b\b\b\b\b\b\b\b\b\b\b\b\b\b\b\b\b\b\b\b\b\b\b\b\b\b\b\b\b\b\b\b\b\b\b\b\b\b\r61/61 [==============================] - 14s 232ms/step - loss: 69950429462528.0000 - mae: 3049884483584.0000 - root_mean_squared_error: 69672703623168.0000 - val_loss: 0.1696 - val_mae: 0.1471 - val_root_mean_squared_error: 0.1717 - lr: 0.0743\n",
            "Epoch 20/500\n",
            "61/61 [==============================] - 4s 69ms/step - loss: 5034683392.0000 - mae: 172861584.0000 - root_mean_squared_error: 5014694400.0000 - val_loss: 0.1743 - val_mae: 0.1521 - val_root_mean_squared_error: 0.1764 - lr: 0.0743\n",
            "Epoch 21/500\n",
            "61/61 [==============================] - 4s 67ms/step - loss: 358891225088.0000 - mae: 13891812352.0000 - root_mean_squared_error: 357466341376.0000 - val_loss: 0.1714 - val_mae: 0.1491 - val_root_mean_squared_error: 0.1735 - lr: 0.0743\n",
            "Epoch 22/500\n",
            "61/61 [==============================] - 4s 68ms/step - loss: 137258221568.0000 - mae: 5931535360.0000 - root_mean_squared_error: 136713273344.0000 - val_loss: 0.1851 - val_mae: 0.1637 - val_root_mean_squared_error: 0.1874 - lr: 0.0743\n",
            "Epoch 23/500\n",
            "61/61 [==============================] - ETA: 0s - loss: 230026313728.0000 - mae: 9471441920.0000 - root_mean_squared_error: 229113053184.0000"
          ]
        },
        {
          "name": "stderr",
          "output_type": "stream",
          "text": [
            "WARNING:absl:Found untraced functions such as residual_block_0_layer_call_fn, residual_block_0_layer_call_and_return_conditional_losses, residual_block_1_layer_call_fn, residual_block_1_layer_call_and_return_conditional_losses, residual_block_2_layer_call_fn while saving (showing 5 of 257). These functions will not be directly callable after loading.\n",
            "\u001b[34m\u001b[1mwandb\u001b[0m: Adding directory to artifact (/content/wandb/run-20230124_125001-hhbtfn8q/files/model-best)... Done. 0.0s\n"
          ]
        },
        {
          "name": "stdout",
          "output_type": "stream",
          "text": [
            "\b\b\b\b\b\b\b\b\b\b\b\b\b\b\b\b\b\b\b\b\b\b\b\b\b\b\b\b\b\b\b\b\b\b\b\b\b\b\b\b\b\b\b\b\b\b\b\b\b\b\b\b\b\b\b\b\b\b\b\b\b\b\b\b\b\b\b\b\b\b\b\b\b\b\b\b\b\b\b\b\b\b\b\b\b\b\b\b\b\b\b\b\b\b\b\b\b\b\b\b\b\b\b\b\b\b\b\b\b\b\b\b\b\b\b\b\b\b\b\b\b\b\b\b\b\b\b\b\b\b\b\b\b\b\b\b\b\b\b\b\b\b\r61/61 [==============================] - 14s 237ms/step - loss: 230026313728.0000 - mae: 9471441920.0000 - root_mean_squared_error: 229113053184.0000 - val_loss: 0.1690 - val_mae: 0.1464 - val_root_mean_squared_error: 0.1710 - lr: 0.0743\n",
            "Epoch 24/500\n",
            "61/61 [==============================] - 4s 69ms/step - loss: 8810915840.0000 - mae: 324960192.0000 - root_mean_squared_error: 8775933952.0000 - val_loss: 0.1876 - val_mae: 0.1662 - val_root_mean_squared_error: 0.1899 - lr: 0.0743\n",
            "Epoch 25/500\n",
            "61/61 [==============================] - 4s 68ms/step - loss: 397447.3438 - mae: 14967.7959 - root_mean_squared_error: 395869.3750 - val_loss: 0.1779 - val_mae: 0.1561 - val_root_mean_squared_error: 0.1801 - lr: 0.0743\n",
            "Epoch 26/500\n",
            "61/61 [==============================] - 4s 68ms/step - loss: 390657146880.0000 - mae: 14419331072.0000 - root_mean_squared_error: 389106139136.0000 - val_loss: 0.1864 - val_mae: 0.1650 - val_root_mean_squared_error: 0.1887 - lr: 0.0743\n",
            "Epoch 27/500\n",
            "61/61 [==============================] - 4s 68ms/step - loss: 40828801024.0000 - mae: 1398675840.0000 - root_mean_squared_error: 40666697728.0000 - val_loss: 0.1767 - val_mae: 0.1547 - val_root_mean_squared_error: 0.1789 - lr: 0.0743\n",
            "Epoch 28/500\n",
            "61/61 [==============================] - ETA: 0s - loss: 655315840.0000 - mae: 27842194.0000 - root_mean_squared_error: 652714048.0000"
          ]
        },
        {
          "name": "stderr",
          "output_type": "stream",
          "text": [
            "WARNING:absl:Found untraced functions such as residual_block_0_layer_call_fn, residual_block_0_layer_call_and_return_conditional_losses, residual_block_1_layer_call_fn, residual_block_1_layer_call_and_return_conditional_losses, residual_block_2_layer_call_fn while saving (showing 5 of 257). These functions will not be directly callable after loading.\n",
            "\u001b[34m\u001b[1mwandb\u001b[0m: Adding directory to artifact (/content/wandb/run-20230124_125001-hhbtfn8q/files/model-best)... Done. 0.0s\n"
          ]
        },
        {
          "name": "stdout",
          "output_type": "stream",
          "text": [
            "\b\b\b\b\b\b\b\b\b\b\b\b\b\b\b\b\b\b\b\b\b\b\b\b\b\b\b\b\b\b\b\b\b\b\b\b\b\b\b\b\b\b\b\b\b\b\b\b\b\b\b\b\b\b\b\b\b\b\b\b\b\b\b\b\b\b\b\b\b\b\b\b\b\b\b\b\b\b\b\b\b\b\b\b\b\b\b\b\b\b\b\b\b\b\b\b\b\b\b\b\b\b\b\b\b\b\b\b\b\b\b\b\b\b\b\b\b\b\b\b\b\b\b\b\b\b\b\b\b\b\b\b\b\b\r61/61 [==============================] - 14s 235ms/step - loss: 655315840.0000 - mae: 27842194.0000 - root_mean_squared_error: 652714048.0000 - val_loss: 0.1629 - val_mae: 0.1398 - val_root_mean_squared_error: 0.1648 - lr: 0.0743\n",
            "Epoch 29/500\n",
            "61/61 [==============================] - 4s 70ms/step - loss: 1711469887488.0000 - mae: 74656120832.0000 - root_mean_squared_error: 1704674852864.0000 - val_loss: 0.1733 - val_mae: 0.1511 - val_root_mean_squared_error: 0.1755 - lr: 0.0743\n",
            "Epoch 30/500\n",
            "61/61 [==============================] - 4s 67ms/step - loss: 7246520832.0000 - mae: 304105728.0000 - root_mean_squared_error: 7217750016.0000 - val_loss: 0.1784 - val_mae: 0.1566 - val_root_mean_squared_error: 0.1807 - lr: 0.0743\n",
            "Epoch 31/500\n",
            "61/61 [==============================] - 4s 67ms/step - loss: 0.2173 - mae: 0.1651 - root_mean_squared_error: 0.2172 - val_loss: 0.1716 - val_mae: 0.1494 - val_root_mean_squared_error: 0.1737 - lr: 0.0743\n",
            "Epoch 32/500\n",
            "61/61 [==============================] - 4s 67ms/step - loss: 9258480640.0000 - mae: 363930880.0000 - root_mean_squared_error: 9221722112.0000 - val_loss: 0.1701 - val_mae: 0.1476 - val_root_mean_squared_error: 0.1721 - lr: 0.0743\n",
            "Epoch 33/500\n",
            "61/61 [==============================] - 4s 68ms/step - loss: 211121600.0000 - mae: 9180273.0000 - root_mean_squared_error: 210283392.0000 - val_loss: 0.1893 - val_mae: 0.1681 - val_root_mean_squared_error: 0.1916 - lr: 0.0743\n",
            "Epoch 34/500\n",
            "61/61 [==============================] - 4s 68ms/step - loss: 2969733888.0000 - mae: 109395040.0000 - root_mean_squared_error: 2957943296.0000 - val_loss: 0.1791 - val_mae: 0.1573 - val_root_mean_squared_error: 0.1813 - lr: 0.0743\n",
            "Epoch 35/500\n",
            "61/61 [==============================] - 4s 68ms/step - loss: 0.2170 - mae: 0.1650 - root_mean_squared_error: 0.2171 - val_loss: 0.1834 - val_mae: 0.1618 - val_root_mean_squared_error: 0.1857 - lr: 0.0743\n",
            "Epoch 36/500\n",
            "61/61 [==============================] - ETA: 0s - loss: 1204636614656.0000 - mae: 48910471168.0000 - root_mean_squared_error: 1199853797376.0000"
          ]
        },
        {
          "name": "stderr",
          "output_type": "stream",
          "text": [
            "WARNING:absl:Found untraced functions such as residual_block_0_layer_call_fn, residual_block_0_layer_call_and_return_conditional_losses, residual_block_1_layer_call_fn, residual_block_1_layer_call_and_return_conditional_losses, residual_block_2_layer_call_fn while saving (showing 5 of 257). These functions will not be directly callable after loading.\n",
            "\u001b[34m\u001b[1mwandb\u001b[0m: Adding directory to artifact (/content/wandb/run-20230124_125001-hhbtfn8q/files/model-best)... Done. 0.0s\n"
          ]
        },
        {
          "name": "stdout",
          "output_type": "stream",
          "text": [
            "\b\b\b\b\b\b\b\b\b\b\b\b\b\b\b\b\b\b\b\b\b\b\b\b\b\b\b\b\b\b\b\b\b\b\b\b\b\b\b\b\b\b\b\b\b\b\b\b\b\b\b\b\b\b\b\b\b\b\b\b\b\b\b\b\b\b\b\b\b\b\b\b\b\b\b\b\b\b\b\b\b\b\b\b\b\b\b\b\b\b\b\b\b\b\b\b\b\b\b\b\b\b\b\b\b\b\b\b\b\b\b\b\b\b\b\b\b\b\b\b\b\b\b\b\b\b\b\b\b\b\b\b\b\b\b\b\b\b\b\b\b\b\b\b\b\r61/61 [==============================] - 14s 229ms/step - loss: 1204636614656.0000 - mae: 48910471168.0000 - root_mean_squared_error: 1199853797376.0000 - val_loss: 0.1600 - val_mae: 0.1366 - val_root_mean_squared_error: 0.1619 - lr: 0.0743\n",
            "Epoch 37/500\n",
            "61/61 [==============================] - 4s 69ms/step - loss: 664258496.0000 - mae: 22234314.0000 - root_mean_squared_error: 661621184.0000 - val_loss: 0.1709 - val_mae: 0.1485 - val_root_mean_squared_error: 0.1729 - lr: 0.0743\n",
            "Epoch 38/500\n",
            "61/61 [==============================] - 4s 67ms/step - loss: 4551834624.0000 - mae: 193597472.0000 - root_mean_squared_error: 4533762560.0000 - val_loss: 0.1713 - val_mae: 0.1490 - val_root_mean_squared_error: 0.1733 - lr: 0.0743\n",
            "Epoch 39/500\n",
            "61/61 [==============================] - 4s 67ms/step - loss: 68142870528.0000 - mae: 2905131776.0000 - root_mean_squared_error: 67872321536.0000 - val_loss: 0.1860 - val_mae: 0.1647 - val_root_mean_squared_error: 0.1884 - lr: 0.0743\n",
            "Epoch 40/500\n",
            "61/61 [==============================] - 4s 68ms/step - loss: 4194614016.0000 - mae: 184073456.0000 - root_mean_squared_error: 4177960192.0000 - val_loss: 0.1798 - val_mae: 0.1580 - val_root_mean_squared_error: 0.1820 - lr: 0.0743\n",
            "Epoch 41/500\n",
            "61/61 [==============================] - 4s 68ms/step - loss: 1736959197184.0000 - mae: 83104604160.0000 - root_mean_squared_error: 2282919034880.0000 - val_loss: 0.1924 - val_mae: 0.1713 - val_root_mean_squared_error: 0.1948 - lr: 0.0743\n",
            "Epoch 42/500\n",
            "61/61 [==============================] - 4s 69ms/step - loss: 0.2173 - mae: 0.1653 - root_mean_squared_error: 0.2173 - val_loss: 0.1718 - val_mae: 0.1495 - val_root_mean_squared_error: 0.1739 - lr: 0.0743\n",
            "Epoch 43/500\n",
            "61/61 [==============================] - 4s 69ms/step - loss: 0.2172 - mae: 0.1651 - root_mean_squared_error: 0.2171 - val_loss: 0.1710 - val_mae: 0.1487 - val_root_mean_squared_error: 0.1731 - lr: 0.0743\n",
            "Epoch 44/500\n",
            "61/61 [==============================] - ETA: 0s - loss: 7779613184.0000 - mae: 310650240.0000 - root_mean_squared_error: 7748725760.0000"
          ]
        },
        {
          "name": "stderr",
          "output_type": "stream",
          "text": [
            "WARNING:absl:Found untraced functions such as residual_block_0_layer_call_fn, residual_block_0_layer_call_and_return_conditional_losses, residual_block_1_layer_call_fn, residual_block_1_layer_call_and_return_conditional_losses, residual_block_2_layer_call_fn while saving (showing 5 of 257). These functions will not be directly callable after loading.\n",
            "\u001b[34m\u001b[1mwandb\u001b[0m: Adding directory to artifact (/content/wandb/run-20230124_125001-hhbtfn8q/files/model-best)... Done. 0.0s\n"
          ]
        },
        {
          "name": "stdout",
          "output_type": "stream",
          "text": [
            "\b\b\b\b\b\b\b\b\b\b\b\b\b\b\b\b\b\b\b\b\b\b\b\b\b\b\b\b\b\b\b\b\b\b\b\b\b\b\b\b\b\b\b\b\b\b\b\b\b\b\b\b\b\b\b\b\b\b\b\b\b\b\b\b\b\b\b\b\b\b\b\b\b\b\b\b\b\b\b\b\b\b\b\b\b\b\b\b\b\b\b\b\b\b\b\b\b\b\b\b\b\b\b\b\b\b\b\b\b\b\b\b\b\b\b\b\b\b\b\b\b\b\b\b\b\b\b\b\b\b\b\b\b\b\b\b\b\r61/61 [==============================] - 14s 238ms/step - loss: 7779613184.0000 - mae: 310650240.0000 - root_mean_squared_error: 7748725760.0000 - val_loss: 0.1587 - val_mae: 0.1352 - val_root_mean_squared_error: 0.1605 - lr: 0.0743\n",
            "Epoch 45/500\n",
            "61/61 [==============================] - 4s 69ms/step - loss: 1297334272000.0000 - mae: 56880943104.0000 - root_mean_squared_error: 1292183535616.0000 - val_loss: 0.1781 - val_mae: 0.1563 - val_root_mean_squared_error: 0.1803 - lr: 0.0743\n",
            "Epoch 46/500\n",
            "61/61 [==============================] - 4s 67ms/step - loss: 441239699456.0000 - mae: 17906264064.0000 - root_mean_squared_error: 439487823872.0000 - val_loss: 0.1812 - val_mae: 0.1596 - val_root_mean_squared_error: 0.1835 - lr: 0.0743\n",
            "Epoch 47/500\n",
            "61/61 [==============================] - 4s 68ms/step - loss: 0.2172 - mae: 0.1652 - root_mean_squared_error: 0.2172 - val_loss: 0.1622 - val_mae: 0.1391 - val_root_mean_squared_error: 0.1641 - lr: 0.0743\n",
            "Epoch 48/500\n",
            "61/61 [==============================] - 4s 69ms/step - loss: 426298540032.0000 - mae: 12675392512.0000 - root_mean_squared_error: 424606007296.0000 - val_loss: 0.1781 - val_mae: 0.1563 - val_root_mean_squared_error: 0.1803 - lr: 0.0743\n",
            "Epoch 49/500\n",
            "61/61 [==============================] - 4s 68ms/step - loss: 33429051392.0000 - mae: 1252447744.0000 - root_mean_squared_error: 33296326656.0000 - val_loss: 0.1804 - val_mae: 0.1587 - val_root_mean_squared_error: 0.1827 - lr: 0.0743\n",
            "Epoch 50/500\n",
            "61/61 [==============================] - 4s 69ms/step - loss: 0.2177 - mae: 0.1654 - root_mean_squared_error: 0.2177 - val_loss: 0.1772 - val_mae: 0.1553 - val_root_mean_squared_error: 0.1794 - lr: 0.0743\n",
            "Epoch 51/500\n",
            "61/61 [==============================] - 4s 68ms/step - loss: 0.2171 - mae: 0.1650 - root_mean_squared_error: 0.2172 - val_loss: 0.1756 - val_mae: 0.1536 - val_root_mean_squared_error: 0.1778 - lr: 0.0743\n",
            "Epoch 52/500\n",
            "61/61 [==============================] - 4s 69ms/step - loss: 0.2170 - mae: 0.1650 - root_mean_squared_error: 0.2171 - val_loss: 0.1679 - val_mae: 0.1453 - val_root_mean_squared_error: 0.1699 - lr: 0.0743\n",
            "Epoch 53/500\n",
            "61/61 [==============================] - 4s 67ms/step - loss: 0.2174 - mae: 0.1653 - root_mean_squared_error: 0.2173 - val_loss: 0.1847 - val_mae: 0.1632 - val_root_mean_squared_error: 0.1870 - lr: 0.0743\n",
            "Epoch 54/500\n",
            "61/61 [==============================] - 4s 68ms/step - loss: 12850533376.0000 - mae: 491238656.0000 - root_mean_squared_error: 12799512576.0000 - val_loss: 0.1738 - val_mae: 0.1516 - val_root_mean_squared_error: 0.1759 - lr: 0.0743\n",
            "Epoch 55/500\n",
            "61/61 [==============================] - 4s 68ms/step - loss: 0.2168 - mae: 0.1648 - root_mean_squared_error: 0.2168 - val_loss: 0.1740 - val_mae: 0.1519 - val_root_mean_squared_error: 0.1761 - lr: 0.0074\n",
            "Epoch 56/500\n",
            "61/61 [==============================] - 4s 67ms/step - loss: 1219010494464.0000 - mae: 51829641216.0000 - root_mean_squared_error: 1214170660864.0000 - val_loss: 0.1787 - val_mae: 0.1569 - val_root_mean_squared_error: 0.1809 - lr: 0.0074\n",
            "Epoch 57/500\n",
            "61/61 [==============================] - 4s 67ms/step - loss: 6737479680.0000 - mae: 227976272.0000 - root_mean_squared_error: 8855396352.0000 - val_loss: 0.1769 - val_mae: 0.1550 - val_root_mean_squared_error: 0.1791 - lr: 0.0074\n",
            "Epoch 58/500\n",
            "61/61 [==============================] - 4s 68ms/step - loss: 118669262848.0000 - mae: 4595010560.0000 - root_mean_squared_error: 118198108160.0000 - val_loss: 0.1814 - val_mae: 0.1598 - val_root_mean_squared_error: 0.1837 - lr: 0.0074\n",
            "Epoch 59/500\n",
            "61/61 [==============================] - 4s 67ms/step - loss: 23555952.0000 - mae: 874400.8750 - root_mean_squared_error: 23462428.0000 - val_loss: 0.1800 - val_mae: 0.1583 - val_root_mean_squared_error: 0.1823 - lr: 0.0074\n"
          ]
        },
        {
          "data": {
            "text/html": [
              "Waiting for W&B process to finish... <strong style=\"color:green\">(success).</strong>"
            ],
            "text/plain": [
              "<IPython.core.display.HTML object>"
            ]
          },
          "metadata": {},
          "output_type": "display_data"
        },
        {
          "data": {
            "text/html": [
              "<style>\n",
              "    table.wandb td:nth-child(1) { padding: 0 10px; text-align: left ; width: auto;} td:nth-child(2) {text-align: left ; width: 100%}\n",
              "    .wandb-row { display: flex; flex-direction: row; flex-wrap: wrap; justify-content: flex-start; width: 100% }\n",
              "    .wandb-col { display: flex; flex-direction: column; flex-basis: 100%; flex: 1; padding: 10px; }\n",
              "    </style>\n",
              "<div class=\"wandb-row\"><div class=\"wandb-col\"><h3>Run history:</h3><br/><table class=\"wandb\"><tr><td>epoch</td><td>▁▁▁▁▂▂▂▂▂▃▃▃▃▃▃▄▄▄▄▄▅▅▅▅▅▅▆▆▆▆▆▇▇▇▇▇▇███</td></tr><tr><td>loss</td><td>▁▁▁▁▁▁█▂▁▁▁▁▂▁▂▁▁▂▁▄▁▁▁▁▃▁▁▄▁▁▃▁▂▁▁▁▁▃▁▁</td></tr><tr><td>mae</td><td>▁▁▁▁▁▁█▂▁▁▁▁▂▁▂▁▁▂▁▄▁▁▁▁▃▁▁▄▁▁▃▁▂▁▁▁▁▃▁▁</td></tr><tr><td>root_mean_squared_error</td><td>▁▁▁▁▁▁█▂▁▁▁▁▂▁▂▁▁▂▁▄▁▁▁▁▃▁▁▅▁▁▃▁▂▁▁▁▁▃▁▁</td></tr><tr><td>val_loss</td><td>███▁▁▁▁▁▁▁▁▁▁▁▁▁▁▁▁▁▁▁▁▁▁▁▁▁▁▁▁▁▁▁▁▁▁▁▁▁</td></tr><tr><td>val_mae</td><td>▇██▁▁▁▁▁▁▁▁▁▁▁▁▁▁▁▁▁▁▁▁▁▁▁▁▁▁▁▁▁▁▁▁▁▁▁▁▁</td></tr><tr><td>val_root_mean_squared_error</td><td>███▁▁▁▁▁▁▁▁▁▁▁▁▁▁▁▁▁▁▁▁▁▁▁▁▁▁▁▁▁▁▁▁▁▁▁▁▁</td></tr></table><br/></div><div class=\"wandb-col\"><h3>Run summary:</h3><br/><table class=\"wandb\"><tr><td>best_epoch</td><td>43</td></tr><tr><td>best_val_loss</td><td>0.15867</td></tr><tr><td>epoch</td><td>58</td></tr><tr><td>loss</td><td>23555952.0</td></tr><tr><td>mae</td><td>874400.875</td></tr><tr><td>root_mean_squared_error</td><td>23462428.0</td></tr><tr><td>val_loss</td><td>0.18004</td></tr><tr><td>val_mae</td><td>0.15833</td></tr><tr><td>val_root_mean_squared_error</td><td>0.18228</td></tr></table><br/></div></div>"
            ],
            "text/plain": [
              "<IPython.core.display.HTML object>"
            ]
          },
          "metadata": {},
          "output_type": "display_data"
        },
        {
          "data": {
            "text/html": [
              " View run <strong style=\"color:#cdcd00\">jolly-sweep-14</strong> at: <a href=\"https://wandb.ai/dsp_aguro/aguro_tcn/runs/hhbtfn8q\" target=\"_blank\">https://wandb.ai/dsp_aguro/aguro_tcn/runs/hhbtfn8q</a><br/>Synced 5 W&B file(s), 1 media file(s), 40 artifact file(s) and 1 other file(s)"
            ],
            "text/plain": [
              "<IPython.core.display.HTML object>"
            ]
          },
          "metadata": {},
          "output_type": "display_data"
        },
        {
          "data": {
            "text/html": [
              "Find logs at: <code>./wandb/run-20230124_125001-hhbtfn8q/logs</code>"
            ],
            "text/plain": [
              "<IPython.core.display.HTML object>"
            ]
          },
          "metadata": {},
          "output_type": "display_data"
        },
        {
          "name": "stderr",
          "output_type": "stream",
          "text": [
            "\u001b[34m\u001b[1mwandb\u001b[0m: Sweep Agent: Waiting for job.\n",
            "\u001b[34m\u001b[1mwandb\u001b[0m: Job received.\n",
            "\u001b[34m\u001b[1mwandb\u001b[0m: Agent Starting Run: 1orj49jo with config:\n",
            "\u001b[34m\u001b[1mwandb\u001b[0m: \tbatch_size: 512\n",
            "\u001b[34m\u001b[1mwandb\u001b[0m: \tdropout_rate: 0.3\n",
            "\u001b[34m\u001b[1mwandb\u001b[0m: \tepochs: 500\n",
            "\u001b[34m\u001b[1mwandb\u001b[0m: \tkernel_size: 8\n",
            "\u001b[34m\u001b[1mwandb\u001b[0m: \tlr: 0.04345281441484505\n",
            "\u001b[34m\u001b[1mwandb\u001b[0m: \tnb_filters: 32\n",
            "\u001b[34m\u001b[1mwandb\u001b[0m: \toptimizer: adam\n",
            "Failed to detect the name of this notebook, you can set it manually with the WANDB_NOTEBOOK_NAME environment variable to enable code saving.\n"
          ]
        },
        {
          "data": {
            "text/html": [
              "Tracking run with wandb version 0.13.9"
            ],
            "text/plain": [
              "<IPython.core.display.HTML object>"
            ]
          },
          "metadata": {},
          "output_type": "display_data"
        },
        {
          "data": {
            "text/html": [
              "Run data is saved locally in <code>/content/wandb/run-20230124_125633-1orj49jo</code>"
            ],
            "text/plain": [
              "<IPython.core.display.HTML object>"
            ]
          },
          "metadata": {},
          "output_type": "display_data"
        },
        {
          "data": {
            "text/html": [
              "Syncing run <strong><a href=\"https://wandb.ai/dsp_aguro/aguro_tcn/runs/1orj49jo\" target=\"_blank\">curious-sweep-15</a></strong> to <a href=\"https://wandb.ai/dsp_aguro/aguro_tcn\" target=\"_blank\">Weights & Biases</a> (<a href=\"https://wandb.me/run\" target=\"_blank\">docs</a>)<br/>Sweep page: <a href=\"https://wandb.ai/dsp_aguro/aguro_tcn/sweeps/9vw7gd6y\" target=\"_blank\">https://wandb.ai/dsp_aguro/aguro_tcn/sweeps/9vw7gd6y</a>"
            ],
            "text/plain": [
              "<IPython.core.display.HTML object>"
            ]
          },
          "metadata": {},
          "output_type": "display_data"
        },
        {
          "data": {
            "text/html": [
              " View project at <a href=\"https://wandb.ai/dsp_aguro/aguro_tcn\" target=\"_blank\">https://wandb.ai/dsp_aguro/aguro_tcn</a>"
            ],
            "text/plain": [
              "<IPython.core.display.HTML object>"
            ]
          },
          "metadata": {},
          "output_type": "display_data"
        },
        {
          "data": {
            "text/html": [
              " View sweep at <a href=\"https://wandb.ai/dsp_aguro/aguro_tcn/sweeps/9vw7gd6y\" target=\"_blank\">https://wandb.ai/dsp_aguro/aguro_tcn/sweeps/9vw7gd6y</a>"
            ],
            "text/plain": [
              "<IPython.core.display.HTML object>"
            ]
          },
          "metadata": {},
          "output_type": "display_data"
        },
        {
          "data": {
            "text/html": [
              " View run at <a href=\"https://wandb.ai/dsp_aguro/aguro_tcn/runs/1orj49jo\" target=\"_blank\">https://wandb.ai/dsp_aguro/aguro_tcn/runs/1orj49jo</a>"
            ],
            "text/plain": [
              "<IPython.core.display.HTML object>"
            ]
          },
          "metadata": {},
          "output_type": "display_data"
        },
        {
          "name": "stdout",
          "output_type": "stream",
          "text": [
            "Epoch 1/500\n",
            "61/61 [==============================] - ETA: 0s - loss: 0.8923 - mae: 0.6819 - root_mean_squared_error: 0.8896"
          ]
        },
        {
          "name": "stderr",
          "output_type": "stream",
          "text": [
            "WARNING:absl:Found untraced functions such as residual_block_0_layer_call_fn, residual_block_0_layer_call_and_return_conditional_losses, residual_block_1_layer_call_fn, residual_block_1_layer_call_and_return_conditional_losses, residual_block_2_layer_call_fn while saving (showing 5 of 257). These functions will not be directly callable after loading.\n",
            "\u001b[34m\u001b[1mwandb\u001b[0m: Adding directory to artifact (/content/wandb/run-20230124_125633-1orj49jo/files/model-best)... Done. 0.0s\n"
          ]
        },
        {
          "name": "stdout",
          "output_type": "stream",
          "text": [
            "\b\b\b\b\b\b\b\b\b\b\b\b\b\b\b\b\b\b\b\b\b\b\b\b\b\b\b\b\b\b\b\b\b\b\b\b\b\b\b\b\b\b\b\b\b\b\b\b\b\b\b\b\b\b\b\b\b\b\b\b\b\b\b\b\b\b\b\b\b\b\b\b\b\b\b\b\b\b\b\b\b\b\b\b\b\b\b\b\b\b\b\b\b\b\b\b\b\b\b\b\b\b\b\b\b\b\b\b\b\b\b\r61/61 [==============================] - 22s 281ms/step - loss: 0.8923 - mae: 0.6819 - root_mean_squared_error: 0.8896 - val_loss: 0.1686 - val_mae: 0.1459 - val_root_mean_squared_error: 0.1706 - lr: 0.0435\n",
            "Epoch 2/500\n",
            "61/61 [==============================] - ETA: 0s - loss: 0.2044 - mae: 0.1536 - root_mean_squared_error: 0.2043"
          ]
        },
        {
          "name": "stderr",
          "output_type": "stream",
          "text": [
            "WARNING:absl:Found untraced functions such as residual_block_0_layer_call_fn, residual_block_0_layer_call_and_return_conditional_losses, residual_block_1_layer_call_fn, residual_block_1_layer_call_and_return_conditional_losses, residual_block_2_layer_call_fn while saving (showing 5 of 257). These functions will not be directly callable after loading.\n",
            "\u001b[34m\u001b[1mwandb\u001b[0m: Adding directory to artifact (/content/wandb/run-20230124_125633-1orj49jo/files/model-best)... Done. 0.0s\n"
          ]
        },
        {
          "name": "stdout",
          "output_type": "stream",
          "text": [
            "\b\b\b\b\b\b\b\b\b\b\b\b\b\b\b\b\b\b\b\b\b\b\b\b\b\b\b\b\b\b\b\b\b\b\b\b\b\b\b\b\b\b\b\b\b\b\b\b\b\b\b\b\b\b\b\b\b\b\b\b\b\b\b\b\b\b\b\b\b\b\b\b\b\b\b\b\b\b\b\b\b\b\b\b\b\b\b\b\b\b\b\b\b\b\b\b\b\b\b\b\b\b\b\b\b\b\b\b\b\b\b\r61/61 [==============================] - 14s 240ms/step - loss: 0.2044 - mae: 0.1536 - root_mean_squared_error: 0.2043 - val_loss: 0.1567 - val_mae: 0.1327 - val_root_mean_squared_error: 0.1583 - lr: 0.0435\n",
            "Epoch 3/500\n",
            "61/61 [==============================] - ETA: 0s - loss: 0.1963 - mae: 0.1466 - root_mean_squared_error: 0.1962"
          ]
        },
        {
          "name": "stderr",
          "output_type": "stream",
          "text": [
            "WARNING:absl:Found untraced functions such as residual_block_0_layer_call_fn, residual_block_0_layer_call_and_return_conditional_losses, residual_block_1_layer_call_fn, residual_block_1_layer_call_and_return_conditional_losses, residual_block_2_layer_call_fn while saving (showing 5 of 257). These functions will not be directly callable after loading.\n",
            "\u001b[34m\u001b[1mwandb\u001b[0m: Adding directory to artifact (/content/wandb/run-20230124_125633-1orj49jo/files/model-best)... Done. 0.0s\n"
          ]
        },
        {
          "name": "stdout",
          "output_type": "stream",
          "text": [
            "\b\b\b\b\b\b\b\b\b\b\b\b\b\b\b\b\b\b\b\b\b\b\b\b\b\b\b\b\b\b\b\b\b\b\b\b\b\b\b\b\b\b\b\b\b\b\b\b\b\b\b\b\b\b\b\b\b\b\b\b\b\b\b\b\b\b\b\b\b\b\b\b\b\b\b\b\b\b\b\b\b\b\b\b\b\b\b\b\b\b\b\b\b\b\b\b\b\b\b\b\b\b\b\b\b\b\b\b\b\b\b\r61/61 [==============================] - 15s 244ms/step - loss: 0.1963 - mae: 0.1466 - root_mean_squared_error: 0.1962 - val_loss: 0.1528 - val_mae: 0.1284 - val_root_mean_squared_error: 0.1543 - lr: 0.0435\n",
            "Epoch 4/500\n",
            "61/61 [==============================] - 5s 75ms/step - loss: 0.1935 - mae: 0.1434 - root_mean_squared_error: 0.1934 - val_loss: 0.1621 - val_mae: 0.1386 - val_root_mean_squared_error: 0.1638 - lr: 0.0435\n",
            "Epoch 5/500\n",
            "61/61 [==============================] - 5s 74ms/step - loss: 0.2020 - mae: 0.1475 - root_mean_squared_error: 0.2020 - val_loss: 0.1604 - val_mae: 0.1367 - val_root_mean_squared_error: 0.1623 - lr: 0.0435\n",
            "Epoch 6/500\n",
            "61/61 [==============================] - 5s 75ms/step - loss: 0.1972 - mae: 0.1469 - root_mean_squared_error: 0.1972 - val_loss: 0.1601 - val_mae: 0.1359 - val_root_mean_squared_error: 0.1616 - lr: 0.0435\n",
            "Epoch 7/500\n",
            "61/61 [==============================] - 5s 75ms/step - loss: 0.1954 - mae: 0.1451 - root_mean_squared_error: 0.1954 - val_loss: 0.1591 - val_mae: 0.1357 - val_root_mean_squared_error: 0.1609 - lr: 0.0435\n",
            "Epoch 8/500\n",
            "61/61 [==============================] - 5s 76ms/step - loss: 0.1970 - mae: 0.1465 - root_mean_squared_error: 0.1970 - val_loss: 0.1529 - val_mae: 0.1283 - val_root_mean_squared_error: 0.1543 - lr: 0.0435\n",
            "Epoch 9/500\n",
            "61/61 [==============================] - 5s 76ms/step - loss: 0.1992 - mae: 0.1493 - root_mean_squared_error: 0.1992 - val_loss: 0.1577 - val_mae: 0.1341 - val_root_mean_squared_error: 0.1595 - lr: 0.0435\n",
            "Epoch 10/500\n",
            "61/61 [==============================] - ETA: 0s - loss: 0.1955 - mae: 0.1461 - root_mean_squared_error: 0.1955"
          ]
        },
        {
          "name": "stderr",
          "output_type": "stream",
          "text": [
            "WARNING:absl:Found untraced functions such as residual_block_0_layer_call_fn, residual_block_0_layer_call_and_return_conditional_losses, residual_block_1_layer_call_fn, residual_block_1_layer_call_and_return_conditional_losses, residual_block_2_layer_call_fn while saving (showing 5 of 257). These functions will not be directly callable after loading.\n",
            "\u001b[34m\u001b[1mwandb\u001b[0m: Adding directory to artifact (/content/wandb/run-20230124_125633-1orj49jo/files/model-best)... Done. 0.0s\n"
          ]
        },
        {
          "name": "stdout",
          "output_type": "stream",
          "text": [
            "\b\b\b\b\b\b\b\b\b\b\b\b\b\b\b\b\b\b\b\b\b\b\b\b\b\b\b\b\b\b\b\b\b\b\b\b\b\b\b\b\b\b\b\b\b\b\b\b\b\b\b\b\b\b\b\b\b\b\b\b\b\b\b\b\b\b\b\b\b\b\b\b\b\b\b\b\b\b\b\b\b\b\b\b\b\b\b\b\b\b\b\b\b\b\b\b\b\b\b\b\b\b\b\b\b\b\b\b\b\b\b\r61/61 [==============================] - 14s 238ms/step - loss: 0.1955 - mae: 0.1461 - root_mean_squared_error: 0.1955 - val_loss: 0.1473 - val_mae: 0.1205 - val_root_mean_squared_error: 0.1482 - lr: 0.0435\n",
            "Epoch 11/500\n",
            "61/61 [==============================] - 5s 75ms/step - loss: 0.1945 - mae: 0.1446 - root_mean_squared_error: 0.1945 - val_loss: 0.1569 - val_mae: 0.1316 - val_root_mean_squared_error: 0.1580 - lr: 0.0435\n",
            "Epoch 12/500\n",
            "61/61 [==============================] - 5s 74ms/step - loss: 0.1928 - mae: 0.1440 - root_mean_squared_error: 0.1927 - val_loss: 0.1640 - val_mae: 0.1406 - val_root_mean_squared_error: 0.1657 - lr: 0.0435\n",
            "Epoch 13/500\n",
            "61/61 [==============================] - ETA: 0s - loss: 0.1963 - mae: 0.1460 - root_mean_squared_error: 0.1963"
          ]
        },
        {
          "name": "stderr",
          "output_type": "stream",
          "text": [
            "WARNING:absl:Found untraced functions such as residual_block_0_layer_call_fn, residual_block_0_layer_call_and_return_conditional_losses, residual_block_1_layer_call_fn, residual_block_1_layer_call_and_return_conditional_losses, residual_block_2_layer_call_fn while saving (showing 5 of 257). These functions will not be directly callable after loading.\n",
            "\u001b[34m\u001b[1mwandb\u001b[0m: Adding directory to artifact (/content/wandb/run-20230124_125633-1orj49jo/files/model-best)... Done. 0.0s\n"
          ]
        },
        {
          "name": "stdout",
          "output_type": "stream",
          "text": [
            "\b\b\b\b\b\b\b\b\b\b\b\b\b\b\b\b\b\b\b\b\b\b\b\b\b\b\b\b\b\b\b\b\b\b\b\b\b\b\b\b\b\b\b\b\b\b\b\b\b\b\b\b\b\b\b\b\b\b\b\b\b\b\b\b\b\b\b\b\b\b\b\b\b\b\b\b\b\b\b\b\b\b\b\b\b\b\b\b\b\b\b\b\b\b\b\b\b\b\b\b\b\b\b\b\b\b\b\b\b\b\b\r61/61 [==============================] - 15s 242ms/step - loss: 0.1963 - mae: 0.1460 - root_mean_squared_error: 0.1963 - val_loss: 0.1383 - val_mae: 0.1102 - val_root_mean_squared_error: 0.1391 - lr: 0.0435\n",
            "Epoch 14/500\n",
            "61/61 [==============================] - 5s 75ms/step - loss: 0.1925 - mae: 0.1430 - root_mean_squared_error: 0.1925 - val_loss: 0.1572 - val_mae: 0.1329 - val_root_mean_squared_error: 0.1586 - lr: 0.0435\n",
            "Epoch 15/500\n",
            "61/61 [==============================] - 5s 75ms/step - loss: 0.1922 - mae: 0.1430 - root_mean_squared_error: 0.1922 - val_loss: 0.1609 - val_mae: 0.1367 - val_root_mean_squared_error: 0.1625 - lr: 0.0435\n",
            "Epoch 16/500\n",
            "61/61 [==============================] - 5s 75ms/step - loss: 0.1912 - mae: 0.1424 - root_mean_squared_error: 0.1912 - val_loss: 0.1563 - val_mae: 0.1325 - val_root_mean_squared_error: 0.1579 - lr: 0.0435\n",
            "Epoch 17/500\n",
            "61/61 [==============================] - 5s 75ms/step - loss: 0.1921 - mae: 0.1427 - root_mean_squared_error: 0.1921 - val_loss: 0.1483 - val_mae: 0.1228 - val_root_mean_squared_error: 0.1495 - lr: 0.0435\n",
            "Epoch 18/500\n",
            "61/61 [==============================] - 5s 76ms/step - loss: 0.1908 - mae: 0.1422 - root_mean_squared_error: 0.1909 - val_loss: 0.1486 - val_mae: 0.1234 - val_root_mean_squared_error: 0.1500 - lr: 0.0435\n",
            "Epoch 19/500\n",
            "61/61 [==============================] - 5s 75ms/step - loss: 0.1928 - mae: 0.1434 - root_mean_squared_error: 0.1928 - val_loss: 0.1567 - val_mae: 0.1324 - val_root_mean_squared_error: 0.1582 - lr: 0.0435\n",
            "Epoch 20/500\n",
            "61/61 [==============================] - 5s 76ms/step - loss: 0.1992 - mae: 0.1471 - root_mean_squared_error: 0.1993 - val_loss: 0.1786 - val_mae: 0.1568 - val_root_mean_squared_error: 0.1809 - lr: 0.0435\n",
            "Epoch 21/500\n",
            "61/61 [==============================] - 5s 75ms/step - loss: 0.2140 - mae: 0.1623 - root_mean_squared_error: 0.2139 - val_loss: 0.1653 - val_mae: 0.1425 - val_root_mean_squared_error: 0.1671 - lr: 0.0435\n",
            "Epoch 22/500\n",
            "61/61 [==============================] - 5s 75ms/step - loss: 0.2080 - mae: 0.1564 - root_mean_squared_error: 0.2081 - val_loss: 0.1730 - val_mae: 0.1510 - val_root_mean_squared_error: 0.1751 - lr: 0.0435\n",
            "Epoch 23/500\n",
            "61/61 [==============================] - 5s 74ms/step - loss: 0.2056 - mae: 0.1543 - root_mean_squared_error: 0.2056 - val_loss: 0.1493 - val_mae: 0.1244 - val_root_mean_squared_error: 0.1507 - lr: 0.0435\n",
            "Epoch 24/500\n",
            "61/61 [==============================] - 5s 75ms/step - loss: 0.2009 - mae: 0.1503 - root_mean_squared_error: 0.2009 - val_loss: 0.1607 - val_mae: 0.1374 - val_root_mean_squared_error: 0.1624 - lr: 0.0043\n",
            "Epoch 25/500\n",
            "61/61 [==============================] - 5s 74ms/step - loss: 0.2008 - mae: 0.1503 - root_mean_squared_error: 0.2008 - val_loss: 0.1615 - val_mae: 0.1383 - val_root_mean_squared_error: 0.1632 - lr: 0.0043\n",
            "Epoch 26/500\n",
            "61/61 [==============================] - 5s 74ms/step - loss: 0.1993 - mae: 0.1491 - root_mean_squared_error: 0.1993 - val_loss: 0.1620 - val_mae: 0.1386 - val_root_mean_squared_error: 0.1636 - lr: 0.0043\n",
            "Epoch 27/500\n",
            "61/61 [==============================] - 5s 75ms/step - loss: 0.2012 - mae: 0.1505 - root_mean_squared_error: 0.2012 - val_loss: 0.1621 - val_mae: 0.1389 - val_root_mean_squared_error: 0.1638 - lr: 0.0043\n",
            "Epoch 28/500\n",
            "61/61 [==============================] - 5s 74ms/step - loss: 0.2003 - mae: 0.1495 - root_mean_squared_error: 0.2002 - val_loss: 0.1587 - val_mae: 0.1350 - val_root_mean_squared_error: 0.1603 - lr: 0.0043\n"
          ]
        },
        {
          "data": {
            "text/html": [
              "Waiting for W&B process to finish... <strong style=\"color:green\">(success).</strong>"
            ],
            "text/plain": [
              "<IPython.core.display.HTML object>"
            ]
          },
          "metadata": {},
          "output_type": "display_data"
        },
        {
          "data": {
            "application/vnd.jupyter.widget-view+json": {
              "model_id": "393c5a28264f4b5db348cf12a359f68b",
              "version_major": 2,
              "version_minor": 0
            },
            "text/plain": [
              "VBox(children=(Label(value='27.243 MB of 27.243 MB uploaded (0.399 MB deduped)\\r'), FloatProgress(value=1.0, m…"
            ]
          },
          "metadata": {},
          "output_type": "display_data"
        },
        {
          "data": {
            "text/html": [
              "<style>\n",
              "    table.wandb td:nth-child(1) { padding: 0 10px; text-align: left ; width: auto;} td:nth-child(2) {text-align: left ; width: 100%}\n",
              "    .wandb-row { display: flex; flex-direction: row; flex-wrap: wrap; justify-content: flex-start; width: 100% }\n",
              "    .wandb-col { display: flex; flex-direction: column; flex-basis: 100%; flex: 1; padding: 10px; }\n",
              "    </style>\n",
              "<div class=\"wandb-row\"><div class=\"wandb-col\"><h3>Run history:</h3><br/><table class=\"wandb\"><tr><td>epoch</td><td>▁▁▂▂▂▂▃▃▃▃▄▄▄▄▅▅▅▅▆▆▆▆▇▇▇▇██</td></tr><tr><td>loss</td><td>█▁▁▁▁▁▁▁▁▁▁▁▁▁▁▁▁▁▁▁▁▁▁▁▁▁▁▁</td></tr><tr><td>mae</td><td>█▁▁▁▁▁▁▁▁▁▁▁▁▁▁▁▁▁▁▁▁▁▁▁▁▁▁▁</td></tr><tr><td>root_mean_squared_error</td><td>█▁▁▁▁▁▁▁▁▁▁▁▁▁▁▁▁▁▁▁▁▁▁▁▁▁▁▁</td></tr><tr><td>val_loss</td><td>▆▄▄▅▅▅▅▄▄▃▄▅▁▄▅▄▃▃▄█▆▇▃▅▅▅▅▅</td></tr><tr><td>val_mae</td><td>▆▄▄▅▅▅▅▄▅▃▄▆▁▄▅▄▃▃▄█▆▇▃▅▅▅▅▅</td></tr><tr><td>val_root_mean_squared_error</td><td>▆▄▄▅▅▅▅▄▄▃▄▅▁▄▅▄▃▃▄█▆▇▃▅▅▅▅▅</td></tr></table><br/></div><div class=\"wandb-col\"><h3>Run summary:</h3><br/><table class=\"wandb\"><tr><td>best_epoch</td><td>12</td></tr><tr><td>best_val_loss</td><td>0.13831</td></tr><tr><td>epoch</td><td>27</td></tr><tr><td>loss</td><td>0.20026</td></tr><tr><td>mae</td><td>0.14954</td></tr><tr><td>root_mean_squared_error</td><td>0.20022</td></tr><tr><td>val_loss</td><td>0.15869</td></tr><tr><td>val_mae</td><td>0.13504</td></tr><tr><td>val_root_mean_squared_error</td><td>0.16026</td></tr></table><br/></div></div>"
            ],
            "text/plain": [
              "<IPython.core.display.HTML object>"
            ]
          },
          "metadata": {},
          "output_type": "display_data"
        },
        {
          "data": {
            "text/html": [
              " View run <strong style=\"color:#cdcd00\">curious-sweep-15</strong> at: <a href=\"https://wandb.ai/dsp_aguro/aguro_tcn/runs/1orj49jo\" target=\"_blank\">https://wandb.ai/dsp_aguro/aguro_tcn/runs/1orj49jo</a><br/>Synced 5 W&B file(s), 1 media file(s), 20 artifact file(s) and 1 other file(s)"
            ],
            "text/plain": [
              "<IPython.core.display.HTML object>"
            ]
          },
          "metadata": {},
          "output_type": "display_data"
        },
        {
          "data": {
            "text/html": [
              "Find logs at: <code>./wandb/run-20230124_125633-1orj49jo/logs</code>"
            ],
            "text/plain": [
              "<IPython.core.display.HTML object>"
            ]
          },
          "metadata": {},
          "output_type": "display_data"
        },
        {
          "name": "stderr",
          "output_type": "stream",
          "text": [
            "\u001b[34m\u001b[1mwandb\u001b[0m: Agent Starting Run: jup2svbb with config:\n",
            "\u001b[34m\u001b[1mwandb\u001b[0m: \tbatch_size: 512\n",
            "\u001b[34m\u001b[1mwandb\u001b[0m: \tdropout_rate: 0.7\n",
            "\u001b[34m\u001b[1mwandb\u001b[0m: \tepochs: 500\n",
            "\u001b[34m\u001b[1mwandb\u001b[0m: \tkernel_size: 6\n",
            "\u001b[34m\u001b[1mwandb\u001b[0m: \tlr: 0.020907545684662455\n",
            "\u001b[34m\u001b[1mwandb\u001b[0m: \tnb_filters: 16\n",
            "\u001b[34m\u001b[1mwandb\u001b[0m: \toptimizer: adam\n",
            "Failed to detect the name of this notebook, you can set it manually with the WANDB_NOTEBOOK_NAME environment variable to enable code saving.\n"
          ]
        },
        {
          "data": {
            "text/html": [
              "Tracking run with wandb version 0.13.9"
            ],
            "text/plain": [
              "<IPython.core.display.HTML object>"
            ]
          },
          "metadata": {},
          "output_type": "display_data"
        },
        {
          "data": {
            "text/html": [
              "Run data is saved locally in <code>/content/wandb/run-20230124_130004-jup2svbb</code>"
            ],
            "text/plain": [
              "<IPython.core.display.HTML object>"
            ]
          },
          "metadata": {},
          "output_type": "display_data"
        },
        {
          "data": {
            "text/html": [
              "Syncing run <strong><a href=\"https://wandb.ai/dsp_aguro/aguro_tcn/runs/jup2svbb\" target=\"_blank\">stellar-sweep-16</a></strong> to <a href=\"https://wandb.ai/dsp_aguro/aguro_tcn\" target=\"_blank\">Weights & Biases</a> (<a href=\"https://wandb.me/run\" target=\"_blank\">docs</a>)<br/>Sweep page: <a href=\"https://wandb.ai/dsp_aguro/aguro_tcn/sweeps/9vw7gd6y\" target=\"_blank\">https://wandb.ai/dsp_aguro/aguro_tcn/sweeps/9vw7gd6y</a>"
            ],
            "text/plain": [
              "<IPython.core.display.HTML object>"
            ]
          },
          "metadata": {},
          "output_type": "display_data"
        },
        {
          "data": {
            "text/html": [
              " View project at <a href=\"https://wandb.ai/dsp_aguro/aguro_tcn\" target=\"_blank\">https://wandb.ai/dsp_aguro/aguro_tcn</a>"
            ],
            "text/plain": [
              "<IPython.core.display.HTML object>"
            ]
          },
          "metadata": {},
          "output_type": "display_data"
        },
        {
          "data": {
            "text/html": [
              " View sweep at <a href=\"https://wandb.ai/dsp_aguro/aguro_tcn/sweeps/9vw7gd6y\" target=\"_blank\">https://wandb.ai/dsp_aguro/aguro_tcn/sweeps/9vw7gd6y</a>"
            ],
            "text/plain": [
              "<IPython.core.display.HTML object>"
            ]
          },
          "metadata": {},
          "output_type": "display_data"
        },
        {
          "data": {
            "text/html": [
              " View run at <a href=\"https://wandb.ai/dsp_aguro/aguro_tcn/runs/jup2svbb\" target=\"_blank\">https://wandb.ai/dsp_aguro/aguro_tcn/runs/jup2svbb</a>"
            ],
            "text/plain": [
              "<IPython.core.display.HTML object>"
            ]
          },
          "metadata": {},
          "output_type": "display_data"
        },
        {
          "name": "stdout",
          "output_type": "stream",
          "text": [
            "Epoch 1/500\n",
            " 6/61 [=>............................] - ETA: 3s - loss: 31.2052 - mae: 11.4482 - root_mean_squared_error: 31.2052"
          ]
        },
        {
          "name": "stderr",
          "output_type": "stream",
          "text": [
            "WARNING:tensorflow:Callback method `on_train_batch_end` is slow compared to the batch time (batch time: 0.0227s vs `on_train_batch_end` time: 0.0272s). Check your callbacks.\n"
          ]
        },
        {
          "name": "stdout",
          "output_type": "stream",
          "text": [
            "61/61 [==============================] - ETA: 0s - loss: 3.3852 - mae: 1.3755 - root_mean_squared_error: 3.3726"
          ]
        },
        {
          "name": "stderr",
          "output_type": "stream",
          "text": [
            "WARNING:absl:Found untraced functions such as residual_block_0_layer_call_fn, residual_block_0_layer_call_and_return_conditional_losses, residual_block_1_layer_call_fn, residual_block_1_layer_call_and_return_conditional_losses, residual_block_2_layer_call_fn while saving (showing 5 of 257). These functions will not be directly callable after loading.\n",
            "\u001b[34m\u001b[1mwandb\u001b[0m: Adding directory to artifact (/content/wandb/run-20230124_130004-jup2svbb/files/model-best)... Done. 0.0s\n"
          ]
        },
        {
          "name": "stdout",
          "output_type": "stream",
          "text": [
            "\b\b\b\b\b\b\b\b\b\b\b\b\b\b\b\b\b\b\b\b\b\b\b\b\b\b\b\b\b\b\b\b\b\b\b\b\b\b\b\b\b\b\b\b\b\b\b\b\b\b\b\b\b\b\b\b\b\b\b\b\b\b\b\b\b\b\b\b\b\b\b\b\b\b\b\b\b\b\b\b\b\b\b\b\b\b\b\b\b\b\b\b\b\b\b\b\b\b\b\b\b\b\b\b\b\b\b\b\b\b\b\r61/61 [==============================] - 20s 249ms/step - loss: 3.3852 - mae: 1.3755 - root_mean_squared_error: 3.3726 - val_loss: 0.1719 - val_mae: 0.1485 - val_root_mean_squared_error: 0.1739 - lr: 0.0209\n",
            "Epoch 2/500\n",
            "61/61 [==============================] - 4s 58ms/step - loss: 0.2189 - mae: 0.1658 - root_mean_squared_error: 0.2190 - val_loss: 0.1756 - val_mae: 0.1536 - val_root_mean_squared_error: 0.1778 - lr: 0.0209\n",
            "Epoch 3/500\n",
            "61/61 [==============================] - 3s 57ms/step - loss: 0.2170 - mae: 0.1648 - root_mean_squared_error: 0.2169 - val_loss: 0.1764 - val_mae: 0.1545 - val_root_mean_squared_error: 0.1786 - lr: 0.0209\n",
            "Epoch 4/500\n",
            "61/61 [==============================] - 3s 57ms/step - loss: 0.2169 - mae: 0.1649 - root_mean_squared_error: 0.2170 - val_loss: 0.1775 - val_mae: 0.1556 - val_root_mean_squared_error: 0.1797 - lr: 0.0209\n",
            "Epoch 5/500\n",
            "61/61 [==============================] - 4s 58ms/step - loss: 0.2173 - mae: 0.1648 - root_mean_squared_error: 0.2173 - val_loss: 0.1775 - val_mae: 0.1556 - val_root_mean_squared_error: 0.1797 - lr: 0.0209\n",
            "Epoch 6/500\n",
            "61/61 [==============================] - 3s 57ms/step - loss: 0.2170 - mae: 0.1648 - root_mean_squared_error: 0.2169 - val_loss: 0.1843 - val_mae: 0.1628 - val_root_mean_squared_error: 0.1866 - lr: 0.0209\n",
            "Epoch 7/500\n",
            "61/61 [==============================] - 4s 58ms/step - loss: 0.2169 - mae: 0.1647 - root_mean_squared_error: 0.2170 - val_loss: 0.1824 - val_mae: 0.1609 - val_root_mean_squared_error: 0.1847 - lr: 0.0209\n",
            "Epoch 8/500\n",
            "61/61 [==============================] - 4s 58ms/step - loss: 0.2169 - mae: 0.1650 - root_mean_squared_error: 0.2168 - val_loss: 0.1728 - val_mae: 0.1506 - val_root_mean_squared_error: 0.1749 - lr: 0.0209\n",
            "Epoch 9/500\n",
            "61/61 [==============================] - 4s 59ms/step - loss: 0.2169 - mae: 0.1647 - root_mean_squared_error: 0.2169 - val_loss: 0.1811 - val_mae: 0.1594 - val_root_mean_squared_error: 0.1833 - lr: 0.0209\n",
            "Epoch 10/500\n",
            "61/61 [==============================] - 4s 58ms/step - loss: 0.2169 - mae: 0.1649 - root_mean_squared_error: 0.2169 - val_loss: 0.1729 - val_mae: 0.1507 - val_root_mean_squared_error: 0.1750 - lr: 0.0209\n",
            "Epoch 11/500\n",
            "60/61 [============================>.] - ETA: 0s - loss: 0.2171 - mae: 0.1650 - root_mean_squared_error: 0.2171"
          ]
        },
        {
          "name": "stderr",
          "output_type": "stream",
          "text": [
            "WARNING:absl:Found untraced functions such as residual_block_0_layer_call_fn, residual_block_0_layer_call_and_return_conditional_losses, residual_block_1_layer_call_fn, residual_block_1_layer_call_and_return_conditional_losses, residual_block_2_layer_call_fn while saving (showing 5 of 257). These functions will not be directly callable after loading.\n",
            "\u001b[34m\u001b[1mwandb\u001b[0m: Adding directory to artifact (/content/wandb/run-20230124_130004-jup2svbb/files/model-best)... Done. 0.0s\n"
          ]
        },
        {
          "name": "stdout",
          "output_type": "stream",
          "text": [
            "\b\b\b\b\b\b\b\b\b\b\b\b\b\b\b\b\b\b\b\b\b\b\b\b\b\b\b\b\b\b\b\b\b\b\b\b\b\b\b\b\b\b\b\b\b\b\b\b\b\b\b\b\b\b\b\b\b\b\b\b\b\b\b\b\b\b\b\b\b\b\b\b\b\b\b\b\b\b\b\b\b\b\b\b\b\b\b\b\b\b\b\b\b\b\b\b\b\b\b\b\b\b\b\b\b\b\b\b\b\b\b\r61/61 [==============================] - 14s 224ms/step - loss: 0.2170 - mae: 0.1649 - root_mean_squared_error: 0.2170 - val_loss: 0.1705 - val_mae: 0.1481 - val_root_mean_squared_error: 0.1726 - lr: 0.0209\n",
            "Epoch 12/500\n",
            "61/61 [==============================] - 4s 59ms/step - loss: 0.2169 - mae: 0.1646 - root_mean_squared_error: 0.2170 - val_loss: 0.1842 - val_mae: 0.1628 - val_root_mean_squared_error: 0.1865 - lr: 0.0209\n",
            "Epoch 13/500\n",
            "61/61 [==============================] - 3s 57ms/step - loss: 0.2169 - mae: 0.1649 - root_mean_squared_error: 0.2170 - val_loss: 0.1769 - val_mae: 0.1550 - val_root_mean_squared_error: 0.1791 - lr: 0.0209\n",
            "Epoch 14/500\n",
            "61/61 [==============================] - 3s 57ms/step - loss: 0.2169 - mae: 0.1648 - root_mean_squared_error: 0.2169 - val_loss: 0.1811 - val_mae: 0.1595 - val_root_mean_squared_error: 0.1834 - lr: 0.0209\n",
            "Epoch 15/500\n",
            "61/61 [==============================] - 4s 58ms/step - loss: 0.2169 - mae: 0.1648 - root_mean_squared_error: 0.2169 - val_loss: 0.1726 - val_mae: 0.1504 - val_root_mean_squared_error: 0.1747 - lr: 0.0209\n",
            "Epoch 16/500\n",
            "61/61 [==============================] - 4s 58ms/step - loss: 0.2169 - mae: 0.1647 - root_mean_squared_error: 0.2170 - val_loss: 0.1789 - val_mae: 0.1571 - val_root_mean_squared_error: 0.1811 - lr: 0.0209\n",
            "Epoch 17/500\n",
            "61/61 [==============================] - 4s 58ms/step - loss: 0.2169 - mae: 0.1649 - root_mean_squared_error: 0.2169 - val_loss: 0.1784 - val_mae: 0.1566 - val_root_mean_squared_error: 0.1806 - lr: 0.0209\n",
            "Epoch 18/500\n",
            "61/61 [==============================] - 4s 58ms/step - loss: 0.2169 - mae: 0.1648 - root_mean_squared_error: 0.2169 - val_loss: 0.1747 - val_mae: 0.1527 - val_root_mean_squared_error: 0.1769 - lr: 0.0209\n",
            "Epoch 19/500\n",
            "61/61 [==============================] - 3s 57ms/step - loss: 0.2170 - mae: 0.1650 - root_mean_squared_error: 0.2170 - val_loss: 0.1779 - val_mae: 0.1561 - val_root_mean_squared_error: 0.1801 - lr: 0.0209\n",
            "Epoch 20/500\n",
            "61/61 [==============================] - 3s 57ms/step - loss: 0.2169 - mae: 0.1648 - root_mean_squared_error: 0.2170 - val_loss: 0.1805 - val_mae: 0.1588 - val_root_mean_squared_error: 0.1828 - lr: 0.0209\n",
            "Epoch 21/500\n",
            "61/61 [==============================] - 3s 57ms/step - loss: 0.2169 - mae: 0.1650 - root_mean_squared_error: 0.2169 - val_loss: 0.1729 - val_mae: 0.1508 - val_root_mean_squared_error: 0.1751 - lr: 0.0209\n",
            "Epoch 22/500\n",
            "61/61 [==============================] - 3s 57ms/step - loss: 0.2168 - mae: 0.1645 - root_mean_squared_error: 0.2169 - val_loss: 0.1768 - val_mae: 0.1549 - val_root_mean_squared_error: 0.1790 - lr: 0.0021\n",
            "Epoch 23/500\n",
            "61/61 [==============================] - 4s 58ms/step - loss: 0.2169 - mae: 0.1649 - root_mean_squared_error: 0.2169 - val_loss: 0.1755 - val_mae: 0.1535 - val_root_mean_squared_error: 0.1776 - lr: 0.0021\n",
            "Epoch 24/500\n",
            "61/61 [==============================] - 3s 57ms/step - loss: 0.2169 - mae: 0.1647 - root_mean_squared_error: 0.2168 - val_loss: 0.1764 - val_mae: 0.1544 - val_root_mean_squared_error: 0.1786 - lr: 0.0021\n",
            "Epoch 25/500\n",
            "61/61 [==============================] - 3s 57ms/step - loss: 0.2168 - mae: 0.1648 - root_mean_squared_error: 0.2168 - val_loss: 0.1744 - val_mae: 0.1523 - val_root_mean_squared_error: 0.1766 - lr: 0.0021\n",
            "Epoch 26/500\n",
            "61/61 [==============================] - 3s 58ms/step - loss: 0.2168 - mae: 0.1647 - root_mean_squared_error: 0.2168 - val_loss: 0.1757 - val_mae: 0.1537 - val_root_mean_squared_error: 0.1779 - lr: 0.0021\n"
          ]
        },
        {
          "data": {
            "text/html": [
              "Waiting for W&B process to finish... <strong style=\"color:green\">(success).</strong>"
            ],
            "text/plain": [
              "<IPython.core.display.HTML object>"
            ]
          },
          "metadata": {},
          "output_type": "display_data"
        },
        {
          "data": {
            "application/vnd.jupyter.widget-view+json": {
              "model_id": "99fb71c1f4d142e2bd9395f7e711ff0d",
              "version_major": 2,
              "version_minor": 0
            },
            "text/plain": [
              "VBox(children=(Label(value='6.348 MB of 6.348 MB uploaded (0.100 MB deduped)\\r'), FloatProgress(value=1.0, max…"
            ]
          },
          "metadata": {},
          "output_type": "display_data"
        },
        {
          "data": {
            "text/html": [
              "<style>\n",
              "    table.wandb td:nth-child(1) { padding: 0 10px; text-align: left ; width: auto;} td:nth-child(2) {text-align: left ; width: 100%}\n",
              "    .wandb-row { display: flex; flex-direction: row; flex-wrap: wrap; justify-content: flex-start; width: 100% }\n",
              "    .wandb-col { display: flex; flex-direction: column; flex-basis: 100%; flex: 1; padding: 10px; }\n",
              "    </style>\n",
              "<div class=\"wandb-row\"><div class=\"wandb-col\"><h3>Run history:</h3><br/><table class=\"wandb\"><tr><td>epoch</td><td>▁▁▂▂▂▂▃▃▃▄▄▄▄▅▅▅▅▆▆▆▇▇▇▇██</td></tr><tr><td>loss</td><td>█▁▁▁▁▁▁▁▁▁▁▁▁▁▁▁▁▁▁▁▁▁▁▁▁▁</td></tr><tr><td>mae</td><td>█▁▁▁▁▁▁▁▁▁▁▁▁▁▁▁▁▁▁▁▁▁▁▁▁▁</td></tr><tr><td>root_mean_squared_error</td><td>█▁▁▁▁▁▁▁▁▁▁▁▁▁▁▁▁▁▁▁▁▁▁▁▁▁</td></tr><tr><td>val_loss</td><td>▂▄▄▅▅█▇▂▆▂▁█▄▆▂▅▅▃▅▆▂▄▄▄▃▄</td></tr><tr><td>val_mae</td><td>▁▄▄▅▅█▇▂▆▂▁█▄▆▂▅▅▃▅▆▂▄▄▄▃▄</td></tr><tr><td>val_root_mean_squared_error</td><td>▂▄▄▅▅█▇▂▆▂▁█▄▆▂▅▅▃▅▆▂▄▄▄▃▄</td></tr></table><br/></div><div class=\"wandb-col\"><h3>Run summary:</h3><br/><table class=\"wandb\"><tr><td>best_epoch</td><td>10</td></tr><tr><td>best_val_loss</td><td>0.17053</td></tr><tr><td>epoch</td><td>25</td></tr><tr><td>loss</td><td>0.21683</td></tr><tr><td>mae</td><td>0.16473</td></tr><tr><td>root_mean_squared_error</td><td>0.21676</td></tr><tr><td>val_loss</td><td>0.17571</td></tr><tr><td>val_mae</td><td>0.15374</td></tr><tr><td>val_root_mean_squared_error</td><td>0.17788</td></tr></table><br/></div></div>"
            ],
            "text/plain": [
              "<IPython.core.display.HTML object>"
            ]
          },
          "metadata": {},
          "output_type": "display_data"
        },
        {
          "data": {
            "text/html": [
              " View run <strong style=\"color:#cdcd00\">stellar-sweep-16</strong> at: <a href=\"https://wandb.ai/dsp_aguro/aguro_tcn/runs/jup2svbb\" target=\"_blank\">https://wandb.ai/dsp_aguro/aguro_tcn/runs/jup2svbb</a><br/>Synced 5 W&B file(s), 1 media file(s), 8 artifact file(s) and 1 other file(s)"
            ],
            "text/plain": [
              "<IPython.core.display.HTML object>"
            ]
          },
          "metadata": {},
          "output_type": "display_data"
        },
        {
          "data": {
            "text/html": [
              "Find logs at: <code>./wandb/run-20230124_130004-jup2svbb/logs</code>"
            ],
            "text/plain": [
              "<IPython.core.display.HTML object>"
            ]
          },
          "metadata": {},
          "output_type": "display_data"
        },
        {
          "name": "stderr",
          "output_type": "stream",
          "text": [
            "\u001b[34m\u001b[1mwandb\u001b[0m: Agent Starting Run: 3tuvawfa with config:\n",
            "\u001b[34m\u001b[1mwandb\u001b[0m: \tbatch_size: 512\n",
            "\u001b[34m\u001b[1mwandb\u001b[0m: \tdropout_rate: 0.05\n",
            "\u001b[34m\u001b[1mwandb\u001b[0m: \tepochs: 500\n",
            "\u001b[34m\u001b[1mwandb\u001b[0m: \tkernel_size: 3\n",
            "\u001b[34m\u001b[1mwandb\u001b[0m: \tlr: 0.0007591318423101294\n",
            "\u001b[34m\u001b[1mwandb\u001b[0m: \tnb_filters: 32\n",
            "\u001b[34m\u001b[1mwandb\u001b[0m: \toptimizer: adam\n",
            "Failed to detect the name of this notebook, you can set it manually with the WANDB_NOTEBOOK_NAME environment variable to enable code saving.\n"
          ]
        },
        {
          "data": {
            "text/html": [
              "Tracking run with wandb version 0.13.9"
            ],
            "text/plain": [
              "<IPython.core.display.HTML object>"
            ]
          },
          "metadata": {},
          "output_type": "display_data"
        },
        {
          "data": {
            "text/html": [
              "Run data is saved locally in <code>/content/wandb/run-20230124_130236-3tuvawfa</code>"
            ],
            "text/plain": [
              "<IPython.core.display.HTML object>"
            ]
          },
          "metadata": {},
          "output_type": "display_data"
        },
        {
          "data": {
            "text/html": [
              "Syncing run <strong><a href=\"https://wandb.ai/dsp_aguro/aguro_tcn/runs/3tuvawfa\" target=\"_blank\">charmed-sweep-17</a></strong> to <a href=\"https://wandb.ai/dsp_aguro/aguro_tcn\" target=\"_blank\">Weights & Biases</a> (<a href=\"https://wandb.me/run\" target=\"_blank\">docs</a>)<br/>Sweep page: <a href=\"https://wandb.ai/dsp_aguro/aguro_tcn/sweeps/9vw7gd6y\" target=\"_blank\">https://wandb.ai/dsp_aguro/aguro_tcn/sweeps/9vw7gd6y</a>"
            ],
            "text/plain": [
              "<IPython.core.display.HTML object>"
            ]
          },
          "metadata": {},
          "output_type": "display_data"
        },
        {
          "data": {
            "text/html": [
              " View project at <a href=\"https://wandb.ai/dsp_aguro/aguro_tcn\" target=\"_blank\">https://wandb.ai/dsp_aguro/aguro_tcn</a>"
            ],
            "text/plain": [
              "<IPython.core.display.HTML object>"
            ]
          },
          "metadata": {},
          "output_type": "display_data"
        },
        {
          "data": {
            "text/html": [
              " View sweep at <a href=\"https://wandb.ai/dsp_aguro/aguro_tcn/sweeps/9vw7gd6y\" target=\"_blank\">https://wandb.ai/dsp_aguro/aguro_tcn/sweeps/9vw7gd6y</a>"
            ],
            "text/plain": [
              "<IPython.core.display.HTML object>"
            ]
          },
          "metadata": {},
          "output_type": "display_data"
        },
        {
          "data": {
            "text/html": [
              " View run at <a href=\"https://wandb.ai/dsp_aguro/aguro_tcn/runs/3tuvawfa\" target=\"_blank\">https://wandb.ai/dsp_aguro/aguro_tcn/runs/3tuvawfa</a>"
            ],
            "text/plain": [
              "<IPython.core.display.HTML object>"
            ]
          },
          "metadata": {},
          "output_type": "display_data"
        },
        {
          "name": "stdout",
          "output_type": "stream",
          "text": [
            "Epoch 1/500\n",
            " 6/61 [=>............................] - ETA: 2s - loss: 25.6227 - mae: 18.9530 - root_mean_squared_error: 25.6227"
          ]
        },
        {
          "name": "stderr",
          "output_type": "stream",
          "text": [
            "WARNING:tensorflow:Callback method `on_train_batch_end` is slow compared to the batch time (batch time: 0.0240s vs `on_train_batch_end` time: 0.0252s). Check your callbacks.\n"
          ]
        },
        {
          "name": "stdout",
          "output_type": "stream",
          "text": [
            "61/61 [==============================] - ETA: 0s - loss: 3.8240 - mae: 2.8428 - root_mean_squared_error: 3.8105"
          ]
        },
        {
          "name": "stderr",
          "output_type": "stream",
          "text": [
            "WARNING:absl:Found untraced functions such as residual_block_0_layer_call_fn, residual_block_0_layer_call_and_return_conditional_losses, residual_block_1_layer_call_fn, residual_block_1_layer_call_and_return_conditional_losses, residual_block_2_layer_call_fn while saving (showing 5 of 257). These functions will not be directly callable after loading.\n",
            "\u001b[34m\u001b[1mwandb\u001b[0m: Adding directory to artifact (/content/wandb/run-20230124_130236-3tuvawfa/files/model-best)... Done. 0.0s\n"
          ]
        },
        {
          "name": "stdout",
          "output_type": "stream",
          "text": [
            "\b\b\b\b\b\b\b\b\b\b\b\b\b\b\b\b\b\b\b\b\b\b\b\b\b\b\b\b\b\b\b\b\b\b\b\b\b\b\b\b\b\b\b\b\b\b\b\b\b\b\b\b\b\b\b\b\b\b\b\b\b\b\b\b\b\b\b\b\b\b\b\b\b\b\b\b\b\b\b\b\b\b\b\b\b\b\b\b\b\b\b\b\b\b\b\b\b\b\b\b\b\b\b\b\b\b\b\b\b\b\b\r61/61 [==============================] - 18s 215ms/step - loss: 3.8240 - mae: 2.8428 - root_mean_squared_error: 3.8105 - val_loss: 0.3182 - val_mae: 0.2619 - val_root_mean_squared_error: 0.3185 - lr: 7.5913e-04\n",
            "Epoch 2/500\n",
            "61/61 [==============================] - ETA: 0s - loss: 0.3385 - mae: 0.2635 - root_mean_squared_error: 0.3383"
          ]
        },
        {
          "name": "stderr",
          "output_type": "stream",
          "text": [
            "WARNING:absl:Found untraced functions such as residual_block_0_layer_call_fn, residual_block_0_layer_call_and_return_conditional_losses, residual_block_1_layer_call_fn, residual_block_1_layer_call_and_return_conditional_losses, residual_block_2_layer_call_fn while saving (showing 5 of 257). These functions will not be directly callable after loading.\n",
            "\u001b[34m\u001b[1mwandb\u001b[0m: Adding directory to artifact (/content/wandb/run-20230124_130236-3tuvawfa/files/model-best)... Done. 0.0s\n"
          ]
        },
        {
          "name": "stdout",
          "output_type": "stream",
          "text": [
            "\b\b\b\b\b\b\b\b\b\b\b\b\b\b\b\b\b\b\b\b\b\b\b\b\b\b\b\b\b\b\b\b\b\b\b\b\b\b\b\b\b\b\b\b\b\b\b\b\b\b\b\b\b\b\b\b\b\b\b\b\b\b\b\b\b\b\b\b\b\b\b\b\b\b\b\b\b\b\b\b\b\b\b\b\b\b\b\b\b\b\b\b\b\b\b\b\b\b\b\b\b\b\b\b\b\b\b\b\b\b\b\r61/61 [==============================] - 12s 202ms/step - loss: 0.3385 - mae: 0.2635 - root_mean_squared_error: 0.3383 - val_loss: 0.2211 - val_mae: 0.1850 - val_root_mean_squared_error: 0.2199 - lr: 7.5913e-04\n",
            "Epoch 3/500\n",
            "61/61 [==============================] - ETA: 0s - loss: 0.2606 - mae: 0.2025 - root_mean_squared_error: 0.2605"
          ]
        },
        {
          "name": "stderr",
          "output_type": "stream",
          "text": [
            "WARNING:absl:Found untraced functions such as residual_block_0_layer_call_fn, residual_block_0_layer_call_and_return_conditional_losses, residual_block_1_layer_call_fn, residual_block_1_layer_call_and_return_conditional_losses, residual_block_2_layer_call_fn while saving (showing 5 of 257). These functions will not be directly callable after loading.\n",
            "\u001b[34m\u001b[1mwandb\u001b[0m: Adding directory to artifact (/content/wandb/run-20230124_130236-3tuvawfa/files/model-best)... Done. 0.0s\n"
          ]
        },
        {
          "name": "stdout",
          "output_type": "stream",
          "text": [
            "\b\b\b\b\b\b\b\b\b\b\b\b\b\b\b\b\b\b\b\b\b\b\b\b\b\b\b\b\b\b\b\b\b\b\b\b\b\b\b\b\b\b\b\b\b\b\b\b\b\b\b\b\b\b\b\b\b\b\b\b\b\b\b\b\b\b\b\b\b\b\b\b\b\b\b\b\b\b\b\b\b\b\b\b\b\b\b\b\b\b\b\b\b\b\b\b\b\b\b\b\b\b\b\b\b\b\b\b\b\b\b\r61/61 [==============================] - 12s 202ms/step - loss: 0.2606 - mae: 0.2025 - root_mean_squared_error: 0.2605 - val_loss: 0.2061 - val_mae: 0.1748 - val_root_mean_squared_error: 0.2048 - lr: 7.5913e-04\n",
            "Epoch 4/500\n",
            "60/61 [============================>.] - ETA: 0s - loss: 0.2269 - mae: 0.1752 - root_mean_squared_error: 0.2269"
          ]
        },
        {
          "name": "stderr",
          "output_type": "stream",
          "text": [
            "WARNING:absl:Found untraced functions such as residual_block_0_layer_call_fn, residual_block_0_layer_call_and_return_conditional_losses, residual_block_1_layer_call_fn, residual_block_1_layer_call_and_return_conditional_losses, residual_block_2_layer_call_fn while saving (showing 5 of 257). These functions will not be directly callable after loading.\n",
            "\u001b[34m\u001b[1mwandb\u001b[0m: Adding directory to artifact (/content/wandb/run-20230124_130236-3tuvawfa/files/model-best)... Done. 0.0s\n"
          ]
        },
        {
          "name": "stdout",
          "output_type": "stream",
          "text": [
            "\b\b\b\b\b\b\b\b\b\b\b\b\b\b\b\b\b\b\b\b\b\b\b\b\b\b\b\b\b\b\b\b\b\b\b\b\b\b\b\b\b\b\b\b\b\b\b\b\b\b\b\b\b\b\b\b\b\b\b\b\b\b\b\b\b\b\b\b\b\b\b\b\b\b\b\b\b\b\b\b\b\b\b\b\b\b\b\b\b\b\b\b\b\b\b\b\b\b\b\b\b\b\b\b\b\b\b\b\b\b\b\r61/61 [==============================] - 12s 207ms/step - loss: 0.2268 - mae: 0.1751 - root_mean_squared_error: 0.2268 - val_loss: 0.1825 - val_mae: 0.1511 - val_root_mean_squared_error: 0.1809 - lr: 7.5913e-04\n",
            "Epoch 5/500\n",
            "61/61 [==============================] - ETA: 0s - loss: 0.2072 - mae: 0.1587 - root_mean_squared_error: 0.2071"
          ]
        },
        {
          "name": "stderr",
          "output_type": "stream",
          "text": [
            "WARNING:absl:Found untraced functions such as residual_block_0_layer_call_fn, residual_block_0_layer_call_and_return_conditional_losses, residual_block_1_layer_call_fn, residual_block_1_layer_call_and_return_conditional_losses, residual_block_2_layer_call_fn while saving (showing 5 of 257). These functions will not be directly callable after loading.\n",
            "\u001b[34m\u001b[1mwandb\u001b[0m: Adding directory to artifact (/content/wandb/run-20230124_130236-3tuvawfa/files/model-best)... Done. 0.0s\n"
          ]
        },
        {
          "name": "stdout",
          "output_type": "stream",
          "text": [
            "\b\b\b\b\b\b\b\b\b\b\b\b\b\b\b\b\b\b\b\b\b\b\b\b\b\b\b\b\b\b\b\b\b\b\b\b\b\b\b\b\b\b\b\b\b\b\b\b\b\b\b\b\b\b\b\b\b\b\b\b\b\b\b\b\b\b\b\b\b\b\b\b\b\b\b\b\b\b\b\b\b\b\b\b\b\b\b\b\b\b\b\b\b\b\b\b\b\b\b\b\b\b\b\b\b\b\b\b\b\b\b\r61/61 [==============================] - 12s 203ms/step - loss: 0.2072 - mae: 0.1587 - root_mean_squared_error: 0.2071 - val_loss: 0.1725 - val_mae: 0.1414 - val_root_mean_squared_error: 0.1711 - lr: 7.5913e-04\n",
            "Epoch 6/500\n",
            "61/61 [==============================] - 2s 38ms/step - loss: 0.1956 - mae: 0.1485 - root_mean_squared_error: 0.1955 - val_loss: 0.1742 - val_mae: 0.1454 - val_root_mean_squared_error: 0.1731 - lr: 7.5913e-04\n",
            "Epoch 7/500\n",
            "61/61 [==============================] - ETA: 0s - loss: 0.1870 - mae: 0.1409 - root_mean_squared_error: 0.1869"
          ]
        },
        {
          "name": "stderr",
          "output_type": "stream",
          "text": [
            "WARNING:absl:Found untraced functions such as residual_block_0_layer_call_fn, residual_block_0_layer_call_and_return_conditional_losses, residual_block_1_layer_call_fn, residual_block_1_layer_call_and_return_conditional_losses, residual_block_2_layer_call_fn while saving (showing 5 of 257). These functions will not be directly callable after loading.\n",
            "\u001b[34m\u001b[1mwandb\u001b[0m: Adding directory to artifact (/content/wandb/run-20230124_130236-3tuvawfa/files/model-best)... Done. 0.0s\n"
          ]
        },
        {
          "name": "stdout",
          "output_type": "stream",
          "text": [
            "\b\b\b\b\b\b\b\b\b\b\b\b\b\b\b\b\b\b\b\b\b\b\b\b\b\b\b\b\b\b\b\b\b\b\b\b\b\b\b\b\b\b\b\b\b\b\b\b\b\b\b\b\b\b\b\b\b\b\b\b\b\b\b\b\b\b\b\b\b\b\b\b\b\b\b\b\b\b\b\b\b\b\b\b\b\b\b\b\b\b\b\b\b\b\b\b\b\b\b\b\b\b\b\b\b\b\b\b\b\b\b\r61/61 [==============================] - 12s 201ms/step - loss: 0.1870 - mae: 0.1409 - root_mean_squared_error: 0.1869 - val_loss: 0.1708 - val_mae: 0.1423 - val_root_mean_squared_error: 0.1696 - lr: 7.5913e-04\n",
            "Epoch 8/500\n",
            "60/61 [============================>.] - ETA: 0s - loss: 0.1807 - mae: 0.1351 - root_mean_squared_error: 0.1807"
          ]
        },
        {
          "name": "stderr",
          "output_type": "stream",
          "text": [
            "WARNING:absl:Found untraced functions such as residual_block_0_layer_call_fn, residual_block_0_layer_call_and_return_conditional_losses, residual_block_1_layer_call_fn, residual_block_1_layer_call_and_return_conditional_losses, residual_block_2_layer_call_fn while saving (showing 5 of 257). These functions will not be directly callable after loading.\n",
            "\u001b[34m\u001b[1mwandb\u001b[0m: Adding directory to artifact (/content/wandb/run-20230124_130236-3tuvawfa/files/model-best)... Done. 0.0s\n"
          ]
        },
        {
          "name": "stdout",
          "output_type": "stream",
          "text": [
            "\b\b\b\b\b\b\b\b\b\b\b\b\b\b\b\b\b\b\b\b\b\b\b\b\b\b\b\b\b\b\b\b\b\b\b\b\b\b\b\b\b\b\b\b\b\b\b\b\b\b\b\b\b\b\b\b\b\b\b\b\b\b\b\b\b\b\b\b\b\b\b\b\b\b\b\b\b\b\b\b\b\b\b\b\b\b\b\b\b\b\b\b\b\b\b\b\b\b\b\b\b\b\b\b\b\b\b\b\b\b\b\r61/61 [==============================] - 12s 205ms/step - loss: 0.1806 - mae: 0.1349 - root_mean_squared_error: 0.1806 - val_loss: 0.1656 - val_mae: 0.1367 - val_root_mean_squared_error: 0.1643 - lr: 7.5913e-04\n",
            "Epoch 9/500\n",
            "60/61 [============================>.] - ETA: 0s - loss: 0.1750 - mae: 0.1295 - root_mean_squared_error: 0.1750"
          ]
        },
        {
          "name": "stderr",
          "output_type": "stream",
          "text": [
            "WARNING:absl:Found untraced functions such as residual_block_0_layer_call_fn, residual_block_0_layer_call_and_return_conditional_losses, residual_block_1_layer_call_fn, residual_block_1_layer_call_and_return_conditional_losses, residual_block_2_layer_call_fn while saving (showing 5 of 257). These functions will not be directly callable after loading.\n",
            "\u001b[34m\u001b[1mwandb\u001b[0m: Adding directory to artifact (/content/wandb/run-20230124_130236-3tuvawfa/files/model-best)... Done. 0.0s\n"
          ]
        },
        {
          "name": "stdout",
          "output_type": "stream",
          "text": [
            "\b\b\b\b\b\b\b\b\b\b\b\b\b\b\b\b\b\b\b\b\b\b\b\b\b\b\b\b\b\b\b\b\b\b\b\b\b\b\b\b\b\b\b\b\b\b\b\b\b\b\b\b\b\b\b\b\b\b\b\b\b\b\b\b\b\b\b\b\b\b\b\b\b\b\b\b\b\b\b\b\b\b\b\b\b\b\b\b\b\b\b\b\b\b\b\b\b\b\b\b\b\b\b\b\b\b\b\b\b\b\b\r61/61 [==============================] - 12s 205ms/step - loss: 0.1750 - mae: 0.1295 - root_mean_squared_error: 0.1750 - val_loss: 0.1634 - val_mae: 0.1350 - val_root_mean_squared_error: 0.1622 - lr: 7.5913e-04\n",
            "Epoch 10/500\n",
            "61/61 [==============================] - 2s 37ms/step - loss: 0.1704 - mae: 0.1254 - root_mean_squared_error: 0.1704 - val_loss: 0.1679 - val_mae: 0.1414 - val_root_mean_squared_error: 0.1670 - lr: 7.5913e-04\n",
            "Epoch 11/500\n",
            "61/61 [==============================] - ETA: 0s - loss: 0.1670 - mae: 0.1222 - root_mean_squared_error: 0.1670"
          ]
        },
        {
          "name": "stderr",
          "output_type": "stream",
          "text": [
            "WARNING:absl:Found untraced functions such as residual_block_0_layer_call_fn, residual_block_0_layer_call_and_return_conditional_losses, residual_block_1_layer_call_fn, residual_block_1_layer_call_and_return_conditional_losses, residual_block_2_layer_call_fn while saving (showing 5 of 257). These functions will not be directly callable after loading.\n",
            "\u001b[34m\u001b[1mwandb\u001b[0m: Adding directory to artifact (/content/wandb/run-20230124_130236-3tuvawfa/files/model-best)... Done. 0.0s\n"
          ]
        },
        {
          "name": "stdout",
          "output_type": "stream",
          "text": [
            "\b\b\b\b\b\b\b\b\b\b\b\b\b\b\b\b\b\b\b\b\b\b\b\b\b\b\b\b\b\b\b\b\b\b\b\b\b\b\b\b\b\b\b\b\b\b\b\b\b\b\b\b\b\b\b\b\b\b\b\b\b\b\b\b\b\b\b\b\b\b\b\b\b\b\b\b\b\b\b\b\b\b\b\b\b\b\b\b\b\b\b\b\b\b\b\b\b\b\b\b\b\b\b\b\b\b\b\b\b\b\b\r61/61 [==============================] - 12s 199ms/step - loss: 0.1670 - mae: 0.1222 - root_mean_squared_error: 0.1670 - val_loss: 0.1593 - val_mae: 0.1311 - val_root_mean_squared_error: 0.1581 - lr: 7.5913e-04\n",
            "Epoch 12/500\n",
            "61/61 [==============================] - ETA: 0s - loss: 0.1643 - mae: 0.1197 - root_mean_squared_error: 0.1642"
          ]
        },
        {
          "name": "stderr",
          "output_type": "stream",
          "text": [
            "WARNING:absl:Found untraced functions such as residual_block_0_layer_call_fn, residual_block_0_layer_call_and_return_conditional_losses, residual_block_1_layer_call_fn, residual_block_1_layer_call_and_return_conditional_losses, residual_block_2_layer_call_fn while saving (showing 5 of 257). These functions will not be directly callable after loading.\n",
            "\u001b[34m\u001b[1mwandb\u001b[0m: Adding directory to artifact (/content/wandb/run-20230124_130236-3tuvawfa/files/model-best)... Done. 0.0s\n"
          ]
        },
        {
          "name": "stdout",
          "output_type": "stream",
          "text": [
            "\b\b\b\b\b\b\b\b\b\b\b\b\b\b\b\b\b\b\b\b\b\b\b\b\b\b\b\b\b\b\b\b\b\b\b\b\b\b\b\b\b\b\b\b\b\b\b\b\b\b\b\b\b\b\b\b\b\b\b\b\b\b\b\b\b\b\b\b\b\b\b\b\b\b\b\b\b\b\b\b\b\b\b\b\b\b\b\b\b\b\b\b\b\b\b\b\b\b\b\b\b\b\b\b\b\b\b\b\b\b\b\r61/61 [==============================] - 21s 349ms/step - loss: 0.1643 - mae: 0.1197 - root_mean_squared_error: 0.1642 - val_loss: 0.1514 - val_mae: 0.1216 - val_root_mean_squared_error: 0.1501 - lr: 7.5913e-04\n",
            "Epoch 13/500\n",
            "60/61 [============================>.] - ETA: 0s - loss: 0.1621 - mae: 0.1177 - root_mean_squared_error: 0.1621"
          ]
        },
        {
          "name": "stderr",
          "output_type": "stream",
          "text": [
            "WARNING:absl:Found untraced functions such as residual_block_0_layer_call_fn, residual_block_0_layer_call_and_return_conditional_losses, residual_block_1_layer_call_fn, residual_block_1_layer_call_and_return_conditional_losses, residual_block_2_layer_call_fn while saving (showing 5 of 257). These functions will not be directly callable after loading.\n",
            "\u001b[34m\u001b[1mwandb\u001b[0m: Adding directory to artifact (/content/wandb/run-20230124_130236-3tuvawfa/files/model-best)... Done. 0.0s\n"
          ]
        },
        {
          "name": "stdout",
          "output_type": "stream",
          "text": [
            "\b\b\b\b\b\b\b\b\b\b\b\b\b\b\b\b\b\b\b\b\b\b\b\b\b\b\b\b\b\b\b\b\b\b\b\b\b\b\b\b\b\b\b\b\b\b\b\b\b\b\b\b\b\b\b\b\b\b\b\b\b\b\b\b\b\b\b\b\b\b\b\b\b\b\b\b\b\b\b\b\b\b\b\b\b\b\b\b\b\b\b\b\b\b\b\b\b\b\b\b\b\b\b\b\b\b\b\b\b\b\b\r61/61 [==============================] - 12s 201ms/step - loss: 0.1620 - mae: 0.1176 - root_mean_squared_error: 0.1620 - val_loss: 0.1491 - val_mae: 0.1191 - val_root_mean_squared_error: 0.1478 - lr: 7.5913e-04\n",
            "Epoch 14/500\n",
            "61/61 [==============================] - 2s 38ms/step - loss: 0.1599 - mae: 0.1156 - root_mean_squared_error: 0.1599 - val_loss: 0.1552 - val_mae: 0.1272 - val_root_mean_squared_error: 0.1543 - lr: 7.5913e-04\n",
            "Epoch 15/500\n",
            "61/61 [==============================] - ETA: 0s - loss: 0.1582 - mae: 0.1143 - root_mean_squared_error: 0.1583"
          ]
        },
        {
          "name": "stderr",
          "output_type": "stream",
          "text": [
            "WARNING:absl:Found untraced functions such as residual_block_0_layer_call_fn, residual_block_0_layer_call_and_return_conditional_losses, residual_block_1_layer_call_fn, residual_block_1_layer_call_and_return_conditional_losses, residual_block_2_layer_call_fn while saving (showing 5 of 257). These functions will not be directly callable after loading.\n",
            "\u001b[34m\u001b[1mwandb\u001b[0m: Adding directory to artifact (/content/wandb/run-20230124_130236-3tuvawfa/files/model-best)... Done. 0.0s\n"
          ]
        },
        {
          "name": "stdout",
          "output_type": "stream",
          "text": [
            "\b\b\b\b\b\b\b\b\b\b\b\b\b\b\b\b\b\b\b\b\b\b\b\b\b\b\b\b\b\b\b\b\b\b\b\b\b\b\b\b\b\b\b\b\b\b\b\b\b\b\b\b\b\b\b\b\b\b\b\b\b\b\b\b\b\b\b\b\b\b\b\b\b\b\b\b\b\b\b\b\b\b\b\b\b\b\b\b\b\b\b\b\b\b\b\b\b\b\b\b\b\b\b\b\b\b\b\b\b\b\b\r61/61 [==============================] - 12s 199ms/step - loss: 0.1582 - mae: 0.1143 - root_mean_squared_error: 0.1583 - val_loss: 0.1467 - val_mae: 0.1168 - val_root_mean_squared_error: 0.1455 - lr: 7.5913e-04\n",
            "Epoch 16/500\n",
            "61/61 [==============================] - 2s 38ms/step - loss: 0.1570 - mae: 0.1131 - root_mean_squared_error: 0.1571 - val_loss: 0.1470 - val_mae: 0.1174 - val_root_mean_squared_error: 0.1460 - lr: 7.5913e-04\n",
            "Epoch 17/500\n",
            "61/61 [==============================] - ETA: 0s - loss: 0.1557 - mae: 0.1117 - root_mean_squared_error: 0.1557"
          ]
        },
        {
          "name": "stderr",
          "output_type": "stream",
          "text": [
            "WARNING:absl:Found untraced functions such as residual_block_0_layer_call_fn, residual_block_0_layer_call_and_return_conditional_losses, residual_block_1_layer_call_fn, residual_block_1_layer_call_and_return_conditional_losses, residual_block_2_layer_call_fn while saving (showing 5 of 257). These functions will not be directly callable after loading.\n",
            "\u001b[34m\u001b[1mwandb\u001b[0m: Adding directory to artifact (/content/wandb/run-20230124_130236-3tuvawfa/files/model-best)... Done. 0.0s\n"
          ]
        },
        {
          "name": "stdout",
          "output_type": "stream",
          "text": [
            "\b\b\b\b\b\b\b\b\b\b\b\b\b\b\b\b\b\b\b\b\b\b\b\b\b\b\b\b\b\b\b\b\b\b\b\b\b\b\b\b\b\b\b\b\b\b\b\b\b\b\b\b\b\b\b\b\b\b\b\b\b\b\b\b\b\b\b\b\b\b\b\b\b\b\b\b\b\b\b\b\b\b\b\b\b\b\b\b\b\b\b\b\b\b\b\b\b\b\b\b\b\b\b\b\b\b\b\b\b\b\b\r61/61 [==============================] - 12s 202ms/step - loss: 0.1557 - mae: 0.1117 - root_mean_squared_error: 0.1557 - val_loss: 0.1443 - val_mae: 0.1142 - val_root_mean_squared_error: 0.1432 - lr: 7.5913e-04\n",
            "Epoch 18/500\n",
            "60/61 [============================>.] - ETA: 0s - loss: 0.1550 - mae: 0.1110 - root_mean_squared_error: 0.1550"
          ]
        },
        {
          "name": "stderr",
          "output_type": "stream",
          "text": [
            "WARNING:absl:Found untraced functions such as residual_block_0_layer_call_fn, residual_block_0_layer_call_and_return_conditional_losses, residual_block_1_layer_call_fn, residual_block_1_layer_call_and_return_conditional_losses, residual_block_2_layer_call_fn while saving (showing 5 of 257). These functions will not be directly callable after loading.\n",
            "\u001b[34m\u001b[1mwandb\u001b[0m: Adding directory to artifact (/content/wandb/run-20230124_130236-3tuvawfa/files/model-best)... Done. 0.0s\n"
          ]
        },
        {
          "name": "stdout",
          "output_type": "stream",
          "text": [
            "\b\b\b\b\b\b\b\b\b\b\b\b\b\b\b\b\b\b\b\b\b\b\b\b\b\b\b\b\b\b\b\b\b\b\b\b\b\b\b\b\b\b\b\b\b\b\b\b\b\b\b\b\b\b\b\b\b\b\b\b\b\b\b\b\b\b\b\b\b\b\b\b\b\b\b\b\b\b\b\b\b\b\b\b\b\b\b\b\b\b\b\b\b\b\b\b\b\b\b\b\b\b\b\b\b\b\b\b\b\b\b\r61/61 [==============================] - 12s 200ms/step - loss: 0.1548 - mae: 0.1109 - root_mean_squared_error: 0.1547 - val_loss: 0.1418 - val_mae: 0.1101 - val_root_mean_squared_error: 0.1406 - lr: 7.5913e-04\n",
            "Epoch 19/500\n",
            "61/61 [==============================] - 2s 38ms/step - loss: 0.1539 - mae: 0.1103 - root_mean_squared_error: 0.1539 - val_loss: 0.1446 - val_mae: 0.1139 - val_root_mean_squared_error: 0.1437 - lr: 7.5913e-04\n",
            "Epoch 20/500\n",
            "61/61 [==============================] - ETA: 0s - loss: 0.1531 - mae: 0.1093 - root_mean_squared_error: 0.1531"
          ]
        },
        {
          "name": "stderr",
          "output_type": "stream",
          "text": [
            "WARNING:absl:Found untraced functions such as residual_block_0_layer_call_fn, residual_block_0_layer_call_and_return_conditional_losses, residual_block_1_layer_call_fn, residual_block_1_layer_call_and_return_conditional_losses, residual_block_2_layer_call_fn while saving (showing 5 of 257). These functions will not be directly callable after loading.\n",
            "\u001b[34m\u001b[1mwandb\u001b[0m: Adding directory to artifact (/content/wandb/run-20230124_130236-3tuvawfa/files/model-best)... Done. 0.0s\n"
          ]
        },
        {
          "name": "stdout",
          "output_type": "stream",
          "text": [
            "\b\b\b\b\b\b\b\b\b\b\b\b\b\b\b\b\b\b\b\b\b\b\b\b\b\b\b\b\b\b\b\b\b\b\b\b\b\b\b\b\b\b\b\b\b\b\b\b\b\b\b\b\b\b\b\b\b\b\b\b\b\b\b\b\b\b\b\b\b\b\b\b\b\b\b\b\b\b\b\b\b\b\b\b\b\b\b\b\b\b\b\b\b\b\b\b\b\b\b\b\b\b\b\b\b\b\b\b\b\b\b\r61/61 [==============================] - 12s 204ms/step - loss: 0.1531 - mae: 0.1093 - root_mean_squared_error: 0.1531 - val_loss: 0.1404 - val_mae: 0.1088 - val_root_mean_squared_error: 0.1393 - lr: 7.5913e-04\n",
            "Epoch 21/500\n",
            "61/61 [==============================] - 2s 39ms/step - loss: 0.1523 - mae: 0.1085 - root_mean_squared_error: 0.1522 - val_loss: 0.1455 - val_mae: 0.1155 - val_root_mean_squared_error: 0.1445 - lr: 7.5913e-04\n",
            "Epoch 22/500\n",
            "61/61 [==============================] - 2s 36ms/step - loss: 0.1517 - mae: 0.1083 - root_mean_squared_error: 0.1517 - val_loss: 0.1461 - val_mae: 0.1165 - val_root_mean_squared_error: 0.1453 - lr: 7.5913e-04\n",
            "Epoch 23/500\n",
            "61/61 [==============================] - ETA: 0s - loss: 0.1508 - mae: 0.1074 - root_mean_squared_error: 0.1508"
          ]
        },
        {
          "name": "stderr",
          "output_type": "stream",
          "text": [
            "WARNING:absl:Found untraced functions such as residual_block_0_layer_call_fn, residual_block_0_layer_call_and_return_conditional_losses, residual_block_1_layer_call_fn, residual_block_1_layer_call_and_return_conditional_losses, residual_block_2_layer_call_fn while saving (showing 5 of 257). These functions will not be directly callable after loading.\n",
            "\u001b[34m\u001b[1mwandb\u001b[0m: Adding directory to artifact (/content/wandb/run-20230124_130236-3tuvawfa/files/model-best)... Done. 0.0s\n"
          ]
        },
        {
          "name": "stdout",
          "output_type": "stream",
          "text": [
            "\b\b\b\b\b\b\b\b\b\b\b\b\b\b\b\b\b\b\b\b\b\b\b\b\b\b\b\b\b\b\b\b\b\b\b\b\b\b\b\b\b\b\b\b\b\b\b\b\b\b\b\b\b\b\b\b\b\b\b\b\b\b\b\b\b\b\b\b\b\b\b\b\b\b\b\b\b\b\b\b\b\b\b\b\b\b\b\b\b\b\b\b\b\b\b\b\b\b\b\b\b\b\b\b\b\b\b\b\b\b\b\r61/61 [==============================] - 12s 201ms/step - loss: 0.1508 - mae: 0.1074 - root_mean_squared_error: 0.1508 - val_loss: 0.1382 - val_mae: 0.1052 - val_root_mean_squared_error: 0.1371 - lr: 7.5913e-04\n",
            "Epoch 24/500\n",
            "61/61 [==============================] - 2s 38ms/step - loss: 0.1504 - mae: 0.1068 - root_mean_squared_error: 0.1504 - val_loss: 0.1435 - val_mae: 0.1137 - val_root_mean_squared_error: 0.1428 - lr: 7.5913e-04\n",
            "Epoch 25/500\n",
            "61/61 [==============================] - ETA: 0s - loss: 0.1492 - mae: 0.1061 - root_mean_squared_error: 0.1492"
          ]
        },
        {
          "name": "stderr",
          "output_type": "stream",
          "text": [
            "WARNING:absl:Found untraced functions such as residual_block_0_layer_call_fn, residual_block_0_layer_call_and_return_conditional_losses, residual_block_1_layer_call_fn, residual_block_1_layer_call_and_return_conditional_losses, residual_block_2_layer_call_fn while saving (showing 5 of 257). These functions will not be directly callable after loading.\n",
            "\u001b[34m\u001b[1mwandb\u001b[0m: Adding directory to artifact (/content/wandb/run-20230124_130236-3tuvawfa/files/model-best)... Done. 0.0s\n"
          ]
        },
        {
          "name": "stdout",
          "output_type": "stream",
          "text": [
            "\b\b\b\b\b\b\b\b\b\b\b\b\b\b\b\b\b\b\b\b\b\b\b\b\b\b\b\b\b\b\b\b\b\b\b\b\b\b\b\b\b\b\b\b\b\b\b\b\b\b\b\b\b\b\b\b\b\b\b\b\b\b\b\b\b\b\b\b\b\b\b\b\b\b\b\b\b\b\b\b\b\b\b\b\b\b\b\b\b\b\b\b\b\b\b\b\b\b\b\b\b\b\b\b\b\b\b\b\b\b\b\r61/61 [==============================] - 12s 202ms/step - loss: 0.1492 - mae: 0.1061 - root_mean_squared_error: 0.1492 - val_loss: 0.1352 - val_mae: 0.1014 - val_root_mean_squared_error: 0.1342 - lr: 7.5913e-04\n",
            "Epoch 26/500\n",
            "61/61 [==============================] - 2s 37ms/step - loss: 0.1495 - mae: 0.1058 - root_mean_squared_error: 0.1495 - val_loss: 0.1422 - val_mae: 0.1120 - val_root_mean_squared_error: 0.1416 - lr: 7.5913e-04\n",
            "Epoch 27/500\n",
            "61/61 [==============================] - 2s 35ms/step - loss: 0.1484 - mae: 0.1054 - root_mean_squared_error: 0.1484 - val_loss: 0.1401 - val_mae: 0.1090 - val_root_mean_squared_error: 0.1392 - lr: 7.5913e-04\n",
            "Epoch 28/500\n",
            "61/61 [==============================] - ETA: 0s - loss: 0.1482 - mae: 0.1050 - root_mean_squared_error: 0.1482"
          ]
        },
        {
          "name": "stderr",
          "output_type": "stream",
          "text": [
            "WARNING:absl:Found untraced functions such as residual_block_0_layer_call_fn, residual_block_0_layer_call_and_return_conditional_losses, residual_block_1_layer_call_fn, residual_block_1_layer_call_and_return_conditional_losses, residual_block_2_layer_call_fn while saving (showing 5 of 257). These functions will not be directly callable after loading.\n",
            "\u001b[34m\u001b[1mwandb\u001b[0m: Adding directory to artifact (/content/wandb/run-20230124_130236-3tuvawfa/files/model-best)... Done. 0.0s\n"
          ]
        },
        {
          "name": "stdout",
          "output_type": "stream",
          "text": [
            "\b\b\b\b\b\b\b\b\b\b\b\b\b\b\b\b\b\b\b\b\b\b\b\b\b\b\b\b\b\b\b\b\b\b\b\b\b\b\b\b\b\b\b\b\b\b\b\b\b\b\b\b\b\b\b\b\b\b\b\b\b\b\b\b\b\b\b\b\b\b\b\b\b\b\b\b\b\b\b\b\b\b\b\b\b\b\b\b\b\b\b\b\b\b\b\b\b\b\b\b\b\b\b\b\b\b\b\b\b\b\b\r61/61 [==============================] - 12s 205ms/step - loss: 0.1482 - mae: 0.1050 - root_mean_squared_error: 0.1482 - val_loss: 0.1335 - val_mae: 0.1002 - val_root_mean_squared_error: 0.1327 - lr: 7.5913e-04\n",
            "Epoch 29/500\n",
            "61/61 [==============================] - 2s 37ms/step - loss: 0.1476 - mae: 0.1045 - root_mean_squared_error: 0.1477 - val_loss: 0.1467 - val_mae: 0.1174 - val_root_mean_squared_error: 0.1460 - lr: 7.5913e-04\n",
            "Epoch 30/500\n",
            "61/61 [==============================] - 2s 36ms/step - loss: 0.1470 - mae: 0.1040 - root_mean_squared_error: 0.1470 - val_loss: 0.1431 - val_mae: 0.1134 - val_root_mean_squared_error: 0.1426 - lr: 7.5913e-04\n",
            "Epoch 31/500\n",
            "61/61 [==============================] - 2s 35ms/step - loss: 0.1465 - mae: 0.1040 - root_mean_squared_error: 0.1465 - val_loss: 0.1386 - val_mae: 0.1062 - val_root_mean_squared_error: 0.1376 - lr: 7.5913e-04\n",
            "Epoch 32/500\n",
            "61/61 [==============================] - 2s 35ms/step - loss: 0.1457 - mae: 0.1031 - root_mean_squared_error: 0.1457 - val_loss: 0.1340 - val_mae: 0.0995 - val_root_mean_squared_error: 0.1331 - lr: 7.5913e-04\n",
            "Epoch 33/500\n",
            "61/61 [==============================] - ETA: 0s - loss: 0.1457 - mae: 0.1033 - root_mean_squared_error: 0.1457"
          ]
        },
        {
          "name": "stderr",
          "output_type": "stream",
          "text": [
            "WARNING:absl:Found untraced functions such as residual_block_0_layer_call_fn, residual_block_0_layer_call_and_return_conditional_losses, residual_block_1_layer_call_fn, residual_block_1_layer_call_and_return_conditional_losses, residual_block_2_layer_call_fn while saving (showing 5 of 257). These functions will not be directly callable after loading.\n",
            "\u001b[34m\u001b[1mwandb\u001b[0m: Adding directory to artifact (/content/wandb/run-20230124_130236-3tuvawfa/files/model-best)... Done. 0.0s\n"
          ]
        },
        {
          "name": "stdout",
          "output_type": "stream",
          "text": [
            "\b\b\b\b\b\b\b\b\b\b\b\b\b\b\b\b\b\b\b\b\b\b\b\b\b\b\b\b\b\b\b\b\b\b\b\b\b\b\b\b\b\b\b\b\b\b\b\b\b\b\b\b\b\b\b\b\b\b\b\b\b\b\b\b\b\b\b\b\b\b\b\b\b\b\b\b\b\b\b\b\b\b\b\b\b\b\b\b\b\b\b\b\b\b\b\b\b\b\b\b\b\b\b\b\b\b\b\b\b\b\b\r61/61 [==============================] - 12s 201ms/step - loss: 0.1457 - mae: 0.1033 - root_mean_squared_error: 0.1457 - val_loss: 0.1335 - val_mae: 0.0990 - val_root_mean_squared_error: 0.1327 - lr: 7.5913e-04\n",
            "Epoch 34/500\n",
            "61/61 [==============================] - 2s 37ms/step - loss: 0.1457 - mae: 0.1030 - root_mean_squared_error: 0.1458 - val_loss: 0.1350 - val_mae: 0.1029 - val_root_mean_squared_error: 0.1343 - lr: 7.5913e-04\n",
            "Epoch 35/500\n",
            "61/61 [==============================] - 2s 35ms/step - loss: 0.1453 - mae: 0.1028 - root_mean_squared_error: 0.1453 - val_loss: 0.1363 - val_mae: 0.1036 - val_root_mean_squared_error: 0.1356 - lr: 7.5913e-04\n",
            "Epoch 36/500\n",
            "61/61 [==============================] - ETA: 0s - loss: 0.1448 - mae: 0.1024 - root_mean_squared_error: 0.1448"
          ]
        },
        {
          "name": "stderr",
          "output_type": "stream",
          "text": [
            "WARNING:absl:Found untraced functions such as residual_block_0_layer_call_fn, residual_block_0_layer_call_and_return_conditional_losses, residual_block_1_layer_call_fn, residual_block_1_layer_call_and_return_conditional_losses, residual_block_2_layer_call_fn while saving (showing 5 of 257). These functions will not be directly callable after loading.\n",
            "\u001b[34m\u001b[1mwandb\u001b[0m: Adding directory to artifact (/content/wandb/run-20230124_130236-3tuvawfa/files/model-best)... Done. 0.0s\n"
          ]
        },
        {
          "name": "stdout",
          "output_type": "stream",
          "text": [
            "\b\b\b\b\b\b\b\b\b\b\b\b\b\b\b\b\b\b\b\b\b\b\b\b\b\b\b\b\b\b\b\b\b\b\b\b\b\b\b\b\b\b\b\b\b\b\b\b\b\b\b\b\b\b\b\b\b\b\b\b\b\b\b\b\b\b\b\b\b\b\b\b\b\b\b\b\b\b\b\b\b\b\b\b\b\b\b\b\b\b\b\b\b\b\b\b\b\b\b\b\b\b\b\b\b\b\b\b\b\b\b\r61/61 [==============================] - 12s 201ms/step - loss: 0.1448 - mae: 0.1024 - root_mean_squared_error: 0.1448 - val_loss: 0.1312 - val_mae: 0.0948 - val_root_mean_squared_error: 0.1302 - lr: 7.5913e-04\n",
            "Epoch 37/500\n",
            "61/61 [==============================] - 2s 37ms/step - loss: 0.1441 - mae: 0.1018 - root_mean_squared_error: 0.1441 - val_loss: 0.1393 - val_mae: 0.1081 - val_root_mean_squared_error: 0.1387 - lr: 7.5913e-04\n",
            "Epoch 38/500\n",
            "61/61 [==============================] - 2s 35ms/step - loss: 0.1434 - mae: 0.1014 - root_mean_squared_error: 0.1434 - val_loss: 0.1346 - val_mae: 0.0993 - val_root_mean_squared_error: 0.1340 - lr: 7.5913e-04\n",
            "Epoch 39/500\n",
            "61/61 [==============================] - 2s 35ms/step - loss: 0.1431 - mae: 0.1009 - root_mean_squared_error: 0.1431 - val_loss: 0.1356 - val_mae: 0.1027 - val_root_mean_squared_error: 0.1351 - lr: 7.5913e-04\n",
            "Epoch 40/500\n",
            "61/61 [==============================] - 2s 36ms/step - loss: 0.1426 - mae: 0.1005 - root_mean_squared_error: 0.1427 - val_loss: 0.1369 - val_mae: 0.1047 - val_root_mean_squared_error: 0.1366 - lr: 7.5913e-04\n",
            "Epoch 41/500\n",
            "61/61 [==============================] - 2s 35ms/step - loss: 0.1425 - mae: 0.1006 - root_mean_squared_error: 0.1425 - val_loss: 0.1368 - val_mae: 0.1041 - val_root_mean_squared_error: 0.1363 - lr: 7.5913e-04\n",
            "Epoch 42/500\n",
            "61/61 [==============================] - 2s 35ms/step - loss: 0.1424 - mae: 0.1003 - root_mean_squared_error: 0.1424 - val_loss: 0.1335 - val_mae: 0.1002 - val_root_mean_squared_error: 0.1328 - lr: 7.5913e-04\n",
            "Epoch 43/500\n",
            "61/61 [==============================] - 2s 36ms/step - loss: 0.1418 - mae: 0.1000 - root_mean_squared_error: 0.1418 - val_loss: 0.1347 - val_mae: 0.1004 - val_root_mean_squared_error: 0.1342 - lr: 7.5913e-04\n",
            "Epoch 44/500\n",
            "61/61 [==============================] - 2s 36ms/step - loss: 0.1418 - mae: 0.0998 - root_mean_squared_error: 0.1418 - val_loss: 0.1378 - val_mae: 0.1040 - val_root_mean_squared_error: 0.1370 - lr: 7.5913e-04\n",
            "Epoch 45/500\n",
            "61/61 [==============================] - 2s 37ms/step - loss: 0.1414 - mae: 0.0997 - root_mean_squared_error: 0.1415 - val_loss: 0.1343 - val_mae: 0.0998 - val_root_mean_squared_error: 0.1334 - lr: 7.5913e-04\n",
            "Epoch 46/500\n",
            "61/61 [==============================] - 2s 37ms/step - loss: 0.1410 - mae: 0.0993 - root_mean_squared_error: 0.1409 - val_loss: 0.1373 - val_mae: 0.1030 - val_root_mean_squared_error: 0.1363 - lr: 7.5913e-04\n",
            "Epoch 47/500\n",
            "61/61 [==============================] - 2s 36ms/step - loss: 0.1401 - mae: 0.0985 - root_mean_squared_error: 0.1401 - val_loss: 0.1371 - val_mae: 0.1039 - val_root_mean_squared_error: 0.1363 - lr: 7.5913e-05\n",
            "Epoch 48/500\n",
            "61/61 [==============================] - 2s 37ms/step - loss: 0.1398 - mae: 0.0984 - root_mean_squared_error: 0.1399 - val_loss: 0.1360 - val_mae: 0.1023 - val_root_mean_squared_error: 0.1352 - lr: 7.5913e-05\n",
            "Epoch 49/500\n",
            "61/61 [==============================] - 2s 37ms/step - loss: 0.1398 - mae: 0.0984 - root_mean_squared_error: 0.1398 - val_loss: 0.1368 - val_mae: 0.1034 - val_root_mean_squared_error: 0.1360 - lr: 7.5913e-05\n",
            "Epoch 50/500\n",
            "61/61 [==============================] - 2s 36ms/step - loss: 0.1399 - mae: 0.0982 - root_mean_squared_error: 0.1400 - val_loss: 0.1367 - val_mae: 0.1032 - val_root_mean_squared_error: 0.1360 - lr: 7.5913e-05\n",
            "Epoch 51/500\n",
            "61/61 [==============================] - 2s 36ms/step - loss: 0.1397 - mae: 0.0981 - root_mean_squared_error: 0.1397 - val_loss: 0.1375 - val_mae: 0.1042 - val_root_mean_squared_error: 0.1367 - lr: 7.5913e-05\n"
          ]
        },
        {
          "data": {
            "text/html": [
              "Waiting for W&B process to finish... <strong style=\"color:green\">(success).</strong>"
            ],
            "text/plain": [
              "<IPython.core.display.HTML object>"
            ]
          },
          "metadata": {},
          "output_type": "display_data"
        },
        {
          "data": {
            "text/html": [
              "<style>\n",
              "    table.wandb td:nth-child(1) { padding: 0 10px; text-align: left ; width: auto;} td:nth-child(2) {text-align: left ; width: 100%}\n",
              "    .wandb-row { display: flex; flex-direction: row; flex-wrap: wrap; justify-content: flex-start; width: 100% }\n",
              "    .wandb-col { display: flex; flex-direction: column; flex-basis: 100%; flex: 1; padding: 10px; }\n",
              "    </style>\n",
              "<div class=\"wandb-row\"><div class=\"wandb-col\"><h3>Run history:</h3><br/><table class=\"wandb\"><tr><td>epoch</td><td>▁▁▁▁▂▂▂▂▂▃▃▃▃▃▃▄▄▄▄▄▅▅▅▅▅▅▆▆▆▆▆▆▇▇▇▇▇███</td></tr><tr><td>loss</td><td>█▁▁▁▁▁▁▁▁▁▁▁▁▁▁▁▁▁▁▁▁▁▁▁▁▁▁▁▁▁▁▁▁▁▁▁▁▁▁▁</td></tr><tr><td>mae</td><td>█▁▁▁▁▁▁▁▁▁▁▁▁▁▁▁▁▁▁▁▁▁▁▁▁▁▁▁▁▁▁▁▁▁▁▁▁▁▁▁</td></tr><tr><td>root_mean_squared_error</td><td>█▁▁▁▁▁▁▁▁▁▁▁▁▁▁▁▁▁▁▁▁▁▁▁▁▁▁▁▁▁▁▁▁▁▁▁▁▁▁▁</td></tr><tr><td>val_loss</td><td>█▄▄▃▃▂▂▂▂▂▂▂▂▁▁▁▂▂▁▁▁▁▂▁▁▁▁▁▁▁▁▁▁▁▁▁▁▁▁▁</td></tr><tr><td>val_mae</td><td>█▅▄▃▃▃▃▃▃▂▂▂▂▂▂▂▂▂▂▁▂▂▂▂▁▁▁▁▁▁▁▁▁▁▁▁▁▁▁▁</td></tr><tr><td>val_root_mean_squared_error</td><td>█▄▄▃▃▂▂▂▂▂▂▂▂▁▁▁▂▂▁▁▁▁▂▁▁▁▁▁▁▁▁▁▁▁▁▁▁▁▁▁</td></tr></table><br/></div><div class=\"wandb-col\"><h3>Run summary:</h3><br/><table class=\"wandb\"><tr><td>best_epoch</td><td>35</td></tr><tr><td>best_val_loss</td><td>0.13116</td></tr><tr><td>epoch</td><td>50</td></tr><tr><td>loss</td><td>0.13972</td></tr><tr><td>mae</td><td>0.09815</td></tr><tr><td>root_mean_squared_error</td><td>0.13975</td></tr><tr><td>val_loss</td><td>0.13747</td></tr><tr><td>val_mae</td><td>0.10424</td></tr><tr><td>val_root_mean_squared_error</td><td>0.13674</td></tr></table><br/></div></div>"
            ],
            "text/plain": [
              "<IPython.core.display.HTML object>"
            ]
          },
          "metadata": {},
          "output_type": "display_data"
        },
        {
          "data": {
            "text/html": [
              " View run <strong style=\"color:#cdcd00\">charmed-sweep-17</strong> at: <a href=\"https://wandb.ai/dsp_aguro/aguro_tcn/runs/3tuvawfa\" target=\"_blank\">https://wandb.ai/dsp_aguro/aguro_tcn/runs/3tuvawfa</a><br/>Synced 5 W&B file(s), 1 media file(s), 80 artifact file(s) and 1 other file(s)"
            ],
            "text/plain": [
              "<IPython.core.display.HTML object>"
            ]
          },
          "metadata": {},
          "output_type": "display_data"
        },
        {
          "data": {
            "text/html": [
              "Find logs at: <code>./wandb/run-20230124_130236-3tuvawfa/logs</code>"
            ],
            "text/plain": [
              "<IPython.core.display.HTML object>"
            ]
          },
          "metadata": {},
          "output_type": "display_data"
        },
        {
          "name": "stderr",
          "output_type": "stream",
          "text": [
            "\u001b[34m\u001b[1mwandb\u001b[0m: Agent Starting Run: 6lltq4bt with config:\n",
            "\u001b[34m\u001b[1mwandb\u001b[0m: \tbatch_size: 512\n",
            "\u001b[34m\u001b[1mwandb\u001b[0m: \tdropout_rate: 0.05\n",
            "\u001b[34m\u001b[1mwandb\u001b[0m: \tepochs: 500\n",
            "\u001b[34m\u001b[1mwandb\u001b[0m: \tkernel_size: 3\n",
            "\u001b[34m\u001b[1mwandb\u001b[0m: \tlr: 0.02444312823865359\n",
            "\u001b[34m\u001b[1mwandb\u001b[0m: \tnb_filters: 64\n",
            "\u001b[34m\u001b[1mwandb\u001b[0m: \toptimizer: adam\n",
            "Failed to detect the name of this notebook, you can set it manually with the WANDB_NOTEBOOK_NAME environment variable to enable code saving.\n"
          ]
        },
        {
          "data": {
            "text/html": [
              "Tracking run with wandb version 0.13.9"
            ],
            "text/plain": [
              "<IPython.core.display.HTML object>"
            ]
          },
          "metadata": {},
          "output_type": "display_data"
        },
        {
          "data": {
            "text/html": [
              "Run data is saved locally in <code>/content/wandb/run-20230124_130909-6lltq4bt</code>"
            ],
            "text/plain": [
              "<IPython.core.display.HTML object>"
            ]
          },
          "metadata": {},
          "output_type": "display_data"
        },
        {
          "data": {
            "text/html": [
              "Syncing run <strong><a href=\"https://wandb.ai/dsp_aguro/aguro_tcn/runs/6lltq4bt\" target=\"_blank\">astral-sweep-18</a></strong> to <a href=\"https://wandb.ai/dsp_aguro/aguro_tcn\" target=\"_blank\">Weights & Biases</a> (<a href=\"https://wandb.me/run\" target=\"_blank\">docs</a>)<br/>Sweep page: <a href=\"https://wandb.ai/dsp_aguro/aguro_tcn/sweeps/9vw7gd6y\" target=\"_blank\">https://wandb.ai/dsp_aguro/aguro_tcn/sweeps/9vw7gd6y</a>"
            ],
            "text/plain": [
              "<IPython.core.display.HTML object>"
            ]
          },
          "metadata": {},
          "output_type": "display_data"
        },
        {
          "data": {
            "text/html": [
              " View project at <a href=\"https://wandb.ai/dsp_aguro/aguro_tcn\" target=\"_blank\">https://wandb.ai/dsp_aguro/aguro_tcn</a>"
            ],
            "text/plain": [
              "<IPython.core.display.HTML object>"
            ]
          },
          "metadata": {},
          "output_type": "display_data"
        },
        {
          "data": {
            "text/html": [
              " View sweep at <a href=\"https://wandb.ai/dsp_aguro/aguro_tcn/sweeps/9vw7gd6y\" target=\"_blank\">https://wandb.ai/dsp_aguro/aguro_tcn/sweeps/9vw7gd6y</a>"
            ],
            "text/plain": [
              "<IPython.core.display.HTML object>"
            ]
          },
          "metadata": {},
          "output_type": "display_data"
        },
        {
          "data": {
            "text/html": [
              " View run at <a href=\"https://wandb.ai/dsp_aguro/aguro_tcn/runs/6lltq4bt\" target=\"_blank\">https://wandb.ai/dsp_aguro/aguro_tcn/runs/6lltq4bt</a>"
            ],
            "text/plain": [
              "<IPython.core.display.HTML object>"
            ]
          },
          "metadata": {},
          "output_type": "display_data"
        },
        {
          "name": "stdout",
          "output_type": "stream",
          "text": [
            "Epoch 1/500\n",
            " 6/61 [=>............................] - ETA: 4s - loss: 38.5082 - mae: 33.0872 - root_mean_squared_error: 38.5082"
          ]
        },
        {
          "name": "stderr",
          "output_type": "stream",
          "text": [
            "WARNING:tensorflow:Callback method `on_train_batch_end` is slow compared to the batch time (batch time: 0.0321s vs `on_train_batch_end` time: 0.0465s). Check your callbacks.\n"
          ]
        },
        {
          "name": "stdout",
          "output_type": "stream",
          "text": [
            "61/61 [==============================] - ETA: 0s - loss: 4.0066 - mae: 3.4226 - root_mean_squared_error: 3.9914"
          ]
        },
        {
          "name": "stderr",
          "output_type": "stream",
          "text": [
            "WARNING:absl:Found untraced functions such as residual_block_0_layer_call_fn, residual_block_0_layer_call_and_return_conditional_losses, residual_block_1_layer_call_fn, residual_block_1_layer_call_and_return_conditional_losses, residual_block_2_layer_call_fn while saving (showing 5 of 257). These functions will not be directly callable after loading.\n",
            "\u001b[34m\u001b[1mwandb\u001b[0m: Adding directory to artifact (/content/wandb/run-20230124_130909-6lltq4bt/files/model-best)... Done. 0.0s\n"
          ]
        },
        {
          "name": "stdout",
          "output_type": "stream",
          "text": [
            "\b\b\b\b\b\b\b\b\b\b\b\b\b\b\b\b\b\b\b\b\b\b\b\b\b\b\b\b\b\b\b\b\b\b\b\b\b\b\b\b\b\b\b\b\b\b\b\b\b\b\b\b\b\b\b\b\b\b\b\b\b\b\b\b\b\b\b\b\b\b\b\b\b\b\b\b\b\b\b\b\b\b\b\b\b\b\b\b\b\b\b\b\b\b\b\b\b\b\b\b\b\b\b\b\b\b\b\b\b\b\b\r61/61 [==============================] - 20s 253ms/step - loss: 4.0066 - mae: 3.4226 - root_mean_squared_error: 3.9914 - val_loss: 0.1599 - val_mae: 0.1311 - val_root_mean_squared_error: 0.1590 - lr: 0.0244\n",
            "Epoch 2/500\n",
            "61/61 [==============================] - ETA: 0s - loss: 0.1783 - mae: 0.1305 - root_mean_squared_error: 0.1783"
          ]
        },
        {
          "name": "stderr",
          "output_type": "stream",
          "text": [
            "WARNING:absl:Found untraced functions such as residual_block_0_layer_call_fn, residual_block_0_layer_call_and_return_conditional_losses, residual_block_1_layer_call_fn, residual_block_1_layer_call_and_return_conditional_losses, residual_block_2_layer_call_fn while saving (showing 5 of 257). These functions will not be directly callable after loading.\n",
            "\u001b[34m\u001b[1mwandb\u001b[0m: Adding directory to artifact (/content/wandb/run-20230124_130909-6lltq4bt/files/model-best)... Done. 0.0s\n"
          ]
        },
        {
          "name": "stdout",
          "output_type": "stream",
          "text": [
            "\b\b\b\b\b\b\b\b\b\b\b\b\b\b\b\b\b\b\b\b\b\b\b\b\b\b\b\b\b\b\b\b\b\b\b\b\b\b\b\b\b\b\b\b\b\b\b\b\b\b\b\b\b\b\b\b\b\b\b\b\b\b\b\b\b\b\b\b\b\b\b\b\b\b\b\b\b\b\b\b\b\b\b\b\b\b\b\b\b\b\b\b\b\b\b\b\b\b\b\b\b\b\b\b\b\b\b\b\b\b\b\r61/61 [==============================] - 14s 237ms/step - loss: 0.1783 - mae: 0.1305 - root_mean_squared_error: 0.1783 - val_loss: 0.1422 - val_mae: 0.1118 - val_root_mean_squared_error: 0.1411 - lr: 0.0244\n",
            "Epoch 3/500\n",
            "61/61 [==============================] - 4s 70ms/step - loss: 0.1664 - mae: 0.1203 - root_mean_squared_error: 0.1664 - val_loss: 0.1546 - val_mae: 0.1261 - val_root_mean_squared_error: 0.1538 - lr: 0.0244\n",
            "Epoch 4/500\n",
            "61/61 [==============================] - 4s 68ms/step - loss: 0.1614 - mae: 0.1160 - root_mean_squared_error: 0.1614 - val_loss: 0.1609 - val_mae: 0.1355 - val_root_mean_squared_error: 0.1606 - lr: 0.0244\n",
            "Epoch 5/500\n",
            "61/61 [==============================] - 4s 68ms/step - loss: 0.1604 - mae: 0.1155 - root_mean_squared_error: 0.1604 - val_loss: 0.1450 - val_mae: 0.1137 - val_root_mean_squared_error: 0.1441 - lr: 0.0244\n",
            "Epoch 6/500\n",
            "61/61 [==============================] - ETA: 0s - loss: 0.1576 - mae: 0.1128 - root_mean_squared_error: 0.1576"
          ]
        },
        {
          "name": "stderr",
          "output_type": "stream",
          "text": [
            "WARNING:absl:Found untraced functions such as residual_block_0_layer_call_fn, residual_block_0_layer_call_and_return_conditional_losses, residual_block_1_layer_call_fn, residual_block_1_layer_call_and_return_conditional_losses, residual_block_2_layer_call_fn while saving (showing 5 of 257). These functions will not be directly callable after loading.\n",
            "\u001b[34m\u001b[1mwandb\u001b[0m: Adding directory to artifact (/content/wandb/run-20230124_130909-6lltq4bt/files/model-best)... Done. 0.0s\n"
          ]
        },
        {
          "name": "stdout",
          "output_type": "stream",
          "text": [
            "\b\b\b\b\b\b\b\b\b\b\b\b\b\b\b\b\b\b\b\b\b\b\b\b\b\b\b\b\b\b\b\b\b\b\b\b\b\b\b\b\b\b\b\b\b\b\b\b\b\b\b\b\b\b\b\b\b\b\b\b\b\b\b\b\b\b\b\b\b\b\b\b\b\b\b\b\b\b\b\b\b\b\b\b\b\b\b\b\b\b\b\b\b\b\b\b\b\b\b\b\b\b\b\b\b\b\b\b\b\b\b\r61/61 [==============================] - 14s 234ms/step - loss: 0.1576 - mae: 0.1128 - root_mean_squared_error: 0.1576 - val_loss: 0.1420 - val_mae: 0.1118 - val_root_mean_squared_error: 0.1411 - lr: 0.0244\n",
            "Epoch 7/500\n",
            "61/61 [==============================] - ETA: 0s - loss: 0.1550 - mae: 0.1102 - root_mean_squared_error: 0.1550"
          ]
        },
        {
          "name": "stderr",
          "output_type": "stream",
          "text": [
            "WARNING:absl:Found untraced functions such as residual_block_0_layer_call_fn, residual_block_0_layer_call_and_return_conditional_losses, residual_block_1_layer_call_fn, residual_block_1_layer_call_and_return_conditional_losses, residual_block_2_layer_call_fn while saving (showing 5 of 257). These functions will not be directly callable after loading.\n",
            "\u001b[34m\u001b[1mwandb\u001b[0m: Adding directory to artifact (/content/wandb/run-20230124_130909-6lltq4bt/files/model-best)... Done. 0.0s\n"
          ]
        },
        {
          "name": "stdout",
          "output_type": "stream",
          "text": [
            "\b\b\b\b\b\b\b\b\b\b\b\b\b\b\b\b\b\b\b\b\b\b\b\b\b\b\b\b\b\b\b\b\b\b\b\b\b\b\b\b\b\b\b\b\b\b\b\b\b\b\b\b\b\b\b\b\b\b\b\b\b\b\b\b\b\b\b\b\b\b\b\b\b\b\b\b\b\b\b\b\b\b\b\b\b\b\b\b\b\b\b\b\b\b\b\b\b\b\b\b\b\b\b\b\b\b\b\b\b\b\b\r61/61 [==============================] - 15s 241ms/step - loss: 0.1550 - mae: 0.1102 - root_mean_squared_error: 0.1550 - val_loss: 0.1414 - val_mae: 0.1102 - val_root_mean_squared_error: 0.1405 - lr: 0.0244\n",
            "Epoch 8/500\n",
            "61/61 [==============================] - ETA: 0s - loss: 0.1532 - mae: 0.1088 - root_mean_squared_error: 0.1532"
          ]
        },
        {
          "name": "stderr",
          "output_type": "stream",
          "text": [
            "WARNING:absl:Found untraced functions such as residual_block_0_layer_call_fn, residual_block_0_layer_call_and_return_conditional_losses, residual_block_1_layer_call_fn, residual_block_1_layer_call_and_return_conditional_losses, residual_block_2_layer_call_fn while saving (showing 5 of 257). These functions will not be directly callable after loading.\n",
            "\u001b[34m\u001b[1mwandb\u001b[0m: Adding directory to artifact (/content/wandb/run-20230124_130909-6lltq4bt/files/model-best)... Done. 0.0s\n"
          ]
        },
        {
          "name": "stdout",
          "output_type": "stream",
          "text": [
            "\b\b\b\b\b\b\b\b\b\b\b\b\b\b\b\b\b\b\b\b\b\b\b\b\b\b\b\b\b\b\b\b\b\b\b\b\b\b\b\b\b\b\b\b\b\b\b\b\b\b\b\b\b\b\b\b\b\b\b\b\b\b\b\b\b\b\b\b\b\b\b\b\b\b\b\b\b\b\b\b\b\b\b\b\b\b\b\b\b\b\b\b\b\b\b\b\b\b\b\b\b\b\b\b\b\b\b\b\b\b\b\r61/61 [==============================] - 14s 238ms/step - loss: 0.1532 - mae: 0.1088 - root_mean_squared_error: 0.1532 - val_loss: 0.1369 - val_mae: 0.1037 - val_root_mean_squared_error: 0.1359 - lr: 0.0244\n",
            "Epoch 9/500\n",
            "61/61 [==============================] - ETA: 0s - loss: 0.1532 - mae: 0.1091 - root_mean_squared_error: 0.1532"
          ]
        },
        {
          "name": "stderr",
          "output_type": "stream",
          "text": [
            "WARNING:absl:Found untraced functions such as residual_block_0_layer_call_fn, residual_block_0_layer_call_and_return_conditional_losses, residual_block_1_layer_call_fn, residual_block_1_layer_call_and_return_conditional_losses, residual_block_2_layer_call_fn while saving (showing 5 of 257). These functions will not be directly callable after loading.\n",
            "\u001b[34m\u001b[1mwandb\u001b[0m: Adding directory to artifact (/content/wandb/run-20230124_130909-6lltq4bt/files/model-best)... Done. 0.0s\n"
          ]
        },
        {
          "name": "stdout",
          "output_type": "stream",
          "text": [
            "\b\b\b\b\b\b\b\b\b\b\b\b\b\b\b\b\b\b\b\b\b\b\b\b\b\b\b\b\b\b\b\b\b\b\b\b\b\b\b\b\b\b\b\b\b\b\b\b\b\b\b\b\b\b\b\b\b\b\b\b\b\b\b\b\b\b\b\b\b\b\b\b\b\b\b\b\b\b\b\b\b\b\b\b\b\b\b\b\b\b\b\b\b\b\b\b\b\b\b\b\b\b\b\b\b\b\b\b\b\b\b\r61/61 [==============================] - 15s 242ms/step - loss: 0.1532 - mae: 0.1091 - root_mean_squared_error: 0.1532 - val_loss: 0.1348 - val_mae: 0.0973 - val_root_mean_squared_error: 0.1336 - lr: 0.0244\n",
            "Epoch 10/500\n",
            "61/61 [==============================] - 4s 72ms/step - loss: 0.1523 - mae: 0.1079 - root_mean_squared_error: 0.1523 - val_loss: 0.1406 - val_mae: 0.1093 - val_root_mean_squared_error: 0.1397 - lr: 0.0244\n",
            "Epoch 11/500\n",
            "61/61 [==============================] - 4s 70ms/step - loss: 0.1518 - mae: 0.1073 - root_mean_squared_error: 0.1518 - val_loss: 0.1393 - val_mae: 0.1069 - val_root_mean_squared_error: 0.1384 - lr: 0.0244\n",
            "Epoch 12/500\n",
            "61/61 [==============================] - 4s 70ms/step - loss: 0.1519 - mae: 0.1078 - root_mean_squared_error: 0.1519 - val_loss: 0.1369 - val_mae: 0.1026 - val_root_mean_squared_error: 0.1360 - lr: 0.0244\n",
            "Epoch 13/500\n",
            "61/61 [==============================] - 4s 70ms/step - loss: 0.1513 - mae: 0.1071 - root_mean_squared_error: 0.1512 - val_loss: 0.1438 - val_mae: 0.1123 - val_root_mean_squared_error: 0.1427 - lr: 0.0244\n",
            "Epoch 14/500\n",
            "61/61 [==============================] - 4s 70ms/step - loss: 0.1504 - mae: 0.1062 - root_mean_squared_error: 0.1504 - val_loss: 0.1386 - val_mae: 0.1071 - val_root_mean_squared_error: 0.1380 - lr: 0.0244\n",
            "Epoch 15/500\n",
            "61/61 [==============================] - 4s 70ms/step - loss: 0.1494 - mae: 0.1055 - root_mean_squared_error: 0.1493 - val_loss: 0.1402 - val_mae: 0.1091 - val_root_mean_squared_error: 0.1395 - lr: 0.0244\n",
            "Epoch 16/500\n",
            "61/61 [==============================] - 4s 70ms/step - loss: 0.1493 - mae: 0.1054 - root_mean_squared_error: 0.1493 - val_loss: 0.1392 - val_mae: 0.1064 - val_root_mean_squared_error: 0.1385 - lr: 0.0244\n",
            "Epoch 17/500\n",
            "61/61 [==============================] - 4s 69ms/step - loss: 0.1491 - mae: 0.1050 - root_mean_squared_error: 0.1491 - val_loss: 0.1440 - val_mae: 0.1110 - val_root_mean_squared_error: 0.1432 - lr: 0.0244\n",
            "Epoch 18/500\n",
            "61/61 [==============================] - 4s 70ms/step - loss: 0.1490 - mae: 0.1052 - root_mean_squared_error: 0.1490 - val_loss: 0.1387 - val_mae: 0.1051 - val_root_mean_squared_error: 0.1379 - lr: 0.0244\n",
            "Epoch 19/500\n",
            "61/61 [==============================] - 4s 69ms/step - loss: 0.1485 - mae: 0.1047 - root_mean_squared_error: 0.1485 - val_loss: 0.1422 - val_mae: 0.1109 - val_root_mean_squared_error: 0.1414 - lr: 0.0244\n",
            "Epoch 20/500\n",
            "61/61 [==============================] - 4s 69ms/step - loss: 0.1459 - mae: 0.1024 - root_mean_squared_error: 0.1459 - val_loss: 0.1397 - val_mae: 0.1061 - val_root_mean_squared_error: 0.1389 - lr: 0.0024\n",
            "Epoch 21/500\n",
            "61/61 [==============================] - 4s 68ms/step - loss: 0.1455 - mae: 0.1019 - root_mean_squared_error: 0.1454 - val_loss: 0.1386 - val_mae: 0.1050 - val_root_mean_squared_error: 0.1378 - lr: 0.0024\n",
            "Epoch 22/500\n",
            "61/61 [==============================] - 4s 69ms/step - loss: 0.1448 - mae: 0.1014 - root_mean_squared_error: 0.1448 - val_loss: 0.1412 - val_mae: 0.1080 - val_root_mean_squared_error: 0.1403 - lr: 0.0024\n",
            "Epoch 23/500\n",
            "61/61 [==============================] - 4s 69ms/step - loss: 0.1455 - mae: 0.1019 - root_mean_squared_error: 0.1454 - val_loss: 0.1368 - val_mae: 0.1018 - val_root_mean_squared_error: 0.1359 - lr: 0.0024\n",
            "Epoch 24/500\n",
            "61/61 [==============================] - 4s 68ms/step - loss: 0.1447 - mae: 0.1014 - root_mean_squared_error: 0.1447 - val_loss: 0.1383 - val_mae: 0.1040 - val_root_mean_squared_error: 0.1375 - lr: 0.0024\n"
          ]
        },
        {
          "data": {
            "text/html": [
              "Waiting for W&B process to finish... <strong style=\"color:green\">(success).</strong>"
            ],
            "text/plain": [
              "<IPython.core.display.HTML object>"
            ]
          },
          "metadata": {},
          "output_type": "display_data"
        },
        {
          "data": {
            "text/html": [
              "<style>\n",
              "    table.wandb td:nth-child(1) { padding: 0 10px; text-align: left ; width: auto;} td:nth-child(2) {text-align: left ; width: 100%}\n",
              "    .wandb-row { display: flex; flex-direction: row; flex-wrap: wrap; justify-content: flex-start; width: 100% }\n",
              "    .wandb-col { display: flex; flex-direction: column; flex-basis: 100%; flex: 1; padding: 10px; }\n",
              "    </style>\n",
              "<div class=\"wandb-row\"><div class=\"wandb-col\"><h3>Run history:</h3><br/><table class=\"wandb\"><tr><td>epoch</td><td>▁▁▂▂▂▃▃▃▃▄▄▄▅▅▅▆▆▆▆▇▇▇██</td></tr><tr><td>loss</td><td>█▁▁▁▁▁▁▁▁▁▁▁▁▁▁▁▁▁▁▁▁▁▁▁</td></tr><tr><td>mae</td><td>█▁▁▁▁▁▁▁▁▁▁▁▁▁▁▁▁▁▁▁▁▁▁▁</td></tr><tr><td>root_mean_squared_error</td><td>█▁▁▁▁▁▁▁▁▁▁▁▁▁▁▁▁▁▁▁▁▁▁▁</td></tr><tr><td>val_loss</td><td>█▃▆█▄▃▃▂▁▃▂▂▃▂▂▂▃▂▃▂▂▃▂▂</td></tr><tr><td>val_mae</td><td>▇▄▆█▄▄▃▂▁▃▃▂▄▃▃▃▄▂▃▃▂▃▂▂</td></tr><tr><td>val_root_mean_squared_error</td><td>█▃▆█▄▃▃▂▁▃▂▂▃▂▃▂▃▂▃▂▂▃▂▂</td></tr></table><br/></div><div class=\"wandb-col\"><h3>Run summary:</h3><br/><table class=\"wandb\"><tr><td>best_epoch</td><td>8</td></tr><tr><td>best_val_loss</td><td>0.13482</td></tr><tr><td>epoch</td><td>23</td></tr><tr><td>loss</td><td>0.14475</td></tr><tr><td>mae</td><td>0.10135</td></tr><tr><td>root_mean_squared_error</td><td>0.14472</td></tr><tr><td>val_loss</td><td>0.13832</td></tr><tr><td>val_mae</td><td>0.10396</td></tr><tr><td>val_root_mean_squared_error</td><td>0.13754</td></tr></table><br/></div></div>"
            ],
            "text/plain": [
              "<IPython.core.display.HTML object>"
            ]
          },
          "metadata": {},
          "output_type": "display_data"
        },
        {
          "data": {
            "text/html": [
              " View run <strong style=\"color:#cdcd00\">astral-sweep-18</strong> at: <a href=\"https://wandb.ai/dsp_aguro/aguro_tcn/runs/6lltq4bt\" target=\"_blank\">https://wandb.ai/dsp_aguro/aguro_tcn/runs/6lltq4bt</a><br/>Synced 5 W&B file(s), 1 media file(s), 24 artifact file(s) and 1 other file(s)"
            ],
            "text/plain": [
              "<IPython.core.display.HTML object>"
            ]
          },
          "metadata": {},
          "output_type": "display_data"
        },
        {
          "data": {
            "text/html": [
              "Find logs at: <code>./wandb/run-20230124_130909-6lltq4bt/logs</code>"
            ],
            "text/plain": [
              "<IPython.core.display.HTML object>"
            ]
          },
          "metadata": {},
          "output_type": "display_data"
        },
        {
          "name": "stderr",
          "output_type": "stream",
          "text": [
            "\u001b[34m\u001b[1mwandb\u001b[0m: Agent Starting Run: c5wxll0s with config:\n",
            "\u001b[34m\u001b[1mwandb\u001b[0m: \tbatch_size: 512\n",
            "\u001b[34m\u001b[1mwandb\u001b[0m: \tdropout_rate: 0.6\n",
            "\u001b[34m\u001b[1mwandb\u001b[0m: \tepochs: 500\n",
            "\u001b[34m\u001b[1mwandb\u001b[0m: \tkernel_size: 6\n",
            "\u001b[34m\u001b[1mwandb\u001b[0m: \tlr: 0.03140542479186004\n",
            "\u001b[34m\u001b[1mwandb\u001b[0m: \tnb_filters: 16\n",
            "\u001b[34m\u001b[1mwandb\u001b[0m: \toptimizer: adam\n",
            "Failed to detect the name of this notebook, you can set it manually with the WANDB_NOTEBOOK_NAME environment variable to enable code saving.\n"
          ]
        },
        {
          "data": {
            "text/html": [
              "Tracking run with wandb version 0.13.9"
            ],
            "text/plain": [
              "<IPython.core.display.HTML object>"
            ]
          },
          "metadata": {},
          "output_type": "display_data"
        },
        {
          "data": {
            "text/html": [
              "Run data is saved locally in <code>/content/wandb/run-20230124_131215-c5wxll0s</code>"
            ],
            "text/plain": [
              "<IPython.core.display.HTML object>"
            ]
          },
          "metadata": {},
          "output_type": "display_data"
        },
        {
          "data": {
            "text/html": [
              "Syncing run <strong><a href=\"https://wandb.ai/dsp_aguro/aguro_tcn/runs/c5wxll0s\" target=\"_blank\">electric-sweep-19</a></strong> to <a href=\"https://wandb.ai/dsp_aguro/aguro_tcn\" target=\"_blank\">Weights & Biases</a> (<a href=\"https://wandb.me/run\" target=\"_blank\">docs</a>)<br/>Sweep page: <a href=\"https://wandb.ai/dsp_aguro/aguro_tcn/sweeps/9vw7gd6y\" target=\"_blank\">https://wandb.ai/dsp_aguro/aguro_tcn/sweeps/9vw7gd6y</a>"
            ],
            "text/plain": [
              "<IPython.core.display.HTML object>"
            ]
          },
          "metadata": {},
          "output_type": "display_data"
        },
        {
          "data": {
            "text/html": [
              " View project at <a href=\"https://wandb.ai/dsp_aguro/aguro_tcn\" target=\"_blank\">https://wandb.ai/dsp_aguro/aguro_tcn</a>"
            ],
            "text/plain": [
              "<IPython.core.display.HTML object>"
            ]
          },
          "metadata": {},
          "output_type": "display_data"
        },
        {
          "data": {
            "text/html": [
              " View sweep at <a href=\"https://wandb.ai/dsp_aguro/aguro_tcn/sweeps/9vw7gd6y\" target=\"_blank\">https://wandb.ai/dsp_aguro/aguro_tcn/sweeps/9vw7gd6y</a>"
            ],
            "text/plain": [
              "<IPython.core.display.HTML object>"
            ]
          },
          "metadata": {},
          "output_type": "display_data"
        },
        {
          "data": {
            "text/html": [
              " View run at <a href=\"https://wandb.ai/dsp_aguro/aguro_tcn/runs/c5wxll0s\" target=\"_blank\">https://wandb.ai/dsp_aguro/aguro_tcn/runs/c5wxll0s</a>"
            ],
            "text/plain": [
              "<IPython.core.display.HTML object>"
            ]
          },
          "metadata": {},
          "output_type": "display_data"
        },
        {
          "name": "stdout",
          "output_type": "stream",
          "text": [
            "Epoch 1/500\n",
            " 6/61 [=>............................] - ETA: 3s - loss: 6.6143 - mae: 4.0938 - root_mean_squared_error: 6.6143"
          ]
        },
        {
          "name": "stderr",
          "output_type": "stream",
          "text": [
            "WARNING:tensorflow:Callback method `on_train_batch_end` is slow compared to the batch time (batch time: 0.0243s vs `on_train_batch_end` time: 0.0490s). Check your callbacks.\n"
          ]
        },
        {
          "name": "stdout",
          "output_type": "stream",
          "text": [
            "60/61 [============================>.] - ETA: 0s - loss: 0.9056 - mae: 0.6039 - root_mean_squared_error: 0.9056"
          ]
        },
        {
          "name": "stderr",
          "output_type": "stream",
          "text": [
            "WARNING:absl:Found untraced functions such as residual_block_0_layer_call_fn, residual_block_0_layer_call_and_return_conditional_losses, residual_block_1_layer_call_fn, residual_block_1_layer_call_and_return_conditional_losses, residual_block_2_layer_call_fn while saving (showing 5 of 257). These functions will not be directly callable after loading.\n",
            "\u001b[34m\u001b[1mwandb\u001b[0m: Adding directory to artifact (/content/wandb/run-20230124_131215-c5wxll0s/files/model-best)... Done. 0.0s\n"
          ]
        },
        {
          "name": "stdout",
          "output_type": "stream",
          "text": [
            "\b\b\b\b\b\b\b\b\b\b\b\b\b\b\b\b\b\b\b\b\b\b\b\b\b\b\b\b\b\b\b\b\b\b\b\b\b\b\b\b\b\b\b\b\b\b\b\b\b\b\b\b\b\b\b\b\b\b\b\b\b\b\b\b\b\b\b\b\b\b\b\b\b\b\b\b\b\b\b\b\b\b\b\b\b\b\b\b\b\b\b\b\b\b\b\b\b\b\b\b\b\b\b\b\b\b\b\b\b\b\b\r61/61 [==============================] - 19s 246ms/step - loss: 0.8969 - mae: 0.5984 - root_mean_squared_error: 0.8942 - val_loss: 0.1856 - val_mae: 0.1639 - val_root_mean_squared_error: 0.1879 - lr: 0.0314\n",
            "Epoch 2/500\n",
            "60/61 [============================>.] - ETA: 0s - loss: 0.2168 - mae: 0.1647 - root_mean_squared_error: 0.2168"
          ]
        },
        {
          "name": "stderr",
          "output_type": "stream",
          "text": [
            "WARNING:absl:Found untraced functions such as residual_block_0_layer_call_fn, residual_block_0_layer_call_and_return_conditional_losses, residual_block_1_layer_call_fn, residual_block_1_layer_call_and_return_conditional_losses, residual_block_2_layer_call_fn while saving (showing 5 of 257). These functions will not be directly callable after loading.\n",
            "\u001b[34m\u001b[1mwandb\u001b[0m: Adding directory to artifact (/content/wandb/run-20230124_131215-c5wxll0s/files/model-best)... Done. 0.0s\n"
          ]
        },
        {
          "name": "stdout",
          "output_type": "stream",
          "text": [
            "\b\b\b\b\b\b\b\b\b\b\b\b\b\b\b\b\b\b\b\b\b\b\b\b\b\b\b\b\b\b\b\b\b\b\b\b\b\b\b\b\b\b\b\b\b\b\b\b\b\b\b\b\b\b\b\b\b\b\b\b\b\b\b\b\b\b\b\b\b\b\b\b\b\b\b\b\b\b\b\b\b\b\b\b\b\b\b\b\b\b\b\b\b\b\b\b\b\b\b\b\b\b\b\b\b\b\b\b\b\b\b\r61/61 [==============================] - 14s 229ms/step - loss: 0.2169 - mae: 0.1648 - root_mean_squared_error: 0.2169 - val_loss: 0.1742 - val_mae: 0.1521 - val_root_mean_squared_error: 0.1764 - lr: 0.0314\n",
            "Epoch 3/500\n",
            "61/61 [==============================] - 4s 60ms/step - loss: 0.2169 - mae: 0.1646 - root_mean_squared_error: 0.2169 - val_loss: 0.1759 - val_mae: 0.1540 - val_root_mean_squared_error: 0.1781 - lr: 0.0314\n",
            "Epoch 4/500\n",
            "61/61 [==============================] - 4s 58ms/step - loss: 0.2166 - mae: 0.1646 - root_mean_squared_error: 0.2166 - val_loss: 0.1802 - val_mae: 0.1585 - val_root_mean_squared_error: 0.1825 - lr: 0.0314\n",
            "Epoch 5/500\n",
            "60/61 [============================>.] - ETA: 0s - loss: 0.2165 - mae: 0.1645 - root_mean_squared_error: 0.2165"
          ]
        },
        {
          "name": "stderr",
          "output_type": "stream",
          "text": [
            "WARNING:absl:Found untraced functions such as residual_block_0_layer_call_fn, residual_block_0_layer_call_and_return_conditional_losses, residual_block_1_layer_call_fn, residual_block_1_layer_call_and_return_conditional_losses, residual_block_2_layer_call_fn while saving (showing 5 of 257). These functions will not be directly callable after loading.\n",
            "\u001b[34m\u001b[1mwandb\u001b[0m: Adding directory to artifact (/content/wandb/run-20230124_131215-c5wxll0s/files/model-best)... Done. 0.0s\n"
          ]
        },
        {
          "name": "stdout",
          "output_type": "stream",
          "text": [
            "\b\b\b\b\b\b\b\b\b\b\b\b\b\b\b\b\b\b\b\b\b\b\b\b\b\b\b\b\b\b\b\b\b\b\b\b\b\b\b\b\b\b\b\b\b\b\b\b\b\b\b\b\b\b\b\b\b\b\b\b\b\b\b\b\b\b\b\b\b\b\b\b\b\b\b\b\b\b\b\b\b\b\b\b\b\b\b\b\b\b\b\b\b\b\b\b\b\b\b\b\b\b\b\b\b\b\b\b\b\b\b\r61/61 [==============================] - 14s 234ms/step - loss: 0.2165 - mae: 0.1646 - root_mean_squared_error: 0.2166 - val_loss: 0.1734 - val_mae: 0.1512 - val_root_mean_squared_error: 0.1755 - lr: 0.0314\n",
            "Epoch 6/500\n",
            "61/61 [==============================] - 4s 61ms/step - loss: 0.2165 - mae: 0.1643 - root_mean_squared_error: 0.2165 - val_loss: 0.1803 - val_mae: 0.1586 - val_root_mean_squared_error: 0.1826 - lr: 0.0314\n",
            "Epoch 7/500\n",
            "61/61 [==============================] - 4s 58ms/step - loss: 0.2164 - mae: 0.1643 - root_mean_squared_error: 0.2164 - val_loss: 0.1774 - val_mae: 0.1555 - val_root_mean_squared_error: 0.1796 - lr: 0.0314\n",
            "Epoch 8/500\n",
            "61/61 [==============================] - 4s 58ms/step - loss: 0.2160 - mae: 0.1640 - root_mean_squared_error: 0.2160 - val_loss: 0.1782 - val_mae: 0.1564 - val_root_mean_squared_error: 0.1804 - lr: 0.0314\n",
            "Epoch 9/500\n",
            "61/61 [==============================] - 4s 58ms/step - loss: 0.2161 - mae: 0.1639 - root_mean_squared_error: 0.2161 - val_loss: 0.1826 - val_mae: 0.1611 - val_root_mean_squared_error: 0.1849 - lr: 0.0314\n",
            "Epoch 10/500\n",
            "61/61 [==============================] - 4s 59ms/step - loss: 0.2161 - mae: 0.1642 - root_mean_squared_error: 0.2162 - val_loss: 0.1749 - val_mae: 0.1528 - val_root_mean_squared_error: 0.1770 - lr: 0.0314\n",
            "Epoch 11/500\n",
            "61/61 [==============================] - 4s 59ms/step - loss: 0.2163 - mae: 0.1643 - root_mean_squared_error: 0.2163 - val_loss: 0.1801 - val_mae: 0.1584 - val_root_mean_squared_error: 0.1823 - lr: 0.0314\n",
            "Epoch 12/500\n",
            "61/61 [==============================] - 4s 59ms/step - loss: 0.2161 - mae: 0.1639 - root_mean_squared_error: 0.2161 - val_loss: 0.1820 - val_mae: 0.1604 - val_root_mean_squared_error: 0.1843 - lr: 0.0314\n",
            "Epoch 13/500\n",
            "61/61 [==============================] - 4s 59ms/step - loss: 0.2163 - mae: 0.1642 - root_mean_squared_error: 0.2163 - val_loss: 0.1741 - val_mae: 0.1519 - val_root_mean_squared_error: 0.1762 - lr: 0.0314\n",
            "Epoch 14/500\n",
            "61/61 [==============================] - 4s 59ms/step - loss: 0.2161 - mae: 0.1641 - root_mean_squared_error: 0.2160 - val_loss: 0.1794 - val_mae: 0.1576 - val_root_mean_squared_error: 0.1816 - lr: 0.0314\n",
            "Epoch 15/500\n",
            "61/61 [==============================] - 4s 58ms/step - loss: 0.2162 - mae: 0.1640 - root_mean_squared_error: 0.2163 - val_loss: 0.1900 - val_mae: 0.1688 - val_root_mean_squared_error: 0.1924 - lr: 0.0314\n",
            "Epoch 16/500\n",
            "61/61 [==============================] - 4s 58ms/step - loss: 0.2159 - mae: 0.1644 - root_mean_squared_error: 0.2160 - val_loss: 0.1790 - val_mae: 0.1572 - val_root_mean_squared_error: 0.1811 - lr: 0.0031\n",
            "Epoch 17/500\n",
            "61/61 [==============================] - 4s 58ms/step - loss: 0.2158 - mae: 0.1635 - root_mean_squared_error: 0.2157 - val_loss: 0.1805 - val_mae: 0.1589 - val_root_mean_squared_error: 0.1826 - lr: 0.0031\n",
            "Epoch 18/500\n",
            "61/61 [==============================] - 4s 58ms/step - loss: 0.2156 - mae: 0.1638 - root_mean_squared_error: 0.2156 - val_loss: 0.1786 - val_mae: 0.1568 - val_root_mean_squared_error: 0.1807 - lr: 0.0031\n",
            "Epoch 19/500\n",
            "61/61 [==============================] - 4s 58ms/step - loss: 0.2156 - mae: 0.1635 - root_mean_squared_error: 0.2157 - val_loss: 0.1791 - val_mae: 0.1574 - val_root_mean_squared_error: 0.1812 - lr: 0.0031\n",
            "Epoch 20/500\n",
            "61/61 [==============================] - 4s 58ms/step - loss: 0.2157 - mae: 0.1636 - root_mean_squared_error: 0.2157 - val_loss: 0.1799 - val_mae: 0.1582 - val_root_mean_squared_error: 0.1822 - lr: 0.0031\n"
          ]
        },
        {
          "data": {
            "text/html": [
              "Waiting for W&B process to finish... <strong style=\"color:green\">(success).</strong>"
            ],
            "text/plain": [
              "<IPython.core.display.HTML object>"
            ]
          },
          "metadata": {},
          "output_type": "display_data"
        },
        {
          "data": {
            "text/html": [
              "<style>\n",
              "    table.wandb td:nth-child(1) { padding: 0 10px; text-align: left ; width: auto;} td:nth-child(2) {text-align: left ; width: 100%}\n",
              "    .wandb-row { display: flex; flex-direction: row; flex-wrap: wrap; justify-content: flex-start; width: 100% }\n",
              "    .wandb-col { display: flex; flex-direction: column; flex-basis: 100%; flex: 1; padding: 10px; }\n",
              "    </style>\n",
              "<div class=\"wandb-row\"><div class=\"wandb-col\"><h3>Run history:</h3><br/><table class=\"wandb\"><tr><td>epoch</td><td>▁▁▂▂▂▃▃▄▄▄▅▅▅▆▆▇▇▇██</td></tr><tr><td>loss</td><td>█▁▁▁▁▁▁▁▁▁▁▁▁▁▁▁▁▁▁▁</td></tr><tr><td>mae</td><td>█▁▁▁▁▁▁▁▁▁▁▁▁▁▁▁▁▁▁▁</td></tr><tr><td>root_mean_squared_error</td><td>█▁▁▁▁▁▁▁▁▁▁▁▁▁▁▁▁▁▁▁</td></tr><tr><td>val_loss</td><td>▆▁▂▄▁▄▃▃▅▂▄▅▁▄█▃▄▃▃▄</td></tr><tr><td>val_mae</td><td>▆▁▂▄▁▄▃▃▅▂▄▅▁▄█▃▄▃▃▄</td></tr><tr><td>val_root_mean_squared_error</td><td>▆▁▂▄▁▄▃▃▅▂▄▅▁▃█▃▄▃▃▄</td></tr></table><br/></div><div class=\"wandb-col\"><h3>Run summary:</h3><br/><table class=\"wandb\"><tr><td>best_epoch</td><td>4</td></tr><tr><td>best_val_loss</td><td>0.17339</td></tr><tr><td>epoch</td><td>19</td></tr><tr><td>loss</td><td>0.21572</td></tr><tr><td>mae</td><td>0.1636</td></tr><tr><td>root_mean_squared_error</td><td>0.21569</td></tr><tr><td>val_loss</td><td>0.17995</td></tr><tr><td>val_mae</td><td>0.15824</td></tr><tr><td>val_root_mean_squared_error</td><td>0.18215</td></tr></table><br/></div></div>"
            ],
            "text/plain": [
              "<IPython.core.display.HTML object>"
            ]
          },
          "metadata": {},
          "output_type": "display_data"
        },
        {
          "data": {
            "text/html": [
              " View run <strong style=\"color:#cdcd00\">electric-sweep-19</strong> at: <a href=\"https://wandb.ai/dsp_aguro/aguro_tcn/runs/c5wxll0s\" target=\"_blank\">https://wandb.ai/dsp_aguro/aguro_tcn/runs/c5wxll0s</a><br/>Synced 5 W&B file(s), 1 media file(s), 12 artifact file(s) and 1 other file(s)"
            ],
            "text/plain": [
              "<IPython.core.display.HTML object>"
            ]
          },
          "metadata": {},
          "output_type": "display_data"
        },
        {
          "data": {
            "text/html": [
              "Find logs at: <code>./wandb/run-20230124_131215-c5wxll0s/logs</code>"
            ],
            "text/plain": [
              "<IPython.core.display.HTML object>"
            ]
          },
          "metadata": {},
          "output_type": "display_data"
        },
        {
          "name": "stderr",
          "output_type": "stream",
          "text": [
            "\u001b[34m\u001b[1mwandb\u001b[0m: Agent Starting Run: zr8sv60b with config:\n",
            "\u001b[34m\u001b[1mwandb\u001b[0m: \tbatch_size: 512\n",
            "\u001b[34m\u001b[1mwandb\u001b[0m: \tdropout_rate: 0.7\n",
            "\u001b[34m\u001b[1mwandb\u001b[0m: \tepochs: 500\n",
            "\u001b[34m\u001b[1mwandb\u001b[0m: \tkernel_size: 6\n",
            "\u001b[34m\u001b[1mwandb\u001b[0m: \tlr: 0.012008602841440476\n",
            "\u001b[34m\u001b[1mwandb\u001b[0m: \tnb_filters: 16\n",
            "\u001b[34m\u001b[1mwandb\u001b[0m: \toptimizer: adam\n",
            "Failed to detect the name of this notebook, you can set it manually with the WANDB_NOTEBOOK_NAME environment variable to enable code saving.\n"
          ]
        },
        {
          "data": {
            "text/html": [
              "Tracking run with wandb version 0.13.9"
            ],
            "text/plain": [
              "<IPython.core.display.HTML object>"
            ]
          },
          "metadata": {},
          "output_type": "display_data"
        },
        {
          "data": {
            "text/html": [
              "Run data is saved locally in <code>/content/wandb/run-20230124_131449-zr8sv60b</code>"
            ],
            "text/plain": [
              "<IPython.core.display.HTML object>"
            ]
          },
          "metadata": {},
          "output_type": "display_data"
        },
        {
          "data": {
            "text/html": [
              "Syncing run <strong><a href=\"https://wandb.ai/dsp_aguro/aguro_tcn/runs/zr8sv60b\" target=\"_blank\">devoted-sweep-20</a></strong> to <a href=\"https://wandb.ai/dsp_aguro/aguro_tcn\" target=\"_blank\">Weights & Biases</a> (<a href=\"https://wandb.me/run\" target=\"_blank\">docs</a>)<br/>Sweep page: <a href=\"https://wandb.ai/dsp_aguro/aguro_tcn/sweeps/9vw7gd6y\" target=\"_blank\">https://wandb.ai/dsp_aguro/aguro_tcn/sweeps/9vw7gd6y</a>"
            ],
            "text/plain": [
              "<IPython.core.display.HTML object>"
            ]
          },
          "metadata": {},
          "output_type": "display_data"
        },
        {
          "data": {
            "text/html": [
              " View project at <a href=\"https://wandb.ai/dsp_aguro/aguro_tcn\" target=\"_blank\">https://wandb.ai/dsp_aguro/aguro_tcn</a>"
            ],
            "text/plain": [
              "<IPython.core.display.HTML object>"
            ]
          },
          "metadata": {},
          "output_type": "display_data"
        },
        {
          "data": {
            "text/html": [
              " View sweep at <a href=\"https://wandb.ai/dsp_aguro/aguro_tcn/sweeps/9vw7gd6y\" target=\"_blank\">https://wandb.ai/dsp_aguro/aguro_tcn/sweeps/9vw7gd6y</a>"
            ],
            "text/plain": [
              "<IPython.core.display.HTML object>"
            ]
          },
          "metadata": {},
          "output_type": "display_data"
        },
        {
          "data": {
            "text/html": [
              " View run at <a href=\"https://wandb.ai/dsp_aguro/aguro_tcn/runs/zr8sv60b\" target=\"_blank\">https://wandb.ai/dsp_aguro/aguro_tcn/runs/zr8sv60b</a>"
            ],
            "text/plain": [
              "<IPython.core.display.HTML object>"
            ]
          },
          "metadata": {},
          "output_type": "display_data"
        },
        {
          "name": "stdout",
          "output_type": "stream",
          "text": [
            "Epoch 1/500\n",
            " 6/61 [=>............................] - ETA: 4s - loss: 25.4258 - mae: 11.8327 - root_mean_squared_error: 25.4258"
          ]
        },
        {
          "name": "stderr",
          "output_type": "stream",
          "text": [
            "WARNING:tensorflow:Callback method `on_train_batch_end` is slow compared to the batch time (batch time: 0.0255s vs `on_train_batch_end` time: 0.0486s). Check your callbacks.\n"
          ]
        },
        {
          "name": "stdout",
          "output_type": "stream",
          "text": [
            "60/61 [============================>.] - ETA: 0s - loss: 2.9243 - mae: 1.5138 - root_mean_squared_error: 2.9243"
          ]
        },
        {
          "name": "stderr",
          "output_type": "stream",
          "text": [
            "WARNING:absl:Found untraced functions such as residual_block_0_layer_call_fn, residual_block_0_layer_call_and_return_conditional_losses, residual_block_1_layer_call_fn, residual_block_1_layer_call_and_return_conditional_losses, residual_block_2_layer_call_fn while saving (showing 5 of 257). These functions will not be directly callable after loading.\n",
            "\u001b[34m\u001b[1mwandb\u001b[0m: Adding directory to artifact (/content/wandb/run-20230124_131449-zr8sv60b/files/model-best)... Done. 0.0s\n"
          ]
        },
        {
          "name": "stdout",
          "output_type": "stream",
          "text": [
            "\b\b\b\b\b\b\b\b\b\b\b\b\b\b\b\b\b\b\b\b\b\b\b\b\b\b\b\b\b\b\b\b\b\b\b\b\b\b\b\b\b\b\b\b\b\b\b\b\b\b\b\b\b\b\b\b\b\b\b\b\b\b\b\b\b\b\b\b\b\b\b\b\b\b\b\b\b\b\b\b\b\b\b\b\b\b\b\b\b\b\b\b\b\b\b\b\b\b\b\b\b\b\b\b\b\b\b\b\b\b\b\r61/61 [==============================] - 19s 249ms/step - loss: 2.8907 - mae: 1.4973 - root_mean_squared_error: 2.8802 - val_loss: 0.2122 - val_mae: 0.1913 - val_root_mean_squared_error: 0.2148 - lr: 0.0120\n",
            "Epoch 2/500\n",
            "60/61 [============================>.] - ETA: 0s - loss: 0.2204 - mae: 0.1691 - root_mean_squared_error: 0.2204"
          ]
        },
        {
          "name": "stderr",
          "output_type": "stream",
          "text": [
            "WARNING:absl:Found untraced functions such as residual_block_0_layer_call_fn, residual_block_0_layer_call_and_return_conditional_losses, residual_block_1_layer_call_fn, residual_block_1_layer_call_and_return_conditional_losses, residual_block_2_layer_call_fn while saving (showing 5 of 257). These functions will not be directly callable after loading.\n",
            "\u001b[34m\u001b[1mwandb\u001b[0m: Adding directory to artifact (/content/wandb/run-20230124_131449-zr8sv60b/files/model-best)... Done. 0.0s\n"
          ]
        },
        {
          "name": "stdout",
          "output_type": "stream",
          "text": [
            "\b\b\b\b\b\b\b\b\b\b\b\b\b\b\b\b\b\b\b\b\b\b\b\b\b\b\b\b\b\b\b\b\b\b\b\b\b\b\b\b\b\b\b\b\b\b\b\b\b\b\b\b\b\b\b\b\b\b\b\b\b\b\b\b\b\b\b\b\b\b\b\b\b\b\b\b\b\b\b\b\b\b\b\b\b\b\b\b\b\b\b\b\b\b\b\b\b\b\b\b\b\b\b\b\b\b\b\b\b\b\b\r61/61 [==============================] - 14s 231ms/step - loss: 0.2204 - mae: 0.1691 - root_mean_squared_error: 0.2204 - val_loss: 0.1787 - val_mae: 0.1569 - val_root_mean_squared_error: 0.1810 - lr: 0.0120\n",
            "Epoch 3/500\n",
            "60/61 [============================>.] - ETA: 0s - loss: 0.2175 - mae: 0.1650 - root_mean_squared_error: 0.2175"
          ]
        },
        {
          "name": "stderr",
          "output_type": "stream",
          "text": [
            "WARNING:absl:Found untraced functions such as residual_block_0_layer_call_fn, residual_block_0_layer_call_and_return_conditional_losses, residual_block_1_layer_call_fn, residual_block_1_layer_call_and_return_conditional_losses, residual_block_2_layer_call_fn while saving (showing 5 of 257). These functions will not be directly callable after loading.\n",
            "\u001b[34m\u001b[1mwandb\u001b[0m: Adding directory to artifact (/content/wandb/run-20230124_131449-zr8sv60b/files/model-best)... Done. 0.0s\n"
          ]
        },
        {
          "name": "stdout",
          "output_type": "stream",
          "text": [
            "\b\b\b\b\b\b\b\b\b\b\b\b\b\b\b\b\b\b\b\b\b\b\b\b\b\b\b\b\b\b\b\b\b\b\b\b\b\b\b\b\b\b\b\b\b\b\b\b\b\b\b\b\b\b\b\b\b\b\b\b\b\b\b\b\b\b\b\b\b\b\b\b\b\b\b\b\b\b\b\b\b\b\b\b\b\b\b\b\b\b\b\b\b\b\b\b\b\b\b\b\b\b\b\b\b\b\b\b\b\b\b\r61/61 [==============================] - 14s 237ms/step - loss: 0.2176 - mae: 0.1651 - root_mean_squared_error: 0.2176 - val_loss: 0.1781 - val_mae: 0.1563 - val_root_mean_squared_error: 0.1803 - lr: 0.0120\n",
            "Epoch 4/500\n",
            "60/61 [============================>.] - ETA: 0s - loss: 0.2174 - mae: 0.1650 - root_mean_squared_error: 0.2174"
          ]
        },
        {
          "name": "stderr",
          "output_type": "stream",
          "text": [
            "WARNING:absl:Found untraced functions such as residual_block_0_layer_call_fn, residual_block_0_layer_call_and_return_conditional_losses, residual_block_1_layer_call_fn, residual_block_1_layer_call_and_return_conditional_losses, residual_block_2_layer_call_fn while saving (showing 5 of 257). These functions will not be directly callable after loading.\n",
            "\u001b[34m\u001b[1mwandb\u001b[0m: Adding directory to artifact (/content/wandb/run-20230124_131449-zr8sv60b/files/model-best)... Done. 0.0s\n"
          ]
        },
        {
          "name": "stdout",
          "output_type": "stream",
          "text": [
            "\b\b\b\b\b\b\b\b\b\b\b\b\b\b\b\b\b\b\b\b\b\b\b\b\b\b\b\b\b\b\b\b\b\b\b\b\b\b\b\b\b\b\b\b\b\b\b\b\b\b\b\b\b\b\b\b\b\b\b\b\b\b\b\b\b\b\b\b\b\b\b\b\b\b\b\b\b\b\b\b\b\b\b\b\b\b\b\b\b\b\b\b\b\b\b\b\b\b\b\b\b\b\b\b\b\b\b\b\b\b\b\r61/61 [==============================] - 15s 241ms/step - loss: 0.2173 - mae: 0.1649 - root_mean_squared_error: 0.2173 - val_loss: 0.1770 - val_mae: 0.1551 - val_root_mean_squared_error: 0.1792 - lr: 0.0120\n",
            "Epoch 5/500\n",
            "60/61 [============================>.] - ETA: 0s - loss: 0.2175 - mae: 0.1653 - root_mean_squared_error: 0.2175"
          ]
        },
        {
          "name": "stderr",
          "output_type": "stream",
          "text": [
            "WARNING:absl:Found untraced functions such as residual_block_0_layer_call_fn, residual_block_0_layer_call_and_return_conditional_losses, residual_block_1_layer_call_fn, residual_block_1_layer_call_and_return_conditional_losses, residual_block_2_layer_call_fn while saving (showing 5 of 257). These functions will not be directly callable after loading.\n",
            "\u001b[34m\u001b[1mwandb\u001b[0m: Adding directory to artifact (/content/wandb/run-20230124_131449-zr8sv60b/files/model-best)... Done. 0.0s\n"
          ]
        },
        {
          "name": "stdout",
          "output_type": "stream",
          "text": [
            "\b\b\b\b\b\b\b\b\b\b\b\b\b\b\b\b\b\b\b\b\b\b\b\b\b\b\b\b\b\b\b\b\b\b\b\b\b\b\b\b\b\b\b\b\b\b\b\b\b\b\b\b\b\b\b\b\b\b\b\b\b\b\b\b\b\b\b\b\b\b\b\b\b\b\b\b\b\b\b\b\b\b\b\b\b\b\b\b\b\b\b\b\b\b\b\b\b\b\b\b\b\b\b\b\b\b\b\b\b\b\b\r61/61 [==============================] - 14s 234ms/step - loss: 0.2174 - mae: 0.1652 - root_mean_squared_error: 0.2173 - val_loss: 0.1764 - val_mae: 0.1544 - val_root_mean_squared_error: 0.1785 - lr: 0.0120\n",
            "Epoch 6/500\n",
            "61/61 [==============================] - ETA: 0s - loss: 0.2175 - mae: 0.1649 - root_mean_squared_error: 0.2174"
          ]
        },
        {
          "name": "stderr",
          "output_type": "stream",
          "text": [
            "WARNING:absl:Found untraced functions such as residual_block_0_layer_call_fn, residual_block_0_layer_call_and_return_conditional_losses, residual_block_1_layer_call_fn, residual_block_1_layer_call_and_return_conditional_losses, residual_block_2_layer_call_fn while saving (showing 5 of 257). These functions will not be directly callable after loading.\n",
            "\u001b[34m\u001b[1mwandb\u001b[0m: Adding directory to artifact (/content/wandb/run-20230124_131449-zr8sv60b/files/model-best)... Done. 0.0s\n"
          ]
        },
        {
          "name": "stdout",
          "output_type": "stream",
          "text": [
            "\b\b\b\b\b\b\b\b\b\b\b\b\b\b\b\b\b\b\b\b\b\b\b\b\b\b\b\b\b\b\b\b\b\b\b\b\b\b\b\b\b\b\b\b\b\b\b\b\b\b\b\b\b\b\b\b\b\b\b\b\b\b\b\b\b\b\b\b\b\b\b\b\b\b\b\b\b\b\b\b\b\b\b\b\b\b\b\b\b\b\b\b\b\b\b\b\b\b\b\b\b\b\b\b\b\b\b\b\b\b\b\r61/61 [==============================] - 14s 235ms/step - loss: 0.2175 - mae: 0.1649 - root_mean_squared_error: 0.2174 - val_loss: 0.1757 - val_mae: 0.1538 - val_root_mean_squared_error: 0.1779 - lr: 0.0120\n",
            "Epoch 7/500\n",
            "61/61 [==============================] - 4s 63ms/step - loss: 0.2171 - mae: 0.1648 - root_mean_squared_error: 0.2171 - val_loss: 0.1782 - val_mae: 0.1564 - val_root_mean_squared_error: 0.1804 - lr: 0.0120\n",
            "Epoch 8/500\n",
            "61/61 [==============================] - 4s 61ms/step - loss: 0.2170 - mae: 0.1648 - root_mean_squared_error: 0.2170 - val_loss: 0.1794 - val_mae: 0.1576 - val_root_mean_squared_error: 0.1816 - lr: 0.0120\n",
            "Epoch 9/500\n",
            "61/61 [==============================] - 4s 62ms/step - loss: 0.2169 - mae: 0.1649 - root_mean_squared_error: 0.2169 - val_loss: 0.1782 - val_mae: 0.1564 - val_root_mean_squared_error: 0.1804 - lr: 0.0120\n",
            "Epoch 10/500\n",
            "60/61 [============================>.] - ETA: 0s - loss: 0.2170 - mae: 0.1650 - root_mean_squared_error: 0.2170"
          ]
        },
        {
          "name": "stderr",
          "output_type": "stream",
          "text": [
            "WARNING:absl:Found untraced functions such as residual_block_0_layer_call_fn, residual_block_0_layer_call_and_return_conditional_losses, residual_block_1_layer_call_fn, residual_block_1_layer_call_and_return_conditional_losses, residual_block_2_layer_call_fn while saving (showing 5 of 257). These functions will not be directly callable after loading.\n",
            "\u001b[34m\u001b[1mwandb\u001b[0m: Adding directory to artifact (/content/wandb/run-20230124_131449-zr8sv60b/files/model-best)... Done. 0.0s\n"
          ]
        },
        {
          "name": "stdout",
          "output_type": "stream",
          "text": [
            "\b\b\b\b\b\b\b\b\b\b\b\b\b\b\b\b\b\b\b\b\b\b\b\b\b\b\b\b\b\b\b\b\b\b\b\b\b\b\b\b\b\b\b\b\b\b\b\b\b\b\b\b\b\b\b\b\b\b\b\b\b\b\b\b\b\b\b\b\b\b\b\b\b\b\b\b\b\b\b\b\b\b\b\b\b\b\b\b\b\b\b\b\b\b\b\b\b\b\b\b\b\b\b\b\b\b\b\b\b\b\b\r61/61 [==============================] - 14s 230ms/step - loss: 0.2169 - mae: 0.1649 - root_mean_squared_error: 0.2168 - val_loss: 0.1754 - val_mae: 0.1534 - val_root_mean_squared_error: 0.1776 - lr: 0.0120\n",
            "Epoch 11/500\n",
            "61/61 [==============================] - 4s 62ms/step - loss: 0.2169 - mae: 0.1646 - root_mean_squared_error: 0.2169 - val_loss: 0.1787 - val_mae: 0.1569 - val_root_mean_squared_error: 0.1809 - lr: 0.0120\n",
            "Epoch 12/500\n",
            "61/61 [==============================] - 4s 61ms/step - loss: 0.2168 - mae: 0.1647 - root_mean_squared_error: 0.2168 - val_loss: 0.1823 - val_mae: 0.1607 - val_root_mean_squared_error: 0.1846 - lr: 0.0120\n",
            "Epoch 13/500\n",
            "61/61 [==============================] - 4s 61ms/step - loss: 0.2168 - mae: 0.1648 - root_mean_squared_error: 0.2168 - val_loss: 0.1825 - val_mae: 0.1610 - val_root_mean_squared_error: 0.1848 - lr: 0.0120\n",
            "Epoch 14/500\n",
            "61/61 [==============================] - 4s 61ms/step - loss: 0.2169 - mae: 0.1649 - root_mean_squared_error: 0.2169 - val_loss: 0.1763 - val_mae: 0.1543 - val_root_mean_squared_error: 0.1785 - lr: 0.0120\n",
            "Epoch 15/500\n",
            "61/61 [==============================] - 4s 62ms/step - loss: 0.2169 - mae: 0.1647 - root_mean_squared_error: 0.2168 - val_loss: 0.1774 - val_mae: 0.1555 - val_root_mean_squared_error: 0.1796 - lr: 0.0120\n",
            "Epoch 16/500\n",
            "61/61 [==============================] - 4s 61ms/step - loss: 0.2168 - mae: 0.1647 - root_mean_squared_error: 0.2168 - val_loss: 0.1812 - val_mae: 0.1596 - val_root_mean_squared_error: 0.1835 - lr: 0.0120\n",
            "Epoch 17/500\n",
            "61/61 [==============================] - 4s 61ms/step - loss: 0.2169 - mae: 0.1649 - root_mean_squared_error: 0.2169 - val_loss: 0.1770 - val_mae: 0.1551 - val_root_mean_squared_error: 0.1792 - lr: 0.0120\n",
            "Epoch 18/500\n",
            "60/61 [============================>.] - ETA: 0s - loss: 0.2168 - mae: 0.1647 - root_mean_squared_error: 0.2168"
          ]
        },
        {
          "name": "stderr",
          "output_type": "stream",
          "text": [
            "WARNING:absl:Found untraced functions such as residual_block_0_layer_call_fn, residual_block_0_layer_call_and_return_conditional_losses, residual_block_1_layer_call_fn, residual_block_1_layer_call_and_return_conditional_losses, residual_block_2_layer_call_fn while saving (showing 5 of 257). These functions will not be directly callable after loading.\n",
            "\u001b[34m\u001b[1mwandb\u001b[0m: Adding directory to artifact (/content/wandb/run-20230124_131449-zr8sv60b/files/model-best)... Done. 0.0s\n"
          ]
        },
        {
          "name": "stdout",
          "output_type": "stream",
          "text": [
            "\b\b\b\b\b\b\b\b\b\b\b\b\b\b\b\b\b\b\b\b\b\b\b\b\b\b\b\b\b\b\b\b\b\b\b\b\b\b\b\b\b\b\b\b\b\b\b\b\b\b\b\b\b\b\b\b\b\b\b\b\b\b\b\b\b\b\b\b\b\b\b\b\b\b\b\b\b\b\b\b\b\b\b\b\b\b\b\b\b\b\b\b\b\b\b\b\b\b\b\b\b\b\b\b\b\b\b\b\b\b\b\r61/61 [==============================] - 14s 225ms/step - loss: 0.2167 - mae: 0.1646 - root_mean_squared_error: 0.2167 - val_loss: 0.1728 - val_mae: 0.1506 - val_root_mean_squared_error: 0.1749 - lr: 0.0120\n",
            "Epoch 19/500\n",
            "61/61 [==============================] - 4s 62ms/step - loss: 0.2168 - mae: 0.1648 - root_mean_squared_error: 0.2168 - val_loss: 0.1787 - val_mae: 0.1569 - val_root_mean_squared_error: 0.1809 - lr: 0.0120\n",
            "Epoch 20/500\n",
            "61/61 [==============================] - 4s 60ms/step - loss: 0.2169 - mae: 0.1647 - root_mean_squared_error: 0.2168 - val_loss: 0.1784 - val_mae: 0.1566 - val_root_mean_squared_error: 0.1806 - lr: 0.0120\n",
            "Epoch 21/500\n",
            "61/61 [==============================] - 4s 60ms/step - loss: 0.2169 - mae: 0.1647 - root_mean_squared_error: 0.2169 - val_loss: 0.1799 - val_mae: 0.1582 - val_root_mean_squared_error: 0.1822 - lr: 0.0120\n",
            "Epoch 22/500\n",
            "61/61 [==============================] - 4s 60ms/step - loss: 0.2167 - mae: 0.1647 - root_mean_squared_error: 0.2167 - val_loss: 0.1773 - val_mae: 0.1555 - val_root_mean_squared_error: 0.1795 - lr: 0.0120\n",
            "Epoch 23/500\n",
            "61/61 [==============================] - 4s 61ms/step - loss: 0.2169 - mae: 0.1647 - root_mean_squared_error: 0.2169 - val_loss: 0.1763 - val_mae: 0.1543 - val_root_mean_squared_error: 0.1785 - lr: 0.0120\n",
            "Epoch 24/500\n",
            "61/61 [==============================] - 4s 60ms/step - loss: 0.2168 - mae: 0.1648 - root_mean_squared_error: 0.2168 - val_loss: 0.1764 - val_mae: 0.1545 - val_root_mean_squared_error: 0.1786 - lr: 0.0120\n",
            "Epoch 25/500\n",
            "61/61 [==============================] - 4s 61ms/step - loss: 0.2169 - mae: 0.1647 - root_mean_squared_error: 0.2168 - val_loss: 0.1798 - val_mae: 0.1581 - val_root_mean_squared_error: 0.1820 - lr: 0.0120\n",
            "Epoch 26/500\n",
            "61/61 [==============================] - 4s 61ms/step - loss: 0.2167 - mae: 0.1647 - root_mean_squared_error: 0.2167 - val_loss: 0.1745 - val_mae: 0.1525 - val_root_mean_squared_error: 0.1767 - lr: 0.0120\n",
            "Epoch 27/500\n",
            "61/61 [==============================] - 4s 60ms/step - loss: 0.2168 - mae: 0.1647 - root_mean_squared_error: 0.2167 - val_loss: 0.1770 - val_mae: 0.1551 - val_root_mean_squared_error: 0.1792 - lr: 0.0120\n",
            "Epoch 28/500\n",
            "61/61 [==============================] - 4s 60ms/step - loss: 0.2168 - mae: 0.1646 - root_mean_squared_error: 0.2169 - val_loss: 0.1798 - val_mae: 0.1580 - val_root_mean_squared_error: 0.1820 - lr: 0.0120\n",
            "Epoch 29/500\n",
            "61/61 [==============================] - 4s 61ms/step - loss: 0.2168 - mae: 0.1650 - root_mean_squared_error: 0.2168 - val_loss: 0.1772 - val_mae: 0.1553 - val_root_mean_squared_error: 0.1794 - lr: 0.0012\n",
            "Epoch 30/500\n",
            "61/61 [==============================] - 4s 61ms/step - loss: 0.2166 - mae: 0.1643 - root_mean_squared_error: 0.2165 - val_loss: 0.1794 - val_mae: 0.1577 - val_root_mean_squared_error: 0.1817 - lr: 0.0012\n",
            "Epoch 31/500\n",
            "61/61 [==============================] - 4s 60ms/step - loss: 0.2167 - mae: 0.1646 - root_mean_squared_error: 0.2167 - val_loss: 0.1778 - val_mae: 0.1560 - val_root_mean_squared_error: 0.1800 - lr: 0.0012\n",
            "Epoch 32/500\n",
            "61/61 [==============================] - 4s 61ms/step - loss: 0.2166 - mae: 0.1648 - root_mean_squared_error: 0.2166 - val_loss: 0.1772 - val_mae: 0.1553 - val_root_mean_squared_error: 0.1794 - lr: 0.0012\n",
            "Epoch 33/500\n",
            "61/61 [==============================] - 4s 61ms/step - loss: 0.2165 - mae: 0.1644 - root_mean_squared_error: 0.2165 - val_loss: 0.1782 - val_mae: 0.1564 - val_root_mean_squared_error: 0.1804 - lr: 0.0012\n"
          ]
        },
        {
          "data": {
            "text/html": [
              "Waiting for W&B process to finish... <strong style=\"color:green\">(success).</strong>"
            ],
            "text/plain": [
              "<IPython.core.display.HTML object>"
            ]
          },
          "metadata": {},
          "output_type": "display_data"
        },
        {
          "data": {
            "application/vnd.jupyter.widget-view+json": {
              "model_id": "b689256f639e420783a1eb8eb9c0f740",
              "version_major": 2,
              "version_minor": 0
            },
            "text/plain": [
              "VBox(children=(Label(value='23.239 MB of 23.239 MB uploaded (0.698 MB deduped)\\r'), FloatProgress(value=1.0, m…"
            ]
          },
          "metadata": {},
          "output_type": "display_data"
        },
        {
          "data": {
            "text/html": [
              "<style>\n",
              "    table.wandb td:nth-child(1) { padding: 0 10px; text-align: left ; width: auto;} td:nth-child(2) {text-align: left ; width: 100%}\n",
              "    .wandb-row { display: flex; flex-direction: row; flex-wrap: wrap; justify-content: flex-start; width: 100% }\n",
              "    .wandb-col { display: flex; flex-direction: column; flex-basis: 100%; flex: 1; padding: 10px; }\n",
              "    </style>\n",
              "<div class=\"wandb-row\"><div class=\"wandb-col\"><h3>Run history:</h3><br/><table class=\"wandb\"><tr><td>epoch</td><td>▁▁▁▂▂▂▂▃▃▃▃▃▄▄▄▄▅▅▅▅▅▆▆▆▆▆▇▇▇▇███</td></tr><tr><td>loss</td><td>█▁▁▁▁▁▁▁▁▁▁▁▁▁▁▁▁▁▁▁▁▁▁▁▁▁▁▁▁▁▁▁▁</td></tr><tr><td>mae</td><td>█▁▁▁▁▁▁▁▁▁▁▁▁▁▁▁▁▁▁▁▁▁▁▁▁▁▁▁▁▁▁▁▁</td></tr><tr><td>root_mean_squared_error</td><td>█▁▁▁▁▁▁▁▁▁▁▁▁▁▁▁▁▁▁▁▁▁▁▁▁▁▁▁▁▁▁▁▁</td></tr><tr><td>val_loss</td><td>█▂▂▂▂▂▂▂▂▁▂▃▃▂▂▃▂▁▂▂▂▂▂▂▂▁▂▂▂▂▂▂▂</td></tr><tr><td>val_mae</td><td>█▂▂▂▂▂▂▂▂▁▂▃▃▂▂▃▂▁▂▂▂▂▂▂▂▁▂▂▂▂▂▂▂</td></tr><tr><td>val_root_mean_squared_error</td><td>█▂▂▂▂▂▂▂▂▁▂▃▃▂▂▃▂▁▂▂▂▂▂▂▂▁▂▂▂▂▂▂▂</td></tr></table><br/></div><div class=\"wandb-col\"><h3>Run summary:</h3><br/><table class=\"wandb\"><tr><td>best_epoch</td><td>17</td></tr><tr><td>best_val_loss</td><td>0.17278</td></tr><tr><td>epoch</td><td>32</td></tr><tr><td>loss</td><td>0.2165</td></tr><tr><td>mae</td><td>0.16437</td></tr><tr><td>root_mean_squared_error</td><td>0.21646</td></tr><tr><td>val_loss</td><td>0.17823</td></tr><tr><td>val_mae</td><td>0.15641</td></tr><tr><td>val_root_mean_squared_error</td><td>0.18044</td></tr></table><br/></div></div>"
            ],
            "text/plain": [
              "<IPython.core.display.HTML object>"
            ]
          },
          "metadata": {},
          "output_type": "display_data"
        },
        {
          "data": {
            "text/html": [
              " View run <strong style=\"color:#cdcd00\">devoted-sweep-20</strong> at: <a href=\"https://wandb.ai/dsp_aguro/aguro_tcn/runs/zr8sv60b\" target=\"_blank\">https://wandb.ai/dsp_aguro/aguro_tcn/runs/zr8sv60b</a><br/>Synced 5 W&B file(s), 1 media file(s), 32 artifact file(s) and 1 other file(s)"
            ],
            "text/plain": [
              "<IPython.core.display.HTML object>"
            ]
          },
          "metadata": {},
          "output_type": "display_data"
        },
        {
          "data": {
            "text/html": [
              "Find logs at: <code>./wandb/run-20230124_131449-zr8sv60b/logs</code>"
            ],
            "text/plain": [
              "<IPython.core.display.HTML object>"
            ]
          },
          "metadata": {},
          "output_type": "display_data"
        },
        {
          "name": "stderr",
          "output_type": "stream",
          "text": [
            "\u001b[34m\u001b[1mwandb\u001b[0m: Agent Starting Run: y7fx7bny with config:\n",
            "\u001b[34m\u001b[1mwandb\u001b[0m: \tbatch_size: 512\n",
            "\u001b[34m\u001b[1mwandb\u001b[0m: \tdropout_rate: 0.5\n",
            "\u001b[34m\u001b[1mwandb\u001b[0m: \tepochs: 500\n",
            "\u001b[34m\u001b[1mwandb\u001b[0m: \tkernel_size: 12\n",
            "\u001b[34m\u001b[1mwandb\u001b[0m: \tlr: 0.07373930325715414\n",
            "\u001b[34m\u001b[1mwandb\u001b[0m: \tnb_filters: 64\n",
            "\u001b[34m\u001b[1mwandb\u001b[0m: \toptimizer: adam\n",
            "Failed to detect the name of this notebook, you can set it manually with the WANDB_NOTEBOOK_NAME environment variable to enable code saving.\n"
          ]
        },
        {
          "data": {
            "text/html": [
              "Tracking run with wandb version 0.13.9"
            ],
            "text/plain": [
              "<IPython.core.display.HTML object>"
            ]
          },
          "metadata": {},
          "output_type": "display_data"
        },
        {
          "data": {
            "text/html": [
              "Run data is saved locally in <code>/content/wandb/run-20230124_131922-y7fx7bny</code>"
            ],
            "text/plain": [
              "<IPython.core.display.HTML object>"
            ]
          },
          "metadata": {},
          "output_type": "display_data"
        },
        {
          "data": {
            "text/html": [
              "Syncing run <strong><a href=\"https://wandb.ai/dsp_aguro/aguro_tcn/runs/y7fx7bny\" target=\"_blank\">major-sweep-21</a></strong> to <a href=\"https://wandb.ai/dsp_aguro/aguro_tcn\" target=\"_blank\">Weights & Biases</a> (<a href=\"https://wandb.me/run\" target=\"_blank\">docs</a>)<br/>Sweep page: <a href=\"https://wandb.ai/dsp_aguro/aguro_tcn/sweeps/9vw7gd6y\" target=\"_blank\">https://wandb.ai/dsp_aguro/aguro_tcn/sweeps/9vw7gd6y</a>"
            ],
            "text/plain": [
              "<IPython.core.display.HTML object>"
            ]
          },
          "metadata": {},
          "output_type": "display_data"
        },
        {
          "data": {
            "text/html": [
              " View project at <a href=\"https://wandb.ai/dsp_aguro/aguro_tcn\" target=\"_blank\">https://wandb.ai/dsp_aguro/aguro_tcn</a>"
            ],
            "text/plain": [
              "<IPython.core.display.HTML object>"
            ]
          },
          "metadata": {},
          "output_type": "display_data"
        },
        {
          "data": {
            "text/html": [
              " View sweep at <a href=\"https://wandb.ai/dsp_aguro/aguro_tcn/sweeps/9vw7gd6y\" target=\"_blank\">https://wandb.ai/dsp_aguro/aguro_tcn/sweeps/9vw7gd6y</a>"
            ],
            "text/plain": [
              "<IPython.core.display.HTML object>"
            ]
          },
          "metadata": {},
          "output_type": "display_data"
        },
        {
          "data": {
            "text/html": [
              " View run at <a href=\"https://wandb.ai/dsp_aguro/aguro_tcn/runs/y7fx7bny\" target=\"_blank\">https://wandb.ai/dsp_aguro/aguro_tcn/runs/y7fx7bny</a>"
            ],
            "text/plain": [
              "<IPython.core.display.HTML object>"
            ]
          },
          "metadata": {},
          "output_type": "display_data"
        },
        {
          "name": "stdout",
          "output_type": "stream",
          "text": [
            "Epoch 1/500\n",
            " 6/61 [=>............................] - ETA: 12s - loss: 1717.9176 - mae: 1034.6249 - root_mean_squared_error: 1717.9176"
          ]
        },
        {
          "name": "stderr",
          "output_type": "stream",
          "text": [
            "WARNING:tensorflow:Callback method `on_train_batch_end` is slow compared to the batch time (batch time: 0.0589s vs `on_train_batch_end` time: 0.1330s). Check your callbacks.\n"
          ]
        },
        {
          "name": "stdout",
          "output_type": "stream",
          "text": [
            "61/61 [==============================] - ETA: 0s - loss: 169.8929 - mae: 102.3423 - root_mean_squared_error: 169.2194"
          ]
        },
        {
          "name": "stderr",
          "output_type": "stream",
          "text": [
            "WARNING:absl:Found untraced functions such as residual_block_0_layer_call_fn, residual_block_0_layer_call_and_return_conditional_losses, residual_block_1_layer_call_fn, residual_block_1_layer_call_and_return_conditional_losses, residual_block_2_layer_call_fn while saving (showing 5 of 257). These functions will not be directly callable after loading.\n",
            "\u001b[34m\u001b[1mwandb\u001b[0m: Adding directory to artifact (/content/wandb/run-20230124_131922-y7fx7bny/files/model-best)... Done. 0.1s\n"
          ]
        },
        {
          "name": "stdout",
          "output_type": "stream",
          "text": [
            "\b\b\b\b\b\b\b\b\b\b\b\b\b\b\b\b\b\b\b\b\b\b\b\b\b\b\b\b\b\b\b\b\b\b\b\b\b\b\b\b\b\b\b\b\b\b\b\b\b\b\b\b\b\b\b\b\b\b\b\b\b\b\b\b\b\b\b\b\b\b\b\b\b\b\b\b\b\b\b\b\b\b\b\b\b\b\b\b\b\b\b\b\b\b\b\b\b\b\b\b\b\b\b\b\b\b\b\b\b\b\b\b\b\b\b\b\b\r61/61 [==============================] - 32s 438ms/step - loss: 169.8929 - mae: 102.3423 - root_mean_squared_error: 169.2194 - val_loss: 0.1758 - val_mae: 0.1534 - val_root_mean_squared_error: 0.1779 - lr: 0.0737\n",
            "Epoch 2/500\n",
            "61/61 [==============================] - 14s 234ms/step - loss: 0.4446 - mae: 0.1779 - root_mean_squared_error: 0.4437 - val_loss: 0.1779 - val_mae: 0.1560 - val_root_mean_squared_error: 0.1801 - lr: 0.0737\n",
            "Epoch 3/500\n",
            "61/61 [==============================] - ETA: 0s - loss: 0.3120 - mae: 0.1718 - root_mean_squared_error: 0.3116"
          ]
        },
        {
          "name": "stderr",
          "output_type": "stream",
          "text": [
            "WARNING:absl:Found untraced functions such as residual_block_0_layer_call_fn, residual_block_0_layer_call_and_return_conditional_losses, residual_block_1_layer_call_fn, residual_block_1_layer_call_and_return_conditional_losses, residual_block_2_layer_call_fn while saving (showing 5 of 257). These functions will not be directly callable after loading.\n",
            "\u001b[34m\u001b[1mwandb\u001b[0m: Adding directory to artifact (/content/wandb/run-20230124_131922-y7fx7bny/files/model-best)... Done. 0.1s\n"
          ]
        },
        {
          "name": "stdout",
          "output_type": "stream",
          "text": [
            "\b\b\b\b\b\b\b\b\b\b\b\b\b\b\b\b\b\b\b\b\b\b\b\b\b\b\b\b\b\b\b\b\b\b\b\b\b\b\b\b\b\b\b\b\b\b\b\b\b\b\b\b\b\b\b\b\b\b\b\b\b\b\b\b\b\b\b\b\b\b\b\b\b\b\b\b\b\b\b\b\b\b\b\b\b\b\b\b\b\b\b\b\b\b\b\b\b\b\b\b\b\b\b\b\b\b\b\b\b\b\b\r61/61 [==============================] - 25s 411ms/step - loss: 0.3120 - mae: 0.1718 - root_mean_squared_error: 0.3116 - val_loss: 0.1744 - val_mae: 0.1521 - val_root_mean_squared_error: 0.1765 - lr: 0.0737\n",
            "Epoch 4/500\n",
            "61/61 [==============================] - ETA: 0s - loss: 0.2405 - mae: 0.1670 - root_mean_squared_error: 0.2404"
          ]
        },
        {
          "name": "stderr",
          "output_type": "stream",
          "text": [
            "WARNING:absl:Found untraced functions such as residual_block_0_layer_call_fn, residual_block_0_layer_call_and_return_conditional_losses, residual_block_1_layer_call_fn, residual_block_1_layer_call_and_return_conditional_losses, residual_block_2_layer_call_fn while saving (showing 5 of 257). These functions will not be directly callable after loading.\n",
            "\u001b[34m\u001b[1mwandb\u001b[0m: Adding directory to artifact (/content/wandb/run-20230124_131922-y7fx7bny/files/model-best)... Done. 0.1s\n"
          ]
        },
        {
          "name": "stdout",
          "output_type": "stream",
          "text": [
            "\b\b\b\b\b\b\b\b\b\b\b\b\b\b\b\b\b\b\b\b\b\b\b\b\b\b\b\b\b\b\b\b\b\b\b\b\b\b\b\b\b\b\b\b\b\b\b\b\b\b\b\b\b\b\b\b\b\b\b\b\b\b\b\b\b\b\b\b\b\b\b\b\b\b\b\b\b\b\b\b\b\b\b\b\b\b\b\b\b\b\b\b\b\b\b\b\b\b\b\b\b\b\b\b\b\b\b\b\b\b\b\r61/61 [==============================] - 24s 403ms/step - loss: 0.2405 - mae: 0.1670 - root_mean_squared_error: 0.2404 - val_loss: 0.1733 - val_mae: 0.1510 - val_root_mean_squared_error: 0.1754 - lr: 0.0737\n",
            "Epoch 5/500\n",
            "61/61 [==============================] - 14s 235ms/step - loss: 0.3198 - mae: 0.1709 - root_mean_squared_error: 0.3247 - val_loss: 0.1921 - val_mae: 0.1707 - val_root_mean_squared_error: 0.1945 - lr: 0.0737\n",
            "Epoch 6/500\n",
            "61/61 [==============================] - 14s 235ms/step - loss: 0.7310 - mae: 0.1930 - root_mean_squared_error: 0.7291 - val_loss: 0.1893 - val_mae: 0.1679 - val_root_mean_squared_error: 0.1916 - lr: 0.0737\n",
            "Epoch 7/500\n",
            "61/61 [==============================] - 14s 235ms/step - loss: 0.3541 - mae: 0.1754 - root_mean_squared_error: 0.3535 - val_loss: 0.1838 - val_mae: 0.1623 - val_root_mean_squared_error: 0.1861 - lr: 0.0737\n",
            "Epoch 8/500\n",
            "61/61 [==============================] - ETA: 0s - loss: 0.3122 - mae: 0.1709 - root_mean_squared_error: 0.3121"
          ]
        },
        {
          "name": "stderr",
          "output_type": "stream",
          "text": [
            "WARNING:absl:Found untraced functions such as residual_block_0_layer_call_fn, residual_block_0_layer_call_and_return_conditional_losses, residual_block_1_layer_call_fn, residual_block_1_layer_call_and_return_conditional_losses, residual_block_2_layer_call_fn while saving (showing 5 of 257). These functions will not be directly callable after loading.\n",
            "\u001b[34m\u001b[1mwandb\u001b[0m: Adding directory to artifact (/content/wandb/run-20230124_131922-y7fx7bny/files/model-best)... Done. 0.1s\n"
          ]
        },
        {
          "name": "stdout",
          "output_type": "stream",
          "text": [
            "\b\b\b\b\b\b\b\b\b\b\b\b\b\b\b\b\b\b\b\b\b\b\b\b\b\b\b\b\b\b\b\b\b\b\b\b\b\b\b\b\b\b\b\b\b\b\b\b\b\b\b\b\b\b\b\b\b\b\b\b\b\b\b\b\b\b\b\b\b\b\b\b\b\b\b\b\b\b\b\b\b\b\b\b\b\b\b\b\b\b\b\b\b\b\b\b\b\b\b\b\b\b\b\b\b\b\b\b\b\b\b\r61/61 [==============================] - 24s 401ms/step - loss: 0.3122 - mae: 0.1709 - root_mean_squared_error: 0.3121 - val_loss: 0.1670 - val_mae: 0.1441 - val_root_mean_squared_error: 0.1690 - lr: 0.0737\n",
            "Epoch 9/500\n",
            "61/61 [==============================] - 14s 233ms/step - loss: 2.1209 - mae: 0.2506 - root_mean_squared_error: 2.1248 - val_loss: 0.1886 - val_mae: 0.1648 - val_root_mean_squared_error: 0.1909 - lr: 0.0737\n",
            "Epoch 10/500\n",
            "61/61 [==============================] - 14s 235ms/step - loss: 32.2961 - mae: 2.4087 - root_mean_squared_error: 32.1689 - val_loss: 0.1856 - val_mae: 0.1613 - val_root_mean_squared_error: 0.1878 - lr: 0.0737\n",
            "Epoch 11/500\n",
            "61/61 [==============================] - 14s 236ms/step - loss: 2984.1199 - mae: 150.8164 - root_mean_squared_error: 2972.3406 - val_loss: 0.1904 - val_mae: 0.1625 - val_root_mean_squared_error: 0.1926 - lr: 0.0737\n",
            "Epoch 12/500\n",
            "61/61 [==============================] - 14s 235ms/step - loss: 77423.6094 - mae: 3449.1472 - root_mean_squared_error: 77116.2109 - val_loss: 0.2109 - val_mae: 0.1808 - val_root_mean_squared_error: 0.2132 - lr: 0.0737\n",
            "Epoch 13/500\n",
            "61/61 [==============================] - 14s 235ms/step - loss: 1979469.6250 - mae: 81128.1875 - root_mean_squared_error: 1971610.6250 - val_loss: 0.1773 - val_mae: 0.1543 - val_root_mean_squared_error: 0.1794 - lr: 0.0737\n",
            "Epoch 14/500\n",
            "61/61 [==============================] - 14s 234ms/step - loss: 8245780.5000 - mae: 359217.8438 - root_mean_squared_error: 8213042.5000 - val_loss: 0.1733 - val_mae: 0.1502 - val_root_mean_squared_error: 0.1754 - lr: 0.0737\n",
            "Epoch 15/500\n",
            "61/61 [==============================] - ETA: 0s - loss: 44225200.0000 - mae: 1635044.2500 - root_mean_squared_error: 44049612.0000"
          ]
        },
        {
          "name": "stderr",
          "output_type": "stream",
          "text": [
            "WARNING:absl:Found untraced functions such as residual_block_0_layer_call_fn, residual_block_0_layer_call_and_return_conditional_losses, residual_block_1_layer_call_fn, residual_block_1_layer_call_and_return_conditional_losses, residual_block_2_layer_call_fn while saving (showing 5 of 257). These functions will not be directly callable after loading.\n",
            "\u001b[34m\u001b[1mwandb\u001b[0m: Adding directory to artifact (/content/wandb/run-20230124_131922-y7fx7bny/files/model-best)... Done. 0.1s\n"
          ]
        },
        {
          "name": "stdout",
          "output_type": "stream",
          "text": [
            "\b\b\b\b\b\b\b\b\b\b\b\b\b\b\b\b\b\b\b\b\b\b\b\b\b\b\b\b\b\b\b\b\b\b\b\b\b\b\b\b\b\b\b\b\b\b\b\b\b\b\b\b\b\b\b\b\b\b\b\b\b\b\b\b\b\b\b\b\b\b\b\b\b\b\b\b\b\b\b\b\b\b\b\b\b\b\b\b\b\b\b\b\b\b\b\b\b\b\b\b\b\b\b\b\b\b\b\b\b\b\b\b\b\b\b\b\b\b\b\b\b\b\b\b\b\b\b\b\b\b\b\r61/61 [==============================] - 25s 405ms/step - loss: 44225200.0000 - mae: 1635044.2500 - root_mean_squared_error: 44049612.0000 - val_loss: 0.1643 - val_mae: 0.1410 - val_root_mean_squared_error: 0.1662 - lr: 0.0737\n",
            "Epoch 16/500\n",
            "61/61 [==============================] - 14s 235ms/step - loss: 5640783360.0000 - mae: 230208912.0000 - root_mean_squared_error: 5618388480.0000 - val_loss: 0.1949 - val_mae: 0.1735 - val_root_mean_squared_error: 0.1973 - lr: 0.0737\n",
            "Epoch 17/500\n",
            "61/61 [==============================] - 14s 236ms/step - loss: 62172946432.0000 - mae: 2333552384.0000 - root_mean_squared_error: 61926100992.0000 - val_loss: 0.1768 - val_mae: 0.1546 - val_root_mean_squared_error: 0.1790 - lr: 0.0737\n",
            "Epoch 18/500\n",
            "61/61 [==============================] - 14s 236ms/step - loss: 1388599443456.0000 - mae: 56007229440.0000 - root_mean_squared_error: 1383086292992.0000 - val_loss: 0.1694 - val_mae: 0.1464 - val_root_mean_squared_error: 0.1714 - lr: 0.0737\n",
            "Epoch 19/500\n",
            "61/61 [==============================] - 14s 235ms/step - loss: 79570886656.0000 - mae: 2891429888.0000 - root_mean_squared_error: 79254970368.0000 - val_loss: 0.1737 - val_mae: 0.1512 - val_root_mean_squared_error: 0.1758 - lr: 0.0737\n",
            "Epoch 20/500\n",
            "61/61 [==============================] - 14s 235ms/step - loss: 12188532736.0000 - mae: 278600384.0000 - root_mean_squared_error: 12140141568.0000 - val_loss: 0.1698 - val_mae: 0.1471 - val_root_mean_squared_error: 0.1719 - lr: 0.0737\n",
            "Epoch 21/500\n",
            "61/61 [==============================] - 14s 235ms/step - loss: 65087.1836 - mae: 2392.5657 - root_mean_squared_error: 64828.7695 - val_loss: 0.1684 - val_mae: 0.1452 - val_root_mean_squared_error: 0.1704 - lr: 0.0737\n",
            "Epoch 22/500\n",
            "61/61 [==============================] - 14s 235ms/step - loss: 91387.5938 - mae: 3550.0352 - root_mean_squared_error: 91024.7734 - val_loss: 0.1735 - val_mae: 0.1508 - val_root_mean_squared_error: 0.1756 - lr: 0.0737\n",
            "Epoch 23/500\n",
            "61/61 [==============================] - 14s 236ms/step - loss: 43399984.0000 - mae: 1634661.7500 - root_mean_squared_error: 43227676.0000 - val_loss: 0.1724 - val_mae: 0.1490 - val_root_mean_squared_error: 0.1744 - lr: 0.0737\n",
            "Epoch 24/500\n",
            "61/61 [==============================] - 14s 235ms/step - loss: 228396272.0000 - mae: 6502433.5000 - root_mean_squared_error: 227489472.0000 - val_loss: 0.1700 - val_mae: 0.1461 - val_root_mean_squared_error: 0.1720 - lr: 0.0737\n",
            "Epoch 25/500\n",
            "61/61 [==============================] - 15s 243ms/step - loss: 20635652.0000 - mae: 869305.5625 - root_mean_squared_error: 20553728.0000 - val_loss: 0.1803 - val_mae: 0.1568 - val_root_mean_squared_error: 0.1825 - lr: 0.0737\n",
            "Epoch 26/500\n",
            "61/61 [==============================] - 14s 235ms/step - loss: 38935280.0000 - mae: 1395258.8750 - root_mean_squared_error: 38780700.0000 - val_loss: 0.1826 - val_mae: 0.1610 - val_root_mean_squared_error: 0.1848 - lr: 0.0074\n",
            "Epoch 27/500\n",
            "61/61 [==============================] - 14s 235ms/step - loss: 66067.0156 - mae: 2550.6699 - root_mean_squared_error: 65804.7109 - val_loss: 0.1793 - val_mae: 0.1575 - val_root_mean_squared_error: 0.1815 - lr: 0.0074\n",
            "Epoch 28/500\n",
            "61/61 [==============================] - 14s 235ms/step - loss: 67763.0000 - mae: 2408.3359 - root_mean_squared_error: 70804.8828 - val_loss: 0.1739 - val_mae: 0.1517 - val_root_mean_squared_error: 0.1760 - lr: 0.0074\n",
            "Epoch 29/500\n",
            "61/61 [==============================] - 14s 235ms/step - loss: 66237048.0000 - mae: 2866642.7500 - root_mean_squared_error: 65974068.0000 - val_loss: 0.1735 - val_mae: 0.1513 - val_root_mean_squared_error: 0.1756 - lr: 0.0074\n",
            "Epoch 30/500\n",
            "61/61 [==============================] - 14s 235ms/step - loss: 802444.8750 - mae: 30810.6191 - root_mean_squared_error: 799259.0000 - val_loss: 0.1739 - val_mae: 0.1518 - val_root_mean_squared_error: 0.1761 - lr: 0.0074\n"
          ]
        },
        {
          "data": {
            "text/html": [
              "Waiting for W&B process to finish... <strong style=\"color:green\">(success).</strong>"
            ],
            "text/plain": [
              "<IPython.core.display.HTML object>"
            ]
          },
          "metadata": {},
          "output_type": "display_data"
        },
        {
          "data": {
            "application/vnd.jupyter.widget-view+json": {
              "model_id": "43b24cee615a413a9b3a5aa410db8a54",
              "version_major": 2,
              "version_minor": 0
            },
            "text/plain": [
              "VBox(children=(Label(value='103.463 MB of 103.463 MB uploaded (0.399 MB deduped)\\r'), FloatProgress(value=1.0,…"
            ]
          },
          "metadata": {},
          "output_type": "display_data"
        },
        {
          "data": {
            "text/html": [
              "<style>\n",
              "    table.wandb td:nth-child(1) { padding: 0 10px; text-align: left ; width: auto;} td:nth-child(2) {text-align: left ; width: 100%}\n",
              "    .wandb-row { display: flex; flex-direction: row; flex-wrap: wrap; justify-content: flex-start; width: 100% }\n",
              "    .wandb-col { display: flex; flex-direction: column; flex-basis: 100%; flex: 1; padding: 10px; }\n",
              "    </style>\n",
              "<div class=\"wandb-row\"><div class=\"wandb-col\"><h3>Run history:</h3><br/><table class=\"wandb\"><tr><td>epoch</td><td>▁▁▁▂▂▂▂▃▃▃▃▄▄▄▄▅▅▅▅▆▆▆▆▇▇▇▇███</td></tr><tr><td>loss</td><td>▁▁▁▁▁▁▁▁▁▁▁▁▁▁▁▁▁█▁▁▁▁▁▁▁▁▁▁▁▁</td></tr><tr><td>mae</td><td>▁▁▁▁▁▁▁▁▁▁▁▁▁▁▁▁▁█▁▁▁▁▁▁▁▁▁▁▁▁</td></tr><tr><td>root_mean_squared_error</td><td>▁▁▁▁▁▁▁▁▁▁▁▁▁▁▁▁▁█▁▁▁▁▁▁▁▁▁▁▁▁</td></tr><tr><td>val_loss</td><td>▃▃▃▂▅▅▄▁▅▄▅█▃▂▁▆▃▂▂▂▂▂▂▂▃▄▃▂▂▂</td></tr><tr><td>val_mae</td><td>▃▄▃▃▆▆▅▂▅▅▅█▃▃▁▇▃▂▃▂▂▃▂▂▄▅▄▃▃▃</td></tr><tr><td>val_root_mean_squared_error</td><td>▃▃▃▂▅▅▄▁▅▄▅█▃▂▁▆▃▂▂▂▂▂▂▂▃▄▃▂▂▂</td></tr></table><br/></div><div class=\"wandb-col\"><h3>Run summary:</h3><br/><table class=\"wandb\"><tr><td>best_epoch</td><td>14</td></tr><tr><td>best_val_loss</td><td>0.16432</td></tr><tr><td>epoch</td><td>29</td></tr><tr><td>loss</td><td>802444.875</td></tr><tr><td>mae</td><td>30810.61914</td></tr><tr><td>root_mean_squared_error</td><td>799259.0</td></tr><tr><td>val_loss</td><td>0.17394</td></tr><tr><td>val_mae</td><td>0.15183</td></tr><tr><td>val_root_mean_squared_error</td><td>0.17608</td></tr></table><br/></div></div>"
            ],
            "text/plain": [
              "<IPython.core.display.HTML object>"
            ]
          },
          "metadata": {},
          "output_type": "display_data"
        },
        {
          "data": {
            "text/html": [
              " View run <strong style=\"color:#cdcd00\">major-sweep-21</strong> at: <a href=\"https://wandb.ai/dsp_aguro/aguro_tcn/runs/y7fx7bny\" target=\"_blank\">https://wandb.ai/dsp_aguro/aguro_tcn/runs/y7fx7bny</a><br/>Synced 5 W&B file(s), 1 media file(s), 20 artifact file(s) and 1 other file(s)"
            ],
            "text/plain": [
              "<IPython.core.display.HTML object>"
            ]
          },
          "metadata": {},
          "output_type": "display_data"
        },
        {
          "data": {
            "text/html": [
              "Find logs at: <code>./wandb/run-20230124_131922-y7fx7bny/logs</code>"
            ],
            "text/plain": [
              "<IPython.core.display.HTML object>"
            ]
          },
          "metadata": {},
          "output_type": "display_data"
        },
        {
          "name": "stderr",
          "output_type": "stream",
          "text": [
            "\u001b[34m\u001b[1mwandb\u001b[0m: Sweep Agent: Waiting for job.\n",
            "\u001b[34m\u001b[1mwandb\u001b[0m: Job received.\n",
            "\u001b[34m\u001b[1mwandb\u001b[0m: Agent Starting Run: xo55vzo2 with config:\n",
            "\u001b[34m\u001b[1mwandb\u001b[0m: \tbatch_size: 512\n",
            "\u001b[34m\u001b[1mwandb\u001b[0m: \tdropout_rate: 0.6\n",
            "\u001b[34m\u001b[1mwandb\u001b[0m: \tepochs: 500\n",
            "\u001b[34m\u001b[1mwandb\u001b[0m: \tkernel_size: 12\n",
            "\u001b[34m\u001b[1mwandb\u001b[0m: \tlr: 0.07022033434282829\n",
            "\u001b[34m\u001b[1mwandb\u001b[0m: \tnb_filters: 32\n",
            "\u001b[34m\u001b[1mwandb\u001b[0m: \toptimizer: adam\n",
            "Failed to detect the name of this notebook, you can set it manually with the WANDB_NOTEBOOK_NAME environment variable to enable code saving.\n"
          ]
        },
        {
          "data": {
            "text/html": [
              "Tracking run with wandb version 0.13.9"
            ],
            "text/plain": [
              "<IPython.core.display.HTML object>"
            ]
          },
          "metadata": {},
          "output_type": "display_data"
        },
        {
          "data": {
            "text/html": [
              "Run data is saved locally in <code>/content/wandb/run-20230124_132856-xo55vzo2</code>"
            ],
            "text/plain": [
              "<IPython.core.display.HTML object>"
            ]
          },
          "metadata": {},
          "output_type": "display_data"
        },
        {
          "data": {
            "text/html": [
              "Syncing run <strong><a href=\"https://wandb.ai/dsp_aguro/aguro_tcn/runs/xo55vzo2\" target=\"_blank\">crimson-sweep-22</a></strong> to <a href=\"https://wandb.ai/dsp_aguro/aguro_tcn\" target=\"_blank\">Weights & Biases</a> (<a href=\"https://wandb.me/run\" target=\"_blank\">docs</a>)<br/>Sweep page: <a href=\"https://wandb.ai/dsp_aguro/aguro_tcn/sweeps/9vw7gd6y\" target=\"_blank\">https://wandb.ai/dsp_aguro/aguro_tcn/sweeps/9vw7gd6y</a>"
            ],
            "text/plain": [
              "<IPython.core.display.HTML object>"
            ]
          },
          "metadata": {},
          "output_type": "display_data"
        },
        {
          "data": {
            "text/html": [
              " View project at <a href=\"https://wandb.ai/dsp_aguro/aguro_tcn\" target=\"_blank\">https://wandb.ai/dsp_aguro/aguro_tcn</a>"
            ],
            "text/plain": [
              "<IPython.core.display.HTML object>"
            ]
          },
          "metadata": {},
          "output_type": "display_data"
        },
        {
          "data": {
            "text/html": [
              " View sweep at <a href=\"https://wandb.ai/dsp_aguro/aguro_tcn/sweeps/9vw7gd6y\" target=\"_blank\">https://wandb.ai/dsp_aguro/aguro_tcn/sweeps/9vw7gd6y</a>"
            ],
            "text/plain": [
              "<IPython.core.display.HTML object>"
            ]
          },
          "metadata": {},
          "output_type": "display_data"
        },
        {
          "data": {
            "text/html": [
              " View run at <a href=\"https://wandb.ai/dsp_aguro/aguro_tcn/runs/xo55vzo2\" target=\"_blank\">https://wandb.ai/dsp_aguro/aguro_tcn/runs/xo55vzo2</a>"
            ],
            "text/plain": [
              "<IPython.core.display.HTML object>"
            ]
          },
          "metadata": {},
          "output_type": "display_data"
        },
        {
          "name": "stdout",
          "output_type": "stream",
          "text": [
            "Epoch 1/500\n",
            " 6/61 [=>............................] - ETA: 6s - loss: 1.8821 - mae: 1.3108 - root_mean_squared_error: 1.8821"
          ]
        },
        {
          "name": "stderr",
          "output_type": "stream",
          "text": [
            "WARNING:tensorflow:Callback method `on_train_batch_end` is slow compared to the batch time (batch time: 0.0422s vs `on_train_batch_end` time: 0.0816s). Check your callbacks.\n"
          ]
        },
        {
          "name": "stdout",
          "output_type": "stream",
          "text": [
            "61/61 [==============================] - ETA: 0s - loss: 0.6457 - mae: 0.3169 - root_mean_squared_error: 0.6442"
          ]
        },
        {
          "name": "stderr",
          "output_type": "stream",
          "text": [
            "WARNING:absl:Found untraced functions such as residual_block_0_layer_call_fn, residual_block_0_layer_call_and_return_conditional_losses, residual_block_1_layer_call_fn, residual_block_1_layer_call_and_return_conditional_losses, residual_block_2_layer_call_fn while saving (showing 5 of 257). These functions will not be directly callable after loading.\n",
            "\u001b[34m\u001b[1mwandb\u001b[0m: Adding directory to artifact (/content/wandb/run-20230124_132856-xo55vzo2/files/model-best)... Done. 0.0s\n"
          ]
        },
        {
          "name": "stdout",
          "output_type": "stream",
          "text": [
            "\b\b\b\b\b\b\b\b\b\b\b\b\b\b\b\b\b\b\b\b\b\b\b\b\b\b\b\b\b\b\b\b\b\b\b\b\b\b\b\b\b\b\b\b\b\b\b\b\b\b\b\b\b\b\b\b\b\b\b\b\b\b\b\b\b\b\b\b\b\b\b\b\b\b\b\b\b\b\b\b\b\b\b\b\b\b\b\b\b\b\b\b\b\b\b\b\b\b\b\b\b\b\b\b\b\b\b\b\b\b\b\r61/61 [==============================] - 23s 298ms/step - loss: 0.6457 - mae: 0.3169 - root_mean_squared_error: 0.6442 - val_loss: 0.1765 - val_mae: 0.1538 - val_root_mean_squared_error: 0.1787 - lr: 0.0702\n",
            "Epoch 2/500\n",
            "61/61 [==============================] - 7s 117ms/step - loss: 0.2288 - mae: 0.1659 - root_mean_squared_error: 0.2288 - val_loss: 0.1776 - val_mae: 0.1557 - val_root_mean_squared_error: 0.1798 - lr: 0.0702\n",
            "Epoch 3/500\n",
            "61/61 [==============================] - 7s 117ms/step - loss: 0.2444 - mae: 0.1666 - root_mean_squared_error: 0.2443 - val_loss: 0.1776 - val_mae: 0.1557 - val_root_mean_squared_error: 0.1798 - lr: 0.0702\n",
            "Epoch 4/500\n",
            "61/61 [==============================] - ETA: 0s - loss: 0.2282 - mae: 0.1660 - root_mean_squared_error: 0.2282"
          ]
        },
        {
          "name": "stderr",
          "output_type": "stream",
          "text": [
            "WARNING:absl:Found untraced functions such as residual_block_0_layer_call_fn, residual_block_0_layer_call_and_return_conditional_losses, residual_block_1_layer_call_fn, residual_block_1_layer_call_and_return_conditional_losses, residual_block_2_layer_call_fn while saving (showing 5 of 257). These functions will not be directly callable after loading.\n",
            "\u001b[34m\u001b[1mwandb\u001b[0m: Adding directory to artifact (/content/wandb/run-20230124_132856-xo55vzo2/files/model-best)... Done. 0.0s\n"
          ]
        },
        {
          "name": "stdout",
          "output_type": "stream",
          "text": [
            "\b\b\b\b\b\b\b\b\b\b\b\b\b\b\b\b\b\b\b\b\b\b\b\b\b\b\b\b\b\b\b\b\b\b\b\b\b\b\b\b\b\b\b\b\b\b\b\b\b\b\b\b\b\b\b\b\b\b\b\b\b\b\b\b\b\b\b\b\b\b\b\b\b\b\b\b\b\b\b\b\b\b\b\b\b\b\b\b\b\b\b\b\b\b\b\b\b\b\b\b\b\b\b\b\b\b\b\b\b\b\b\r61/61 [==============================] - 17s 285ms/step - loss: 0.2282 - mae: 0.1660 - root_mean_squared_error: 0.2282 - val_loss: 0.1683 - val_mae: 0.1457 - val_root_mean_squared_error: 0.1703 - lr: 0.0702\n",
            "Epoch 5/500\n",
            "61/61 [==============================] - 7s 118ms/step - loss: 7.3632 - mae: 0.4503 - root_mean_squared_error: 7.3348 - val_loss: 0.1781 - val_mae: 0.1562 - val_root_mean_squared_error: 0.1803 - lr: 0.0702\n",
            "Epoch 6/500\n",
            "61/61 [==============================] - 7s 117ms/step - loss: 0.2170 - mae: 0.1650 - root_mean_squared_error: 0.2170 - val_loss: 0.1747 - val_mae: 0.1525 - val_root_mean_squared_error: 0.1768 - lr: 0.0702\n",
            "Epoch 7/500\n",
            "61/61 [==============================] - 7s 118ms/step - loss: 0.2234 - mae: 0.1652 - root_mean_squared_error: 0.2233 - val_loss: 0.1703 - val_mae: 0.1477 - val_root_mean_squared_error: 0.1723 - lr: 0.0702\n",
            "Epoch 8/500\n",
            "61/61 [==============================] - 7s 121ms/step - loss: 0.2465 - mae: 0.1662 - root_mean_squared_error: 0.2464 - val_loss: 0.1784 - val_mae: 0.1566 - val_root_mean_squared_error: 0.1806 - lr: 0.0702\n",
            "Epoch 9/500\n",
            "61/61 [==============================] - ETA: 0s - loss: 0.4722 - mae: 0.1761 - root_mean_squared_error: 0.4711"
          ]
        },
        {
          "name": "stderr",
          "output_type": "stream",
          "text": [
            "WARNING:absl:Found untraced functions such as residual_block_0_layer_call_fn, residual_block_0_layer_call_and_return_conditional_losses, residual_block_1_layer_call_fn, residual_block_1_layer_call_and_return_conditional_losses, residual_block_2_layer_call_fn while saving (showing 5 of 257). These functions will not be directly callable after loading.\n",
            "\u001b[34m\u001b[1mwandb\u001b[0m: Adding directory to artifact (/content/wandb/run-20230124_132856-xo55vzo2/files/model-best)... Done. 0.0s\n"
          ]
        },
        {
          "name": "stdout",
          "output_type": "stream",
          "text": [
            "\b\b\b\b\b\b\b\b\b\b\b\b\b\b\b\b\b\b\b\b\b\b\b\b\b\b\b\b\b\b\b\b\b\b\b\b\b\b\b\b\b\b\b\b\b\b\b\b\b\b\b\b\b\b\b\b\b\b\b\b\b\b\b\b\b\b\b\b\b\b\b\b\b\b\b\b\b\b\b\b\b\b\b\b\b\b\b\b\b\b\b\b\b\b\b\b\b\b\b\b\b\b\b\b\b\b\b\b\b\b\b\r61/61 [==============================] - 17s 283ms/step - loss: 0.4722 - mae: 0.1761 - root_mean_squared_error: 0.4711 - val_loss: 0.1675 - val_mae: 0.1449 - val_root_mean_squared_error: 0.1695 - lr: 0.0702\n",
            "Epoch 10/500\n",
            "61/61 [==============================] - 7s 116ms/step - loss: 1.1347 - mae: 0.2073 - root_mean_squared_error: 1.1311 - val_loss: 0.1829 - val_mae: 0.1609 - val_root_mean_squared_error: 0.1852 - lr: 0.0702\n",
            "Epoch 11/500\n",
            "61/61 [==============================] - 7s 116ms/step - loss: 12.7290 - mae: 0.7209 - root_mean_squared_error: 12.6793 - val_loss: 0.1739 - val_mae: 0.1515 - val_root_mean_squared_error: 0.1760 - lr: 0.0702\n",
            "Epoch 12/500\n",
            "61/61 [==============================] - 7s 117ms/step - loss: 1.3924 - mae: 0.2144 - root_mean_squared_error: 1.3877 - val_loss: 0.1722 - val_mae: 0.1498 - val_root_mean_squared_error: 0.1743 - lr: 0.0702\n",
            "Epoch 13/500\n",
            "61/61 [==============================] - 7s 118ms/step - loss: 0.2455 - mae: 0.1666 - root_mean_squared_error: 0.2454 - val_loss: 0.1816 - val_mae: 0.1600 - val_root_mean_squared_error: 0.1839 - lr: 0.0702\n",
            "Epoch 14/500\n",
            "61/61 [==============================] - 7s 118ms/step - loss: 0.2613 - mae: 0.1669 - root_mean_squared_error: 0.2611 - val_loss: 0.1749 - val_mae: 0.1528 - val_root_mean_squared_error: 0.1771 - lr: 0.0702\n",
            "Epoch 15/500\n",
            "61/61 [==============================] - 7s 118ms/step - loss: 2.1269 - mae: 0.2376 - root_mean_squared_error: 2.1194 - val_loss: 0.1736 - val_mae: 0.1511 - val_root_mean_squared_error: 0.1757 - lr: 0.0702\n",
            "Epoch 16/500\n",
            "61/61 [==============================] - 7s 118ms/step - loss: 0.3116 - mae: 0.1688 - root_mean_squared_error: 0.3112 - val_loss: 0.1681 - val_mae: 0.1455 - val_root_mean_squared_error: 0.1701 - lr: 0.0702\n",
            "Epoch 17/500\n",
            "61/61 [==============================] - 7s 118ms/step - loss: 0.3692 - mae: 0.1716 - root_mean_squared_error: 0.3685 - val_loss: 0.1878 - val_mae: 0.1665 - val_root_mean_squared_error: 0.1902 - lr: 0.0702\n",
            "Epoch 18/500\n",
            "61/61 [==============================] - ETA: 0s - loss: 1.0199 - mae: 0.1966 - root_mean_squared_error: 1.0168"
          ]
        },
        {
          "name": "stderr",
          "output_type": "stream",
          "text": [
            "WARNING:absl:Found untraced functions such as residual_block_0_layer_call_fn, residual_block_0_layer_call_and_return_conditional_losses, residual_block_1_layer_call_fn, residual_block_1_layer_call_and_return_conditional_losses, residual_block_2_layer_call_fn while saving (showing 5 of 257). These functions will not be directly callable after loading.\n",
            "\u001b[34m\u001b[1mwandb\u001b[0m: Adding directory to artifact (/content/wandb/run-20230124_132856-xo55vzo2/files/model-best)... Done. 0.0s\n"
          ]
        },
        {
          "name": "stdout",
          "output_type": "stream",
          "text": [
            "\b\b\b\b\b\b\b\b\b\b\b\b\b\b\b\b\b\b\b\b\b\b\b\b\b\b\b\b\b\b\b\b\b\b\b\b\b\b\b\b\b\b\b\b\b\b\b\b\b\b\b\b\b\b\b\b\b\b\b\b\b\b\b\b\b\b\b\b\b\b\b\b\b\b\b\b\b\b\b\b\b\b\b\b\b\b\b\b\b\b\b\b\b\b\b\b\b\b\b\b\b\b\b\b\b\b\b\b\b\b\b\r61/61 [==============================] - 17s 286ms/step - loss: 1.0199 - mae: 0.1966 - root_mean_squared_error: 1.0168 - val_loss: 0.1653 - val_mae: 0.1425 - val_root_mean_squared_error: 0.1673 - lr: 0.0702\n",
            "Epoch 19/500\n",
            "61/61 [==============================] - 7s 116ms/step - loss: 0.5512 - mae: 0.1767 - root_mean_squared_error: 0.5498 - val_loss: 0.1747 - val_mae: 0.1527 - val_root_mean_squared_error: 0.1769 - lr: 0.0702\n",
            "Epoch 20/500\n",
            "61/61 [==============================] - 7s 116ms/step - loss: 0.2230 - mae: 0.1653 - root_mean_squared_error: 0.2230 - val_loss: 0.1718 - val_mae: 0.1495 - val_root_mean_squared_error: 0.1739 - lr: 0.0702\n",
            "Epoch 21/500\n",
            "61/61 [==============================] - 7s 117ms/step - loss: 0.4198 - mae: 0.1724 - root_mean_squared_error: 0.4190 - val_loss: 0.1755 - val_mae: 0.1534 - val_root_mean_squared_error: 0.1777 - lr: 0.0702\n",
            "Epoch 22/500\n",
            "61/61 [==============================] - 7s 121ms/step - loss: 7.5994 - mae: 0.4872 - root_mean_squared_error: 7.5701 - val_loss: 0.1756 - val_mae: 0.1535 - val_root_mean_squared_error: 0.1778 - lr: 0.0702\n",
            "Epoch 23/500\n",
            "61/61 [==============================] - 7s 122ms/step - loss: 29.9037 - mae: 1.3871 - root_mean_squared_error: 29.7859 - val_loss: 0.1845 - val_mae: 0.1630 - val_root_mean_squared_error: 0.1868 - lr: 0.0702\n",
            "Epoch 24/500\n",
            "61/61 [==============================] - 7s 118ms/step - loss: 0.2171 - mae: 0.1650 - root_mean_squared_error: 0.2171 - val_loss: 0.1821 - val_mae: 0.1605 - val_root_mean_squared_error: 0.1844 - lr: 0.0702\n",
            "Epoch 25/500\n",
            "61/61 [==============================] - ETA: 0s - loss: 26.4274 - mae: 1.2511 - root_mean_squared_error: 26.3233"
          ]
        },
        {
          "name": "stderr",
          "output_type": "stream",
          "text": [
            "WARNING:absl:Found untraced functions such as residual_block_0_layer_call_fn, residual_block_0_layer_call_and_return_conditional_losses, residual_block_1_layer_call_fn, residual_block_1_layer_call_and_return_conditional_losses, residual_block_2_layer_call_fn while saving (showing 5 of 257). These functions will not be directly callable after loading.\n",
            "\u001b[34m\u001b[1mwandb\u001b[0m: Adding directory to artifact (/content/wandb/run-20230124_132856-xo55vzo2/files/model-best)... Done. 0.0s\n"
          ]
        },
        {
          "name": "stdout",
          "output_type": "stream",
          "text": [
            "\b\b\b\b\b\b\b\b\b\b\b\b\b\b\b\b\b\b\b\b\b\b\b\b\b\b\b\b\b\b\b\b\b\b\b\b\b\b\b\b\b\b\b\b\b\b\b\b\b\b\b\b\b\b\b\b\b\b\b\b\b\b\b\b\b\b\b\b\b\b\b\b\b\b\b\b\b\b\b\b\b\b\b\b\b\b\b\b\b\b\b\b\b\b\b\b\b\b\b\b\b\b\b\b\b\b\b\b\b\b\b\b\b\r61/61 [==============================] - 17s 281ms/step - loss: 26.4274 - mae: 1.2511 - root_mean_squared_error: 26.3233 - val_loss: 0.1635 - val_mae: 0.1405 - val_root_mean_squared_error: 0.1654 - lr: 0.0702\n",
            "Epoch 26/500\n",
            "61/61 [==============================] - 7s 116ms/step - loss: 1.7184 - mae: 0.2216 - root_mean_squared_error: 1.7124 - val_loss: 0.1746 - val_mae: 0.1525 - val_root_mean_squared_error: 0.1767 - lr: 0.0702\n",
            "Epoch 27/500\n",
            "61/61 [==============================] - 7s 119ms/step - loss: 0.7530 - mae: 0.1835 - root_mean_squared_error: 0.7508 - val_loss: 0.1858 - val_mae: 0.1644 - val_root_mean_squared_error: 0.1882 - lr: 0.0702\n",
            "Epoch 28/500\n",
            "61/61 [==============================] - ETA: 0s - loss: 0.2174 - mae: 0.1653 - root_mean_squared_error: 0.2174"
          ]
        },
        {
          "name": "stderr",
          "output_type": "stream",
          "text": [
            "WARNING:absl:Found untraced functions such as residual_block_0_layer_call_fn, residual_block_0_layer_call_and_return_conditional_losses, residual_block_1_layer_call_fn, residual_block_1_layer_call_and_return_conditional_losses, residual_block_2_layer_call_fn while saving (showing 5 of 257). These functions will not be directly callable after loading.\n",
            "\u001b[34m\u001b[1mwandb\u001b[0m: Adding directory to artifact (/content/wandb/run-20230124_132856-xo55vzo2/files/model-best)... Done. 0.0s\n"
          ]
        },
        {
          "name": "stdout",
          "output_type": "stream",
          "text": [
            "\b\b\b\b\b\b\b\b\b\b\b\b\b\b\b\b\b\b\b\b\b\b\b\b\b\b\b\b\b\b\b\b\b\b\b\b\b\b\b\b\b\b\b\b\b\b\b\b\b\b\b\b\b\b\b\b\b\b\b\b\b\b\b\b\b\b\b\b\b\b\b\b\b\b\b\b\b\b\b\b\b\b\b\b\b\b\b\b\b\b\b\b\b\b\b\b\b\b\b\b\b\b\b\b\b\b\b\b\b\b\b\r61/61 [==============================] - 17s 283ms/step - loss: 0.2174 - mae: 0.1653 - root_mean_squared_error: 0.2174 - val_loss: 0.1603 - val_mae: 0.1369 - val_root_mean_squared_error: 0.1621 - lr: 0.0702\n",
            "Epoch 29/500\n",
            "61/61 [==============================] - 7s 116ms/step - loss: 26.8092 - mae: 1.2071 - root_mean_squared_error: 26.7037 - val_loss: 0.1929 - val_mae: 0.1718 - val_root_mean_squared_error: 0.1953 - lr: 0.0702\n",
            "Epoch 30/500\n",
            "61/61 [==============================] - 7s 117ms/step - loss: 9.9190 - mae: 0.5654 - root_mean_squared_error: 9.8804 - val_loss: 0.1718 - val_mae: 0.1495 - val_root_mean_squared_error: 0.1739 - lr: 0.0702\n",
            "Epoch 31/500\n",
            "61/61 [==============================] - 7s 117ms/step - loss: 0.8330 - mae: 0.1920 - root_mean_squared_error: 0.8305 - val_loss: 0.1651 - val_mae: 0.1423 - val_root_mean_squared_error: 0.1671 - lr: 0.0702\n",
            "Epoch 32/500\n",
            "61/61 [==============================] - 7s 122ms/step - loss: 870.7561 - mae: 35.1782 - root_mean_squared_error: 867.2997 - val_loss: 0.1777 - val_mae: 0.1558 - val_root_mean_squared_error: 0.1799 - lr: 0.0702\n",
            "Epoch 33/500\n",
            "61/61 [==============================] - 7s 118ms/step - loss: 0.7172 - mae: 0.1850 - root_mean_squared_error: 0.7153 - val_loss: 0.1823 - val_mae: 0.1607 - val_root_mean_squared_error: 0.1846 - lr: 0.0702\n",
            "Epoch 34/500\n",
            "61/61 [==============================] - ETA: 0s - loss: 1146.8381 - mae: 42.5881 - root_mean_squared_error: 1142.2858"
          ]
        },
        {
          "name": "stderr",
          "output_type": "stream",
          "text": [
            "WARNING:absl:Found untraced functions such as residual_block_0_layer_call_fn, residual_block_0_layer_call_and_return_conditional_losses, residual_block_1_layer_call_fn, residual_block_1_layer_call_and_return_conditional_losses, residual_block_2_layer_call_fn while saving (showing 5 of 257). These functions will not be directly callable after loading.\n",
            "\u001b[34m\u001b[1mwandb\u001b[0m: Adding directory to artifact (/content/wandb/run-20230124_132856-xo55vzo2/files/model-best)... Done. 0.0s\n"
          ]
        },
        {
          "name": "stdout",
          "output_type": "stream",
          "text": [
            "\b\b\b\b\b\b\b\b\b\b\b\b\b\b\b\b\b\b\b\b\b\b\b\b\b\b\b\b\b\b\b\b\b\b\b\b\b\b\b\b\b\b\b\b\b\b\b\b\b\b\b\b\b\b\b\b\b\b\b\b\b\b\b\b\b\b\b\b\b\b\b\b\b\b\b\b\b\b\b\b\b\b\b\b\b\b\b\b\b\b\b\b\b\b\b\b\b\b\b\b\b\b\b\b\b\b\b\b\b\b\b\b\b\b\b\b\b\b\r61/61 [==============================] - 17s 287ms/step - loss: 1146.8381 - mae: 42.5881 - root_mean_squared_error: 1142.2858 - val_loss: 0.1520 - val_mae: 0.1275 - val_root_mean_squared_error: 0.1536 - lr: 0.0702\n",
            "Epoch 35/500\n",
            "61/61 [==============================] - 7s 116ms/step - loss: 0.4717 - mae: 0.1745 - root_mean_squared_error: 0.4707 - val_loss: 0.1719 - val_mae: 0.1496 - val_root_mean_squared_error: 0.1740 - lr: 0.0702\n",
            "Epoch 36/500\n",
            "61/61 [==============================] - 7s 116ms/step - loss: 0.2814 - mae: 0.1678 - root_mean_squared_error: 0.2811 - val_loss: 0.1707 - val_mae: 0.1483 - val_root_mean_squared_error: 0.1728 - lr: 0.0702\n",
            "Epoch 37/500\n",
            "61/61 [==============================] - 7s 117ms/step - loss: 1.6132 - mae: 0.2238 - root_mean_squared_error: 1.6077 - val_loss: 0.1849 - val_mae: 0.1635 - val_root_mean_squared_error: 0.1873 - lr: 0.0702\n",
            "Epoch 38/500\n",
            "61/61 [==============================] - 7s 118ms/step - loss: 0.3795 - mae: 0.1721 - root_mean_squared_error: 0.3789 - val_loss: 0.1821 - val_mae: 0.1605 - val_root_mean_squared_error: 0.1844 - lr: 0.0702\n",
            "Epoch 39/500\n",
            "61/61 [==============================] - 7s 118ms/step - loss: 5.4642 - mae: 0.3790 - root_mean_squared_error: 5.4434 - val_loss: 0.1891 - val_mae: 0.1679 - val_root_mean_squared_error: 0.1915 - lr: 0.0702\n",
            "Epoch 40/500\n",
            "61/61 [==============================] - 7s 121ms/step - loss: 0.2177 - mae: 0.1654 - root_mean_squared_error: 0.2176 - val_loss: 0.1750 - val_mae: 0.1530 - val_root_mean_squared_error: 0.1772 - lr: 0.0702\n",
            "Epoch 41/500\n",
            "61/61 [==============================] - 7s 117ms/step - loss: 0.2173 - mae: 0.1653 - root_mean_squared_error: 0.2173 - val_loss: 0.1815 - val_mae: 0.1599 - val_root_mean_squared_error: 0.1838 - lr: 0.0702\n",
            "Epoch 42/500\n",
            "61/61 [==============================] - 7s 117ms/step - loss: 0.2173 - mae: 0.1650 - root_mean_squared_error: 0.2173 - val_loss: 0.1824 - val_mae: 0.1608 - val_root_mean_squared_error: 0.1847 - lr: 0.0702\n",
            "Epoch 43/500\n",
            "61/61 [==============================] - 7s 117ms/step - loss: 0.2176 - mae: 0.1654 - root_mean_squared_error: 0.2177 - val_loss: 0.1934 - val_mae: 0.1724 - val_root_mean_squared_error: 0.1958 - lr: 0.0702\n",
            "Epoch 44/500\n",
            "61/61 [==============================] - 7s 117ms/step - loss: 0.2171 - mae: 0.1652 - root_mean_squared_error: 0.2171 - val_loss: 0.1698 - val_mae: 0.1474 - val_root_mean_squared_error: 0.1718 - lr: 0.0702\n",
            "Epoch 45/500\n",
            "61/61 [==============================] - 7s 117ms/step - loss: 0.2168 - mae: 0.1647 - root_mean_squared_error: 0.2168 - val_loss: 0.1761 - val_mae: 0.1542 - val_root_mean_squared_error: 0.1783 - lr: 0.0070\n",
            "Epoch 46/500\n",
            "61/61 [==============================] - 7s 117ms/step - loss: 0.2168 - mae: 0.1647 - root_mean_squared_error: 0.2169 - val_loss: 0.1747 - val_mae: 0.1527 - val_root_mean_squared_error: 0.1769 - lr: 0.0070\n",
            "Epoch 47/500\n",
            "61/61 [==============================] - 7s 116ms/step - loss: 0.2168 - mae: 0.1648 - root_mean_squared_error: 0.2169 - val_loss: 0.1735 - val_mae: 0.1513 - val_root_mean_squared_error: 0.1756 - lr: 0.0070\n",
            "Epoch 48/500\n",
            "61/61 [==============================] - 7s 117ms/step - loss: 0.2168 - mae: 0.1646 - root_mean_squared_error: 0.2168 - val_loss: 0.1775 - val_mae: 0.1557 - val_root_mean_squared_error: 0.1798 - lr: 0.0070\n",
            "Epoch 49/500\n",
            "61/61 [==============================] - 7s 117ms/step - loss: 0.2168 - mae: 0.1648 - root_mean_squared_error: 0.2168 - val_loss: 0.1764 - val_mae: 0.1545 - val_root_mean_squared_error: 0.1786 - lr: 0.0070\n"
          ]
        },
        {
          "data": {
            "text/html": [
              "Waiting for W&B process to finish... <strong style=\"color:green\">(success).</strong>"
            ],
            "text/plain": [
              "<IPython.core.display.HTML object>"
            ]
          },
          "metadata": {},
          "output_type": "display_data"
        },
        {
          "data": {
            "text/html": [
              "<style>\n",
              "    table.wandb td:nth-child(1) { padding: 0 10px; text-align: left ; width: auto;} td:nth-child(2) {text-align: left ; width: 100%}\n",
              "    .wandb-row { display: flex; flex-direction: row; flex-wrap: wrap; justify-content: flex-start; width: 100% }\n",
              "    .wandb-col { display: flex; flex-direction: column; flex-basis: 100%; flex: 1; padding: 10px; }\n",
              "    </style>\n",
              "<div class=\"wandb-row\"><div class=\"wandb-col\"><h3>Run history:</h3><br/><table class=\"wandb\"><tr><td>epoch</td><td>▁▁▁▁▂▂▂▂▂▃▃▃▃▃▃▄▄▄▄▄▅▅▅▅▅▅▆▆▆▆▆▇▇▇▇▇▇███</td></tr><tr><td>loss</td><td>▁▁▁▁▁▁▁▁▁▁▁▁▁▁▁▁▁▁▁▁▁▁▁▁▁▁▁█▁▁▁▁▁▁▁▁▁▁▁▁</td></tr><tr><td>mae</td><td>▁▁▁▁▁▁▁▁▁▁▁▁▁▁▁▁▁▁▁▁▁▁▁▁▁▁▁█▁▁▁▁▁▁▁▁▁▁▁▁</td></tr><tr><td>root_mean_squared_error</td><td>▁▁▁▁▁▁▁▁▁▁▁▁▁▁▁▁▁▁▁▁▁▁▁▁▁▁▁█▁▁▁▁▁▁▁▁▁▁▁▁</td></tr><tr><td>val_loss</td><td>▅▅▅▄▅▄▆▄▆▄▆▅▅▇▃▅▄▅▇▆▃▅▂█▄▃▆▁▄▄▇▇▅▆▆▄▅▅▅▅</td></tr><tr><td>val_mae</td><td>▅▅▅▄▆▄▆▄▆▅▆▅▅▇▃▅▄▅▇▆▃▅▂█▄▃▆▁▄▄▇▇▅▆▆▄▅▅▅▅</td></tr><tr><td>val_root_mean_squared_error</td><td>▅▅▅▄▅▄▆▄▆▄▆▅▅▇▃▅▄▅▇▆▃▅▂█▄▃▆▁▄▄▇▇▅▆▆▄▅▅▅▅</td></tr></table><br/></div><div class=\"wandb-col\"><h3>Run summary:</h3><br/><table class=\"wandb\"><tr><td>best_epoch</td><td>33</td></tr><tr><td>best_val_loss</td><td>0.15195</td></tr><tr><td>epoch</td><td>48</td></tr><tr><td>loss</td><td>0.21683</td></tr><tr><td>mae</td><td>0.16482</td></tr><tr><td>root_mean_squared_error</td><td>0.21682</td></tr><tr><td>val_loss</td><td>0.17641</td></tr><tr><td>val_mae</td><td>0.15449</td></tr><tr><td>val_root_mean_squared_error</td><td>0.1786</td></tr></table><br/></div></div>"
            ],
            "text/plain": [
              "<IPython.core.display.HTML object>"
            ]
          },
          "metadata": {},
          "output_type": "display_data"
        },
        {
          "data": {
            "text/html": [
              " View run <strong style=\"color:#cdcd00\">crimson-sweep-22</strong> at: <a href=\"https://wandb.ai/dsp_aguro/aguro_tcn/runs/xo55vzo2\" target=\"_blank\">https://wandb.ai/dsp_aguro/aguro_tcn/runs/xo55vzo2</a><br/>Synced 5 W&B file(s), 1 media file(s), 28 artifact file(s) and 1 other file(s)"
            ],
            "text/plain": [
              "<IPython.core.display.HTML object>"
            ]
          },
          "metadata": {},
          "output_type": "display_data"
        },
        {
          "data": {
            "text/html": [
              "Find logs at: <code>./wandb/run-20230124_132856-xo55vzo2/logs</code>"
            ],
            "text/plain": [
              "<IPython.core.display.HTML object>"
            ]
          },
          "metadata": {},
          "output_type": "display_data"
        },
        {
          "name": "stderr",
          "output_type": "stream",
          "text": [
            "\u001b[34m\u001b[1mwandb\u001b[0m: Agent Starting Run: 2bcze3i7 with config:\n",
            "\u001b[34m\u001b[1mwandb\u001b[0m: \tbatch_size: 512\n",
            "\u001b[34m\u001b[1mwandb\u001b[0m: \tdropout_rate: 0.6\n",
            "\u001b[34m\u001b[1mwandb\u001b[0m: \tepochs: 500\n",
            "\u001b[34m\u001b[1mwandb\u001b[0m: \tkernel_size: 8\n",
            "\u001b[34m\u001b[1mwandb\u001b[0m: \tlr: 0.07876534996354496\n",
            "\u001b[34m\u001b[1mwandb\u001b[0m: \tnb_filters: 16\n",
            "\u001b[34m\u001b[1mwandb\u001b[0m: \toptimizer: adam\n",
            "Failed to detect the name of this notebook, you can set it manually with the WANDB_NOTEBOOK_NAME environment variable to enable code saving.\n"
          ]
        },
        {
          "data": {
            "text/html": [
              "Tracking run with wandb version 0.13.9"
            ],
            "text/plain": [
              "<IPython.core.display.HTML object>"
            ]
          },
          "metadata": {},
          "output_type": "display_data"
        },
        {
          "data": {
            "text/html": [
              "Run data is saved locally in <code>/content/wandb/run-20230124_133619-2bcze3i7</code>"
            ],
            "text/plain": [
              "<IPython.core.display.HTML object>"
            ]
          },
          "metadata": {},
          "output_type": "display_data"
        },
        {
          "data": {
            "text/html": [
              "Syncing run <strong><a href=\"https://wandb.ai/dsp_aguro/aguro_tcn/runs/2bcze3i7\" target=\"_blank\">efficient-sweep-23</a></strong> to <a href=\"https://wandb.ai/dsp_aguro/aguro_tcn\" target=\"_blank\">Weights & Biases</a> (<a href=\"https://wandb.me/run\" target=\"_blank\">docs</a>)<br/>Sweep page: <a href=\"https://wandb.ai/dsp_aguro/aguro_tcn/sweeps/9vw7gd6y\" target=\"_blank\">https://wandb.ai/dsp_aguro/aguro_tcn/sweeps/9vw7gd6y</a>"
            ],
            "text/plain": [
              "<IPython.core.display.HTML object>"
            ]
          },
          "metadata": {},
          "output_type": "display_data"
        },
        {
          "data": {
            "text/html": [
              " View project at <a href=\"https://wandb.ai/dsp_aguro/aguro_tcn\" target=\"_blank\">https://wandb.ai/dsp_aguro/aguro_tcn</a>"
            ],
            "text/plain": [
              "<IPython.core.display.HTML object>"
            ]
          },
          "metadata": {},
          "output_type": "display_data"
        },
        {
          "data": {
            "text/html": [
              " View sweep at <a href=\"https://wandb.ai/dsp_aguro/aguro_tcn/sweeps/9vw7gd6y\" target=\"_blank\">https://wandb.ai/dsp_aguro/aguro_tcn/sweeps/9vw7gd6y</a>"
            ],
            "text/plain": [
              "<IPython.core.display.HTML object>"
            ]
          },
          "metadata": {},
          "output_type": "display_data"
        },
        {
          "data": {
            "text/html": [
              " View run at <a href=\"https://wandb.ai/dsp_aguro/aguro_tcn/runs/2bcze3i7\" target=\"_blank\">https://wandb.ai/dsp_aguro/aguro_tcn/runs/2bcze3i7</a>"
            ],
            "text/plain": [
              "<IPython.core.display.HTML object>"
            ]
          },
          "metadata": {},
          "output_type": "display_data"
        },
        {
          "name": "stdout",
          "output_type": "stream",
          "text": [
            "Epoch 1/500\n",
            " 6/61 [=>............................] - ETA: 4s - loss: 3.0040 - mae: 1.9844 - root_mean_squared_error: 3.0040"
          ]
        },
        {
          "name": "stderr",
          "output_type": "stream",
          "text": [
            "WARNING:tensorflow:Callback method `on_train_batch_end` is slow compared to the batch time (batch time: 0.0293s vs `on_train_batch_end` time: 0.0471s). Check your callbacks.\n"
          ]
        },
        {
          "name": "stdout",
          "output_type": "stream",
          "text": [
            "61/61 [==============================] - ETA: 0s - loss: 0.5367 - mae: 0.3646 - root_mean_squared_error: 0.5354"
          ]
        },
        {
          "name": "stderr",
          "output_type": "stream",
          "text": [
            "WARNING:absl:Found untraced functions such as residual_block_0_layer_call_fn, residual_block_0_layer_call_and_return_conditional_losses, residual_block_1_layer_call_fn, residual_block_1_layer_call_and_return_conditional_losses, residual_block_2_layer_call_fn while saving (showing 5 of 257). These functions will not be directly callable after loading.\n",
            "\u001b[34m\u001b[1mwandb\u001b[0m: Adding directory to artifact (/content/wandb/run-20230124_133619-2bcze3i7/files/model-best)... Done. 0.0s\n"
          ]
        },
        {
          "name": "stdout",
          "output_type": "stream",
          "text": [
            "\b\b\b\b\b\b\b\b\b\b\b\b\b\b\b\b\b\b\b\b\b\b\b\b\b\b\b\b\b\b\b\b\b\b\b\b\b\b\b\b\b\b\b\b\b\b\b\b\b\b\b\b\b\b\b\b\b\b\b\b\b\b\b\b\b\b\b\b\b\b\b\b\b\b\b\b\b\b\b\b\b\b\b\b\b\b\b\b\b\b\b\b\b\b\b\b\b\b\b\b\b\b\b\b\b\b\b\b\b\b\b\r61/61 [==============================] - 19s 249ms/step - loss: 0.5367 - mae: 0.3646 - root_mean_squared_error: 0.5354 - val_loss: 0.1887 - val_mae: 0.1674 - val_root_mean_squared_error: 0.1911 - lr: 0.0788\n",
            "Epoch 2/500\n",
            "61/61 [==============================] - ETA: 0s - loss: 0.2176 - mae: 0.1649 - root_mean_squared_error: 0.2176"
          ]
        },
        {
          "name": "stderr",
          "output_type": "stream",
          "text": [
            "WARNING:absl:Found untraced functions such as residual_block_0_layer_call_fn, residual_block_0_layer_call_and_return_conditional_losses, residual_block_1_layer_call_fn, residual_block_1_layer_call_and_return_conditional_losses, residual_block_2_layer_call_fn while saving (showing 5 of 257). These functions will not be directly callable after loading.\n",
            "\u001b[34m\u001b[1mwandb\u001b[0m: Adding directory to artifact (/content/wandb/run-20230124_133619-2bcze3i7/files/model-best)... Done. 0.0s\n"
          ]
        },
        {
          "name": "stdout",
          "output_type": "stream",
          "text": [
            "\b\b\b\b\b\b\b\b\b\b\b\b\b\b\b\b\b\b\b\b\b\b\b\b\b\b\b\b\b\b\b\b\b\b\b\b\b\b\b\b\b\b\b\b\b\b\b\b\b\b\b\b\b\b\b\b\b\b\b\b\b\b\b\b\b\b\b\b\b\b\b\b\b\b\b\b\b\b\b\b\b\b\b\b\b\b\b\b\b\b\b\b\b\b\b\b\b\b\b\b\b\b\b\b\b\b\b\b\b\b\b\r61/61 [==============================] - 14s 237ms/step - loss: 0.2176 - mae: 0.1649 - root_mean_squared_error: 0.2176 - val_loss: 0.1861 - val_mae: 0.1647 - val_root_mean_squared_error: 0.1885 - lr: 0.0788\n",
            "Epoch 3/500\n",
            "61/61 [==============================] - ETA: 0s - loss: 0.2587 - mae: 0.1674 - root_mean_squared_error: 0.2585"
          ]
        },
        {
          "name": "stderr",
          "output_type": "stream",
          "text": [
            "WARNING:absl:Found untraced functions such as residual_block_0_layer_call_fn, residual_block_0_layer_call_and_return_conditional_losses, residual_block_1_layer_call_fn, residual_block_1_layer_call_and_return_conditional_losses, residual_block_2_layer_call_fn while saving (showing 5 of 257). These functions will not be directly callable after loading.\n",
            "\u001b[34m\u001b[1mwandb\u001b[0m: Adding directory to artifact (/content/wandb/run-20230124_133619-2bcze3i7/files/model-best)... Done. 0.0s\n"
          ]
        },
        {
          "name": "stdout",
          "output_type": "stream",
          "text": [
            "\b\b\b\b\b\b\b\b\b\b\b\b\b\b\b\b\b\b\b\b\b\b\b\b\b\b\b\b\b\b\b\b\b\b\b\b\b\b\b\b\b\b\b\b\b\b\b\b\b\b\b\b\b\b\b\b\b\b\b\b\b\b\b\b\b\b\b\b\b\b\b\b\b\b\b\b\b\b\b\b\b\b\b\b\b\b\b\b\b\b\b\b\b\b\b\b\b\b\b\b\b\b\b\b\b\b\b\b\b\b\b\r61/61 [==============================] - 14s 238ms/step - loss: 0.2587 - mae: 0.1674 - root_mean_squared_error: 0.2585 - val_loss: 0.1774 - val_mae: 0.1555 - val_root_mean_squared_error: 0.1796 - lr: 0.0788\n",
            "Epoch 4/500\n",
            "61/61 [==============================] - ETA: 0s - loss: 0.2171 - mae: 0.1649 - root_mean_squared_error: 0.2171"
          ]
        },
        {
          "name": "stderr",
          "output_type": "stream",
          "text": [
            "WARNING:absl:Found untraced functions such as residual_block_0_layer_call_fn, residual_block_0_layer_call_and_return_conditional_losses, residual_block_1_layer_call_fn, residual_block_1_layer_call_and_return_conditional_losses, residual_block_2_layer_call_fn while saving (showing 5 of 257). These functions will not be directly callable after loading.\n",
            "\u001b[34m\u001b[1mwandb\u001b[0m: Adding directory to artifact (/content/wandb/run-20230124_133619-2bcze3i7/files/model-best)... Done. 0.0s\n"
          ]
        },
        {
          "name": "stdout",
          "output_type": "stream",
          "text": [
            "\b\b\b\b\b\b\b\b\b\b\b\b\b\b\b\b\b\b\b\b\b\b\b\b\b\b\b\b\b\b\b\b\b\b\b\b\b\b\b\b\b\b\b\b\b\b\b\b\b\b\b\b\b\b\b\b\b\b\b\b\b\b\b\b\b\b\b\b\b\b\b\b\b\b\b\b\b\b\b\b\b\b\b\b\b\b\b\b\b\b\b\b\b\b\b\b\b\b\b\b\b\b\b\b\b\b\b\b\b\b\b\r61/61 [==============================] - 14s 233ms/step - loss: 0.2171 - mae: 0.1649 - root_mean_squared_error: 0.2171 - val_loss: 0.1725 - val_mae: 0.1503 - val_root_mean_squared_error: 0.1746 - lr: 0.0788\n",
            "Epoch 5/500\n",
            "61/61 [==============================] - ETA: 0s - loss: 0.2170 - mae: 0.1650 - root_mean_squared_error: 0.2171"
          ]
        },
        {
          "name": "stderr",
          "output_type": "stream",
          "text": [
            "WARNING:absl:Found untraced functions such as residual_block_0_layer_call_fn, residual_block_0_layer_call_and_return_conditional_losses, residual_block_1_layer_call_fn, residual_block_1_layer_call_and_return_conditional_losses, residual_block_2_layer_call_fn while saving (showing 5 of 257). These functions will not be directly callable after loading.\n",
            "\u001b[34m\u001b[1mwandb\u001b[0m: Adding directory to artifact (/content/wandb/run-20230124_133619-2bcze3i7/files/model-best)... Done. 0.0s\n"
          ]
        },
        {
          "name": "stdout",
          "output_type": "stream",
          "text": [
            "\b\b\b\b\b\b\b\b\b\b\b\b\b\b\b\b\b\b\b\b\b\b\b\b\b\b\b\b\b\b\b\b\b\b\b\b\b\b\b\b\b\b\b\b\b\b\b\b\b\b\b\b\b\b\b\b\b\b\b\b\b\b\b\b\b\b\b\b\b\b\b\b\b\b\b\b\b\b\b\b\b\b\b\b\b\b\b\b\b\b\b\b\b\b\b\b\b\b\b\b\b\b\b\b\b\b\b\b\b\b\b\r61/61 [==============================] - 14s 238ms/step - loss: 0.2170 - mae: 0.1650 - root_mean_squared_error: 0.2171 - val_loss: 0.1669 - val_mae: 0.1443 - val_root_mean_squared_error: 0.1690 - lr: 0.0788\n",
            "Epoch 6/500\n",
            "61/61 [==============================] - 4s 68ms/step - loss: 0.2171 - mae: 0.1649 - root_mean_squared_error: 0.2172 - val_loss: 0.1801 - val_mae: 0.1582 - val_root_mean_squared_error: 0.1823 - lr: 0.0788\n",
            "Epoch 7/500\n",
            "61/61 [==============================] - 4s 67ms/step - loss: 0.2170 - mae: 0.1649 - root_mean_squared_error: 0.2169 - val_loss: 0.1750 - val_mae: 0.1529 - val_root_mean_squared_error: 0.1772 - lr: 0.0788\n",
            "Epoch 8/500\n",
            "61/61 [==============================] - 4s 67ms/step - loss: 0.2170 - mae: 0.1649 - root_mean_squared_error: 0.2170 - val_loss: 0.1722 - val_mae: 0.1499 - val_root_mean_squared_error: 0.1743 - lr: 0.0788\n",
            "Epoch 9/500\n",
            "61/61 [==============================] - 4s 67ms/step - loss: 0.2171 - mae: 0.1650 - root_mean_squared_error: 0.2171 - val_loss: 0.1771 - val_mae: 0.1552 - val_root_mean_squared_error: 0.1793 - lr: 0.0788\n",
            "Epoch 10/500\n",
            "61/61 [==============================] - 4s 67ms/step - loss: 0.2173 - mae: 0.1652 - root_mean_squared_error: 0.2173 - val_loss: 0.1906 - val_mae: 0.1695 - val_root_mean_squared_error: 0.1930 - lr: 0.0788\n",
            "Epoch 11/500\n",
            "61/61 [==============================] - 4s 68ms/step - loss: 0.2172 - mae: 0.1651 - root_mean_squared_error: 0.2172 - val_loss: 0.1681 - val_mae: 0.1454 - val_root_mean_squared_error: 0.1701 - lr: 0.0788\n",
            "Epoch 12/500\n",
            "61/61 [==============================] - 4s 68ms/step - loss: 0.2562 - mae: 0.1672 - root_mean_squared_error: 0.2561 - val_loss: 0.1829 - val_mae: 0.1613 - val_root_mean_squared_error: 0.1852 - lr: 0.0788\n",
            "Epoch 13/500\n",
            "60/61 [============================>.] - ETA: 0s - loss: 0.2179 - mae: 0.1657 - root_mean_squared_error: 0.2179"
          ]
        },
        {
          "name": "stderr",
          "output_type": "stream",
          "text": [
            "WARNING:absl:Found untraced functions such as residual_block_0_layer_call_fn, residual_block_0_layer_call_and_return_conditional_losses, residual_block_1_layer_call_fn, residual_block_1_layer_call_and_return_conditional_losses, residual_block_2_layer_call_fn while saving (showing 5 of 257). These functions will not be directly callable after loading.\n",
            "\u001b[34m\u001b[1mwandb\u001b[0m: Adding directory to artifact (/content/wandb/run-20230124_133619-2bcze3i7/files/model-best)... Done. 0.0s\n"
          ]
        },
        {
          "name": "stdout",
          "output_type": "stream",
          "text": [
            "\b\b\b\b\b\b\b\b\b\b\b\b\b\b\b\b\b\b\b\b\b\b\b\b\b\b\b\b\b\b\b\b\b\b\b\b\b\b\b\b\b\b\b\b\b\b\b\b\b\b\b\b\b\b\b\b\b\b\b\b\b\b\b\b\b\b\b\b\b\b\b\b\b\b\b\b\b\b\b\b\b\b\b\b\b\b\b\b\b\b\b\b\b\b\b\b\b\b\b\b\b\b\b\b\b\b\b\b\b\b\b\r61/61 [==============================] - 14s 232ms/step - loss: 0.2179 - mae: 0.1657 - root_mean_squared_error: 0.2180 - val_loss: 0.1610 - val_mae: 0.1377 - val_root_mean_squared_error: 0.1629 - lr: 0.0788\n",
            "Epoch 14/500\n",
            "61/61 [==============================] - 4s 68ms/step - loss: 0.2174 - mae: 0.1652 - root_mean_squared_error: 0.2174 - val_loss: 0.1900 - val_mae: 0.1688 - val_root_mean_squared_error: 0.1924 - lr: 0.0788\n",
            "Epoch 15/500\n",
            "61/61 [==============================] - 4s 66ms/step - loss: 0.2175 - mae: 0.1652 - root_mean_squared_error: 0.2175 - val_loss: 0.1878 - val_mae: 0.1665 - val_root_mean_squared_error: 0.1902 - lr: 0.0788\n",
            "Epoch 16/500\n",
            "61/61 [==============================] - 4s 66ms/step - loss: 0.2171 - mae: 0.1651 - root_mean_squared_error: 0.2171 - val_loss: 0.1794 - val_mae: 0.1576 - val_root_mean_squared_error: 0.1816 - lr: 0.0788\n",
            "Epoch 17/500\n",
            "61/61 [==============================] - 4s 67ms/step - loss: 0.2170 - mae: 0.1648 - root_mean_squared_error: 0.2170 - val_loss: 0.1750 - val_mae: 0.1529 - val_root_mean_squared_error: 0.1772 - lr: 0.0788\n",
            "Epoch 18/500\n",
            "61/61 [==============================] - ETA: 0s - loss: 0.2171 - mae: 0.1651 - root_mean_squared_error: 0.2171"
          ]
        },
        {
          "name": "stderr",
          "output_type": "stream",
          "text": [
            "WARNING:absl:Found untraced functions such as residual_block_0_layer_call_fn, residual_block_0_layer_call_and_return_conditional_losses, residual_block_1_layer_call_fn, residual_block_1_layer_call_and_return_conditional_losses, residual_block_2_layer_call_fn while saving (showing 5 of 257). These functions will not be directly callable after loading.\n",
            "\u001b[34m\u001b[1mwandb\u001b[0m: Adding directory to artifact (/content/wandb/run-20230124_133619-2bcze3i7/files/model-best)... Done. 0.0s\n"
          ]
        },
        {
          "name": "stdout",
          "output_type": "stream",
          "text": [
            "\b\b\b\b\b\b\b\b\b\b\b\b\b\b\b\b\b\b\b\b\b\b\b\b\b\b\b\b\b\b\b\b\b\b\b\b\b\b\b\b\b\b\b\b\b\b\b\b\b\b\b\b\b\b\b\b\b\b\b\b\b\b\b\b\b\b\b\b\b\b\b\b\b\b\b\b\b\b\b\b\b\b\b\b\b\b\b\b\b\b\b\b\b\b\b\b\b\b\b\b\b\b\b\b\b\b\b\b\b\b\b\r61/61 [==============================] - 14s 236ms/step - loss: 0.2171 - mae: 0.1651 - root_mean_squared_error: 0.2171 - val_loss: 0.1606 - val_mae: 0.1373 - val_root_mean_squared_error: 0.1625 - lr: 0.0788\n",
            "Epoch 19/500\n",
            "61/61 [==============================] - 4s 70ms/step - loss: 0.2174 - mae: 0.1652 - root_mean_squared_error: 0.2175 - val_loss: 0.1933 - val_mae: 0.1721 - val_root_mean_squared_error: 0.1957 - lr: 0.0788\n",
            "Epoch 20/500\n",
            "61/61 [==============================] - 4s 67ms/step - loss: 0.2174 - mae: 0.1651 - root_mean_squared_error: 0.2174 - val_loss: 0.1760 - val_mae: 0.1541 - val_root_mean_squared_error: 0.1782 - lr: 0.0788\n",
            "Epoch 21/500\n",
            "61/61 [==============================] - 4s 67ms/step - loss: 0.2170 - mae: 0.1649 - root_mean_squared_error: 0.2169 - val_loss: 0.1890 - val_mae: 0.1678 - val_root_mean_squared_error: 0.1914 - lr: 0.0788\n",
            "Epoch 22/500\n",
            "61/61 [==============================] - 4s 67ms/step - loss: 0.2174 - mae: 0.1653 - root_mean_squared_error: 0.2173 - val_loss: 0.1730 - val_mae: 0.1508 - val_root_mean_squared_error: 0.1751 - lr: 0.0788\n",
            "Epoch 23/500\n",
            "61/61 [==============================] - 4s 68ms/step - loss: 0.2170 - mae: 0.1649 - root_mean_squared_error: 0.2170 - val_loss: 0.1694 - val_mae: 0.1470 - val_root_mean_squared_error: 0.1715 - lr: 0.0788\n",
            "Epoch 24/500\n",
            "61/61 [==============================] - 4s 67ms/step - loss: 0.2178 - mae: 0.1655 - root_mean_squared_error: 0.2178 - val_loss: 0.1712 - val_mae: 0.1488 - val_root_mean_squared_error: 0.1733 - lr: 0.0788\n",
            "Epoch 25/500\n",
            "61/61 [==============================] - 4s 67ms/step - loss: 0.2172 - mae: 0.1653 - root_mean_squared_error: 0.2172 - val_loss: 0.1697 - val_mae: 0.1471 - val_root_mean_squared_error: 0.1717 - lr: 0.0788\n",
            "Epoch 26/500\n",
            "61/61 [==============================] - 4s 67ms/step - loss: 0.2172 - mae: 0.1649 - root_mean_squared_error: 0.2172 - val_loss: 0.1817 - val_mae: 0.1601 - val_root_mean_squared_error: 0.1840 - lr: 0.0788\n",
            "Epoch 27/500\n",
            "61/61 [==============================] - 4s 68ms/step - loss: 0.2172 - mae: 0.1651 - root_mean_squared_error: 0.2172 - val_loss: 0.1722 - val_mae: 0.1499 - val_root_mean_squared_error: 0.1744 - lr: 0.0788\n",
            "Epoch 28/500\n",
            "61/61 [==============================] - ETA: 0s - loss: 0.2177 - mae: 0.1658 - root_mean_squared_error: 0.2178"
          ]
        },
        {
          "name": "stderr",
          "output_type": "stream",
          "text": [
            "WARNING:absl:Found untraced functions such as residual_block_0_layer_call_fn, residual_block_0_layer_call_and_return_conditional_losses, residual_block_1_layer_call_fn, residual_block_1_layer_call_and_return_conditional_losses, residual_block_2_layer_call_fn while saving (showing 5 of 257). These functions will not be directly callable after loading.\n",
            "\u001b[34m\u001b[1mwandb\u001b[0m: Adding directory to artifact (/content/wandb/run-20230124_133619-2bcze3i7/files/model-best)... Done. 0.0s\n"
          ]
        },
        {
          "name": "stdout",
          "output_type": "stream",
          "text": [
            "\b\b\b\b\b\b\b\b\b\b\b\b\b\b\b\b\b\b\b\b\b\b\b\b\b\b\b\b\b\b\b\b\b\b\b\b\b\b\b\b\b\b\b\b\b\b\b\b\b\b\b\b\b\b\b\b\b\b\b\b\b\b\b\b\b\b\b\b\b\b\b\b\b\b\b\b\b\b\b\b\b\b\b\b\b\b\b\b\b\b\b\b\b\b\b\b\b\b\b\b\b\b\b\b\b\b\b\b\b\b\b\r61/61 [==============================] - 14s 236ms/step - loss: 0.2177 - mae: 0.1658 - root_mean_squared_error: 0.2178 - val_loss: 0.1600 - val_mae: 0.1366 - val_root_mean_squared_error: 0.1618 - lr: 0.0788\n",
            "Epoch 29/500\n",
            "61/61 [==============================] - 4s 70ms/step - loss: 0.2171 - mae: 0.1648 - root_mean_squared_error: 0.2172 - val_loss: 0.1836 - val_mae: 0.1621 - val_root_mean_squared_error: 0.1859 - lr: 0.0788\n",
            "Epoch 30/500\n",
            "61/61 [==============================] - 4s 67ms/step - loss: 0.2171 - mae: 0.1652 - root_mean_squared_error: 0.2172 - val_loss: 0.1699 - val_mae: 0.1475 - val_root_mean_squared_error: 0.1720 - lr: 0.0788\n",
            "Epoch 31/500\n",
            "61/61 [==============================] - 4s 66ms/step - loss: 0.2170 - mae: 0.1649 - root_mean_squared_error: 0.2171 - val_loss: 0.1844 - val_mae: 0.1629 - val_root_mean_squared_error: 0.1867 - lr: 0.0788\n",
            "Epoch 32/500\n",
            "61/61 [==============================] - 4s 67ms/step - loss: 0.2171 - mae: 0.1649 - root_mean_squared_error: 0.2170 - val_loss: 0.1885 - val_mae: 0.1673 - val_root_mean_squared_error: 0.1909 - lr: 0.0788\n",
            "Epoch 33/500\n",
            "61/61 [==============================] - 4s 67ms/step - loss: 0.2177 - mae: 0.1656 - root_mean_squared_error: 0.2177 - val_loss: 0.1811 - val_mae: 0.1595 - val_root_mean_squared_error: 0.1834 - lr: 0.0788\n",
            "Epoch 34/500\n",
            "61/61 [==============================] - 4s 67ms/step - loss: 0.2173 - mae: 0.1652 - root_mean_squared_error: 0.2173 - val_loss: 0.1703 - val_mae: 0.1479 - val_root_mean_squared_error: 0.1723 - lr: 0.0788\n",
            "Epoch 35/500\n",
            "61/61 [==============================] - 4s 67ms/step - loss: 0.2170 - mae: 0.1649 - root_mean_squared_error: 0.2170 - val_loss: 0.1712 - val_mae: 0.1489 - val_root_mean_squared_error: 0.1733 - lr: 0.0788\n",
            "Epoch 36/500\n",
            "61/61 [==============================] - 4s 70ms/step - loss: 0.2169 - mae: 0.1648 - root_mean_squared_error: 0.2170 - val_loss: 0.1803 - val_mae: 0.1585 - val_root_mean_squared_error: 0.1825 - lr: 0.0788\n",
            "Epoch 37/500\n",
            "61/61 [==============================] - 4s 69ms/step - loss: 0.2175 - mae: 0.1653 - root_mean_squared_error: 0.2175 - val_loss: 0.1767 - val_mae: 0.1547 - val_root_mean_squared_error: 0.1788 - lr: 0.0788\n",
            "Epoch 38/500\n",
            "61/61 [==============================] - 4s 67ms/step - loss: 0.2172 - mae: 0.1651 - root_mean_squared_error: 0.2172 - val_loss: 0.1797 - val_mae: 0.1580 - val_root_mean_squared_error: 0.1819 - lr: 0.0788\n",
            "Epoch 39/500\n",
            "61/61 [==============================] - 4s 67ms/step - loss: 0.2168 - mae: 0.1647 - root_mean_squared_error: 0.2169 - val_loss: 0.1792 - val_mae: 0.1575 - val_root_mean_squared_error: 0.1815 - lr: 0.0079\n",
            "Epoch 40/500\n",
            "61/61 [==============================] - 4s 67ms/step - loss: 0.2169 - mae: 0.1648 - root_mean_squared_error: 0.2168 - val_loss: 0.1790 - val_mae: 0.1573 - val_root_mean_squared_error: 0.1813 - lr: 0.0079\n",
            "Epoch 41/500\n",
            "61/61 [==============================] - 4s 67ms/step - loss: 0.2168 - mae: 0.1648 - root_mean_squared_error: 0.2168 - val_loss: 0.1766 - val_mae: 0.1547 - val_root_mean_squared_error: 0.1788 - lr: 0.0079\n",
            "Epoch 42/500\n",
            "61/61 [==============================] - 4s 66ms/step - loss: 0.2169 - mae: 0.1650 - root_mean_squared_error: 0.2168 - val_loss: 0.1750 - val_mae: 0.1530 - val_root_mean_squared_error: 0.1772 - lr: 0.0079\n",
            "Epoch 43/500\n",
            "61/61 [==============================] - 4s 67ms/step - loss: 0.2169 - mae: 0.1646 - root_mean_squared_error: 0.2170 - val_loss: 0.1819 - val_mae: 0.1603 - val_root_mean_squared_error: 0.1842 - lr: 0.0079\n"
          ]
        },
        {
          "data": {
            "text/html": [
              "Waiting for W&B process to finish... <strong style=\"color:green\">(success).</strong>"
            ],
            "text/plain": [
              "<IPython.core.display.HTML object>"
            ]
          },
          "metadata": {},
          "output_type": "display_data"
        },
        {
          "data": {
            "application/vnd.jupyter.widget-view+json": {
              "model_id": "6e783f5fa20b4d8d82e12c55269c5db6",
              "version_major": 2,
              "version_minor": 0
            },
            "text/plain": [
              "VBox(children=(Label(value='24.644 MB of 24.644 MB uploaded (0.698 MB deduped)\\r'), FloatProgress(value=1.0, m…"
            ]
          },
          "metadata": {},
          "output_type": "display_data"
        },
        {
          "data": {
            "text/html": [
              "<style>\n",
              "    table.wandb td:nth-child(1) { padding: 0 10px; text-align: left ; width: auto;} td:nth-child(2) {text-align: left ; width: 100%}\n",
              "    .wandb-row { display: flex; flex-direction: row; flex-wrap: wrap; justify-content: flex-start; width: 100% }\n",
              "    .wandb-col { display: flex; flex-direction: column; flex-basis: 100%; flex: 1; padding: 10px; }\n",
              "    </style>\n",
              "<div class=\"wandb-row\"><div class=\"wandb-col\"><h3>Run history:</h3><br/><table class=\"wandb\"><tr><td>epoch</td><td>▁▁▁▁▂▂▂▂▂▃▃▃▃▃▃▄▄▄▄▄▅▅▅▅▅▅▆▆▆▆▆▇▇▇▇▇▇▇██</td></tr><tr><td>loss</td><td>█▁▂▁▁▁▁▁▁▁▁▂▁▁▁▁▁▁▁▁▁▁▁▁▁▁▁▁▁▁▁▁▁▁▁▁▁▁▁▁</td></tr><tr><td>mae</td><td>█▁▁▁▁▁▁▁▁▁▁▁▁▁▁▁▁▁▁▁▁▁▁▁▁▁▁▁▁▁▁▁▁▁▁▁▁▁▁▁</td></tr><tr><td>root_mean_squared_error</td><td>█▁▂▁▁▁▁▁▁▁▁▂▁▁▁▁▁▁▁▁▁▁▁▁▁▁▁▁▁▁▁▁▁▁▁▁▁▁▁▁</td></tr><tr><td>val_loss</td><td>▇▆▅▄▂▅▄▃▅▇▃▆▁▇▅▄▁█▄▇▄▃▃▃▆▃▆▃▆▇▅▃▃▅▄▅▅▅▄▆</td></tr><tr><td>val_mae</td><td>▇▇▅▄▂▅▄▄▅▇▃▆▁▇▅▄▁█▄▇▄▃▃▃▆▄▆▃▆▇▅▃▃▅▅▅▅▅▄▆</td></tr><tr><td>val_root_mean_squared_error</td><td>▇▆▅▄▂▅▄▄▅▇▃▆▁▇▅▄▁█▄▇▄▃▃▃▆▄▆▃▆▇▅▃▃▅▄▅▅▅▄▆</td></tr></table><br/></div><div class=\"wandb-col\"><h3>Run summary:</h3><br/><table class=\"wandb\"><tr><td>best_epoch</td><td>27</td></tr><tr><td>best_val_loss</td><td>0.15998</td></tr><tr><td>epoch</td><td>42</td></tr><tr><td>loss</td><td>0.21693</td></tr><tr><td>mae</td><td>0.16464</td></tr><tr><td>root_mean_squared_error</td><td>0.21697</td></tr><tr><td>val_loss</td><td>0.1819</td></tr><tr><td>val_mae</td><td>0.16032</td></tr><tr><td>val_root_mean_squared_error</td><td>0.18417</td></tr></table><br/></div></div>"
            ],
            "text/plain": [
              "<IPython.core.display.HTML object>"
            ]
          },
          "metadata": {},
          "output_type": "display_data"
        },
        {
          "data": {
            "text/html": [
              " View run <strong style=\"color:#cdcd00\">efficient-sweep-23</strong> at: <a href=\"https://wandb.ai/dsp_aguro/aguro_tcn/runs/2bcze3i7\" target=\"_blank\">https://wandb.ai/dsp_aguro/aguro_tcn/runs/2bcze3i7</a><br/>Synced 5 W&B file(s), 1 media file(s), 32 artifact file(s) and 1 other file(s)"
            ],
            "text/plain": [
              "<IPython.core.display.HTML object>"
            ]
          },
          "metadata": {},
          "output_type": "display_data"
        },
        {
          "data": {
            "text/html": [
              "Find logs at: <code>./wandb/run-20230124_133619-2bcze3i7/logs</code>"
            ],
            "text/plain": [
              "<IPython.core.display.HTML object>"
            ]
          },
          "metadata": {},
          "output_type": "display_data"
        },
        {
          "name": "stderr",
          "output_type": "stream",
          "text": [
            "\u001b[34m\u001b[1mwandb\u001b[0m: Agent Starting Run: 1bsqvlxd with config:\n",
            "\u001b[34m\u001b[1mwandb\u001b[0m: \tbatch_size: 512\n",
            "\u001b[34m\u001b[1mwandb\u001b[0m: \tdropout_rate: 0.7\n",
            "\u001b[34m\u001b[1mwandb\u001b[0m: \tepochs: 500\n",
            "\u001b[34m\u001b[1mwandb\u001b[0m: \tkernel_size: 8\n",
            "\u001b[34m\u001b[1mwandb\u001b[0m: \tlr: 0.0010952382309447515\n",
            "\u001b[34m\u001b[1mwandb\u001b[0m: \tnb_filters: 16\n",
            "\u001b[34m\u001b[1mwandb\u001b[0m: \toptimizer: adam\n",
            "Failed to detect the name of this notebook, you can set it manually with the WANDB_NOTEBOOK_NAME environment variable to enable code saving.\n"
          ]
        },
        {
          "data": {
            "text/html": [
              "Tracking run with wandb version 0.13.9"
            ],
            "text/plain": [
              "<IPython.core.display.HTML object>"
            ]
          },
          "metadata": {},
          "output_type": "display_data"
        },
        {
          "data": {
            "text/html": [
              "Run data is saved locally in <code>/content/wandb/run-20230124_134056-1bsqvlxd</code>"
            ],
            "text/plain": [
              "<IPython.core.display.HTML object>"
            ]
          },
          "metadata": {},
          "output_type": "display_data"
        },
        {
          "data": {
            "text/html": [
              "Syncing run <strong><a href=\"https://wandb.ai/dsp_aguro/aguro_tcn/runs/1bsqvlxd\" target=\"_blank\">wild-sweep-24</a></strong> to <a href=\"https://wandb.ai/dsp_aguro/aguro_tcn\" target=\"_blank\">Weights & Biases</a> (<a href=\"https://wandb.me/run\" target=\"_blank\">docs</a>)<br/>Sweep page: <a href=\"https://wandb.ai/dsp_aguro/aguro_tcn/sweeps/9vw7gd6y\" target=\"_blank\">https://wandb.ai/dsp_aguro/aguro_tcn/sweeps/9vw7gd6y</a>"
            ],
            "text/plain": [
              "<IPython.core.display.HTML object>"
            ]
          },
          "metadata": {},
          "output_type": "display_data"
        },
        {
          "data": {
            "text/html": [
              " View project at <a href=\"https://wandb.ai/dsp_aguro/aguro_tcn\" target=\"_blank\">https://wandb.ai/dsp_aguro/aguro_tcn</a>"
            ],
            "text/plain": [
              "<IPython.core.display.HTML object>"
            ]
          },
          "metadata": {},
          "output_type": "display_data"
        },
        {
          "data": {
            "text/html": [
              " View sweep at <a href=\"https://wandb.ai/dsp_aguro/aguro_tcn/sweeps/9vw7gd6y\" target=\"_blank\">https://wandb.ai/dsp_aguro/aguro_tcn/sweeps/9vw7gd6y</a>"
            ],
            "text/plain": [
              "<IPython.core.display.HTML object>"
            ]
          },
          "metadata": {},
          "output_type": "display_data"
        },
        {
          "data": {
            "text/html": [
              " View run at <a href=\"https://wandb.ai/dsp_aguro/aguro_tcn/runs/1bsqvlxd\" target=\"_blank\">https://wandb.ai/dsp_aguro/aguro_tcn/runs/1bsqvlxd</a>"
            ],
            "text/plain": [
              "<IPython.core.display.HTML object>"
            ]
          },
          "metadata": {},
          "output_type": "display_data"
        },
        {
          "name": "stdout",
          "output_type": "stream",
          "text": [
            "Epoch 1/500\n",
            " 6/61 [=>............................] - ETA: 4s - loss: 28.6063 - mae: 14.6283 - root_mean_squared_error: 28.6063"
          ]
        },
        {
          "name": "stderr",
          "output_type": "stream",
          "text": [
            "WARNING:tensorflow:Callback method `on_train_batch_end` is slow compared to the batch time (batch time: 0.0248s vs `on_train_batch_end` time: 0.0491s). Check your callbacks.\n"
          ]
        },
        {
          "name": "stdout",
          "output_type": "stream",
          "text": [
            "61/61 [==============================] - ETA: 0s - loss: 5.5479 - mae: 3.0328 - root_mean_squared_error: 5.5301"
          ]
        },
        {
          "name": "stderr",
          "output_type": "stream",
          "text": [
            "WARNING:absl:Found untraced functions such as residual_block_0_layer_call_fn, residual_block_0_layer_call_and_return_conditional_losses, residual_block_1_layer_call_fn, residual_block_1_layer_call_and_return_conditional_losses, residual_block_2_layer_call_fn while saving (showing 5 of 257). These functions will not be directly callable after loading.\n",
            "\u001b[34m\u001b[1mwandb\u001b[0m: Adding directory to artifact (/content/wandb/run-20230124_134056-1bsqvlxd/files/model-best)... Done. 0.0s\n"
          ]
        },
        {
          "name": "stdout",
          "output_type": "stream",
          "text": [
            "\b\b\b\b\b\b\b\b\b\b\b\b\b\b\b\b\b\b\b\b\b\b\b\b\b\b\b\b\b\b\b\b\b\b\b\b\b\b\b\b\b\b\b\b\b\b\b\b\b\b\b\b\b\b\b\b\b\b\b\b\b\b\b\b\b\b\b\b\b\b\b\b\b\b\b\b\b\b\b\b\b\b\b\b\b\b\b\b\b\b\b\b\b\b\b\b\b\b\b\b\b\b\b\b\b\b\b\b\b\b\b\r61/61 [==============================] - 20s 251ms/step - loss: 5.5479 - mae: 3.0328 - root_mean_squared_error: 5.5301 - val_loss: 0.7693 - val_mae: 0.7571 - val_root_mean_squared_error: 0.7731 - lr: 0.0011\n",
            "Epoch 2/500\n",
            "61/61 [==============================] - ETA: 0s - loss: 0.7950 - mae: 0.6221 - root_mean_squared_error: 0.7945"
          ]
        },
        {
          "name": "stderr",
          "output_type": "stream",
          "text": [
            "WARNING:absl:Found untraced functions such as residual_block_0_layer_call_fn, residual_block_0_layer_call_and_return_conditional_losses, residual_block_1_layer_call_fn, residual_block_1_layer_call_and_return_conditional_losses, residual_block_2_layer_call_fn while saving (showing 5 of 257). These functions will not be directly callable after loading.\n",
            "\u001b[34m\u001b[1mwandb\u001b[0m: Adding directory to artifact (/content/wandb/run-20230124_134056-1bsqvlxd/files/model-best)... Done. 0.0s\n"
          ]
        },
        {
          "name": "stdout",
          "output_type": "stream",
          "text": [
            "\b\b\b\b\b\b\b\b\b\b\b\b\b\b\b\b\b\b\b\b\b\b\b\b\b\b\b\b\b\b\b\b\b\b\b\b\b\b\b\b\b\b\b\b\b\b\b\b\b\b\b\b\b\b\b\b\b\b\b\b\b\b\b\b\b\b\b\b\b\b\b\b\b\b\b\b\b\b\b\b\b\b\b\b\b\b\b\b\b\b\b\b\b\b\b\b\b\b\b\b\b\b\b\b\b\b\b\b\b\b\b\r61/61 [==============================] - 14s 237ms/step - loss: 0.7950 - mae: 0.6221 - root_mean_squared_error: 0.7945 - val_loss: 0.6636 - val_mae: 0.6498 - val_root_mean_squared_error: 0.6672 - lr: 0.0011\n",
            "Epoch 3/500\n",
            "61/61 [==============================] - ETA: 0s - loss: 0.5546 - mae: 0.4509 - root_mean_squared_error: 0.5542"
          ]
        },
        {
          "name": "stderr",
          "output_type": "stream",
          "text": [
            "WARNING:absl:Found untraced functions such as residual_block_0_layer_call_fn, residual_block_0_layer_call_and_return_conditional_losses, residual_block_1_layer_call_fn, residual_block_1_layer_call_and_return_conditional_losses, residual_block_2_layer_call_fn while saving (showing 5 of 257). These functions will not be directly callable after loading.\n",
            "\u001b[34m\u001b[1mwandb\u001b[0m: Adding directory to artifact (/content/wandb/run-20230124_134056-1bsqvlxd/files/model-best)... Done. 0.0s\n"
          ]
        },
        {
          "name": "stdout",
          "output_type": "stream",
          "text": [
            "\b\b\b\b\b\b\b\b\b\b\b\b\b\b\b\b\b\b\b\b\b\b\b\b\b\b\b\b\b\b\b\b\b\b\b\b\b\b\b\b\b\b\b\b\b\b\b\b\b\b\b\b\b\b\b\b\b\b\b\b\b\b\b\b\b\b\b\b\b\b\b\b\b\b\b\b\b\b\b\b\b\b\b\b\b\b\b\b\b\b\b\b\b\b\b\b\b\b\b\b\b\b\b\b\b\b\b\b\b\b\b\r61/61 [==============================] - 14s 236ms/step - loss: 0.5546 - mae: 0.4509 - root_mean_squared_error: 0.5542 - val_loss: 0.4517 - val_mae: 0.4264 - val_root_mean_squared_error: 0.4551 - lr: 0.0011\n",
            "Epoch 4/500\n",
            "61/61 [==============================] - ETA: 0s - loss: 0.4315 - mae: 0.3396 - root_mean_squared_error: 0.4314"
          ]
        },
        {
          "name": "stderr",
          "output_type": "stream",
          "text": [
            "WARNING:absl:Found untraced functions such as residual_block_0_layer_call_fn, residual_block_0_layer_call_and_return_conditional_losses, residual_block_1_layer_call_fn, residual_block_1_layer_call_and_return_conditional_losses, residual_block_2_layer_call_fn while saving (showing 5 of 257). These functions will not be directly callable after loading.\n",
            "\u001b[34m\u001b[1mwandb\u001b[0m: Adding directory to artifact (/content/wandb/run-20230124_134056-1bsqvlxd/files/model-best)... Done. 0.0s\n"
          ]
        },
        {
          "name": "stdout",
          "output_type": "stream",
          "text": [
            "\b\b\b\b\b\b\b\b\b\b\b\b\b\b\b\b\b\b\b\b\b\b\b\b\b\b\b\b\b\b\b\b\b\b\b\b\b\b\b\b\b\b\b\b\b\b\b\b\b\b\b\b\b\b\b\b\b\b\b\b\b\b\b\b\b\b\b\b\b\b\b\b\b\b\b\b\b\b\b\b\b\b\b\b\b\b\b\b\b\b\b\b\b\b\b\b\b\b\b\b\b\b\b\b\b\b\b\b\b\b\b\r61/61 [==============================] - 14s 237ms/step - loss: 0.4315 - mae: 0.3396 - root_mean_squared_error: 0.4314 - val_loss: 0.3501 - val_mae: 0.3216 - val_root_mean_squared_error: 0.3533 - lr: 0.0011\n",
            "Epoch 5/500\n",
            "61/61 [==============================] - ETA: 0s - loss: 0.3563 - mae: 0.2821 - root_mean_squared_error: 0.3562"
          ]
        },
        {
          "name": "stderr",
          "output_type": "stream",
          "text": [
            "WARNING:absl:Found untraced functions such as residual_block_0_layer_call_fn, residual_block_0_layer_call_and_return_conditional_losses, residual_block_1_layer_call_fn, residual_block_1_layer_call_and_return_conditional_losses, residual_block_2_layer_call_fn while saving (showing 5 of 257). These functions will not be directly callable after loading.\n",
            "\u001b[34m\u001b[1mwandb\u001b[0m: Adding directory to artifact (/content/wandb/run-20230124_134056-1bsqvlxd/files/model-best)... Done. 0.0s\n"
          ]
        },
        {
          "name": "stdout",
          "output_type": "stream",
          "text": [
            "\b\b\b\b\b\b\b\b\b\b\b\b\b\b\b\b\b\b\b\b\b\b\b\b\b\b\b\b\b\b\b\b\b\b\b\b\b\b\b\b\b\b\b\b\b\b\b\b\b\b\b\b\b\b\b\b\b\b\b\b\b\b\b\b\b\b\b\b\b\b\b\b\b\b\b\b\b\b\b\b\b\b\b\b\b\b\b\b\b\b\b\b\b\b\b\b\b\b\b\b\b\b\b\b\b\b\b\b\b\b\b\r61/61 [==============================] - 14s 234ms/step - loss: 0.3563 - mae: 0.2821 - root_mean_squared_error: 0.3562 - val_loss: 0.2844 - val_mae: 0.2593 - val_root_mean_squared_error: 0.2874 - lr: 0.0011\n",
            "Epoch 6/500\n",
            "61/61 [==============================] - ETA: 0s - loss: 0.3085 - mae: 0.2437 - root_mean_squared_error: 0.3084"
          ]
        },
        {
          "name": "stderr",
          "output_type": "stream",
          "text": [
            "WARNING:absl:Found untraced functions such as residual_block_0_layer_call_fn, residual_block_0_layer_call_and_return_conditional_losses, residual_block_1_layer_call_fn, residual_block_1_layer_call_and_return_conditional_losses, residual_block_2_layer_call_fn while saving (showing 5 of 257). These functions will not be directly callable after loading.\n",
            "\u001b[34m\u001b[1mwandb\u001b[0m: Adding directory to artifact (/content/wandb/run-20230124_134056-1bsqvlxd/files/model-best)... Done. 0.0s\n"
          ]
        },
        {
          "name": "stdout",
          "output_type": "stream",
          "text": [
            "\b\b\b\b\b\b\b\b\b\b\b\b\b\b\b\b\b\b\b\b\b\b\b\b\b\b\b\b\b\b\b\b\b\b\b\b\b\b\b\b\b\b\b\b\b\b\b\b\b\b\b\b\b\b\b\b\b\b\b\b\b\b\b\b\b\b\b\b\b\b\b\b\b\b\b\b\b\b\b\b\b\b\b\b\b\b\b\b\b\b\b\b\b\b\b\b\b\b\b\b\b\b\b\b\b\b\b\b\b\b\b\r61/61 [==============================] - 20s 337ms/step - loss: 0.3085 - mae: 0.2437 - root_mean_squared_error: 0.3084 - val_loss: 0.2476 - val_mae: 0.2261 - val_root_mean_squared_error: 0.2504 - lr: 0.0011\n",
            "Epoch 7/500\n",
            "61/61 [==============================] - ETA: 0s - loss: 0.2784 - mae: 0.2218 - root_mean_squared_error: 0.2784"
          ]
        },
        {
          "name": "stderr",
          "output_type": "stream",
          "text": [
            "WARNING:absl:Found untraced functions such as residual_block_0_layer_call_fn, residual_block_0_layer_call_and_return_conditional_losses, residual_block_1_layer_call_fn, residual_block_1_layer_call_and_return_conditional_losses, residual_block_2_layer_call_fn while saving (showing 5 of 257). These functions will not be directly callable after loading.\n",
            "\u001b[34m\u001b[1mwandb\u001b[0m: Adding directory to artifact (/content/wandb/run-20230124_134056-1bsqvlxd/files/model-best)... Done. 0.0s\n"
          ]
        },
        {
          "name": "stdout",
          "output_type": "stream",
          "text": [
            "\b\b\b\b\b\b\b\b\b\b\b\b\b\b\b\b\b\b\b\b\b\b\b\b\b\b\b\b\b\b\b\b\b\b\b\b\b\b\b\b\b\b\b\b\b\b\b\b\b\b\b\b\b\b\b\b\b\b\b\b\b\b\b\b\b\b\b\b\b\b\b\b\b\b\b\b\b\b\b\b\b\b\b\b\b\b\b\b\b\b\b\b\b\b\b\b\b\b\b\b\b\b\b\b\b\b\b\b\b\b\b\r61/61 [==============================] - 14s 237ms/step - loss: 0.2784 - mae: 0.2218 - root_mean_squared_error: 0.2784 - val_loss: 0.2264 - val_mae: 0.2062 - val_root_mean_squared_error: 0.2291 - lr: 0.0011\n",
            "Epoch 8/500\n",
            "61/61 [==============================] - ETA: 0s - loss: 0.2616 - mae: 0.2076 - root_mean_squared_error: 0.2616"
          ]
        },
        {
          "name": "stderr",
          "output_type": "stream",
          "text": [
            "WARNING:absl:Found untraced functions such as residual_block_0_layer_call_fn, residual_block_0_layer_call_and_return_conditional_losses, residual_block_1_layer_call_fn, residual_block_1_layer_call_and_return_conditional_losses, residual_block_2_layer_call_fn while saving (showing 5 of 257). These functions will not be directly callable after loading.\n",
            "\u001b[34m\u001b[1mwandb\u001b[0m: Adding directory to artifact (/content/wandb/run-20230124_134056-1bsqvlxd/files/model-best)... Done. 0.0s\n"
          ]
        },
        {
          "name": "stdout",
          "output_type": "stream",
          "text": [
            "\b\b\b\b\b\b\b\b\b\b\b\b\b\b\b\b\b\b\b\b\b\b\b\b\b\b\b\b\b\b\b\b\b\b\b\b\b\b\b\b\b\b\b\b\b\b\b\b\b\b\b\b\b\b\b\b\b\b\b\b\b\b\b\b\b\b\b\b\b\b\b\b\b\b\b\b\b\b\b\b\b\b\b\b\b\b\b\b\b\b\b\b\b\b\b\b\b\b\b\b\b\b\b\b\b\b\b\b\b\b\b\r61/61 [==============================] - 14s 239ms/step - loss: 0.2616 - mae: 0.2076 - root_mean_squared_error: 0.2616 - val_loss: 0.2180 - val_mae: 0.1980 - val_root_mean_squared_error: 0.2206 - lr: 0.0011\n",
            "Epoch 9/500\n",
            "61/61 [==============================] - ETA: 0s - loss: 0.2498 - mae: 0.1974 - root_mean_squared_error: 0.2497"
          ]
        },
        {
          "name": "stderr",
          "output_type": "stream",
          "text": [
            "WARNING:absl:Found untraced functions such as residual_block_0_layer_call_fn, residual_block_0_layer_call_and_return_conditional_losses, residual_block_1_layer_call_fn, residual_block_1_layer_call_and_return_conditional_losses, residual_block_2_layer_call_fn while saving (showing 5 of 257). These functions will not be directly callable after loading.\n",
            "\u001b[34m\u001b[1mwandb\u001b[0m: Adding directory to artifact (/content/wandb/run-20230124_134056-1bsqvlxd/files/model-best)... Done. 0.0s\n"
          ]
        },
        {
          "name": "stdout",
          "output_type": "stream",
          "text": [
            "\b\b\b\b\b\b\b\b\b\b\b\b\b\b\b\b\b\b\b\b\b\b\b\b\b\b\b\b\b\b\b\b\b\b\b\b\b\b\b\b\b\b\b\b\b\b\b\b\b\b\b\b\b\b\b\b\b\b\b\b\b\b\b\b\b\b\b\b\b\b\b\b\b\b\b\b\b\b\b\b\b\b\b\b\b\b\b\b\b\b\b\b\b\b\b\b\b\b\b\b\b\b\b\b\b\b\b\b\b\b\b\r61/61 [==============================] - 14s 234ms/step - loss: 0.2498 - mae: 0.1974 - root_mean_squared_error: 0.2497 - val_loss: 0.2098 - val_mae: 0.1896 - val_root_mean_squared_error: 0.2123 - lr: 0.0011\n",
            "Epoch 10/500\n",
            "61/61 [==============================] - ETA: 0s - loss: 0.2410 - mae: 0.1902 - root_mean_squared_error: 0.2410"
          ]
        },
        {
          "name": "stderr",
          "output_type": "stream",
          "text": [
            "WARNING:absl:Found untraced functions such as residual_block_0_layer_call_fn, residual_block_0_layer_call_and_return_conditional_losses, residual_block_1_layer_call_fn, residual_block_1_layer_call_and_return_conditional_losses, residual_block_2_layer_call_fn while saving (showing 5 of 257). These functions will not be directly callable after loading.\n",
            "\u001b[34m\u001b[1mwandb\u001b[0m: Adding directory to artifact (/content/wandb/run-20230124_134056-1bsqvlxd/files/model-best)... Done. 0.0s\n"
          ]
        },
        {
          "name": "stdout",
          "output_type": "stream",
          "text": [
            "\b\b\b\b\b\b\b\b\b\b\b\b\b\b\b\b\b\b\b\b\b\b\b\b\b\b\b\b\b\b\b\b\b\b\b\b\b\b\b\b\b\b\b\b\b\b\b\b\b\b\b\b\b\b\b\b\b\b\b\b\b\b\b\b\b\b\b\b\b\b\b\b\b\b\b\b\b\b\b\b\b\b\b\b\b\b\b\b\b\b\b\b\b\b\b\b\b\b\b\b\b\b\b\b\b\b\b\b\b\b\b\r61/61 [==============================] - 14s 231ms/step - loss: 0.2410 - mae: 0.1902 - root_mean_squared_error: 0.2410 - val_loss: 0.2020 - val_mae: 0.1815 - val_root_mean_squared_error: 0.2045 - lr: 0.0011\n",
            "Epoch 11/500\n",
            "61/61 [==============================] - 4s 70ms/step - loss: 0.2359 - mae: 0.1848 - root_mean_squared_error: 0.2359 - val_loss: 0.2026 - val_mae: 0.1822 - val_root_mean_squared_error: 0.2051 - lr: 0.0011\n",
            "Epoch 12/500\n",
            "61/61 [==============================] - ETA: 0s - loss: 0.2311 - mae: 0.1806 - root_mean_squared_error: 0.2311"
          ]
        },
        {
          "name": "stderr",
          "output_type": "stream",
          "text": [
            "WARNING:absl:Found untraced functions such as residual_block_0_layer_call_fn, residual_block_0_layer_call_and_return_conditional_losses, residual_block_1_layer_call_fn, residual_block_1_layer_call_and_return_conditional_losses, residual_block_2_layer_call_fn while saving (showing 5 of 257). These functions will not be directly callable after loading.\n",
            "\u001b[34m\u001b[1mwandb\u001b[0m: Adding directory to artifact (/content/wandb/run-20230124_134056-1bsqvlxd/files/model-best)... Done. 0.0s\n"
          ]
        },
        {
          "name": "stdout",
          "output_type": "stream",
          "text": [
            "\b\b\b\b\b\b\b\b\b\b\b\b\b\b\b\b\b\b\b\b\b\b\b\b\b\b\b\b\b\b\b\b\b\b\b\b\b\b\b\b\b\b\b\b\b\b\b\b\b\b\b\b\b\b\b\b\b\b\b\b\b\b\b\b\b\b\b\b\b\b\b\b\b\b\b\b\b\b\b\b\b\b\b\b\b\b\b\b\b\b\b\b\b\b\b\b\b\b\b\b\b\b\b\b\b\b\b\b\b\b\b\r61/61 [==============================] - 14s 238ms/step - loss: 0.2311 - mae: 0.1806 - root_mean_squared_error: 0.2311 - val_loss: 0.1986 - val_mae: 0.1779 - val_root_mean_squared_error: 0.2010 - lr: 0.0011\n",
            "Epoch 13/500\n",
            "61/61 [==============================] - 4s 69ms/step - loss: 0.2271 - mae: 0.1770 - root_mean_squared_error: 0.2272 - val_loss: 0.2018 - val_mae: 0.1813 - val_root_mean_squared_error: 0.2043 - lr: 0.0011\n",
            "Epoch 14/500\n",
            "61/61 [==============================] - ETA: 0s - loss: 0.2245 - mae: 0.1746 - root_mean_squared_error: 0.2245"
          ]
        },
        {
          "name": "stderr",
          "output_type": "stream",
          "text": [
            "WARNING:absl:Found untraced functions such as residual_block_0_layer_call_fn, residual_block_0_layer_call_and_return_conditional_losses, residual_block_1_layer_call_fn, residual_block_1_layer_call_and_return_conditional_losses, residual_block_2_layer_call_fn while saving (showing 5 of 257). These functions will not be directly callable after loading.\n",
            "\u001b[34m\u001b[1mwandb\u001b[0m: Adding directory to artifact (/content/wandb/run-20230124_134056-1bsqvlxd/files/model-best)... Done. 0.0s\n"
          ]
        },
        {
          "name": "stdout",
          "output_type": "stream",
          "text": [
            "\b\b\b\b\b\b\b\b\b\b\b\b\b\b\b\b\b\b\b\b\b\b\b\b\b\b\b\b\b\b\b\b\b\b\b\b\b\b\b\b\b\b\b\b\b\b\b\b\b\b\b\b\b\b\b\b\b\b\b\b\b\b\b\b\b\b\b\b\b\b\b\b\b\b\b\b\b\b\b\b\b\b\b\b\b\b\b\b\b\b\b\b\b\b\b\b\b\b\b\b\b\b\b\b\b\b\b\b\b\b\b\r61/61 [==============================] - 14s 238ms/step - loss: 0.2245 - mae: 0.1746 - root_mean_squared_error: 0.2245 - val_loss: 0.1905 - val_mae: 0.1693 - val_root_mean_squared_error: 0.1929 - lr: 0.0011\n",
            "Epoch 15/500\n",
            "61/61 [==============================] - 4s 68ms/step - loss: 0.2229 - mae: 0.1722 - root_mean_squared_error: 0.2229 - val_loss: 0.1920 - val_mae: 0.1710 - val_root_mean_squared_error: 0.1944 - lr: 0.0011\n",
            "Epoch 16/500\n",
            "61/61 [==============================] - ETA: 0s - loss: 0.2231 - mae: 0.1707 - root_mean_squared_error: 0.2230"
          ]
        },
        {
          "name": "stderr",
          "output_type": "stream",
          "text": [
            "WARNING:absl:Found untraced functions such as residual_block_0_layer_call_fn, residual_block_0_layer_call_and_return_conditional_losses, residual_block_1_layer_call_fn, residual_block_1_layer_call_and_return_conditional_losses, residual_block_2_layer_call_fn while saving (showing 5 of 257). These functions will not be directly callable after loading.\n",
            "\u001b[34m\u001b[1mwandb\u001b[0m: Adding directory to artifact (/content/wandb/run-20230124_134056-1bsqvlxd/files/model-best)... Done. 0.0s\n"
          ]
        },
        {
          "name": "stdout",
          "output_type": "stream",
          "text": [
            "\b\b\b\b\b\b\b\b\b\b\b\b\b\b\b\b\b\b\b\b\b\b\b\b\b\b\b\b\b\b\b\b\b\b\b\b\b\b\b\b\b\b\b\b\b\b\b\b\b\b\b\b\b\b\b\b\b\b\b\b\b\b\b\b\b\b\b\b\b\b\b\b\b\b\b\b\b\b\b\b\b\b\b\b\b\b\b\b\b\b\b\b\b\b\b\b\b\b\b\b\b\b\b\b\b\b\b\b\b\b\b\r61/61 [==============================] - 14s 231ms/step - loss: 0.2231 - mae: 0.1707 - root_mean_squared_error: 0.2230 - val_loss: 0.1904 - val_mae: 0.1692 - val_root_mean_squared_error: 0.1927 - lr: 0.0011\n",
            "Epoch 17/500\n",
            "61/61 [==============================] - ETA: 0s - loss: 0.2204 - mae: 0.1693 - root_mean_squared_error: 0.2204"
          ]
        },
        {
          "name": "stderr",
          "output_type": "stream",
          "text": [
            "WARNING:absl:Found untraced functions such as residual_block_0_layer_call_fn, residual_block_0_layer_call_and_return_conditional_losses, residual_block_1_layer_call_fn, residual_block_1_layer_call_and_return_conditional_losses, residual_block_2_layer_call_fn while saving (showing 5 of 257). These functions will not be directly callable after loading.\n",
            "\u001b[34m\u001b[1mwandb\u001b[0m: Adding directory to artifact (/content/wandb/run-20230124_134056-1bsqvlxd/files/model-best)... Done. 0.0s\n"
          ]
        },
        {
          "name": "stdout",
          "output_type": "stream",
          "text": [
            "\b\b\b\b\b\b\b\b\b\b\b\b\b\b\b\b\b\b\b\b\b\b\b\b\b\b\b\b\b\b\b\b\b\b\b\b\b\b\b\b\b\b\b\b\b\b\b\b\b\b\b\b\b\b\b\b\b\b\b\b\b\b\b\b\b\b\b\b\b\b\b\b\b\b\b\b\b\b\b\b\b\b\b\b\b\b\b\b\b\b\b\b\b\b\b\b\b\b\b\b\b\b\b\b\b\b\b\b\b\b\b\r61/61 [==============================] - 14s 235ms/step - loss: 0.2204 - mae: 0.1693 - root_mean_squared_error: 0.2204 - val_loss: 0.1871 - val_mae: 0.1658 - val_root_mean_squared_error: 0.1894 - lr: 0.0011\n",
            "Epoch 18/500\n",
            "61/61 [==============================] - 4s 68ms/step - loss: 0.2195 - mae: 0.1683 - root_mean_squared_error: 0.2196 - val_loss: 0.1906 - val_mae: 0.1695 - val_root_mean_squared_error: 0.1930 - lr: 0.0011\n",
            "Epoch 19/500\n",
            "61/61 [==============================] - ETA: 0s - loss: 0.2183 - mae: 0.1676 - root_mean_squared_error: 0.2183"
          ]
        },
        {
          "name": "stderr",
          "output_type": "stream",
          "text": [
            "WARNING:absl:Found untraced functions such as residual_block_0_layer_call_fn, residual_block_0_layer_call_and_return_conditional_losses, residual_block_1_layer_call_fn, residual_block_1_layer_call_and_return_conditional_losses, residual_block_2_layer_call_fn while saving (showing 5 of 257). These functions will not be directly callable after loading.\n",
            "\u001b[34m\u001b[1mwandb\u001b[0m: Adding directory to artifact (/content/wandb/run-20230124_134056-1bsqvlxd/files/model-best)... Done. 0.0s\n"
          ]
        },
        {
          "name": "stdout",
          "output_type": "stream",
          "text": [
            "\b\b\b\b\b\b\b\b\b\b\b\b\b\b\b\b\b\b\b\b\b\b\b\b\b\b\b\b\b\b\b\b\b\b\b\b\b\b\b\b\b\b\b\b\b\b\b\b\b\b\b\b\b\b\b\b\b\b\b\b\b\b\b\b\b\b\b\b\b\b\b\b\b\b\b\b\b\b\b\b\b\b\b\b\b\b\b\b\b\b\b\b\b\b\b\b\b\b\b\b\b\b\b\b\b\b\b\b\b\b\b\r61/61 [==============================] - 14s 238ms/step - loss: 0.2183 - mae: 0.1676 - root_mean_squared_error: 0.2183 - val_loss: 0.1864 - val_mae: 0.1650 - val_root_mean_squared_error: 0.1887 - lr: 0.0011\n",
            "Epoch 20/500\n",
            "61/61 [==============================] - ETA: 0s - loss: 0.2180 - mae: 0.1668 - root_mean_squared_error: 0.2180"
          ]
        },
        {
          "name": "stderr",
          "output_type": "stream",
          "text": [
            "WARNING:absl:Found untraced functions such as residual_block_0_layer_call_fn, residual_block_0_layer_call_and_return_conditional_losses, residual_block_1_layer_call_fn, residual_block_1_layer_call_and_return_conditional_losses, residual_block_2_layer_call_fn while saving (showing 5 of 257). These functions will not be directly callable after loading.\n",
            "\u001b[34m\u001b[1mwandb\u001b[0m: Adding directory to artifact (/content/wandb/run-20230124_134056-1bsqvlxd/files/model-best)... Done. 0.0s\n"
          ]
        },
        {
          "name": "stdout",
          "output_type": "stream",
          "text": [
            "\b\b\b\b\b\b\b\b\b\b\b\b\b\b\b\b\b\b\b\b\b\b\b\b\b\b\b\b\b\b\b\b\b\b\b\b\b\b\b\b\b\b\b\b\b\b\b\b\b\b\b\b\b\b\b\b\b\b\b\b\b\b\b\b\b\b\b\b\b\b\b\b\b\b\b\b\b\b\b\b\b\b\b\b\b\b\b\b\b\b\b\b\b\b\b\b\b\b\b\b\b\b\b\b\b\b\b\b\b\b\b\r61/61 [==============================] - 14s 237ms/step - loss: 0.2180 - mae: 0.1668 - root_mean_squared_error: 0.2180 - val_loss: 0.1844 - val_mae: 0.1629 - val_root_mean_squared_error: 0.1867 - lr: 0.0011\n",
            "Epoch 21/500\n",
            "61/61 [==============================] - 4s 68ms/step - loss: 0.2174 - mae: 0.1660 - root_mean_squared_error: 0.2174 - val_loss: 0.1847 - val_mae: 0.1633 - val_root_mean_squared_error: 0.1870 - lr: 0.0011\n",
            "Epoch 22/500\n",
            "61/61 [==============================] - 4s 68ms/step - loss: 0.2174 - mae: 0.1658 - root_mean_squared_error: 0.2174 - val_loss: 0.1878 - val_mae: 0.1665 - val_root_mean_squared_error: 0.1902 - lr: 0.0011\n",
            "Epoch 23/500\n",
            "61/61 [==============================] - ETA: 0s - loss: 0.2173 - mae: 0.1659 - root_mean_squared_error: 0.2174"
          ]
        },
        {
          "name": "stderr",
          "output_type": "stream",
          "text": [
            "WARNING:absl:Found untraced functions such as residual_block_0_layer_call_fn, residual_block_0_layer_call_and_return_conditional_losses, residual_block_1_layer_call_fn, residual_block_1_layer_call_and_return_conditional_losses, residual_block_2_layer_call_fn while saving (showing 5 of 257). These functions will not be directly callable after loading.\n",
            "\u001b[34m\u001b[1mwandb\u001b[0m: Adding directory to artifact (/content/wandb/run-20230124_134056-1bsqvlxd/files/model-best)... Done. 0.0s\n"
          ]
        },
        {
          "name": "stdout",
          "output_type": "stream",
          "text": [
            "\b\b\b\b\b\b\b\b\b\b\b\b\b\b\b\b\b\b\b\b\b\b\b\b\b\b\b\b\b\b\b\b\b\b\b\b\b\b\b\b\b\b\b\b\b\b\b\b\b\b\b\b\b\b\b\b\b\b\b\b\b\b\b\b\b\b\b\b\b\b\b\b\b\b\b\b\b\b\b\b\b\b\b\b\b\b\b\b\b\b\b\b\b\b\b\b\b\b\b\b\b\b\b\b\b\b\b\b\b\b\b\r61/61 [==============================] - 14s 237ms/step - loss: 0.2173 - mae: 0.1659 - root_mean_squared_error: 0.2174 - val_loss: 0.1843 - val_mae: 0.1628 - val_root_mean_squared_error: 0.1866 - lr: 0.0011\n",
            "Epoch 24/500\n",
            "61/61 [==============================] - ETA: 0s - loss: 0.2172 - mae: 0.1653 - root_mean_squared_error: 0.2172"
          ]
        },
        {
          "name": "stderr",
          "output_type": "stream",
          "text": [
            "WARNING:absl:Found untraced functions such as residual_block_0_layer_call_fn, residual_block_0_layer_call_and_return_conditional_losses, residual_block_1_layer_call_fn, residual_block_1_layer_call_and_return_conditional_losses, residual_block_2_layer_call_fn while saving (showing 5 of 257). These functions will not be directly callable after loading.\n",
            "\u001b[34m\u001b[1mwandb\u001b[0m: Adding directory to artifact (/content/wandb/run-20230124_134056-1bsqvlxd/files/model-best)... Done. 0.0s\n"
          ]
        },
        {
          "name": "stdout",
          "output_type": "stream",
          "text": [
            "\b\b\b\b\b\b\b\b\b\b\b\b\b\b\b\b\b\b\b\b\b\b\b\b\b\b\b\b\b\b\b\b\b\b\b\b\b\b\b\b\b\b\b\b\b\b\b\b\b\b\b\b\b\b\b\b\b\b\b\b\b\b\b\b\b\b\b\b\b\b\b\b\b\b\b\b\b\b\b\b\b\b\b\b\b\b\b\b\b\b\b\b\b\b\b\b\b\b\b\b\b\b\b\b\b\b\b\b\b\b\b\r61/61 [==============================] - 14s 233ms/step - loss: 0.2172 - mae: 0.1653 - root_mean_squared_error: 0.2172 - val_loss: 0.1841 - val_mae: 0.1626 - val_root_mean_squared_error: 0.1864 - lr: 0.0011\n",
            "Epoch 25/500\n",
            "61/61 [==============================] - ETA: 0s - loss: 0.2166 - mae: 0.1648 - root_mean_squared_error: 0.2166"
          ]
        },
        {
          "name": "stderr",
          "output_type": "stream",
          "text": [
            "WARNING:absl:Found untraced functions such as residual_block_0_layer_call_fn, residual_block_0_layer_call_and_return_conditional_losses, residual_block_1_layer_call_fn, residual_block_1_layer_call_and_return_conditional_losses, residual_block_2_layer_call_fn while saving (showing 5 of 257). These functions will not be directly callable after loading.\n",
            "\u001b[34m\u001b[1mwandb\u001b[0m: Adding directory to artifact (/content/wandb/run-20230124_134056-1bsqvlxd/files/model-best)... Done. 0.0s\n"
          ]
        },
        {
          "name": "stdout",
          "output_type": "stream",
          "text": [
            "\b\b\b\b\b\b\b\b\b\b\b\b\b\b\b\b\b\b\b\b\b\b\b\b\b\b\b\b\b\b\b\b\b\b\b\b\b\b\b\b\b\b\b\b\b\b\b\b\b\b\b\b\b\b\b\b\b\b\b\b\b\b\b\b\b\b\b\b\b\b\b\b\b\b\b\b\b\b\b\b\b\b\b\b\b\b\b\b\b\b\b\b\b\b\b\b\b\b\b\b\b\b\b\b\b\b\b\b\b\b\b\r61/61 [==============================] - 14s 237ms/step - loss: 0.2166 - mae: 0.1648 - root_mean_squared_error: 0.2166 - val_loss: 0.1820 - val_mae: 0.1604 - val_root_mean_squared_error: 0.1843 - lr: 0.0011\n",
            "Epoch 26/500\n",
            "61/61 [==============================] - ETA: 0s - loss: 0.2166 - mae: 0.1646 - root_mean_squared_error: 0.2165"
          ]
        },
        {
          "name": "stderr",
          "output_type": "stream",
          "text": [
            "WARNING:absl:Found untraced functions such as residual_block_0_layer_call_fn, residual_block_0_layer_call_and_return_conditional_losses, residual_block_1_layer_call_fn, residual_block_1_layer_call_and_return_conditional_losses, residual_block_2_layer_call_fn while saving (showing 5 of 257). These functions will not be directly callable after loading.\n",
            "\u001b[34m\u001b[1mwandb\u001b[0m: Adding directory to artifact (/content/wandb/run-20230124_134056-1bsqvlxd/files/model-best)... Done. 0.0s\n"
          ]
        },
        {
          "name": "stdout",
          "output_type": "stream",
          "text": [
            "\b\b\b\b\b\b\b\b\b\b\b\b\b\b\b\b\b\b\b\b\b\b\b\b\b\b\b\b\b\b\b\b\b\b\b\b\b\b\b\b\b\b\b\b\b\b\b\b\b\b\b\b\b\b\b\b\b\b\b\b\b\b\b\b\b\b\b\b\b\b\b\b\b\b\b\b\b\b\b\b\b\b\b\b\b\b\b\b\b\b\b\b\b\b\b\b\b\b\b\b\b\b\b\b\b\b\b\b\b\b\b\r61/61 [==============================] - 14s 235ms/step - loss: 0.2166 - mae: 0.1646 - root_mean_squared_error: 0.2165 - val_loss: 0.1819 - val_mae: 0.1603 - val_root_mean_squared_error: 0.1841 - lr: 0.0011\n",
            "Epoch 27/500\n",
            "61/61 [==============================] - 4s 69ms/step - loss: 0.2167 - mae: 0.1644 - root_mean_squared_error: 0.2168 - val_loss: 0.1823 - val_mae: 0.1607 - val_root_mean_squared_error: 0.1846 - lr: 0.0011\n",
            "Epoch 28/500\n",
            "61/61 [==============================] - 4s 67ms/step - loss: 0.2167 - mae: 0.1645 - root_mean_squared_error: 0.2167 - val_loss: 0.1823 - val_mae: 0.1607 - val_root_mean_squared_error: 0.1845 - lr: 0.0011\n",
            "Epoch 29/500\n",
            "61/61 [==============================] - 4s 68ms/step - loss: 0.2164 - mae: 0.1643 - root_mean_squared_error: 0.2164 - val_loss: 0.1821 - val_mae: 0.1605 - val_root_mean_squared_error: 0.1844 - lr: 0.0011\n",
            "Epoch 30/500\n",
            "61/61 [==============================] - 4s 68ms/step - loss: 0.2164 - mae: 0.1640 - root_mean_squared_error: 0.2164 - val_loss: 0.1837 - val_mae: 0.1622 - val_root_mean_squared_error: 0.1860 - lr: 0.0011\n",
            "Epoch 31/500\n",
            "61/61 [==============================] - 4s 68ms/step - loss: 0.2162 - mae: 0.1641 - root_mean_squared_error: 0.2162 - val_loss: 0.1828 - val_mae: 0.1613 - val_root_mean_squared_error: 0.1851 - lr: 0.0011\n",
            "Epoch 32/500\n",
            "61/61 [==============================] - 4s 68ms/step - loss: 0.2159 - mae: 0.1639 - root_mean_squared_error: 0.2159 - val_loss: 0.1832 - val_mae: 0.1617 - val_root_mean_squared_error: 0.1855 - lr: 0.0011\n",
            "Epoch 33/500\n",
            "61/61 [==============================] - 4s 67ms/step - loss: 0.2161 - mae: 0.1639 - root_mean_squared_error: 0.2162 - val_loss: 0.1846 - val_mae: 0.1631 - val_root_mean_squared_error: 0.1869 - lr: 0.0011\n",
            "Epoch 34/500\n",
            "61/61 [==============================] - 4s 68ms/step - loss: 0.2157 - mae: 0.1637 - root_mean_squared_error: 0.2158 - val_loss: 0.1850 - val_mae: 0.1636 - val_root_mean_squared_error: 0.1873 - lr: 0.0011\n",
            "Epoch 35/500\n",
            "61/61 [==============================] - 4s 67ms/step - loss: 0.2157 - mae: 0.1636 - root_mean_squared_error: 0.2157 - val_loss: 0.1850 - val_mae: 0.1635 - val_root_mean_squared_error: 0.1873 - lr: 0.0011\n",
            "Epoch 36/500\n",
            "61/61 [==============================] - 4s 70ms/step - loss: 0.2155 - mae: 0.1635 - root_mean_squared_error: 0.2154 - val_loss: 0.1864 - val_mae: 0.1650 - val_root_mean_squared_error: 0.1887 - lr: 0.0011\n",
            "Epoch 37/500\n",
            "61/61 [==============================] - 4s 67ms/step - loss: 0.2153 - mae: 0.1636 - root_mean_squared_error: 0.2154 - val_loss: 0.1863 - val_mae: 0.1650 - val_root_mean_squared_error: 0.1887 - lr: 1.0952e-04\n",
            "Epoch 38/500\n",
            "61/61 [==============================] - 4s 67ms/step - loss: 0.2154 - mae: 0.1635 - root_mean_squared_error: 0.2155 - val_loss: 0.1862 - val_mae: 0.1649 - val_root_mean_squared_error: 0.1885 - lr: 1.0952e-04\n",
            "Epoch 39/500\n",
            "61/61 [==============================] - 4s 67ms/step - loss: 0.2155 - mae: 0.1636 - root_mean_squared_error: 0.2154 - val_loss: 0.1861 - val_mae: 0.1647 - val_root_mean_squared_error: 0.1884 - lr: 1.0952e-04\n",
            "Epoch 40/500\n",
            "61/61 [==============================] - 4s 69ms/step - loss: 0.2154 - mae: 0.1634 - root_mean_squared_error: 0.2154 - val_loss: 0.1860 - val_mae: 0.1646 - val_root_mean_squared_error: 0.1883 - lr: 1.0952e-04\n",
            "Epoch 41/500\n",
            "61/61 [==============================] - 4s 66ms/step - loss: 0.2150 - mae: 0.1631 - root_mean_squared_error: 0.2150 - val_loss: 0.1860 - val_mae: 0.1647 - val_root_mean_squared_error: 0.1883 - lr: 1.0952e-04\n"
          ]
        },
        {
          "data": {
            "text/html": [
              "Waiting for W&B process to finish... <strong style=\"color:green\">(success).</strong>"
            ],
            "text/plain": [
              "<IPython.core.display.HTML object>"
            ]
          },
          "metadata": {},
          "output_type": "display_data"
        },
        {
          "data": {
            "application/vnd.jupyter.widget-view+json": {
              "model_id": "b5575f7cd42849409a8cd2af1a631a8a",
              "version_major": 2,
              "version_minor": 0
            },
            "text/plain": [
              "VBox(children=(Label(value='60.383 MB of 60.383 MB uploaded (1.896 MB deduped)\\r'), FloatProgress(value=1.0, m…"
            ]
          },
          "metadata": {},
          "output_type": "display_data"
        },
        {
          "data": {
            "text/html": [
              "<style>\n",
              "    table.wandb td:nth-child(1) { padding: 0 10px; text-align: left ; width: auto;} td:nth-child(2) {text-align: left ; width: 100%}\n",
              "    .wandb-row { display: flex; flex-direction: row; flex-wrap: wrap; justify-content: flex-start; width: 100% }\n",
              "    .wandb-col { display: flex; flex-direction: column; flex-basis: 100%; flex: 1; padding: 10px; }\n",
              "    </style>\n",
              "<div class=\"wandb-row\"><div class=\"wandb-col\"><h3>Run history:</h3><br/><table class=\"wandb\"><tr><td>epoch</td><td>▁▁▁▂▂▂▂▂▂▃▃▃▃▃▃▄▄▄▄▄▅▅▅▅▅▅▆▆▆▆▆▆▇▇▇▇▇▇██</td></tr><tr><td>loss</td><td>█▂▁▁▁▁▁▁▁▁▁▁▁▁▁▁▁▁▁▁▁▁▁▁▁▁▁▁▁▁▁▁▁▁▁▁▁▁▁▁</td></tr><tr><td>mae</td><td>█▂▂▁▁▁▁▁▁▁▁▁▁▁▁▁▁▁▁▁▁▁▁▁▁▁▁▁▁▁▁▁▁▁▁▁▁▁▁▁</td></tr><tr><td>root_mean_squared_error</td><td>█▂▁▁▁▁▁▁▁▁▁▁▁▁▁▁▁▁▁▁▁▁▁▁▁▁▁▁▁▁▁▁▁▁▁▁▁▁▁▁</td></tr><tr><td>val_loss</td><td>█▇▄▃▂▂▂▁▁▁▁▁▁▁▁▁▁▁▁▁▁▁▁▁▁▁▁▁▁▁▁▁▁▁▁▁▁▁▁▁</td></tr><tr><td>val_mae</td><td>█▇▄▃▂▂▂▁▁▁▁▁▁▁▁▁▁▁▁▁▁▁▁▁▁▁▁▁▁▁▁▁▁▁▁▁▁▁▁▁</td></tr><tr><td>val_root_mean_squared_error</td><td>█▇▄▃▂▂▂▁▁▁▁▁▁▁▁▁▁▁▁▁▁▁▁▁▁▁▁▁▁▁▁▁▁▁▁▁▁▁▁▁</td></tr></table><br/></div><div class=\"wandb-col\"><h3>Run summary:</h3><br/><table class=\"wandb\"><tr><td>best_epoch</td><td>25</td></tr><tr><td>best_val_loss</td><td>0.18186</td></tr><tr><td>epoch</td><td>40</td></tr><tr><td>loss</td><td>0.21499</td></tr><tr><td>mae</td><td>0.16307</td></tr><tr><td>root_mean_squared_error</td><td>0.21498</td></tr><tr><td>val_loss</td><td>0.18604</td></tr><tr><td>val_mae</td><td>0.16466</td></tr><tr><td>val_root_mean_squared_error</td><td>0.18834</td></tr></table><br/></div></div>"
            ],
            "text/plain": [
              "<IPython.core.display.HTML object>"
            ]
          },
          "metadata": {},
          "output_type": "display_data"
        },
        {
          "data": {
            "text/html": [
              " View run <strong style=\"color:#cdcd00\">wild-sweep-24</strong> at: <a href=\"https://wandb.ai/dsp_aguro/aguro_tcn/runs/1bsqvlxd\" target=\"_blank\">https://wandb.ai/dsp_aguro/aguro_tcn/runs/1bsqvlxd</a><br/>Synced 5 W&B file(s), 1 media file(s), 80 artifact file(s) and 1 other file(s)"
            ],
            "text/plain": [
              "<IPython.core.display.HTML object>"
            ]
          },
          "metadata": {},
          "output_type": "display_data"
        },
        {
          "data": {
            "text/html": [
              "Find logs at: <code>./wandb/run-20230124_134056-1bsqvlxd/logs</code>"
            ],
            "text/plain": [
              "<IPython.core.display.HTML object>"
            ]
          },
          "metadata": {},
          "output_type": "display_data"
        },
        {
          "name": "stderr",
          "output_type": "stream",
          "text": [
            "\u001b[34m\u001b[1mwandb\u001b[0m: Agent Starting Run: eh9qqyz4 with config:\n",
            "\u001b[34m\u001b[1mwandb\u001b[0m: \tbatch_size: 512\n",
            "\u001b[34m\u001b[1mwandb\u001b[0m: \tdropout_rate: 0.7\n",
            "\u001b[34m\u001b[1mwandb\u001b[0m: \tepochs: 500\n",
            "\u001b[34m\u001b[1mwandb\u001b[0m: \tkernel_size: 6\n",
            "\u001b[34m\u001b[1mwandb\u001b[0m: \tlr: 0.08416569971479589\n",
            "\u001b[34m\u001b[1mwandb\u001b[0m: \tnb_filters: 32\n",
            "\u001b[34m\u001b[1mwandb\u001b[0m: \toptimizer: adam\n",
            "Failed to detect the name of this notebook, you can set it manually with the WANDB_NOTEBOOK_NAME environment variable to enable code saving.\n"
          ]
        },
        {
          "data": {
            "text/html": [
              "Tracking run with wandb version 0.13.9"
            ],
            "text/plain": [
              "<IPython.core.display.HTML object>"
            ]
          },
          "metadata": {},
          "output_type": "display_data"
        },
        {
          "data": {
            "text/html": [
              "Run data is saved locally in <code>/content/wandb/run-20230124_134831-eh9qqyz4</code>"
            ],
            "text/plain": [
              "<IPython.core.display.HTML object>"
            ]
          },
          "metadata": {},
          "output_type": "display_data"
        },
        {
          "data": {
            "text/html": [
              "Syncing run <strong><a href=\"https://wandb.ai/dsp_aguro/aguro_tcn/runs/eh9qqyz4\" target=\"_blank\">flowing-sweep-25</a></strong> to <a href=\"https://wandb.ai/dsp_aguro/aguro_tcn\" target=\"_blank\">Weights & Biases</a> (<a href=\"https://wandb.me/run\" target=\"_blank\">docs</a>)<br/>Sweep page: <a href=\"https://wandb.ai/dsp_aguro/aguro_tcn/sweeps/9vw7gd6y\" target=\"_blank\">https://wandb.ai/dsp_aguro/aguro_tcn/sweeps/9vw7gd6y</a>"
            ],
            "text/plain": [
              "<IPython.core.display.HTML object>"
            ]
          },
          "metadata": {},
          "output_type": "display_data"
        },
        {
          "data": {
            "text/html": [
              " View project at <a href=\"https://wandb.ai/dsp_aguro/aguro_tcn\" target=\"_blank\">https://wandb.ai/dsp_aguro/aguro_tcn</a>"
            ],
            "text/plain": [
              "<IPython.core.display.HTML object>"
            ]
          },
          "metadata": {},
          "output_type": "display_data"
        },
        {
          "data": {
            "text/html": [
              " View sweep at <a href=\"https://wandb.ai/dsp_aguro/aguro_tcn/sweeps/9vw7gd6y\" target=\"_blank\">https://wandb.ai/dsp_aguro/aguro_tcn/sweeps/9vw7gd6y</a>"
            ],
            "text/plain": [
              "<IPython.core.display.HTML object>"
            ]
          },
          "metadata": {},
          "output_type": "display_data"
        },
        {
          "data": {
            "text/html": [
              " View run at <a href=\"https://wandb.ai/dsp_aguro/aguro_tcn/runs/eh9qqyz4\" target=\"_blank\">https://wandb.ai/dsp_aguro/aguro_tcn/runs/eh9qqyz4</a>"
            ],
            "text/plain": [
              "<IPython.core.display.HTML object>"
            ]
          },
          "metadata": {},
          "output_type": "display_data"
        },
        {
          "name": "stdout",
          "output_type": "stream",
          "text": [
            "Epoch 1/500\n",
            " 6/61 [=>............................] - ETA: 3s - loss: 46.7633 - mae: 23.5986 - root_mean_squared_error: 46.7633"
          ]
        },
        {
          "name": "stderr",
          "output_type": "stream",
          "text": [
            "WARNING:tensorflow:Callback method `on_train_batch_end` is slow compared to the batch time (batch time: 0.0295s vs `on_train_batch_end` time: 0.0369s). Check your callbacks.\n"
          ]
        },
        {
          "name": "stdout",
          "output_type": "stream",
          "text": [
            "60/61 [============================>.] - ETA: 0s - loss: 24.1480 - mae: 3.6413 - root_mean_squared_error: 24.1480"
          ]
        },
        {
          "name": "stderr",
          "output_type": "stream",
          "text": [
            "WARNING:absl:Found untraced functions such as residual_block_0_layer_call_fn, residual_block_0_layer_call_and_return_conditional_losses, residual_block_1_layer_call_fn, residual_block_1_layer_call_and_return_conditional_losses, residual_block_2_layer_call_fn while saving (showing 5 of 257). These functions will not be directly callable after loading.\n",
            "\u001b[34m\u001b[1mwandb\u001b[0m: Adding directory to artifact (/content/wandb/run-20230124_134831-eh9qqyz4/files/model-best)... Done. 0.0s\n"
          ]
        },
        {
          "name": "stdout",
          "output_type": "stream",
          "text": [
            "\b\b\b\b\b\b\b\b\b\b\b\b\b\b\b\b\b\b\b\b\b\b\b\b\b\b\b\b\b\b\b\b\b\b\b\b\b\b\b\b\b\b\b\b\b\b\b\b\b\b\b\b\b\b\b\b\b\b\b\b\b\b\b\b\b\b\b\b\b\b\b\b\b\b\b\b\b\b\b\b\b\b\b\b\b\b\b\b\b\b\b\b\b\b\b\b\b\b\b\b\b\b\b\b\b\b\b\b\b\b\b\b\b\r61/61 [==============================] - 18s 236ms/step - loss: 23.8577 - mae: 3.5995 - root_mean_squared_error: 23.7664 - val_loss: 0.2213 - val_mae: 0.1896 - val_root_mean_squared_error: 0.2236 - lr: 0.0842\n",
            "Epoch 2/500\n",
            "60/61 [============================>.] - ETA: 0s - loss: 4.4072 - mae: 0.3772 - root_mean_squared_error: 4.4072"
          ]
        },
        {
          "name": "stderr",
          "output_type": "stream",
          "text": [
            "WARNING:absl:Found untraced functions such as residual_block_0_layer_call_fn, residual_block_0_layer_call_and_return_conditional_losses, residual_block_1_layer_call_fn, residual_block_1_layer_call_and_return_conditional_losses, residual_block_2_layer_call_fn while saving (showing 5 of 257). These functions will not be directly callable after loading.\n",
            "\u001b[34m\u001b[1mwandb\u001b[0m: Adding directory to artifact (/content/wandb/run-20230124_134831-eh9qqyz4/files/model-best)... Done. 0.0s\n"
          ]
        },
        {
          "name": "stdout",
          "output_type": "stream",
          "text": [
            "\b\b\b\b\b\b\b\b\b\b\b\b\b\b\b\b\b\b\b\b\b\b\b\b\b\b\b\b\b\b\b\b\b\b\b\b\b\b\b\b\b\b\b\b\b\b\b\b\b\b\b\b\b\b\b\b\b\b\b\b\b\b\b\b\b\b\b\b\b\b\b\b\b\b\b\b\b\b\b\b\b\b\b\b\b\b\b\b\b\b\b\b\b\b\b\b\b\b\b\b\b\b\b\b\b\b\b\b\b\b\b\r61/61 [==============================] - 14s 230ms/step - loss: 4.3549 - mae: 0.3746 - root_mean_squared_error: 4.3385 - val_loss: 0.1723 - val_mae: 0.1477 - val_root_mean_squared_error: 0.1743 - lr: 0.0842\n",
            "Epoch 3/500\n",
            "61/61 [==============================] - 4s 59ms/step - loss: 2.2181 - mae: 0.2442 - root_mean_squared_error: 2.4352 - val_loss: 0.1888 - val_mae: 0.1673 - val_root_mean_squared_error: 0.1911 - lr: 0.0842\n",
            "Epoch 4/500\n",
            "61/61 [==============================] - 4s 58ms/step - loss: 0.8070 - mae: 0.1890 - root_mean_squared_error: 0.8047 - val_loss: 0.1781 - val_mae: 0.1561 - val_root_mean_squared_error: 0.1803 - lr: 0.0842\n",
            "Epoch 5/500\n",
            "61/61 [==============================] - 4s 59ms/step - loss: 55.5656 - mae: 2.5361 - root_mean_squared_error: 55.3553 - val_loss: 0.1962 - val_mae: 0.1710 - val_root_mean_squared_error: 0.1985 - lr: 0.0842\n",
            "Epoch 6/500\n",
            "61/61 [==============================] - 4s 58ms/step - loss: 1.2143 - mae: 0.2065 - root_mean_squared_error: 1.2104 - val_loss: 0.1797 - val_mae: 0.1578 - val_root_mean_squared_error: 0.1819 - lr: 0.0842\n",
            "Epoch 7/500\n",
            "61/61 [==============================] - 4s 58ms/step - loss: 8.0831 - mae: 0.5158 - root_mean_squared_error: 8.0527 - val_loss: 0.1755 - val_mae: 0.1534 - val_root_mean_squared_error: 0.1777 - lr: 0.0842\n",
            "Epoch 8/500\n",
            "61/61 [==============================] - 4s 58ms/step - loss: 21.1421 - mae: 1.1064 - root_mean_squared_error: 21.0613 - val_loss: 0.1726 - val_mae: 0.1483 - val_root_mean_squared_error: 0.1746 - lr: 0.0842\n",
            "Epoch 9/500\n",
            "61/61 [==============================] - ETA: 0s - loss: 0.8654 - mae: 0.1906 - root_mean_squared_error: 0.8627"
          ]
        },
        {
          "name": "stderr",
          "output_type": "stream",
          "text": [
            "WARNING:absl:Found untraced functions such as residual_block_0_layer_call_fn, residual_block_0_layer_call_and_return_conditional_losses, residual_block_1_layer_call_fn, residual_block_1_layer_call_and_return_conditional_losses, residual_block_2_layer_call_fn while saving (showing 5 of 257). These functions will not be directly callable after loading.\n",
            "\u001b[34m\u001b[1mwandb\u001b[0m: Adding directory to artifact (/content/wandb/run-20230124_134831-eh9qqyz4/files/model-best)... Done. 0.0s\n"
          ]
        },
        {
          "name": "stdout",
          "output_type": "stream",
          "text": [
            "\b\b\b\b\b\b\b\b\b\b\b\b\b\b\b\b\b\b\b\b\b\b\b\b\b\b\b\b\b\b\b\b\b\b\b\b\b\b\b\b\b\b\b\b\b\b\b\b\b\b\b\b\b\b\b\b\b\b\b\b\b\b\b\b\b\b\b\b\b\b\b\b\b\b\b\b\b\b\b\b\b\b\b\b\b\b\b\b\b\b\b\b\b\b\b\b\b\b\b\b\b\b\b\b\b\b\b\b\b\b\b\r61/61 [==============================] - 14s 225ms/step - loss: 0.8654 - mae: 0.1906 - root_mean_squared_error: 0.8627 - val_loss: 0.1714 - val_mae: 0.1491 - val_root_mean_squared_error: 0.1735 - lr: 0.0842\n",
            "Epoch 10/500\n",
            "61/61 [==============================] - 4s 62ms/step - loss: 2.9550 - mae: 0.2764 - root_mean_squared_error: 3.0025 - val_loss: 0.1871 - val_mae: 0.1657 - val_root_mean_squared_error: 0.1894 - lr: 0.0842\n",
            "Epoch 11/500\n",
            "60/61 [============================>.] - ETA: 0s - loss: 2.0641 - mae: 0.2434 - root_mean_squared_error: 2.0641"
          ]
        },
        {
          "name": "stderr",
          "output_type": "stream",
          "text": [
            "WARNING:absl:Found untraced functions such as residual_block_0_layer_call_fn, residual_block_0_layer_call_and_return_conditional_losses, residual_block_1_layer_call_fn, residual_block_1_layer_call_and_return_conditional_losses, residual_block_2_layer_call_fn while saving (showing 5 of 257). These functions will not be directly callable after loading.\n",
            "\u001b[34m\u001b[1mwandb\u001b[0m: Adding directory to artifact (/content/wandb/run-20230124_134831-eh9qqyz4/files/model-best)... Done. 0.0s\n"
          ]
        },
        {
          "name": "stdout",
          "output_type": "stream",
          "text": [
            "\b\b\b\b\b\b\b\b\b\b\b\b\b\b\b\b\b\b\b\b\b\b\b\b\b\b\b\b\b\b\b\b\b\b\b\b\b\b\b\b\b\b\b\b\b\b\b\b\b\b\b\b\b\b\b\b\b\b\b\b\b\b\b\b\b\b\b\b\b\b\b\b\b\b\b\b\b\b\b\b\b\b\b\b\b\b\b\b\b\b\b\b\b\b\b\b\b\b\b\b\b\b\b\b\b\b\b\b\b\b\b\r61/61 [==============================] - 14s 228ms/step - loss: 2.0412 - mae: 0.2425 - root_mean_squared_error: 2.0340 - val_loss: 0.1604 - val_mae: 0.1370 - val_root_mean_squared_error: 0.1622 - lr: 0.0842\n",
            "Epoch 12/500\n",
            "61/61 [==============================] - 4s 61ms/step - loss: 0.4855 - mae: 0.1760 - root_mean_squared_error: 0.4844 - val_loss: 0.1696 - val_mae: 0.1472 - val_root_mean_squared_error: 0.1717 - lr: 0.0842\n",
            "Epoch 13/500\n",
            "61/61 [==============================] - 4s 59ms/step - loss: 0.2299 - mae: 0.1657 - root_mean_squared_error: 0.2298 - val_loss: 0.1726 - val_mae: 0.1504 - val_root_mean_squared_error: 0.1748 - lr: 0.0842\n",
            "Epoch 14/500\n",
            "61/61 [==============================] - 4s 60ms/step - loss: 0.2651 - mae: 0.1671 - root_mean_squared_error: 0.2650 - val_loss: 0.1782 - val_mae: 0.1563 - val_root_mean_squared_error: 0.1804 - lr: 0.0842\n",
            "Epoch 15/500\n",
            "61/61 [==============================] - 4s 59ms/step - loss: 3495.6013 - mae: 139.2170 - root_mean_squared_error: 3481.7239 - val_loss: 0.2209 - val_mae: 0.1942 - val_root_mean_squared_error: 0.2234 - lr: 0.0842\n",
            "Epoch 16/500\n",
            "61/61 [==============================] - 4s 59ms/step - loss: 7386.4038 - mae: 282.0442 - root_mean_squared_error: 7357.0986 - val_loss: 0.1752 - val_mae: 0.1527 - val_root_mean_squared_error: 0.1773 - lr: 0.0842\n",
            "Epoch 17/500\n",
            "61/61 [==============================] - 4s 61ms/step - loss: 134433.1250 - mae: 5324.4365 - root_mean_squared_error: 133899.3906 - val_loss: 0.1915 - val_mae: 0.1688 - val_root_mean_squared_error: 0.1939 - lr: 0.0842\n",
            "Epoch 18/500\n",
            "61/61 [==============================] - 4s 59ms/step - loss: 2428030.0000 - mae: 105908.1641 - root_mean_squared_error: 2445907.0000 - val_loss: 0.3137 - val_mae: 0.2515 - val_root_mean_squared_error: 0.3162 - lr: 0.0842\n",
            "Epoch 19/500\n",
            "61/61 [==============================] - 4s 59ms/step - loss: 234201664.0000 - mae: 9904527.0000 - root_mean_squared_error: 233277248.0000 - val_loss: 0.3656 - val_mae: 0.3116 - val_root_mean_squared_error: 0.3661 - lr: 0.0842\n",
            "Epoch 20/500\n",
            "61/61 [==============================] - 4s 58ms/step - loss: 97484894371840.0000 - mae: 3765806563328.0000 - root_mean_squared_error: 97097852387328.0000 - val_loss: 0.3501 - val_mae: 0.2946 - val_root_mean_squared_error: 0.3512 - lr: 0.0842\n",
            "Epoch 21/500\n",
            "61/61 [==============================] - 4s 59ms/step - loss: 8871837958144.0000 - mae: 374880960512.0000 - root_mean_squared_error: 8836616290304.0000 - val_loss: 0.1653 - val_mae: 0.1329 - val_root_mean_squared_error: 0.1667 - lr: 0.0842\n",
            "Epoch 22/500\n",
            "61/61 [==============================] - 4s 59ms/step - loss: inf - mae: 186244311023616.0000 - root_mean_squared_error: inf - val_loss: 0.1656 - val_mae: 0.1426 - val_root_mean_squared_error: 0.1675 - lr: 0.0084\n",
            "Epoch 23/500\n",
            "61/61 [==============================] - 4s 58ms/step - loss: 5443519488.0000 - mae: 198023664.0000 - root_mean_squared_error: 5421906944.0000 - val_loss: 0.1743 - val_mae: 0.1516 - val_root_mean_squared_error: 0.1764 - lr: 0.0084\n",
            "Epoch 24/500\n",
            "61/61 [==============================] - 4s 59ms/step - loss: 1388939904.0000 - mae: 52275172.0000 - root_mean_squared_error: 1390701952.0000 - val_loss: 0.1746 - val_mae: 0.1521 - val_root_mean_squared_error: 0.1768 - lr: 0.0084\n",
            "Epoch 25/500\n",
            "61/61 [==============================] - 4s 58ms/step - loss: 7147349868544.0000 - mae: 279290576896.0000 - root_mean_squared_error: 7118972780544.0000 - val_loss: 0.1771 - val_mae: 0.1552 - val_root_mean_squared_error: 0.1793 - lr: 0.0084\n",
            "Epoch 26/500\n",
            "61/61 [==============================] - 4s 58ms/step - loss: 21341388406784.0000 - mae: 805350014976.0000 - root_mean_squared_error: 21256657174528.0000 - val_loss: 0.1668 - val_mae: 0.1424 - val_root_mean_squared_error: 0.1687 - lr: 0.0084\n"
          ]
        },
        {
          "data": {
            "text/html": [
              "Waiting for W&B process to finish... <strong style=\"color:green\">(success).</strong>"
            ],
            "text/plain": [
              "<IPython.core.display.HTML object>"
            ]
          },
          "metadata": {},
          "output_type": "display_data"
        },
        {
          "data": {
            "application/vnd.jupyter.widget-view+json": {
              "model_id": "dd1bebaee9b645be987af5a86864c764",
              "version_major": 2,
              "version_minor": 0
            },
            "text/plain": [
              "VBox(children=(Label(value='19.170 MB of 19.170 MB uploaded (0.299 MB deduped)\\r'), FloatProgress(value=1.0, m…"
            ]
          },
          "metadata": {},
          "output_type": "display_data"
        },
        {
          "data": {
            "text/html": [
              "<style>\n",
              "    table.wandb td:nth-child(1) { padding: 0 10px; text-align: left ; width: auto;} td:nth-child(2) {text-align: left ; width: 100%}\n",
              "    .wandb-row { display: flex; flex-direction: row; flex-wrap: wrap; justify-content: flex-start; width: 100% }\n",
              "    .wandb-col { display: flex; flex-direction: column; flex-basis: 100%; flex: 1; padding: 10px; }\n",
              "    </style>\n",
              "<div class=\"wandb-row\"><div class=\"wandb-col\"><h3>Run history:</h3><br/><table class=\"wandb\"><tr><td>epoch</td><td>▁▁▂▂▂▂▃▃▃▄▄▄▄▅▅▅▅▆▆▆▇▇▇▇██</td></tr><tr><td>loss</td><td>▁▁▁▁▁▁▁▁▁▁▁▁▁▁▁▁▁▁▁█▂ ▁▁▂▃</td></tr><tr><td>mae</td><td>▁▁▁▁▁▁▁▁▁▁▁▁▁▁▁▁▁▁▁▁▁█▁▁▁▁</td></tr><tr><td>root_mean_squared_error</td><td>▁▁▁▁▁▁▁▁▁▁▁▁▁▁▁▁▁▁▁█▂ ▁▁▂▃</td></tr><tr><td>val_loss</td><td>▃▁▂▂▂▂▂▁▁▂▁▁▁▂▃▂▂▆█▇▁▁▁▁▂▁</td></tr><tr><td>val_mae</td><td>▃▂▂▂▂▂▂▂▂▂▁▂▂▂▃▂▂▆█▇▁▁▂▂▂▁</td></tr><tr><td>val_root_mean_squared_error</td><td>▃▁▂▂▂▂▂▁▁▂▁▁▁▂▃▂▂▆█▇▁▁▁▁▂▁</td></tr></table><br/></div><div class=\"wandb-col\"><h3>Run summary:</h3><br/><table class=\"wandb\"><tr><td>best_epoch</td><td>10</td></tr><tr><td>best_val_loss</td><td>0.1604</td></tr><tr><td>epoch</td><td>25</td></tr><tr><td>loss</td><td>21341388406784.0</td></tr><tr><td>mae</td><td>805350014976.0</td></tr><tr><td>root_mean_squared_error</td><td>21256657174528.0</td></tr><tr><td>val_loss</td><td>0.16677</td></tr><tr><td>val_mae</td><td>0.14235</td></tr><tr><td>val_root_mean_squared_error</td><td>0.16871</td></tr></table><br/></div></div>"
            ],
            "text/plain": [
              "<IPython.core.display.HTML object>"
            ]
          },
          "metadata": {},
          "output_type": "display_data"
        },
        {
          "data": {
            "text/html": [
              " View run <strong style=\"color:#cdcd00\">flowing-sweep-25</strong> at: <a href=\"https://wandb.ai/dsp_aguro/aguro_tcn/runs/eh9qqyz4\" target=\"_blank\">https://wandb.ai/dsp_aguro/aguro_tcn/runs/eh9qqyz4</a><br/>Synced 5 W&B file(s), 1 media file(s), 16 artifact file(s) and 1 other file(s)"
            ],
            "text/plain": [
              "<IPython.core.display.HTML object>"
            ]
          },
          "metadata": {},
          "output_type": "display_data"
        },
        {
          "data": {
            "text/html": [
              "Find logs at: <code>./wandb/run-20230124_134831-eh9qqyz4/logs</code>"
            ],
            "text/plain": [
              "<IPython.core.display.HTML object>"
            ]
          },
          "metadata": {},
          "output_type": "display_data"
        },
        {
          "name": "stderr",
          "output_type": "stream",
          "text": [
            "\u001b[34m\u001b[1mwandb\u001b[0m: Agent Starting Run: ti7hmyq5 with config:\n",
            "\u001b[34m\u001b[1mwandb\u001b[0m: \tbatch_size: 512\n",
            "\u001b[34m\u001b[1mwandb\u001b[0m: \tdropout_rate: 0.6\n",
            "\u001b[34m\u001b[1mwandb\u001b[0m: \tepochs: 500\n",
            "\u001b[34m\u001b[1mwandb\u001b[0m: \tkernel_size: 3\n",
            "\u001b[34m\u001b[1mwandb\u001b[0m: \tlr: 0.09056697622808794\n",
            "\u001b[34m\u001b[1mwandb\u001b[0m: \tnb_filters: 64\n",
            "\u001b[34m\u001b[1mwandb\u001b[0m: \toptimizer: adam\n",
            "Failed to detect the name of this notebook, you can set it manually with the WANDB_NOTEBOOK_NAME environment variable to enable code saving.\n"
          ]
        },
        {
          "data": {
            "application/vnd.jupyter.widget-view+json": {
              "model_id": "71f278b7ae3441008eea34cf6febeca5",
              "version_major": 2,
              "version_minor": 0
            },
            "text/plain": [
              "VBox(children=(Label(value='Waiting for wandb.init()...\\r'), FloatProgress(value=0.016669197433323766, max=1.0…"
            ]
          },
          "metadata": {},
          "output_type": "display_data"
        },
        {
          "data": {
            "text/html": [
              "Tracking run with wandb version 0.13.9"
            ],
            "text/plain": [
              "<IPython.core.display.HTML object>"
            ]
          },
          "metadata": {},
          "output_type": "display_data"
        },
        {
          "data": {
            "text/html": [
              "Run data is saved locally in <code>/content/wandb/run-20230124_135205-ti7hmyq5</code>"
            ],
            "text/plain": [
              "<IPython.core.display.HTML object>"
            ]
          },
          "metadata": {},
          "output_type": "display_data"
        },
        {
          "data": {
            "text/html": [
              "Syncing run <strong><a href=\"https://wandb.ai/dsp_aguro/aguro_tcn/runs/ti7hmyq5\" target=\"_blank\">vocal-sweep-26</a></strong> to <a href=\"https://wandb.ai/dsp_aguro/aguro_tcn\" target=\"_blank\">Weights & Biases</a> (<a href=\"https://wandb.me/run\" target=\"_blank\">docs</a>)<br/>Sweep page: <a href=\"https://wandb.ai/dsp_aguro/aguro_tcn/sweeps/9vw7gd6y\" target=\"_blank\">https://wandb.ai/dsp_aguro/aguro_tcn/sweeps/9vw7gd6y</a>"
            ],
            "text/plain": [
              "<IPython.core.display.HTML object>"
            ]
          },
          "metadata": {},
          "output_type": "display_data"
        },
        {
          "data": {
            "text/html": [
              " View project at <a href=\"https://wandb.ai/dsp_aguro/aguro_tcn\" target=\"_blank\">https://wandb.ai/dsp_aguro/aguro_tcn</a>"
            ],
            "text/plain": [
              "<IPython.core.display.HTML object>"
            ]
          },
          "metadata": {},
          "output_type": "display_data"
        },
        {
          "data": {
            "text/html": [
              " View sweep at <a href=\"https://wandb.ai/dsp_aguro/aguro_tcn/sweeps/9vw7gd6y\" target=\"_blank\">https://wandb.ai/dsp_aguro/aguro_tcn/sweeps/9vw7gd6y</a>"
            ],
            "text/plain": [
              "<IPython.core.display.HTML object>"
            ]
          },
          "metadata": {},
          "output_type": "display_data"
        },
        {
          "data": {
            "text/html": [
              " View run at <a href=\"https://wandb.ai/dsp_aguro/aguro_tcn/runs/ti7hmyq5\" target=\"_blank\">https://wandb.ai/dsp_aguro/aguro_tcn/runs/ti7hmyq5</a>"
            ],
            "text/plain": [
              "<IPython.core.display.HTML object>"
            ]
          },
          "metadata": {},
          "output_type": "display_data"
        },
        {
          "name": "stdout",
          "output_type": "stream",
          "text": [
            "Epoch 1/500\n",
            " 6/61 [=>............................] - ETA: 4s - loss: 435.9934 - mae: 273.2192 - root_mean_squared_error: 435.9934"
          ]
        },
        {
          "name": "stderr",
          "output_type": "stream",
          "text": [
            "WARNING:tensorflow:Callback method `on_train_batch_end` is slow compared to the batch time (batch time: 0.0312s vs `on_train_batch_end` time: 0.0454s). Check your callbacks.\n"
          ]
        },
        {
          "name": "stdout",
          "output_type": "stream",
          "text": [
            "61/61 [==============================] - ETA: 0s - loss: 76.6134 - mae: 29.9146 - root_mean_squared_error: 76.4539"
          ]
        },
        {
          "name": "stderr",
          "output_type": "stream",
          "text": [
            "WARNING:absl:Found untraced functions such as residual_block_0_layer_call_fn, residual_block_0_layer_call_and_return_conditional_losses, residual_block_1_layer_call_fn, residual_block_1_layer_call_and_return_conditional_losses, residual_block_2_layer_call_fn while saving (showing 5 of 257). These functions will not be directly callable after loading.\n",
            "\u001b[34m\u001b[1mwandb\u001b[0m: Adding directory to artifact (/content/wandb/run-20230124_135205-ti7hmyq5/files/model-best)... Done. 0.0s\n"
          ]
        },
        {
          "name": "stdout",
          "output_type": "stream",
          "text": [
            "\b\b\b\b\b\b\b\b\b\b\b\b\b\b\b\b\b\b\b\b\b\b\b\b\b\b\b\b\b\b\b\b\b\b\b\b\b\b\b\b\b\b\b\b\b\b\b\b\b\b\b\b\b\b\b\b\b\b\b\b\b\b\b\b\b\b\b\b\b\b\b\b\b\b\b\b\b\b\b\b\b\b\b\b\b\b\b\b\b\b\b\b\b\b\b\b\b\b\b\b\b\b\b\b\b\b\b\b\b\b\b\b\b\b\r61/61 [==============================] - 19s 251ms/step - loss: 76.6134 - mae: 29.9146 - root_mean_squared_error: 76.4539 - val_loss: 1.0250 - val_mae: 0.9150 - val_root_mean_squared_error: 1.0246 - lr: 0.0906\n",
            "Epoch 2/500\n",
            "61/61 [==============================] - ETA: 0s - loss: 24.6553 - mae: 1.5768 - root_mean_squared_error: 24.6636"
          ]
        },
        {
          "name": "stderr",
          "output_type": "stream",
          "text": [
            "WARNING:absl:Found untraced functions such as residual_block_0_layer_call_fn, residual_block_0_layer_call_and_return_conditional_losses, residual_block_1_layer_call_fn, residual_block_1_layer_call_and_return_conditional_losses, residual_block_2_layer_call_fn while saving (showing 5 of 257). These functions will not be directly callable after loading.\n",
            "\u001b[34m\u001b[1mwandb\u001b[0m: Adding directory to artifact (/content/wandb/run-20230124_135205-ti7hmyq5/files/model-best)... Done. 0.0s\n"
          ]
        },
        {
          "name": "stdout",
          "output_type": "stream",
          "text": [
            "\b\b\b\b\b\b\b\b\b\b\b\b\b\b\b\b\b\b\b\b\b\b\b\b\b\b\b\b\b\b\b\b\b\b\b\b\b\b\b\b\b\b\b\b\b\b\b\b\b\b\b\b\b\b\b\b\b\b\b\b\b\b\b\b\b\b\b\b\b\b\b\b\b\b\b\b\b\b\b\b\b\b\b\b\b\b\b\b\b\b\b\b\b\b\b\b\b\b\b\b\b\b\b\b\b\b\b\b\b\b\b\b\b\r61/61 [==============================] - 14s 237ms/step - loss: 24.6553 - mae: 1.5768 - root_mean_squared_error: 24.6636 - val_loss: 0.3212 - val_mae: 0.2473 - val_root_mean_squared_error: 0.3224 - lr: 0.0906\n",
            "Epoch 3/500\n",
            "61/61 [==============================] - ETA: 0s - loss: 311.9604 - mae: 13.2589 - root_mean_squared_error: 310.7507"
          ]
        },
        {
          "name": "stderr",
          "output_type": "stream",
          "text": [
            "WARNING:absl:Found untraced functions such as residual_block_0_layer_call_fn, residual_block_0_layer_call_and_return_conditional_losses, residual_block_1_layer_call_fn, residual_block_1_layer_call_and_return_conditional_losses, residual_block_2_layer_call_fn while saving (showing 5 of 257). These functions will not be directly callable after loading.\n",
            "\u001b[34m\u001b[1mwandb\u001b[0m: Adding directory to artifact (/content/wandb/run-20230124_135205-ti7hmyq5/files/model-best)... Done. 0.0s\n"
          ]
        },
        {
          "name": "stdout",
          "output_type": "stream",
          "text": [
            "\b\b\b\b\b\b\b\b\b\b\b\b\b\b\b\b\b\b\b\b\b\b\b\b\b\b\b\b\b\b\b\b\b\b\b\b\b\b\b\b\b\b\b\b\b\b\b\b\b\b\b\b\b\b\b\b\b\b\b\b\b\b\b\b\b\b\b\b\b\b\b\b\b\b\b\b\b\b\b\b\b\b\b\b\b\b\b\b\b\b\b\b\b\b\b\b\b\b\b\b\b\b\b\b\b\b\b\b\b\b\b\b\b\b\b\b\r61/61 [==============================] - 15s 240ms/step - loss: 311.9604 - mae: 13.2589 - root_mean_squared_error: 310.7507 - val_loss: 0.3188 - val_mae: 0.2647 - val_root_mean_squared_error: 0.3202 - lr: 0.0906\n",
            "Epoch 4/500\n",
            "61/61 [==============================] - ETA: 0s - loss: 1376.6650 - mae: 54.9068 - root_mean_squared_error: 1371.2153"
          ]
        },
        {
          "name": "stderr",
          "output_type": "stream",
          "text": [
            "WARNING:absl:Found untraced functions such as residual_block_0_layer_call_fn, residual_block_0_layer_call_and_return_conditional_losses, residual_block_1_layer_call_fn, residual_block_1_layer_call_and_return_conditional_losses, residual_block_2_layer_call_fn while saving (showing 5 of 257). These functions will not be directly callable after loading.\n",
            "\u001b[34m\u001b[1mwandb\u001b[0m: Adding directory to artifact (/content/wandb/run-20230124_135205-ti7hmyq5/files/model-best)... Done. 0.0s\n"
          ]
        },
        {
          "name": "stdout",
          "output_type": "stream",
          "text": [
            "\b\b\b\b\b\b\b\b\b\b\b\b\b\b\b\b\b\b\b\b\b\b\b\b\b\b\b\b\b\b\b\b\b\b\b\b\b\b\b\b\b\b\b\b\b\b\b\b\b\b\b\b\b\b\b\b\b\b\b\b\b\b\b\b\b\b\b\b\b\b\b\b\b\b\b\b\b\b\b\b\b\b\b\b\b\b\b\b\b\b\b\b\b\b\b\b\b\b\b\b\b\b\b\b\b\b\b\b\b\b\b\b\b\b\b\b\b\b\r61/61 [==============================] - 14s 238ms/step - loss: 1376.6650 - mae: 54.9068 - root_mean_squared_error: 1371.2153 - val_loss: 0.2192 - val_mae: 0.1800 - val_root_mean_squared_error: 0.2213 - lr: 0.0906\n",
            "Epoch 5/500\n",
            "61/61 [==============================] - ETA: 0s - loss: 3365.7119 - mae: 134.5119 - root_mean_squared_error: 3352.3550"
          ]
        },
        {
          "name": "stderr",
          "output_type": "stream",
          "text": [
            "WARNING:absl:Found untraced functions such as residual_block_0_layer_call_fn, residual_block_0_layer_call_and_return_conditional_losses, residual_block_1_layer_call_fn, residual_block_1_layer_call_and_return_conditional_losses, residual_block_2_layer_call_fn while saving (showing 5 of 257). These functions will not be directly callable after loading.\n",
            "\u001b[34m\u001b[1mwandb\u001b[0m: Adding directory to artifact (/content/wandb/run-20230124_135205-ti7hmyq5/files/model-best)... Done. 0.0s\n"
          ]
        },
        {
          "name": "stdout",
          "output_type": "stream",
          "text": [
            "\b\b\b\b\b\b\b\b\b\b\b\b\b\b\b\b\b\b\b\b\b\b\b\b\b\b\b\b\b\b\b\b\b\b\b\b\b\b\b\b\b\b\b\b\b\b\b\b\b\b\b\b\b\b\b\b\b\b\b\b\b\b\b\b\b\b\b\b\b\b\b\b\b\b\b\b\b\b\b\b\b\b\b\b\b\b\b\b\b\b\b\b\b\b\b\b\b\b\b\b\b\b\b\b\b\b\b\b\b\b\b\b\b\b\b\b\b\b\b\r61/61 [==============================] - 14s 234ms/step - loss: 3365.7119 - mae: 134.5119 - root_mean_squared_error: 3352.3550 - val_loss: 0.2169 - val_mae: 0.1875 - val_root_mean_squared_error: 0.2190 - lr: 0.0906\n",
            "Epoch 6/500\n",
            "61/61 [==============================] - ETA: 0s - loss: 26184.9043 - mae: 946.4570 - root_mean_squared_error: 26080.9453"
          ]
        },
        {
          "name": "stderr",
          "output_type": "stream",
          "text": [
            "WARNING:absl:Found untraced functions such as residual_block_0_layer_call_fn, residual_block_0_layer_call_and_return_conditional_losses, residual_block_1_layer_call_fn, residual_block_1_layer_call_and_return_conditional_losses, residual_block_2_layer_call_fn while saving (showing 5 of 257). These functions will not be directly callable after loading.\n",
            "\u001b[34m\u001b[1mwandb\u001b[0m: Adding directory to artifact (/content/wandb/run-20230124_135205-ti7hmyq5/files/model-best)... Done. 0.0s\n"
          ]
        },
        {
          "name": "stdout",
          "output_type": "stream",
          "text": [
            "\b\b\b\b\b\b\b\b\b\b\b\b\b\b\b\b\b\b\b\b\b\b\b\b\b\b\b\b\b\b\b\b\b\b\b\b\b\b\b\b\b\b\b\b\b\b\b\b\b\b\b\b\b\b\b\b\b\b\b\b\b\b\b\b\b\b\b\b\b\b\b\b\b\b\b\b\b\b\b\b\b\b\b\b\b\b\b\b\b\b\b\b\b\b\b\b\b\b\b\b\b\b\b\b\b\b\b\b\b\b\b\b\b\b\b\b\b\b\b\b\b\r61/61 [==============================] - 14s 239ms/step - loss: 26184.9043 - mae: 946.4570 - root_mean_squared_error: 26080.9453 - val_loss: 0.1823 - val_mae: 0.1547 - val_root_mean_squared_error: 0.1843 - lr: 0.0906\n",
            "Epoch 7/500\n",
            "61/61 [==============================] - ETA: 0s - loss: 232171.3438 - mae: 9681.0449 - root_mean_squared_error: 231249.5625"
          ]
        },
        {
          "name": "stderr",
          "output_type": "stream",
          "text": [
            "WARNING:absl:Found untraced functions such as residual_block_0_layer_call_fn, residual_block_0_layer_call_and_return_conditional_losses, residual_block_1_layer_call_fn, residual_block_1_layer_call_and_return_conditional_losses, residual_block_2_layer_call_fn while saving (showing 5 of 257). These functions will not be directly callable after loading.\n",
            "\u001b[34m\u001b[1mwandb\u001b[0m: Adding directory to artifact (/content/wandb/run-20230124_135205-ti7hmyq5/files/model-best)... Done. 0.0s\n"
          ]
        },
        {
          "name": "stdout",
          "output_type": "stream",
          "text": [
            "\b\b\b\b\b\b\b\b\b\b\b\b\b\b\b\b\b\b\b\b\b\b\b\b\b\b\b\b\b\b\b\b\b\b\b\b\b\b\b\b\b\b\b\b\b\b\b\b\b\b\b\b\b\b\b\b\b\b\b\b\b\b\b\b\b\b\b\b\b\b\b\b\b\b\b\b\b\b\b\b\b\b\b\b\b\b\b\b\b\b\b\b\b\b\b\b\b\b\b\b\b\b\b\b\b\b\b\b\b\b\b\b\b\b\b\b\b\b\b\b\b\b\b\b\r61/61 [==============================] - 14s 236ms/step - loss: 232171.3438 - mae: 9681.0449 - root_mean_squared_error: 231249.5625 - val_loss: 0.1756 - val_mae: 0.1534 - val_root_mean_squared_error: 0.1777 - lr: 0.0906\n",
            "Epoch 8/500\n",
            "61/61 [==============================] - ETA: 0s - loss: 201420000.0000 - mae: 6613495.0000 - root_mean_squared_error: 200620304.0000"
          ]
        },
        {
          "name": "stderr",
          "output_type": "stream",
          "text": [
            "WARNING:absl:Found untraced functions such as residual_block_0_layer_call_fn, residual_block_0_layer_call_and_return_conditional_losses, residual_block_1_layer_call_fn, residual_block_1_layer_call_and_return_conditional_losses, residual_block_2_layer_call_fn while saving (showing 5 of 257). These functions will not be directly callable after loading.\n",
            "\u001b[34m\u001b[1mwandb\u001b[0m: Adding directory to artifact (/content/wandb/run-20230124_135205-ti7hmyq5/files/model-best)... Done. 0.0s\n"
          ]
        },
        {
          "name": "stdout",
          "output_type": "stream",
          "text": [
            "\b\b\b\b\b\b\b\b\b\b\b\b\b\b\b\b\b\b\b\b\b\b\b\b\b\b\b\b\b\b\b\b\b\b\b\b\b\b\b\b\b\b\b\b\b\b\b\b\b\b\b\b\b\b\b\b\b\b\b\b\b\b\b\b\b\b\b\b\b\b\b\b\b\b\b\b\b\b\b\b\b\b\b\b\b\b\b\b\b\b\b\b\b\b\b\b\b\b\b\b\b\b\b\b\b\b\b\b\b\b\b\b\b\b\b\b\b\b\b\b\b\b\b\b\b\b\b\b\b\b\b\b\b\r61/61 [==============================] - 14s 238ms/step - loss: 201420000.0000 - mae: 6613495.0000 - root_mean_squared_error: 200620304.0000 - val_loss: 0.1682 - val_mae: 0.1450 - val_root_mean_squared_error: 0.1702 - lr: 0.0906\n",
            "Epoch 9/500\n",
            "61/61 [==============================] - 4s 71ms/step - loss: 2306844.7500 - mae: 79975.2578 - root_mean_squared_error: 2297686.0000 - val_loss: 0.2047 - val_mae: 0.1841 - val_root_mean_squared_error: 0.2073 - lr: 0.0906\n",
            "Epoch 10/500\n",
            "61/61 [==============================] - 4s 69ms/step - loss: 18592160.0000 - mae: 780238.9375 - root_mean_squared_error: 18518344.0000 - val_loss: 0.1691 - val_mae: 0.1463 - val_root_mean_squared_error: 0.1711 - lr: 0.0906\n",
            "Epoch 11/500\n",
            "61/61 [==============================] - 4s 71ms/step - loss: 89974.5078 - mae: 3765.7266 - root_mean_squared_error: 89617.2891 - val_loss: 0.1683 - val_mae: 0.1455 - val_root_mean_squared_error: 0.1703 - lr: 0.0906\n",
            "Epoch 12/500\n",
            "61/61 [==============================] - 4s 69ms/step - loss: 553247.7500 - mae: 21902.5293 - root_mean_squared_error: 551096.6250 - val_loss: 0.1844 - val_mae: 0.1628 - val_root_mean_squared_error: 0.1867 - lr: 0.0906\n",
            "Epoch 13/500\n",
            "61/61 [==============================] - 4s 70ms/step - loss: 19095.5020 - mae: 738.3367 - root_mean_squared_error: 19019.6895 - val_loss: 0.1869 - val_mae: 0.1655 - val_root_mean_squared_error: 0.1893 - lr: 0.0906\n",
            "Epoch 14/500\n",
            "61/61 [==============================] - 4s 70ms/step - loss: 128497560.0000 - mae: 5320269.5000 - root_mean_squared_error: 127987384.0000 - val_loss: 0.1828 - val_mae: 0.1612 - val_root_mean_squared_error: 0.1851 - lr: 0.0906\n",
            "Epoch 15/500\n",
            "61/61 [==============================] - 4s 70ms/step - loss: 24628952.0000 - mae: 987903.8750 - root_mean_squared_error: 24531168.0000 - val_loss: 0.1733 - val_mae: 0.1509 - val_root_mean_squared_error: 0.1754 - lr: 0.0906\n",
            "Epoch 16/500\n",
            "61/61 [==============================] - 4s 69ms/step - loss: 67000.6172 - mae: 2283.0227 - root_mean_squared_error: 66734.6094 - val_loss: 0.1735 - val_mae: 0.1513 - val_root_mean_squared_error: 0.1756 - lr: 0.0906\n",
            "Epoch 17/500\n",
            "61/61 [==============================] - 4s 69ms/step - loss: 3734712.0000 - mae: 154802.9219 - root_mean_squared_error: 3719884.0000 - val_loss: 0.1766 - val_mae: 0.1547 - val_root_mean_squared_error: 0.1788 - lr: 0.0906\n",
            "Epoch 18/500\n",
            "61/61 [==============================] - 4s 70ms/step - loss: 68946424.0000 - mae: 2762593.0000 - root_mean_squared_error: 68672688.0000 - val_loss: 0.1850 - val_mae: 0.1636 - val_root_mean_squared_error: 0.1873 - lr: 0.0906\n",
            "Epoch 19/500\n",
            "61/61 [==============================] - 4s 69ms/step - loss: 180029440.0000 - mae: 5790609.0000 - root_mean_squared_error: 179314672.0000 - val_loss: 0.1757 - val_mae: 0.1537 - val_root_mean_squared_error: 0.1778 - lr: 0.0091\n",
            "Epoch 20/500\n",
            "61/61 [==============================] - 4s 68ms/step - loss: 174524992.0000 - mae: 7044332.5000 - root_mean_squared_error: 173832080.0000 - val_loss: 0.1790 - val_mae: 0.1573 - val_root_mean_squared_error: 0.1813 - lr: 0.0091\n",
            "Epoch 21/500\n",
            "61/61 [==============================] - 4s 70ms/step - loss: 359221.4375 - mae: 13877.2715 - root_mean_squared_error: 357795.2188 - val_loss: 0.1766 - val_mae: 0.1547 - val_root_mean_squared_error: 0.1788 - lr: 0.0091\n",
            "Epoch 22/500\n",
            "61/61 [==============================] - 4s 69ms/step - loss: 93152.0312 - mae: 3726.5142 - root_mean_squared_error: 92782.1875 - val_loss: 0.1772 - val_mae: 0.1553 - val_root_mean_squared_error: 0.1794 - lr: 0.0091\n",
            "Epoch 23/500\n",
            "61/61 [==============================] - 4s 68ms/step - loss: 15381.8604 - mae: 670.7389 - root_mean_squared_error: 15320.7900 - val_loss: 0.1746 - val_mae: 0.1525 - val_root_mean_squared_error: 0.1767 - lr: 0.0091\n"
          ]
        },
        {
          "data": {
            "text/html": [
              "Waiting for W&B process to finish... <strong style=\"color:green\">(success).</strong>"
            ],
            "text/plain": [
              "<IPython.core.display.HTML object>"
            ]
          },
          "metadata": {},
          "output_type": "display_data"
        },
        {
          "data": {
            "application/vnd.jupyter.widget-view+json": {
              "model_id": "ba133895bf054b32bf4ef091e0e4bb47",
              "version_major": 2,
              "version_minor": 0
            },
            "text/plain": [
              "VBox(children=(Label(value='53.429 MB of 53.429 MB uploaded (0.698 MB deduped)\\r'), FloatProgress(value=1.0, m…"
            ]
          },
          "metadata": {},
          "output_type": "display_data"
        },
        {
          "data": {
            "text/html": [
              "<style>\n",
              "    table.wandb td:nth-child(1) { padding: 0 10px; text-align: left ; width: auto;} td:nth-child(2) {text-align: left ; width: 100%}\n",
              "    .wandb-row { display: flex; flex-direction: row; flex-wrap: wrap; justify-content: flex-start; width: 100% }\n",
              "    .wandb-col { display: flex; flex-direction: column; flex-basis: 100%; flex: 1; padding: 10px; }\n",
              "    </style>\n",
              "<div class=\"wandb-row\"><div class=\"wandb-col\"><h3>Run history:</h3><br/><table class=\"wandb\"><tr><td>epoch</td><td>▁▁▂▂▂▃▃▃▄▄▄▅▅▅▅▆▆▆▇▇▇██</td></tr><tr><td>loss</td><td>▁▁▁▁▁▁▁█▁▂▁▁▁▅▂▁▁▃▇▇▁▁▁</td></tr><tr><td>mae</td><td>▁▁▁▁▁▁▁█▁▂▁▁▁▆▂▁▁▄▇█▁▁▁</td></tr><tr><td>root_mean_squared_error</td><td>▁▁▁▁▁▁▁█▁▂▁▁▁▅▂▁▁▃▇▇▁▁▁</td></tr><tr><td>val_loss</td><td>█▂▂▁▁▁▁▁▁▁▁▁▁▁▁▁▁▁▁▁▁▁▁</td></tr><tr><td>val_mae</td><td>█▂▂▁▁▁▁▁▁▁▁▁▁▁▁▁▁▁▁▁▁▁▁</td></tr><tr><td>val_root_mean_squared_error</td><td>█▂▂▁▁▁▁▁▁▁▁▁▁▁▁▁▁▁▁▁▁▁▁</td></tr></table><br/></div><div class=\"wandb-col\"><h3>Run summary:</h3><br/><table class=\"wandb\"><tr><td>best_epoch</td><td>7</td></tr><tr><td>best_val_loss</td><td>0.16817</td></tr><tr><td>epoch</td><td>22</td></tr><tr><td>loss</td><td>15381.86035</td></tr><tr><td>mae</td><td>670.73889</td></tr><tr><td>root_mean_squared_error</td><td>15320.79004</td></tr><tr><td>val_loss</td><td>0.17458</td></tr><tr><td>val_mae</td><td>0.15253</td></tr><tr><td>val_root_mean_squared_error</td><td>0.17673</td></tr></table><br/></div></div>"
            ],
            "text/plain": [
              "<IPython.core.display.HTML object>"
            ]
          },
          "metadata": {},
          "output_type": "display_data"
        },
        {
          "data": {
            "text/html": [
              " View run <strong style=\"color:#cdcd00\">vocal-sweep-26</strong> at: <a href=\"https://wandb.ai/dsp_aguro/aguro_tcn/runs/ti7hmyq5\" target=\"_blank\">https://wandb.ai/dsp_aguro/aguro_tcn/runs/ti7hmyq5</a><br/>Synced 5 W&B file(s), 1 media file(s), 32 artifact file(s) and 1 other file(s)"
            ],
            "text/plain": [
              "<IPython.core.display.HTML object>"
            ]
          },
          "metadata": {},
          "output_type": "display_data"
        },
        {
          "data": {
            "text/html": [
              "Find logs at: <code>./wandb/run-20230124_135205-ti7hmyq5/logs</code>"
            ],
            "text/plain": [
              "<IPython.core.display.HTML object>"
            ]
          },
          "metadata": {},
          "output_type": "display_data"
        },
        {
          "name": "stderr",
          "output_type": "stream",
          "text": [
            "\u001b[34m\u001b[1mwandb\u001b[0m: Agent Starting Run: 6rqqqbok with config:\n",
            "\u001b[34m\u001b[1mwandb\u001b[0m: \tbatch_size: 512\n",
            "\u001b[34m\u001b[1mwandb\u001b[0m: \tdropout_rate: 0.5\n",
            "\u001b[34m\u001b[1mwandb\u001b[0m: \tepochs: 500\n",
            "\u001b[34m\u001b[1mwandb\u001b[0m: \tkernel_size: 12\n",
            "\u001b[34m\u001b[1mwandb\u001b[0m: \tlr: 0.0868665247334561\n",
            "\u001b[34m\u001b[1mwandb\u001b[0m: \tnb_filters: 64\n",
            "\u001b[34m\u001b[1mwandb\u001b[0m: \toptimizer: adam\n",
            "Failed to detect the name of this notebook, you can set it manually with the WANDB_NOTEBOOK_NAME environment variable to enable code saving.\n"
          ]
        },
        {
          "data": {
            "text/html": [
              "Tracking run with wandb version 0.13.9"
            ],
            "text/plain": [
              "<IPython.core.display.HTML object>"
            ]
          },
          "metadata": {},
          "output_type": "display_data"
        },
        {
          "data": {
            "text/html": [
              "Run data is saved locally in <code>/content/wandb/run-20230124_135541-6rqqqbok</code>"
            ],
            "text/plain": [
              "<IPython.core.display.HTML object>"
            ]
          },
          "metadata": {},
          "output_type": "display_data"
        },
        {
          "data": {
            "text/html": [
              "Syncing run <strong><a href=\"https://wandb.ai/dsp_aguro/aguro_tcn/runs/6rqqqbok\" target=\"_blank\">lucky-sweep-27</a></strong> to <a href=\"https://wandb.ai/dsp_aguro/aguro_tcn\" target=\"_blank\">Weights & Biases</a> (<a href=\"https://wandb.me/run\" target=\"_blank\">docs</a>)<br/>Sweep page: <a href=\"https://wandb.ai/dsp_aguro/aguro_tcn/sweeps/9vw7gd6y\" target=\"_blank\">https://wandb.ai/dsp_aguro/aguro_tcn/sweeps/9vw7gd6y</a>"
            ],
            "text/plain": [
              "<IPython.core.display.HTML object>"
            ]
          },
          "metadata": {},
          "output_type": "display_data"
        },
        {
          "data": {
            "text/html": [
              " View project at <a href=\"https://wandb.ai/dsp_aguro/aguro_tcn\" target=\"_blank\">https://wandb.ai/dsp_aguro/aguro_tcn</a>"
            ],
            "text/plain": [
              "<IPython.core.display.HTML object>"
            ]
          },
          "metadata": {},
          "output_type": "display_data"
        },
        {
          "data": {
            "text/html": [
              " View sweep at <a href=\"https://wandb.ai/dsp_aguro/aguro_tcn/sweeps/9vw7gd6y\" target=\"_blank\">https://wandb.ai/dsp_aguro/aguro_tcn/sweeps/9vw7gd6y</a>"
            ],
            "text/plain": [
              "<IPython.core.display.HTML object>"
            ]
          },
          "metadata": {},
          "output_type": "display_data"
        },
        {
          "data": {
            "text/html": [
              " View run at <a href=\"https://wandb.ai/dsp_aguro/aguro_tcn/runs/6rqqqbok\" target=\"_blank\">https://wandb.ai/dsp_aguro/aguro_tcn/runs/6rqqqbok</a>"
            ],
            "text/plain": [
              "<IPython.core.display.HTML object>"
            ]
          },
          "metadata": {},
          "output_type": "display_data"
        },
        {
          "name": "stdout",
          "output_type": "stream",
          "text": [
            "Epoch 1/500\n",
            " 6/61 [=>............................] - ETA: 12s - loss: 13502.0459 - mae: 8752.5420 - root_mean_squared_error: 13502.0459 "
          ]
        },
        {
          "name": "stderr",
          "output_type": "stream",
          "text": [
            "WARNING:tensorflow:Callback method `on_train_batch_end` is slow compared to the batch time (batch time: 0.0590s vs `on_train_batch_end` time: 0.1669s). Check your callbacks.\n"
          ]
        },
        {
          "name": "stdout",
          "output_type": "stream",
          "text": [
            "61/61 [==============================] - ETA: 0s - loss: 1333.9619 - mae: 864.5466 - root_mean_squared_error: 1328.6947"
          ]
        },
        {
          "name": "stderr",
          "output_type": "stream",
          "text": [
            "WARNING:absl:Found untraced functions such as residual_block_0_layer_call_fn, residual_block_0_layer_call_and_return_conditional_losses, residual_block_1_layer_call_fn, residual_block_1_layer_call_and_return_conditional_losses, residual_block_2_layer_call_fn while saving (showing 5 of 257). These functions will not be directly callable after loading.\n",
            "\u001b[34m\u001b[1mwandb\u001b[0m: Adding directory to artifact (/content/wandb/run-20230124_135541-6rqqqbok/files/model-best)... Done. 0.1s\n"
          ]
        },
        {
          "name": "stdout",
          "output_type": "stream",
          "text": [
            "\b\b\b\b\b\b\b\b\b\b\b\b\b\b\b\b\b\b\b\b\b\b\b\b\b\b\b\b\b\b\b\b\b\b\b\b\b\b\b\b\b\b\b\b\b\b\b\b\b\b\b\b\b\b\b\b\b\b\b\b\b\b\b\b\b\b\b\b\b\b\b\b\b\b\b\b\b\b\b\b\b\b\b\b\b\b\b\b\b\b\b\b\b\b\b\b\b\b\b\b\b\b\b\b\b\b\b\b\b\b\b\b\b\b\b\b\b\b\b\r61/61 [==============================] - 30s 431ms/step - loss: 1333.9619 - mae: 864.5466 - root_mean_squared_error: 1328.6947 - val_loss: 0.1777 - val_mae: 0.1556 - val_root_mean_squared_error: 0.1799 - lr: 0.0869\n",
            "Epoch 2/500\n",
            "61/61 [==============================] - ETA: 0s - loss: 0.4183 - mae: 0.1798 - root_mean_squared_error: 0.4281"
          ]
        },
        {
          "name": "stderr",
          "output_type": "stream",
          "text": [
            "WARNING:absl:Found untraced functions such as residual_block_0_layer_call_fn, residual_block_0_layer_call_and_return_conditional_losses, residual_block_1_layer_call_fn, residual_block_1_layer_call_and_return_conditional_losses, residual_block_2_layer_call_fn while saving (showing 5 of 257). These functions will not be directly callable after loading.\n",
            "\u001b[34m\u001b[1mwandb\u001b[0m: Adding directory to artifact (/content/wandb/run-20230124_135541-6rqqqbok/files/model-best)... Done. 0.1s\n"
          ]
        },
        {
          "name": "stdout",
          "output_type": "stream",
          "text": [
            "\b\b\b\b\b\b\b\b\b\b\b\b\b\b\b\b\b\b\b\b\b\b\b\b\b\b\b\b\b\b\b\b\b\b\b\b\b\b\b\b\b\b\b\b\b\b\b\b\b\b\b\b\b\b\b\b\b\b\b\b\b\b\b\b\b\b\b\b\b\b\b\b\b\b\b\b\b\b\b\b\b\b\b\b\b\b\b\b\b\b\b\b\b\b\b\b\b\b\b\b\b\b\b\b\b\b\b\b\b\b\b\r61/61 [==============================] - 24s 402ms/step - loss: 0.4183 - mae: 0.1798 - root_mean_squared_error: 0.4281 - val_loss: 0.1749 - val_mae: 0.1528 - val_root_mean_squared_error: 0.1770 - lr: 0.0869\n",
            "Epoch 3/500\n",
            "61/61 [==============================] - ETA: 0s - loss: 0.3944 - mae: 0.1779 - root_mean_squared_error: 0.3937"
          ]
        },
        {
          "name": "stderr",
          "output_type": "stream",
          "text": [
            "WARNING:absl:Found untraced functions such as residual_block_0_layer_call_fn, residual_block_0_layer_call_and_return_conditional_losses, residual_block_1_layer_call_fn, residual_block_1_layer_call_and_return_conditional_losses, residual_block_2_layer_call_fn while saving (showing 5 of 257). These functions will not be directly callable after loading.\n",
            "\u001b[34m\u001b[1mwandb\u001b[0m: Adding directory to artifact (/content/wandb/run-20230124_135541-6rqqqbok/files/model-best)... Done. 0.1s\n"
          ]
        },
        {
          "name": "stdout",
          "output_type": "stream",
          "text": [
            "\b\b\b\b\b\b\b\b\b\b\b\b\b\b\b\b\b\b\b\b\b\b\b\b\b\b\b\b\b\b\b\b\b\b\b\b\b\b\b\b\b\b\b\b\b\b\b\b\b\b\b\b\b\b\b\b\b\b\b\b\b\b\b\b\b\b\b\b\b\b\b\b\b\b\b\b\b\b\b\b\b\b\b\b\b\b\b\b\b\b\b\b\b\b\b\b\b\b\b\b\b\b\b\b\b\b\b\b\b\b\b\r61/61 [==============================] - 24s 402ms/step - loss: 0.3944 - mae: 0.1779 - root_mean_squared_error: 0.3937 - val_loss: 0.1747 - val_mae: 0.1525 - val_root_mean_squared_error: 0.1769 - lr: 0.0869\n",
            "Epoch 4/500\n",
            "61/61 [==============================] - 14s 235ms/step - loss: 0.5541 - mae: 0.1830 - root_mean_squared_error: 0.5529 - val_loss: 0.1770 - val_mae: 0.1550 - val_root_mean_squared_error: 0.1792 - lr: 0.0869\n",
            "Epoch 5/500\n",
            "61/61 [==============================] - ETA: 0s - loss: 0.5756 - mae: 0.1836 - root_mean_squared_error: 0.5785"
          ]
        },
        {
          "name": "stderr",
          "output_type": "stream",
          "text": [
            "WARNING:absl:Found untraced functions such as residual_block_0_layer_call_fn, residual_block_0_layer_call_and_return_conditional_losses, residual_block_1_layer_call_fn, residual_block_1_layer_call_and_return_conditional_losses, residual_block_2_layer_call_fn while saving (showing 5 of 257). These functions will not be directly callable after loading.\n",
            "\u001b[34m\u001b[1mwandb\u001b[0m: Adding directory to artifact (/content/wandb/run-20230124_135541-6rqqqbok/files/model-best)... Done. 0.1s\n"
          ]
        },
        {
          "name": "stdout",
          "output_type": "stream",
          "text": [
            "\b\b\b\b\b\b\b\b\b\b\b\b\b\b\b\b\b\b\b\b\b\b\b\b\b\b\b\b\b\b\b\b\b\b\b\b\b\b\b\b\b\b\b\b\b\b\b\b\b\b\b\b\b\b\b\b\b\b\b\b\b\b\b\b\b\b\b\b\b\b\b\b\b\b\b\b\b\b\b\b\b\b\b\b\b\b\b\b\b\b\b\b\b\b\b\b\b\b\b\b\b\b\b\b\b\b\b\b\b\b\b\r61/61 [==============================] - 25s 407ms/step - loss: 0.5756 - mae: 0.1836 - root_mean_squared_error: 0.5785 - val_loss: 0.1710 - val_mae: 0.1485 - val_root_mean_squared_error: 0.1731 - lr: 0.0869\n",
            "Epoch 6/500\n",
            "61/61 [==============================] - 14s 234ms/step - loss: 0.7324 - mae: 0.1950 - root_mean_squared_error: 0.7304 - val_loss: 0.1875 - val_mae: 0.1662 - val_root_mean_squared_error: 0.1899 - lr: 0.0869\n",
            "Epoch 7/500\n",
            "61/61 [==============================] - 14s 235ms/step - loss: 135.4673 - mae: 6.1074 - root_mean_squared_error: 134.9962 - val_loss: 0.1831 - val_mae: 0.1488 - val_root_mean_squared_error: 0.1848 - lr: 0.0869\n",
            "Epoch 8/500\n",
            "61/61 [==============================] - 14s 235ms/step - loss: 2534.2146 - mae: 118.7107 - root_mean_squared_error: 2558.0178 - val_loss: 0.3674 - val_mae: 0.3050 - val_root_mean_squared_error: 0.3687 - lr: 0.0869\n",
            "Epoch 9/500\n",
            "61/61 [==============================] - 14s 235ms/step - loss: 2914576.0000 - mae: 157135.5312 - root_mean_squared_error: 2903707.5000 - val_loss: 0.2371 - val_mae: 0.1898 - val_root_mean_squared_error: 0.2388 - lr: 0.0869\n",
            "Epoch 10/500\n",
            "61/61 [==============================] - 14s 235ms/step - loss: 31873566.0000 - mae: 1296869.6250 - root_mean_squared_error: 31751280.0000 - val_loss: 0.2370 - val_mae: 0.1888 - val_root_mean_squared_error: 0.2379 - lr: 0.0869\n",
            "Epoch 11/500\n",
            "61/61 [==============================] - 14s 235ms/step - loss: 454994976.0000 - mae: 19343992.0000 - root_mean_squared_error: 453188704.0000 - val_loss: 0.1851 - val_mae: 0.1622 - val_root_mean_squared_error: 0.1873 - lr: 0.0869\n",
            "Epoch 12/500\n",
            "61/61 [==============================] - 14s 235ms/step - loss: 110172056.0000 - mae: 4238597.5000 - root_mean_squared_error: 109734640.0000 - val_loss: 0.1835 - val_mae: 0.1613 - val_root_mean_squared_error: 0.1857 - lr: 0.0869\n",
            "Epoch 13/500\n",
            "61/61 [==============================] - ETA: 0s - loss: 1617668352.0000 - mae: 63543932.0000 - root_mean_squared_error: 1611245824.0000"
          ]
        },
        {
          "name": "stderr",
          "output_type": "stream",
          "text": [
            "WARNING:absl:Found untraced functions such as residual_block_0_layer_call_fn, residual_block_0_layer_call_and_return_conditional_losses, residual_block_1_layer_call_fn, residual_block_1_layer_call_and_return_conditional_losses, residual_block_2_layer_call_fn while saving (showing 5 of 257). These functions will not be directly callable after loading.\n",
            "\u001b[34m\u001b[1mwandb\u001b[0m: Adding directory to artifact (/content/wandb/run-20230124_135541-6rqqqbok/files/model-best)... Done. 0.1s\n"
          ]
        },
        {
          "name": "stdout",
          "output_type": "stream",
          "text": [
            "\b\b\b\b\b\b\b\b\b\b\b\b\b\b\b\b\b\b\b\b\b\b\b\b\b\b\b\b\b\b\b\b\b\b\b\b\b\b\b\b\b\b\b\b\b\b\b\b\b\b\b\b\b\b\b\b\b\b\b\b\b\b\b\b\b\b\b\b\b\b\b\b\b\b\b\b\b\b\b\b\b\b\b\b\b\b\b\b\b\b\b\b\b\b\b\b\b\b\b\b\b\b\b\b\b\b\b\b\b\b\b\b\b\b\b\b\b\b\b\b\b\b\b\b\b\b\b\b\b\b\b\b\b\b\b\b\r61/61 [==============================] - 24s 404ms/step - loss: 1617668352.0000 - mae: 63543932.0000 - root_mean_squared_error: 1611245824.0000 - val_loss: 0.1666 - val_mae: 0.1429 - val_root_mean_squared_error: 0.1686 - lr: 0.0869\n",
            "Epoch 14/500\n",
            "61/61 [==============================] - 14s 235ms/step - loss: 18042533888.0000 - mae: 656963520.0000 - root_mean_squared_error: 17970900992.0000 - val_loss: 0.1759 - val_mae: 0.1537 - val_root_mean_squared_error: 0.1780 - lr: 0.0869\n",
            "Epoch 15/500\n",
            "61/61 [==============================] - 14s 236ms/step - loss: 119385456.0000 - mae: 4462904.0000 - root_mean_squared_error: 118911464.0000 - val_loss: 0.1834 - val_mae: 0.1618 - val_root_mean_squared_error: 0.1857 - lr: 0.0869\n",
            "Epoch 16/500\n",
            "61/61 [==============================] - 14s 236ms/step - loss: 1555424.5000 - mae: 55492.8906 - root_mean_squared_error: 1549249.0000 - val_loss: 0.1715 - val_mae: 0.1491 - val_root_mean_squared_error: 0.1736 - lr: 0.0869\n",
            "Epoch 17/500\n",
            "61/61 [==============================] - 15s 244ms/step - loss: 16371151.0000 - mae: 650315.3125 - root_mean_squared_error: 16306153.0000 - val_loss: 0.1883 - val_mae: 0.1670 - val_root_mean_squared_error: 0.1906 - lr: 0.0869\n",
            "Epoch 18/500\n",
            "61/61 [==============================] - 14s 234ms/step - loss: 24704.1406 - mae: 1012.6857 - root_mean_squared_error: 24606.0586 - val_loss: 0.1760 - val_mae: 0.1540 - val_root_mean_squared_error: 0.1782 - lr: 0.0869\n",
            "Epoch 19/500\n",
            "61/61 [==============================] - 14s 235ms/step - loss: 1271507.3750 - mae: 52161.7461 - root_mean_squared_error: 1266459.1250 - val_loss: 0.1887 - val_mae: 0.1673 - val_root_mean_squared_error: 0.1911 - lr: 0.0869\n",
            "Epoch 20/500\n",
            "61/61 [==============================] - 14s 235ms/step - loss: 2062691.8750 - mae: 67907.0703 - root_mean_squared_error: 2054502.3750 - val_loss: 0.1780 - val_mae: 0.1562 - val_root_mean_squared_error: 0.1802 - lr: 0.0869\n",
            "Epoch 21/500\n",
            "61/61 [==============================] - 14s 236ms/step - loss: 175206.0156 - mae: 6455.0806 - root_mean_squared_error: 174510.3906 - val_loss: 0.1707 - val_mae: 0.1483 - val_root_mean_squared_error: 0.1728 - lr: 0.0869\n",
            "Epoch 22/500\n",
            "61/61 [==============================] - 14s 235ms/step - loss: 131158224.0000 - mae: 5586106.5000 - root_mean_squared_error: 130637488.0000 - val_loss: 0.1694 - val_mae: 0.1468 - val_root_mean_squared_error: 0.1714 - lr: 0.0869\n",
            "Epoch 23/500\n",
            "61/61 [==============================] - 14s 235ms/step - loss: 23213.6445 - mae: 776.0762 - root_mean_squared_error: 23121.4824 - val_loss: 0.1711 - val_mae: 0.1487 - val_root_mean_squared_error: 0.1732 - lr: 0.0869\n",
            "Epoch 24/500\n",
            "61/61 [==============================] - 14s 235ms/step - loss: 2571403.5000 - mae: 100379.0000 - root_mean_squared_error: 2561194.2500 - val_loss: 0.1750 - val_mae: 0.1530 - val_root_mean_squared_error: 0.1772 - lr: 0.0087\n",
            "Epoch 25/500\n",
            "61/61 [==============================] - 14s 236ms/step - loss: 3098400.0000 - mae: 120546.7812 - root_mean_squared_error: 3086098.2500 - val_loss: 0.1748 - val_mae: 0.1528 - val_root_mean_squared_error: 0.1770 - lr: 0.0087\n",
            "Epoch 26/500\n",
            "61/61 [==============================] - 14s 235ms/step - loss: 8.4356 - mae: 0.5126 - root_mean_squared_error: 8.4030 - val_loss: 0.1766 - val_mae: 0.1546 - val_root_mean_squared_error: 0.1788 - lr: 0.0087\n",
            "Epoch 27/500\n",
            "61/61 [==============================] - 14s 235ms/step - loss: 77.0621 - mae: 3.5033 - root_mean_squared_error: 76.7570 - val_loss: 0.1785 - val_mae: 0.1567 - val_root_mean_squared_error: 0.1807 - lr: 0.0087\n",
            "Epoch 28/500\n",
            "61/61 [==============================] - 14s 236ms/step - loss: 1541221.8750 - mae: 67689.3047 - root_mean_squared_error: 1535102.8750 - val_loss: 0.1780 - val_mae: 0.1562 - val_root_mean_squared_error: 0.1802 - lr: 0.0087\n"
          ]
        },
        {
          "data": {
            "text/html": [
              "Waiting for W&B process to finish... <strong style=\"color:green\">(success).</strong>"
            ],
            "text/plain": [
              "<IPython.core.display.HTML object>"
            ]
          },
          "metadata": {},
          "output_type": "display_data"
        },
        {
          "data": {
            "text/html": [
              "<style>\n",
              "    table.wandb td:nth-child(1) { padding: 0 10px; text-align: left ; width: auto;} td:nth-child(2) {text-align: left ; width: 100%}\n",
              "    .wandb-row { display: flex; flex-direction: row; flex-wrap: wrap; justify-content: flex-start; width: 100% }\n",
              "    .wandb-col { display: flex; flex-direction: column; flex-basis: 100%; flex: 1; padding: 10px; }\n",
              "    </style>\n",
              "<div class=\"wandb-row\"><div class=\"wandb-col\"><h3>Run history:</h3><br/><table class=\"wandb\"><tr><td>epoch</td><td>▁▁▂▂▂▂▃▃▃▃▄▄▄▄▅▅▅▅▆▆▆▆▇▇▇▇██</td></tr><tr><td>loss</td><td>▁▁▁▁▁▁▁▁▁▁▁▁▂█▁▁▁▁▁▁▁▁▁▁▁▁▁▁</td></tr><tr><td>mae</td><td>▁▁▁▁▁▁▁▁▁▁▁▁▂█▁▁▁▁▁▁▁▁▁▁▁▁▁▁</td></tr><tr><td>root_mean_squared_error</td><td>▁▁▁▁▁▁▁▁▁▁▁▁▂█▁▁▁▁▁▁▁▁▁▁▁▁▁▁</td></tr><tr><td>val_loss</td><td>▁▁▁▁▁▂▂█▃▃▂▂▁▁▂▁▂▁▂▁▁▁▁▁▁▁▁▁</td></tr><tr><td>val_mae</td><td>▂▁▁▂▁▂▁█▃▃▂▂▁▁▂▁▂▁▂▂▁▁▁▁▁▂▂▂</td></tr><tr><td>val_root_mean_squared_error</td><td>▁▁▁▁▁▂▂█▃▃▂▂▁▁▂▁▂▁▂▁▁▁▁▁▁▁▁▁</td></tr></table><br/></div><div class=\"wandb-col\"><h3>Run summary:</h3><br/><table class=\"wandb\"><tr><td>best_epoch</td><td>12</td></tr><tr><td>best_val_loss</td><td>0.16665</td></tr><tr><td>epoch</td><td>27</td></tr><tr><td>loss</td><td>1541221.875</td></tr><tr><td>mae</td><td>67689.30469</td></tr><tr><td>root_mean_squared_error</td><td>1535102.875</td></tr><tr><td>val_loss</td><td>0.17803</td></tr><tr><td>val_mae</td><td>0.15621</td></tr><tr><td>val_root_mean_squared_error</td><td>0.18024</td></tr></table><br/></div></div>"
            ],
            "text/plain": [
              "<IPython.core.display.HTML object>"
            ]
          },
          "metadata": {},
          "output_type": "display_data"
        },
        {
          "data": {
            "text/html": [
              " View run <strong style=\"color:#cdcd00\">lucky-sweep-27</strong> at: <a href=\"https://wandb.ai/dsp_aguro/aguro_tcn/runs/6rqqqbok\" target=\"_blank\">https://wandb.ai/dsp_aguro/aguro_tcn/runs/6rqqqbok</a><br/>Synced 5 W&B file(s), 1 media file(s), 20 artifact file(s) and 1 other file(s)"
            ],
            "text/plain": [
              "<IPython.core.display.HTML object>"
            ]
          },
          "metadata": {},
          "output_type": "display_data"
        },
        {
          "data": {
            "text/html": [
              "Find logs at: <code>./wandb/run-20230124_135541-6rqqqbok/logs</code>"
            ],
            "text/plain": [
              "<IPython.core.display.HTML object>"
            ]
          },
          "metadata": {},
          "output_type": "display_data"
        },
        {
          "name": "stderr",
          "output_type": "stream",
          "text": [
            "\u001b[34m\u001b[1mwandb\u001b[0m: Agent Starting Run: hda0z343 with config:\n",
            "\u001b[34m\u001b[1mwandb\u001b[0m: \tbatch_size: 512\n",
            "\u001b[34m\u001b[1mwandb\u001b[0m: \tdropout_rate: 0.3\n",
            "\u001b[34m\u001b[1mwandb\u001b[0m: \tepochs: 500\n",
            "\u001b[34m\u001b[1mwandb\u001b[0m: \tkernel_size: 12\n",
            "\u001b[34m\u001b[1mwandb\u001b[0m: \tlr: 0.05609787754527969\n",
            "\u001b[34m\u001b[1mwandb\u001b[0m: \tnb_filters: 16\n",
            "\u001b[34m\u001b[1mwandb\u001b[0m: \toptimizer: adam\n",
            "Failed to detect the name of this notebook, you can set it manually with the WANDB_NOTEBOOK_NAME environment variable to enable code saving.\n"
          ]
        },
        {
          "data": {
            "text/html": [
              "Tracking run with wandb version 0.13.9"
            ],
            "text/plain": [
              "<IPython.core.display.HTML object>"
            ]
          },
          "metadata": {},
          "output_type": "display_data"
        },
        {
          "data": {
            "text/html": [
              "Run data is saved locally in <code>/content/wandb/run-20230124_140416-hda0z343</code>"
            ],
            "text/plain": [
              "<IPython.core.display.HTML object>"
            ]
          },
          "metadata": {},
          "output_type": "display_data"
        },
        {
          "data": {
            "text/html": [
              "Syncing run <strong><a href=\"https://wandb.ai/dsp_aguro/aguro_tcn/runs/hda0z343\" target=\"_blank\">effortless-sweep-28</a></strong> to <a href=\"https://wandb.ai/dsp_aguro/aguro_tcn\" target=\"_blank\">Weights & Biases</a> (<a href=\"https://wandb.me/run\" target=\"_blank\">docs</a>)<br/>Sweep page: <a href=\"https://wandb.ai/dsp_aguro/aguro_tcn/sweeps/9vw7gd6y\" target=\"_blank\">https://wandb.ai/dsp_aguro/aguro_tcn/sweeps/9vw7gd6y</a>"
            ],
            "text/plain": [
              "<IPython.core.display.HTML object>"
            ]
          },
          "metadata": {},
          "output_type": "display_data"
        },
        {
          "data": {
            "text/html": [
              " View project at <a href=\"https://wandb.ai/dsp_aguro/aguro_tcn\" target=\"_blank\">https://wandb.ai/dsp_aguro/aguro_tcn</a>"
            ],
            "text/plain": [
              "<IPython.core.display.HTML object>"
            ]
          },
          "metadata": {},
          "output_type": "display_data"
        },
        {
          "data": {
            "text/html": [
              " View sweep at <a href=\"https://wandb.ai/dsp_aguro/aguro_tcn/sweeps/9vw7gd6y\" target=\"_blank\">https://wandb.ai/dsp_aguro/aguro_tcn/sweeps/9vw7gd6y</a>"
            ],
            "text/plain": [
              "<IPython.core.display.HTML object>"
            ]
          },
          "metadata": {},
          "output_type": "display_data"
        },
        {
          "data": {
            "text/html": [
              " View run at <a href=\"https://wandb.ai/dsp_aguro/aguro_tcn/runs/hda0z343\" target=\"_blank\">https://wandb.ai/dsp_aguro/aguro_tcn/runs/hda0z343</a>"
            ],
            "text/plain": [
              "<IPython.core.display.HTML object>"
            ]
          },
          "metadata": {},
          "output_type": "display_data"
        },
        {
          "name": "stdout",
          "output_type": "stream",
          "text": [
            "Epoch 1/500\n",
            " 6/61 [=>............................] - ETA: 5s - loss: 0.8622 - mae: 0.6857 - root_mean_squared_error: 0.8622"
          ]
        },
        {
          "name": "stderr",
          "output_type": "stream",
          "text": [
            "WARNING:tensorflow:Callback method `on_train_batch_end` is slow compared to the batch time (batch time: 0.0321s vs `on_train_batch_end` time: 0.0741s). Check your callbacks.\n"
          ]
        },
        {
          "name": "stdout",
          "output_type": "stream",
          "text": [
            "61/61 [==============================] - ETA: 0s - loss: 0.2945 - mae: 0.2293 - root_mean_squared_error: 0.2942"
          ]
        },
        {
          "name": "stderr",
          "output_type": "stream",
          "text": [
            "WARNING:absl:Found untraced functions such as residual_block_0_layer_call_fn, residual_block_0_layer_call_and_return_conditional_losses, residual_block_1_layer_call_fn, residual_block_1_layer_call_and_return_conditional_losses, residual_block_2_layer_call_fn while saving (showing 5 of 257). These functions will not be directly callable after loading.\n",
            "\u001b[34m\u001b[1mwandb\u001b[0m: Adding directory to artifact (/content/wandb/run-20230124_140416-hda0z343/files/model-best)... Done. 0.0s\n"
          ]
        },
        {
          "name": "stdout",
          "output_type": "stream",
          "text": [
            "\b\b\b\b\b\b\b\b\b\b\b\b\b\b\b\b\b\b\b\b\b\b\b\b\b\b\b\b\b\b\b\b\b\b\b\b\b\b\b\b\b\b\b\b\b\b\b\b\b\b\b\b\b\b\b\b\b\b\b\b\b\b\b\b\b\b\b\b\b\b\b\b\b\b\b\b\b\b\b\b\b\b\b\b\b\b\b\b\b\b\b\b\b\b\b\b\b\b\b\b\b\b\b\b\b\b\b\b\b\b\b\r61/61 [==============================] - 21s 276ms/step - loss: 0.2945 - mae: 0.2293 - root_mean_squared_error: 0.2942 - val_loss: 0.1746 - val_mae: 0.1526 - val_root_mean_squared_error: 0.1767 - lr: 0.0561\n",
            "Epoch 2/500\n",
            "61/61 [==============================] - ETA: 0s - loss: 0.2103 - mae: 0.1581 - root_mean_squared_error: 0.2103"
          ]
        },
        {
          "name": "stderr",
          "output_type": "stream",
          "text": [
            "WARNING:absl:Found untraced functions such as residual_block_0_layer_call_fn, residual_block_0_layer_call_and_return_conditional_losses, residual_block_1_layer_call_fn, residual_block_1_layer_call_and_return_conditional_losses, residual_block_2_layer_call_fn while saving (showing 5 of 257). These functions will not be directly callable after loading.\n",
            "\u001b[34m\u001b[1mwandb\u001b[0m: Adding directory to artifact (/content/wandb/run-20230124_140416-hda0z343/files/model-best)... Done. 0.0s\n"
          ]
        },
        {
          "name": "stdout",
          "output_type": "stream",
          "text": [
            "\b\b\b\b\b\b\b\b\b\b\b\b\b\b\b\b\b\b\b\b\b\b\b\b\b\b\b\b\b\b\b\b\b\b\b\b\b\b\b\b\b\b\b\b\b\b\b\b\b\b\b\b\b\b\b\b\b\b\b\b\b\b\b\b\b\b\b\b\b\b\b\b\b\b\b\b\b\b\b\b\b\b\b\b\b\b\b\b\b\b\b\b\b\b\b\b\b\b\b\b\b\b\b\b\b\b\b\b\b\b\b\r61/61 [==============================] - 16s 260ms/step - loss: 0.2103 - mae: 0.1581 - root_mean_squared_error: 0.2103 - val_loss: 0.1651 - val_mae: 0.1418 - val_root_mean_squared_error: 0.1668 - lr: 0.0561\n",
            "Epoch 3/500\n",
            "61/61 [==============================] - 6s 97ms/step - loss: 0.2074 - mae: 0.1555 - root_mean_squared_error: 0.2074 - val_loss: 0.1717 - val_mae: 0.1481 - val_root_mean_squared_error: 0.1733 - lr: 0.0561\n",
            "Epoch 4/500\n",
            "61/61 [==============================] - ETA: 0s - loss: 0.2051 - mae: 0.1543 - root_mean_squared_error: 0.2050"
          ]
        },
        {
          "name": "stderr",
          "output_type": "stream",
          "text": [
            "WARNING:absl:Found untraced functions such as residual_block_0_layer_call_fn, residual_block_0_layer_call_and_return_conditional_losses, residual_block_1_layer_call_fn, residual_block_1_layer_call_and_return_conditional_losses, residual_block_2_layer_call_fn while saving (showing 5 of 257). These functions will not be directly callable after loading.\n",
            "\u001b[34m\u001b[1mwandb\u001b[0m: Adding directory to artifact (/content/wandb/run-20230124_140416-hda0z343/files/model-best)... Done. 0.0s\n"
          ]
        },
        {
          "name": "stdout",
          "output_type": "stream",
          "text": [
            "\b\b\b\b\b\b\b\b\b\b\b\b\b\b\b\b\b\b\b\b\b\b\b\b\b\b\b\b\b\b\b\b\b\b\b\b\b\b\b\b\b\b\b\b\b\b\b\b\b\b\b\b\b\b\b\b\b\b\b\b\b\b\b\b\b\b\b\b\b\b\b\b\b\b\b\b\b\b\b\b\b\b\b\b\b\b\b\b\b\b\b\b\b\b\b\b\b\b\b\b\b\b\b\b\b\b\b\b\b\b\b\r61/61 [==============================] - 16s 259ms/step - loss: 0.2051 - mae: 0.1543 - root_mean_squared_error: 0.2050 - val_loss: 0.1578 - val_mae: 0.1289 - val_root_mean_squared_error: 0.1585 - lr: 0.0561\n",
            "Epoch 5/500\n",
            "61/61 [==============================] - 6s 98ms/step - loss: 0.2011 - mae: 0.1520 - root_mean_squared_error: 0.2011 - val_loss: 0.1598 - val_mae: 0.1337 - val_root_mean_squared_error: 0.1612 - lr: 0.0561\n",
            "Epoch 6/500\n",
            "61/61 [==============================] - 6s 95ms/step - loss: 0.2135 - mae: 0.1568 - root_mean_squared_error: 0.2135 - val_loss: 0.1752 - val_mae: 0.1464 - val_root_mean_squared_error: 0.1756 - lr: 0.0561\n",
            "Epoch 7/500\n",
            "61/61 [==============================] - 6s 98ms/step - loss: 0.2007 - mae: 0.1503 - root_mean_squared_error: 0.2007 - val_loss: 0.1646 - val_mae: 0.1387 - val_root_mean_squared_error: 0.1659 - lr: 0.0561\n",
            "Epoch 8/500\n",
            "61/61 [==============================] - 6s 97ms/step - loss: 0.1987 - mae: 0.1489 - root_mean_squared_error: 0.1987 - val_loss: 0.1665 - val_mae: 0.1381 - val_root_mean_squared_error: 0.1671 - lr: 0.0561\n",
            "Epoch 9/500\n",
            "61/61 [==============================] - ETA: 0s - loss: 0.2006 - mae: 0.1506 - root_mean_squared_error: 0.2006"
          ]
        },
        {
          "name": "stderr",
          "output_type": "stream",
          "text": [
            "WARNING:absl:Found untraced functions such as residual_block_0_layer_call_fn, residual_block_0_layer_call_and_return_conditional_losses, residual_block_1_layer_call_fn, residual_block_1_layer_call_and_return_conditional_losses, residual_block_2_layer_call_fn while saving (showing 5 of 257). These functions will not be directly callable after loading.\n",
            "\u001b[34m\u001b[1mwandb\u001b[0m: Adding directory to artifact (/content/wandb/run-20230124_140416-hda0z343/files/model-best)... Done. 0.0s\n"
          ]
        },
        {
          "name": "stdout",
          "output_type": "stream",
          "text": [
            "\b\b\b\b\b\b\b\b\b\b\b\b\b\b\b\b\b\b\b\b\b\b\b\b\b\b\b\b\b\b\b\b\b\b\b\b\b\b\b\b\b\b\b\b\b\b\b\b\b\b\b\b\b\b\b\b\b\b\b\b\b\b\b\b\b\b\b\b\b\b\b\b\b\b\b\b\b\b\b\b\b\b\b\b\b\b\b\b\b\b\b\b\b\b\b\b\b\b\b\b\b\b\b\b\b\b\b\b\b\b\b\r61/61 [==============================] - 16s 263ms/step - loss: 0.2006 - mae: 0.1506 - root_mean_squared_error: 0.2006 - val_loss: 0.1541 - val_mae: 0.1257 - val_root_mean_squared_error: 0.1549 - lr: 0.0561\n",
            "Epoch 10/500\n",
            "61/61 [==============================] - 6s 96ms/step - loss: 0.2002 - mae: 0.1496 - root_mean_squared_error: 0.2002 - val_loss: 0.1691 - val_mae: 0.1448 - val_root_mean_squared_error: 0.1708 - lr: 0.0561\n",
            "Epoch 11/500\n",
            "61/61 [==============================] - 6s 98ms/step - loss: 0.1983 - mae: 0.1496 - root_mean_squared_error: 0.1983 - val_loss: 0.1672 - val_mae: 0.1380 - val_root_mean_squared_error: 0.1679 - lr: 0.0561\n",
            "Epoch 12/500\n",
            "61/61 [==============================] - 6s 93ms/step - loss: 0.1981 - mae: 0.1499 - root_mean_squared_error: 0.1981 - val_loss: 0.1616 - val_mae: 0.1340 - val_root_mean_squared_error: 0.1623 - lr: 0.0561\n",
            "Epoch 13/500\n",
            "61/61 [==============================] - 6s 97ms/step - loss: 0.2153 - mae: 0.1591 - root_mean_squared_error: 0.2153 - val_loss: 0.2128 - val_mae: 0.1921 - val_root_mean_squared_error: 0.2152 - lr: 0.0561\n",
            "Epoch 14/500\n",
            "61/61 [==============================] - 6s 96ms/step - loss: 0.2044 - mae: 0.1548 - root_mean_squared_error: 0.2044 - val_loss: 0.1832 - val_mae: 0.1607 - val_root_mean_squared_error: 0.1850 - lr: 0.0561\n",
            "Epoch 15/500\n",
            "61/61 [==============================] - 6s 96ms/step - loss: 0.2047 - mae: 0.1544 - root_mean_squared_error: 0.2048 - val_loss: 0.1564 - val_mae: 0.1263 - val_root_mean_squared_error: 0.1568 - lr: 0.0561\n",
            "Epoch 16/500\n",
            "61/61 [==============================] - 6s 96ms/step - loss: 0.2035 - mae: 0.1535 - root_mean_squared_error: 0.2035 - val_loss: 0.1719 - val_mae: 0.1466 - val_root_mean_squared_error: 0.1728 - lr: 0.0561\n",
            "Epoch 17/500\n",
            "20/61 [========>.....................] - ETA: 3s - loss: 0.2013 - mae: 0.1510 - root_mean_squared_error: 0.2013"
          ]
        }
      ],
      "source": [
        "wandb.agent(sweep_id, function=sweep_train, count=100)"
      ]
    },
    {
      "cell_type": "code",
      "execution_count": 29,
      "metadata": {
        "colab": {
          "base_uri": "https://localhost:8080/"
        },
        "id": "ehlgZwsKKkJ5",
        "outputId": "5af3cb71-386d-44b3-c19c-abd5417f382a"
      },
      "outputs": [
        {
          "name": "stdout",
          "output_type": "stream",
          "text": [
            "304/304 [==============================] - 2s 6ms/step - loss: 0.1350 - mae: 0.1168 - root_mean_squared_error: 0.1350\n"
          ]
        },
        {
          "data": {
            "text/plain": [
              "[0.13501565158367157, 0.11678452789783478, 0.1349869966506958]"
            ]
          },
          "execution_count": 29,
          "metadata": {},
          "output_type": "execute_result"
        }
      ],
      "source": [
        "model.evaluate(X_test, y_test)"
      ]
    },
    {
      "cell_type": "code",
      "execution_count": 30,
      "metadata": {
        "colab": {
          "base_uri": "https://localhost:8080/"
        },
        "id": "AMf2O_nlbUyv",
        "outputId": "d880ecb4-3a86-430e-bf99-98aec4c15637"
      },
      "outputs": [
        {
          "name": "stdout",
          "output_type": "stream",
          "text": [
            "304/304 [==============================] - 2s 5ms/step\n"
          ]
        }
      ],
      "source": [
        "preds = model.predict(X_test)"
      ]
    },
    {
      "cell_type": "code",
      "execution_count": 1,
      "metadata": {
        "id": "LNEsdChNbWzh"
      },
      "outputs": [],
      "source": [
        "import matplotlib.pyplot as plt"
      ]
    },
    {
      "cell_type": "code",
      "execution_count": 2,
      "metadata": {
        "colab": {
          "base_uri": "https://localhost:8080/",
          "height": 165
        },
        "id": "hbW5l3UgbvYN",
        "outputId": "8293e655-32d0-48ce-9722-0b8278ea7d43"
      },
      "outputs": [],
      "source": [
        "import pandas as pd\n",
        "import numpy as np"
      ]
    },
    {
      "cell_type": "code",
      "execution_count": 3,
      "metadata": {
        "id": "cKVD_nmckD28"
      },
      "outputs": [],
      "source": [
        "data = pd.read_pickle('df_shift_14.pickle')"
      ]
    },
    {
      "cell_type": "code",
      "execution_count": 4,
      "metadata": {},
      "outputs": [
        {
          "data": {
            "text/html": [
              "<div>\n",
              "<style scoped>\n",
              "    .dataframe tbody tr th:only-of-type {\n",
              "        vertical-align: middle;\n",
              "    }\n",
              "\n",
              "    .dataframe tbody tr th {\n",
              "        vertical-align: top;\n",
              "    }\n",
              "\n",
              "    .dataframe thead th {\n",
              "        text-align: right;\n",
              "    }\n",
              "</style>\n",
              "<table border=\"1\" class=\"dataframe\">\n",
              "  <thead>\n",
              "    <tr style=\"text-align: right;\">\n",
              "      <th></th>\n",
              "      <th>date</th>\n",
              "      <th>NDVI_mean</th>\n",
              "      <th>NDMI_mean</th>\n",
              "      <th>NBSI_mean</th>\n",
              "      <th>name</th>\n",
              "      <th>tavg</th>\n",
              "      <th>tmin</th>\n",
              "      <th>tmax</th>\n",
              "      <th>prcp</th>\n",
              "      <th>snow</th>\n",
              "      <th>wdir</th>\n",
              "      <th>wspd</th>\n",
              "      <th>wpgt</th>\n",
              "      <th>pres</th>\n",
              "      <th>tsun</th>\n",
              "      <th>NDVI_mean_shift</th>\n",
              "      <th>tavg_shift</th>\n",
              "      <th>prcp_shift</th>\n",
              "    </tr>\n",
              "  </thead>\n",
              "  <tbody>\n",
              "    <tr>\n",
              "      <th>353</th>\n",
              "      <td>2018-01-01</td>\n",
              "      <td>0.843367</td>\n",
              "      <td>-0.329698</td>\n",
              "      <td>0.086237</td>\n",
              "      <td>almelo</td>\n",
              "      <td>6.9</td>\n",
              "      <td>5.1</td>\n",
              "      <td>9.500000</td>\n",
              "      <td>5.600000</td>\n",
              "      <td>NaN</td>\n",
              "      <td>220.0</td>\n",
              "      <td>20.100000</td>\n",
              "      <td>NaN</td>\n",
              "      <td>998.099976</td>\n",
              "      <td>NaN</td>\n",
              "      <td>0.871004</td>\n",
              "      <td>3.8</td>\n",
              "      <td>5.1</td>\n",
              "    </tr>\n",
              "    <tr>\n",
              "      <th>354</th>\n",
              "      <td>2018-01-02</td>\n",
              "      <td>0.843614</td>\n",
              "      <td>-0.327495</td>\n",
              "      <td>0.084031</td>\n",
              "      <td>almelo</td>\n",
              "      <td>5.6</td>\n",
              "      <td>4.5</td>\n",
              "      <td>6.200000</td>\n",
              "      <td>0.100000</td>\n",
              "      <td>NaN</td>\n",
              "      <td>224.0</td>\n",
              "      <td>17.700001</td>\n",
              "      <td>NaN</td>\n",
              "      <td>1006.000000</td>\n",
              "      <td>NaN</td>\n",
              "      <td>0.875392</td>\n",
              "      <td>4.2</td>\n",
              "      <td>4.0</td>\n",
              "    </tr>\n",
              "    <tr>\n",
              "      <th>355</th>\n",
              "      <td>2018-01-03</td>\n",
              "      <td>0.843992</td>\n",
              "      <td>-0.325926</td>\n",
              "      <td>0.082242</td>\n",
              "      <td>almelo</td>\n",
              "      <td>7.5</td>\n",
              "      <td>6.0</td>\n",
              "      <td>10.200000</td>\n",
              "      <td>25.799999</td>\n",
              "      <td>NaN</td>\n",
              "      <td>237.0</td>\n",
              "      <td>33.500000</td>\n",
              "      <td>NaN</td>\n",
              "      <td>989.099976</td>\n",
              "      <td>NaN</td>\n",
              "      <td>0.879915</td>\n",
              "      <td>1.9</td>\n",
              "      <td>8.3</td>\n",
              "    </tr>\n",
              "    <tr>\n",
              "      <th>356</th>\n",
              "      <td>2018-01-04</td>\n",
              "      <td>0.844529</td>\n",
              "      <td>-0.325022</td>\n",
              "      <td>0.080951</td>\n",
              "      <td>almelo</td>\n",
              "      <td>7.3</td>\n",
              "      <td>6.5</td>\n",
              "      <td>9.700000</td>\n",
              "      <td>7.200000</td>\n",
              "      <td>NaN</td>\n",
              "      <td>221.0</td>\n",
              "      <td>22.700001</td>\n",
              "      <td>NaN</td>\n",
              "      <td>993.299988</td>\n",
              "      <td>NaN</td>\n",
              "      <td>0.884516</td>\n",
              "      <td>4.0</td>\n",
              "      <td>5.5</td>\n",
              "    </tr>\n",
              "    <tr>\n",
              "      <th>357</th>\n",
              "      <td>2018-01-05</td>\n",
              "      <td>0.845250</td>\n",
              "      <td>-0.324809</td>\n",
              "      <td>0.080240</td>\n",
              "      <td>almelo</td>\n",
              "      <td>6.6</td>\n",
              "      <td>4.7</td>\n",
              "      <td>8.200000</td>\n",
              "      <td>0.400000</td>\n",
              "      <td>NaN</td>\n",
              "      <td>216.0</td>\n",
              "      <td>19.200001</td>\n",
              "      <td>NaN</td>\n",
              "      <td>995.299988</td>\n",
              "      <td>NaN</td>\n",
              "      <td>0.889141</td>\n",
              "      <td>2.5</td>\n",
              "      <td>2.2</td>\n",
              "    </tr>\n",
              "    <tr>\n",
              "      <th>...</th>\n",
              "      <td>...</td>\n",
              "      <td>...</td>\n",
              "      <td>...</td>\n",
              "      <td>...</td>\n",
              "      <td>...</td>\n",
              "      <td>...</td>\n",
              "      <td>...</td>\n",
              "      <td>...</td>\n",
              "      <td>...</td>\n",
              "      <td>...</td>\n",
              "      <td>...</td>\n",
              "      <td>...</td>\n",
              "      <td>...</td>\n",
              "      <td>...</td>\n",
              "      <td>...</td>\n",
              "      <td>...</td>\n",
              "      <td>...</td>\n",
              "      <td>...</td>\n",
              "    </tr>\n",
              "    <tr>\n",
              "      <th>621</th>\n",
              "      <td>2018-09-26</td>\n",
              "      <td>0.820756</td>\n",
              "      <td>-0.189689</td>\n",
              "      <td>0.043746</td>\n",
              "      <td>almelo</td>\n",
              "      <td>11.7</td>\n",
              "      <td>4.7</td>\n",
              "      <td>18.700001</td>\n",
              "      <td>0.000000</td>\n",
              "      <td>NaN</td>\n",
              "      <td>207.0</td>\n",
              "      <td>13.900000</td>\n",
              "      <td>36.0</td>\n",
              "      <td>1033.000000</td>\n",
              "      <td>NaN</td>\n",
              "      <td>0.830400</td>\n",
              "      <td>14.2</td>\n",
              "      <td>0.0</td>\n",
              "    </tr>\n",
              "    <tr>\n",
              "      <th>622</th>\n",
              "      <td>2018-09-27</td>\n",
              "      <td>0.829104</td>\n",
              "      <td>-0.199533</td>\n",
              "      <td>0.050052</td>\n",
              "      <td>almelo</td>\n",
              "      <td>14.6</td>\n",
              "      <td>8.0</td>\n",
              "      <td>21.500000</td>\n",
              "      <td>0.000000</td>\n",
              "      <td>NaN</td>\n",
              "      <td>205.0</td>\n",
              "      <td>8.800000</td>\n",
              "      <td>29.6</td>\n",
              "      <td>1026.900024</td>\n",
              "      <td>NaN</td>\n",
              "      <td>0.804702</td>\n",
              "      <td>17.1</td>\n",
              "      <td>0.0</td>\n",
              "    </tr>\n",
              "    <tr>\n",
              "      <th>623</th>\n",
              "      <td>2018-09-28</td>\n",
              "      <td>0.836393</td>\n",
              "      <td>-0.207864</td>\n",
              "      <td>0.055605</td>\n",
              "      <td>almelo</td>\n",
              "      <td>11.1</td>\n",
              "      <td>4.5</td>\n",
              "      <td>15.600000</td>\n",
              "      <td>0.000000</td>\n",
              "      <td>NaN</td>\n",
              "      <td>4.0</td>\n",
              "      <td>11.100000</td>\n",
              "      <td>36.0</td>\n",
              "      <td>1025.800049</td>\n",
              "      <td>NaN</td>\n",
              "      <td>0.760963</td>\n",
              "      <td>19.0</td>\n",
              "      <td>0.0</td>\n",
              "    </tr>\n",
              "    <tr>\n",
              "      <th>624</th>\n",
              "      <td>2018-09-29</td>\n",
              "      <td>0.842175</td>\n",
              "      <td>-0.214186</td>\n",
              "      <td>0.059992</td>\n",
              "      <td>almelo</td>\n",
              "      <td>7.1</td>\n",
              "      <td>0.4</td>\n",
              "      <td>15.600000</td>\n",
              "      <td>0.000000</td>\n",
              "      <td>NaN</td>\n",
              "      <td>350.0</td>\n",
              "      <td>2.600000</td>\n",
              "      <td>18.0</td>\n",
              "      <td>1028.800049</td>\n",
              "      <td>NaN</td>\n",
              "      <td>0.737400</td>\n",
              "      <td>20.9</td>\n",
              "      <td>0.0</td>\n",
              "    </tr>\n",
              "    <tr>\n",
              "      <th>625</th>\n",
              "      <td>2018-09-30</td>\n",
              "      <td>0.846000</td>\n",
              "      <td>-0.218000</td>\n",
              "      <td>0.062800</td>\n",
              "      <td>almelo</td>\n",
              "      <td>8.4</td>\n",
              "      <td>0.0</td>\n",
              "      <td>16.000000</td>\n",
              "      <td>0.000000</td>\n",
              "      <td>NaN</td>\n",
              "      <td>231.0</td>\n",
              "      <td>5.100000</td>\n",
              "      <td>24.1</td>\n",
              "      <td>1018.000000</td>\n",
              "      <td>NaN</td>\n",
              "      <td>0.795819</td>\n",
              "      <td>19.0</td>\n",
              "      <td>0.0</td>\n",
              "    </tr>\n",
              "  </tbody>\n",
              "</table>\n",
              "<p>273 rows × 18 columns</p>\n",
              "</div>"
            ],
            "text/plain": [
              "           date  NDVI_mean  NDMI_mean  NBSI_mean    name  tavg  tmin  \\\n",
              "353  2018-01-01   0.843367  -0.329698   0.086237  almelo   6.9   5.1   \n",
              "354  2018-01-02   0.843614  -0.327495   0.084031  almelo   5.6   4.5   \n",
              "355  2018-01-03   0.843992  -0.325926   0.082242  almelo   7.5   6.0   \n",
              "356  2018-01-04   0.844529  -0.325022   0.080951  almelo   7.3   6.5   \n",
              "357  2018-01-05   0.845250  -0.324809   0.080240  almelo   6.6   4.7   \n",
              "..          ...        ...        ...        ...     ...   ...   ...   \n",
              "621  2018-09-26   0.820756  -0.189689   0.043746  almelo  11.7   4.7   \n",
              "622  2018-09-27   0.829104  -0.199533   0.050052  almelo  14.6   8.0   \n",
              "623  2018-09-28   0.836393  -0.207864   0.055605  almelo  11.1   4.5   \n",
              "624  2018-09-29   0.842175  -0.214186   0.059992  almelo   7.1   0.4   \n",
              "625  2018-09-30   0.846000  -0.218000   0.062800  almelo   8.4   0.0   \n",
              "\n",
              "          tmax       prcp  snow   wdir       wspd  wpgt         pres  tsun  \\\n",
              "353   9.500000   5.600000   NaN  220.0  20.100000   NaN   998.099976   NaN   \n",
              "354   6.200000   0.100000   NaN  224.0  17.700001   NaN  1006.000000   NaN   \n",
              "355  10.200000  25.799999   NaN  237.0  33.500000   NaN   989.099976   NaN   \n",
              "356   9.700000   7.200000   NaN  221.0  22.700001   NaN   993.299988   NaN   \n",
              "357   8.200000   0.400000   NaN  216.0  19.200001   NaN   995.299988   NaN   \n",
              "..         ...        ...   ...    ...        ...   ...          ...   ...   \n",
              "621  18.700001   0.000000   NaN  207.0  13.900000  36.0  1033.000000   NaN   \n",
              "622  21.500000   0.000000   NaN  205.0   8.800000  29.6  1026.900024   NaN   \n",
              "623  15.600000   0.000000   NaN    4.0  11.100000  36.0  1025.800049   NaN   \n",
              "624  15.600000   0.000000   NaN  350.0   2.600000  18.0  1028.800049   NaN   \n",
              "625  16.000000   0.000000   NaN  231.0   5.100000  24.1  1018.000000   NaN   \n",
              "\n",
              "     NDVI_mean_shift  tavg_shift  prcp_shift  \n",
              "353         0.871004         3.8         5.1  \n",
              "354         0.875392         4.2         4.0  \n",
              "355         0.879915         1.9         8.3  \n",
              "356         0.884516         4.0         5.5  \n",
              "357         0.889141         2.5         2.2  \n",
              "..               ...         ...         ...  \n",
              "621         0.830400        14.2         0.0  \n",
              "622         0.804702        17.1         0.0  \n",
              "623         0.760963        19.0         0.0  \n",
              "624         0.737400        20.9         0.0  \n",
              "625         0.795819        19.0         0.0  \n",
              "\n",
              "[273 rows x 18 columns]"
            ]
          },
          "execution_count": 4,
          "metadata": {},
          "output_type": "execute_result"
        }
      ],
      "source": [
        "x_cols = ['NDVI_mean', 'NDMI_mean', 'NBSI_mean', 'tavg_shift', 'prcp_shift']\n",
        "start_date = '2018-01-01'\n",
        "end_date = '2018-1-13'\n",
        "name = 'almelo'\n",
        "data.query('date >= @start_date & date <= @end_date & name == @name')\n",
        "\n"
      ]
    },
    {
      "cell_type": "code",
      "execution_count": 5,
      "metadata": {},
      "outputs": [],
      "source": [
        "def get_data(data_set, location, date_range):\n",
        "    start_date = date_range[0]\n",
        "    end_date = date_range[-1]\n",
        "    data_set = data_set.query('date >= @start_date & date <= @end_date & name == @location')\n",
        "    data_set = data_set[['NDVI_mean', 'NDMI_mean', 'NBSI_mean', 'tavg_shift', 'prcp_shift']]\n",
        "    return data_set    "
      ]
    },
    {
      "cell_type": "code",
      "execution_count": 6,
      "metadata": {},
      "outputs": [],
      "source": [
        "x_test = get_data(data, 'almelo', ['2018-01-01', '2018-01-14']).to_numpy()"
      ]
    },
    {
      "cell_type": "code",
      "execution_count": 7,
      "metadata": {},
      "outputs": [],
      "source": [
        "def root_mean_squared_error(y_true, y_pred):\n",
        "    return K.sqrt(K.mean(K.square(y_pred - y_true)))"
      ]
    },
    {
      "cell_type": "code",
      "execution_count": 8,
      "metadata": {},
      "outputs": [
        {
          "name": "stderr",
          "output_type": "stream",
          "text": [
            "2023-01-25 13:27:18.894198: I tensorflow/core/platform/cpu_feature_guard.cc:193] This TensorFlow binary is optimized with oneAPI Deep Neural Network Library (oneDNN) to use the following CPU instructions in performance-critical operations:  AVX2 FMA\n",
            "To enable them in other operations, rebuild TensorFlow with the appropriate compiler flags.\n",
            "2023-01-25 13:27:19.810304: W tensorflow/stream_executor/platform/default/dso_loader.cc:64] Could not load dynamic library 'libcudart.so.11.0'; dlerror: libcudart.so.11.0: cannot open shared object file: No such file or directory\n",
            "2023-01-25 13:27:19.810440: I tensorflow/stream_executor/cuda/cudart_stub.cc:29] Ignore above cudart dlerror if you do not have a GPU set up on your machine.\n",
            "2023-01-25 13:27:19.940271: E tensorflow/stream_executor/cuda/cuda_blas.cc:2981] Unable to register cuBLAS factory: Attempting to register factory for plugin cuBLAS when one has already been registered\n",
            "2023-01-25 13:27:22.074194: W tensorflow/stream_executor/platform/default/dso_loader.cc:64] Could not load dynamic library 'libnvinfer.so.7'; dlerror: libnvinfer.so.7: cannot open shared object file: No such file or directory\n",
            "2023-01-25 13:27:22.074388: W tensorflow/stream_executor/platform/default/dso_loader.cc:64] Could not load dynamic library 'libnvinfer_plugin.so.7'; dlerror: libnvinfer_plugin.so.7: cannot open shared object file: No such file or directory\n",
            "2023-01-25 13:27:22.074407: W tensorflow/compiler/tf2tensorrt/utils/py_utils.cc:38] TF-TRT Warning: Cannot dlopen some TensorRT libraries. If you would like to use Nvidia GPU with TensorRT, please make sure the missing libraries mentioned above are installed properly.\n"
          ]
        },
        {
          "ename": "OSError",
          "evalue": "No file or directory found at tcn_tf\\content\\tcn_nvdi.tf",
          "output_type": "error",
          "traceback": [
            "\u001b[0;31m---------------------------------------------------------------------------\u001b[0m",
            "\u001b[0;31mOSError\u001b[0m                                   Traceback (most recent call last)",
            "Cell \u001b[0;32mIn [8], line 6\u001b[0m\n\u001b[1;32m      2\u001b[0m \u001b[39mfrom\u001b[39;00m \u001b[39mtensorflow\u001b[39;00m\u001b[39m.\u001b[39;00m\u001b[39mkeras\u001b[39;00m \u001b[39mimport\u001b[39;00m backend \u001b[39mas\u001b[39;00m K\n\u001b[1;32m      3\u001b[0m \u001b[39mfrom\u001b[39;00m \u001b[39mtcn\u001b[39;00m \u001b[39mimport\u001b[39;00m TCN\n\u001b[0;32m----> 6\u001b[0m model \u001b[39m=\u001b[39m keras\u001b[39m.\u001b[39;49mmodels\u001b[39m.\u001b[39;49mload_model(\n\u001b[1;32m      7\u001b[0m     \u001b[39mr\u001b[39;49m\u001b[39m'\u001b[39;49m\u001b[39mtcn_tf\u001b[39;49m\u001b[39m\\\u001b[39;49m\u001b[39mcontent\u001b[39;49m\u001b[39m\\\u001b[39;49m\u001b[39mtcn_nvdi.tf\u001b[39;49m\u001b[39m'\u001b[39;49m, custom_objects\u001b[39m=\u001b[39;49m{\u001b[39m'\u001b[39;49m\u001b[39mroot_mean_squared_error\u001b[39;49m\u001b[39m'\u001b[39;49m: root_mean_squared_error})\n",
            "File \u001b[0;32m~/.local/lib/python3.10/site-packages/keras/utils/traceback_utils.py:70\u001b[0m, in \u001b[0;36mfilter_traceback.<locals>.error_handler\u001b[0;34m(*args, **kwargs)\u001b[0m\n\u001b[1;32m     67\u001b[0m     filtered_tb \u001b[39m=\u001b[39m _process_traceback_frames(e\u001b[39m.\u001b[39m__traceback__)\n\u001b[1;32m     68\u001b[0m     \u001b[39m# To get the full stack trace, call:\u001b[39;00m\n\u001b[1;32m     69\u001b[0m     \u001b[39m# `tf.debugging.disable_traceback_filtering()`\u001b[39;00m\n\u001b[0;32m---> 70\u001b[0m     \u001b[39mraise\u001b[39;00m e\u001b[39m.\u001b[39mwith_traceback(filtered_tb) \u001b[39mfrom\u001b[39;00m \u001b[39mNone\u001b[39m\n\u001b[1;32m     71\u001b[0m \u001b[39mfinally\u001b[39;00m:\n\u001b[1;32m     72\u001b[0m     \u001b[39mdel\u001b[39;00m filtered_tb\n",
            "File \u001b[0;32m~/.local/lib/python3.10/site-packages/keras/saving/save.py:226\u001b[0m, in \u001b[0;36mload_model\u001b[0;34m(filepath, custom_objects, compile, options)\u001b[0m\n\u001b[1;32m    224\u001b[0m \u001b[39mif\u001b[39;00m \u001b[39misinstance\u001b[39m(filepath_str, \u001b[39mstr\u001b[39m):\n\u001b[1;32m    225\u001b[0m     \u001b[39mif\u001b[39;00m \u001b[39mnot\u001b[39;00m tf\u001b[39m.\u001b[39mio\u001b[39m.\u001b[39mgfile\u001b[39m.\u001b[39mexists(filepath_str):\n\u001b[0;32m--> 226\u001b[0m         \u001b[39mraise\u001b[39;00m \u001b[39mIOError\u001b[39;00m(\n\u001b[1;32m    227\u001b[0m             \u001b[39mf\u001b[39m\u001b[39m\"\u001b[39m\u001b[39mNo file or directory found at \u001b[39m\u001b[39m{\u001b[39;00mfilepath_str\u001b[39m}\u001b[39;00m\u001b[39m\"\u001b[39m\n\u001b[1;32m    228\u001b[0m         )\n\u001b[1;32m    230\u001b[0m     \u001b[39mif\u001b[39;00m tf\u001b[39m.\u001b[39mio\u001b[39m.\u001b[39mgfile\u001b[39m.\u001b[39misdir(filepath_str):\n\u001b[1;32m    231\u001b[0m         \u001b[39mreturn\u001b[39;00m saved_model_load\u001b[39m.\u001b[39mload(\n\u001b[1;32m    232\u001b[0m             filepath_str, \u001b[39mcompile\u001b[39m, options\n\u001b[1;32m    233\u001b[0m         )\n",
            "\u001b[0;31mOSError\u001b[0m: No file or directory found at tcn_tf\\content\\tcn_nvdi.tf"
          ]
        }
      ],
      "source": [
        "from tensorflow import keras\n",
        "from tensorflow.keras import backend as K\n",
        "from tcn import TCN\n",
        "\n",
        "\n",
        "model = keras.models.load_model(\n",
        "    r'/home/maxim/Documents/GitHub/Crop_yield_prediction/tcn_tf/content/tcn_nvdi.tf', custom_objects={'root_mean_squared_error': root_mean_squared_error})\n"
      ]
    },
    {
      "cell_type": "code",
      "execution_count": null,
      "metadata": {},
      "outputs": [
        {
          "data": {
            "text/plain": [
              "(1, 14, 5)"
            ]
          },
          "execution_count": 39,
          "metadata": {},
          "output_type": "execute_result"
        }
      ],
      "source": [
        "x_test[np.newaxis,...]"
      ]
    },
    {
      "cell_type": "code",
      "execution_count": null,
      "metadata": {},
      "outputs": [
        {
          "ename": "",
          "evalue": "",
          "output_type": "error",
          "traceback": [
            "\u001b[1;31mCanceled future for execute_request message before replies were done"
          ]
        },
        {
          "ename": "",
          "evalue": "",
          "output_type": "error",
          "traceback": [
            "\u001b[1;31mThe Kernel crashed while executing code in the the current cell or a previous cell. Please review the code in the cell(s) to identify a possible cause of the failure. Click <a href='https://aka.ms/vscodeJupyterKernelCrash'>here</a> for more info. View Jupyter <a href='command:jupyter.viewOutput'>log</a> for further details."
          ]
        }
      ],
      "source": [
        "model.predict(x_test[np.newaxis,...])"
      ]
    },
    {
      "cell_type": "code",
      "execution_count": null,
      "metadata": {},
      "outputs": [],
      "source": []
    }
  ],
  "metadata": {
    "accelerator": "GPU",
    "colab": {
      "provenance": []
    },
    "gpuClass": "standard",
    "kernelspec": {
      "display_name": "Python 3",
      "language": "python",
      "name": "python3"
    },
    "language_info": {
      "codemirror_mode": {
        "name": "ipython",
        "version": 3
      },
      "file_extension": ".py",
      "mimetype": "text/x-python",
      "name": "python",
      "nbconvert_exporter": "python",
      "pygments_lexer": "ipython3",
      "version": "3.10.6"
    },
    "orig_nbformat": 4,
    "vscode": {
      "interpreter": {
        "hash": "916dbcbb3f70747c44a77c7bcd40155683ae19c65e1c03b4aa3499c5328201f1"
      }
    },
    "widgets": {
      "application/vnd.jupyter.widget-state+json": {
        "00c487d40b7948238b13b324dd2ab846": {
          "model_module": "@jupyter-widgets/base",
          "model_module_version": "1.2.0",
          "model_name": "LayoutModel",
          "state": {
            "_model_module": "@jupyter-widgets/base",
            "_model_module_version": "1.2.0",
            "_model_name": "LayoutModel",
            "_view_count": null,
            "_view_module": "@jupyter-widgets/base",
            "_view_module_version": "1.2.0",
            "_view_name": "LayoutView",
            "align_content": null,
            "align_items": null,
            "align_self": null,
            "border": null,
            "bottom": null,
            "display": null,
            "flex": null,
            "flex_flow": null,
            "grid_area": null,
            "grid_auto_columns": null,
            "grid_auto_flow": null,
            "grid_auto_rows": null,
            "grid_column": null,
            "grid_gap": null,
            "grid_row": null,
            "grid_template_areas": null,
            "grid_template_columns": null,
            "grid_template_rows": null,
            "height": null,
            "justify_content": null,
            "justify_items": null,
            "left": null,
            "margin": null,
            "max_height": null,
            "max_width": null,
            "min_height": null,
            "min_width": null,
            "object_fit": null,
            "object_position": null,
            "order": null,
            "overflow": null,
            "overflow_x": null,
            "overflow_y": null,
            "padding": null,
            "right": null,
            "top": null,
            "visibility": null,
            "width": null
          }
        },
        "05d07c27f8524d01bf08d3068f45d203": {
          "model_module": "@jupyter-widgets/controls",
          "model_module_version": "1.5.0",
          "model_name": "ProgressStyleModel",
          "state": {
            "_model_module": "@jupyter-widgets/controls",
            "_model_module_version": "1.5.0",
            "_model_name": "ProgressStyleModel",
            "_view_count": null,
            "_view_module": "@jupyter-widgets/base",
            "_view_module_version": "1.2.0",
            "_view_name": "StyleView",
            "bar_color": null,
            "description_width": ""
          }
        },
        "0b9f3c3942604ae18320f36039ae95bb": {
          "model_module": "@jupyter-widgets/base",
          "model_module_version": "1.2.0",
          "model_name": "LayoutModel",
          "state": {
            "_model_module": "@jupyter-widgets/base",
            "_model_module_version": "1.2.0",
            "_model_name": "LayoutModel",
            "_view_count": null,
            "_view_module": "@jupyter-widgets/base",
            "_view_module_version": "1.2.0",
            "_view_name": "LayoutView",
            "align_content": null,
            "align_items": null,
            "align_self": null,
            "border": null,
            "bottom": null,
            "display": null,
            "flex": null,
            "flex_flow": null,
            "grid_area": null,
            "grid_auto_columns": null,
            "grid_auto_flow": null,
            "grid_auto_rows": null,
            "grid_column": null,
            "grid_gap": null,
            "grid_row": null,
            "grid_template_areas": null,
            "grid_template_columns": null,
            "grid_template_rows": null,
            "height": null,
            "justify_content": null,
            "justify_items": null,
            "left": null,
            "margin": null,
            "max_height": null,
            "max_width": null,
            "min_height": null,
            "min_width": null,
            "object_fit": null,
            "object_position": null,
            "order": null,
            "overflow": null,
            "overflow_x": null,
            "overflow_y": null,
            "padding": null,
            "right": null,
            "top": null,
            "visibility": null,
            "width": null
          }
        },
        "0d5ddb60afa244ff850281d5cda0435a": {
          "model_module": "@jupyter-widgets/controls",
          "model_module_version": "1.5.0",
          "model_name": "FloatProgressModel",
          "state": {
            "_dom_classes": [],
            "_model_module": "@jupyter-widgets/controls",
            "_model_module_version": "1.5.0",
            "_model_name": "FloatProgressModel",
            "_view_count": null,
            "_view_module": "@jupyter-widgets/controls",
            "_view_module_version": "1.5.0",
            "_view_name": "ProgressView",
            "bar_style": "",
            "description": "",
            "description_tooltip": null,
            "layout": "IPY_MODEL_00c487d40b7948238b13b324dd2ab846",
            "max": 1,
            "min": 0,
            "orientation": "horizontal",
            "style": "IPY_MODEL_aba29c926129488faf525af471ff131d",
            "value": 1
          }
        },
        "0d7d04e70b544ef196735a75e531f5ce": {
          "model_module": "@jupyter-widgets/controls",
          "model_module_version": "1.5.0",
          "model_name": "FloatProgressModel",
          "state": {
            "_dom_classes": [],
            "_model_module": "@jupyter-widgets/controls",
            "_model_module_version": "1.5.0",
            "_model_name": "FloatProgressModel",
            "_view_count": null,
            "_view_module": "@jupyter-widgets/controls",
            "_view_module_version": "1.5.0",
            "_view_name": "ProgressView",
            "bar_style": "",
            "description": "",
            "description_tooltip": null,
            "layout": "IPY_MODEL_3a19bca1bce647d79ee6583e5ded3e65",
            "max": 1,
            "min": 0,
            "orientation": "horizontal",
            "style": "IPY_MODEL_c00bf90560a445148767cc81c4592ff4",
            "value": 0.9785193438837222
          }
        },
        "0dc8f3314acd4f6ba5fd18734619dfc4": {
          "model_module": "@jupyter-widgets/controls",
          "model_module_version": "1.5.0",
          "model_name": "ProgressStyleModel",
          "state": {
            "_model_module": "@jupyter-widgets/controls",
            "_model_module_version": "1.5.0",
            "_model_name": "ProgressStyleModel",
            "_view_count": null,
            "_view_module": "@jupyter-widgets/base",
            "_view_module_version": "1.2.0",
            "_view_name": "StyleView",
            "bar_color": null,
            "description_width": ""
          }
        },
        "0e8d2bdee7d54ba393f71d6e33bc3179": {
          "model_module": "@jupyter-widgets/controls",
          "model_module_version": "1.5.0",
          "model_name": "FloatProgressModel",
          "state": {
            "_dom_classes": [],
            "_model_module": "@jupyter-widgets/controls",
            "_model_module_version": "1.5.0",
            "_model_name": "FloatProgressModel",
            "_view_count": null,
            "_view_module": "@jupyter-widgets/controls",
            "_view_module_version": "1.5.0",
            "_view_name": "ProgressView",
            "bar_style": "",
            "description": "",
            "description_tooltip": null,
            "layout": "IPY_MODEL_96c30c7478b141c08c6f6a8832305c3b",
            "max": 1,
            "min": 0,
            "orientation": "horizontal",
            "style": "IPY_MODEL_53d8b0d3d0e34ff9afe67e448f350c2c",
            "value": 0.9995193409378739
          }
        },
        "0f20b8e3f6f74f9889e302220f2555b5": {
          "model_module": "@jupyter-widgets/controls",
          "model_module_version": "1.5.0",
          "model_name": "VBoxModel",
          "state": {
            "_dom_classes": [],
            "_model_module": "@jupyter-widgets/controls",
            "_model_module_version": "1.5.0",
            "_model_name": "VBoxModel",
            "_view_count": null,
            "_view_module": "@jupyter-widgets/controls",
            "_view_module_version": "1.5.0",
            "_view_name": "VBoxView",
            "box_style": "",
            "children": [
              "IPY_MODEL_fd1209dcae384ec88d99894c604029a0",
              "IPY_MODEL_c53ceb4f4a3e4b3180d502c7fa6b0778"
            ],
            "layout": "IPY_MODEL_7d8460ffa77f4a5f92d10ebbe4d2274f"
          }
        },
        "11fc17813c56436aae66e14e60328ad6": {
          "model_module": "@jupyter-widgets/base",
          "model_module_version": "1.2.0",
          "model_name": "LayoutModel",
          "state": {
            "_model_module": "@jupyter-widgets/base",
            "_model_module_version": "1.2.0",
            "_model_name": "LayoutModel",
            "_view_count": null,
            "_view_module": "@jupyter-widgets/base",
            "_view_module_version": "1.2.0",
            "_view_name": "LayoutView",
            "align_content": null,
            "align_items": null,
            "align_self": null,
            "border": null,
            "bottom": null,
            "display": null,
            "flex": null,
            "flex_flow": null,
            "grid_area": null,
            "grid_auto_columns": null,
            "grid_auto_flow": null,
            "grid_auto_rows": null,
            "grid_column": null,
            "grid_gap": null,
            "grid_row": null,
            "grid_template_areas": null,
            "grid_template_columns": null,
            "grid_template_rows": null,
            "height": null,
            "justify_content": null,
            "justify_items": null,
            "left": null,
            "margin": null,
            "max_height": null,
            "max_width": null,
            "min_height": null,
            "min_width": null,
            "object_fit": null,
            "object_position": null,
            "order": null,
            "overflow": null,
            "overflow_x": null,
            "overflow_y": null,
            "padding": null,
            "right": null,
            "top": null,
            "visibility": null,
            "width": null
          }
        },
        "17092e41a62747478326514a5309646f": {
          "model_module": "@jupyter-widgets/controls",
          "model_module_version": "1.5.0",
          "model_name": "DescriptionStyleModel",
          "state": {
            "_model_module": "@jupyter-widgets/controls",
            "_model_module_version": "1.5.0",
            "_model_name": "DescriptionStyleModel",
            "_view_count": null,
            "_view_module": "@jupyter-widgets/base",
            "_view_module_version": "1.2.0",
            "_view_name": "StyleView",
            "description_width": ""
          }
        },
        "1a76d55e377d4b50ba7036259bec4916": {
          "model_module": "@jupyter-widgets/base",
          "model_module_version": "1.2.0",
          "model_name": "LayoutModel",
          "state": {
            "_model_module": "@jupyter-widgets/base",
            "_model_module_version": "1.2.0",
            "_model_name": "LayoutModel",
            "_view_count": null,
            "_view_module": "@jupyter-widgets/base",
            "_view_module_version": "1.2.0",
            "_view_name": "LayoutView",
            "align_content": null,
            "align_items": null,
            "align_self": null,
            "border": null,
            "bottom": null,
            "display": null,
            "flex": null,
            "flex_flow": null,
            "grid_area": null,
            "grid_auto_columns": null,
            "grid_auto_flow": null,
            "grid_auto_rows": null,
            "grid_column": null,
            "grid_gap": null,
            "grid_row": null,
            "grid_template_areas": null,
            "grid_template_columns": null,
            "grid_template_rows": null,
            "height": null,
            "justify_content": null,
            "justify_items": null,
            "left": null,
            "margin": null,
            "max_height": null,
            "max_width": null,
            "min_height": null,
            "min_width": null,
            "object_fit": null,
            "object_position": null,
            "order": null,
            "overflow": null,
            "overflow_x": null,
            "overflow_y": null,
            "padding": null,
            "right": null,
            "top": null,
            "visibility": null,
            "width": null
          }
        },
        "1ae533011d594880a37abf147e22ccab": {
          "model_module": "@jupyter-widgets/controls",
          "model_module_version": "1.5.0",
          "model_name": "LabelModel",
          "state": {
            "_dom_classes": [],
            "_model_module": "@jupyter-widgets/controls",
            "_model_module_version": "1.5.0",
            "_model_name": "LabelModel",
            "_view_count": null,
            "_view_module": "@jupyter-widgets/controls",
            "_view_module_version": "1.5.0",
            "_view_name": "LabelView",
            "description": "",
            "description_tooltip": null,
            "layout": "IPY_MODEL_9199fd41d63641a2a752f57e08416fda",
            "placeholder": "​",
            "style": "IPY_MODEL_a9202c6eba2d4147ac38aa9ea021db3e",
            "value": "19.170 MB of 19.186 MB uploaded (0.299 MB deduped)\r"
          }
        },
        "1c69ccc52be540a4b03a9b246e33d212": {
          "model_module": "@jupyter-widgets/controls",
          "model_module_version": "1.5.0",
          "model_name": "FloatProgressModel",
          "state": {
            "_dom_classes": [],
            "_model_module": "@jupyter-widgets/controls",
            "_model_module_version": "1.5.0",
            "_model_name": "FloatProgressModel",
            "_view_count": null,
            "_view_module": "@jupyter-widgets/controls",
            "_view_module_version": "1.5.0",
            "_view_name": "ProgressView",
            "bar_style": "",
            "description": "",
            "description_tooltip": null,
            "layout": "IPY_MODEL_6a869351b8fb43acb4f1d9cb6491ce53",
            "max": 1,
            "min": 0,
            "orientation": "horizontal",
            "style": "IPY_MODEL_7483a209c7874c3b89dbe8843717d05e",
            "value": 1
          }
        },
        "212d63237ecc42f4b5e39d8a8c411e4c": {
          "model_module": "@jupyter-widgets/base",
          "model_module_version": "1.2.0",
          "model_name": "LayoutModel",
          "state": {
            "_model_module": "@jupyter-widgets/base",
            "_model_module_version": "1.2.0",
            "_model_name": "LayoutModel",
            "_view_count": null,
            "_view_module": "@jupyter-widgets/base",
            "_view_module_version": "1.2.0",
            "_view_name": "LayoutView",
            "align_content": null,
            "align_items": null,
            "align_self": null,
            "border": null,
            "bottom": null,
            "display": null,
            "flex": null,
            "flex_flow": null,
            "grid_area": null,
            "grid_auto_columns": null,
            "grid_auto_flow": null,
            "grid_auto_rows": null,
            "grid_column": null,
            "grid_gap": null,
            "grid_row": null,
            "grid_template_areas": null,
            "grid_template_columns": null,
            "grid_template_rows": null,
            "height": null,
            "justify_content": null,
            "justify_items": null,
            "left": null,
            "margin": null,
            "max_height": null,
            "max_width": null,
            "min_height": null,
            "min_width": null,
            "object_fit": null,
            "object_position": null,
            "order": null,
            "overflow": null,
            "overflow_x": null,
            "overflow_y": null,
            "padding": null,
            "right": null,
            "top": null,
            "visibility": null,
            "width": null
          }
        },
        "272c2abd513540dbb63d21f4c786d9ae": {
          "model_module": "@jupyter-widgets/base",
          "model_module_version": "1.2.0",
          "model_name": "LayoutModel",
          "state": {
            "_model_module": "@jupyter-widgets/base",
            "_model_module_version": "1.2.0",
            "_model_name": "LayoutModel",
            "_view_count": null,
            "_view_module": "@jupyter-widgets/base",
            "_view_module_version": "1.2.0",
            "_view_name": "LayoutView",
            "align_content": null,
            "align_items": null,
            "align_self": null,
            "border": null,
            "bottom": null,
            "display": null,
            "flex": null,
            "flex_flow": null,
            "grid_area": null,
            "grid_auto_columns": null,
            "grid_auto_flow": null,
            "grid_auto_rows": null,
            "grid_column": null,
            "grid_gap": null,
            "grid_row": null,
            "grid_template_areas": null,
            "grid_template_columns": null,
            "grid_template_rows": null,
            "height": null,
            "justify_content": null,
            "justify_items": null,
            "left": null,
            "margin": null,
            "max_height": null,
            "max_width": null,
            "min_height": null,
            "min_width": null,
            "object_fit": null,
            "object_position": null,
            "order": null,
            "overflow": null,
            "overflow_x": null,
            "overflow_y": null,
            "padding": null,
            "right": null,
            "top": null,
            "visibility": null,
            "width": null
          }
        },
        "2b9d15b36bab4fd681e19d813c1c47c5": {
          "model_module": "@jupyter-widgets/controls",
          "model_module_version": "1.5.0",
          "model_name": "VBoxModel",
          "state": {
            "_dom_classes": [],
            "_model_module": "@jupyter-widgets/controls",
            "_model_module_version": "1.5.0",
            "_model_name": "VBoxModel",
            "_view_count": null,
            "_view_module": "@jupyter-widgets/controls",
            "_view_module_version": "1.5.0",
            "_view_name": "VBoxView",
            "box_style": "",
            "children": [
              "IPY_MODEL_61eb31d4c6be44cbb5d3b9d8b0e7bd03",
              "IPY_MODEL_3f1c988f0c4244c3bc9cb77a6248f2c5"
            ],
            "layout": "IPY_MODEL_272c2abd513540dbb63d21f4c786d9ae"
          }
        },
        "2e6fe981900a4ca2a5b23b089bbc6b27": {
          "model_module": "@jupyter-widgets/base",
          "model_module_version": "1.2.0",
          "model_name": "LayoutModel",
          "state": {
            "_model_module": "@jupyter-widgets/base",
            "_model_module_version": "1.2.0",
            "_model_name": "LayoutModel",
            "_view_count": null,
            "_view_module": "@jupyter-widgets/base",
            "_view_module_version": "1.2.0",
            "_view_name": "LayoutView",
            "align_content": null,
            "align_items": null,
            "align_self": null,
            "border": null,
            "bottom": null,
            "display": null,
            "flex": null,
            "flex_flow": null,
            "grid_area": null,
            "grid_auto_columns": null,
            "grid_auto_flow": null,
            "grid_auto_rows": null,
            "grid_column": null,
            "grid_gap": null,
            "grid_row": null,
            "grid_template_areas": null,
            "grid_template_columns": null,
            "grid_template_rows": null,
            "height": null,
            "justify_content": null,
            "justify_items": null,
            "left": null,
            "margin": null,
            "max_height": null,
            "max_width": null,
            "min_height": null,
            "min_width": null,
            "object_fit": null,
            "object_position": null,
            "order": null,
            "overflow": null,
            "overflow_x": null,
            "overflow_y": null,
            "padding": null,
            "right": null,
            "top": null,
            "visibility": null,
            "width": null
          }
        },
        "322be163a0904cada174150757371a08": {
          "model_module": "@jupyter-widgets/base",
          "model_module_version": "1.2.0",
          "model_name": "LayoutModel",
          "state": {
            "_model_module": "@jupyter-widgets/base",
            "_model_module_version": "1.2.0",
            "_model_name": "LayoutModel",
            "_view_count": null,
            "_view_module": "@jupyter-widgets/base",
            "_view_module_version": "1.2.0",
            "_view_name": "LayoutView",
            "align_content": null,
            "align_items": null,
            "align_self": null,
            "border": null,
            "bottom": null,
            "display": null,
            "flex": null,
            "flex_flow": null,
            "grid_area": null,
            "grid_auto_columns": null,
            "grid_auto_flow": null,
            "grid_auto_rows": null,
            "grid_column": null,
            "grid_gap": null,
            "grid_row": null,
            "grid_template_areas": null,
            "grid_template_columns": null,
            "grid_template_rows": null,
            "height": null,
            "justify_content": null,
            "justify_items": null,
            "left": null,
            "margin": null,
            "max_height": null,
            "max_width": null,
            "min_height": null,
            "min_width": null,
            "object_fit": null,
            "object_position": null,
            "order": null,
            "overflow": null,
            "overflow_x": null,
            "overflow_y": null,
            "padding": null,
            "right": null,
            "top": null,
            "visibility": null,
            "width": null
          }
        },
        "356f29d20c9c4baead955cee1338ccf9": {
          "model_module": "@jupyter-widgets/controls",
          "model_module_version": "1.5.0",
          "model_name": "ProgressStyleModel",
          "state": {
            "_model_module": "@jupyter-widgets/controls",
            "_model_module_version": "1.5.0",
            "_model_name": "ProgressStyleModel",
            "_view_count": null,
            "_view_module": "@jupyter-widgets/base",
            "_view_module_version": "1.2.0",
            "_view_name": "StyleView",
            "bar_color": null,
            "description_width": ""
          }
        },
        "371934e17204491cbb2c6cad360c334f": {
          "model_module": "@jupyter-widgets/controls",
          "model_module_version": "1.5.0",
          "model_name": "FloatProgressModel",
          "state": {
            "_dom_classes": [],
            "_model_module": "@jupyter-widgets/controls",
            "_model_module_version": "1.5.0",
            "_model_name": "FloatProgressModel",
            "_view_count": null,
            "_view_module": "@jupyter-widgets/controls",
            "_view_module_version": "1.5.0",
            "_view_name": "ProgressView",
            "bar_style": "",
            "description": "",
            "description_tooltip": null,
            "layout": "IPY_MODEL_11fc17813c56436aae66e14e60328ad6",
            "max": 1,
            "min": 0,
            "orientation": "horizontal",
            "style": "IPY_MODEL_7c5eb7191ca14850a33e1de79de569bd",
            "value": 1
          }
        },
        "393c5a28264f4b5db348cf12a359f68b": {
          "model_module": "@jupyter-widgets/controls",
          "model_module_version": "1.5.0",
          "model_name": "VBoxModel",
          "state": {
            "_dom_classes": [],
            "_model_module": "@jupyter-widgets/controls",
            "_model_module_version": "1.5.0",
            "_model_name": "VBoxModel",
            "_view_count": null,
            "_view_module": "@jupyter-widgets/controls",
            "_view_module_version": "1.5.0",
            "_view_name": "VBoxView",
            "box_style": "",
            "children": [
              "IPY_MODEL_5bf8bebff2e447c6bbcf2d3ab47989af",
              "IPY_MODEL_4328b03d476246a3b3147525a4e3ed43"
            ],
            "layout": "IPY_MODEL_2e6fe981900a4ca2a5b23b089bbc6b27"
          }
        },
        "3a19bca1bce647d79ee6583e5ded3e65": {
          "model_module": "@jupyter-widgets/base",
          "model_module_version": "1.2.0",
          "model_name": "LayoutModel",
          "state": {
            "_model_module": "@jupyter-widgets/base",
            "_model_module_version": "1.2.0",
            "_model_name": "LayoutModel",
            "_view_count": null,
            "_view_module": "@jupyter-widgets/base",
            "_view_module_version": "1.2.0",
            "_view_name": "LayoutView",
            "align_content": null,
            "align_items": null,
            "align_self": null,
            "border": null,
            "bottom": null,
            "display": null,
            "flex": null,
            "flex_flow": null,
            "grid_area": null,
            "grid_auto_columns": null,
            "grid_auto_flow": null,
            "grid_auto_rows": null,
            "grid_column": null,
            "grid_gap": null,
            "grid_row": null,
            "grid_template_areas": null,
            "grid_template_columns": null,
            "grid_template_rows": null,
            "height": null,
            "justify_content": null,
            "justify_items": null,
            "left": null,
            "margin": null,
            "max_height": null,
            "max_width": null,
            "min_height": null,
            "min_width": null,
            "object_fit": null,
            "object_position": null,
            "order": null,
            "overflow": null,
            "overflow_x": null,
            "overflow_y": null,
            "padding": null,
            "right": null,
            "top": null,
            "visibility": null,
            "width": null
          }
        },
        "3ccbf7ed38cb4ad280370b02262f1995": {
          "model_module": "@jupyter-widgets/base",
          "model_module_version": "1.2.0",
          "model_name": "LayoutModel",
          "state": {
            "_model_module": "@jupyter-widgets/base",
            "_model_module_version": "1.2.0",
            "_model_name": "LayoutModel",
            "_view_count": null,
            "_view_module": "@jupyter-widgets/base",
            "_view_module_version": "1.2.0",
            "_view_name": "LayoutView",
            "align_content": null,
            "align_items": null,
            "align_self": null,
            "border": null,
            "bottom": null,
            "display": null,
            "flex": null,
            "flex_flow": null,
            "grid_area": null,
            "grid_auto_columns": null,
            "grid_auto_flow": null,
            "grid_auto_rows": null,
            "grid_column": null,
            "grid_gap": null,
            "grid_row": null,
            "grid_template_areas": null,
            "grid_template_columns": null,
            "grid_template_rows": null,
            "height": null,
            "justify_content": null,
            "justify_items": null,
            "left": null,
            "margin": null,
            "max_height": null,
            "max_width": null,
            "min_height": null,
            "min_width": null,
            "object_fit": null,
            "object_position": null,
            "order": null,
            "overflow": null,
            "overflow_x": null,
            "overflow_y": null,
            "padding": null,
            "right": null,
            "top": null,
            "visibility": null,
            "width": null
          }
        },
        "3e53f8aa6f0f4ba5a56ffeaefb3da2eb": {
          "model_module": "@jupyter-widgets/base",
          "model_module_version": "1.2.0",
          "model_name": "LayoutModel",
          "state": {
            "_model_module": "@jupyter-widgets/base",
            "_model_module_version": "1.2.0",
            "_model_name": "LayoutModel",
            "_view_count": null,
            "_view_module": "@jupyter-widgets/base",
            "_view_module_version": "1.2.0",
            "_view_name": "LayoutView",
            "align_content": null,
            "align_items": null,
            "align_self": null,
            "border": null,
            "bottom": null,
            "display": null,
            "flex": null,
            "flex_flow": null,
            "grid_area": null,
            "grid_auto_columns": null,
            "grid_auto_flow": null,
            "grid_auto_rows": null,
            "grid_column": null,
            "grid_gap": null,
            "grid_row": null,
            "grid_template_areas": null,
            "grid_template_columns": null,
            "grid_template_rows": null,
            "height": null,
            "justify_content": null,
            "justify_items": null,
            "left": null,
            "margin": null,
            "max_height": null,
            "max_width": null,
            "min_height": null,
            "min_width": null,
            "object_fit": null,
            "object_position": null,
            "order": null,
            "overflow": null,
            "overflow_x": null,
            "overflow_y": null,
            "padding": null,
            "right": null,
            "top": null,
            "visibility": null,
            "width": null
          }
        },
        "3f1c988f0c4244c3bc9cb77a6248f2c5": {
          "model_module": "@jupyter-widgets/controls",
          "model_module_version": "1.5.0",
          "model_name": "FloatProgressModel",
          "state": {
            "_dom_classes": [],
            "_model_module": "@jupyter-widgets/controls",
            "_model_module_version": "1.5.0",
            "_model_name": "FloatProgressModel",
            "_view_count": null,
            "_view_module": "@jupyter-widgets/controls",
            "_view_module_version": "1.5.0",
            "_view_name": "ProgressView",
            "bar_style": "",
            "description": "",
            "description_tooltip": null,
            "layout": "IPY_MODEL_84200d50c5734a0a959f2f3517b4f66f",
            "max": 1,
            "min": 0,
            "orientation": "horizontal",
            "style": "IPY_MODEL_4970b2af544c401897425e98dbd7892a",
            "value": 1
          }
        },
        "418253b9d0f7445c8b651ea9ebe3cc86": {
          "model_module": "@jupyter-widgets/base",
          "model_module_version": "1.2.0",
          "model_name": "LayoutModel",
          "state": {
            "_model_module": "@jupyter-widgets/base",
            "_model_module_version": "1.2.0",
            "_model_name": "LayoutModel",
            "_view_count": null,
            "_view_module": "@jupyter-widgets/base",
            "_view_module_version": "1.2.0",
            "_view_name": "LayoutView",
            "align_content": null,
            "align_items": null,
            "align_self": null,
            "border": null,
            "bottom": null,
            "display": null,
            "flex": null,
            "flex_flow": null,
            "grid_area": null,
            "grid_auto_columns": null,
            "grid_auto_flow": null,
            "grid_auto_rows": null,
            "grid_column": null,
            "grid_gap": null,
            "grid_row": null,
            "grid_template_areas": null,
            "grid_template_columns": null,
            "grid_template_rows": null,
            "height": null,
            "justify_content": null,
            "justify_items": null,
            "left": null,
            "margin": null,
            "max_height": null,
            "max_width": null,
            "min_height": null,
            "min_width": null,
            "object_fit": null,
            "object_position": null,
            "order": null,
            "overflow": null,
            "overflow_x": null,
            "overflow_y": null,
            "padding": null,
            "right": null,
            "top": null,
            "visibility": null,
            "width": null
          }
        },
        "419c4a529a514307978f63fdb1bf86b6": {
          "model_module": "@jupyter-widgets/base",
          "model_module_version": "1.2.0",
          "model_name": "LayoutModel",
          "state": {
            "_model_module": "@jupyter-widgets/base",
            "_model_module_version": "1.2.0",
            "_model_name": "LayoutModel",
            "_view_count": null,
            "_view_module": "@jupyter-widgets/base",
            "_view_module_version": "1.2.0",
            "_view_name": "LayoutView",
            "align_content": null,
            "align_items": null,
            "align_self": null,
            "border": null,
            "bottom": null,
            "display": null,
            "flex": null,
            "flex_flow": null,
            "grid_area": null,
            "grid_auto_columns": null,
            "grid_auto_flow": null,
            "grid_auto_rows": null,
            "grid_column": null,
            "grid_gap": null,
            "grid_row": null,
            "grid_template_areas": null,
            "grid_template_columns": null,
            "grid_template_rows": null,
            "height": null,
            "justify_content": null,
            "justify_items": null,
            "left": null,
            "margin": null,
            "max_height": null,
            "max_width": null,
            "min_height": null,
            "min_width": null,
            "object_fit": null,
            "object_position": null,
            "order": null,
            "overflow": null,
            "overflow_x": null,
            "overflow_y": null,
            "padding": null,
            "right": null,
            "top": null,
            "visibility": null,
            "width": null
          }
        },
        "4311c18f15934f1c8661287b728256c3": {
          "model_module": "@jupyter-widgets/base",
          "model_module_version": "1.2.0",
          "model_name": "LayoutModel",
          "state": {
            "_model_module": "@jupyter-widgets/base",
            "_model_module_version": "1.2.0",
            "_model_name": "LayoutModel",
            "_view_count": null,
            "_view_module": "@jupyter-widgets/base",
            "_view_module_version": "1.2.0",
            "_view_name": "LayoutView",
            "align_content": null,
            "align_items": null,
            "align_self": null,
            "border": null,
            "bottom": null,
            "display": null,
            "flex": null,
            "flex_flow": null,
            "grid_area": null,
            "grid_auto_columns": null,
            "grid_auto_flow": null,
            "grid_auto_rows": null,
            "grid_column": null,
            "grid_gap": null,
            "grid_row": null,
            "grid_template_areas": null,
            "grid_template_columns": null,
            "grid_template_rows": null,
            "height": null,
            "justify_content": null,
            "justify_items": null,
            "left": null,
            "margin": null,
            "max_height": null,
            "max_width": null,
            "min_height": null,
            "min_width": null,
            "object_fit": null,
            "object_position": null,
            "order": null,
            "overflow": null,
            "overflow_x": null,
            "overflow_y": null,
            "padding": null,
            "right": null,
            "top": null,
            "visibility": null,
            "width": null
          }
        },
        "4328b03d476246a3b3147525a4e3ed43": {
          "model_module": "@jupyter-widgets/controls",
          "model_module_version": "1.5.0",
          "model_name": "FloatProgressModel",
          "state": {
            "_dom_classes": [],
            "_model_module": "@jupyter-widgets/controls",
            "_model_module_version": "1.5.0",
            "_model_name": "FloatProgressModel",
            "_view_count": null,
            "_view_module": "@jupyter-widgets/controls",
            "_view_module_version": "1.5.0",
            "_view_name": "ProgressView",
            "bar_style": "",
            "description": "",
            "description_tooltip": null,
            "layout": "IPY_MODEL_aca6a9ad449f44f88124297800840df2",
            "max": 1,
            "min": 0,
            "orientation": "horizontal",
            "style": "IPY_MODEL_e7745ed586904aeb9720bf2e4afdadb6",
            "value": 1
          }
        },
        "43b24cee615a413a9b3a5aa410db8a54": {
          "model_module": "@jupyter-widgets/controls",
          "model_module_version": "1.5.0",
          "model_name": "VBoxModel",
          "state": {
            "_dom_classes": [],
            "_model_module": "@jupyter-widgets/controls",
            "_model_module_version": "1.5.0",
            "_model_name": "VBoxModel",
            "_view_count": null,
            "_view_module": "@jupyter-widgets/controls",
            "_view_module_version": "1.5.0",
            "_view_name": "VBoxView",
            "box_style": "",
            "children": [
              "IPY_MODEL_8ec17e2417f44360ba6384a1433326f1",
              "IPY_MODEL_9e34e2894bb248a79048cd38931b0507"
            ],
            "layout": "IPY_MODEL_979e8f6b3e204d9690f1418f3707fc06"
          }
        },
        "4970b2af544c401897425e98dbd7892a": {
          "model_module": "@jupyter-widgets/controls",
          "model_module_version": "1.5.0",
          "model_name": "ProgressStyleModel",
          "state": {
            "_model_module": "@jupyter-widgets/controls",
            "_model_module_version": "1.5.0",
            "_model_name": "ProgressStyleModel",
            "_view_count": null,
            "_view_module": "@jupyter-widgets/base",
            "_view_module_version": "1.2.0",
            "_view_name": "StyleView",
            "bar_color": null,
            "description_width": ""
          }
        },
        "4c27a61941e1463da4a7ce5d27ffda1a": {
          "model_module": "@jupyter-widgets/base",
          "model_module_version": "1.2.0",
          "model_name": "LayoutModel",
          "state": {
            "_model_module": "@jupyter-widgets/base",
            "_model_module_version": "1.2.0",
            "_model_name": "LayoutModel",
            "_view_count": null,
            "_view_module": "@jupyter-widgets/base",
            "_view_module_version": "1.2.0",
            "_view_name": "LayoutView",
            "align_content": null,
            "align_items": null,
            "align_self": null,
            "border": null,
            "bottom": null,
            "display": null,
            "flex": null,
            "flex_flow": null,
            "grid_area": null,
            "grid_auto_columns": null,
            "grid_auto_flow": null,
            "grid_auto_rows": null,
            "grid_column": null,
            "grid_gap": null,
            "grid_row": null,
            "grid_template_areas": null,
            "grid_template_columns": null,
            "grid_template_rows": null,
            "height": null,
            "justify_content": null,
            "justify_items": null,
            "left": null,
            "margin": null,
            "max_height": null,
            "max_width": null,
            "min_height": null,
            "min_width": null,
            "object_fit": null,
            "object_position": null,
            "order": null,
            "overflow": null,
            "overflow_x": null,
            "overflow_y": null,
            "padding": null,
            "right": null,
            "top": null,
            "visibility": null,
            "width": null
          }
        },
        "4ddbe0fd9e014817a48511216c7960f7": {
          "model_module": "@jupyter-widgets/base",
          "model_module_version": "1.2.0",
          "model_name": "LayoutModel",
          "state": {
            "_model_module": "@jupyter-widgets/base",
            "_model_module_version": "1.2.0",
            "_model_name": "LayoutModel",
            "_view_count": null,
            "_view_module": "@jupyter-widgets/base",
            "_view_module_version": "1.2.0",
            "_view_name": "LayoutView",
            "align_content": null,
            "align_items": null,
            "align_self": null,
            "border": null,
            "bottom": null,
            "display": null,
            "flex": null,
            "flex_flow": null,
            "grid_area": null,
            "grid_auto_columns": null,
            "grid_auto_flow": null,
            "grid_auto_rows": null,
            "grid_column": null,
            "grid_gap": null,
            "grid_row": null,
            "grid_template_areas": null,
            "grid_template_columns": null,
            "grid_template_rows": null,
            "height": null,
            "justify_content": null,
            "justify_items": null,
            "left": null,
            "margin": null,
            "max_height": null,
            "max_width": null,
            "min_height": null,
            "min_width": null,
            "object_fit": null,
            "object_position": null,
            "order": null,
            "overflow": null,
            "overflow_x": null,
            "overflow_y": null,
            "padding": null,
            "right": null,
            "top": null,
            "visibility": null,
            "width": null
          }
        },
        "5333138e2391479bb56c954b5ea63863": {
          "model_module": "@jupyter-widgets/base",
          "model_module_version": "1.2.0",
          "model_name": "LayoutModel",
          "state": {
            "_model_module": "@jupyter-widgets/base",
            "_model_module_version": "1.2.0",
            "_model_name": "LayoutModel",
            "_view_count": null,
            "_view_module": "@jupyter-widgets/base",
            "_view_module_version": "1.2.0",
            "_view_name": "LayoutView",
            "align_content": null,
            "align_items": null,
            "align_self": null,
            "border": null,
            "bottom": null,
            "display": null,
            "flex": null,
            "flex_flow": null,
            "grid_area": null,
            "grid_auto_columns": null,
            "grid_auto_flow": null,
            "grid_auto_rows": null,
            "grid_column": null,
            "grid_gap": null,
            "grid_row": null,
            "grid_template_areas": null,
            "grid_template_columns": null,
            "grid_template_rows": null,
            "height": null,
            "justify_content": null,
            "justify_items": null,
            "left": null,
            "margin": null,
            "max_height": null,
            "max_width": null,
            "min_height": null,
            "min_width": null,
            "object_fit": null,
            "object_position": null,
            "order": null,
            "overflow": null,
            "overflow_x": null,
            "overflow_y": null,
            "padding": null,
            "right": null,
            "top": null,
            "visibility": null,
            "width": null
          }
        },
        "53d8b0d3d0e34ff9afe67e448f350c2c": {
          "model_module": "@jupyter-widgets/controls",
          "model_module_version": "1.5.0",
          "model_name": "ProgressStyleModel",
          "state": {
            "_model_module": "@jupyter-widgets/controls",
            "_model_module_version": "1.5.0",
            "_model_name": "ProgressStyleModel",
            "_view_count": null,
            "_view_module": "@jupyter-widgets/base",
            "_view_module_version": "1.2.0",
            "_view_name": "StyleView",
            "bar_color": null,
            "description_width": ""
          }
        },
        "5432d3023f274697a49497ac7135b1a1": {
          "model_module": "@jupyter-widgets/controls",
          "model_module_version": "1.5.0",
          "model_name": "DescriptionStyleModel",
          "state": {
            "_model_module": "@jupyter-widgets/controls",
            "_model_module_version": "1.5.0",
            "_model_name": "DescriptionStyleModel",
            "_view_count": null,
            "_view_module": "@jupyter-widgets/base",
            "_view_module_version": "1.2.0",
            "_view_name": "StyleView",
            "description_width": ""
          }
        },
        "5478641319674a6cbd2ad16bb0202520": {
          "model_module": "@jupyter-widgets/base",
          "model_module_version": "1.2.0",
          "model_name": "LayoutModel",
          "state": {
            "_model_module": "@jupyter-widgets/base",
            "_model_module_version": "1.2.0",
            "_model_name": "LayoutModel",
            "_view_count": null,
            "_view_module": "@jupyter-widgets/base",
            "_view_module_version": "1.2.0",
            "_view_name": "LayoutView",
            "align_content": null,
            "align_items": null,
            "align_self": null,
            "border": null,
            "bottom": null,
            "display": null,
            "flex": null,
            "flex_flow": null,
            "grid_area": null,
            "grid_auto_columns": null,
            "grid_auto_flow": null,
            "grid_auto_rows": null,
            "grid_column": null,
            "grid_gap": null,
            "grid_row": null,
            "grid_template_areas": null,
            "grid_template_columns": null,
            "grid_template_rows": null,
            "height": null,
            "justify_content": null,
            "justify_items": null,
            "left": null,
            "margin": null,
            "max_height": null,
            "max_width": null,
            "min_height": null,
            "min_width": null,
            "object_fit": null,
            "object_position": null,
            "order": null,
            "overflow": null,
            "overflow_x": null,
            "overflow_y": null,
            "padding": null,
            "right": null,
            "top": null,
            "visibility": null,
            "width": null
          }
        },
        "55c92447d2e44dcea4c57ed1c33eabc8": {
          "model_module": "@jupyter-widgets/controls",
          "model_module_version": "1.5.0",
          "model_name": "DescriptionStyleModel",
          "state": {
            "_model_module": "@jupyter-widgets/controls",
            "_model_module_version": "1.5.0",
            "_model_name": "DescriptionStyleModel",
            "_view_count": null,
            "_view_module": "@jupyter-widgets/base",
            "_view_module_version": "1.2.0",
            "_view_name": "StyleView",
            "description_width": ""
          }
        },
        "57281965320d4fde81901809c5d0bff5": {
          "model_module": "@jupyter-widgets/controls",
          "model_module_version": "1.5.0",
          "model_name": "FloatProgressModel",
          "state": {
            "_dom_classes": [],
            "_model_module": "@jupyter-widgets/controls",
            "_model_module_version": "1.5.0",
            "_model_name": "FloatProgressModel",
            "_view_count": null,
            "_view_module": "@jupyter-widgets/controls",
            "_view_module_version": "1.5.0",
            "_view_name": "ProgressView",
            "bar_style": "",
            "description": "",
            "description_tooltip": null,
            "layout": "IPY_MODEL_5e04f4d280784c7da1b020891b599e84",
            "max": 1,
            "min": 0,
            "orientation": "horizontal",
            "style": "IPY_MODEL_356f29d20c9c4baead955cee1338ccf9",
            "value": 0.9991360731563229
          }
        },
        "5bf8bebff2e447c6bbcf2d3ab47989af": {
          "model_module": "@jupyter-widgets/controls",
          "model_module_version": "1.5.0",
          "model_name": "LabelModel",
          "state": {
            "_dom_classes": [],
            "_model_module": "@jupyter-widgets/controls",
            "_model_module_version": "1.5.0",
            "_model_name": "LabelModel",
            "_view_count": null,
            "_view_module": "@jupyter-widgets/controls",
            "_view_module_version": "1.5.0",
            "_view_name": "LabelView",
            "description": "",
            "description_tooltip": null,
            "layout": "IPY_MODEL_ee4c94c0b4db40b2bf60a5dfeb9173d3",
            "placeholder": "​",
            "style": "IPY_MODEL_804e06e4073941fd88a723fb71d91fd9",
            "value": "27.243 MB of 27.243 MB uploaded (0.399 MB deduped)\r"
          }
        },
        "5e04f4d280784c7da1b020891b599e84": {
          "model_module": "@jupyter-widgets/base",
          "model_module_version": "1.2.0",
          "model_name": "LayoutModel",
          "state": {
            "_model_module": "@jupyter-widgets/base",
            "_model_module_version": "1.2.0",
            "_model_name": "LayoutModel",
            "_view_count": null,
            "_view_module": "@jupyter-widgets/base",
            "_view_module_version": "1.2.0",
            "_view_name": "LayoutView",
            "align_content": null,
            "align_items": null,
            "align_self": null,
            "border": null,
            "bottom": null,
            "display": null,
            "flex": null,
            "flex_flow": null,
            "grid_area": null,
            "grid_auto_columns": null,
            "grid_auto_flow": null,
            "grid_auto_rows": null,
            "grid_column": null,
            "grid_gap": null,
            "grid_row": null,
            "grid_template_areas": null,
            "grid_template_columns": null,
            "grid_template_rows": null,
            "height": null,
            "justify_content": null,
            "justify_items": null,
            "left": null,
            "margin": null,
            "max_height": null,
            "max_width": null,
            "min_height": null,
            "min_width": null,
            "object_fit": null,
            "object_position": null,
            "order": null,
            "overflow": null,
            "overflow_x": null,
            "overflow_y": null,
            "padding": null,
            "right": null,
            "top": null,
            "visibility": null,
            "width": null
          }
        },
        "61eb31d4c6be44cbb5d3b9d8b0e7bd03": {
          "model_module": "@jupyter-widgets/controls",
          "model_module_version": "1.5.0",
          "model_name": "LabelModel",
          "state": {
            "_dom_classes": [],
            "_model_module": "@jupyter-widgets/controls",
            "_model_module_version": "1.5.0",
            "_model_name": "LabelModel",
            "_view_count": null,
            "_view_module": "@jupyter-widgets/controls",
            "_view_module_version": "1.5.0",
            "_view_name": "LabelView",
            "description": "",
            "description_tooltip": null,
            "layout": "IPY_MODEL_6941caa1676b488d835617904f9b81df",
            "placeholder": "​",
            "style": "IPY_MODEL_7c33d7dbbfba4a4b8e4f97ac1499caf3",
            "value": "Waiting for wandb.init()...\r"
          }
        },
        "6364c203b0444d5eb48d561f9aecaff4": {
          "model_module": "@jupyter-widgets/base",
          "model_module_version": "1.2.0",
          "model_name": "LayoutModel",
          "state": {
            "_model_module": "@jupyter-widgets/base",
            "_model_module_version": "1.2.0",
            "_model_name": "LayoutModel",
            "_view_count": null,
            "_view_module": "@jupyter-widgets/base",
            "_view_module_version": "1.2.0",
            "_view_name": "LayoutView",
            "align_content": null,
            "align_items": null,
            "align_self": null,
            "border": null,
            "bottom": null,
            "display": null,
            "flex": null,
            "flex_flow": null,
            "grid_area": null,
            "grid_auto_columns": null,
            "grid_auto_flow": null,
            "grid_auto_rows": null,
            "grid_column": null,
            "grid_gap": null,
            "grid_row": null,
            "grid_template_areas": null,
            "grid_template_columns": null,
            "grid_template_rows": null,
            "height": null,
            "justify_content": null,
            "justify_items": null,
            "left": null,
            "margin": null,
            "max_height": null,
            "max_width": null,
            "min_height": null,
            "min_width": null,
            "object_fit": null,
            "object_position": null,
            "order": null,
            "overflow": null,
            "overflow_x": null,
            "overflow_y": null,
            "padding": null,
            "right": null,
            "top": null,
            "visibility": null,
            "width": null
          }
        },
        "66abb142c16a4d8f8f536388bbb6012b": {
          "model_module": "@jupyter-widgets/controls",
          "model_module_version": "1.5.0",
          "model_name": "LabelModel",
          "state": {
            "_dom_classes": [],
            "_model_module": "@jupyter-widgets/controls",
            "_model_module_version": "1.5.0",
            "_model_name": "LabelModel",
            "_view_count": null,
            "_view_module": "@jupyter-widgets/controls",
            "_view_module_version": "1.5.0",
            "_view_name": "LabelView",
            "description": "",
            "description_tooltip": null,
            "layout": "IPY_MODEL_4c27a61941e1463da4a7ce5d27ffda1a",
            "placeholder": "​",
            "style": "IPY_MODEL_c3c1f711dba5458b9f45acb8b65a2ffc",
            "value": "34.876 MB of 34.892 MB uploaded (0.399 MB deduped)\r"
          }
        },
        "6941caa1676b488d835617904f9b81df": {
          "model_module": "@jupyter-widgets/base",
          "model_module_version": "1.2.0",
          "model_name": "LayoutModel",
          "state": {
            "_model_module": "@jupyter-widgets/base",
            "_model_module_version": "1.2.0",
            "_model_name": "LayoutModel",
            "_view_count": null,
            "_view_module": "@jupyter-widgets/base",
            "_view_module_version": "1.2.0",
            "_view_name": "LayoutView",
            "align_content": null,
            "align_items": null,
            "align_self": null,
            "border": null,
            "bottom": null,
            "display": null,
            "flex": null,
            "flex_flow": null,
            "grid_area": null,
            "grid_auto_columns": null,
            "grid_auto_flow": null,
            "grid_auto_rows": null,
            "grid_column": null,
            "grid_gap": null,
            "grid_row": null,
            "grid_template_areas": null,
            "grid_template_columns": null,
            "grid_template_rows": null,
            "height": null,
            "justify_content": null,
            "justify_items": null,
            "left": null,
            "margin": null,
            "max_height": null,
            "max_width": null,
            "min_height": null,
            "min_width": null,
            "object_fit": null,
            "object_position": null,
            "order": null,
            "overflow": null,
            "overflow_x": null,
            "overflow_y": null,
            "padding": null,
            "right": null,
            "top": null,
            "visibility": null,
            "width": null
          }
        },
        "6a49c7846b5844d89c28576985e926d0": {
          "model_module": "@jupyter-widgets/controls",
          "model_module_version": "1.5.0",
          "model_name": "VBoxModel",
          "state": {
            "_dom_classes": [],
            "_model_module": "@jupyter-widgets/controls",
            "_model_module_version": "1.5.0",
            "_model_name": "VBoxModel",
            "_view_count": null,
            "_view_module": "@jupyter-widgets/controls",
            "_view_module_version": "1.5.0",
            "_view_name": "VBoxView",
            "box_style": "",
            "children": [
              "IPY_MODEL_78a825db42824a69a9664f18feeaac40",
              "IPY_MODEL_6bb0abdba8f146669b92afd5371bdd06"
            ],
            "layout": "IPY_MODEL_a2b46e0ad4dd4651b0ed722552ca99bb"
          }
        },
        "6a869351b8fb43acb4f1d9cb6491ce53": {
          "model_module": "@jupyter-widgets/base",
          "model_module_version": "1.2.0",
          "model_name": "LayoutModel",
          "state": {
            "_model_module": "@jupyter-widgets/base",
            "_model_module_version": "1.2.0",
            "_model_name": "LayoutModel",
            "_view_count": null,
            "_view_module": "@jupyter-widgets/base",
            "_view_module_version": "1.2.0",
            "_view_name": "LayoutView",
            "align_content": null,
            "align_items": null,
            "align_self": null,
            "border": null,
            "bottom": null,
            "display": null,
            "flex": null,
            "flex_flow": null,
            "grid_area": null,
            "grid_auto_columns": null,
            "grid_auto_flow": null,
            "grid_auto_rows": null,
            "grid_column": null,
            "grid_gap": null,
            "grid_row": null,
            "grid_template_areas": null,
            "grid_template_columns": null,
            "grid_template_rows": null,
            "height": null,
            "justify_content": null,
            "justify_items": null,
            "left": null,
            "margin": null,
            "max_height": null,
            "max_width": null,
            "min_height": null,
            "min_width": null,
            "object_fit": null,
            "object_position": null,
            "order": null,
            "overflow": null,
            "overflow_x": null,
            "overflow_y": null,
            "padding": null,
            "right": null,
            "top": null,
            "visibility": null,
            "width": null
          }
        },
        "6bb0abdba8f146669b92afd5371bdd06": {
          "model_module": "@jupyter-widgets/controls",
          "model_module_version": "1.5.0",
          "model_name": "FloatProgressModel",
          "state": {
            "_dom_classes": [],
            "_model_module": "@jupyter-widgets/controls",
            "_model_module_version": "1.5.0",
            "_model_name": "FloatProgressModel",
            "_view_count": null,
            "_view_module": "@jupyter-widgets/controls",
            "_view_module_version": "1.5.0",
            "_view_name": "ProgressView",
            "bar_style": "",
            "description": "",
            "description_tooltip": null,
            "layout": "IPY_MODEL_6364c203b0444d5eb48d561f9aecaff4",
            "max": 1,
            "min": 0,
            "orientation": "horizontal",
            "style": "IPY_MODEL_6f3918eeb24241888053bffabc190ba0",
            "value": 0.9998648850886963
          }
        },
        "6d2a7db4f0d64fb4bb993ee53364eab6": {
          "model_module": "@jupyter-widgets/base",
          "model_module_version": "1.2.0",
          "model_name": "LayoutModel",
          "state": {
            "_model_module": "@jupyter-widgets/base",
            "_model_module_version": "1.2.0",
            "_model_name": "LayoutModel",
            "_view_count": null,
            "_view_module": "@jupyter-widgets/base",
            "_view_module_version": "1.2.0",
            "_view_name": "LayoutView",
            "align_content": null,
            "align_items": null,
            "align_self": null,
            "border": null,
            "bottom": null,
            "display": null,
            "flex": null,
            "flex_flow": null,
            "grid_area": null,
            "grid_auto_columns": null,
            "grid_auto_flow": null,
            "grid_auto_rows": null,
            "grid_column": null,
            "grid_gap": null,
            "grid_row": null,
            "grid_template_areas": null,
            "grid_template_columns": null,
            "grid_template_rows": null,
            "height": null,
            "justify_content": null,
            "justify_items": null,
            "left": null,
            "margin": null,
            "max_height": null,
            "max_width": null,
            "min_height": null,
            "min_width": null,
            "object_fit": null,
            "object_position": null,
            "order": null,
            "overflow": null,
            "overflow_x": null,
            "overflow_y": null,
            "padding": null,
            "right": null,
            "top": null,
            "visibility": null,
            "width": null
          }
        },
        "6e783f5fa20b4d8d82e12c55269c5db6": {
          "model_module": "@jupyter-widgets/controls",
          "model_module_version": "1.5.0",
          "model_name": "VBoxModel",
          "state": {
            "_dom_classes": [],
            "_model_module": "@jupyter-widgets/controls",
            "_model_module_version": "1.5.0",
            "_model_name": "VBoxModel",
            "_view_count": null,
            "_view_module": "@jupyter-widgets/controls",
            "_view_module_version": "1.5.0",
            "_view_name": "VBoxView",
            "box_style": "",
            "children": [
              "IPY_MODEL_b79c42d5f740461e9e29c48734d56ac5",
              "IPY_MODEL_57281965320d4fde81901809c5d0bff5"
            ],
            "layout": "IPY_MODEL_419c4a529a514307978f63fdb1bf86b6"
          }
        },
        "6f3918eeb24241888053bffabc190ba0": {
          "model_module": "@jupyter-widgets/controls",
          "model_module_version": "1.5.0",
          "model_name": "ProgressStyleModel",
          "state": {
            "_model_module": "@jupyter-widgets/controls",
            "_model_module_version": "1.5.0",
            "_model_name": "ProgressStyleModel",
            "_view_count": null,
            "_view_module": "@jupyter-widgets/base",
            "_view_module_version": "1.2.0",
            "_view_name": "StyleView",
            "bar_color": null,
            "description_width": ""
          }
        },
        "71f278b7ae3441008eea34cf6febeca5": {
          "model_module": "@jupyter-widgets/controls",
          "model_module_version": "1.5.0",
          "model_name": "VBoxModel",
          "state": {
            "_dom_classes": [],
            "_model_module": "@jupyter-widgets/controls",
            "_model_module_version": "1.5.0",
            "_model_name": "VBoxModel",
            "_view_count": null,
            "_view_module": "@jupyter-widgets/controls",
            "_view_module_version": "1.5.0",
            "_view_name": "VBoxView",
            "box_style": "",
            "children": [
              "IPY_MODEL_f720015c1d10495cb9d5c365ff71d863",
              "IPY_MODEL_d55cfab32b374eccaa88a92a11aa4f5e"
            ],
            "layout": "IPY_MODEL_0b9f3c3942604ae18320f36039ae95bb"
          }
        },
        "7483a209c7874c3b89dbe8843717d05e": {
          "model_module": "@jupyter-widgets/controls",
          "model_module_version": "1.5.0",
          "model_name": "ProgressStyleModel",
          "state": {
            "_model_module": "@jupyter-widgets/controls",
            "_model_module_version": "1.5.0",
            "_model_name": "ProgressStyleModel",
            "_view_count": null,
            "_view_module": "@jupyter-widgets/base",
            "_view_module_version": "1.2.0",
            "_view_name": "StyleView",
            "bar_color": null,
            "description_width": ""
          }
        },
        "77a42384e28a4668927f862cdbf3f2a2": {
          "model_module": "@jupyter-widgets/base",
          "model_module_version": "1.2.0",
          "model_name": "LayoutModel",
          "state": {
            "_model_module": "@jupyter-widgets/base",
            "_model_module_version": "1.2.0",
            "_model_name": "LayoutModel",
            "_view_count": null,
            "_view_module": "@jupyter-widgets/base",
            "_view_module_version": "1.2.0",
            "_view_name": "LayoutView",
            "align_content": null,
            "align_items": null,
            "align_self": null,
            "border": null,
            "bottom": null,
            "display": null,
            "flex": null,
            "flex_flow": null,
            "grid_area": null,
            "grid_auto_columns": null,
            "grid_auto_flow": null,
            "grid_auto_rows": null,
            "grid_column": null,
            "grid_gap": null,
            "grid_row": null,
            "grid_template_areas": null,
            "grid_template_columns": null,
            "grid_template_rows": null,
            "height": null,
            "justify_content": null,
            "justify_items": null,
            "left": null,
            "margin": null,
            "max_height": null,
            "max_width": null,
            "min_height": null,
            "min_width": null,
            "object_fit": null,
            "object_position": null,
            "order": null,
            "overflow": null,
            "overflow_x": null,
            "overflow_y": null,
            "padding": null,
            "right": null,
            "top": null,
            "visibility": null,
            "width": null
          }
        },
        "78675a6ad5e9417dbf039c6fced65211": {
          "model_module": "@jupyter-widgets/controls",
          "model_module_version": "1.5.0",
          "model_name": "DescriptionStyleModel",
          "state": {
            "_model_module": "@jupyter-widgets/controls",
            "_model_module_version": "1.5.0",
            "_model_name": "DescriptionStyleModel",
            "_view_count": null,
            "_view_module": "@jupyter-widgets/base",
            "_view_module_version": "1.2.0",
            "_view_name": "StyleView",
            "description_width": ""
          }
        },
        "78a825db42824a69a9664f18feeaac40": {
          "model_module": "@jupyter-widgets/controls",
          "model_module_version": "1.5.0",
          "model_name": "LabelModel",
          "state": {
            "_dom_classes": [],
            "_model_module": "@jupyter-widgets/controls",
            "_model_module_version": "1.5.0",
            "_model_name": "LabelModel",
            "_view_count": null,
            "_view_module": "@jupyter-widgets/controls",
            "_view_module_version": "1.5.0",
            "_view_name": "LabelView",
            "description": "",
            "description_tooltip": null,
            "layout": "IPY_MODEL_4311c18f15934f1c8661287b728256c3",
            "placeholder": "​",
            "style": "IPY_MODEL_c41c614d8e0d430692e229b073975841",
            "value": "57.771 MB of 57.779 MB uploaded (0.399 MB deduped)\r"
          }
        },
        "7bf0db651bbd4f5587d8a967af535e21": {
          "model_module": "@jupyter-widgets/base",
          "model_module_version": "1.2.0",
          "model_name": "LayoutModel",
          "state": {
            "_model_module": "@jupyter-widgets/base",
            "_model_module_version": "1.2.0",
            "_model_name": "LayoutModel",
            "_view_count": null,
            "_view_module": "@jupyter-widgets/base",
            "_view_module_version": "1.2.0",
            "_view_name": "LayoutView",
            "align_content": null,
            "align_items": null,
            "align_self": null,
            "border": null,
            "bottom": null,
            "display": null,
            "flex": null,
            "flex_flow": null,
            "grid_area": null,
            "grid_auto_columns": null,
            "grid_auto_flow": null,
            "grid_auto_rows": null,
            "grid_column": null,
            "grid_gap": null,
            "grid_row": null,
            "grid_template_areas": null,
            "grid_template_columns": null,
            "grid_template_rows": null,
            "height": null,
            "justify_content": null,
            "justify_items": null,
            "left": null,
            "margin": null,
            "max_height": null,
            "max_width": null,
            "min_height": null,
            "min_width": null,
            "object_fit": null,
            "object_position": null,
            "order": null,
            "overflow": null,
            "overflow_x": null,
            "overflow_y": null,
            "padding": null,
            "right": null,
            "top": null,
            "visibility": null,
            "width": null
          }
        },
        "7c33d7dbbfba4a4b8e4f97ac1499caf3": {
          "model_module": "@jupyter-widgets/controls",
          "model_module_version": "1.5.0",
          "model_name": "DescriptionStyleModel",
          "state": {
            "_model_module": "@jupyter-widgets/controls",
            "_model_module_version": "1.5.0",
            "_model_name": "DescriptionStyleModel",
            "_view_count": null,
            "_view_module": "@jupyter-widgets/base",
            "_view_module_version": "1.2.0",
            "_view_name": "StyleView",
            "description_width": ""
          }
        },
        "7c5eb7191ca14850a33e1de79de569bd": {
          "model_module": "@jupyter-widgets/controls",
          "model_module_version": "1.5.0",
          "model_name": "ProgressStyleModel",
          "state": {
            "_model_module": "@jupyter-widgets/controls",
            "_model_module_version": "1.5.0",
            "_model_name": "ProgressStyleModel",
            "_view_count": null,
            "_view_module": "@jupyter-widgets/base",
            "_view_module_version": "1.2.0",
            "_view_name": "StyleView",
            "bar_color": null,
            "description_width": ""
          }
        },
        "7d8460ffa77f4a5f92d10ebbe4d2274f": {
          "model_module": "@jupyter-widgets/base",
          "model_module_version": "1.2.0",
          "model_name": "LayoutModel",
          "state": {
            "_model_module": "@jupyter-widgets/base",
            "_model_module_version": "1.2.0",
            "_model_name": "LayoutModel",
            "_view_count": null,
            "_view_module": "@jupyter-widgets/base",
            "_view_module_version": "1.2.0",
            "_view_name": "LayoutView",
            "align_content": null,
            "align_items": null,
            "align_self": null,
            "border": null,
            "bottom": null,
            "display": null,
            "flex": null,
            "flex_flow": null,
            "grid_area": null,
            "grid_auto_columns": null,
            "grid_auto_flow": null,
            "grid_auto_rows": null,
            "grid_column": null,
            "grid_gap": null,
            "grid_row": null,
            "grid_template_areas": null,
            "grid_template_columns": null,
            "grid_template_rows": null,
            "height": null,
            "justify_content": null,
            "justify_items": null,
            "left": null,
            "margin": null,
            "max_height": null,
            "max_width": null,
            "min_height": null,
            "min_width": null,
            "object_fit": null,
            "object_position": null,
            "order": null,
            "overflow": null,
            "overflow_x": null,
            "overflow_y": null,
            "padding": null,
            "right": null,
            "top": null,
            "visibility": null,
            "width": null
          }
        },
        "804e06e4073941fd88a723fb71d91fd9": {
          "model_module": "@jupyter-widgets/controls",
          "model_module_version": "1.5.0",
          "model_name": "DescriptionStyleModel",
          "state": {
            "_model_module": "@jupyter-widgets/controls",
            "_model_module_version": "1.5.0",
            "_model_name": "DescriptionStyleModel",
            "_view_count": null,
            "_view_module": "@jupyter-widgets/base",
            "_view_module_version": "1.2.0",
            "_view_name": "StyleView",
            "description_width": ""
          }
        },
        "84200d50c5734a0a959f2f3517b4f66f": {
          "model_module": "@jupyter-widgets/base",
          "model_module_version": "1.2.0",
          "model_name": "LayoutModel",
          "state": {
            "_model_module": "@jupyter-widgets/base",
            "_model_module_version": "1.2.0",
            "_model_name": "LayoutModel",
            "_view_count": null,
            "_view_module": "@jupyter-widgets/base",
            "_view_module_version": "1.2.0",
            "_view_name": "LayoutView",
            "align_content": null,
            "align_items": null,
            "align_self": null,
            "border": null,
            "bottom": null,
            "display": null,
            "flex": null,
            "flex_flow": null,
            "grid_area": null,
            "grid_auto_columns": null,
            "grid_auto_flow": null,
            "grid_auto_rows": null,
            "grid_column": null,
            "grid_gap": null,
            "grid_row": null,
            "grid_template_areas": null,
            "grid_template_columns": null,
            "grid_template_rows": null,
            "height": null,
            "justify_content": null,
            "justify_items": null,
            "left": null,
            "margin": null,
            "max_height": null,
            "max_width": null,
            "min_height": null,
            "min_width": null,
            "object_fit": null,
            "object_position": null,
            "order": null,
            "overflow": null,
            "overflow_x": null,
            "overflow_y": null,
            "padding": null,
            "right": null,
            "top": null,
            "visibility": null,
            "width": null
          }
        },
        "889b14dafba6447f861402f5364a9ba1": {
          "model_module": "@jupyter-widgets/controls",
          "model_module_version": "1.5.0",
          "model_name": "DescriptionStyleModel",
          "state": {
            "_model_module": "@jupyter-widgets/controls",
            "_model_module_version": "1.5.0",
            "_model_name": "DescriptionStyleModel",
            "_view_count": null,
            "_view_module": "@jupyter-widgets/base",
            "_view_module_version": "1.2.0",
            "_view_name": "StyleView",
            "description_width": ""
          }
        },
        "8ec17e2417f44360ba6384a1433326f1": {
          "model_module": "@jupyter-widgets/controls",
          "model_module_version": "1.5.0",
          "model_name": "LabelModel",
          "state": {
            "_dom_classes": [],
            "_model_module": "@jupyter-widgets/controls",
            "_model_module_version": "1.5.0",
            "_model_name": "LabelModel",
            "_view_count": null,
            "_view_module": "@jupyter-widgets/controls",
            "_view_module_version": "1.5.0",
            "_view_name": "LabelView",
            "description": "",
            "description_tooltip": null,
            "layout": "IPY_MODEL_418253b9d0f7445c8b651ea9ebe3cc86",
            "placeholder": "​",
            "style": "IPY_MODEL_d3bb202b53e04724a5259b8a38472c2c",
            "value": "103.463 MB of 103.473 MB uploaded (0.399 MB deduped)\r"
          }
        },
        "904a3e38845d494abc520ac617ab7776": {
          "model_module": "@jupyter-widgets/base",
          "model_module_version": "1.2.0",
          "model_name": "LayoutModel",
          "state": {
            "_model_module": "@jupyter-widgets/base",
            "_model_module_version": "1.2.0",
            "_model_name": "LayoutModel",
            "_view_count": null,
            "_view_module": "@jupyter-widgets/base",
            "_view_module_version": "1.2.0",
            "_view_name": "LayoutView",
            "align_content": null,
            "align_items": null,
            "align_self": null,
            "border": null,
            "bottom": null,
            "display": null,
            "flex": null,
            "flex_flow": null,
            "grid_area": null,
            "grid_auto_columns": null,
            "grid_auto_flow": null,
            "grid_auto_rows": null,
            "grid_column": null,
            "grid_gap": null,
            "grid_row": null,
            "grid_template_areas": null,
            "grid_template_columns": null,
            "grid_template_rows": null,
            "height": null,
            "justify_content": null,
            "justify_items": null,
            "left": null,
            "margin": null,
            "max_height": null,
            "max_width": null,
            "min_height": null,
            "min_width": null,
            "object_fit": null,
            "object_position": null,
            "order": null,
            "overflow": null,
            "overflow_x": null,
            "overflow_y": null,
            "padding": null,
            "right": null,
            "top": null,
            "visibility": null,
            "width": null
          }
        },
        "909a66d4afda4ce988a3b6295d5bf546": {
          "model_module": "@jupyter-widgets/controls",
          "model_module_version": "1.5.0",
          "model_name": "ProgressStyleModel",
          "state": {
            "_model_module": "@jupyter-widgets/controls",
            "_model_module_version": "1.5.0",
            "_model_name": "ProgressStyleModel",
            "_view_count": null,
            "_view_module": "@jupyter-widgets/base",
            "_view_module_version": "1.2.0",
            "_view_name": "StyleView",
            "bar_color": null,
            "description_width": ""
          }
        },
        "9199fd41d63641a2a752f57e08416fda": {
          "model_module": "@jupyter-widgets/base",
          "model_module_version": "1.2.0",
          "model_name": "LayoutModel",
          "state": {
            "_model_module": "@jupyter-widgets/base",
            "_model_module_version": "1.2.0",
            "_model_name": "LayoutModel",
            "_view_count": null,
            "_view_module": "@jupyter-widgets/base",
            "_view_module_version": "1.2.0",
            "_view_name": "LayoutView",
            "align_content": null,
            "align_items": null,
            "align_self": null,
            "border": null,
            "bottom": null,
            "display": null,
            "flex": null,
            "flex_flow": null,
            "grid_area": null,
            "grid_auto_columns": null,
            "grid_auto_flow": null,
            "grid_auto_rows": null,
            "grid_column": null,
            "grid_gap": null,
            "grid_row": null,
            "grid_template_areas": null,
            "grid_template_columns": null,
            "grid_template_rows": null,
            "height": null,
            "justify_content": null,
            "justify_items": null,
            "left": null,
            "margin": null,
            "max_height": null,
            "max_width": null,
            "min_height": null,
            "min_width": null,
            "object_fit": null,
            "object_position": null,
            "order": null,
            "overflow": null,
            "overflow_x": null,
            "overflow_y": null,
            "padding": null,
            "right": null,
            "top": null,
            "visibility": null,
            "width": null
          }
        },
        "9241522cca144fc7b1f2c2d5ca70d620": {
          "model_module": "@jupyter-widgets/controls",
          "model_module_version": "1.5.0",
          "model_name": "LabelModel",
          "state": {
            "_dom_classes": [],
            "_model_module": "@jupyter-widgets/controls",
            "_model_module_version": "1.5.0",
            "_model_name": "LabelModel",
            "_view_count": null,
            "_view_module": "@jupyter-widgets/controls",
            "_view_module_version": "1.5.0",
            "_view_name": "LabelView",
            "description": "",
            "description_tooltip": null,
            "layout": "IPY_MODEL_5333138e2391479bb56c954b5ea63863",
            "placeholder": "​",
            "style": "IPY_MODEL_5432d3023f274697a49497ac7135b1a1",
            "value": "23.239 MB of 23.239 MB uploaded (0.698 MB deduped)\r"
          }
        },
        "932acc7eda6146eea890cc67f1b9ad48": {
          "model_module": "@jupyter-widgets/controls",
          "model_module_version": "1.5.0",
          "model_name": "FloatProgressModel",
          "state": {
            "_dom_classes": [],
            "_model_module": "@jupyter-widgets/controls",
            "_model_module_version": "1.5.0",
            "_model_name": "FloatProgressModel",
            "_view_count": null,
            "_view_module": "@jupyter-widgets/controls",
            "_view_module_version": "1.5.0",
            "_view_name": "ProgressView",
            "bar_style": "",
            "description": "",
            "description_tooltip": null,
            "layout": "IPY_MODEL_4ddbe0fd9e014817a48511216c7960f7",
            "max": 1,
            "min": 0,
            "orientation": "horizontal",
            "style": "IPY_MODEL_e7a3ae8991104c8bab5b99a71a3e0f88",
            "value": 1
          }
        },
        "96c30c7478b141c08c6f6a8832305c3b": {
          "model_module": "@jupyter-widgets/base",
          "model_module_version": "1.2.0",
          "model_name": "LayoutModel",
          "state": {
            "_model_module": "@jupyter-widgets/base",
            "_model_module_version": "1.2.0",
            "_model_name": "LayoutModel",
            "_view_count": null,
            "_view_module": "@jupyter-widgets/base",
            "_view_module_version": "1.2.0",
            "_view_name": "LayoutView",
            "align_content": null,
            "align_items": null,
            "align_self": null,
            "border": null,
            "bottom": null,
            "display": null,
            "flex": null,
            "flex_flow": null,
            "grid_area": null,
            "grid_auto_columns": null,
            "grid_auto_flow": null,
            "grid_auto_rows": null,
            "grid_column": null,
            "grid_gap": null,
            "grid_row": null,
            "grid_template_areas": null,
            "grid_template_columns": null,
            "grid_template_rows": null,
            "height": null,
            "justify_content": null,
            "justify_items": null,
            "left": null,
            "margin": null,
            "max_height": null,
            "max_width": null,
            "min_height": null,
            "min_width": null,
            "object_fit": null,
            "object_position": null,
            "order": null,
            "overflow": null,
            "overflow_x": null,
            "overflow_y": null,
            "padding": null,
            "right": null,
            "top": null,
            "visibility": null,
            "width": null
          }
        },
        "96f7b8302513419da100b2246d096dcb": {
          "model_module": "@jupyter-widgets/base",
          "model_module_version": "1.2.0",
          "model_name": "LayoutModel",
          "state": {
            "_model_module": "@jupyter-widgets/base",
            "_model_module_version": "1.2.0",
            "_model_name": "LayoutModel",
            "_view_count": null,
            "_view_module": "@jupyter-widgets/base",
            "_view_module_version": "1.2.0",
            "_view_name": "LayoutView",
            "align_content": null,
            "align_items": null,
            "align_self": null,
            "border": null,
            "bottom": null,
            "display": null,
            "flex": null,
            "flex_flow": null,
            "grid_area": null,
            "grid_auto_columns": null,
            "grid_auto_flow": null,
            "grid_auto_rows": null,
            "grid_column": null,
            "grid_gap": null,
            "grid_row": null,
            "grid_template_areas": null,
            "grid_template_columns": null,
            "grid_template_rows": null,
            "height": null,
            "justify_content": null,
            "justify_items": null,
            "left": null,
            "margin": null,
            "max_height": null,
            "max_width": null,
            "min_height": null,
            "min_width": null,
            "object_fit": null,
            "object_position": null,
            "order": null,
            "overflow": null,
            "overflow_x": null,
            "overflow_y": null,
            "padding": null,
            "right": null,
            "top": null,
            "visibility": null,
            "width": null
          }
        },
        "979e8f6b3e204d9690f1418f3707fc06": {
          "model_module": "@jupyter-widgets/base",
          "model_module_version": "1.2.0",
          "model_name": "LayoutModel",
          "state": {
            "_model_module": "@jupyter-widgets/base",
            "_model_module_version": "1.2.0",
            "_model_name": "LayoutModel",
            "_view_count": null,
            "_view_module": "@jupyter-widgets/base",
            "_view_module_version": "1.2.0",
            "_view_name": "LayoutView",
            "align_content": null,
            "align_items": null,
            "align_self": null,
            "border": null,
            "bottom": null,
            "display": null,
            "flex": null,
            "flex_flow": null,
            "grid_area": null,
            "grid_auto_columns": null,
            "grid_auto_flow": null,
            "grid_auto_rows": null,
            "grid_column": null,
            "grid_gap": null,
            "grid_row": null,
            "grid_template_areas": null,
            "grid_template_columns": null,
            "grid_template_rows": null,
            "height": null,
            "justify_content": null,
            "justify_items": null,
            "left": null,
            "margin": null,
            "max_height": null,
            "max_width": null,
            "min_height": null,
            "min_width": null,
            "object_fit": null,
            "object_position": null,
            "order": null,
            "overflow": null,
            "overflow_x": null,
            "overflow_y": null,
            "padding": null,
            "right": null,
            "top": null,
            "visibility": null,
            "width": null
          }
        },
        "99fb71c1f4d142e2bd9395f7e711ff0d": {
          "model_module": "@jupyter-widgets/controls",
          "model_module_version": "1.5.0",
          "model_name": "VBoxModel",
          "state": {
            "_dom_classes": [],
            "_model_module": "@jupyter-widgets/controls",
            "_model_module_version": "1.5.0",
            "_model_name": "VBoxModel",
            "_view_count": null,
            "_view_module": "@jupyter-widgets/controls",
            "_view_module_version": "1.5.0",
            "_view_name": "VBoxView",
            "box_style": "",
            "children": [
              "IPY_MODEL_cfdeabe50919481dbbe7d10d8a026d19",
              "IPY_MODEL_371934e17204491cbb2c6cad360c334f"
            ],
            "layout": "IPY_MODEL_3ccbf7ed38cb4ad280370b02262f1995"
          }
        },
        "9c5fa4fa365541319f09144aaa2cc736": {
          "model_module": "@jupyter-widgets/controls",
          "model_module_version": "1.5.0",
          "model_name": "ProgressStyleModel",
          "state": {
            "_model_module": "@jupyter-widgets/controls",
            "_model_module_version": "1.5.0",
            "_model_name": "ProgressStyleModel",
            "_view_count": null,
            "_view_module": "@jupyter-widgets/base",
            "_view_module_version": "1.2.0",
            "_view_name": "StyleView",
            "bar_color": null,
            "description_width": ""
          }
        },
        "9e34e2894bb248a79048cd38931b0507": {
          "model_module": "@jupyter-widgets/controls",
          "model_module_version": "1.5.0",
          "model_name": "FloatProgressModel",
          "state": {
            "_dom_classes": [],
            "_model_module": "@jupyter-widgets/controls",
            "_model_module_version": "1.5.0",
            "_model_name": "FloatProgressModel",
            "_view_count": null,
            "_view_module": "@jupyter-widgets/controls",
            "_view_module_version": "1.5.0",
            "_view_name": "ProgressView",
            "bar_style": "",
            "description": "",
            "description_tooltip": null,
            "layout": "IPY_MODEL_b402c8f45f424f50a23e92da6a489589",
            "max": 1,
            "min": 0,
            "orientation": "horizontal",
            "style": "IPY_MODEL_9c5fa4fa365541319f09144aaa2cc736",
            "value": 0.9999031419876525
          }
        },
        "a1d2df04ba4547d6b85fa533d7ea7b8f": {
          "model_module": "@jupyter-widgets/controls",
          "model_module_version": "1.5.0",
          "model_name": "ProgressStyleModel",
          "state": {
            "_model_module": "@jupyter-widgets/controls",
            "_model_module_version": "1.5.0",
            "_model_name": "ProgressStyleModel",
            "_view_count": null,
            "_view_module": "@jupyter-widgets/base",
            "_view_module_version": "1.2.0",
            "_view_name": "StyleView",
            "bar_color": null,
            "description_width": ""
          }
        },
        "a2b46e0ad4dd4651b0ed722552ca99bb": {
          "model_module": "@jupyter-widgets/base",
          "model_module_version": "1.2.0",
          "model_name": "LayoutModel",
          "state": {
            "_model_module": "@jupyter-widgets/base",
            "_model_module_version": "1.2.0",
            "_model_name": "LayoutModel",
            "_view_count": null,
            "_view_module": "@jupyter-widgets/base",
            "_view_module_version": "1.2.0",
            "_view_name": "LayoutView",
            "align_content": null,
            "align_items": null,
            "align_self": null,
            "border": null,
            "bottom": null,
            "display": null,
            "flex": null,
            "flex_flow": null,
            "grid_area": null,
            "grid_auto_columns": null,
            "grid_auto_flow": null,
            "grid_auto_rows": null,
            "grid_column": null,
            "grid_gap": null,
            "grid_row": null,
            "grid_template_areas": null,
            "grid_template_columns": null,
            "grid_template_rows": null,
            "height": null,
            "justify_content": null,
            "justify_items": null,
            "left": null,
            "margin": null,
            "max_height": null,
            "max_width": null,
            "min_height": null,
            "min_width": null,
            "object_fit": null,
            "object_position": null,
            "order": null,
            "overflow": null,
            "overflow_x": null,
            "overflow_y": null,
            "padding": null,
            "right": null,
            "top": null,
            "visibility": null,
            "width": null
          }
        },
        "a40c82ff25cb461e9d33b515cc6dfb74": {
          "model_module": "@jupyter-widgets/controls",
          "model_module_version": "1.5.0",
          "model_name": "VBoxModel",
          "state": {
            "_dom_classes": [],
            "_model_module": "@jupyter-widgets/controls",
            "_model_module_version": "1.5.0",
            "_model_name": "VBoxModel",
            "_view_count": null,
            "_view_module": "@jupyter-widgets/controls",
            "_view_module_version": "1.5.0",
            "_view_name": "VBoxView",
            "box_style": "",
            "children": [
              "IPY_MODEL_66abb142c16a4d8f8f536388bbb6012b",
              "IPY_MODEL_0e8d2bdee7d54ba393f71d6e33bc3179"
            ],
            "layout": "IPY_MODEL_d19e3e39a2944ad9baaa59aec47e3f14"
          }
        },
        "a9202c6eba2d4147ac38aa9ea021db3e": {
          "model_module": "@jupyter-widgets/controls",
          "model_module_version": "1.5.0",
          "model_name": "DescriptionStyleModel",
          "state": {
            "_model_module": "@jupyter-widgets/controls",
            "_model_module_version": "1.5.0",
            "_model_name": "DescriptionStyleModel",
            "_view_count": null,
            "_view_module": "@jupyter-widgets/base",
            "_view_module_version": "1.2.0",
            "_view_name": "StyleView",
            "description_width": ""
          }
        },
        "aba29c926129488faf525af471ff131d": {
          "model_module": "@jupyter-widgets/controls",
          "model_module_version": "1.5.0",
          "model_name": "ProgressStyleModel",
          "state": {
            "_model_module": "@jupyter-widgets/controls",
            "_model_module_version": "1.5.0",
            "_model_name": "ProgressStyleModel",
            "_view_count": null,
            "_view_module": "@jupyter-widgets/base",
            "_view_module_version": "1.2.0",
            "_view_name": "StyleView",
            "bar_color": null,
            "description_width": ""
          }
        },
        "aca6a9ad449f44f88124297800840df2": {
          "model_module": "@jupyter-widgets/base",
          "model_module_version": "1.2.0",
          "model_name": "LayoutModel",
          "state": {
            "_model_module": "@jupyter-widgets/base",
            "_model_module_version": "1.2.0",
            "_model_name": "LayoutModel",
            "_view_count": null,
            "_view_module": "@jupyter-widgets/base",
            "_view_module_version": "1.2.0",
            "_view_name": "LayoutView",
            "align_content": null,
            "align_items": null,
            "align_self": null,
            "border": null,
            "bottom": null,
            "display": null,
            "flex": null,
            "flex_flow": null,
            "grid_area": null,
            "grid_auto_columns": null,
            "grid_auto_flow": null,
            "grid_auto_rows": null,
            "grid_column": null,
            "grid_gap": null,
            "grid_row": null,
            "grid_template_areas": null,
            "grid_template_columns": null,
            "grid_template_rows": null,
            "height": null,
            "justify_content": null,
            "justify_items": null,
            "left": null,
            "margin": null,
            "max_height": null,
            "max_width": null,
            "min_height": null,
            "min_width": null,
            "object_fit": null,
            "object_position": null,
            "order": null,
            "overflow": null,
            "overflow_x": null,
            "overflow_y": null,
            "padding": null,
            "right": null,
            "top": null,
            "visibility": null,
            "width": null
          }
        },
        "acb6ecceb97047bdb13be4f2fcd42fd5": {
          "model_module": "@jupyter-widgets/base",
          "model_module_version": "1.2.0",
          "model_name": "LayoutModel",
          "state": {
            "_model_module": "@jupyter-widgets/base",
            "_model_module_version": "1.2.0",
            "_model_name": "LayoutModel",
            "_view_count": null,
            "_view_module": "@jupyter-widgets/base",
            "_view_module_version": "1.2.0",
            "_view_name": "LayoutView",
            "align_content": null,
            "align_items": null,
            "align_self": null,
            "border": null,
            "bottom": null,
            "display": null,
            "flex": null,
            "flex_flow": null,
            "grid_area": null,
            "grid_auto_columns": null,
            "grid_auto_flow": null,
            "grid_auto_rows": null,
            "grid_column": null,
            "grid_gap": null,
            "grid_row": null,
            "grid_template_areas": null,
            "grid_template_columns": null,
            "grid_template_rows": null,
            "height": null,
            "justify_content": null,
            "justify_items": null,
            "left": null,
            "margin": null,
            "max_height": null,
            "max_width": null,
            "min_height": null,
            "min_width": null,
            "object_fit": null,
            "object_position": null,
            "order": null,
            "overflow": null,
            "overflow_x": null,
            "overflow_y": null,
            "padding": null,
            "right": null,
            "top": null,
            "visibility": null,
            "width": null
          }
        },
        "b1c9301813f24de38bbcee69df50c3e9": {
          "model_module": "@jupyter-widgets/controls",
          "model_module_version": "1.5.0",
          "model_name": "FloatProgressModel",
          "state": {
            "_dom_classes": [],
            "_model_module": "@jupyter-widgets/controls",
            "_model_module_version": "1.5.0",
            "_model_name": "FloatProgressModel",
            "_view_count": null,
            "_view_module": "@jupyter-widgets/controls",
            "_view_module_version": "1.5.0",
            "_view_name": "ProgressView",
            "bar_style": "",
            "description": "",
            "description_tooltip": null,
            "layout": "IPY_MODEL_acb6ecceb97047bdb13be4f2fcd42fd5",
            "max": 1,
            "min": 0,
            "orientation": "horizontal",
            "style": "IPY_MODEL_05d07c27f8524d01bf08d3068f45d203",
            "value": 0.9850498377944112
          }
        },
        "b2ac70c571244f2bbf15044f74f08da8": {
          "model_module": "@jupyter-widgets/base",
          "model_module_version": "1.2.0",
          "model_name": "LayoutModel",
          "state": {
            "_model_module": "@jupyter-widgets/base",
            "_model_module_version": "1.2.0",
            "_model_name": "LayoutModel",
            "_view_count": null,
            "_view_module": "@jupyter-widgets/base",
            "_view_module_version": "1.2.0",
            "_view_name": "LayoutView",
            "align_content": null,
            "align_items": null,
            "align_self": null,
            "border": null,
            "bottom": null,
            "display": null,
            "flex": null,
            "flex_flow": null,
            "grid_area": null,
            "grid_auto_columns": null,
            "grid_auto_flow": null,
            "grid_auto_rows": null,
            "grid_column": null,
            "grid_gap": null,
            "grid_row": null,
            "grid_template_areas": null,
            "grid_template_columns": null,
            "grid_template_rows": null,
            "height": null,
            "justify_content": null,
            "justify_items": null,
            "left": null,
            "margin": null,
            "max_height": null,
            "max_width": null,
            "min_height": null,
            "min_width": null,
            "object_fit": null,
            "object_position": null,
            "order": null,
            "overflow": null,
            "overflow_x": null,
            "overflow_y": null,
            "padding": null,
            "right": null,
            "top": null,
            "visibility": null,
            "width": null
          }
        },
        "b402c8f45f424f50a23e92da6a489589": {
          "model_module": "@jupyter-widgets/base",
          "model_module_version": "1.2.0",
          "model_name": "LayoutModel",
          "state": {
            "_model_module": "@jupyter-widgets/base",
            "_model_module_version": "1.2.0",
            "_model_name": "LayoutModel",
            "_view_count": null,
            "_view_module": "@jupyter-widgets/base",
            "_view_module_version": "1.2.0",
            "_view_name": "LayoutView",
            "align_content": null,
            "align_items": null,
            "align_self": null,
            "border": null,
            "bottom": null,
            "display": null,
            "flex": null,
            "flex_flow": null,
            "grid_area": null,
            "grid_auto_columns": null,
            "grid_auto_flow": null,
            "grid_auto_rows": null,
            "grid_column": null,
            "grid_gap": null,
            "grid_row": null,
            "grid_template_areas": null,
            "grid_template_columns": null,
            "grid_template_rows": null,
            "height": null,
            "justify_content": null,
            "justify_items": null,
            "left": null,
            "margin": null,
            "max_height": null,
            "max_width": null,
            "min_height": null,
            "min_width": null,
            "object_fit": null,
            "object_position": null,
            "order": null,
            "overflow": null,
            "overflow_x": null,
            "overflow_y": null,
            "padding": null,
            "right": null,
            "top": null,
            "visibility": null,
            "width": null
          }
        },
        "b5575f7cd42849409a8cd2af1a631a8a": {
          "model_module": "@jupyter-widgets/controls",
          "model_module_version": "1.5.0",
          "model_name": "VBoxModel",
          "state": {
            "_dom_classes": [],
            "_model_module": "@jupyter-widgets/controls",
            "_model_module_version": "1.5.0",
            "_model_name": "VBoxModel",
            "_view_count": null,
            "_view_module": "@jupyter-widgets/controls",
            "_view_module_version": "1.5.0",
            "_view_name": "VBoxView",
            "box_style": "",
            "children": [
              "IPY_MODEL_ff58597a590949c69bbd58d5a711de85",
              "IPY_MODEL_b1c9301813f24de38bbcee69df50c3e9"
            ],
            "layout": "IPY_MODEL_cfb22e2c3eb74053acd21545fac41953"
          }
        },
        "b689256f639e420783a1eb8eb9c0f740": {
          "model_module": "@jupyter-widgets/controls",
          "model_module_version": "1.5.0",
          "model_name": "VBoxModel",
          "state": {
            "_dom_classes": [],
            "_model_module": "@jupyter-widgets/controls",
            "_model_module_version": "1.5.0",
            "_model_name": "VBoxModel",
            "_view_count": null,
            "_view_module": "@jupyter-widgets/controls",
            "_view_module_version": "1.5.0",
            "_view_name": "VBoxView",
            "box_style": "",
            "children": [
              "IPY_MODEL_9241522cca144fc7b1f2c2d5ca70d620",
              "IPY_MODEL_0d5ddb60afa244ff850281d5cda0435a"
            ],
            "layout": "IPY_MODEL_edbe47bdbfda4659b99ed447c0692f5c"
          }
        },
        "b79c42d5f740461e9e29c48734d56ac5": {
          "model_module": "@jupyter-widgets/controls",
          "model_module_version": "1.5.0",
          "model_name": "LabelModel",
          "state": {
            "_dom_classes": [],
            "_model_module": "@jupyter-widgets/controls",
            "_model_module_version": "1.5.0",
            "_model_name": "LabelModel",
            "_view_count": null,
            "_view_module": "@jupyter-widgets/controls",
            "_view_module_version": "1.5.0",
            "_view_name": "LabelView",
            "description": "",
            "description_tooltip": null,
            "layout": "IPY_MODEL_f5e73f35cad24674a4dd5a4281a778ad",
            "placeholder": "​",
            "style": "IPY_MODEL_55c92447d2e44dcea4c57ed1c33eabc8",
            "value": "24.644 MB of 24.665 MB uploaded (0.698 MB deduped)\r"
          }
        },
        "b7f20c9842234745898390c1993b16e4": {
          "model_module": "@jupyter-widgets/controls",
          "model_module_version": "1.5.0",
          "model_name": "VBoxModel",
          "state": {
            "_dom_classes": [],
            "_model_module": "@jupyter-widgets/controls",
            "_model_module_version": "1.5.0",
            "_model_name": "VBoxModel",
            "_view_count": null,
            "_view_module": "@jupyter-widgets/controls",
            "_view_module_version": "1.5.0",
            "_view_name": "VBoxView",
            "box_style": "",
            "children": [
              "IPY_MODEL_df9cb4fa5b2b40ec8be0068d0bb98408",
              "IPY_MODEL_0d7d04e70b544ef196735a75e531f5ce"
            ],
            "layout": "IPY_MODEL_7bf0db651bbd4f5587d8a967af535e21"
          }
        },
        "ba133895bf054b32bf4ef091e0e4bb47": {
          "model_module": "@jupyter-widgets/controls",
          "model_module_version": "1.5.0",
          "model_name": "VBoxModel",
          "state": {
            "_dom_classes": [],
            "_model_module": "@jupyter-widgets/controls",
            "_model_module_version": "1.5.0",
            "_model_name": "VBoxModel",
            "_view_count": null,
            "_view_module": "@jupyter-widgets/controls",
            "_view_module_version": "1.5.0",
            "_view_name": "VBoxView",
            "box_style": "",
            "children": [
              "IPY_MODEL_feaa9268d25649d0b3d43b51420c5e6e",
              "IPY_MODEL_932acc7eda6146eea890cc67f1b9ad48"
            ],
            "layout": "IPY_MODEL_d53ff605d9fd4086928d530e3604566e"
          }
        },
        "bf15f5dd59d64199984ec9922741bce5": {
          "model_module": "@jupyter-widgets/controls",
          "model_module_version": "1.5.0",
          "model_name": "FloatProgressModel",
          "state": {
            "_dom_classes": [],
            "_model_module": "@jupyter-widgets/controls",
            "_model_module_version": "1.5.0",
            "_model_name": "FloatProgressModel",
            "_view_count": null,
            "_view_module": "@jupyter-widgets/controls",
            "_view_module_version": "1.5.0",
            "_view_name": "ProgressView",
            "bar_style": "",
            "description": "",
            "description_tooltip": null,
            "layout": "IPY_MODEL_904a3e38845d494abc520ac617ab7776",
            "max": 1,
            "min": 0,
            "orientation": "horizontal",
            "style": "IPY_MODEL_a1d2df04ba4547d6b85fa533d7ea7b8f",
            "value": 0.9991541078086565
          }
        },
        "bf56a6fb917c452e9ae142cf4662a764": {
          "model_module": "@jupyter-widgets/base",
          "model_module_version": "1.2.0",
          "model_name": "LayoutModel",
          "state": {
            "_model_module": "@jupyter-widgets/base",
            "_model_module_version": "1.2.0",
            "_model_name": "LayoutModel",
            "_view_count": null,
            "_view_module": "@jupyter-widgets/base",
            "_view_module_version": "1.2.0",
            "_view_name": "LayoutView",
            "align_content": null,
            "align_items": null,
            "align_self": null,
            "border": null,
            "bottom": null,
            "display": null,
            "flex": null,
            "flex_flow": null,
            "grid_area": null,
            "grid_auto_columns": null,
            "grid_auto_flow": null,
            "grid_auto_rows": null,
            "grid_column": null,
            "grid_gap": null,
            "grid_row": null,
            "grid_template_areas": null,
            "grid_template_columns": null,
            "grid_template_rows": null,
            "height": null,
            "justify_content": null,
            "justify_items": null,
            "left": null,
            "margin": null,
            "max_height": null,
            "max_width": null,
            "min_height": null,
            "min_width": null,
            "object_fit": null,
            "object_position": null,
            "order": null,
            "overflow": null,
            "overflow_x": null,
            "overflow_y": null,
            "padding": null,
            "right": null,
            "top": null,
            "visibility": null,
            "width": null
          }
        },
        "c00bf90560a445148767cc81c4592ff4": {
          "model_module": "@jupyter-widgets/controls",
          "model_module_version": "1.5.0",
          "model_name": "ProgressStyleModel",
          "state": {
            "_model_module": "@jupyter-widgets/controls",
            "_model_module_version": "1.5.0",
            "_model_name": "ProgressStyleModel",
            "_view_count": null,
            "_view_module": "@jupyter-widgets/base",
            "_view_module_version": "1.2.0",
            "_view_name": "StyleView",
            "bar_color": null,
            "description_width": ""
          }
        },
        "c23e5cf3b70642fc90de210efaf8e1f8": {
          "model_module": "@jupyter-widgets/base",
          "model_module_version": "1.2.0",
          "model_name": "LayoutModel",
          "state": {
            "_model_module": "@jupyter-widgets/base",
            "_model_module_version": "1.2.0",
            "_model_name": "LayoutModel",
            "_view_count": null,
            "_view_module": "@jupyter-widgets/base",
            "_view_module_version": "1.2.0",
            "_view_name": "LayoutView",
            "align_content": null,
            "align_items": null,
            "align_self": null,
            "border": null,
            "bottom": null,
            "display": null,
            "flex": null,
            "flex_flow": null,
            "grid_area": null,
            "grid_auto_columns": null,
            "grid_auto_flow": null,
            "grid_auto_rows": null,
            "grid_column": null,
            "grid_gap": null,
            "grid_row": null,
            "grid_template_areas": null,
            "grid_template_columns": null,
            "grid_template_rows": null,
            "height": null,
            "justify_content": null,
            "justify_items": null,
            "left": null,
            "margin": null,
            "max_height": null,
            "max_width": null,
            "min_height": null,
            "min_width": null,
            "object_fit": null,
            "object_position": null,
            "order": null,
            "overflow": null,
            "overflow_x": null,
            "overflow_y": null,
            "padding": null,
            "right": null,
            "top": null,
            "visibility": null,
            "width": null
          }
        },
        "c3c1f711dba5458b9f45acb8b65a2ffc": {
          "model_module": "@jupyter-widgets/controls",
          "model_module_version": "1.5.0",
          "model_name": "DescriptionStyleModel",
          "state": {
            "_model_module": "@jupyter-widgets/controls",
            "_model_module_version": "1.5.0",
            "_model_name": "DescriptionStyleModel",
            "_view_count": null,
            "_view_module": "@jupyter-widgets/base",
            "_view_module_version": "1.2.0",
            "_view_name": "StyleView",
            "description_width": ""
          }
        },
        "c41c614d8e0d430692e229b073975841": {
          "model_module": "@jupyter-widgets/controls",
          "model_module_version": "1.5.0",
          "model_name": "DescriptionStyleModel",
          "state": {
            "_model_module": "@jupyter-widgets/controls",
            "_model_module_version": "1.5.0",
            "_model_name": "DescriptionStyleModel",
            "_view_count": null,
            "_view_module": "@jupyter-widgets/base",
            "_view_module_version": "1.2.0",
            "_view_name": "StyleView",
            "description_width": ""
          }
        },
        "c53ceb4f4a3e4b3180d502c7fa6b0778": {
          "model_module": "@jupyter-widgets/controls",
          "model_module_version": "1.5.0",
          "model_name": "FloatProgressModel",
          "state": {
            "_dom_classes": [],
            "_model_module": "@jupyter-widgets/controls",
            "_model_module_version": "1.5.0",
            "_model_name": "FloatProgressModel",
            "_view_count": null,
            "_view_module": "@jupyter-widgets/controls",
            "_view_module_version": "1.5.0",
            "_view_name": "ProgressView",
            "bar_style": "",
            "description": "",
            "description_tooltip": null,
            "layout": "IPY_MODEL_c23e5cf3b70642fc90de210efaf8e1f8",
            "max": 1,
            "min": 0,
            "orientation": "horizontal",
            "style": "IPY_MODEL_909a66d4afda4ce988a3b6295d5bf546",
            "value": 1
          }
        },
        "c783459898764b03978cef552a3db10b": {
          "model_module": "@jupyter-widgets/controls",
          "model_module_version": "1.5.0",
          "model_name": "DescriptionStyleModel",
          "state": {
            "_model_module": "@jupyter-widgets/controls",
            "_model_module_version": "1.5.0",
            "_model_name": "DescriptionStyleModel",
            "_view_count": null,
            "_view_module": "@jupyter-widgets/base",
            "_view_module_version": "1.2.0",
            "_view_name": "StyleView",
            "description_width": ""
          }
        },
        "c8d32bb0baa24cbab55fabebb3519805": {
          "model_module": "@jupyter-widgets/controls",
          "model_module_version": "1.5.0",
          "model_name": "DescriptionStyleModel",
          "state": {
            "_model_module": "@jupyter-widgets/controls",
            "_model_module_version": "1.5.0",
            "_model_name": "DescriptionStyleModel",
            "_view_count": null,
            "_view_module": "@jupyter-widgets/base",
            "_view_module_version": "1.2.0",
            "_view_name": "StyleView",
            "description_width": ""
          }
        },
        "cfb22e2c3eb74053acd21545fac41953": {
          "model_module": "@jupyter-widgets/base",
          "model_module_version": "1.2.0",
          "model_name": "LayoutModel",
          "state": {
            "_model_module": "@jupyter-widgets/base",
            "_model_module_version": "1.2.0",
            "_model_name": "LayoutModel",
            "_view_count": null,
            "_view_module": "@jupyter-widgets/base",
            "_view_module_version": "1.2.0",
            "_view_name": "LayoutView",
            "align_content": null,
            "align_items": null,
            "align_self": null,
            "border": null,
            "bottom": null,
            "display": null,
            "flex": null,
            "flex_flow": null,
            "grid_area": null,
            "grid_auto_columns": null,
            "grid_auto_flow": null,
            "grid_auto_rows": null,
            "grid_column": null,
            "grid_gap": null,
            "grid_row": null,
            "grid_template_areas": null,
            "grid_template_columns": null,
            "grid_template_rows": null,
            "height": null,
            "justify_content": null,
            "justify_items": null,
            "left": null,
            "margin": null,
            "max_height": null,
            "max_width": null,
            "min_height": null,
            "min_width": null,
            "object_fit": null,
            "object_position": null,
            "order": null,
            "overflow": null,
            "overflow_x": null,
            "overflow_y": null,
            "padding": null,
            "right": null,
            "top": null,
            "visibility": null,
            "width": null
          }
        },
        "cfdeabe50919481dbbe7d10d8a026d19": {
          "model_module": "@jupyter-widgets/controls",
          "model_module_version": "1.5.0",
          "model_name": "LabelModel",
          "state": {
            "_dom_classes": [],
            "_model_module": "@jupyter-widgets/controls",
            "_model_module_version": "1.5.0",
            "_model_name": "LabelModel",
            "_view_count": null,
            "_view_module": "@jupyter-widgets/controls",
            "_view_module_version": "1.5.0",
            "_view_name": "LabelView",
            "description": "",
            "description_tooltip": null,
            "layout": "IPY_MODEL_5478641319674a6cbd2ad16bb0202520",
            "placeholder": "​",
            "style": "IPY_MODEL_fe736bd86cb648b585a401649cec605a",
            "value": "6.348 MB of 6.348 MB uploaded (0.100 MB deduped)\r"
          }
        },
        "d0a9c0526b1e4f0b957132127560c955": {
          "model_module": "@jupyter-widgets/controls",
          "model_module_version": "1.5.0",
          "model_name": "LabelModel",
          "state": {
            "_dom_classes": [],
            "_model_module": "@jupyter-widgets/controls",
            "_model_module_version": "1.5.0",
            "_model_name": "LabelModel",
            "_view_count": null,
            "_view_module": "@jupyter-widgets/controls",
            "_view_module_version": "1.5.0",
            "_view_name": "LabelView",
            "description": "",
            "description_tooltip": null,
            "layout": "IPY_MODEL_322be163a0904cada174150757371a08",
            "placeholder": "​",
            "style": "IPY_MODEL_78675a6ad5e9417dbf039c6fced65211",
            "value": "12.775 MB of 12.775 MB uploaded (0.299 MB deduped)\r"
          }
        },
        "d19e3e39a2944ad9baaa59aec47e3f14": {
          "model_module": "@jupyter-widgets/base",
          "model_module_version": "1.2.0",
          "model_name": "LayoutModel",
          "state": {
            "_model_module": "@jupyter-widgets/base",
            "_model_module_version": "1.2.0",
            "_model_name": "LayoutModel",
            "_view_count": null,
            "_view_module": "@jupyter-widgets/base",
            "_view_module_version": "1.2.0",
            "_view_name": "LayoutView",
            "align_content": null,
            "align_items": null,
            "align_self": null,
            "border": null,
            "bottom": null,
            "display": null,
            "flex": null,
            "flex_flow": null,
            "grid_area": null,
            "grid_auto_columns": null,
            "grid_auto_flow": null,
            "grid_auto_rows": null,
            "grid_column": null,
            "grid_gap": null,
            "grid_row": null,
            "grid_template_areas": null,
            "grid_template_columns": null,
            "grid_template_rows": null,
            "height": null,
            "justify_content": null,
            "justify_items": null,
            "left": null,
            "margin": null,
            "max_height": null,
            "max_width": null,
            "min_height": null,
            "min_width": null,
            "object_fit": null,
            "object_position": null,
            "order": null,
            "overflow": null,
            "overflow_x": null,
            "overflow_y": null,
            "padding": null,
            "right": null,
            "top": null,
            "visibility": null,
            "width": null
          }
        },
        "d3bb202b53e04724a5259b8a38472c2c": {
          "model_module": "@jupyter-widgets/controls",
          "model_module_version": "1.5.0",
          "model_name": "DescriptionStyleModel",
          "state": {
            "_model_module": "@jupyter-widgets/controls",
            "_model_module_version": "1.5.0",
            "_model_name": "DescriptionStyleModel",
            "_view_count": null,
            "_view_module": "@jupyter-widgets/base",
            "_view_module_version": "1.2.0",
            "_view_name": "StyleView",
            "description_width": ""
          }
        },
        "d53ff605d9fd4086928d530e3604566e": {
          "model_module": "@jupyter-widgets/base",
          "model_module_version": "1.2.0",
          "model_name": "LayoutModel",
          "state": {
            "_model_module": "@jupyter-widgets/base",
            "_model_module_version": "1.2.0",
            "_model_name": "LayoutModel",
            "_view_count": null,
            "_view_module": "@jupyter-widgets/base",
            "_view_module_version": "1.2.0",
            "_view_name": "LayoutView",
            "align_content": null,
            "align_items": null,
            "align_self": null,
            "border": null,
            "bottom": null,
            "display": null,
            "flex": null,
            "flex_flow": null,
            "grid_area": null,
            "grid_auto_columns": null,
            "grid_auto_flow": null,
            "grid_auto_rows": null,
            "grid_column": null,
            "grid_gap": null,
            "grid_row": null,
            "grid_template_areas": null,
            "grid_template_columns": null,
            "grid_template_rows": null,
            "height": null,
            "justify_content": null,
            "justify_items": null,
            "left": null,
            "margin": null,
            "max_height": null,
            "max_width": null,
            "min_height": null,
            "min_width": null,
            "object_fit": null,
            "object_position": null,
            "order": null,
            "overflow": null,
            "overflow_x": null,
            "overflow_y": null,
            "padding": null,
            "right": null,
            "top": null,
            "visibility": null,
            "width": null
          }
        },
        "d55cfab32b374eccaa88a92a11aa4f5e": {
          "model_module": "@jupyter-widgets/controls",
          "model_module_version": "1.5.0",
          "model_name": "FloatProgressModel",
          "state": {
            "_dom_classes": [],
            "_model_module": "@jupyter-widgets/controls",
            "_model_module_version": "1.5.0",
            "_model_name": "FloatProgressModel",
            "_view_count": null,
            "_view_module": "@jupyter-widgets/controls",
            "_view_module_version": "1.5.0",
            "_view_name": "ProgressView",
            "bar_style": "",
            "description": "",
            "description_tooltip": null,
            "layout": "IPY_MODEL_212d63237ecc42f4b5e39d8a8c411e4c",
            "max": 1,
            "min": 0,
            "orientation": "horizontal",
            "style": "IPY_MODEL_0dc8f3314acd4f6ba5fd18734619dfc4",
            "value": 1
          }
        },
        "dd1bebaee9b645be987af5a86864c764": {
          "model_module": "@jupyter-widgets/controls",
          "model_module_version": "1.5.0",
          "model_name": "VBoxModel",
          "state": {
            "_dom_classes": [],
            "_model_module": "@jupyter-widgets/controls",
            "_model_module_version": "1.5.0",
            "_model_name": "VBoxModel",
            "_view_count": null,
            "_view_module": "@jupyter-widgets/controls",
            "_view_module_version": "1.5.0",
            "_view_name": "VBoxView",
            "box_style": "",
            "children": [
              "IPY_MODEL_1ae533011d594880a37abf147e22ccab",
              "IPY_MODEL_bf15f5dd59d64199984ec9922741bce5"
            ],
            "layout": "IPY_MODEL_96f7b8302513419da100b2246d096dcb"
          }
        },
        "df9cb4fa5b2b40ec8be0068d0bb98408": {
          "model_module": "@jupyter-widgets/controls",
          "model_module_version": "1.5.0",
          "model_name": "LabelModel",
          "state": {
            "_dom_classes": [],
            "_model_module": "@jupyter-widgets/controls",
            "_model_module_version": "1.5.0",
            "_model_name": "LabelModel",
            "_view_count": null,
            "_view_module": "@jupyter-widgets/controls",
            "_view_module_version": "1.5.0",
            "_view_name": "LabelView",
            "description": "",
            "description_tooltip": null,
            "layout": "IPY_MODEL_6d2a7db4f0d64fb4bb993ee53364eab6",
            "placeholder": "​",
            "style": "IPY_MODEL_889b14dafba6447f861402f5364a9ba1",
            "value": "56.008 MB of 57.238 MB uploaded (1.597 MB deduped)\r"
          }
        },
        "e7745ed586904aeb9720bf2e4afdadb6": {
          "model_module": "@jupyter-widgets/controls",
          "model_module_version": "1.5.0",
          "model_name": "ProgressStyleModel",
          "state": {
            "_model_module": "@jupyter-widgets/controls",
            "_model_module_version": "1.5.0",
            "_model_name": "ProgressStyleModel",
            "_view_count": null,
            "_view_module": "@jupyter-widgets/base",
            "_view_module_version": "1.2.0",
            "_view_name": "StyleView",
            "bar_color": null,
            "description_width": ""
          }
        },
        "e7a3ae8991104c8bab5b99a71a3e0f88": {
          "model_module": "@jupyter-widgets/controls",
          "model_module_version": "1.5.0",
          "model_name": "ProgressStyleModel",
          "state": {
            "_model_module": "@jupyter-widgets/controls",
            "_model_module_version": "1.5.0",
            "_model_name": "ProgressStyleModel",
            "_view_count": null,
            "_view_module": "@jupyter-widgets/base",
            "_view_module_version": "1.2.0",
            "_view_name": "StyleView",
            "bar_color": null,
            "description_width": ""
          }
        },
        "edbe47bdbfda4659b99ed447c0692f5c": {
          "model_module": "@jupyter-widgets/base",
          "model_module_version": "1.2.0",
          "model_name": "LayoutModel",
          "state": {
            "_model_module": "@jupyter-widgets/base",
            "_model_module_version": "1.2.0",
            "_model_name": "LayoutModel",
            "_view_count": null,
            "_view_module": "@jupyter-widgets/base",
            "_view_module_version": "1.2.0",
            "_view_name": "LayoutView",
            "align_content": null,
            "align_items": null,
            "align_self": null,
            "border": null,
            "bottom": null,
            "display": null,
            "flex": null,
            "flex_flow": null,
            "grid_area": null,
            "grid_auto_columns": null,
            "grid_auto_flow": null,
            "grid_auto_rows": null,
            "grid_column": null,
            "grid_gap": null,
            "grid_row": null,
            "grid_template_areas": null,
            "grid_template_columns": null,
            "grid_template_rows": null,
            "height": null,
            "justify_content": null,
            "justify_items": null,
            "left": null,
            "margin": null,
            "max_height": null,
            "max_width": null,
            "min_height": null,
            "min_width": null,
            "object_fit": null,
            "object_position": null,
            "order": null,
            "overflow": null,
            "overflow_x": null,
            "overflow_y": null,
            "padding": null,
            "right": null,
            "top": null,
            "visibility": null,
            "width": null
          }
        },
        "ee4c94c0b4db40b2bf60a5dfeb9173d3": {
          "model_module": "@jupyter-widgets/base",
          "model_module_version": "1.2.0",
          "model_name": "LayoutModel",
          "state": {
            "_model_module": "@jupyter-widgets/base",
            "_model_module_version": "1.2.0",
            "_model_name": "LayoutModel",
            "_view_count": null,
            "_view_module": "@jupyter-widgets/base",
            "_view_module_version": "1.2.0",
            "_view_name": "LayoutView",
            "align_content": null,
            "align_items": null,
            "align_self": null,
            "border": null,
            "bottom": null,
            "display": null,
            "flex": null,
            "flex_flow": null,
            "grid_area": null,
            "grid_auto_columns": null,
            "grid_auto_flow": null,
            "grid_auto_rows": null,
            "grid_column": null,
            "grid_gap": null,
            "grid_row": null,
            "grid_template_areas": null,
            "grid_template_columns": null,
            "grid_template_rows": null,
            "height": null,
            "justify_content": null,
            "justify_items": null,
            "left": null,
            "margin": null,
            "max_height": null,
            "max_width": null,
            "min_height": null,
            "min_width": null,
            "object_fit": null,
            "object_position": null,
            "order": null,
            "overflow": null,
            "overflow_x": null,
            "overflow_y": null,
            "padding": null,
            "right": null,
            "top": null,
            "visibility": null,
            "width": null
          }
        },
        "ef479ad668c4405199f7db613c657c0a": {
          "model_module": "@jupyter-widgets/controls",
          "model_module_version": "1.5.0",
          "model_name": "DescriptionStyleModel",
          "state": {
            "_model_module": "@jupyter-widgets/controls",
            "_model_module_version": "1.5.0",
            "_model_name": "DescriptionStyleModel",
            "_view_count": null,
            "_view_module": "@jupyter-widgets/base",
            "_view_module_version": "1.2.0",
            "_view_name": "StyleView",
            "description_width": ""
          }
        },
        "f5e73f35cad24674a4dd5a4281a778ad": {
          "model_module": "@jupyter-widgets/base",
          "model_module_version": "1.2.0",
          "model_name": "LayoutModel",
          "state": {
            "_model_module": "@jupyter-widgets/base",
            "_model_module_version": "1.2.0",
            "_model_name": "LayoutModel",
            "_view_count": null,
            "_view_module": "@jupyter-widgets/base",
            "_view_module_version": "1.2.0",
            "_view_name": "LayoutView",
            "align_content": null,
            "align_items": null,
            "align_self": null,
            "border": null,
            "bottom": null,
            "display": null,
            "flex": null,
            "flex_flow": null,
            "grid_area": null,
            "grid_auto_columns": null,
            "grid_auto_flow": null,
            "grid_auto_rows": null,
            "grid_column": null,
            "grid_gap": null,
            "grid_row": null,
            "grid_template_areas": null,
            "grid_template_columns": null,
            "grid_template_rows": null,
            "height": null,
            "justify_content": null,
            "justify_items": null,
            "left": null,
            "margin": null,
            "max_height": null,
            "max_width": null,
            "min_height": null,
            "min_width": null,
            "object_fit": null,
            "object_position": null,
            "order": null,
            "overflow": null,
            "overflow_x": null,
            "overflow_y": null,
            "padding": null,
            "right": null,
            "top": null,
            "visibility": null,
            "width": null
          }
        },
        "f720015c1d10495cb9d5c365ff71d863": {
          "model_module": "@jupyter-widgets/controls",
          "model_module_version": "1.5.0",
          "model_name": "LabelModel",
          "state": {
            "_dom_classes": [],
            "_model_module": "@jupyter-widgets/controls",
            "_model_module_version": "1.5.0",
            "_model_name": "LabelModel",
            "_view_count": null,
            "_view_module": "@jupyter-widgets/controls",
            "_view_module_version": "1.5.0",
            "_view_name": "LabelView",
            "description": "",
            "description_tooltip": null,
            "layout": "IPY_MODEL_3e53f8aa6f0f4ba5a56ffeaefb3da2eb",
            "placeholder": "​",
            "style": "IPY_MODEL_17092e41a62747478326514a5309646f",
            "value": "Waiting for wandb.init()...\r"
          }
        },
        "f8b5d52263d347f4ac52af869afbe16b": {
          "model_module": "@jupyter-widgets/controls",
          "model_module_version": "1.5.0",
          "model_name": "VBoxModel",
          "state": {
            "_dom_classes": [],
            "_model_module": "@jupyter-widgets/controls",
            "_model_module_version": "1.5.0",
            "_model_name": "VBoxModel",
            "_view_count": null,
            "_view_module": "@jupyter-widgets/controls",
            "_view_module_version": "1.5.0",
            "_view_name": "VBoxView",
            "box_style": "",
            "children": [
              "IPY_MODEL_d0a9c0526b1e4f0b957132127560c955",
              "IPY_MODEL_1c69ccc52be540a4b03a9b246e33d212"
            ],
            "layout": "IPY_MODEL_77a42384e28a4668927f862cdbf3f2a2"
          }
        },
        "fd1209dcae384ec88d99894c604029a0": {
          "model_module": "@jupyter-widgets/controls",
          "model_module_version": "1.5.0",
          "model_name": "LabelModel",
          "state": {
            "_dom_classes": [],
            "_model_module": "@jupyter-widgets/controls",
            "_model_module_version": "1.5.0",
            "_model_name": "LabelModel",
            "_view_count": null,
            "_view_module": "@jupyter-widgets/controls",
            "_view_module_version": "1.5.0",
            "_view_name": "LabelView",
            "description": "",
            "description_tooltip": null,
            "layout": "IPY_MODEL_b2ac70c571244f2bbf15044f74f08da8",
            "placeholder": "​",
            "style": "IPY_MODEL_ef479ad668c4405199f7db613c657c0a",
            "value": "37.707 MB of 37.707 MB uploaded (0.200 MB deduped)\r"
          }
        },
        "fe736bd86cb648b585a401649cec605a": {
          "model_module": "@jupyter-widgets/controls",
          "model_module_version": "1.5.0",
          "model_name": "DescriptionStyleModel",
          "state": {
            "_model_module": "@jupyter-widgets/controls",
            "_model_module_version": "1.5.0",
            "_model_name": "DescriptionStyleModel",
            "_view_count": null,
            "_view_module": "@jupyter-widgets/base",
            "_view_module_version": "1.2.0",
            "_view_name": "StyleView",
            "description_width": ""
          }
        },
        "feaa9268d25649d0b3d43b51420c5e6e": {
          "model_module": "@jupyter-widgets/controls",
          "model_module_version": "1.5.0",
          "model_name": "LabelModel",
          "state": {
            "_dom_classes": [],
            "_model_module": "@jupyter-widgets/controls",
            "_model_module_version": "1.5.0",
            "_model_name": "LabelModel",
            "_view_count": null,
            "_view_module": "@jupyter-widgets/controls",
            "_view_module_version": "1.5.0",
            "_view_name": "LabelView",
            "description": "",
            "description_tooltip": null,
            "layout": "IPY_MODEL_1a76d55e377d4b50ba7036259bec4916",
            "placeholder": "​",
            "style": "IPY_MODEL_c8d32bb0baa24cbab55fabebb3519805",
            "value": "53.429 MB of 53.429 MB uploaded (0.698 MB deduped)\r"
          }
        },
        "ff58597a590949c69bbd58d5a711de85": {
          "model_module": "@jupyter-widgets/controls",
          "model_module_version": "1.5.0",
          "model_name": "LabelModel",
          "state": {
            "_dom_classes": [],
            "_model_module": "@jupyter-widgets/controls",
            "_model_module_version": "1.5.0",
            "_model_name": "LabelModel",
            "_view_count": null,
            "_view_module": "@jupyter-widgets/controls",
            "_view_module_version": "1.5.0",
            "_view_name": "LabelView",
            "description": "",
            "description_tooltip": null,
            "layout": "IPY_MODEL_bf56a6fb917c452e9ae142cf4662a764",
            "placeholder": "​",
            "style": "IPY_MODEL_c783459898764b03978cef552a3db10b",
            "value": "59.506 MB of 60.410 MB uploaded (1.896 MB deduped)\r"
          }
        }
      }
    }
  },
  "nbformat": 4,
  "nbformat_minor": 0
}
