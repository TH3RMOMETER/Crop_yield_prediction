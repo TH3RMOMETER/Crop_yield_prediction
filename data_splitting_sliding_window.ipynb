{
 "cells": [
  {
   "cell_type": "code",
   "execution_count": 40,
   "metadata": {},
   "outputs": [],
   "source": [
    "import pandas as pd\n",
    "from tsai.all import *\n",
    "import numpy as np\n",
    "\n",
    "from sklearn.model_selection import train_test_split\n",
    "\n",
    "from mlxtend.evaluate.time_series import (\n",
    "    GroupTimeSeriesSplit,\n",
    "    plot_splits,\n",
    "    print_cv_info,\n",
    "    print_split_info,\n",
    ")\n",
    "\n",
    "from tensorflow.keras import Input, Model\n",
    "from tensorflow.keras.layers import Dense\n",
    "from tensorflow.keras.models import load_model\n",
    "import tensorflow.keras as keras\n",
    "import tensorflow.keras.backend as K\n",
    "from tensorflow.keras.callbacks import ReduceLROnPlateau"
   ]
  },
  {
   "cell_type": "code",
   "execution_count": 31,
   "metadata": {},
   "outputs": [
    {
     "data": {
      "text/plain": [
       "<module 'tcn' from 'C:\\\\Users\\\\gijst\\\\Documents\\\\Uni\\\\scriptie\\\\RUL-prediction\\\\keras-tcn-master\\\\tcn\\\\tcn.py'>"
      ]
     },
     "execution_count": 31,
     "metadata": {},
     "output_type": "execute_result"
    }
   ],
   "source": [
    "from importlib.machinery import SourceFileLoader\n",
    "SourceFileLoader(\n",
    "    'tcn', r'C:\\Users\\gijst\\Documents\\Uni\\scriptie\\RUL-prediction\\keras-tcn-master\\tcn\\tcn.py').load_module()"
   ]
  },
  {
   "cell_type": "code",
   "execution_count": 2,
   "metadata": {},
   "outputs": [],
   "source": [
    "def norm_df(df,cols):\n",
    "  for col in cols:\n",
    "    df[col] = df[col] / df[col].max()\n",
    "  return df"
   ]
  },
  {
   "cell_type": "code",
   "execution_count": 3,
   "metadata": {},
   "outputs": [],
   "source": [
    "df_shift7 = pd.read_pickle('merge_df_shift_7.pickle')\n",
    "df_shift7 = df_shift7[['date', 'NDVI_mean', 'NDMI_mean', 'NBSI_mean', 'name', 'tavg',  'prcp',\n",
    "       'NDVI_mean_shift', 'tavg_shift', 'prcp_shift']]\n",
    "df_shift14 = pd.read_pickle('merge_df_shift_14.pickle')\n",
    "df_shift14 = df_shift14[['date', 'NDVI_mean', 'NDMI_mean', 'NBSI_mean', 'name', 'tavg',\n",
    "        'prcp','NDVI_mean_shift', 'tavg_shift', 'prcp_shift']]"
   ]
  },
  {
   "cell_type": "code",
   "execution_count": 4,
   "metadata": {},
   "outputs": [],
   "source": [
    "\n",
    "df_shift7 = norm_df(df_shift7, ['tavg','prcp','tavg_shift','prcp_shift'])\n",
    "df_shift14 = norm_df(df_shift14, ['tavg','prcp','tavg_shift','prcp_shift'])\n",
    "df_shift7.dropna(axis = 0, inplace = True)\n",
    "df_shift14.dropna(axis = 0, inplace = True)"
   ]
  },
  {
   "cell_type": "code",
   "execution_count": 5,
   "metadata": {},
   "outputs": [
    {
     "data": {
      "text/plain": [
       "Index(['date', 'NDVI_mean', 'NDMI_mean', 'NBSI_mean', 'name', 'tavg', 'prcp',\n",
       "       'NDVI_mean_shift', 'tavg_shift', 'prcp_shift'],\n",
       "      dtype='object')"
      ]
     },
     "execution_count": 5,
     "metadata": {},
     "output_type": "execute_result"
    }
   ],
   "source": [
    "df_shift14.columns"
   ]
  },
  {
   "cell_type": "code",
   "execution_count": 6,
   "metadata": {},
   "outputs": [],
   "source": [
    "x_cols = ['NDVI_mean', 'NDMI_mean', 'NBSI_mean', 'name', 'tavg_shift', 'prcp_shift']"
   ]
  },
  {
   "cell_type": "code",
   "execution_count": 7,
   "metadata": {},
   "outputs": [
    {
     "name": "stdout",
     "output_type": "stream",
     "text": [
      "processing data...\n"
     ]
    },
    {
     "data": {
      "text/html": [
       "\n",
       "<style>\n",
       "    /* Turns off some styling */\n",
       "    progress {\n",
       "        /* gets rid of default border in Firefox and Opera. */\n",
       "        border: none;\n",
       "        /* Needs to be in here for Safari polyfill so background images work as expected. */\n",
       "        background-size: auto;\n",
       "    }\n",
       "    progress:not([value]), progress:not([value])::-webkit-progress-bar {\n",
       "        background: repeating-linear-gradient(45deg, #7e7e7e, #7e7e7e 10px, #5c5c5c 10px, #5c5c5c 20px);\n",
       "    }\n",
       "    .progress-bar-interrupted, .progress-bar-interrupted::-webkit-progress-bar {\n",
       "        background: #F44336;\n",
       "    }\n",
       "</style>\n"
      ],
      "text/plain": [
       "<IPython.core.display.HTML object>"
      ]
     },
     "metadata": {},
     "output_type": "display_data"
    },
    {
     "data": {
      "text/html": [],
      "text/plain": [
       "<IPython.core.display.HTML object>"
      ]
     },
     "metadata": {},
     "output_type": "display_data"
    },
    {
     "name": "stdout",
     "output_type": "stream",
     "text": [
      "...data processed\n",
      "concatenating X...\n",
      "...X concatenated\n",
      "concatenating y...\n",
      "...y concatenated\n"
     ]
    }
   ],
   "source": [
    "sliding_window_X, sliding_window_y = SlidingWindowPanel(window_len=14, unique_id_cols=[\n",
    "                                                        'name'], get_x=x_cols, get_y=['NDVI_mean_shift'], stride=1)(df_shift14)\n"
   ]
  },
  {
   "cell_type": "code",
   "execution_count": 35,
   "metadata": {},
   "outputs": [
    {
     "data": {
      "text/html": [
       "<div>\n",
       "<style scoped>\n",
       "    .dataframe tbody tr th:only-of-type {\n",
       "        vertical-align: middle;\n",
       "    }\n",
       "\n",
       "    .dataframe tbody tr th {\n",
       "        vertical-align: top;\n",
       "    }\n",
       "\n",
       "    .dataframe thead th {\n",
       "        text-align: right;\n",
       "    }\n",
       "</style>\n",
       "<table border=\"1\" class=\"dataframe\">\n",
       "  <thead>\n",
       "    <tr style=\"text-align: right;\">\n",
       "      <th></th>\n",
       "      <th>date</th>\n",
       "      <th>NDVI_mean</th>\n",
       "      <th>NDMI_mean</th>\n",
       "      <th>NBSI_mean</th>\n",
       "      <th>name</th>\n",
       "      <th>tavg</th>\n",
       "      <th>prcp</th>\n",
       "      <th>NDVI_mean_shift</th>\n",
       "      <th>tavg_shift</th>\n",
       "      <th>prcp_shift</th>\n",
       "    </tr>\n",
       "  </thead>\n",
       "  <tbody>\n",
       "    <tr>\n",
       "      <th>0</th>\n",
       "      <td>2017-01-13</td>\n",
       "      <td>0.028000</td>\n",
       "      <td>-0.325800</td>\n",
       "      <td>0.004000</td>\n",
       "      <td>almelo</td>\n",
       "      <td>0.045307</td>\n",
       "      <td>0.229358</td>\n",
       "      <td>0.344275</td>\n",
       "      <td>0.022654</td>\n",
       "      <td>0.000000</td>\n",
       "    </tr>\n",
       "    <tr>\n",
       "      <th>1</th>\n",
       "      <td>2017-01-14</td>\n",
       "      <td>0.052914</td>\n",
       "      <td>-0.308897</td>\n",
       "      <td>0.011951</td>\n",
       "      <td>almelo</td>\n",
       "      <td>0.048544</td>\n",
       "      <td>0.055046</td>\n",
       "      <td>0.363848</td>\n",
       "      <td>0.187702</td>\n",
       "      <td>0.000000</td>\n",
       "    </tr>\n",
       "    <tr>\n",
       "      <th>2</th>\n",
       "      <td>2017-01-15</td>\n",
       "      <td>0.077509</td>\n",
       "      <td>-0.292253</td>\n",
       "      <td>0.019659</td>\n",
       "      <td>almelo</td>\n",
       "      <td>-0.045307</td>\n",
       "      <td>0.010321</td>\n",
       "      <td>0.382967</td>\n",
       "      <td>0.152104</td>\n",
       "      <td>0.021789</td>\n",
       "    </tr>\n",
       "    <tr>\n",
       "      <th>3</th>\n",
       "      <td>2017-01-16</td>\n",
       "      <td>0.101775</td>\n",
       "      <td>-0.275888</td>\n",
       "      <td>0.027123</td>\n",
       "      <td>almelo</td>\n",
       "      <td>-0.100324</td>\n",
       "      <td>0.000000</td>\n",
       "      <td>0.401623</td>\n",
       "      <td>0.114825</td>\n",
       "      <td>0.108945</td>\n",
       "    </tr>\n",
       "    <tr>\n",
       "      <th>4</th>\n",
       "      <td>2017-01-17</td>\n",
       "      <td>0.125704</td>\n",
       "      <td>-0.259820</td>\n",
       "      <td>0.034345</td>\n",
       "      <td>almelo</td>\n",
       "      <td>-0.132686</td>\n",
       "      <td>0.000000</td>\n",
       "      <td>0.419806</td>\n",
       "      <td>0.077670</td>\n",
       "      <td>0.000000</td>\n",
       "    </tr>\n",
       "    <tr>\n",
       "      <th>...</th>\n",
       "      <td>...</td>\n",
       "      <td>...</td>\n",
       "      <td>...</td>\n",
       "      <td>...</td>\n",
       "      <td>...</td>\n",
       "      <td>...</td>\n",
       "      <td>...</td>\n",
       "      <td>...</td>\n",
       "      <td>...</td>\n",
       "      <td>...</td>\n",
       "    </tr>\n",
       "    <tr>\n",
       "      <th>49223</th>\n",
       "      <td>2022-12-08</td>\n",
       "      <td>0.891592</td>\n",
       "      <td>-0.446221</td>\n",
       "      <td>0.120424</td>\n",
       "      <td>woerden</td>\n",
       "      <td>0.074434</td>\n",
       "      <td>0.053899</td>\n",
       "      <td>0.791886</td>\n",
       "      <td>0.262136</td>\n",
       "      <td>0.047018</td>\n",
       "    </tr>\n",
       "    <tr>\n",
       "      <th>49224</th>\n",
       "      <td>2022-12-09</td>\n",
       "      <td>0.891439</td>\n",
       "      <td>-0.449849</td>\n",
       "      <td>0.118250</td>\n",
       "      <td>woerden</td>\n",
       "      <td>-0.045307</td>\n",
       "      <td>0.000000</td>\n",
       "      <td>0.772311</td>\n",
       "      <td>0.294498</td>\n",
       "      <td>0.134174</td>\n",
       "    </tr>\n",
       "    <tr>\n",
       "      <th>49225</th>\n",
       "      <td>2022-12-10</td>\n",
       "      <td>0.890687</td>\n",
       "      <td>-0.452987</td>\n",
       "      <td>0.116155</td>\n",
       "      <td>woerden</td>\n",
       "      <td>-0.012945</td>\n",
       "      <td>0.000000</td>\n",
       "      <td>0.751186</td>\n",
       "      <td>0.275081</td>\n",
       "      <td>0.001147</td>\n",
       "    </tr>\n",
       "    <tr>\n",
       "      <th>49226</th>\n",
       "      <td>2022-12-11</td>\n",
       "      <td>0.889263</td>\n",
       "      <td>-0.455576</td>\n",
       "      <td>0.114149</td>\n",
       "      <td>woerden</td>\n",
       "      <td>-0.006472</td>\n",
       "      <td>0.000000</td>\n",
       "      <td>0.728640</td>\n",
       "      <td>0.262136</td>\n",
       "      <td>0.048165</td>\n",
       "    </tr>\n",
       "    <tr>\n",
       "      <th>49227</th>\n",
       "      <td>2022-12-12</td>\n",
       "      <td>0.887097</td>\n",
       "      <td>-0.457555</td>\n",
       "      <td>0.112243</td>\n",
       "      <td>woerden</td>\n",
       "      <td>-0.051780</td>\n",
       "      <td>0.000000</td>\n",
       "      <td>0.704800</td>\n",
       "      <td>0.223301</td>\n",
       "      <td>0.010321</td>\n",
       "    </tr>\n",
       "  </tbody>\n",
       "</table>\n",
       "<p>49228 rows × 10 columns</p>\n",
       "</div>"
      ],
      "text/plain": [
       "             date  NDVI_mean  NDMI_mean  NBSI_mean     name      tavg  \\\n",
       "0      2017-01-13   0.028000  -0.325800   0.004000   almelo  0.045307   \n",
       "1      2017-01-14   0.052914  -0.308897   0.011951   almelo  0.048544   \n",
       "2      2017-01-15   0.077509  -0.292253   0.019659   almelo -0.045307   \n",
       "3      2017-01-16   0.101775  -0.275888   0.027123   almelo -0.100324   \n",
       "4      2017-01-17   0.125704  -0.259820   0.034345   almelo -0.132686   \n",
       "...           ...        ...        ...        ...      ...       ...   \n",
       "49223  2022-12-08   0.891592  -0.446221   0.120424  woerden  0.074434   \n",
       "49224  2022-12-09   0.891439  -0.449849   0.118250  woerden -0.045307   \n",
       "49225  2022-12-10   0.890687  -0.452987   0.116155  woerden -0.012945   \n",
       "49226  2022-12-11   0.889263  -0.455576   0.114149  woerden -0.006472   \n",
       "49227  2022-12-12   0.887097  -0.457555   0.112243  woerden -0.051780   \n",
       "\n",
       "           prcp  NDVI_mean_shift  tavg_shift  prcp_shift  \n",
       "0      0.229358         0.344275    0.022654    0.000000  \n",
       "1      0.055046         0.363848    0.187702    0.000000  \n",
       "2      0.010321         0.382967    0.152104    0.021789  \n",
       "3      0.000000         0.401623    0.114825    0.108945  \n",
       "4      0.000000         0.419806    0.077670    0.000000  \n",
       "...         ...              ...         ...         ...  \n",
       "49223  0.053899         0.791886    0.262136    0.047018  \n",
       "49224  0.000000         0.772311    0.294498    0.134174  \n",
       "49225  0.000000         0.751186    0.275081    0.001147  \n",
       "49226  0.000000         0.728640    0.262136    0.048165  \n",
       "49227  0.000000         0.704800    0.223301    0.010321  \n",
       "\n",
       "[49228 rows x 10 columns]"
      ]
     },
     "execution_count": 35,
     "metadata": {},
     "output_type": "execute_result"
    }
   ],
   "source": [
    "df_shift14"
   ]
  },
  {
   "cell_type": "code",
   "execution_count": 46,
   "metadata": {},
   "outputs": [
    {
     "data": {
      "text/plain": [
       "(14, 48906, 6)"
      ]
     },
     "execution_count": 46,
     "metadata": {},
     "output_type": "execute_result"
    }
   ],
   "source": [
    "swp_X_T = np.moveaxis(sliding_window_X, 0, 1)\n",
    "swp_X_T = np.moveaxis(swp_X_T, 0, -1)\n",
    "swp_X_T = np.moveaxis(swp_X_T, 0, 1)\n",
    "swp_X_T.shape"
   ]
  },
  {
   "cell_type": "code",
   "execution_count": 39,
   "metadata": {},
   "outputs": [
    {
     "data": {
      "text/plain": [
       "(48906, 6, 14)"
      ]
     },
     "execution_count": 39,
     "metadata": {},
     "output_type": "execute_result"
    }
   ],
   "source": [
    "sliding_window_X.shape"
   ]
  },
  {
   "cell_type": "code",
   "execution_count": 12,
   "metadata": {},
   "outputs": [],
   "source": [
    "X_train, X_test, y_train, y_test = train_test_split(sliding_window_X, sliding_window_y,\n",
    "                                                    random_state=42, shuffle=False, test_size=0.2)"
   ]
  },
  {
   "cell_type": "code",
   "execution_count": 15,
   "metadata": {},
   "outputs": [],
   "source": [
    "model = TCN(c_in=6, c_out=1) "
   ]
  },
  {
   "cell_type": "code",
   "execution_count": 29,
   "metadata": {},
   "outputs": [
    {
     "data": {
      "text/plain": [
       "[PhysicalDevice(name='/physical_device:CPU:0', device_type='CPU'),\n",
       " PhysicalDevice(name='/physical_device:GPU:0', device_type='GPU')]"
      ]
     },
     "execution_count": 29,
     "metadata": {},
     "output_type": "execute_result"
    }
   ],
   "source": [
    "import tensorflow as tf\n",
    "from tcn import TCN, compiled_tcn\n",
    "tf.config.list_physical_devices()\n"
   ]
  },
  {
   "cell_type": "code",
   "execution_count": 33,
   "metadata": {},
   "outputs": [],
   "source": [
    "def root_mean_squared_error(y_true, y_pred):\n",
    "    return K.sqrt(K.mean(K.square(y_pred - y_true)))"
   ]
  },
  {
   "cell_type": "code",
   "execution_count": null,
   "metadata": {},
   "outputs": [],
   "source": [
    "model = compiled_tcn(num_feat=swp_X_T.shape[-1], )"
   ]
  },
  {
   "cell_type": "code",
   "execution_count": 23,
   "metadata": {},
   "outputs": [
    {
     "data": {
      "text/plain": [
       "array([0.5734838 , 0.58582443, 0.597576  , ..., 0.74152637, 0.7494    ,\n",
       "       0.7586865 ], dtype=float32)"
      ]
     },
     "execution_count": 23,
     "metadata": {},
     "output_type": "execute_result"
    }
   ],
   "source": [
    "def compile_model(swp_X):\n",
    "\n",
    "    # output tcn2\n",
    "    nb_features = swp_X.shape[2]\n",
    "\n",
    "    i = Input(shape=(swp_X.shape[1], nb_features))\n",
    "\n",
    "    m = TCN(nb_filters=64, kernel_size=3, dropout_rate=0.6, dilations=[\n",
    "            1, 2, 4, 8, 16, 32], return_sequences=True, activation='relu')(i)\n",
    "    m = TCN(nb_filters=32, dropout_rate=0.6, kernel_size=3, dilations=[\n",
    "            1, 2, 4, 8, 16, 32], return_sequences=False, activation='relu')(m)\n",
    "    m = Dense(1, activation='linear')(m)\n",
    "    model = Model(inputs=[i], outputs=[m])\n",
    "\n",
    "    model.summary()\n",
    "    opt = tf.keras.optimizers.Adam()\n",
    "    model.compile(loss=root_mean_squared_error, optimizer=opt,\n",
    "                  metrics=['mae', root_mean_squared_error])\n",
    "    return model"
   ]
  },
  {
   "cell_type": "code",
   "execution_count": 20,
   "metadata": {},
   "outputs": [
    {
     "name": "stdout",
     "output_type": "stream",
     "text": [
      "os              : Windows-10-10.0.22621-SP0\n",
      "python          : 3.9.13\n",
      "tsai            : 0.3.4\n",
      "fastai          : 2.7.10\n",
      "fastcore        : 1.5.27\n",
      "torch           : 1.13.1+cpu\n",
      "device          : cpu\n",
      "cpu cores       : 6\n",
      "threads per cpu : 2\n",
      "RAM             : 15.76 GB\n",
      "GPU memory      : [4.0] GB\n"
     ]
    }
   ],
   "source": [
    "my_setup()"
   ]
  },
  {
   "cell_type": "code",
   "execution_count": 21,
   "metadata": {},
   "outputs": [
    {
     "name": "stdout",
     "output_type": "stream",
     "text": [
      "X      - shape: [48906 samples x 6 features x 14 timesteps]  type: ndarray  dtype:object  isnan: could not be checked\n",
      "y      - shape: (48906,)  type: ndarray  dtype:float32  isnan: 0\n"
     ]
    }
   ],
   "source": [
    "check_data(sliding_window_X, sliding_window_y, splits=)"
   ]
  },
  {
   "cell_type": "code",
   "execution_count": null,
   "metadata": {},
   "outputs": [],
   "source": []
  }
 ],
 "metadata": {
  "kernelspec": {
   "display_name": "base",
   "language": "python",
   "name": "python3"
  },
  "language_info": {
   "codemirror_mode": {
    "name": "ipython",
    "version": 3
   },
   "file_extension": ".py",
   "mimetype": "text/x-python",
   "name": "python",
   "nbconvert_exporter": "python",
   "pygments_lexer": "ipython3",
   "version": "3.9.13"
  },
  "orig_nbformat": 4,
  "vscode": {
   "interpreter": {
    "hash": "ad2bdc8ecc057115af97d19610ffacc2b4e99fae6737bb82f5d7fb13d2f2c186"
   }
  }
 },
 "nbformat": 4,
 "nbformat_minor": 2
}
