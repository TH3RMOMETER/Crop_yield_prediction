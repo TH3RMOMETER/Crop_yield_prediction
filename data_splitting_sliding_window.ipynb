{
  "cells": [
    {
      "cell_type": "code",
      "execution_count": 1,
      "metadata": {
        "id": "HSACEcnrKkJx"
      },
      "outputs": [],
      "source": [
        "import pandas as pd\n",
        "from tsai.all import SlidingWindowPanel\n",
        "import numpy as np\n",
        "\n",
        "from sklearn.model_selection import train_test_split\n",
        "\n",
        "from tensorflow.keras import Input, Model\n",
        "from tensorflow.keras.layers import Dense\n",
        "from tensorflow.keras.models import load_model\n",
        "import tensorflow.keras as keras\n",
        "import tensorflow.keras.backend as K\n",
        "from tensorflow.keras.callbacks import ReduceLROnPlateau"
      ]
    },
    {
      "cell_type": "code",
      "execution_count": 2,
      "metadata": {
        "colab": {
          "base_uri": "https://localhost:8080/"
        },
        "id": "d6Mhc8R9KkJz",
        "outputId": "ada11ddd-30ea-4805-f31d-e089c05d67d2"
      },
      "outputs": [
        {
          "data": {
            "text/plain": [
              "<module 'tcn' from '/content/tcn/tcn.py'>"
            ]
          },
          "execution_count": 2,
          "metadata": {},
          "output_type": "execute_result"
        }
      ],
      "source": [
        "from importlib.machinery import SourceFileLoader\n",
        "SourceFileLoader(\n",
        "    'tcn', r'/content/tcn/tcn.py').load_module()"
      ]
    },
    {
      "cell_type": "code",
      "execution_count": 3,
      "metadata": {
        "id": "8wrJ9Vy9KkJ0"
      },
      "outputs": [],
      "source": [
        "def norm_df(df,cols):\n",
        "  for col in cols:\n",
        "    df[col] = df[col] / df[col].max()\n",
        "  return df"
      ]
    },
    {
      "cell_type": "code",
      "execution_count": 7,
      "metadata": {
        "id": "Ypcn2jkYKkJ0"
      },
      "outputs": [],
      "source": [
        "df_shift7 = pd.read_pickle('merge_df_shift_7.pickle')\n",
        "df_shift7 = df_shift7[['date', 'NDVI_mean', 'NDMI_mean', 'NBSI_mean', 'name', 'tavg',  'prcp',\n",
        "       'NDVI_mean_shift', 'tavg_shift', 'prcp_shift']]\n",
        "df_shift14 = pd.read_pickle('merge_df_shift_14.pickle')\n",
        "df_shift14 = df_shift14[['date', 'NDVI_mean', 'NDMI_mean', 'NBSI_mean', 'name', 'tavg',\n",
        "        'prcp','NDVI_mean_shift', 'tavg_shift', 'prcp_shift']]"
      ]
    },
    {
      "cell_type": "code",
      "execution_count": 8,
      "metadata": {
        "id": "XMgexYNUKkJ1"
      },
      "outputs": [],
      "source": [
        "df_shift7 = norm_df(df_shift7, ['tavg','prcp','tavg_shift','prcp_shift'])\n",
        "df_shift14 = norm_df(df_shift14, ['tavg','prcp','tavg_shift','prcp_shift'])\n",
        "df_shift7.dropna(axis = 0, inplace = True)\n",
        "df_shift14.dropna(axis = 0, inplace = True)"
      ]
    },
    {
      "cell_type": "code",
      "execution_count": 9,
      "metadata": {
        "colab": {
          "base_uri": "https://localhost:8080/"
        },
        "id": "1kVeb1B3KkJ1",
        "outputId": "664942b6-882d-41f2-9b7f-663c8b20a990"
      },
      "outputs": [
        {
          "data": {
            "text/plain": [
              "Index(['date', 'NDVI_mean', 'NDMI_mean', 'NBSI_mean', 'name', 'tavg', 'prcp',\n",
              "       'NDVI_mean_shift', 'tavg_shift', 'prcp_shift'],\n",
              "      dtype='object')"
            ]
          },
          "execution_count": 9,
          "metadata": {},
          "output_type": "execute_result"
        }
      ],
      "source": [
        "df_shift14.columns"
      ]
    },
    {
      "cell_type": "code",
      "execution_count": 10,
      "metadata": {
        "id": "0MJ_iYfvKkJ1"
      },
      "outputs": [],
      "source": [
        "x_cols = ['NDVI_mean', 'NDMI_mean', 'NBSI_mean', 'tavg_shift', 'prcp_shift']"
      ]
    },
    {
      "cell_type": "code",
      "execution_count": 11,
      "metadata": {
        "colab": {
          "base_uri": "https://localhost:8080/",
          "height": 127
        },
        "id": "FlYzuIrlKkJ2",
        "outputId": "fb4ece7a-ff03-4c1d-d8e2-b5d8f00fd041"
      },
      "outputs": [
        {
          "name": "stdout",
          "output_type": "stream",
          "text": [
            "processing data...\n"
          ]
        },
        {
          "data": {
            "text/html": [
              "\n",
              "<style>\n",
              "    /* Turns off some styling */\n",
              "    progress {\n",
              "        /* gets rid of default border in Firefox and Opera. */\n",
              "        border: none;\n",
              "        /* Needs to be in here for Safari polyfill so background images work as expected. */\n",
              "        background-size: auto;\n",
              "    }\n",
              "    progress:not([value]), progress:not([value])::-webkit-progress-bar {\n",
              "        background: repeating-linear-gradient(45deg, #7e7e7e, #7e7e7e 10px, #5c5c5c 10px, #5c5c5c 20px);\n",
              "    }\n",
              "    .progress-bar-interrupted, .progress-bar-interrupted::-webkit-progress-bar {\n",
              "        background: #F44336;\n",
              "    }\n",
              "</style>\n"
            ],
            "text/plain": [
              "<IPython.core.display.HTML object>"
            ]
          },
          "metadata": {},
          "output_type": "display_data"
        },
        {
          "data": {
            "text/html": [],
            "text/plain": [
              "<IPython.core.display.HTML object>"
            ]
          },
          "metadata": {},
          "output_type": "display_data"
        },
        {
          "name": "stdout",
          "output_type": "stream",
          "text": [
            "...data processed\n",
            "concatenating X...\n",
            "...X concatenated\n",
            "concatenating y...\n",
            "...y concatenated\n"
          ]
        }
      ],
      "source": [
        "sliding_window_X, sliding_window_y = SlidingWindowPanel(window_len=14, unique_id_cols=[\n",
        "                                                        'name'], get_x=x_cols, get_y=['NDVI_mean_shift'], stride=1)(df_shift14)\n"
      ]
    },
    {
      "cell_type": "code",
      "execution_count": 12,
      "metadata": {
        "colab": {
          "base_uri": "https://localhost:8080/"
        },
        "id": "-DeEkIlNKkJ2",
        "outputId": "befb695b-acc2-458b-9d7d-489085476304"
      },
      "outputs": [
        {
          "data": {
            "text/plain": [
              "(1139006, 5, 14)"
            ]
          },
          "execution_count": 12,
          "metadata": {},
          "output_type": "execute_result"
        }
      ],
      "source": [
        "sliding_window_X.shape"
      ]
    },
    {
      "cell_type": "code",
      "execution_count": 13,
      "metadata": {
        "id": "OazlxhzRKkJ2"
      },
      "outputs": [],
      "source": [
        "X_train, X_test, y_train, y_test = train_test_split(sliding_window_X, sliding_window_y,\n",
        "                                                    random_state=42, shuffle=False, test_size=0.2)"
      ]
    },
    {
      "cell_type": "code",
      "execution_count": 14,
      "metadata": {
        "colab": {
          "base_uri": "https://localhost:8080/"
        },
        "id": "lsOiiMiTMXwq",
        "outputId": "c348ac2e-9bbb-4071-88c8-62612c5f4621"
      },
      "outputs": [
        {
          "data": {
            "text/plain": [
              "(911204, 5, 14)"
            ]
          },
          "execution_count": 14,
          "metadata": {},
          "output_type": "execute_result"
        }
      ],
      "source": [
        "X_train.shape"
      ]
    },
    {
      "cell_type": "code",
      "execution_count": 15,
      "metadata": {
        "colab": {
          "base_uri": "https://localhost:8080/"
        },
        "id": "BM3f7lAnKkJ2",
        "outputId": "82fbab47-b3ec-44ae-81ea-4a3050b6b03c"
      },
      "outputs": [
        {
          "data": {
            "text/plain": [
              "(14, 911204, 5)"
            ]
          },
          "execution_count": 15,
          "metadata": {},
          "output_type": "execute_result"
        }
      ],
      "source": [
        "X_train = np.moveaxis(X_train, 0, 1)\n",
        "X_train = np.moveaxis(X_train, 0, -1)\n",
        "X_train = np.moveaxis(X_train, 0, 1)\n",
        "X_train.shape"
      ]
    },
    {
      "cell_type": "code",
      "execution_count": 16,
      "metadata": {
        "colab": {
          "base_uri": "https://localhost:8080/"
        },
        "id": "Ihn2fb0uKkJ3",
        "outputId": "0935ced6-dada-45ea-98aa-5a8872cc2ca6"
      },
      "outputs": [
        {
          "data": {
            "text/plain": [
              "(14, 227802, 5)"
            ]
          },
          "execution_count": 16,
          "metadata": {},
          "output_type": "execute_result"
        }
      ],
      "source": [
        "X_test = np.moveaxis(X_test, 0, 1)\n",
        "X_test = np.moveaxis(X_test, 0, -1)\n",
        "X_test = np.moveaxis(X_test, 0, 1)\n",
        "X_test.shape"
      ]
    },
    {
      "cell_type": "code",
      "execution_count": 17,
      "metadata": {
        "colab": {
          "base_uri": "https://localhost:8080/"
        },
        "id": "EUcD5KMVKkJ3",
        "outputId": "37c05c1e-2a29-4639-b17b-bb21b1bf0bd1"
      },
      "outputs": [
        {
          "data": {
            "text/plain": [
              "[PhysicalDevice(name='/physical_device:CPU:0', device_type='CPU')]"
            ]
          },
          "execution_count": 17,
          "metadata": {},
          "output_type": "execute_result"
        }
      ],
      "source": [
        "import tensorflow as tf\n",
        "from tcn import TCN, compiled_tcn\n",
        "tf.config.list_physical_devices()\n"
      ]
    },
    {
      "cell_type": "code",
      "execution_count": 18,
      "metadata": {
        "id": "isROCzalKkJ3"
      },
      "outputs": [],
      "source": [
        "def root_mean_squared_error(y_true, y_pred):\n",
        "    return K.sqrt(K.mean(K.square(y_pred - y_true)))"
      ]
    },
    {
      "cell_type": "code",
      "execution_count": null,
      "metadata": {
        "id": "SXQeqcXdKkJ3"
      },
      "outputs": [],
      "source": [
        "model = compiled_tcn(num_feat=X_train.shape[-1], num_classes=1, nb_filters=64,\n",
        "                     kernel_size=6, dilations=[1, 2, 4, 8, 16, 32, 64], nb_stacks=2, max_len=911204)\n"
      ]
    },
    {
      "cell_type": "code",
      "execution_count": 17,
      "metadata": {
        "colab": {
          "base_uri": "https://localhost:8080/"
        },
        "id": "ohqko46vKkJ4",
        "outputId": "4740ffba-97d2-496f-e611-73d59e4949fb"
      },
      "outputs": [
        {
          "data": {
            "text/plain": [
              "(911204,)"
            ]
          },
          "execution_count": 17,
          "metadata": {},
          "output_type": "execute_result"
        }
      ],
      "source": [
        "y_train.shape"
      ]
    },
    {
      "cell_type": "code",
      "execution_count": null,
      "metadata": {
        "colab": {
          "base_uri": "https://localhost:8080/"
        },
        "id": "x_crR9ooKkJ4",
        "outputId": "2d3001c1-c3f4-42ad-dee1-d35755e9363b"
      },
      "outputs": [
        {
          "name": "stdout",
          "output_type": "stream",
          "text": [
            "Epoch 1/5\n"
          ]
        }
      ],
      "source": [
        "model.fit(X_train, y_train, epochs=5, batch_size=5, validation_split=0.1)"
      ]
    },
    {
      "cell_type": "code",
      "execution_count": 19,
      "metadata": {
        "id": "ImA_RuPeKkJ4"
      },
      "outputs": [],
      "source": [
        "def compile_model(swp_X):\n",
        "\n",
        "    # output tcn2\n",
        "    nb_features = swp_X.shape[2]\n",
        "\n",
        "    i = Input(shape=(swp_X.shape[1], nb_features))\n",
        "\n",
        "    m = TCN(nb_filters=64, kernel_size=3, dropout_rate=0.6, dilations=[\n",
        "            1, 2, 4, 8, 16, 32], return_sequences=True, activation='relu')(i)\n",
        "    m = TCN(nb_filters=32, dropout_rate=0.6, kernel_size=3, dilations=[\n",
        "            1, 2, 4, 8, 16, 32], return_sequences=False, activation='relu')(m)\n",
        "    m = Dense(1, activation='linear')(m)\n",
        "    model = Model(inputs=[i], outputs=[m])\n",
        "\n",
        "    model.summary()\n",
        "    opt = tf.keras.optimizers.Adam()\n",
        "    model.compile(loss=root_mean_squared_error, optimizer=opt,\n",
        "                  metrics=['mae', root_mean_squared_error])\n",
        "    return model"
      ]
    },
    {
      "cell_type": "code",
      "execution_count": null,
      "metadata": {
        "colab": {
          "base_uri": "https://localhost:8080/"
        },
        "id": "YlgAQcuQKkJ4",
        "outputId": "004b66be-0a1f-4474-a781-df98ac4bf6d1"
      },
      "outputs": [
        {
          "name": "stdout",
          "output_type": "stream",
          "text": [
            "Model: \"model\"\n",
            "_________________________________________________________________\n",
            " Layer (type)                Output Shape              Param #   \n",
            "=================================================================\n",
            " input_1 (InputLayer)        [(None, 911204, 5)]       0         \n",
            "                                                                 \n",
            " tcn (TCN)                   (None, 911204, 64)        169408    \n",
            "                                                                 \n",
            " tcn_1 (TCN)                 (None, 32)                44608     \n",
            "                                                                 \n",
            " dense (Dense)               (None, 1)                 33        \n",
            "                                                                 \n",
            "=================================================================\n",
            "Total params: 214,049\n",
            "Trainable params: 214,049\n",
            "Non-trainable params: 0\n",
            "_________________________________________________________________\n",
            "Epoch 1/100\n"
          ]
        }
      ],
      "source": [
        "model = compile_model(X_train)\n",
        "history = model.fit(X_train, y_train, epochs=100, batch_size=5, validation_split=.1)"
      ]
    },
    {
      "cell_type": "code",
      "execution_count": null,
      "metadata": {
        "id": "ehlgZwsKKkJ5"
      },
      "outputs": [],
      "source": []
    }
  ],
  "metadata": {
    "colab": {
      "provenance": []
    },
    "kernelspec": {
      "display_name": "base",
      "language": "python",
      "name": "python3"
    },
    "language_info": {
      "codemirror_mode": {
        "name": "ipython",
        "version": 3
      },
      "file_extension": ".py",
      "mimetype": "text/x-python",
      "name": "python",
      "nbconvert_exporter": "python",
      "pygments_lexer": "ipython3",
      "version": "3.9.13 (main, Aug 25 2022, 23:51:50) [MSC v.1916 64 bit (AMD64)]"
    },
    "orig_nbformat": 4,
    "vscode": {
      "interpreter": {
        "hash": "ad2bdc8ecc057115af97d19610ffacc2b4e99fae6737bb82f5d7fb13d2f2c186"
      }
    }
  },
  "nbformat": 4,
  "nbformat_minor": 0
}
