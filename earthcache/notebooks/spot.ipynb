{
 "cells": [
  {
   "cell_type": "markdown",
   "metadata": {},
   "source": [
    "# SkyWatch EarthCache API Demonstration"
   ]
  },
  {
   "cell_type": "markdown",
   "metadata": {},
   "source": [
    "### Configure working environment and pathnames"
   ]
  },
  {
   "cell_type": "code",
   "execution_count": 7,
   "metadata": {},
   "outputs": [],
   "source": [
    "import os\n",
    "import pandas as pd"
   ]
  },
  {
   "cell_type": "code",
   "execution_count": 8,
   "metadata": {},
   "outputs": [
    {
     "data": {
      "text/plain": [
       "'/home/maxim/Documents/DSP/earthcache'"
      ]
     },
     "execution_count": 8,
     "metadata": {},
     "output_type": "execute_result"
    }
   ],
   "source": [
    "# define repo name and get root working directory\n",
    "repo = 'earthcache'\n",
    "root_path = os.getcwd()[ 0 : os.getcwd().find( repo ) + len ( repo )]\n",
    "root_path"
   ]
  },
  {
   "cell_type": "code",
   "execution_count": 9,
   "metadata": {},
   "outputs": [],
   "source": [
    "# add repo source + notebooks directory to system path\n",
    "import sys\n",
    "sys.path.insert(0, os.path.join( root_path, 'src' ) )\n",
    "sys.path.insert(0, os.path.join( root_path, 'notebooks' ) )"
   ]
  },
  {
   "cell_type": "code",
   "execution_count": 10,
   "metadata": {},
   "outputs": [
    {
     "data": {
      "text/plain": [
       "'/home/maxim/Documents/DSP/earthcache/cfg'"
      ]
     },
     "execution_count": 10,
     "metadata": {},
     "output_type": "execute_result"
    }
   ],
   "source": [
    "# get path to configuration files\n",
    "cfg_path = os.path.join( root_path, 'cfg' )\n",
    "cfg_path"
   ]
  },
  {
   "cell_type": "code",
   "execution_count": 11,
   "metadata": {},
   "outputs": [],
   "source": [
    "#pip install client"
   ]
  },
  {
   "cell_type": "markdown",
   "metadata": {},
   "source": [
    "### Create instance of client class and search criterion"
   ]
  },
  {
   "cell_type": "code",
   "execution_count": 12,
   "metadata": {},
   "outputs": [
    {
     "ename": "ModuleNotFoundError",
     "evalue": "No module named 'client'",
     "output_type": "error",
     "traceback": [
      "\u001b[0;31m---------------------------------------------------------------------------\u001b[0m",
      "\u001b[0;31mModuleNotFoundError\u001b[0m                       Traceback (most recent call last)",
      "Cell \u001b[0;32mIn [12], line 2\u001b[0m\n\u001b[1;32m      1\u001b[0m \u001b[38;5;66;03m# create instance of shclient class\u001b[39;00m\n\u001b[0;32m----> 2\u001b[0m \u001b[38;5;28;01mfrom\u001b[39;00m \u001b[38;5;21;01mclient\u001b[39;00m \u001b[38;5;28;01mimport\u001b[39;00m EcClient\n\u001b[1;32m      3\u001b[0m client \u001b[38;5;241m=\u001b[39m EcClient( cfg_path, max_cost\u001b[38;5;241m=\u001b[39m\u001b[38;5;241m10\u001b[39m )\n",
      "\u001b[0;31mModuleNotFoundError\u001b[0m: No module named 'client'"
     ]
    }
   ],
   "source": [
    "# create instance of shclient class\n",
    "from client import EcClient\n",
    "client = EcClient( cfg_path, max_cost=10 )"
   ]
  },
  {
   "cell_type": "code",
   "execution_count": null,
   "metadata": {},
   "outputs": [],
   "source": [
    "# define geojson aoi collated with my house\n",
    "aoi = { \"type\": \"Polygon\", \n",
    "        \"coordinates\": [ [ \n",
    "                            [ -2.665678, 51.201079 ], \n",
    "                            [ -2.657440, 51.201079 ], \n",
    "                            [ -2.657440, 51.211206 ], \n",
    "                            [ -2.665678, 51.211206 ], \n",
    "                            [ -2.665678, 51.201079 ] \n",
    "                            ] ] \n",
    "    }"
   ]
  },
  {
   "cell_type": "code",
   "execution_count": null,
   "metadata": {},
   "outputs": [],
   "source": [
    "# examine back-catalogues for 2019-2020\n",
    "window = { 'start_date' : '2019-01-01', 'end_date' : '2020-12-31' }"
   ]
  },
  {
   "cell_type": "markdown",
   "metadata": {},
   "source": [
    "### Identify medium resolution archived imagery satisfying spatiotemporal contraints"
   ]
  },
  {
   "cell_type": "code",
   "execution_count": null,
   "metadata": {},
   "outputs": [],
   "source": [
    "# first look for coincident medium resolution scenes\n",
    "resolution = [ 'medium' ]\n",
    "status, result, search_id = client.processSearch(   aoi, \n",
    "                                                    window, \n",
    "                                                    resolution=resolution, \n",
    "                                                    coverage=30, \n",
    "                                                    delay=3 )\n",
    "status, search_id"
   ]
  },
  {
   "cell_type": "code",
   "execution_count": null,
   "metadata": {},
   "outputs": [],
   "source": [
    "# encode json response into dataframe\n",
    "search_df = pd.DataFrame( result[ 'data' ] )\n",
    "search_df = search_df.sort_values( 'result_cloud_cover_percentage' )\n",
    "search_df"
   ]
  },
  {
   "cell_type": "markdown",
   "metadata": {},
   "source": [
    "### Review and create pipeline configuration from archive search result"
   ]
  },
  {
   "cell_type": "code",
   "execution_count": null,
   "metadata": {},
   "outputs": [],
   "source": [
    "# get pipeline configuration\n",
    "status, result = client.getPipelines()"
   ]
  },
  {
   "cell_type": "code",
   "execution_count": null,
   "metadata": {},
   "outputs": [],
   "source": [
    "# parse response into dataframe and print\n",
    "pipeline_df = pd.DataFrame( result[ 'data'] )\n",
    "pipeline_df"
   ]
  },
  {
   "cell_type": "code",
   "execution_count": null,
   "metadata": {},
   "outputs": [],
   "source": [
    "# get id of true colour image output\n",
    "output_id = client.getOutputIdFromName( 'True Colour Image' )\n",
    "output_id"
   ]
  },
  {
   "cell_type": "code",
   "execution_count": null,
   "metadata": {},
   "outputs": [],
   "source": [
    "# get unique id for scene with least cloud contamination\n",
    "search_results = search_df.iloc[ 0 ].id\n",
    "search_results"
   ]
  },
  {
   "cell_type": "code",
   "execution_count": null,
   "metadata": {},
   "outputs": [],
   "source": [
    "# create pipeline from search results\n",
    "status, result = client.createPipelineFromSearch(   search_id, \n",
    "                                                    search_results, \n",
    "                                                    name='wells_skywatch',\n",
    "                                                    output={    \"id\": output_id,\n",
    "                                                                \"format\": \"geotiff\",\n",
    "                                                                \"mosaic\": \"off\"\n",
    "                                                    }\n",
    "                                            )\n"
   ]
  },
  {
   "cell_type": "code",
   "execution_count": null,
   "metadata": {},
   "outputs": [],
   "source": [
    "# response from server - status is pending\n",
    "status, result"
   ]
  },
  {
   "cell_type": "markdown",
   "metadata": {},
   "source": [
    "### Check pipeline created successfully and await delivery of images"
   ]
  },
  {
   "cell_type": "code",
   "execution_count": null,
   "metadata": {},
   "outputs": [],
   "source": [
    "# get pipeline id\n",
    "pipeline_id = client.getPipelineIdFromName( 'wells_skywatch')\n",
    "pipeline_id"
   ]
  },
  {
   "cell_type": "code",
   "execution_count": null,
   "metadata": {},
   "outputs": [],
   "source": [
    "# get status - its active !\n",
    "status, result = client.getPipeline( pipeline_id )\n",
    "status, result"
   ]
  },
  {
   "cell_type": "code",
   "execution_count": null,
   "metadata": {},
   "outputs": [],
   "source": [
    "# get interval results - check status / message (retrieving...)\n",
    "status, result = client.getIntervalResults( pipeline_id )\n",
    "status, result"
   ]
  },
  {
   "cell_type": "code",
   "execution_count": null,
   "metadata": {},
   "outputs": [],
   "source": [
    "# after 20 minutes, check status / message\n",
    "status, result = client.getIntervalResults( pipeline_id )\n",
    "status, result"
   ]
  },
  {
   "cell_type": "markdown",
   "metadata": {},
   "source": [
    "### Download image datasets, load and visualise data"
   ]
  },
  {
   "cell_type": "code",
   "execution_count": null,
   "metadata": {},
   "outputs": [],
   "source": [
    "# download image and metadata\n",
    "root_path = 'c:\\\\Users\\\\Chris.Williams\\\\Desktop\\\\earthcache-test'\n",
    "images = []\n",
    "\n",
    "# convert to dataframe\n",
    "df = pd.DataFrame( result[ 'data' ] )\n",
    "for row in df.itertuples():\n",
    "\n",
    "    out_path = os.path.join( root_path, row.id )\n",
    "    images.append( client.getImages( row.results, out_path ) )\n",
    "images"
   ]
  },
  {
   "cell_type": "code",
   "execution_count": null,
   "metadata": {},
   "outputs": [],
   "source": [
    "from osgeo import gdal\n",
    "import matplotlib.pyplot as plt\n",
    "  \n",
    "ds = gdal.Open( images[ 0 ][ 0 ] )\n",
    "data = ds.ReadAsArray()\n",
    "data"
   ]
  },
  {
   "cell_type": "code",
   "execution_count": null,
   "metadata": {},
   "outputs": [],
   "source": [
    "import numpy as np\n",
    "np.amin( data[ 0, : , : ]), np.amax( data[ 0, : , : ])"
   ]
  },
  {
   "cell_type": "code",
   "execution_count": null,
   "metadata": {},
   "outputs": [],
   "source": [
    "data.shape"
   ]
  },
  {
   "cell_type": "code",
   "execution_count": null,
   "metadata": {},
   "outputs": [],
   "source": [
    "plt.imshow( data[ 0, :, :] )\n",
    "plt.show()"
   ]
  },
  {
   "cell_type": "code",
   "execution_count": null,
   "metadata": {},
   "outputs": [],
   "source": []
  }
 ],
 "metadata": {
  "kernelspec": {
   "display_name": "Python 3 (ipykernel)",
   "language": "python",
   "name": "python3"
  },
  "language_info": {
   "codemirror_mode": {
    "name": "ipython",
    "version": 3
   },
   "file_extension": ".py",
   "mimetype": "text/x-python",
   "name": "python",
   "nbconvert_exporter": "python",
   "pygments_lexer": "ipython3",
   "version": "3.10.6"
  }
 },
 "nbformat": 4,
 "nbformat_minor": 2
}
