{
 "cells": [
  {
   "cell_type": "code",
   "execution_count": 5,
   "metadata": {},
   "outputs": [
    {
     "data": {
      "text/html": [
       "<p>To authorize access needed by Earth Engine, open the following\n",
       "        URL in a web browser and follow the instructions:</p>\n",
       "        <p><a href=https://code.earthengine.google.com/client-auth?scopes=https%3A//www.googleapis.com/auth/earthengine%20https%3A//www.googleapis.com/auth/devstorage.full_control&request_id=7qG5Chnf7-cYkisB8y9HMCM1VjBROg2kIVk3eRLX_RM&tc=d8-RMlRy9evnPqkJ8Vkpq54Grx0TorzOpIJZGa2g_d8&cc=q2ICCcHc8Itu_oYeCfcR7IX_BZVE84icIHFeO9CWIFk>https://code.earthengine.google.com/client-auth?scopes=https%3A//www.googleapis.com/auth/earthengine%20https%3A//www.googleapis.com/auth/devstorage.full_control&request_id=7qG5Chnf7-cYkisB8y9HMCM1VjBROg2kIVk3eRLX_RM&tc=d8-RMlRy9evnPqkJ8Vkpq54Grx0TorzOpIJZGa2g_d8&cc=q2ICCcHc8Itu_oYeCfcR7IX_BZVE84icIHFeO9CWIFk</a></p>\n",
       "        <p>The authorization workflow will generate a code, which you should paste in the box below.</p>\n",
       "        "
      ],
      "text/plain": [
       "<IPython.core.display.HTML object>"
      ]
     },
     "metadata": {},
     "output_type": "display_data"
    },
    {
     "name": "stdout",
     "output_type": "stream",
     "text": [
      "\n",
      "Successfully saved authorization token.\n"
     ]
    }
   ],
   "source": [
    "import ee\n",
    "\n",
    "# Trigger the authentication flow.\n",
    "ee.Authenticate()\n",
    "\n",
    "# Initialize the library.\n",
    "ee.Initialize()"
   ]
  },
  {
   "cell_type": "code",
   "execution_count": 7,
   "metadata": {},
   "outputs": [],
   "source": [
    "col_filter = ee.Filter.And(ee.Filter.bounds(ee.Geometry.Point(20.6729, 52.4305)),\n",
    "                           ee.Filter.date('2020-03-02', '2020-04-02'))\n",
    "dynamic = ee.ImageCollection(\"GOOGLE/DYNAMICWORLD/V1\").filter(col_filter)\n",
    "s2col = ee.ImageCollection('COPERNICUS/S2').filter(col_filter)\n",
    "\n",
    "dys2col = ee.Join.saveFirst('s2_img').apply(dynamic, s2col, ee.Filter.equals(\n",
    "    {leftField: 'system:index', rightField: 'system:index'}))\n",
    "\n",
    "dwimg = ee.Image(dys2col.first())\n",
    "s2img = ee.Image(dwimg.get('s2_img'))\n",
    "\n",
    "CLASS_NAMES = [\n",
    "    'water', 'trees', 'grass', 'flooded_vegetation', 'crops',\n",
    "    'shrub_and_scrub', 'built', 'bare', 'snow_and_ice']\n",
    "\n",
    "VIS_PALETTE = [\n",
    "    '419BDF', '397D49', '88B053', '7A87C6',\n",
    "    'E49635', 'DFC35A', 'C4281B', 'A59B8F',\n",
    "    'B39FE1']\n",
    "\n",
    "dwRgb = dwimg.select('label').visualize(\n",
    "    {min: 0, max: 8, palette: VIS_PALETTE}).divide(255)\n"
   ]
  }
 ],
 "metadata": {
  "kernelspec": {
   "display_name": "Python 3.9.13 ('base')",
   "language": "python",
   "name": "python3"
  },
  "language_info": {
   "codemirror_mode": {
    "name": "ipython",
    "version": 3
   },
   "file_extension": ".py",
   "mimetype": "text/x-python",
   "name": "python",
   "nbconvert_exporter": "python",
   "pygments_lexer": "ipython3",
   "version": "3.9.13 (main, Aug 25 2022, 23:51:50) [MSC v.1916 64 bit (AMD64)]"
  },
  "orig_nbformat": 4,
  "vscode": {
   "interpreter": {
    "hash": "ad2bdc8ecc057115af97d19610ffacc2b4e99fae6737bb82f5d7fb13d2f2c186"
   }
  }
 },
 "nbformat": 4,
 "nbformat_minor": 2
}
